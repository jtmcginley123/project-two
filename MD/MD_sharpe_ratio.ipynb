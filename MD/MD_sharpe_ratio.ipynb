{
 "metadata": {
  "language_info": {
   "codemirror_mode": {
    "name": "ipython",
    "version": 3
   },
   "file_extension": ".py",
   "mimetype": "text/x-python",
   "name": "python",
   "nbconvert_exporter": "python",
   "pygments_lexer": "ipython3",
   "version": "3.8.3-final"
  },
  "orig_nbformat": 2,
  "kernelspec": {
   "name": "python3",
   "display_name": "Python 3",
   "language": "python"
  }
 },
 "nbformat": 4,
 "nbformat_minor": 2,
 "cells": [
  {
   "cell_type": "code",
   "execution_count": 4,
   "metadata": {},
   "outputs": [],
   "source": [
    "import requests\n",
    "from dotenv import load_dotenv\n",
    "import os \n",
    "import pandas as pd\n",
    "import numpy as np\n",
    "import alpaca_trade_api as tradeapi\n",
    "# from MCForecastTools import MCSimulation\n",
    "import json\n",
    "import matplotlib.pyplot as plt"
   ]
  },
  {
   "cell_type": "code",
   "execution_count": 5,
   "metadata": {},
   "outputs": [
    {
     "output_type": "execute_result",
     "data": {
      "text/plain": [
       "True"
      ]
     },
     "metadata": {},
     "execution_count": 5
    }
   ],
   "source": [
    "load_dotenv()"
   ]
  },
  {
   "cell_type": "code",
   "execution_count": 6,
   "metadata": {},
   "outputs": [],
   "source": [
    "alpaca_api_key = os.getenv(\"alpaca_api_key\")\n",
    "alpaca_secret_key = os.getenv(\"alpaca_secret_key\")"
   ]
  },
  {
   "cell_type": "code",
   "execution_count": 7,
   "metadata": {},
   "outputs": [],
   "source": [
    "alpaca = tradeapi.REST(\n",
    "    alpaca_api_key,\n",
    "    alpaca_secret_key,\n",
    "    api_version= \"v2\")"
   ]
  },
  {
   "cell_type": "code",
   "execution_count": 8,
   "metadata": {},
   "outputs": [
    {
     "output_type": "stream",
     "name": "stdout",
     "text": [
      "Alpaca Key type: <class 'str'>\nAlpca Secret Key type: <class 'str'>\n"
     ]
    }
   ],
   "source": [
    "print(f\"Alpaca Key type: {type(alpaca_api_key)}\")\n",
    "print(f\"Alpca Secret Key type: {type(alpaca_secret_key)}\")"
   ]
  },
  {
   "cell_type": "code",
   "execution_count": 9,
   "metadata": {},
   "outputs": [],
   "source": [
    "current_date = pd.Timestamp(\"2020-01-05\", tz=\"America/New_York\").isoformat()\n",
    "\n",
    "tickers = [\"SPY\", \"AAPL\", \"TSLA\", \"GE\", \"F\", \"MSFT\",\"NIO\", \"PFE\", \"AMZN\",\"AAL\",\"DIS\",\"PLUG\"]\n",
    "\n",
    "\n",
    "timeframe = \"1D\""
   ]
  },
  {
   "cell_type": "code",
   "execution_count": 10,
   "metadata": {},
   "outputs": [
    {
     "output_type": "execute_result",
     "data": {
      "text/plain": [
       "                             AAL                                      AAPL  \\\n",
       "                            open     high    low   close    volume    open   \n",
       "time                                                                         \n",
       "2020-01-06 00:00:00-05:00  27.19  27.4901  27.08  27.320   5383583  293.79   \n",
       "2020-01-07 00:00:00-05:00  27.56  27.6800  27.06  27.220   5570129  299.84   \n",
       "2020-01-08 00:00:00-05:00  27.21  28.0900  27.10  27.840   9479470  297.16   \n",
       "2020-01-09 00:00:00-05:00  28.09  28.2300  27.71  27.950   5923245  307.25   \n",
       "2020-01-10 00:00:00-05:00  27.93  27.9900  27.25  27.320   7291102  310.60   \n",
       "...                          ...      ...    ...     ...       ...     ...   \n",
       "2021-01-04 00:00:00-05:00  15.85  15.8800  15.03  15.120  68479594  133.52   \n",
       "2021-01-05 00:00:00-05:00  14.92  15.6300  14.87  15.430  51109216  128.89   \n",
       "2021-01-06 00:00:00-05:00  15.45  15.8000  15.17  15.520  61348418  127.72   \n",
       "2021-01-07 00:00:00-05:00  15.67  15.8700  15.38  15.380  45503976  128.36   \n",
       "2021-01-08 00:00:00-05:00  15.43  15.5300  15.00  15.115  54302647  132.43   \n",
       "\n",
       "                                                                 ...  \\\n",
       "                               high      low   close     volume  ...   \n",
       "time                                                             ...   \n",
       "2020-01-06 00:00:00-05:00  299.9600  292.750  299.78   27487207  ...   \n",
       "2020-01-07 00:00:00-05:00  300.9000  297.480  298.27   24353387  ...   \n",
       "2020-01-08 00:00:00-05:00  304.4399  297.156  303.15   28984028  ...   \n",
       "2020-01-09 00:00:00-05:00  310.4300  306.200  309.71   38540792  ...   \n",
       "2020-01-10 00:00:00-05:00  312.6700  308.250  310.37   32304453  ...   \n",
       "...                             ...      ...     ...        ...  ...   \n",
       "2021-01-04 00:00:00-05:00  133.6116  126.760  129.41  123353442  ...   \n",
       "2021-01-05 00:00:00-05:00  131.7400  128.430  130.95   85139362  ...   \n",
       "2021-01-06 00:00:00-05:00  131.0499  126.382  126.58  142064548  ...   \n",
       "2021-01-07 00:00:00-05:00  131.6300  127.860  130.85   95314687  ...   \n",
       "2021-01-08 00:00:00-05:00  132.6300  130.230  131.99   93211863  ...   \n",
       "\n",
       "                                SPY                                      TSLA  \\\n",
       "                               open    high     low   close    volume    open   \n",
       "time                                                                            \n",
       "2020-01-06 00:00:00-05:00  320.4800  323.73  320.36  323.67  41271531  440.47   \n",
       "2020-01-07 00:00:00-05:00  323.0200  323.54  322.24  322.73  33333873  461.40   \n",
       "2020-01-08 00:00:00-05:00  322.9400  325.78  322.69  324.42  53033838  473.70   \n",
       "2020-01-09 00:00:00-05:00  326.1600  326.73  325.52  326.62  40652148  497.10   \n",
       "2020-01-10 00:00:00-05:00  327.2899  327.46  325.20  325.70  42585254  481.79   \n",
       "...                             ...     ...     ...     ...       ...     ...   \n",
       "2021-01-04 00:00:00-05:00  375.3100  375.45  364.82  368.85  92938087  719.46   \n",
       "2021-01-05 00:00:00-05:00  368.1000  372.50  368.05  371.32  53668865  723.66   \n",
       "2021-01-06 00:00:00-05:00  369.7100  376.98  369.12  373.53  91989131  758.49   \n",
       "2021-01-07 00:00:00-05:00  376.1000  379.90  375.91  379.06  58862006  777.63   \n",
       "2021-01-08 00:00:00-05:00  380.5900  381.49  377.10  381.24  60275466  856.00   \n",
       "\n",
       "                                                                   \n",
       "                               high       low     close    volume  \n",
       "time                                                               \n",
       "2020-01-06 00:00:00-05:00  451.5600  440.0000  451.4001   9807049  \n",
       "2020-01-07 00:00:00-05:00  471.6300  453.3550  469.1700  17164802  \n",
       "2020-01-08 00:00:00-05:00  498.4900  468.2300  492.0900  29492388  \n",
       "2020-01-09 00:00:00-05:00  498.8000  472.8700  481.4900  26229707  \n",
       "2020-01-10 00:00:00-05:00  484.9400  473.7000  477.9600  12193711  \n",
       "...                             ...       ...       ...       ...  \n",
       "2021-01-04 00:00:00-05:00  744.4899  717.1895  729.7500  45293360  \n",
       "2021-01-05 00:00:00-05:00  740.8400  719.2000  735.0550  28402584  \n",
       "2021-01-06 00:00:00-05:00  774.0000  749.1000  756.4600  41989335  \n",
       "2021-01-07 00:00:00-05:00  816.9900  775.2000  816.2400  48080256  \n",
       "2021-01-08 00:00:00-05:00  884.4900  838.3900  880.0300  71814487  \n",
       "\n",
       "[256 rows x 60 columns]"
      ],
      "text/html": "<div>\n<style scoped>\n    .dataframe tbody tr th:only-of-type {\n        vertical-align: middle;\n    }\n\n    .dataframe tbody tr th {\n        vertical-align: top;\n    }\n\n    .dataframe thead tr th {\n        text-align: left;\n    }\n\n    .dataframe thead tr:last-of-type th {\n        text-align: right;\n    }\n</style>\n<table border=\"1\" class=\"dataframe\">\n  <thead>\n    <tr>\n      <th></th>\n      <th colspan=\"5\" halign=\"left\">AAL</th>\n      <th colspan=\"5\" halign=\"left\">AAPL</th>\n      <th>...</th>\n      <th colspan=\"5\" halign=\"left\">SPY</th>\n      <th colspan=\"5\" halign=\"left\">TSLA</th>\n    </tr>\n    <tr>\n      <th></th>\n      <th>open</th>\n      <th>high</th>\n      <th>low</th>\n      <th>close</th>\n      <th>volume</th>\n      <th>open</th>\n      <th>high</th>\n      <th>low</th>\n      <th>close</th>\n      <th>volume</th>\n      <th>...</th>\n      <th>open</th>\n      <th>high</th>\n      <th>low</th>\n      <th>close</th>\n      <th>volume</th>\n      <th>open</th>\n      <th>high</th>\n      <th>low</th>\n      <th>close</th>\n      <th>volume</th>\n    </tr>\n    <tr>\n      <th>time</th>\n      <th></th>\n      <th></th>\n      <th></th>\n      <th></th>\n      <th></th>\n      <th></th>\n      <th></th>\n      <th></th>\n      <th></th>\n      <th></th>\n      <th></th>\n      <th></th>\n      <th></th>\n      <th></th>\n      <th></th>\n      <th></th>\n      <th></th>\n      <th></th>\n      <th></th>\n      <th></th>\n      <th></th>\n    </tr>\n  </thead>\n  <tbody>\n    <tr>\n      <th>2020-01-06 00:00:00-05:00</th>\n      <td>27.19</td>\n      <td>27.4901</td>\n      <td>27.08</td>\n      <td>27.320</td>\n      <td>5383583</td>\n      <td>293.79</td>\n      <td>299.9600</td>\n      <td>292.750</td>\n      <td>299.78</td>\n      <td>27487207</td>\n      <td>...</td>\n      <td>320.4800</td>\n      <td>323.73</td>\n      <td>320.36</td>\n      <td>323.67</td>\n      <td>41271531</td>\n      <td>440.47</td>\n      <td>451.5600</td>\n      <td>440.0000</td>\n      <td>451.4001</td>\n      <td>9807049</td>\n    </tr>\n    <tr>\n      <th>2020-01-07 00:00:00-05:00</th>\n      <td>27.56</td>\n      <td>27.6800</td>\n      <td>27.06</td>\n      <td>27.220</td>\n      <td>5570129</td>\n      <td>299.84</td>\n      <td>300.9000</td>\n      <td>297.480</td>\n      <td>298.27</td>\n      <td>24353387</td>\n      <td>...</td>\n      <td>323.0200</td>\n      <td>323.54</td>\n      <td>322.24</td>\n      <td>322.73</td>\n      <td>33333873</td>\n      <td>461.40</td>\n      <td>471.6300</td>\n      <td>453.3550</td>\n      <td>469.1700</td>\n      <td>17164802</td>\n    </tr>\n    <tr>\n      <th>2020-01-08 00:00:00-05:00</th>\n      <td>27.21</td>\n      <td>28.0900</td>\n      <td>27.10</td>\n      <td>27.840</td>\n      <td>9479470</td>\n      <td>297.16</td>\n      <td>304.4399</td>\n      <td>297.156</td>\n      <td>303.15</td>\n      <td>28984028</td>\n      <td>...</td>\n      <td>322.9400</td>\n      <td>325.78</td>\n      <td>322.69</td>\n      <td>324.42</td>\n      <td>53033838</td>\n      <td>473.70</td>\n      <td>498.4900</td>\n      <td>468.2300</td>\n      <td>492.0900</td>\n      <td>29492388</td>\n    </tr>\n    <tr>\n      <th>2020-01-09 00:00:00-05:00</th>\n      <td>28.09</td>\n      <td>28.2300</td>\n      <td>27.71</td>\n      <td>27.950</td>\n      <td>5923245</td>\n      <td>307.25</td>\n      <td>310.4300</td>\n      <td>306.200</td>\n      <td>309.71</td>\n      <td>38540792</td>\n      <td>...</td>\n      <td>326.1600</td>\n      <td>326.73</td>\n      <td>325.52</td>\n      <td>326.62</td>\n      <td>40652148</td>\n      <td>497.10</td>\n      <td>498.8000</td>\n      <td>472.8700</td>\n      <td>481.4900</td>\n      <td>26229707</td>\n    </tr>\n    <tr>\n      <th>2020-01-10 00:00:00-05:00</th>\n      <td>27.93</td>\n      <td>27.9900</td>\n      <td>27.25</td>\n      <td>27.320</td>\n      <td>7291102</td>\n      <td>310.60</td>\n      <td>312.6700</td>\n      <td>308.250</td>\n      <td>310.37</td>\n      <td>32304453</td>\n      <td>...</td>\n      <td>327.2899</td>\n      <td>327.46</td>\n      <td>325.20</td>\n      <td>325.70</td>\n      <td>42585254</td>\n      <td>481.79</td>\n      <td>484.9400</td>\n      <td>473.7000</td>\n      <td>477.9600</td>\n      <td>12193711</td>\n    </tr>\n    <tr>\n      <th>...</th>\n      <td>...</td>\n      <td>...</td>\n      <td>...</td>\n      <td>...</td>\n      <td>...</td>\n      <td>...</td>\n      <td>...</td>\n      <td>...</td>\n      <td>...</td>\n      <td>...</td>\n      <td>...</td>\n      <td>...</td>\n      <td>...</td>\n      <td>...</td>\n      <td>...</td>\n      <td>...</td>\n      <td>...</td>\n      <td>...</td>\n      <td>...</td>\n      <td>...</td>\n      <td>...</td>\n    </tr>\n    <tr>\n      <th>2021-01-04 00:00:00-05:00</th>\n      <td>15.85</td>\n      <td>15.8800</td>\n      <td>15.03</td>\n      <td>15.120</td>\n      <td>68479594</td>\n      <td>133.52</td>\n      <td>133.6116</td>\n      <td>126.760</td>\n      <td>129.41</td>\n      <td>123353442</td>\n      <td>...</td>\n      <td>375.3100</td>\n      <td>375.45</td>\n      <td>364.82</td>\n      <td>368.85</td>\n      <td>92938087</td>\n      <td>719.46</td>\n      <td>744.4899</td>\n      <td>717.1895</td>\n      <td>729.7500</td>\n      <td>45293360</td>\n    </tr>\n    <tr>\n      <th>2021-01-05 00:00:00-05:00</th>\n      <td>14.92</td>\n      <td>15.6300</td>\n      <td>14.87</td>\n      <td>15.430</td>\n      <td>51109216</td>\n      <td>128.89</td>\n      <td>131.7400</td>\n      <td>128.430</td>\n      <td>130.95</td>\n      <td>85139362</td>\n      <td>...</td>\n      <td>368.1000</td>\n      <td>372.50</td>\n      <td>368.05</td>\n      <td>371.32</td>\n      <td>53668865</td>\n      <td>723.66</td>\n      <td>740.8400</td>\n      <td>719.2000</td>\n      <td>735.0550</td>\n      <td>28402584</td>\n    </tr>\n    <tr>\n      <th>2021-01-06 00:00:00-05:00</th>\n      <td>15.45</td>\n      <td>15.8000</td>\n      <td>15.17</td>\n      <td>15.520</td>\n      <td>61348418</td>\n      <td>127.72</td>\n      <td>131.0499</td>\n      <td>126.382</td>\n      <td>126.58</td>\n      <td>142064548</td>\n      <td>...</td>\n      <td>369.7100</td>\n      <td>376.98</td>\n      <td>369.12</td>\n      <td>373.53</td>\n      <td>91989131</td>\n      <td>758.49</td>\n      <td>774.0000</td>\n      <td>749.1000</td>\n      <td>756.4600</td>\n      <td>41989335</td>\n    </tr>\n    <tr>\n      <th>2021-01-07 00:00:00-05:00</th>\n      <td>15.67</td>\n      <td>15.8700</td>\n      <td>15.38</td>\n      <td>15.380</td>\n      <td>45503976</td>\n      <td>128.36</td>\n      <td>131.6300</td>\n      <td>127.860</td>\n      <td>130.85</td>\n      <td>95314687</td>\n      <td>...</td>\n      <td>376.1000</td>\n      <td>379.90</td>\n      <td>375.91</td>\n      <td>379.06</td>\n      <td>58862006</td>\n      <td>777.63</td>\n      <td>816.9900</td>\n      <td>775.2000</td>\n      <td>816.2400</td>\n      <td>48080256</td>\n    </tr>\n    <tr>\n      <th>2021-01-08 00:00:00-05:00</th>\n      <td>15.43</td>\n      <td>15.5300</td>\n      <td>15.00</td>\n      <td>15.115</td>\n      <td>54302647</td>\n      <td>132.43</td>\n      <td>132.6300</td>\n      <td>130.230</td>\n      <td>131.99</td>\n      <td>93211863</td>\n      <td>...</td>\n      <td>380.5900</td>\n      <td>381.49</td>\n      <td>377.10</td>\n      <td>381.24</td>\n      <td>60275466</td>\n      <td>856.00</td>\n      <td>884.4900</td>\n      <td>838.3900</td>\n      <td>880.0300</td>\n      <td>71814487</td>\n    </tr>\n  </tbody>\n</table>\n<p>256 rows × 60 columns</p>\n</div>"
     },
     "metadata": {},
     "execution_count": 10
    }
   ],
   "source": [
    "df_ticker = alpaca.get_barset(\n",
    "    tickers,\n",
    "    timeframe,\n",
    "    start=current_date\n",
    ").df\n",
    "\n",
    "df_ticker"
   ]
  },
  {
   "cell_type": "code",
   "execution_count": 11,
   "metadata": {},
   "outputs": [
    {
     "output_type": "execute_result",
     "data": {
      "text/plain": [
       "                              SPY    AAPL      TSLA      GE       F    MSFT  \\\n",
       "time                                                                          \n",
       "2020-01-06 00:00:00-05:00  323.67  299.78  451.4001  12.140  9.1500  159.02   \n",
       "2020-01-07 00:00:00-05:00  322.73  298.27  469.1700  12.055  9.2500  157.60   \n",
       "2020-01-08 00:00:00-05:00  324.42  303.15  492.0900  11.930  9.2500  160.14   \n",
       "2020-01-09 00:00:00-05:00  326.62  309.71  481.4900  11.900  9.2750  162.09   \n",
       "2020-01-10 00:00:00-05:00  325.70  310.37  477.9600  11.670  9.2500  161.32   \n",
       "...                           ...     ...       ...     ...     ...     ...   \n",
       "2021-01-04 00:00:00-05:00  368.85  129.41  729.7500  10.470  8.5200  217.81   \n",
       "2021-01-05 00:00:00-05:00  371.32  130.95  735.0550  10.765  8.6450  218.01   \n",
       "2021-01-06 00:00:00-05:00  373.53  126.58  756.4600  11.360  8.8422  212.22   \n",
       "2021-01-07 00:00:00-05:00  379.06  130.85  816.2400  11.280  9.0500  218.29   \n",
       "2021-01-08 00:00:00-05:00  381.24  131.99  880.0300  11.340  9.0000  219.55   \n",
       "\n",
       "                               NIO    PFE     AMZN     AAL     DIS     PLUG  \n",
       "time                                                                         \n",
       "2020-01-06 00:00:00-05:00   3.6900  38.87  1903.33  27.320  145.65   3.8150  \n",
       "2020-01-07 00:00:00-05:00   3.2500  38.76  1906.86  27.220  145.68   3.8050  \n",
       "2020-01-08 00:00:00-05:00   3.3850  39.05  1892.09  27.840  145.45   4.0675  \n",
       "2020-01-09 00:00:00-05:00   3.4700  38.89  1901.00  27.950  144.80   4.0450  \n",
       "2020-01-10 00:00:00-05:00   3.5100  39.49  1882.98  27.320  144.60   4.1400  \n",
       "...                            ...    ...      ...     ...     ...      ...  \n",
       "2021-01-04 00:00:00-05:00  53.4816  36.82  3186.65  15.120  177.55  32.1800  \n",
       "2021-01-05 00:00:00-05:00  53.2000  37.19  3218.51  15.430  178.45  32.5500  \n",
       "2021-01-06 00:00:00-05:00  50.5234  36.88  3138.01  15.520  179.12  35.0000  \n",
       "2021-01-07 00:00:00-05:00  54.2500  37.05  3161.41  15.380  178.58  47.3000  \n",
       "2021-01-08 00:00:00-05:00  58.9100  37.12  3182.70  15.115  178.68  53.7788  \n",
       "\n",
       "[256 rows x 12 columns]"
      ],
      "text/html": "<div>\n<style scoped>\n    .dataframe tbody tr th:only-of-type {\n        vertical-align: middle;\n    }\n\n    .dataframe tbody tr th {\n        vertical-align: top;\n    }\n\n    .dataframe thead th {\n        text-align: right;\n    }\n</style>\n<table border=\"1\" class=\"dataframe\">\n  <thead>\n    <tr style=\"text-align: right;\">\n      <th></th>\n      <th>SPY</th>\n      <th>AAPL</th>\n      <th>TSLA</th>\n      <th>GE</th>\n      <th>F</th>\n      <th>MSFT</th>\n      <th>NIO</th>\n      <th>PFE</th>\n      <th>AMZN</th>\n      <th>AAL</th>\n      <th>DIS</th>\n      <th>PLUG</th>\n    </tr>\n    <tr>\n      <th>time</th>\n      <th></th>\n      <th></th>\n      <th></th>\n      <th></th>\n      <th></th>\n      <th></th>\n      <th></th>\n      <th></th>\n      <th></th>\n      <th></th>\n      <th></th>\n      <th></th>\n    </tr>\n  </thead>\n  <tbody>\n    <tr>\n      <th>2020-01-06 00:00:00-05:00</th>\n      <td>323.67</td>\n      <td>299.78</td>\n      <td>451.4001</td>\n      <td>12.140</td>\n      <td>9.1500</td>\n      <td>159.02</td>\n      <td>3.6900</td>\n      <td>38.87</td>\n      <td>1903.33</td>\n      <td>27.320</td>\n      <td>145.65</td>\n      <td>3.8150</td>\n    </tr>\n    <tr>\n      <th>2020-01-07 00:00:00-05:00</th>\n      <td>322.73</td>\n      <td>298.27</td>\n      <td>469.1700</td>\n      <td>12.055</td>\n      <td>9.2500</td>\n      <td>157.60</td>\n      <td>3.2500</td>\n      <td>38.76</td>\n      <td>1906.86</td>\n      <td>27.220</td>\n      <td>145.68</td>\n      <td>3.8050</td>\n    </tr>\n    <tr>\n      <th>2020-01-08 00:00:00-05:00</th>\n      <td>324.42</td>\n      <td>303.15</td>\n      <td>492.0900</td>\n      <td>11.930</td>\n      <td>9.2500</td>\n      <td>160.14</td>\n      <td>3.3850</td>\n      <td>39.05</td>\n      <td>1892.09</td>\n      <td>27.840</td>\n      <td>145.45</td>\n      <td>4.0675</td>\n    </tr>\n    <tr>\n      <th>2020-01-09 00:00:00-05:00</th>\n      <td>326.62</td>\n      <td>309.71</td>\n      <td>481.4900</td>\n      <td>11.900</td>\n      <td>9.2750</td>\n      <td>162.09</td>\n      <td>3.4700</td>\n      <td>38.89</td>\n      <td>1901.00</td>\n      <td>27.950</td>\n      <td>144.80</td>\n      <td>4.0450</td>\n    </tr>\n    <tr>\n      <th>2020-01-10 00:00:00-05:00</th>\n      <td>325.70</td>\n      <td>310.37</td>\n      <td>477.9600</td>\n      <td>11.670</td>\n      <td>9.2500</td>\n      <td>161.32</td>\n      <td>3.5100</td>\n      <td>39.49</td>\n      <td>1882.98</td>\n      <td>27.320</td>\n      <td>144.60</td>\n      <td>4.1400</td>\n    </tr>\n    <tr>\n      <th>...</th>\n      <td>...</td>\n      <td>...</td>\n      <td>...</td>\n      <td>...</td>\n      <td>...</td>\n      <td>...</td>\n      <td>...</td>\n      <td>...</td>\n      <td>...</td>\n      <td>...</td>\n      <td>...</td>\n      <td>...</td>\n    </tr>\n    <tr>\n      <th>2021-01-04 00:00:00-05:00</th>\n      <td>368.85</td>\n      <td>129.41</td>\n      <td>729.7500</td>\n      <td>10.470</td>\n      <td>8.5200</td>\n      <td>217.81</td>\n      <td>53.4816</td>\n      <td>36.82</td>\n      <td>3186.65</td>\n      <td>15.120</td>\n      <td>177.55</td>\n      <td>32.1800</td>\n    </tr>\n    <tr>\n      <th>2021-01-05 00:00:00-05:00</th>\n      <td>371.32</td>\n      <td>130.95</td>\n      <td>735.0550</td>\n      <td>10.765</td>\n      <td>8.6450</td>\n      <td>218.01</td>\n      <td>53.2000</td>\n      <td>37.19</td>\n      <td>3218.51</td>\n      <td>15.430</td>\n      <td>178.45</td>\n      <td>32.5500</td>\n    </tr>\n    <tr>\n      <th>2021-01-06 00:00:00-05:00</th>\n      <td>373.53</td>\n      <td>126.58</td>\n      <td>756.4600</td>\n      <td>11.360</td>\n      <td>8.8422</td>\n      <td>212.22</td>\n      <td>50.5234</td>\n      <td>36.88</td>\n      <td>3138.01</td>\n      <td>15.520</td>\n      <td>179.12</td>\n      <td>35.0000</td>\n    </tr>\n    <tr>\n      <th>2021-01-07 00:00:00-05:00</th>\n      <td>379.06</td>\n      <td>130.85</td>\n      <td>816.2400</td>\n      <td>11.280</td>\n      <td>9.0500</td>\n      <td>218.29</td>\n      <td>54.2500</td>\n      <td>37.05</td>\n      <td>3161.41</td>\n      <td>15.380</td>\n      <td>178.58</td>\n      <td>47.3000</td>\n    </tr>\n    <tr>\n      <th>2021-01-08 00:00:00-05:00</th>\n      <td>381.24</td>\n      <td>131.99</td>\n      <td>880.0300</td>\n      <td>11.340</td>\n      <td>9.0000</td>\n      <td>219.55</td>\n      <td>58.9100</td>\n      <td>37.12</td>\n      <td>3182.70</td>\n      <td>15.115</td>\n      <td>178.68</td>\n      <td>53.7788</td>\n    </tr>\n  </tbody>\n</table>\n<p>256 rows × 12 columns</p>\n</div>"
     },
     "metadata": {},
     "execution_count": 11
    }
   ],
   "source": [
    "df_closing_prices = pd.DataFrame()\n",
    "\n",
    "for ticker in tickers:\n",
    "    df_closing_prices[ticker] = df_ticker[ticker][\"close\"]\n",
    "\n",
    "df_closing_prices"
   ]
  },
  {
   "cell_type": "code",
   "execution_count": 12,
   "metadata": {},
   "outputs": [],
   "source": [
    "df_closing_prices.index = df_closing_prices.index.date"
   ]
  },
  {
   "cell_type": "code",
   "execution_count": 13,
   "metadata": {},
   "outputs": [
    {
     "output_type": "execute_result",
     "data": {
      "text/plain": [
       "               SPY    AAPL      TSLA      GE       F    MSFT      NIO    PFE  \\\n",
       "2020-01-06  323.67  299.78  451.4001  12.140  9.1500  159.02   3.6900  38.87   \n",
       "2020-01-07  322.73  298.27  469.1700  12.055  9.2500  157.60   3.2500  38.76   \n",
       "2020-01-08  324.42  303.15  492.0900  11.930  9.2500  160.14   3.3850  39.05   \n",
       "2020-01-09  326.62  309.71  481.4900  11.900  9.2750  162.09   3.4700  38.89   \n",
       "2020-01-10  325.70  310.37  477.9600  11.670  9.2500  161.32   3.5100  39.49   \n",
       "...            ...     ...       ...     ...     ...     ...      ...    ...   \n",
       "2021-01-04  368.85  129.41  729.7500  10.470  8.5200  217.81  53.4816  36.82   \n",
       "2021-01-05  371.32  130.95  735.0550  10.765  8.6450  218.01  53.2000  37.19   \n",
       "2021-01-06  373.53  126.58  756.4600  11.360  8.8422  212.22  50.5234  36.88   \n",
       "2021-01-07  379.06  130.85  816.2400  11.280  9.0500  218.29  54.2500  37.05   \n",
       "2021-01-08  381.24  131.99  880.0300  11.340  9.0000  219.55  58.9100  37.12   \n",
       "\n",
       "               AMZN     AAL     DIS     PLUG  \n",
       "2020-01-06  1903.33  27.320  145.65   3.8150  \n",
       "2020-01-07  1906.86  27.220  145.68   3.8050  \n",
       "2020-01-08  1892.09  27.840  145.45   4.0675  \n",
       "2020-01-09  1901.00  27.950  144.80   4.0450  \n",
       "2020-01-10  1882.98  27.320  144.60   4.1400  \n",
       "...             ...     ...     ...      ...  \n",
       "2021-01-04  3186.65  15.120  177.55  32.1800  \n",
       "2021-01-05  3218.51  15.430  178.45  32.5500  \n",
       "2021-01-06  3138.01  15.520  179.12  35.0000  \n",
       "2021-01-07  3161.41  15.380  178.58  47.3000  \n",
       "2021-01-08  3182.70  15.115  178.68  53.7788  \n",
       "\n",
       "[256 rows x 12 columns]"
      ],
      "text/html": "<div>\n<style scoped>\n    .dataframe tbody tr th:only-of-type {\n        vertical-align: middle;\n    }\n\n    .dataframe tbody tr th {\n        vertical-align: top;\n    }\n\n    .dataframe thead th {\n        text-align: right;\n    }\n</style>\n<table border=\"1\" class=\"dataframe\">\n  <thead>\n    <tr style=\"text-align: right;\">\n      <th></th>\n      <th>SPY</th>\n      <th>AAPL</th>\n      <th>TSLA</th>\n      <th>GE</th>\n      <th>F</th>\n      <th>MSFT</th>\n      <th>NIO</th>\n      <th>PFE</th>\n      <th>AMZN</th>\n      <th>AAL</th>\n      <th>DIS</th>\n      <th>PLUG</th>\n    </tr>\n  </thead>\n  <tbody>\n    <tr>\n      <th>2020-01-06</th>\n      <td>323.67</td>\n      <td>299.78</td>\n      <td>451.4001</td>\n      <td>12.140</td>\n      <td>9.1500</td>\n      <td>159.02</td>\n      <td>3.6900</td>\n      <td>38.87</td>\n      <td>1903.33</td>\n      <td>27.320</td>\n      <td>145.65</td>\n      <td>3.8150</td>\n    </tr>\n    <tr>\n      <th>2020-01-07</th>\n      <td>322.73</td>\n      <td>298.27</td>\n      <td>469.1700</td>\n      <td>12.055</td>\n      <td>9.2500</td>\n      <td>157.60</td>\n      <td>3.2500</td>\n      <td>38.76</td>\n      <td>1906.86</td>\n      <td>27.220</td>\n      <td>145.68</td>\n      <td>3.8050</td>\n    </tr>\n    <tr>\n      <th>2020-01-08</th>\n      <td>324.42</td>\n      <td>303.15</td>\n      <td>492.0900</td>\n      <td>11.930</td>\n      <td>9.2500</td>\n      <td>160.14</td>\n      <td>3.3850</td>\n      <td>39.05</td>\n      <td>1892.09</td>\n      <td>27.840</td>\n      <td>145.45</td>\n      <td>4.0675</td>\n    </tr>\n    <tr>\n      <th>2020-01-09</th>\n      <td>326.62</td>\n      <td>309.71</td>\n      <td>481.4900</td>\n      <td>11.900</td>\n      <td>9.2750</td>\n      <td>162.09</td>\n      <td>3.4700</td>\n      <td>38.89</td>\n      <td>1901.00</td>\n      <td>27.950</td>\n      <td>144.80</td>\n      <td>4.0450</td>\n    </tr>\n    <tr>\n      <th>2020-01-10</th>\n      <td>325.70</td>\n      <td>310.37</td>\n      <td>477.9600</td>\n      <td>11.670</td>\n      <td>9.2500</td>\n      <td>161.32</td>\n      <td>3.5100</td>\n      <td>39.49</td>\n      <td>1882.98</td>\n      <td>27.320</td>\n      <td>144.60</td>\n      <td>4.1400</td>\n    </tr>\n    <tr>\n      <th>...</th>\n      <td>...</td>\n      <td>...</td>\n      <td>...</td>\n      <td>...</td>\n      <td>...</td>\n      <td>...</td>\n      <td>...</td>\n      <td>...</td>\n      <td>...</td>\n      <td>...</td>\n      <td>...</td>\n      <td>...</td>\n    </tr>\n    <tr>\n      <th>2021-01-04</th>\n      <td>368.85</td>\n      <td>129.41</td>\n      <td>729.7500</td>\n      <td>10.470</td>\n      <td>8.5200</td>\n      <td>217.81</td>\n      <td>53.4816</td>\n      <td>36.82</td>\n      <td>3186.65</td>\n      <td>15.120</td>\n      <td>177.55</td>\n      <td>32.1800</td>\n    </tr>\n    <tr>\n      <th>2021-01-05</th>\n      <td>371.32</td>\n      <td>130.95</td>\n      <td>735.0550</td>\n      <td>10.765</td>\n      <td>8.6450</td>\n      <td>218.01</td>\n      <td>53.2000</td>\n      <td>37.19</td>\n      <td>3218.51</td>\n      <td>15.430</td>\n      <td>178.45</td>\n      <td>32.5500</td>\n    </tr>\n    <tr>\n      <th>2021-01-06</th>\n      <td>373.53</td>\n      <td>126.58</td>\n      <td>756.4600</td>\n      <td>11.360</td>\n      <td>8.8422</td>\n      <td>212.22</td>\n      <td>50.5234</td>\n      <td>36.88</td>\n      <td>3138.01</td>\n      <td>15.520</td>\n      <td>179.12</td>\n      <td>35.0000</td>\n    </tr>\n    <tr>\n      <th>2021-01-07</th>\n      <td>379.06</td>\n      <td>130.85</td>\n      <td>816.2400</td>\n      <td>11.280</td>\n      <td>9.0500</td>\n      <td>218.29</td>\n      <td>54.2500</td>\n      <td>37.05</td>\n      <td>3161.41</td>\n      <td>15.380</td>\n      <td>178.58</td>\n      <td>47.3000</td>\n    </tr>\n    <tr>\n      <th>2021-01-08</th>\n      <td>381.24</td>\n      <td>131.99</td>\n      <td>880.0300</td>\n      <td>11.340</td>\n      <td>9.0000</td>\n      <td>219.55</td>\n      <td>58.9100</td>\n      <td>37.12</td>\n      <td>3182.70</td>\n      <td>15.115</td>\n      <td>178.68</td>\n      <td>53.7788</td>\n    </tr>\n  </tbody>\n</table>\n<p>256 rows × 12 columns</p>\n</div>"
     },
     "metadata": {},
     "execution_count": 13
    }
   ],
   "source": [
    "df_closing_prices"
   ]
  },
  {
   "cell_type": "code",
   "execution_count": 14,
   "metadata": {},
   "outputs": [
    {
     "output_type": "execute_result",
     "data": {
      "text/plain": [
       "SPY      32.545612\n",
       "AAPL    114.462141\n",
       "TSLA    414.248134\n",
       "GE        2.218243\n",
       "F         1.435668\n",
       "MSFT     22.901721\n",
       "NIO      16.088980\n",
       "PFE       2.370542\n",
       "AMZN    541.645274\n",
       "AAL       5.545056\n",
       "DIS      20.254975\n",
       "PLUG      9.222576\n",
       "dtype: float64"
      ]
     },
     "metadata": {},
     "execution_count": 14
    }
   ],
   "source": [
    "df_closing_prices.std()"
   ]
  },
  {
   "cell_type": "code",
   "execution_count": 15,
   "metadata": {},
   "outputs": [
    {
     "output_type": "execute_result",
     "data": {
      "text/plain": [
       "               SPY    AAPL    TSLA     GE    F    MSFT    NIO    PFE    AMZN  \\\n",
       "2021-01-08  381.24  131.99  880.03  11.34  9.0  219.55  58.91  37.12  3182.7   \n",
       "\n",
       "               AAL     DIS     PLUG  \n",
       "2021-01-08  15.115  178.68  53.7788  "
      ],
      "text/html": "<div>\n<style scoped>\n    .dataframe tbody tr th:only-of-type {\n        vertical-align: middle;\n    }\n\n    .dataframe tbody tr th {\n        vertical-align: top;\n    }\n\n    .dataframe thead th {\n        text-align: right;\n    }\n</style>\n<table border=\"1\" class=\"dataframe\">\n  <thead>\n    <tr style=\"text-align: right;\">\n      <th></th>\n      <th>SPY</th>\n      <th>AAPL</th>\n      <th>TSLA</th>\n      <th>GE</th>\n      <th>F</th>\n      <th>MSFT</th>\n      <th>NIO</th>\n      <th>PFE</th>\n      <th>AMZN</th>\n      <th>AAL</th>\n      <th>DIS</th>\n      <th>PLUG</th>\n    </tr>\n  </thead>\n  <tbody>\n    <tr>\n      <th>2021-01-08</th>\n      <td>381.24</td>\n      <td>131.99</td>\n      <td>880.03</td>\n      <td>11.34</td>\n      <td>9.0</td>\n      <td>219.55</td>\n      <td>58.91</td>\n      <td>37.12</td>\n      <td>3182.7</td>\n      <td>15.115</td>\n      <td>178.68</td>\n      <td>53.7788</td>\n    </tr>\n  </tbody>\n</table>\n</div>"
     },
     "metadata": {},
     "execution_count": 15
    }
   ],
   "source": [
    "df_current_price = df_closing_prices.tail(1)\n",
    "df_current_price"
   ]
  },
  {
   "cell_type": "code",
   "execution_count": 16,
   "metadata": {},
   "outputs": [],
   "source": [
    "price_change_df = df_closing_prices.pct_change()\n",
    "daily_price_change = price_change_df.dropna()"
   ]
  },
  {
   "cell_type": "code",
   "execution_count": 17,
   "metadata": {},
   "outputs": [
    {
     "output_type": "execute_result",
     "data": {
      "text/plain": [
       "SPY     0.021511\n",
       "AAPL    0.055150\n",
       "TSLA    0.074280\n",
       "GE      0.039539\n",
       "F       0.035254\n",
       "MSFT    0.027783\n",
       "NIO     0.064549\n",
       "PFE     0.022620\n",
       "AMZN    0.024428\n",
       "AAL     0.065097\n",
       "DIS     0.030716\n",
       "PLUG    0.065023\n",
       "dtype: float64"
      ]
     },
     "metadata": {},
     "execution_count": 17
    }
   ],
   "source": [
    "daily_prices_std = daily_price_change.std()\n",
    "daily_prices_std"
   ]
  },
  {
   "cell_type": "code",
   "execution_count": 18,
   "metadata": {},
   "outputs": [
    {
     "output_type": "execute_result",
     "data": {
      "text/plain": [
       "SPY     0.341479\n",
       "AAPL    0.875474\n",
       "TSLA    1.179161\n",
       "GE      0.627663\n",
       "F       0.559634\n",
       "MSFT    0.441036\n",
       "NIO     1.024678\n",
       "PFE     0.359083\n",
       "AMZN    0.387783\n",
       "AAL     1.033384\n",
       "DIS     0.487598\n",
       "PLUG    1.032207\n",
       "dtype: float64"
      ]
     },
     "metadata": {},
     "execution_count": 18
    }
   ],
   "source": [
    "annual_std = daily_prices_std * np.sqrt(252)\n",
    "annual_std"
   ]
  },
  {
   "cell_type": "code",
   "execution_count": 19,
   "metadata": {},
   "outputs": [
    {
     "output_type": "execute_result",
     "data": {
      "text/plain": [
       "0.22045247662043305"
      ]
     },
     "metadata": {},
     "execution_count": 19
    }
   ],
   "source": [
    "SPY_df = daily_price_change[\"SPY\"]\n",
    "spy500_return = SPY_df.mean() * 252\n",
    "spy500_return"
   ]
  },
  {
   "cell_type": "code",
   "execution_count": 20,
   "metadata": {},
   "outputs": [
    {
     "output_type": "execute_result",
     "data": {
      "text/plain": [
       "      StandardDev\n",
       "SPY      0.341479\n",
       "AAPL     0.875474\n",
       "TSLA     1.179161\n",
       "GE       0.627663\n",
       "F        0.559634\n",
       "MSFT     0.441036\n",
       "NIO      1.024678\n",
       "PFE      0.359083\n",
       "AMZN     0.387783\n",
       "AAL      1.033384\n",
       "DIS      0.487598\n",
       "PLUG     1.032207"
      ],
      "text/html": "<div>\n<style scoped>\n    .dataframe tbody tr th:only-of-type {\n        vertical-align: middle;\n    }\n\n    .dataframe tbody tr th {\n        vertical-align: top;\n    }\n\n    .dataframe thead th {\n        text-align: right;\n    }\n</style>\n<table border=\"1\" class=\"dataframe\">\n  <thead>\n    <tr style=\"text-align: right;\">\n      <th></th>\n      <th>StandardDev</th>\n    </tr>\n  </thead>\n  <tbody>\n    <tr>\n      <th>SPY</th>\n      <td>0.341479</td>\n    </tr>\n    <tr>\n      <th>AAPL</th>\n      <td>0.875474</td>\n    </tr>\n    <tr>\n      <th>TSLA</th>\n      <td>1.179161</td>\n    </tr>\n    <tr>\n      <th>GE</th>\n      <td>0.627663</td>\n    </tr>\n    <tr>\n      <th>F</th>\n      <td>0.559634</td>\n    </tr>\n    <tr>\n      <th>MSFT</th>\n      <td>0.441036</td>\n    </tr>\n    <tr>\n      <th>NIO</th>\n      <td>1.024678</td>\n    </tr>\n    <tr>\n      <th>PFE</th>\n      <td>0.359083</td>\n    </tr>\n    <tr>\n      <th>AMZN</th>\n      <td>0.387783</td>\n    </tr>\n    <tr>\n      <th>AAL</th>\n      <td>1.033384</td>\n    </tr>\n    <tr>\n      <th>DIS</th>\n      <td>0.487598</td>\n    </tr>\n    <tr>\n      <th>PLUG</th>\n      <td>1.032207</td>\n    </tr>\n  </tbody>\n</table>\n</div>"
     },
     "metadata": {},
     "execution_count": 20
    }
   ],
   "source": [
    "standard_df = pd.DataFrame(annual_std, columns=[\"StandardDev\"])\n",
    "standard_df"
   ]
  },
  {
   "cell_type": "code",
   "execution_count": 21,
   "metadata": {},
   "outputs": [
    {
     "output_type": "execute_result",
     "data": {
      "text/plain": [
       "<AxesSubplot:>"
      ]
     },
     "metadata": {},
     "execution_count": 21
    },
    {
     "output_type": "display_data",
     "data": {
      "text/plain": "<Figure size 432x288 with 1 Axes>",
      "image/svg+xml": "<?xml version=\"1.0\" encoding=\"utf-8\" standalone=\"no\"?>\r\n<!DOCTYPE svg PUBLIC \"-//W3C//DTD SVG 1.1//EN\"\r\n  \"http://www.w3.org/Graphics/SVG/1.1/DTD/svg11.dtd\">\r\n<!-- Created with matplotlib (https://matplotlib.org/) -->\r\n<svg height=\"268.64pt\" version=\"1.1\" viewBox=\"0 0 380.482812 268.64\" width=\"380.482812pt\" xmlns=\"http://www.w3.org/2000/svg\" xmlns:xlink=\"http://www.w3.org/1999/xlink\">\r\n <metadata>\r\n  <rdf:RDF xmlns:cc=\"http://creativecommons.org/ns#\" xmlns:dc=\"http://purl.org/dc/elements/1.1/\" xmlns:rdf=\"http://www.w3.org/1999/02/22-rdf-syntax-ns#\">\r\n   <cc:Work>\r\n    <dc:type rdf:resource=\"http://purl.org/dc/dcmitype/StillImage\"/>\r\n    <dc:date>2021-01-09T11:52:00.562676</dc:date>\r\n    <dc:format>image/svg+xml</dc:format>\r\n    <dc:creator>\r\n     <cc:Agent>\r\n      <dc:title>Matplotlib v3.3.1, https://matplotlib.org/</dc:title>\r\n     </cc:Agent>\r\n    </dc:creator>\r\n   </cc:Work>\r\n  </rdf:RDF>\r\n </metadata>\r\n <defs>\r\n  <style type=\"text/css\">*{stroke-linecap:butt;stroke-linejoin:round;}</style>\r\n </defs>\r\n <g id=\"figure_1\">\r\n  <g id=\"patch_1\">\r\n   <path d=\"M -0 268.64 \r\nL 380.482812 268.64 \r\nL 380.482812 0 \r\nL -0 0 \r\nz\r\n\" style=\"fill:none;\"/>\r\n  </g>\r\n  <g id=\"axes_1\">\r\n   <g id=\"patch_2\">\r\n    <path d=\"M 38.482813 224.64 \r\nL 373.282813 224.64 \r\nL 373.282813 7.2 \r\nL 38.482813 7.2 \r\nz\r\n\" style=\"fill:#ffffff;\"/>\r\n   </g>\r\n   <g id=\"patch_3\">\r\n    <path clip-path=\"url(#p203711b696)\" d=\"M 45.457812 183.273459 \r\nL 59.407812 183.273459 \r\nL 59.407812 183.273459 \r\nL 45.457812 183.273459 \r\nz\r\n\" style=\"fill:#1f77b4;\"/>\r\n   </g>\r\n   <g id=\"patch_4\">\r\n    <path clip-path=\"url(#p203711b696)\" d=\"M 73.357812 183.273459 \r\nL 87.307812 183.273459 \r\nL 87.307812 203.540931 \r\nL 73.357812 203.540931 \r\nz\r\n\" style=\"fill:#1f77b4;\"/>\r\n   </g>\r\n   <g id=\"patch_5\">\r\n    <path clip-path=\"url(#p203711b696)\" d=\"M 101.257812 183.273459 \r\nL 115.207813 183.273459 \r\nL 115.207813 109.737814 \r\nL 101.257812 109.737814 \r\nz\r\n\" style=\"fill:#1f77b4;\"/>\r\n   </g>\r\n   <g id=\"patch_6\">\r\n    <path clip-path=\"url(#p203711b696)\" d=\"M 129.157812 183.273459 \r\nL 143.107812 183.273459 \r\nL 143.107812 191.429922 \r\nL 129.157812 191.429922 \r\nz\r\n\" style=\"fill:#1f77b4;\"/>\r\n   </g>\r\n   <g id=\"patch_7\">\r\n    <path clip-path=\"url(#p203711b696)\" d=\"M 157.057813 183.273459 \r\nL 171.007812 183.273459 \r\nL 171.007812 191.617984 \r\nL 157.057813 191.617984 \r\nz\r\n\" style=\"fill:#1f77b4;\"/>\r\n   </g>\r\n   <g id=\"patch_8\">\r\n    <path clip-path=\"url(#p203711b696)\" d=\"M 184.957812 183.273459 \r\nL 198.907812 183.273459 \r\nL 198.907812 158.420996 \r\nL 184.957812 158.420996 \r\nz\r\n\" style=\"fill:#1f77b4;\"/>\r\n   </g>\r\n   <g id=\"patch_9\">\r\n    <path clip-path=\"url(#p203711b696)\" d=\"M 212.857812 183.273459 \r\nL 226.807812 183.273459 \r\nL 226.807812 17.083636 \r\nL 212.857812 17.083636 \r\nz\r\n\" style=\"fill:#1f77b4;\"/>\r\n   </g>\r\n   <g id=\"patch_10\">\r\n    <path clip-path=\"url(#p203711b696)\" d=\"M 240.757812 183.273459 \r\nL 254.707812 183.273459 \r\nL 254.707812 214.756364 \r\nL 240.757812 214.756364 \r\nz\r\n\" style=\"fill:#1f77b4;\"/>\r\n   </g>\r\n   <g id=\"patch_11\">\r\n    <path clip-path=\"url(#p203711b696)\" d=\"M 268.657812 183.273459 \r\nL 282.607812 183.273459 \r\nL 282.607812 130.833754 \r\nL 268.657812 130.833754 \r\nz\r\n\" style=\"fill:#1f77b4;\"/>\r\n   </g>\r\n   <g id=\"patch_12\">\r\n    <path clip-path=\"url(#p203711b696)\" d=\"M 296.557813 183.273459 \r\nL 310.507812 183.273459 \r\nL 310.507812 199.332558 \r\nL 296.557813 199.332558 \r\nz\r\n\" style=\"fill:#1f77b4;\"/>\r\n   </g>\r\n   <g id=\"patch_13\">\r\n    <path clip-path=\"url(#p203711b696)\" d=\"M 324.457812 183.273459 \r\nL 338.407812 183.273459 \r\nL 338.407812 171.908242 \r\nL 324.457812 171.908242 \r\nz\r\n\" style=\"fill:#1f77b4;\"/>\r\n   </g>\r\n   <g id=\"patch_14\">\r\n    <path clip-path=\"url(#p203711b696)\" d=\"M 352.357813 183.273459 \r\nL 366.307813 183.273459 \r\nL 366.307813 24.758049 \r\nL 352.357813 24.758049 \r\nz\r\n\" style=\"fill:#1f77b4;\"/>\r\n   </g>\r\n   <g id=\"matplotlib.axis_1\">\r\n    <g id=\"xtick_1\">\r\n     <g id=\"line2d_1\">\r\n      <defs>\r\n       <path d=\"M 0 0 \r\nL 0 3.5 \r\n\" id=\"m89821dd6ba\" style=\"stroke:#000000;stroke-width:0.8;\"/>\r\n      </defs>\r\n      <g>\r\n       <use style=\"stroke:#000000;stroke-width:0.8;\" x=\"52.432812\" xlink:href=\"#m89821dd6ba\" y=\"224.64\"/>\r\n      </g>\r\n     </g>\r\n     <g id=\"text_1\">\r\n      <!-- SPY -->\r\n      <g transform=\"translate(55.192187 249.900937)rotate(-90)scale(0.1 -0.1)\">\r\n       <defs>\r\n        <path d=\"M 53.515625 70.515625 \r\nL 53.515625 60.890625 \r\nQ 47.90625 63.578125 42.921875 64.890625 \r\nQ 37.9375 66.21875 33.296875 66.21875 \r\nQ 25.25 66.21875 20.875 63.09375 \r\nQ 16.5 59.96875 16.5 54.203125 \r\nQ 16.5 49.359375 19.40625 46.890625 \r\nQ 22.3125 44.4375 30.421875 42.921875 \r\nL 36.375 41.703125 \r\nQ 47.40625 39.59375 52.65625 34.296875 \r\nQ 57.90625 29 57.90625 20.125 \r\nQ 57.90625 9.515625 50.796875 4.046875 \r\nQ 43.703125 -1.421875 29.984375 -1.421875 \r\nQ 24.8125 -1.421875 18.96875 -0.25 \r\nQ 13.140625 0.921875 6.890625 3.21875 \r\nL 6.890625 13.375 \r\nQ 12.890625 10.015625 18.65625 8.296875 \r\nQ 24.421875 6.59375 29.984375 6.59375 \r\nQ 38.421875 6.59375 43.015625 9.90625 \r\nQ 47.609375 13.234375 47.609375 19.390625 \r\nQ 47.609375 24.75 44.3125 27.78125 \r\nQ 41.015625 30.8125 33.5 32.328125 \r\nL 27.484375 33.5 \r\nQ 16.453125 35.6875 11.515625 40.375 \r\nQ 6.59375 45.0625 6.59375 53.421875 \r\nQ 6.59375 63.09375 13.40625 68.65625 \r\nQ 20.21875 74.21875 32.171875 74.21875 \r\nQ 37.3125 74.21875 42.625 73.28125 \r\nQ 47.953125 72.359375 53.515625 70.515625 \r\nz\r\n\" id=\"DejaVuSans-83\"/>\r\n        <path d=\"M 19.671875 64.796875 \r\nL 19.671875 37.40625 \r\nL 32.078125 37.40625 \r\nQ 38.96875 37.40625 42.71875 40.96875 \r\nQ 46.484375 44.53125 46.484375 51.125 \r\nQ 46.484375 57.671875 42.71875 61.234375 \r\nQ 38.96875 64.796875 32.078125 64.796875 \r\nz\r\nM 9.8125 72.90625 \r\nL 32.078125 72.90625 \r\nQ 44.34375 72.90625 50.609375 67.359375 \r\nQ 56.890625 61.8125 56.890625 51.125 \r\nQ 56.890625 40.328125 50.609375 34.8125 \r\nQ 44.34375 29.296875 32.078125 29.296875 \r\nL 19.671875 29.296875 \r\nL 19.671875 0 \r\nL 9.8125 0 \r\nz\r\n\" id=\"DejaVuSans-80\"/>\r\n        <path d=\"M -0.203125 72.90625 \r\nL 10.40625 72.90625 \r\nL 30.609375 42.921875 \r\nL 50.6875 72.90625 \r\nL 61.28125 72.90625 \r\nL 35.5 34.71875 \r\nL 35.5 0 \r\nL 25.59375 0 \r\nL 25.59375 34.71875 \r\nz\r\n\" id=\"DejaVuSans-89\"/>\r\n       </defs>\r\n       <use xlink:href=\"#DejaVuSans-83\"/>\r\n       <use x=\"63.476562\" xlink:href=\"#DejaVuSans-80\"/>\r\n       <use x=\"121.529297\" xlink:href=\"#DejaVuSans-89\"/>\r\n      </g>\r\n     </g>\r\n    </g>\r\n    <g id=\"xtick_2\">\r\n     <g id=\"line2d_2\">\r\n      <g>\r\n       <use style=\"stroke:#000000;stroke-width:0.8;\" x=\"80.332812\" xlink:href=\"#m89821dd6ba\" y=\"224.64\"/>\r\n      </g>\r\n     </g>\r\n     <g id=\"text_2\">\r\n      <!-- AAPL -->\r\n      <g transform=\"translate(83.092187 257.197812)rotate(-90)scale(0.1 -0.1)\">\r\n       <defs>\r\n        <path d=\"M 34.1875 63.1875 \r\nL 20.796875 26.90625 \r\nL 47.609375 26.90625 \r\nz\r\nM 28.609375 72.90625 \r\nL 39.796875 72.90625 \r\nL 67.578125 0 \r\nL 57.328125 0 \r\nL 50.6875 18.703125 \r\nL 17.828125 18.703125 \r\nL 11.1875 0 \r\nL 0.78125 0 \r\nz\r\n\" id=\"DejaVuSans-65\"/>\r\n        <path d=\"M 9.8125 72.90625 \r\nL 19.671875 72.90625 \r\nL 19.671875 8.296875 \r\nL 55.171875 8.296875 \r\nL 55.171875 0 \r\nL 9.8125 0 \r\nz\r\n\" id=\"DejaVuSans-76\"/>\r\n       </defs>\r\n       <use xlink:href=\"#DejaVuSans-65\"/>\r\n       <use x=\"71.158203\" xlink:href=\"#DejaVuSans-65\"/>\r\n       <use x=\"139.566406\" xlink:href=\"#DejaVuSans-80\"/>\r\n       <use x=\"199.869141\" xlink:href=\"#DejaVuSans-76\"/>\r\n      </g>\r\n     </g>\r\n    </g>\r\n    <g id=\"xtick_3\">\r\n     <g id=\"line2d_3\">\r\n      <g>\r\n       <use style=\"stroke:#000000;stroke-width:0.8;\" x=\"108.232812\" xlink:href=\"#m89821dd6ba\" y=\"224.64\"/>\r\n      </g>\r\n     </g>\r\n     <g id=\"text_3\">\r\n      <!-- TSLA -->\r\n      <g transform=\"translate(110.992188 256.73375)rotate(-90)scale(0.1 -0.1)\">\r\n       <defs>\r\n        <path d=\"M -0.296875 72.90625 \r\nL 61.375 72.90625 \r\nL 61.375 64.59375 \r\nL 35.5 64.59375 \r\nL 35.5 0 \r\nL 25.59375 0 \r\nL 25.59375 64.59375 \r\nL -0.296875 64.59375 \r\nz\r\n\" id=\"DejaVuSans-84\"/>\r\n       </defs>\r\n       <use xlink:href=\"#DejaVuSans-84\"/>\r\n       <use x=\"61.083984\" xlink:href=\"#DejaVuSans-83\"/>\r\n       <use x=\"124.560547\" xlink:href=\"#DejaVuSans-76\"/>\r\n       <use x=\"182.523438\" xlink:href=\"#DejaVuSans-65\"/>\r\n      </g>\r\n     </g>\r\n    </g>\r\n    <g id=\"xtick_4\">\r\n     <g id=\"line2d_4\">\r\n      <g>\r\n       <use style=\"stroke:#000000;stroke-width:0.8;\" x=\"136.132812\" xlink:href=\"#m89821dd6ba\" y=\"224.64\"/>\r\n      </g>\r\n     </g>\r\n     <g id=\"text_4\">\r\n      <!-- GE -->\r\n      <g transform=\"translate(138.892188 245.707187)rotate(-90)scale(0.1 -0.1)\">\r\n       <defs>\r\n        <path d=\"M 59.515625 10.40625 \r\nL 59.515625 29.984375 \r\nL 43.40625 29.984375 \r\nL 43.40625 38.09375 \r\nL 69.28125 38.09375 \r\nL 69.28125 6.78125 \r\nQ 63.578125 2.734375 56.6875 0.65625 \r\nQ 49.8125 -1.421875 42 -1.421875 \r\nQ 24.90625 -1.421875 15.25 8.5625 \r\nQ 5.609375 18.5625 5.609375 36.375 \r\nQ 5.609375 54.25 15.25 64.234375 \r\nQ 24.90625 74.21875 42 74.21875 \r\nQ 49.125 74.21875 55.546875 72.453125 \r\nQ 61.96875 70.703125 67.390625 67.28125 \r\nL 67.390625 56.78125 \r\nQ 61.921875 61.421875 55.765625 63.765625 \r\nQ 49.609375 66.109375 42.828125 66.109375 \r\nQ 29.4375 66.109375 22.71875 58.640625 \r\nQ 16.015625 51.171875 16.015625 36.375 \r\nQ 16.015625 21.625 22.71875 14.15625 \r\nQ 29.4375 6.6875 42.828125 6.6875 \r\nQ 48.046875 6.6875 52.140625 7.59375 \r\nQ 56.25 8.5 59.515625 10.40625 \r\nz\r\n\" id=\"DejaVuSans-71\"/>\r\n        <path d=\"M 9.8125 72.90625 \r\nL 55.90625 72.90625 \r\nL 55.90625 64.59375 \r\nL 19.671875 64.59375 \r\nL 19.671875 43.015625 \r\nL 54.390625 43.015625 \r\nL 54.390625 34.71875 \r\nL 19.671875 34.71875 \r\nL 19.671875 8.296875 \r\nL 56.78125 8.296875 \r\nL 56.78125 0 \r\nL 9.8125 0 \r\nz\r\n\" id=\"DejaVuSans-69\"/>\r\n       </defs>\r\n       <use xlink:href=\"#DejaVuSans-71\"/>\r\n       <use x=\"77.490234\" xlink:href=\"#DejaVuSans-69\"/>\r\n      </g>\r\n     </g>\r\n    </g>\r\n    <g id=\"xtick_5\">\r\n     <g id=\"line2d_5\">\r\n      <g>\r\n       <use style=\"stroke:#000000;stroke-width:0.8;\" x=\"164.032812\" xlink:href=\"#m89821dd6ba\" y=\"224.64\"/>\r\n      </g>\r\n     </g>\r\n     <g id=\"text_5\">\r\n      <!-- F -->\r\n      <g transform=\"translate(166.792187 237.391562)rotate(-90)scale(0.1 -0.1)\">\r\n       <defs>\r\n        <path d=\"M 9.8125 72.90625 \r\nL 51.703125 72.90625 \r\nL 51.703125 64.59375 \r\nL 19.671875 64.59375 \r\nL 19.671875 43.109375 \r\nL 48.578125 43.109375 \r\nL 48.578125 34.8125 \r\nL 19.671875 34.8125 \r\nL 19.671875 0 \r\nL 9.8125 0 \r\nz\r\n\" id=\"DejaVuSans-70\"/>\r\n       </defs>\r\n       <use xlink:href=\"#DejaVuSans-70\"/>\r\n      </g>\r\n     </g>\r\n    </g>\r\n    <g id=\"xtick_6\">\r\n     <g id=\"line2d_6\">\r\n      <g>\r\n       <use style=\"stroke:#000000;stroke-width:0.8;\" x=\"191.932813\" xlink:href=\"#m89821dd6ba\" y=\"224.64\"/>\r\n      </g>\r\n     </g>\r\n     <g id=\"text_6\">\r\n      <!-- MSFT -->\r\n      <g transform=\"translate(194.692188 258.300937)rotate(-90)scale(0.1 -0.1)\">\r\n       <defs>\r\n        <path d=\"M 9.8125 72.90625 \r\nL 24.515625 72.90625 \r\nL 43.109375 23.296875 \r\nL 61.8125 72.90625 \r\nL 76.515625 72.90625 \r\nL 76.515625 0 \r\nL 66.890625 0 \r\nL 66.890625 64.015625 \r\nL 48.09375 14.015625 \r\nL 38.1875 14.015625 \r\nL 19.390625 64.015625 \r\nL 19.390625 0 \r\nL 9.8125 0 \r\nz\r\n\" id=\"DejaVuSans-77\"/>\r\n       </defs>\r\n       <use xlink:href=\"#DejaVuSans-77\"/>\r\n       <use x=\"86.279297\" xlink:href=\"#DejaVuSans-83\"/>\r\n       <use x=\"149.755859\" xlink:href=\"#DejaVuSans-70\"/>\r\n       <use x=\"205.525391\" xlink:href=\"#DejaVuSans-84\"/>\r\n      </g>\r\n     </g>\r\n    </g>\r\n    <g id=\"xtick_7\">\r\n     <g id=\"line2d_7\">\r\n      <g>\r\n       <use style=\"stroke:#000000;stroke-width:0.8;\" x=\"219.832812\" xlink:href=\"#m89821dd6ba\" y=\"224.64\"/>\r\n      </g>\r\n     </g>\r\n     <g id=\"text_7\">\r\n      <!-- NIO -->\r\n      <g transform=\"translate(222.592187 249.943125)rotate(-90)scale(0.1 -0.1)\">\r\n       <defs>\r\n        <path d=\"M 9.8125 72.90625 \r\nL 23.09375 72.90625 \r\nL 55.421875 11.921875 \r\nL 55.421875 72.90625 \r\nL 64.984375 72.90625 \r\nL 64.984375 0 \r\nL 51.703125 0 \r\nL 19.390625 60.984375 \r\nL 19.390625 0 \r\nL 9.8125 0 \r\nz\r\n\" id=\"DejaVuSans-78\"/>\r\n        <path d=\"M 9.8125 72.90625 \r\nL 19.671875 72.90625 \r\nL 19.671875 0 \r\nL 9.8125 0 \r\nz\r\n\" id=\"DejaVuSans-73\"/>\r\n        <path d=\"M 39.40625 66.21875 \r\nQ 28.65625 66.21875 22.328125 58.203125 \r\nQ 16.015625 50.203125 16.015625 36.375 \r\nQ 16.015625 22.609375 22.328125 14.59375 \r\nQ 28.65625 6.59375 39.40625 6.59375 \r\nQ 50.140625 6.59375 56.421875 14.59375 \r\nQ 62.703125 22.609375 62.703125 36.375 \r\nQ 62.703125 50.203125 56.421875 58.203125 \r\nQ 50.140625 66.21875 39.40625 66.21875 \r\nz\r\nM 39.40625 74.21875 \r\nQ 54.734375 74.21875 63.90625 63.9375 \r\nQ 73.09375 53.65625 73.09375 36.375 \r\nQ 73.09375 19.140625 63.90625 8.859375 \r\nQ 54.734375 -1.421875 39.40625 -1.421875 \r\nQ 24.03125 -1.421875 14.8125 8.828125 \r\nQ 5.609375 19.09375 5.609375 36.375 \r\nQ 5.609375 53.65625 14.8125 63.9375 \r\nQ 24.03125 74.21875 39.40625 74.21875 \r\nz\r\n\" id=\"DejaVuSans-79\"/>\r\n       </defs>\r\n       <use xlink:href=\"#DejaVuSans-78\"/>\r\n       <use x=\"74.804688\" xlink:href=\"#DejaVuSans-73\"/>\r\n       <use x=\"104.296875\" xlink:href=\"#DejaVuSans-79\"/>\r\n      </g>\r\n     </g>\r\n    </g>\r\n    <g id=\"xtick_8\">\r\n     <g id=\"line2d_8\">\r\n      <g>\r\n       <use style=\"stroke:#000000;stroke-width:0.8;\" x=\"247.732812\" xlink:href=\"#m89821dd6ba\" y=\"224.64\"/>\r\n      </g>\r\n     </g>\r\n     <g id=\"text_8\">\r\n      <!-- PFE -->\r\n      <g transform=\"translate(250.492187 249.74)rotate(-90)scale(0.1 -0.1)\">\r\n       <use xlink:href=\"#DejaVuSans-80\"/>\r\n       <use x=\"60.302734\" xlink:href=\"#DejaVuSans-70\"/>\r\n       <use x=\"117.822266\" xlink:href=\"#DejaVuSans-69\"/>\r\n      </g>\r\n     </g>\r\n    </g>\r\n    <g id=\"xtick_9\">\r\n     <g id=\"line2d_9\">\r\n      <g>\r\n       <use style=\"stroke:#000000;stroke-width:0.8;\" x=\"275.632812\" xlink:href=\"#m89821dd6ba\" y=\"224.64\"/>\r\n      </g>\r\n     </g>\r\n     <g id=\"text_9\">\r\n      <!-- AMZN -->\r\n      <g transform=\"translate(278.392187 261.44)rotate(-90)scale(0.1 -0.1)\">\r\n       <defs>\r\n        <path d=\"M 5.609375 72.90625 \r\nL 62.890625 72.90625 \r\nL 62.890625 65.375 \r\nL 16.796875 8.296875 \r\nL 64.015625 8.296875 \r\nL 64.015625 0 \r\nL 4.5 0 \r\nL 4.5 7.515625 \r\nL 50.59375 64.59375 \r\nL 5.609375 64.59375 \r\nz\r\n\" id=\"DejaVuSans-90\"/>\r\n       </defs>\r\n       <use xlink:href=\"#DejaVuSans-65\"/>\r\n       <use x=\"68.408203\" xlink:href=\"#DejaVuSans-77\"/>\r\n       <use x=\"154.6875\" xlink:href=\"#DejaVuSans-90\"/>\r\n       <use x=\"223.193359\" xlink:href=\"#DejaVuSans-78\"/>\r\n      </g>\r\n     </g>\r\n    </g>\r\n    <g id=\"xtick_10\">\r\n     <g id=\"line2d_10\">\r\n      <g>\r\n       <use style=\"stroke:#000000;stroke-width:0.8;\" x=\"303.532812\" xlink:href=\"#m89821dd6ba\" y=\"224.64\"/>\r\n      </g>\r\n     </g>\r\n     <g id=\"text_10\">\r\n      <!-- AAL -->\r\n      <g transform=\"translate(306.292187 251.168125)rotate(-90)scale(0.1 -0.1)\">\r\n       <use xlink:href=\"#DejaVuSans-65\"/>\r\n       <use x=\"71.158203\" xlink:href=\"#DejaVuSans-65\"/>\r\n       <use x=\"139.566406\" xlink:href=\"#DejaVuSans-76\"/>\r\n      </g>\r\n     </g>\r\n    </g>\r\n    <g id=\"xtick_11\">\r\n     <g id=\"line2d_11\">\r\n      <g>\r\n       <use style=\"stroke:#000000;stroke-width:0.8;\" x=\"331.432813\" xlink:href=\"#m89821dd6ba\" y=\"224.64\"/>\r\n      </g>\r\n     </g>\r\n     <g id=\"text_11\">\r\n      <!-- DIS -->\r\n      <g transform=\"translate(334.192187 248.638437)rotate(-90)scale(0.1 -0.1)\">\r\n       <defs>\r\n        <path d=\"M 19.671875 64.796875 \r\nL 19.671875 8.109375 \r\nL 31.59375 8.109375 \r\nQ 46.6875 8.109375 53.6875 14.9375 \r\nQ 60.6875 21.78125 60.6875 36.53125 \r\nQ 60.6875 51.171875 53.6875 57.984375 \r\nQ 46.6875 64.796875 31.59375 64.796875 \r\nz\r\nM 9.8125 72.90625 \r\nL 30.078125 72.90625 \r\nQ 51.265625 72.90625 61.171875 64.09375 \r\nQ 71.09375 55.28125 71.09375 36.53125 \r\nQ 71.09375 17.671875 61.125 8.828125 \r\nQ 51.171875 0 30.078125 0 \r\nL 9.8125 0 \r\nz\r\n\" id=\"DejaVuSans-68\"/>\r\n       </defs>\r\n       <use xlink:href=\"#DejaVuSans-68\"/>\r\n       <use x=\"77.001953\" xlink:href=\"#DejaVuSans-73\"/>\r\n       <use x=\"106.494141\" xlink:href=\"#DejaVuSans-83\"/>\r\n      </g>\r\n     </g>\r\n    </g>\r\n    <g id=\"xtick_12\">\r\n     <g id=\"line2d_12\">\r\n      <g>\r\n       <use style=\"stroke:#000000;stroke-width:0.8;\" x=\"359.332812\" xlink:href=\"#m89821dd6ba\" y=\"224.64\"/>\r\n      </g>\r\n     </g>\r\n     <g id=\"text_12\">\r\n      <!-- PLUG -->\r\n      <g transform=\"translate(362.092187 257.80875)rotate(-90)scale(0.1 -0.1)\">\r\n       <defs>\r\n        <path d=\"M 8.6875 72.90625 \r\nL 18.609375 72.90625 \r\nL 18.609375 28.609375 \r\nQ 18.609375 16.890625 22.84375 11.734375 \r\nQ 27.09375 6.59375 36.625 6.59375 \r\nQ 46.09375 6.59375 50.34375 11.734375 \r\nQ 54.59375 16.890625 54.59375 28.609375 \r\nL 54.59375 72.90625 \r\nL 64.5 72.90625 \r\nL 64.5 27.390625 \r\nQ 64.5 13.140625 57.4375 5.859375 \r\nQ 50.390625 -1.421875 36.625 -1.421875 \r\nQ 22.796875 -1.421875 15.734375 5.859375 \r\nQ 8.6875 13.140625 8.6875 27.390625 \r\nz\r\n\" id=\"DejaVuSans-85\"/>\r\n       </defs>\r\n       <use xlink:href=\"#DejaVuSans-80\"/>\r\n       <use x=\"60.302734\" xlink:href=\"#DejaVuSans-76\"/>\r\n       <use x=\"111.015625\" xlink:href=\"#DejaVuSans-85\"/>\r\n       <use x=\"184.208984\" xlink:href=\"#DejaVuSans-71\"/>\r\n      </g>\r\n     </g>\r\n    </g>\r\n   </g>\r\n   <g id=\"matplotlib.axis_2\">\r\n    <g id=\"ytick_1\">\r\n     <g id=\"line2d_13\">\r\n      <defs>\r\n       <path d=\"M 0 0 \r\nL -3.5 0 \r\n\" id=\"m1ac07ad22a\" style=\"stroke:#000000;stroke-width:0.8;\"/>\r\n      </defs>\r\n      <g>\r\n       <use style=\"stroke:#000000;stroke-width:0.8;\" x=\"38.482813\" xlink:href=\"#m1ac07ad22a\" y=\"211.293776\"/>\r\n      </g>\r\n     </g>\r\n     <g id=\"text_13\">\r\n      <!-- −0.5 -->\r\n      <g transform=\"translate(7.2 215.092995)scale(0.1 -0.1)\">\r\n       <defs>\r\n        <path d=\"M 10.59375 35.5 \r\nL 73.1875 35.5 \r\nL 73.1875 27.203125 \r\nL 10.59375 27.203125 \r\nz\r\n\" id=\"DejaVuSans-8722\"/>\r\n        <path d=\"M 31.78125 66.40625 \r\nQ 24.171875 66.40625 20.328125 58.90625 \r\nQ 16.5 51.421875 16.5 36.375 \r\nQ 16.5 21.390625 20.328125 13.890625 \r\nQ 24.171875 6.390625 31.78125 6.390625 \r\nQ 39.453125 6.390625 43.28125 13.890625 \r\nQ 47.125 21.390625 47.125 36.375 \r\nQ 47.125 51.421875 43.28125 58.90625 \r\nQ 39.453125 66.40625 31.78125 66.40625 \r\nz\r\nM 31.78125 74.21875 \r\nQ 44.046875 74.21875 50.515625 64.515625 \r\nQ 56.984375 54.828125 56.984375 36.375 \r\nQ 56.984375 17.96875 50.515625 8.265625 \r\nQ 44.046875 -1.421875 31.78125 -1.421875 \r\nQ 19.53125 -1.421875 13.0625 8.265625 \r\nQ 6.59375 17.96875 6.59375 36.375 \r\nQ 6.59375 54.828125 13.0625 64.515625 \r\nQ 19.53125 74.21875 31.78125 74.21875 \r\nz\r\n\" id=\"DejaVuSans-48\"/>\r\n        <path d=\"M 10.6875 12.40625 \r\nL 21 12.40625 \r\nL 21 0 \r\nL 10.6875 0 \r\nz\r\n\" id=\"DejaVuSans-46\"/>\r\n        <path d=\"M 10.796875 72.90625 \r\nL 49.515625 72.90625 \r\nL 49.515625 64.59375 \r\nL 19.828125 64.59375 \r\nL 19.828125 46.734375 \r\nQ 21.96875 47.46875 24.109375 47.828125 \r\nQ 26.265625 48.1875 28.421875 48.1875 \r\nQ 40.625 48.1875 47.75 41.5 \r\nQ 54.890625 34.8125 54.890625 23.390625 \r\nQ 54.890625 11.625 47.5625 5.09375 \r\nQ 40.234375 -1.421875 26.90625 -1.421875 \r\nQ 22.3125 -1.421875 17.546875 -0.640625 \r\nQ 12.796875 0.140625 7.71875 1.703125 \r\nL 7.71875 11.625 \r\nQ 12.109375 9.234375 16.796875 8.0625 \r\nQ 21.484375 6.890625 26.703125 6.890625 \r\nQ 35.15625 6.890625 40.078125 11.328125 \r\nQ 45.015625 15.765625 45.015625 23.390625 \r\nQ 45.015625 31 40.078125 35.4375 \r\nQ 35.15625 39.890625 26.703125 39.890625 \r\nQ 22.75 39.890625 18.8125 39.015625 \r\nQ 14.890625 38.140625 10.796875 36.28125 \r\nz\r\n\" id=\"DejaVuSans-53\"/>\r\n       </defs>\r\n       <use xlink:href=\"#DejaVuSans-8722\"/>\r\n       <use x=\"83.789062\" xlink:href=\"#DejaVuSans-48\"/>\r\n       <use x=\"147.412109\" xlink:href=\"#DejaVuSans-46\"/>\r\n       <use x=\"179.199219\" xlink:href=\"#DejaVuSans-53\"/>\r\n      </g>\r\n     </g>\r\n    </g>\r\n    <g id=\"ytick_2\">\r\n     <g id=\"line2d_14\">\r\n      <g>\r\n       <use style=\"stroke:#000000;stroke-width:0.8;\" x=\"38.482813\" xlink:href=\"#m1ac07ad22a\" y=\"183.273459\"/>\r\n      </g>\r\n     </g>\r\n     <g id=\"text_14\">\r\n      <!-- 0.0 -->\r\n      <g transform=\"translate(15.579688 187.072678)scale(0.1 -0.1)\">\r\n       <use xlink:href=\"#DejaVuSans-48\"/>\r\n       <use x=\"63.623047\" xlink:href=\"#DejaVuSans-46\"/>\r\n       <use x=\"95.410156\" xlink:href=\"#DejaVuSans-48\"/>\r\n      </g>\r\n     </g>\r\n    </g>\r\n    <g id=\"ytick_3\">\r\n     <g id=\"line2d_15\">\r\n      <g>\r\n       <use style=\"stroke:#000000;stroke-width:0.8;\" x=\"38.482813\" xlink:href=\"#m1ac07ad22a\" y=\"155.253142\"/>\r\n      </g>\r\n     </g>\r\n     <g id=\"text_15\">\r\n      <!-- 0.5 -->\r\n      <g transform=\"translate(15.579688 159.052361)scale(0.1 -0.1)\">\r\n       <use xlink:href=\"#DejaVuSans-48\"/>\r\n       <use x=\"63.623047\" xlink:href=\"#DejaVuSans-46\"/>\r\n       <use x=\"95.410156\" xlink:href=\"#DejaVuSans-53\"/>\r\n      </g>\r\n     </g>\r\n    </g>\r\n    <g id=\"ytick_4\">\r\n     <g id=\"line2d_16\">\r\n      <g>\r\n       <use style=\"stroke:#000000;stroke-width:0.8;\" x=\"38.482813\" xlink:href=\"#m1ac07ad22a\" y=\"127.232825\"/>\r\n      </g>\r\n     </g>\r\n     <g id=\"text_16\">\r\n      <!-- 1.0 -->\r\n      <g transform=\"translate(15.579688 131.032044)scale(0.1 -0.1)\">\r\n       <defs>\r\n        <path d=\"M 12.40625 8.296875 \r\nL 28.515625 8.296875 \r\nL 28.515625 63.921875 \r\nL 10.984375 60.40625 \r\nL 10.984375 69.390625 \r\nL 28.421875 72.90625 \r\nL 38.28125 72.90625 \r\nL 38.28125 8.296875 \r\nL 54.390625 8.296875 \r\nL 54.390625 0 \r\nL 12.40625 0 \r\nz\r\n\" id=\"DejaVuSans-49\"/>\r\n       </defs>\r\n       <use xlink:href=\"#DejaVuSans-49\"/>\r\n       <use x=\"63.623047\" xlink:href=\"#DejaVuSans-46\"/>\r\n       <use x=\"95.410156\" xlink:href=\"#DejaVuSans-48\"/>\r\n      </g>\r\n     </g>\r\n    </g>\r\n    <g id=\"ytick_5\">\r\n     <g id=\"line2d_17\">\r\n      <g>\r\n       <use style=\"stroke:#000000;stroke-width:0.8;\" x=\"38.482813\" xlink:href=\"#m1ac07ad22a\" y=\"99.212508\"/>\r\n      </g>\r\n     </g>\r\n     <g id=\"text_17\">\r\n      <!-- 1.5 -->\r\n      <g transform=\"translate(15.579688 103.011727)scale(0.1 -0.1)\">\r\n       <use xlink:href=\"#DejaVuSans-49\"/>\r\n       <use x=\"63.623047\" xlink:href=\"#DejaVuSans-46\"/>\r\n       <use x=\"95.410156\" xlink:href=\"#DejaVuSans-53\"/>\r\n      </g>\r\n     </g>\r\n    </g>\r\n    <g id=\"ytick_6\">\r\n     <g id=\"line2d_18\">\r\n      <g>\r\n       <use style=\"stroke:#000000;stroke-width:0.8;\" x=\"38.482813\" xlink:href=\"#m1ac07ad22a\" y=\"71.192191\"/>\r\n      </g>\r\n     </g>\r\n     <g id=\"text_18\">\r\n      <!-- 2.0 -->\r\n      <g transform=\"translate(15.579688 74.99141)scale(0.1 -0.1)\">\r\n       <defs>\r\n        <path d=\"M 19.1875 8.296875 \r\nL 53.609375 8.296875 \r\nL 53.609375 0 \r\nL 7.328125 0 \r\nL 7.328125 8.296875 \r\nQ 12.9375 14.109375 22.625 23.890625 \r\nQ 32.328125 33.6875 34.8125 36.53125 \r\nQ 39.546875 41.84375 41.421875 45.53125 \r\nQ 43.3125 49.21875 43.3125 52.78125 \r\nQ 43.3125 58.59375 39.234375 62.25 \r\nQ 35.15625 65.921875 28.609375 65.921875 \r\nQ 23.96875 65.921875 18.8125 64.3125 \r\nQ 13.671875 62.703125 7.8125 59.421875 \r\nL 7.8125 69.390625 \r\nQ 13.765625 71.78125 18.9375 73 \r\nQ 24.125 74.21875 28.421875 74.21875 \r\nQ 39.75 74.21875 46.484375 68.546875 \r\nQ 53.21875 62.890625 53.21875 53.421875 \r\nQ 53.21875 48.921875 51.53125 44.890625 \r\nQ 49.859375 40.875 45.40625 35.40625 \r\nQ 44.1875 33.984375 37.640625 27.21875 \r\nQ 31.109375 20.453125 19.1875 8.296875 \r\nz\r\n\" id=\"DejaVuSans-50\"/>\r\n       </defs>\r\n       <use xlink:href=\"#DejaVuSans-50\"/>\r\n       <use x=\"63.623047\" xlink:href=\"#DejaVuSans-46\"/>\r\n       <use x=\"95.410156\" xlink:href=\"#DejaVuSans-48\"/>\r\n      </g>\r\n     </g>\r\n    </g>\r\n    <g id=\"ytick_7\">\r\n     <g id=\"line2d_19\">\r\n      <g>\r\n       <use style=\"stroke:#000000;stroke-width:0.8;\" x=\"38.482813\" xlink:href=\"#m1ac07ad22a\" y=\"43.171874\"/>\r\n      </g>\r\n     </g>\r\n     <g id=\"text_19\">\r\n      <!-- 2.5 -->\r\n      <g transform=\"translate(15.579688 46.971093)scale(0.1 -0.1)\">\r\n       <use xlink:href=\"#DejaVuSans-50\"/>\r\n       <use x=\"63.623047\" xlink:href=\"#DejaVuSans-46\"/>\r\n       <use x=\"95.410156\" xlink:href=\"#DejaVuSans-53\"/>\r\n      </g>\r\n     </g>\r\n    </g>\r\n    <g id=\"ytick_8\">\r\n     <g id=\"line2d_20\">\r\n      <g>\r\n       <use style=\"stroke:#000000;stroke-width:0.8;\" x=\"38.482813\" xlink:href=\"#m1ac07ad22a\" y=\"15.151558\"/>\r\n      </g>\r\n     </g>\r\n     <g id=\"text_20\">\r\n      <!-- 3.0 -->\r\n      <g transform=\"translate(15.579688 18.950776)scale(0.1 -0.1)\">\r\n       <defs>\r\n        <path d=\"M 40.578125 39.3125 \r\nQ 47.65625 37.796875 51.625 33 \r\nQ 55.609375 28.21875 55.609375 21.1875 \r\nQ 55.609375 10.40625 48.1875 4.484375 \r\nQ 40.765625 -1.421875 27.09375 -1.421875 \r\nQ 22.515625 -1.421875 17.65625 -0.515625 \r\nQ 12.796875 0.390625 7.625 2.203125 \r\nL 7.625 11.71875 \r\nQ 11.71875 9.328125 16.59375 8.109375 \r\nQ 21.484375 6.890625 26.8125 6.890625 \r\nQ 36.078125 6.890625 40.9375 10.546875 \r\nQ 45.796875 14.203125 45.796875 21.1875 \r\nQ 45.796875 27.640625 41.28125 31.265625 \r\nQ 36.765625 34.90625 28.71875 34.90625 \r\nL 20.21875 34.90625 \r\nL 20.21875 43.015625 \r\nL 29.109375 43.015625 \r\nQ 36.375 43.015625 40.234375 45.921875 \r\nQ 44.09375 48.828125 44.09375 54.296875 \r\nQ 44.09375 59.90625 40.109375 62.90625 \r\nQ 36.140625 65.921875 28.71875 65.921875 \r\nQ 24.65625 65.921875 20.015625 65.03125 \r\nQ 15.375 64.15625 9.8125 62.3125 \r\nL 9.8125 71.09375 \r\nQ 15.4375 72.65625 20.34375 73.4375 \r\nQ 25.25 74.21875 29.59375 74.21875 \r\nQ 40.828125 74.21875 47.359375 69.109375 \r\nQ 53.90625 64.015625 53.90625 55.328125 \r\nQ 53.90625 49.265625 50.4375 45.09375 \r\nQ 46.96875 40.921875 40.578125 39.3125 \r\nz\r\n\" id=\"DejaVuSans-51\"/>\r\n       </defs>\r\n       <use xlink:href=\"#DejaVuSans-51\"/>\r\n       <use x=\"63.623047\" xlink:href=\"#DejaVuSans-46\"/>\r\n       <use x=\"95.410156\" xlink:href=\"#DejaVuSans-48\"/>\r\n      </g>\r\n     </g>\r\n    </g>\r\n   </g>\r\n   <g id=\"patch_15\">\r\n    <path d=\"M 38.482813 224.64 \r\nL 38.482813 7.2 \r\n\" style=\"fill:none;stroke:#000000;stroke-linecap:square;stroke-linejoin:miter;stroke-width:0.8;\"/>\r\n   </g>\r\n   <g id=\"patch_16\">\r\n    <path d=\"M 373.282813 224.64 \r\nL 373.282813 7.2 \r\n\" style=\"fill:none;stroke:#000000;stroke-linecap:square;stroke-linejoin:miter;stroke-width:0.8;\"/>\r\n   </g>\r\n   <g id=\"patch_17\">\r\n    <path d=\"M 38.482812 224.64 \r\nL 373.282812 224.64 \r\n\" style=\"fill:none;stroke:#000000;stroke-linecap:square;stroke-linejoin:miter;stroke-width:0.8;\"/>\r\n   </g>\r\n   <g id=\"patch_18\">\r\n    <path d=\"M 38.482812 7.2 \r\nL 373.282812 7.2 \r\n\" style=\"fill:none;stroke:#000000;stroke-linecap:square;stroke-linejoin:miter;stroke-width:0.8;\"/>\r\n   </g>\r\n  </g>\r\n </g>\r\n <defs>\r\n  <clipPath id=\"p203711b696\">\r\n   <rect height=\"217.44\" width=\"334.8\" x=\"38.482813\" y=\"7.2\"/>\r\n  </clipPath>\r\n </defs>\r\n</svg>\r\n",
      "image/png": "[encoded data removed]"
     },
     "metadata": {
      "needs_background": "light"
     }
    }
   ],
   "source": [
    "def sharpe_ratio(return_series, N, rf):\n",
    "    mean = return_series.mean() * N -rf\n",
    "    sigma = return_series.std() * np.sqrt(N)\n",
    "    return mean / sigma\n",
    "\n",
    "N = 252 #252 trading days in a year\n",
    "rf = spy500_return #1% risk free rate\n",
    "sharpe_ratio = daily_price_change.apply(sharpe_ratio, args=(N,rf,),axis=0)\n",
    "\n",
    "sharpe_ratio.plot.bar()"
   ]
  },
  {
   "source": [
    "Excess return is the return on the portfolio less risk-free rate.\n",
    "\n",
    "Therefore, excess return is negative when the (realized or expected) return on the portfolio (or fund, trading strategy, or investment) is lower than the risk-free interest rate (typically a money market rate or treasury yield).\n",
    "\n",
    "Sharpe ratio is negative when the investment return is lower than the risk-free rate."
   ],
   "cell_type": "markdown",
   "metadata": {}
  },
  {
   "cell_type": "code",
   "execution_count": 22,
   "metadata": {},
   "outputs": [
    {
     "output_type": "execute_result",
     "data": {
      "text/plain": [
       "      SharpeRatio\n",
       "SPY      0.000000\n",
       "AAPL    -0.361657\n",
       "TSLA     1.312184\n",
       "GE      -0.145546\n",
       "F       -0.148901\n",
       "MSFT     0.443472\n",
       "NIO      2.965524\n",
       "PFE     -0.561787\n",
       "AMZN     0.935744\n",
       "AAL     -0.286562\n",
       "DIS      0.202803\n",
       "PLUG     2.828580"
      ],
      "text/html": "<div>\n<style scoped>\n    .dataframe tbody tr th:only-of-type {\n        vertical-align: middle;\n    }\n\n    .dataframe tbody tr th {\n        vertical-align: top;\n    }\n\n    .dataframe thead th {\n        text-align: right;\n    }\n</style>\n<table border=\"1\" class=\"dataframe\">\n  <thead>\n    <tr style=\"text-align: right;\">\n      <th></th>\n      <th>SharpeRatio</th>\n    </tr>\n  </thead>\n  <tbody>\n    <tr>\n      <th>SPY</th>\n      <td>0.000000</td>\n    </tr>\n    <tr>\n      <th>AAPL</th>\n      <td>-0.361657</td>\n    </tr>\n    <tr>\n      <th>TSLA</th>\n      <td>1.312184</td>\n    </tr>\n    <tr>\n      <th>GE</th>\n      <td>-0.145546</td>\n    </tr>\n    <tr>\n      <th>F</th>\n      <td>-0.148901</td>\n    </tr>\n    <tr>\n      <th>MSFT</th>\n      <td>0.443472</td>\n    </tr>\n    <tr>\n      <th>NIO</th>\n      <td>2.965524</td>\n    </tr>\n    <tr>\n      <th>PFE</th>\n      <td>-0.561787</td>\n    </tr>\n    <tr>\n      <th>AMZN</th>\n      <td>0.935744</td>\n    </tr>\n    <tr>\n      <th>AAL</th>\n      <td>-0.286562</td>\n    </tr>\n    <tr>\n      <th>DIS</th>\n      <td>0.202803</td>\n    </tr>\n    <tr>\n      <th>PLUG</th>\n      <td>2.828580</td>\n    </tr>\n  </tbody>\n</table>\n</div>"
     },
     "metadata": {},
     "execution_count": 22
    }
   ],
   "source": [
    "sharpe_ratio_df = pd.DataFrame(sharpe_ratio, columns=[\"SharpeRatio\"])\n",
    "sharpe_ratio_df"
   ]
  },
  {
   "cell_type": "code",
   "execution_count": 23,
   "metadata": {},
   "outputs": [
    {
     "output_type": "execute_result",
     "data": {
      "text/plain": [
       "      StandardDev  SharpeRatio\n",
       "SPY      0.341479     0.000000\n",
       "AAPL     0.875474    -0.361657\n",
       "TSLA     1.179161     1.312184\n",
       "GE       0.627663    -0.145546\n",
       "F        0.559634    -0.148901\n",
       "MSFT     0.441036     0.443472\n",
       "NIO      1.024678     2.965524\n",
       "PFE      0.359083    -0.561787\n",
       "AMZN     0.387783     0.935744\n",
       "AAL      1.033384    -0.286562\n",
       "DIS      0.487598     0.202803\n",
       "PLUG     1.032207     2.828580"
      ],
      "text/html": "<div>\n<style scoped>\n    .dataframe tbody tr th:only-of-type {\n        vertical-align: middle;\n    }\n\n    .dataframe tbody tr th {\n        vertical-align: top;\n    }\n\n    .dataframe thead th {\n        text-align: right;\n    }\n</style>\n<table border=\"1\" class=\"dataframe\">\n  <thead>\n    <tr style=\"text-align: right;\">\n      <th></th>\n      <th>StandardDev</th>\n      <th>SharpeRatio</th>\n    </tr>\n  </thead>\n  <tbody>\n    <tr>\n      <th>SPY</th>\n      <td>0.341479</td>\n      <td>0.000000</td>\n    </tr>\n    <tr>\n      <th>AAPL</th>\n      <td>0.875474</td>\n      <td>-0.361657</td>\n    </tr>\n    <tr>\n      <th>TSLA</th>\n      <td>1.179161</td>\n      <td>1.312184</td>\n    </tr>\n    <tr>\n      <th>GE</th>\n      <td>0.627663</td>\n      <td>-0.145546</td>\n    </tr>\n    <tr>\n      <th>F</th>\n      <td>0.559634</td>\n      <td>-0.148901</td>\n    </tr>\n    <tr>\n      <th>MSFT</th>\n      <td>0.441036</td>\n      <td>0.443472</td>\n    </tr>\n    <tr>\n      <th>NIO</th>\n      <td>1.024678</td>\n      <td>2.965524</td>\n    </tr>\n    <tr>\n      <th>PFE</th>\n      <td>0.359083</td>\n      <td>-0.561787</td>\n    </tr>\n    <tr>\n      <th>AMZN</th>\n      <td>0.387783</td>\n      <td>0.935744</td>\n    </tr>\n    <tr>\n      <th>AAL</th>\n      <td>1.033384</td>\n      <td>-0.286562</td>\n    </tr>\n    <tr>\n      <th>DIS</th>\n      <td>0.487598</td>\n      <td>0.202803</td>\n    </tr>\n    <tr>\n      <th>PLUG</th>\n      <td>1.032207</td>\n      <td>2.828580</td>\n    </tr>\n  </tbody>\n</table>\n</div>"
     },
     "metadata": {},
     "execution_count": 23
    }
   ],
   "source": [
    "sharpe_and_std = pd.concat([standard_df, sharpe_ratio_df], axis=1) \n",
    "sharpe_and_std"
   ]
  },
  {
   "cell_type": "code",
   "execution_count": 24,
   "metadata": {},
   "outputs": [
    {
     "output_type": "execute_result",
     "data": {
      "text/plain": [
       "            SPY      AAPL      TSLA         GE           F       MSFT  \\\n",
       "SPY    1.000000 -0.101292  0.003192   5.932751   19.214629   1.159287   \n",
       "AAPL  -1.252897  1.000000  0.225320  -6.983077  -27.005982  -1.384291   \n",
       "TSLA   0.517061  2.951192  1.000000 -45.119172  -46.489471   4.388054   \n",
       "GE     0.027561 -0.002623 -0.001294   1.000000    1.158858  -0.012966   \n",
       "F      0.037390 -0.004249 -0.000558   0.485423    1.000000   0.026588   \n",
       "MSFT   0.574040 -0.055417  0.013412  -1.382103    6.765803   1.000000   \n",
       "NIO    0.382521 -0.091654 -0.007400   1.652382    7.001360   0.513726   \n",
       "PFE    0.046011 -0.000808  0.000601   0.334254    0.961979   0.040964   \n",
       "AMZN  11.683518 -1.455703  0.308004 -77.349387  108.816233  22.742648   \n",
       "AAL    0.038408  0.006282 -0.001729   2.128657    2.287947  -0.071677   \n",
       "DIS    0.543508 -0.062404 -0.004067   6.086171   12.450722   0.470900   \n",
       "PLUG   0.217160 -0.047726 -0.002793   0.979874    3.806976   0.289633   \n",
       "\n",
       "            NIO        PFE      AMZN        AAL        DIS       PLUG  \n",
       "SPY    1.565248   8.672733  0.042182   1.323091   1.403225   2.704328  \n",
       "AAPL  -4.638915  -1.884310 -0.065008   2.676554  -1.992850  -7.351452  \n",
       "TSLA  -4.905583  18.340416  0.180155  -9.651666  -1.701085  -5.635007  \n",
       "GE     0.031410   0.292684 -0.001297   0.340653   0.072996   0.056687  \n",
       "F      0.055749   0.352841  0.000764   0.153371   0.062552   0.092254  \n",
       "MSFT   1.040905   3.823387  0.040658  -1.222660   0.602007   1.785996  \n",
       "NIO    1.000000   2.166622  0.021226  -0.493844   0.564749   1.675044  \n",
       "PFE    0.047035   1.000000  0.001323   0.104063   0.065785   0.077982  \n",
       "AMZN  24.057195  69.061818  1.000000 -45.687160  10.688542  40.888611  \n",
       "AAL   -0.058660   0.569391 -0.004788   1.000000   0.121052  -0.087139  \n",
       "DIS    0.895079   4.802818  0.014947   1.615196   1.000000   1.659593  \n",
       "PLUG   0.550394   1.180325  0.011854  -0.241050   0.344067   1.000000  "
      ],
      "text/html": "<div>\n<style scoped>\n    .dataframe tbody tr th:only-of-type {\n        vertical-align: middle;\n    }\n\n    .dataframe tbody tr th {\n        vertical-align: top;\n    }\n\n    .dataframe thead th {\n        text-align: right;\n    }\n</style>\n<table border=\"1\" class=\"dataframe\">\n  <thead>\n    <tr style=\"text-align: right;\">\n      <th></th>\n      <th>SPY</th>\n      <th>AAPL</th>\n      <th>TSLA</th>\n      <th>GE</th>\n      <th>F</th>\n      <th>MSFT</th>\n      <th>NIO</th>\n      <th>PFE</th>\n      <th>AMZN</th>\n      <th>AAL</th>\n      <th>DIS</th>\n      <th>PLUG</th>\n    </tr>\n  </thead>\n  <tbody>\n    <tr>\n      <th>SPY</th>\n      <td>1.000000</td>\n      <td>-0.101292</td>\n      <td>0.003192</td>\n      <td>5.932751</td>\n      <td>19.214629</td>\n      <td>1.159287</td>\n      <td>1.565248</td>\n      <td>8.672733</td>\n      <td>0.042182</td>\n      <td>1.323091</td>\n      <td>1.403225</td>\n      <td>2.704328</td>\n    </tr>\n    <tr>\n      <th>AAPL</th>\n      <td>-1.252897</td>\n      <td>1.000000</td>\n      <td>0.225320</td>\n      <td>-6.983077</td>\n      <td>-27.005982</td>\n      <td>-1.384291</td>\n      <td>-4.638915</td>\n      <td>-1.884310</td>\n      <td>-0.065008</td>\n      <td>2.676554</td>\n      <td>-1.992850</td>\n      <td>-7.351452</td>\n    </tr>\n    <tr>\n      <th>TSLA</th>\n      <td>0.517061</td>\n      <td>2.951192</td>\n      <td>1.000000</td>\n      <td>-45.119172</td>\n      <td>-46.489471</td>\n      <td>4.388054</td>\n      <td>-4.905583</td>\n      <td>18.340416</td>\n      <td>0.180155</td>\n      <td>-9.651666</td>\n      <td>-1.701085</td>\n      <td>-5.635007</td>\n    </tr>\n    <tr>\n      <th>GE</th>\n      <td>0.027561</td>\n      <td>-0.002623</td>\n      <td>-0.001294</td>\n      <td>1.000000</td>\n      <td>1.158858</td>\n      <td>-0.012966</td>\n      <td>0.031410</td>\n      <td>0.292684</td>\n      <td>-0.001297</td>\n      <td>0.340653</td>\n      <td>0.072996</td>\n      <td>0.056687</td>\n    </tr>\n    <tr>\n      <th>F</th>\n      <td>0.037390</td>\n      <td>-0.004249</td>\n      <td>-0.000558</td>\n      <td>0.485423</td>\n      <td>1.000000</td>\n      <td>0.026588</td>\n      <td>0.055749</td>\n      <td>0.352841</td>\n      <td>0.000764</td>\n      <td>0.153371</td>\n      <td>0.062552</td>\n      <td>0.092254</td>\n    </tr>\n    <tr>\n      <th>MSFT</th>\n      <td>0.574040</td>\n      <td>-0.055417</td>\n      <td>0.013412</td>\n      <td>-1.382103</td>\n      <td>6.765803</td>\n      <td>1.000000</td>\n      <td>1.040905</td>\n      <td>3.823387</td>\n      <td>0.040658</td>\n      <td>-1.222660</td>\n      <td>0.602007</td>\n      <td>1.785996</td>\n    </tr>\n    <tr>\n      <th>NIO</th>\n      <td>0.382521</td>\n      <td>-0.091654</td>\n      <td>-0.007400</td>\n      <td>1.652382</td>\n      <td>7.001360</td>\n      <td>0.513726</td>\n      <td>1.000000</td>\n      <td>2.166622</td>\n      <td>0.021226</td>\n      <td>-0.493844</td>\n      <td>0.564749</td>\n      <td>1.675044</td>\n    </tr>\n    <tr>\n      <th>PFE</th>\n      <td>0.046011</td>\n      <td>-0.000808</td>\n      <td>0.000601</td>\n      <td>0.334254</td>\n      <td>0.961979</td>\n      <td>0.040964</td>\n      <td>0.047035</td>\n      <td>1.000000</td>\n      <td>0.001323</td>\n      <td>0.104063</td>\n      <td>0.065785</td>\n      <td>0.077982</td>\n    </tr>\n    <tr>\n      <th>AMZN</th>\n      <td>11.683518</td>\n      <td>-1.455703</td>\n      <td>0.308004</td>\n      <td>-77.349387</td>\n      <td>108.816233</td>\n      <td>22.742648</td>\n      <td>24.057195</td>\n      <td>69.061818</td>\n      <td>1.000000</td>\n      <td>-45.687160</td>\n      <td>10.688542</td>\n      <td>40.888611</td>\n    </tr>\n    <tr>\n      <th>AAL</th>\n      <td>0.038408</td>\n      <td>0.006282</td>\n      <td>-0.001729</td>\n      <td>2.128657</td>\n      <td>2.287947</td>\n      <td>-0.071677</td>\n      <td>-0.058660</td>\n      <td>0.569391</td>\n      <td>-0.004788</td>\n      <td>1.000000</td>\n      <td>0.121052</td>\n      <td>-0.087139</td>\n    </tr>\n    <tr>\n      <th>DIS</th>\n      <td>0.543508</td>\n      <td>-0.062404</td>\n      <td>-0.004067</td>\n      <td>6.086171</td>\n      <td>12.450722</td>\n      <td>0.470900</td>\n      <td>0.895079</td>\n      <td>4.802818</td>\n      <td>0.014947</td>\n      <td>1.615196</td>\n      <td>1.000000</td>\n      <td>1.659593</td>\n    </tr>\n    <tr>\n      <th>PLUG</th>\n      <td>0.217160</td>\n      <td>-0.047726</td>\n      <td>-0.002793</td>\n      <td>0.979874</td>\n      <td>3.806976</td>\n      <td>0.289633</td>\n      <td>0.550394</td>\n      <td>1.180325</td>\n      <td>0.011854</td>\n      <td>-0.241050</td>\n      <td>0.344067</td>\n      <td>1.000000</td>\n    </tr>\n  </tbody>\n</table>\n</div>"
     },
     "metadata": {},
     "execution_count": 24
    }
   ],
   "source": [
    "covariance = df_closing_prices.cov()\n",
    "variance = df_closing_prices.var()\n",
    "beta = covariance/variance\n",
    "mrkt_beta = beta[\"SPY\"]\n",
    "beta"
   ]
  },
  {
   "cell_type": "code",
   "execution_count": 25,
   "metadata": {},
   "outputs": [
    {
     "output_type": "execute_result",
     "data": {
      "text/plain": [
       "              SPY        AAPL        TSLA          GE           F  \\\n",
       "SPY      0.000000  283.105401  786.703369  -40.725088 -128.656923   \n",
       "AAPL   726.031932    0.000000  611.394560   65.908755  197.817016   \n",
       "TSLA   155.634671 -501.586104    0.000000  380.762625  335.436385   \n",
       "GE     313.384057  257.740731  790.243310    0.000000   -1.122074   \n",
       "F      310.216395  258.158704  789.662933    4.248379    0.000000   \n",
       "MSFT   137.272302  271.312289  778.637344   19.666781  -40.726082   \n",
       "NIO    198.992436  280.627620  795.062411   -5.386102  -42.389914   \n",
       "PFE    307.437979  257.274298  788.748231    5.496438    0.268556   \n",
       "AMZN -3442.933753  631.278965  546.138766  646.857188 -761.547496   \n",
       "AAL    309.888468  255.451768  790.587109   -9.318256   -9.097263   \n",
       "DIS    147.111851  273.108584  792.431959  -41.991730  -80.880853   \n",
       "PLUG   252.282783  269.335257  791.426568    0.166165  -19.826752   \n",
       "\n",
       "             MSFT         NIO          PFE         AMZN         AAL  \\\n",
       "SPY    -30.863426   -9.357084  -280.673484  2582.590553   -4.902668   \n",
       "AAPL   461.979723   93.346321   105.509907  2871.610133  -25.440479   \n",
       "TSLA  -656.468629   97.760729  -634.323528  2210.569427  161.631219   \n",
       "GE     196.272169   16.033986    25.874058  2699.825394   10.005110   \n",
       "F      188.608034   15.631091    23.673501  2694.266094   12.846979   \n",
       "MSFT     0.000000   -0.677140  -103.281323  2586.699789   33.727236   \n",
       "NIO     94.220265    0.000000   -42.675788  2639.094645   22.667990   \n",
       "PFE    185.822520   15.775334     0.000000  2692.760634   13.595194   \n",
       "AMZN -4212.850842 -381.687636 -2489.744947     0.000000  708.443382   \n",
       "AAL    207.647955   17.525010    15.751937  2709.238079    0.000000   \n",
       "DIS    102.518328    1.736849  -139.109527  2656.025596   -9.335151   \n",
       "PLUG   137.640474    7.442754    -6.596404  2664.364264   18.832019   \n",
       "\n",
       "              DIS        PLUG  \n",
       "SPY    -51.308137  -19.271712  \n",
       "AAPL   380.823512   94.434133  \n",
       "TSLA   343.698022   75.025416  \n",
       "GE     117.956100   10.666522  \n",
       "F      119.285071   10.264351  \n",
       "MSFT    50.642415   -8.887659  \n",
       "NIO     55.383306   -7.633072  \n",
       "PFE    118.873636   10.425733  \n",
       "AMZN -1232.813074 -451.040921  \n",
       "AAL    111.841176   12.292840  \n",
       "DIS      0.000000   -7.458357  \n",
       "PLUG    83.463855    0.000000  "
      ],
      "text/html": "<div>\n<style scoped>\n    .dataframe tbody tr th:only-of-type {\n        vertical-align: middle;\n    }\n\n    .dataframe tbody tr th {\n        vertical-align: top;\n    }\n\n    .dataframe thead th {\n        text-align: right;\n    }\n</style>\n<table border=\"1\" class=\"dataframe\">\n  <thead>\n    <tr style=\"text-align: right;\">\n      <th></th>\n      <th>SPY</th>\n      <th>AAPL</th>\n      <th>TSLA</th>\n      <th>GE</th>\n      <th>F</th>\n      <th>MSFT</th>\n      <th>NIO</th>\n      <th>PFE</th>\n      <th>AMZN</th>\n      <th>AAL</th>\n      <th>DIS</th>\n      <th>PLUG</th>\n    </tr>\n  </thead>\n  <tbody>\n    <tr>\n      <th>SPY</th>\n      <td>0.000000</td>\n      <td>283.105401</td>\n      <td>786.703369</td>\n      <td>-40.725088</td>\n      <td>-128.656923</td>\n      <td>-30.863426</td>\n      <td>-9.357084</td>\n      <td>-280.673484</td>\n      <td>2582.590553</td>\n      <td>-4.902668</td>\n      <td>-51.308137</td>\n      <td>-19.271712</td>\n    </tr>\n    <tr>\n      <th>AAPL</th>\n      <td>726.031932</td>\n      <td>0.000000</td>\n      <td>611.394560</td>\n      <td>65.908755</td>\n      <td>197.817016</td>\n      <td>461.979723</td>\n      <td>93.346321</td>\n      <td>105.509907</td>\n      <td>2871.610133</td>\n      <td>-25.440479</td>\n      <td>380.823512</td>\n      <td>94.434133</td>\n    </tr>\n    <tr>\n      <th>TSLA</th>\n      <td>155.634671</td>\n      <td>-501.586104</td>\n      <td>0.000000</td>\n      <td>380.762625</td>\n      <td>335.436385</td>\n      <td>-656.468629</td>\n      <td>97.760729</td>\n      <td>-634.323528</td>\n      <td>2210.569427</td>\n      <td>161.631219</td>\n      <td>343.698022</td>\n      <td>75.025416</td>\n    </tr>\n    <tr>\n      <th>GE</th>\n      <td>313.384057</td>\n      <td>257.740731</td>\n      <td>790.243310</td>\n      <td>0.000000</td>\n      <td>-1.122074</td>\n      <td>196.272169</td>\n      <td>16.033986</td>\n      <td>25.874058</td>\n      <td>2699.825394</td>\n      <td>10.005110</td>\n      <td>117.956100</td>\n      <td>10.666522</td>\n    </tr>\n    <tr>\n      <th>F</th>\n      <td>310.216395</td>\n      <td>258.158704</td>\n      <td>789.662933</td>\n      <td>4.248379</td>\n      <td>0.000000</td>\n      <td>188.608034</td>\n      <td>15.631091</td>\n      <td>23.673501</td>\n      <td>2694.266094</td>\n      <td>12.846979</td>\n      <td>119.285071</td>\n      <td>10.264351</td>\n    </tr>\n    <tr>\n      <th>MSFT</th>\n      <td>137.272302</td>\n      <td>271.312289</td>\n      <td>778.637344</td>\n      <td>19.666781</td>\n      <td>-40.726082</td>\n      <td>0.000000</td>\n      <td>-0.677140</td>\n      <td>-103.281323</td>\n      <td>2586.699789</td>\n      <td>33.727236</td>\n      <td>50.642415</td>\n      <td>-8.887659</td>\n    </tr>\n    <tr>\n      <th>NIO</th>\n      <td>198.992436</td>\n      <td>280.627620</td>\n      <td>795.062411</td>\n      <td>-5.386102</td>\n      <td>-42.389914</td>\n      <td>94.220265</td>\n      <td>0.000000</td>\n      <td>-42.675788</td>\n      <td>2639.094645</td>\n      <td>22.667990</td>\n      <td>55.383306</td>\n      <td>-7.633072</td>\n    </tr>\n    <tr>\n      <th>PFE</th>\n      <td>307.437979</td>\n      <td>257.274298</td>\n      <td>788.748231</td>\n      <td>5.496438</td>\n      <td>0.268556</td>\n      <td>185.822520</td>\n      <td>15.775334</td>\n      <td>0.000000</td>\n      <td>2692.760634</td>\n      <td>13.595194</td>\n      <td>118.873636</td>\n      <td>10.425733</td>\n    </tr>\n    <tr>\n      <th>AMZN</th>\n      <td>-3442.933753</td>\n      <td>631.278965</td>\n      <td>546.138766</td>\n      <td>646.857188</td>\n      <td>-761.547496</td>\n      <td>-4212.850842</td>\n      <td>-381.687636</td>\n      <td>-2489.744947</td>\n      <td>0.000000</td>\n      <td>708.443382</td>\n      <td>-1232.813074</td>\n      <td>-451.040921</td>\n    </tr>\n    <tr>\n      <th>AAL</th>\n      <td>309.888468</td>\n      <td>255.451768</td>\n      <td>790.587109</td>\n      <td>-9.318256</td>\n      <td>-9.097263</td>\n      <td>207.647955</td>\n      <td>17.525010</td>\n      <td>15.751937</td>\n      <td>2709.238079</td>\n      <td>0.000000</td>\n      <td>111.841176</td>\n      <td>12.292840</td>\n    </tr>\n    <tr>\n      <th>DIS</th>\n      <td>147.111851</td>\n      <td>273.108584</td>\n      <td>792.431959</td>\n      <td>-41.991730</td>\n      <td>-80.880853</td>\n      <td>102.518328</td>\n      <td>1.736849</td>\n      <td>-139.109527</td>\n      <td>2656.025596</td>\n      <td>-9.335151</td>\n      <td>0.000000</td>\n      <td>-7.458357</td>\n    </tr>\n    <tr>\n      <th>PLUG</th>\n      <td>252.282783</td>\n      <td>269.335257</td>\n      <td>791.426568</td>\n      <td>0.166165</td>\n      <td>-19.826752</td>\n      <td>137.640474</td>\n      <td>7.442754</td>\n      <td>-6.596404</td>\n      <td>2664.364264</td>\n      <td>18.832019</td>\n      <td>83.463855</td>\n      <td>0.000000</td>\n    </tr>\n  </tbody>\n</table>\n</div>"
     },
     "metadata": {},
     "execution_count": 25
    }
   ],
   "source": [
    "alpha= np.mean(df_closing_prices)-beta*np.mean(df_closing_prices)\n",
    "alpha.round(decimals=6)\n"
   ]
  },
  {
   "cell_type": "code",
   "execution_count": 26,
   "metadata": {},
   "outputs": [
    {
     "output_type": "execute_result",
     "data": {
      "text/plain": [
       "SPY       1059.216837\n",
       "AAPL     13101.581766\n",
       "TSLA    171601.516868\n",
       "GE           4.920601\n",
       "F            2.061144\n",
       "MSFT       524.488835\n",
       "NIO        258.855288\n",
       "PFE          5.619468\n",
       "AMZN    293379.602485\n",
       "AAL         30.747644\n",
       "DIS        410.263993\n",
       "PLUG        85.055902\n",
       "dtype: float64"
      ]
     },
     "metadata": {},
     "execution_count": 26
    }
   ],
   "source": [
    "variance"
   ]
  },
  {
   "cell_type": "code",
   "execution_count": 27,
   "metadata": {},
   "outputs": [],
   "source": [
    "dataframe_beta = pd.DataFrame(beta.loc[\"SPY\"])\n",
    "dataframe_beta.columns = [\"Beta\"]"
   ]
  },
  {
   "cell_type": "code",
   "execution_count": 28,
   "metadata": {},
   "outputs": [
    {
     "output_type": "execute_result",
     "data": {
      "text/plain": [
       "      StandardDev  SharpeRatio       Beta\n",
       "AAPL     0.875474    -0.361657  -0.101292\n",
       "TSLA     1.179161     1.312184   0.003192\n",
       "GE       0.627663    -0.145546   5.932751\n",
       "F        0.559634    -0.148901  19.214629\n",
       "MSFT     0.441036     0.443472   1.159287\n",
       "NIO      1.024678     2.965524   1.565248\n",
       "PFE      0.359083    -0.561787   8.672733\n",
       "AMZN     0.387783     0.935744   0.042182\n",
       "AAL      1.033384    -0.286562   1.323091\n",
       "DIS      0.487598     0.202803   1.403225\n",
       "PLUG     1.032207     2.828580   2.704328"
      ],
      "text/html": "<div>\n<style scoped>\n    .dataframe tbody tr th:only-of-type {\n        vertical-align: middle;\n    }\n\n    .dataframe tbody tr th {\n        vertical-align: top;\n    }\n\n    .dataframe thead th {\n        text-align: right;\n    }\n</style>\n<table border=\"1\" class=\"dataframe\">\n  <thead>\n    <tr style=\"text-align: right;\">\n      <th></th>\n      <th>StandardDev</th>\n      <th>SharpeRatio</th>\n      <th>Beta</th>\n    </tr>\n  </thead>\n  <tbody>\n    <tr>\n      <th>AAPL</th>\n      <td>0.875474</td>\n      <td>-0.361657</td>\n      <td>-0.101292</td>\n    </tr>\n    <tr>\n      <th>TSLA</th>\n      <td>1.179161</td>\n      <td>1.312184</td>\n      <td>0.003192</td>\n    </tr>\n    <tr>\n      <th>GE</th>\n      <td>0.627663</td>\n      <td>-0.145546</td>\n      <td>5.932751</td>\n    </tr>\n    <tr>\n      <th>F</th>\n      <td>0.559634</td>\n      <td>-0.148901</td>\n      <td>19.214629</td>\n    </tr>\n    <tr>\n      <th>MSFT</th>\n      <td>0.441036</td>\n      <td>0.443472</td>\n      <td>1.159287</td>\n    </tr>\n    <tr>\n      <th>NIO</th>\n      <td>1.024678</td>\n      <td>2.965524</td>\n      <td>1.565248</td>\n    </tr>\n    <tr>\n      <th>PFE</th>\n      <td>0.359083</td>\n      <td>-0.561787</td>\n      <td>8.672733</td>\n    </tr>\n    <tr>\n      <th>AMZN</th>\n      <td>0.387783</td>\n      <td>0.935744</td>\n      <td>0.042182</td>\n    </tr>\n    <tr>\n      <th>AAL</th>\n      <td>1.033384</td>\n      <td>-0.286562</td>\n      <td>1.323091</td>\n    </tr>\n    <tr>\n      <th>DIS</th>\n      <td>0.487598</td>\n      <td>0.202803</td>\n      <td>1.403225</td>\n    </tr>\n    <tr>\n      <th>PLUG</th>\n      <td>1.032207</td>\n      <td>2.828580</td>\n      <td>2.704328</td>\n    </tr>\n  </tbody>\n</table>\n</div>"
     },
     "metadata": {},
     "execution_count": 28
    }
   ],
   "source": [
    "sharpe_std_beta = pd.concat([sharpe_and_std, dataframe_beta], axis=1) \n",
    "sharpe_std_beta.drop([\"SPY\"])\n",
    "df_sharpe_std_beta = sharpe_std_beta.drop([\"SPY\"])\n",
    "df_sharpe_std_beta"
   ]
  },
  {
   "cell_type": "code",
   "execution_count": 29,
   "metadata": {},
   "outputs": [],
   "source": [
    "# from sklearn.linear_model import LinearRegression\n",
    "# import pandas as pd"
   ]
  },
  {
   "cell_type": "code",
   "execution_count": 30,
   "metadata": {},
   "outputs": [],
   "source": [
    "# data = df_sharpe_std_beta"
   ]
  },
  {
   "cell_type": "code",
   "execution_count": 31,
   "metadata": {},
   "outputs": [],
   "source": [
    "# model = LinearRegression()\n",
    "# X, y = df_sharpe_std_beta[['StandardDev','Beta']], df_sharpe_std_beta.SharpeRatio\n",
    "# model.fit(X, y)\n",
    "# model.score(X, y)"
   ]
  },
  {
   "cell_type": "code",
   "execution_count": 32,
   "metadata": {},
   "outputs": [],
   "source": [
    "# 1 - (1-model.score(X, y))*(len(y)-1)/(len(y)-X.shape[1]-1)"
   ]
  },
  {
   "cell_type": "code",
   "execution_count": null,
   "metadata": {},
   "outputs": [],
   "source": []
  },
  {
   "cell_type": "code",
   "execution_count": null,
   "metadata": {},
   "outputs": [],
   "source": []
  },
  {
   "cell_type": "code",
   "execution_count": 33,
   "metadata": {},
   "outputs": [],
   "source": [
    "# def calc_beta(df):\n",
    "#     np_array = df.values\n",
    "#     m = np_array[:,0] # market returns are column zero from numpy array\n",
    "#     s = np_array[:,1] # stock returns are column one from numpy array\n",
    "#     covariance = np.cov(s,m) # Calculate covariance between stock and market\n",
    "#     beta = covariance[0,1]/covariance[1,1]\n",
    "#     return beta"
   ]
  },
  {
   "cell_type": "code",
   "execution_count": 34,
   "metadata": {},
   "outputs": [],
   "source": [
    "# df = df_closing_prices\n",
    "# calc_beta(df)"
   ]
  },
  {
   "source": [
    "## R squared vs Beta\n",
    "\n",
    "R-squared measures how closely each change in the price of an asset is correlated to a benchmark. Beta measures how large those price changes are in relation to a benchmark. Used together, R-squared and beta give investors a thorough picture of the performance of asset managers."
   ],
   "cell_type": "markdown",
   "metadata": {}
  },
  {
   "cell_type": "code",
   "execution_count": 35,
   "metadata": {},
   "outputs": [],
   "source": [
    "# #Volatility\n",
    "# ann_sd = df_closing_prices.pct_change().apply(lambda x: np.log(1+x)).std().apply(lambda x: x*np.sqrt(252))\n",
    "# ann_sd"
   ]
  },
  {
   "cell_type": "code",
   "execution_count": 36,
   "metadata": {},
   "outputs": [
    {
     "output_type": "execute_result",
     "data": {
      "text/plain": [
       "      StandardDev  SharpeRatio       Beta\n",
       "AAPL     0.875474    -0.361657  -0.101292\n",
       "TSLA     1.179161     1.312184   0.003192\n",
       "GE       0.627663    -0.145546   5.932751\n",
       "F        0.559634    -0.148901  19.214629\n",
       "MSFT     0.441036     0.443472   1.159287\n",
       "NIO      1.024678     2.965524   1.565248\n",
       "PFE      0.359083    -0.561787   8.672733\n",
       "AMZN     0.387783     0.935744   0.042182\n",
       "AAL      1.033384    -0.286562   1.323091\n",
       "DIS      0.487598     0.202803   1.403225\n",
       "PLUG     1.032207     2.828580   2.704328"
      ],
      "text/html": "<div>\n<style scoped>\n    .dataframe tbody tr th:only-of-type {\n        vertical-align: middle;\n    }\n\n    .dataframe tbody tr th {\n        vertical-align: top;\n    }\n\n    .dataframe thead th {\n        text-align: right;\n    }\n</style>\n<table border=\"1\" class=\"dataframe\">\n  <thead>\n    <tr style=\"text-align: right;\">\n      <th></th>\n      <th>StandardDev</th>\n      <th>SharpeRatio</th>\n      <th>Beta</th>\n    </tr>\n  </thead>\n  <tbody>\n    <tr>\n      <th>AAPL</th>\n      <td>0.875474</td>\n      <td>-0.361657</td>\n      <td>-0.101292</td>\n    </tr>\n    <tr>\n      <th>TSLA</th>\n      <td>1.179161</td>\n      <td>1.312184</td>\n      <td>0.003192</td>\n    </tr>\n    <tr>\n      <th>GE</th>\n      <td>0.627663</td>\n      <td>-0.145546</td>\n      <td>5.932751</td>\n    </tr>\n    <tr>\n      <th>F</th>\n      <td>0.559634</td>\n      <td>-0.148901</td>\n      <td>19.214629</td>\n    </tr>\n    <tr>\n      <th>MSFT</th>\n      <td>0.441036</td>\n      <td>0.443472</td>\n      <td>1.159287</td>\n    </tr>\n    <tr>\n      <th>NIO</th>\n      <td>1.024678</td>\n      <td>2.965524</td>\n      <td>1.565248</td>\n    </tr>\n    <tr>\n      <th>PFE</th>\n      <td>0.359083</td>\n      <td>-0.561787</td>\n      <td>8.672733</td>\n    </tr>\n    <tr>\n      <th>AMZN</th>\n      <td>0.387783</td>\n      <td>0.935744</td>\n      <td>0.042182</td>\n    </tr>\n    <tr>\n      <th>AAL</th>\n      <td>1.033384</td>\n      <td>-0.286562</td>\n      <td>1.323091</td>\n    </tr>\n    <tr>\n      <th>DIS</th>\n      <td>0.487598</td>\n      <td>0.202803</td>\n      <td>1.403225</td>\n    </tr>\n    <tr>\n      <th>PLUG</th>\n      <td>1.032207</td>\n      <td>2.828580</td>\n      <td>2.704328</td>\n    </tr>\n  </tbody>\n</table>\n</div>"
     },
     "metadata": {},
     "execution_count": 36
    }
   ],
   "source": [
    "df_sharpe_std_beta"
   ]
  },
  {
   "cell_type": "code",
   "execution_count": 37,
   "metadata": {},
   "outputs": [],
   "source": [
    "# trial_Df = df_current_price.T\n",
    "# uno = pd.DataFrame(trial_Df)\n",
    "# todays_price = uno.rename(columns = {'2021-01-07':'CurrentPrice'})"
   ]
  },
  {
   "cell_type": "code",
   "execution_count": 38,
   "metadata": {},
   "outputs": [],
   "source": [
    "# hola = pd.concat([sharpe_std_beta, uno], axis=1)\n",
    "# hola"
   ]
  },
  {
   "cell_type": "code",
   "execution_count": null,
   "metadata": {},
   "outputs": [],
   "source": []
  }
 ]
}