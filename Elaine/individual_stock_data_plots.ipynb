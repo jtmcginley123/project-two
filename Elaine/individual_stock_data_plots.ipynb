git a{
 "metadata": {
  "language_info": {
   "codemirror_mode": {
    "name": "ipython",
    "version": 3
   },
   "file_extension": ".py",
   "mimetype": "text/x-python",
   "name": "python",
   "nbconvert_exporter": "python",
   "pygments_lexer": "ipython3",
   "version": "3.8.2-final"
  },
  "orig_nbformat": 2,
  "kernelspec": {
   "name": "python3",
   "display_name": "Python 3.8.2 64-bit ('base': conda)",
   "metadata": {
    "interpreter": {
     "hash": "56a644a375ea4b5ef3feff1fad3ae43f303344cfc6268772cbc953ab3c83b3f5"
    }
   }
  }
 },
 "nbformat": 4,
 "nbformat_minor": 2,
 "cells": [
  {
   "cell_type": "code",
   "execution_count": 62,
   "metadata": {},
   "outputs": [],
   "source": [
    "import requests\n",
    "from dotenv import load_dotenv\n",
    "import os \n",
    "import pandas as pd\n",
    "import numpy as np\n",
    "import alpaca_trade_api as tradeapi\n",
    "# from MCForecastTools import MCSimulation\n",
    "import json\n",
    "import matplotlib.pyplot as plt"
   ]
  },
  {
   "cell_type": "code",
   "execution_count": 63,
   "metadata": {},
   "outputs": [
    {
     "output_type": "execute_result",
     "data": {
      "text/plain": [
       "True"
      ]
     },
     "metadata": {},
     "execution_count": 63
    }
   ],
   "source": [
    "load_dotenv()"
   ]
  },
  {
   "cell_type": "code",
   "execution_count": 64,
   "metadata": {},
   "outputs": [],
   "source": [
    "# Set Alpaca API key and secret\n",
    "alpaca_api_key = os.getenv(\"ALPACA_API_KEY\")\n",
    "alpaca_secret_key = os.getenv(\"ALPACA_SECRET_KEY\")\n",
    "\n",
    "# Create the Alpaca API object\n",
    "# YOUR CODE HERE!\n",
    "alpaca = tradeapi.REST(\n",
    "    alpaca_api_key,\n",
    "    alpaca_secret_key,\n",
    "    api_version= \"v2\")"
   ]
  },
  {
   "cell_type": "code",
   "execution_count": 65,
   "metadata": {},
   "outputs": [],
   "source": [
    "current_date = pd.Timestamp(\"2020-01-05\", tz=\"America/New_York\").isoformat()\n",
    "\n",
    "tickers = [\"SPY\", \"AAPL\", \"TSLA\", \"GE\", \"F\", \"MSFT\",\"NIO\", \"PFE\", \"AMZN\",\"AAL\",\"DIS\",\"PLUG\"]\n",
    "\n",
    "\n",
    "timeframe = \"1D\""
   ]
  },
  {
   "cell_type": "code",
   "execution_count": 66,
   "metadata": {},
   "outputs": [],
   "source": [
    "df_spy = alpaca.get_barset(\n",
    "    tickers[0],\n",
    "    timeframe,\n",
    "    start=current_date\n",
    ").df\n"
   ]
  },
  {
   "cell_type": "code",
   "execution_count": 67,
   "metadata": {
    "tags": []
   },
   "outputs": [],
   "source": [
    "df_spy = df_spy.T.reset_index(drop=True).T"
   ]
  },
  {
   "cell_type": "code",
   "execution_count": 68,
   "metadata": {},
   "outputs": [],
   "source": [
    "df_spy_cv = df_spy.rename(columns={3:\"spy_close\", 4:\"spy_volume\"})"
   ]
  },
  {
   "cell_type": "code",
   "execution_count": 69,
   "metadata": {},
   "outputs": [],
   "source": [
    "# spy_cv = df_spy_cv[3,4]\n",
    "# print(df_spy_cv.columns)\n",
    "spy_df = df_spy_cv.loc[:,['spy_close', 'spy_volume']]"
   ]
  },
  {
   "cell_type": "code",
   "execution_count": 70,
   "metadata": {},
   "outputs": [],
   "source": [
    "df_aapl = alpaca.get_barset(\n",
    "    tickers[1],\n",
    "    timeframe,\n",
    "    start=current_date\n",
    ").df"
   ]
  },
  {
   "cell_type": "code",
   "execution_count": 71,
   "metadata": {},
   "outputs": [],
   "source": [
    "df_aapl = df_aapl.T.reset_index(drop=True).T"
   ]
  },
  {
   "cell_type": "code",
   "execution_count": 72,
   "metadata": {},
   "outputs": [],
   "source": [
    "df_aapl_cv = df_aapl.rename(columns={3:\"aapl_close\", 4:\"aapl_volume\"})"
   ]
  },
  {
   "cell_type": "code",
   "execution_count": 73,
   "metadata": {},
   "outputs": [],
   "source": [
    "aapl_df = df_aapl_cv.loc[:,['aapl_close', 'aapl_volume']]"
   ]
  },
  {
   "cell_type": "code",
   "execution_count": 74,
   "metadata": {},
   "outputs": [],
   "source": [
    "df_tsla = alpaca.get_barset(\n",
    "    tickers[2],\n",
    "    timeframe,\n",
    "    start=current_date\n",
    ").df"
   ]
  },
  {
   "cell_type": "code",
   "execution_count": 75,
   "metadata": {},
   "outputs": [],
   "source": [
    "df_tsla = df_tsla.T.reset_index(drop=True).T"
   ]
  },
  {
   "cell_type": "code",
   "execution_count": 76,
   "metadata": {},
   "outputs": [],
   "source": [
    "df_tsla_cv = df_tsla.rename(columns={3:\"tsla_close\", 4:\"tsla_volume\"})"
   ]
  },
  {
   "cell_type": "code",
   "execution_count": 77,
   "metadata": {},
   "outputs": [],
   "source": [
    "tsla_df = df_tsla_cv.loc[:,['tsla_close', 'tsla_volume']]"
   ]
  },
  {
   "cell_type": "code",
   "execution_count": 78,
   "metadata": {},
   "outputs": [],
   "source": [
    "df_ge = alpaca.get_barset(\n",
    "    tickers[3],\n",
    "    timeframe,\n",
    "    start=current_date\n",
    ").df"
   ]
  },
  {
   "cell_type": "code",
   "execution_count": 79,
   "metadata": {},
   "outputs": [],
   "source": [
    "df_ge = df_ge.T.reset_index(drop=True).T"
   ]
  },
  {
   "cell_type": "code",
   "execution_count": 80,
   "metadata": {},
   "outputs": [],
   "source": [
    "df_ge_cv = df_ge.rename(columns={3:\"ge_close\", 4:\"ge_volume\"})"
   ]
  },
  {
   "cell_type": "code",
   "execution_count": 81,
   "metadata": {},
   "outputs": [],
   "source": [
    "ge_df = df_ge_cv.loc[:,['ge_close', 'ge_volume']]"
   ]
  },
  {
   "cell_type": "code",
   "execution_count": 82,
   "metadata": {},
   "outputs": [],
   "source": [
    "df_f = alpaca.get_barset(\n",
    "    tickers[4],\n",
    "    timeframe,\n",
    "    start=current_date\n",
    ").df"
   ]
  },
  {
   "cell_type": "code",
   "execution_count": 83,
   "metadata": {},
   "outputs": [],
   "source": [
    "df_f = df_f.T.reset_index(drop=True).T"
   ]
  },
  {
   "cell_type": "code",
   "execution_count": 84,
   "metadata": {},
   "outputs": [],
   "source": [
    "df_f_cv = df_f.rename(columns={3:\"f_close\", 4:\"f_volume\"})"
   ]
  },
  {
   "cell_type": "code",
   "execution_count": 85,
   "metadata": {},
   "outputs": [],
   "source": [
    "f_df = df_f_cv.loc[:,['f_close', 'f_volume']]"
   ]
  },
  {
   "cell_type": "code",
   "execution_count": 86,
   "metadata": {},
   "outputs": [],
   "source": [
    "df_msft = alpaca.get_barset(\n",
    "    tickers[5],\n",
    "    timeframe,\n",
    "    start=current_date\n",
    ").df"
   ]
  },
  {
   "cell_type": "code",
   "execution_count": 87,
   "metadata": {},
   "outputs": [],
   "source": [
    "df_msft = df_msft.T.reset_index(drop=True).T"
   ]
  },
  {
   "cell_type": "code",
   "execution_count": 88,
   "metadata": {},
   "outputs": [],
   "source": [
    "df_msft_cv = df_msft.rename(columns={3:\"msft_close\", 4:\"msft_volume\"})"
   ]
  },
  {
   "cell_type": "code",
   "execution_count": 89,
   "metadata": {},
   "outputs": [],
   "source": [
    "msft_df = df_msft_cv.loc[:,['msft_close', 'msft_volume']]"
   ]
  },
  {
   "cell_type": "code",
   "execution_count": 90,
   "metadata": {},
   "outputs": [],
   "source": [
    "df_nio = alpaca.get_barset(\n",
    "    tickers[6],\n",
    "    timeframe,\n",
    "    start=current_date\n",
    ").df"
   ]
  },
  {
   "cell_type": "code",
   "execution_count": 91,
   "metadata": {},
   "outputs": [],
   "source": [
    "df_nio = df_nio.T.reset_index(drop=True).T"
   ]
  },
  {
   "cell_type": "code",
   "execution_count": 92,
   "metadata": {},
   "outputs": [],
   "source": [
    "df_nio_cv = df_nio.rename(columns={3:\"nio_close\", 4:\"nio_volume\"})"
   ]
  },
  {
   "cell_type": "code",
   "execution_count": 93,
   "metadata": {},
   "outputs": [],
   "source": [
    "nio_df = df_nio_cv.loc[:,['nio_close', 'nio_volume']]"
   ]
  },
  {
   "cell_type": "code",
   "execution_count": 94,
   "metadata": {},
   "outputs": [],
   "source": [
    "df_pfe = alpaca.get_barset(\n",
    "    tickers[7],\n",
    "    timeframe,\n",
    "    start=current_date\n",
    ").df"
   ]
  },
  {
   "cell_type": "code",
   "execution_count": 95,
   "metadata": {},
   "outputs": [],
   "source": [
    "df_pfe = df_pfe.T.reset_index(drop=True).T"
   ]
  },
  {
   "cell_type": "code",
   "execution_count": 96,
   "metadata": {},
   "outputs": [],
   "source": [
    "df_pfe_cv = df_pfe.rename(columns={3:\"pfe_close\", 4:\"pfe_volume\"})"
   ]
  },
  {
   "cell_type": "code",
   "execution_count": 97,
   "metadata": {},
   "outputs": [],
   "source": [
    "pfe_df = df_pfe_cv.loc[:,['pfe_close', 'pfe_volume']]"
   ]
  },
  {
   "cell_type": "code",
   "execution_count": 98,
   "metadata": {},
   "outputs": [],
   "source": [
    "df_amzn = alpaca.get_barset(\n",
    "    tickers[8],\n",
    "    timeframe,\n",
    "    start=current_date\n",
    ").df"
   ]
  },
  {
   "cell_type": "code",
   "execution_count": 99,
   "metadata": {},
   "outputs": [],
   "source": [
    "df_amzn = df_amzn.T.reset_index(drop=True).T"
   ]
  },
  {
   "cell_type": "code",
   "execution_count": 100,
   "metadata": {},
   "outputs": [],
   "source": [
    "df_amzn_cv = df_amzn.rename(columns={3:\"amzn_close\", 4:\"amzn_volume\"})"
   ]
  },
  {
   "cell_type": "code",
   "execution_count": 101,
   "metadata": {},
   "outputs": [],
   "source": [
    "amzn_df = df_amzn_cv.loc[:,['amzn_close', 'amzn_volume']]"
   ]
  },
  {
   "cell_type": "code",
   "execution_count": 102,
   "metadata": {},
   "outputs": [],
   "source": [
    "df_aal = alpaca.get_barset(\n",
    "    tickers[9],\n",
    "    timeframe,\n",
    "    start=current_date\n",
    ").df"
   ]
  },
  {
   "cell_type": "code",
   "execution_count": 103,
   "metadata": {},
   "outputs": [],
   "source": [
    "df_aal = df_aal.T.reset_index(drop=True).T"
   ]
  },
  {
   "cell_type": "code",
   "execution_count": 104,
   "metadata": {},
   "outputs": [],
   "source": [
    "df_aal_cv = df_aal.rename(columns={3:\"aal_close\", 4:\"aal_volume\"})"
   ]
  },
  {
   "cell_type": "code",
   "execution_count": 105,
   "metadata": {},
   "outputs": [],
   "source": [
    "aal_df = df_aal_cv.loc[:,['aal_close', 'aal_volume']]"
   ]
  },
  {
   "cell_type": "code",
   "execution_count": 106,
   "metadata": {},
   "outputs": [],
   "source": [
    "df_dis = alpaca.get_barset(\n",
    "    tickers[10],\n",
    "    timeframe,\n",
    "    start=current_date\n",
    ").df"
   ]
  },
  {
   "cell_type": "code",
   "execution_count": 107,
   "metadata": {},
   "outputs": [],
   "source": [
    "df_dis = df_dis.T.reset_index(drop=True).T"
   ]
  },
  {
   "cell_type": "code",
   "execution_count": 108,
   "metadata": {},
   "outputs": [],
   "source": [
    "df_dis_cv = df_dis.rename(columns={3:\"dis_close\", 4:\"dis_volume\"})"
   ]
  },
  {
   "cell_type": "code",
   "execution_count": 109,
   "metadata": {},
   "outputs": [],
   "source": [
    "dis_df = df_dis_cv.loc[:,['dis_close', 'dis_volume']]"
   ]
  },
  {
   "cell_type": "code",
   "execution_count": 110,
   "metadata": {},
   "outputs": [],
   "source": [
    "df_plug = alpaca.get_barset(\n",
    "    tickers[11],\n",
    "    timeframe,\n",
    "    start=current_date\n",
    ").df"
   ]
  },
  {
   "cell_type": "code",
   "execution_count": 111,
   "metadata": {},
   "outputs": [],
   "source": [
    "df_plug = df_plug.T.reset_index(drop=True).T"
   ]
  },
  {
   "cell_type": "code",
   "execution_count": 112,
   "metadata": {},
   "outputs": [],
   "source": [
    "df_plug_cv = df_plug.rename(columns={3:\"plug_close\", 4:\"plug_volume\"})"
   ]
  },
  {
   "cell_type": "code",
   "execution_count": 113,
   "metadata": {},
   "outputs": [],
   "source": [
    "plug_df = df_plug_cv.loc[:,['plug_close', 'plug_volume']]"
   ]
  },
  {
   "cell_type": "code",
   "execution_count": 114,
   "metadata": {},
   "outputs": [
    {
     "output_type": "execute_result",
     "data": {
      "text/plain": [
       "                           spy_close  spy_volume\n",
       "time                                            \n",
       "2020-01-06 00:00:00-05:00     323.67  43105385.0\n",
       "2020-01-07 00:00:00-05:00     322.76  33909984.0\n",
       "2020-01-08 00:00:00-05:00     324.42  56581814.0\n",
       "2020-01-09 00:00:00-05:00     326.62  43365068.0\n",
       "2020-01-10 00:00:00-05:00     325.70  44989039.0\n",
       "...                              ...         ...\n",
       "2021-01-06 00:00:00-05:00     373.53  91989131.0\n",
       "2021-01-07 00:00:00-05:00     379.06  58862006.0\n",
       "2021-01-08 00:00:00-05:00     381.24  60275466.0\n",
       "2021-01-11 00:00:00-05:00     378.74  44814805.0\n",
       "2021-01-12 00:00:00-05:00     378.81  45364896.0\n",
       "\n",
       "[258 rows x 2 columns]"
      ],
      "text/html": "<div>\n<style scoped>\n    .dataframe tbody tr th:only-of-type {\n        vertical-align: middle;\n    }\n\n    .dataframe tbody tr th {\n        vertical-align: top;\n    }\n\n    .dataframe thead th {\n        text-align: right;\n    }\n</style>\n<table border=\"1\" class=\"dataframe\">\n  <thead>\n    <tr style=\"text-align: right;\">\n      <th></th>\n      <th>spy_close</th>\n      <th>spy_volume</th>\n    </tr>\n    <tr>\n      <th>time</th>\n      <th></th>\n      <th></th>\n    </tr>\n  </thead>\n  <tbody>\n    <tr>\n      <th>2020-01-06 00:00:00-05:00</th>\n      <td>323.67</td>\n      <td>43105385.0</td>\n    </tr>\n    <tr>\n      <th>2020-01-07 00:00:00-05:00</th>\n      <td>322.76</td>\n      <td>33909984.0</td>\n    </tr>\n    <tr>\n      <th>2020-01-08 00:00:00-05:00</th>\n      <td>324.42</td>\n      <td>56581814.0</td>\n    </tr>\n    <tr>\n      <th>2020-01-09 00:00:00-05:00</th>\n      <td>326.62</td>\n      <td>43365068.0</td>\n    </tr>\n    <tr>\n      <th>2020-01-10 00:00:00-05:00</th>\n      <td>325.70</td>\n      <td>44989039.0</td>\n    </tr>\n    <tr>\n      <th>...</th>\n      <td>...</td>\n      <td>...</td>\n    </tr>\n    <tr>\n      <th>2021-01-06 00:00:00-05:00</th>\n      <td>373.53</td>\n      <td>91989131.0</td>\n    </tr>\n    <tr>\n      <th>2021-01-07 00:00:00-05:00</th>\n      <td>379.06</td>\n      <td>58862006.0</td>\n    </tr>\n    <tr>\n      <th>2021-01-08 00:00:00-05:00</th>\n      <td>381.24</td>\n      <td>60275466.0</td>\n    </tr>\n    <tr>\n      <th>2021-01-11 00:00:00-05:00</th>\n      <td>378.74</td>\n      <td>44814805.0</td>\n    </tr>\n    <tr>\n      <th>2021-01-12 00:00:00-05:00</th>\n      <td>378.81</td>\n      <td>45364896.0</td>\n    </tr>\n  </tbody>\n</table>\n<p>258 rows × 2 columns</p>\n</div>"
     },
     "metadata": {},
     "execution_count": 114
    }
   ],
   "source": [
    "spy_df"
   ]
  },
  {
   "cell_type": "code",
   "execution_count": 115,
   "metadata": {},
   "outputs": [
    {
     "output_type": "execute_result",
     "data": {
      "text/plain": [
       "                           aapl_close  aapl_volume\n",
       "time                                              \n",
       "2020-01-06 00:00:00-05:00    299.7800   27487207.0\n",
       "2020-01-07 00:00:00-05:00    298.2700   23877417.0\n",
       "2020-01-08 00:00:00-05:00    303.1500   29547763.0\n",
       "2020-01-09 00:00:00-05:00    309.7100   39240341.0\n",
       "2020-01-10 00:00:00-05:00    310.3700   32981826.0\n",
       "...                               ...          ...\n",
       "2021-01-06 00:00:00-05:00    126.5800  142064548.0\n",
       "2021-01-07 00:00:00-05:00    130.8500   95314687.0\n",
       "2021-01-08 00:00:00-05:00    131.9900   93211863.0\n",
       "2021-01-11 00:00:00-05:00    128.9800   84845947.0\n",
       "2021-01-12 00:00:00-05:00    128.8199   83381829.0\n",
       "\n",
       "[258 rows x 2 columns]"
      ],
      "text/html": "<div>\n<style scoped>\n    .dataframe tbody tr th:only-of-type {\n        vertical-align: middle;\n    }\n\n    .dataframe tbody tr th {\n        vertical-align: top;\n    }\n\n    .dataframe thead th {\n        text-align: right;\n    }\n</style>\n<table border=\"1\" class=\"dataframe\">\n  <thead>\n    <tr style=\"text-align: right;\">\n      <th></th>\n      <th>aapl_close</th>\n      <th>aapl_volume</th>\n    </tr>\n    <tr>\n      <th>time</th>\n      <th></th>\n      <th></th>\n    </tr>\n  </thead>\n  <tbody>\n    <tr>\n      <th>2020-01-06 00:00:00-05:00</th>\n      <td>299.7800</td>\n      <td>27487207.0</td>\n    </tr>\n    <tr>\n      <th>2020-01-07 00:00:00-05:00</th>\n      <td>298.2700</td>\n      <td>23877417.0</td>\n    </tr>\n    <tr>\n      <th>2020-01-08 00:00:00-05:00</th>\n      <td>303.1500</td>\n      <td>29547763.0</td>\n    </tr>\n    <tr>\n      <th>2020-01-09 00:00:00-05:00</th>\n      <td>309.7100</td>\n      <td>39240341.0</td>\n    </tr>\n    <tr>\n      <th>2020-01-10 00:00:00-05:00</th>\n      <td>310.3700</td>\n      <td>32981826.0</td>\n    </tr>\n    <tr>\n      <th>...</th>\n      <td>...</td>\n      <td>...</td>\n    </tr>\n    <tr>\n      <th>2021-01-06 00:00:00-05:00</th>\n      <td>126.5800</td>\n      <td>142064548.0</td>\n    </tr>\n    <tr>\n      <th>2021-01-07 00:00:00-05:00</th>\n      <td>130.8500</td>\n      <td>95314687.0</td>\n    </tr>\n    <tr>\n      <th>2021-01-08 00:00:00-05:00</th>\n      <td>131.9900</td>\n      <td>93211863.0</td>\n    </tr>\n    <tr>\n      <th>2021-01-11 00:00:00-05:00</th>\n      <td>128.9800</td>\n      <td>84845947.0</td>\n    </tr>\n    <tr>\n      <th>2021-01-12 00:00:00-05:00</th>\n      <td>128.8199</td>\n      <td>83381829.0</td>\n    </tr>\n  </tbody>\n</table>\n<p>258 rows × 2 columns</p>\n</div>"
     },
     "metadata": {},
     "execution_count": 115
    }
   ],
   "source": [
    "aapl_df"
   ]
  },
  {
   "cell_type": "code",
   "execution_count": 116,
   "metadata": {},
   "outputs": [
    {
     "output_type": "execute_result",
     "data": {
      "text/plain": [
       "                           tsla_close  tsla_volume\n",
       "time                                              \n",
       "2020-01-06 00:00:00-05:00    451.4001    9807049.0\n",
       "2020-01-07 00:00:00-05:00    469.1700   16859537.0\n",
       "2020-01-08 00:00:00-05:00    492.0900   29804104.0\n",
       "2020-01-09 00:00:00-05:00    481.4900   26901507.0\n",
       "2020-01-10 00:00:00-05:00    477.9600   12365563.0\n",
       "...                               ...          ...\n",
       "2021-01-06 00:00:00-05:00    756.4600   41989335.0\n",
       "2021-01-07 00:00:00-05:00    816.2400   48080256.0\n",
       "2021-01-08 00:00:00-05:00    880.0300   71814487.0\n",
       "2021-01-11 00:00:00-05:00    811.1800   55755718.0\n",
       "2021-01-12 00:00:00-05:00    849.2200   43550554.0\n",
       "\n",
       "[258 rows x 2 columns]"
      ],
      "text/html": "<div>\n<style scoped>\n    .dataframe tbody tr th:only-of-type {\n        vertical-align: middle;\n    }\n\n    .dataframe tbody tr th {\n        vertical-align: top;\n    }\n\n    .dataframe thead th {\n        text-align: right;\n    }\n</style>\n<table border=\"1\" class=\"dataframe\">\n  <thead>\n    <tr style=\"text-align: right;\">\n      <th></th>\n      <th>tsla_close</th>\n      <th>tsla_volume</th>\n    </tr>\n    <tr>\n      <th>time</th>\n      <th></th>\n      <th></th>\n    </tr>\n  </thead>\n  <tbody>\n    <tr>\n      <th>2020-01-06 00:00:00-05:00</th>\n      <td>451.4001</td>\n      <td>9807049.0</td>\n    </tr>\n    <tr>\n      <th>2020-01-07 00:00:00-05:00</th>\n      <td>469.1700</td>\n      <td>16859537.0</td>\n    </tr>\n    <tr>\n      <th>2020-01-08 00:00:00-05:00</th>\n      <td>492.0900</td>\n      <td>29804104.0</td>\n    </tr>\n    <tr>\n      <th>2020-01-09 00:00:00-05:00</th>\n      <td>481.4900</td>\n      <td>26901507.0</td>\n    </tr>\n    <tr>\n      <th>2020-01-10 00:00:00-05:00</th>\n      <td>477.9600</td>\n      <td>12365563.0</td>\n    </tr>\n    <tr>\n      <th>...</th>\n      <td>...</td>\n      <td>...</td>\n    </tr>\n    <tr>\n      <th>2021-01-06 00:00:00-05:00</th>\n      <td>756.4600</td>\n      <td>41989335.0</td>\n    </tr>\n    <tr>\n      <th>2021-01-07 00:00:00-05:00</th>\n      <td>816.2400</td>\n      <td>48080256.0</td>\n    </tr>\n    <tr>\n      <th>2021-01-08 00:00:00-05:00</th>\n      <td>880.0300</td>\n      <td>71814487.0</td>\n    </tr>\n    <tr>\n      <th>2021-01-11 00:00:00-05:00</th>\n      <td>811.1800</td>\n      <td>55755718.0</td>\n    </tr>\n    <tr>\n      <th>2021-01-12 00:00:00-05:00</th>\n      <td>849.2200</td>\n      <td>43550554.0</td>\n    </tr>\n  </tbody>\n</table>\n<p>258 rows × 2 columns</p>\n</div>"
     },
     "metadata": {},
     "execution_count": 116
    }
   ],
   "source": [
    "tsla_df"
   ]
  },
  {
   "cell_type": "code",
   "execution_count": 117,
   "metadata": {},
   "outputs": [
    {
     "output_type": "execute_result",
     "data": {
      "text/plain": [
       "                           ge_close    ge_volume\n",
       "time                                            \n",
       "2020-01-06 00:00:00-05:00    12.140   88077970.0\n",
       "2020-01-07 00:00:00-05:00    12.055   60320592.0\n",
       "2020-01-08 00:00:00-05:00    11.930   37749100.0\n",
       "2020-01-09 00:00:00-05:00    11.900   30503177.0\n",
       "2020-01-10 00:00:00-05:00    11.670   51097374.0\n",
       "...                             ...          ...\n",
       "2021-01-06 00:00:00-05:00    11.360  125493580.0\n",
       "2021-01-07 00:00:00-05:00    11.280   63810500.0\n",
       "2021-01-08 00:00:00-05:00    11.340   66949654.0\n",
       "2021-01-11 00:00:00-05:00    11.455   55821494.0\n",
       "2021-01-12 00:00:00-05:00    11.775  171437636.0\n",
       "\n",
       "[258 rows x 2 columns]"
      ],
      "text/html": "<div>\n<style scoped>\n    .dataframe tbody tr th:only-of-type {\n        vertical-align: middle;\n    }\n\n    .dataframe tbody tr th {\n        vertical-align: top;\n    }\n\n    .dataframe thead th {\n        text-align: right;\n    }\n</style>\n<table border=\"1\" class=\"dataframe\">\n  <thead>\n    <tr style=\"text-align: right;\">\n      <th></th>\n      <th>ge_close</th>\n      <th>ge_volume</th>\n    </tr>\n    <tr>\n      <th>time</th>\n      <th></th>\n      <th></th>\n    </tr>\n  </thead>\n  <tbody>\n    <tr>\n      <th>2020-01-06 00:00:00-05:00</th>\n      <td>12.140</td>\n      <td>88077970.0</td>\n    </tr>\n    <tr>\n      <th>2020-01-07 00:00:00-05:00</th>\n      <td>12.055</td>\n      <td>60320592.0</td>\n    </tr>\n    <tr>\n      <th>2020-01-08 00:00:00-05:00</th>\n      <td>11.930</td>\n      <td>37749100.0</td>\n    </tr>\n    <tr>\n      <th>2020-01-09 00:00:00-05:00</th>\n      <td>11.900</td>\n      <td>30503177.0</td>\n    </tr>\n    <tr>\n      <th>2020-01-10 00:00:00-05:00</th>\n      <td>11.670</td>\n      <td>51097374.0</td>\n    </tr>\n    <tr>\n      <th>...</th>\n      <td>...</td>\n      <td>...</td>\n    </tr>\n    <tr>\n      <th>2021-01-06 00:00:00-05:00</th>\n      <td>11.360</td>\n      <td>125493580.0</td>\n    </tr>\n    <tr>\n      <th>2021-01-07 00:00:00-05:00</th>\n      <td>11.280</td>\n      <td>63810500.0</td>\n    </tr>\n    <tr>\n      <th>2021-01-08 00:00:00-05:00</th>\n      <td>11.340</td>\n      <td>66949654.0</td>\n    </tr>\n    <tr>\n      <th>2021-01-11 00:00:00-05:00</th>\n      <td>11.455</td>\n      <td>55821494.0</td>\n    </tr>\n    <tr>\n      <th>2021-01-12 00:00:00-05:00</th>\n      <td>11.775</td>\n      <td>171437636.0</td>\n    </tr>\n  </tbody>\n</table>\n<p>258 rows × 2 columns</p>\n</div>"
     },
     "metadata": {},
     "execution_count": 117
    }
   ],
   "source": [
    "ge_df"
   ]
  },
  {
   "cell_type": "code",
   "execution_count": 118,
   "metadata": {},
   "outputs": [
    {
     "output_type": "execute_result",
     "data": {
      "text/plain": [
       "                           f_close     f_volume\n",
       "time                                           \n",
       "2020-01-06 00:00:00-05:00   9.1500   31435591.0\n",
       "2020-01-07 00:00:00-05:00   9.2500   36037508.0\n",
       "2020-01-08 00:00:00-05:00   9.2500   38770841.0\n",
       "2020-01-09 00:00:00-05:00   9.2750   34679388.0\n",
       "2020-01-10 00:00:00-05:00   9.2500   31789697.0\n",
       "...                            ...          ...\n",
       "2021-01-06 00:00:00-05:00   8.8422   68520361.0\n",
       "2021-01-07 00:00:00-05:00   9.0500   70837077.0\n",
       "2021-01-08 00:00:00-05:00   9.0000   57267427.0\n",
       "2021-01-11 00:00:00-05:00   9.3000   91818823.0\n",
       "2021-01-12 00:00:00-05:00   9.7750  238887777.0\n",
       "\n",
       "[258 rows x 2 columns]"
      ],
      "text/html": "<div>\n<style scoped>\n    .dataframe tbody tr th:only-of-type {\n        vertical-align: middle;\n    }\n\n    .dataframe tbody tr th {\n        vertical-align: top;\n    }\n\n    .dataframe thead th {\n        text-align: right;\n    }\n</style>\n<table border=\"1\" class=\"dataframe\">\n  <thead>\n    <tr style=\"text-align: right;\">\n      <th></th>\n      <th>f_close</th>\n      <th>f_volume</th>\n    </tr>\n    <tr>\n      <th>time</th>\n      <th></th>\n      <th></th>\n    </tr>\n  </thead>\n  <tbody>\n    <tr>\n      <th>2020-01-06 00:00:00-05:00</th>\n      <td>9.1500</td>\n      <td>31435591.0</td>\n    </tr>\n    <tr>\n      <th>2020-01-07 00:00:00-05:00</th>\n      <td>9.2500</td>\n      <td>36037508.0</td>\n    </tr>\n    <tr>\n      <th>2020-01-08 00:00:00-05:00</th>\n      <td>9.2500</td>\n      <td>38770841.0</td>\n    </tr>\n    <tr>\n      <th>2020-01-09 00:00:00-05:00</th>\n      <td>9.2750</td>\n      <td>34679388.0</td>\n    </tr>\n    <tr>\n      <th>2020-01-10 00:00:00-05:00</th>\n      <td>9.2500</td>\n      <td>31789697.0</td>\n    </tr>\n    <tr>\n      <th>...</th>\n      <td>...</td>\n      <td>...</td>\n    </tr>\n    <tr>\n      <th>2021-01-06 00:00:00-05:00</th>\n      <td>8.8422</td>\n      <td>68520361.0</td>\n    </tr>\n    <tr>\n      <th>2021-01-07 00:00:00-05:00</th>\n      <td>9.0500</td>\n      <td>70837077.0</td>\n    </tr>\n    <tr>\n      <th>2021-01-08 00:00:00-05:00</th>\n      <td>9.0000</td>\n      <td>57267427.0</td>\n    </tr>\n    <tr>\n      <th>2021-01-11 00:00:00-05:00</th>\n      <td>9.3000</td>\n      <td>91818823.0</td>\n    </tr>\n    <tr>\n      <th>2021-01-12 00:00:00-05:00</th>\n      <td>9.7750</td>\n      <td>238887777.0</td>\n    </tr>\n  </tbody>\n</table>\n<p>258 rows × 2 columns</p>\n</div>"
     },
     "metadata": {},
     "execution_count": 118
    }
   ],
   "source": [
    "f_df"
   ]
  },
  {
   "cell_type": "code",
   "execution_count": 119,
   "metadata": {},
   "outputs": [
    {
     "output_type": "execute_result",
     "data": {
      "text/plain": [
       "                           msft_close  msft_volume\n",
       "time                                              \n",
       "2020-01-06 00:00:00-05:00      159.02   15146928.0\n",
       "2020-01-07 00:00:00-05:00      157.60   17871760.0\n",
       "2020-01-08 00:00:00-05:00      160.14   22149039.0\n",
       "2020-01-09 00:00:00-05:00      162.09   16868379.0\n",
       "2020-01-10 00:00:00-05:00      161.32   17493193.0\n",
       "...                               ...          ...\n",
       "2021-01-06 00:00:00-05:00      212.22   29768110.0\n",
       "2021-01-07 00:00:00-05:00      218.29   20366208.0\n",
       "2021-01-08 00:00:00-05:00      219.55   18248721.0\n",
       "2021-01-11 00:00:00-05:00      217.50   15604905.0\n",
       "2021-01-12 00:00:00-05:00      214.93   20628633.0\n",
       "\n",
       "[258 rows x 2 columns]"
      ],
      "text/html": "<div>\n<style scoped>\n    .dataframe tbody tr th:only-of-type {\n        vertical-align: middle;\n    }\n\n    .dataframe tbody tr th {\n        vertical-align: top;\n    }\n\n    .dataframe thead th {\n        text-align: right;\n    }\n</style>\n<table border=\"1\" class=\"dataframe\">\n  <thead>\n    <tr style=\"text-align: right;\">\n      <th></th>\n      <th>msft_close</th>\n      <th>msft_volume</th>\n    </tr>\n    <tr>\n      <th>time</th>\n      <th></th>\n      <th></th>\n    </tr>\n  </thead>\n  <tbody>\n    <tr>\n      <th>2020-01-06 00:00:00-05:00</th>\n      <td>159.02</td>\n      <td>15146928.0</td>\n    </tr>\n    <tr>\n      <th>2020-01-07 00:00:00-05:00</th>\n      <td>157.60</td>\n      <td>17871760.0</td>\n    </tr>\n    <tr>\n      <th>2020-01-08 00:00:00-05:00</th>\n      <td>160.14</td>\n      <td>22149039.0</td>\n    </tr>\n    <tr>\n      <th>2020-01-09 00:00:00-05:00</th>\n      <td>162.09</td>\n      <td>16868379.0</td>\n    </tr>\n    <tr>\n      <th>2020-01-10 00:00:00-05:00</th>\n      <td>161.32</td>\n      <td>17493193.0</td>\n    </tr>\n    <tr>\n      <th>...</th>\n      <td>...</td>\n      <td>...</td>\n    </tr>\n    <tr>\n      <th>2021-01-06 00:00:00-05:00</th>\n      <td>212.22</td>\n      <td>29768110.0</td>\n    </tr>\n    <tr>\n      <th>2021-01-07 00:00:00-05:00</th>\n      <td>218.29</td>\n      <td>20366208.0</td>\n    </tr>\n    <tr>\n      <th>2021-01-08 00:00:00-05:00</th>\n      <td>219.55</td>\n      <td>18248721.0</td>\n    </tr>\n    <tr>\n      <th>2021-01-11 00:00:00-05:00</th>\n      <td>217.50</td>\n      <td>15604905.0</td>\n    </tr>\n    <tr>\n      <th>2021-01-12 00:00:00-05:00</th>\n      <td>214.93</td>\n      <td>20628633.0</td>\n    </tr>\n  </tbody>\n</table>\n<p>258 rows × 2 columns</p>\n</div>"
     },
     "metadata": {},
     "execution_count": 119
    }
   ],
   "source": [
    "msft_df"
   ]
  },
  {
   "cell_type": "code",
   "execution_count": 120,
   "metadata": {},
   "outputs": [
    {
     "output_type": "execute_result",
     "data": {
      "text/plain": [
       "                           nio_close   nio_volume\n",
       "time                                             \n",
       "2020-01-06 00:00:00-05:00     3.6900   98224315.0\n",
       "2020-01-07 00:00:00-05:00     3.2500  100309137.0\n",
       "2020-01-08 00:00:00-05:00     3.3850   60130244.0\n",
       "2020-01-09 00:00:00-05:00     3.4700   51395446.0\n",
       "2020-01-10 00:00:00-05:00     3.5100   33027919.0\n",
       "...                              ...          ...\n",
       "2021-01-06 00:00:00-05:00    50.5234  170401612.0\n",
       "2021-01-07 00:00:00-05:00    54.2500  112050972.0\n",
       "2021-01-08 00:00:00-05:00    58.9100  208053275.0\n",
       "2021-01-11 00:00:00-05:00    62.7250  243764983.0\n",
       "2021-01-12 00:00:00-05:00    61.9400  340461962.0\n",
       "\n",
       "[258 rows x 2 columns]"
      ],
      "text/html": "<div>\n<style scoped>\n    .dataframe tbody tr th:only-of-type {\n        vertical-align: middle;\n    }\n\n    .dataframe tbody tr th {\n        vertical-align: top;\n    }\n\n    .dataframe thead th {\n        text-align: right;\n    }\n</style>\n<table border=\"1\" class=\"dataframe\">\n  <thead>\n    <tr style=\"text-align: right;\">\n      <th></th>\n      <th>nio_close</th>\n      <th>nio_volume</th>\n    </tr>\n    <tr>\n      <th>time</th>\n      <th></th>\n      <th></th>\n    </tr>\n  </thead>\n  <tbody>\n    <tr>\n      <th>2020-01-06 00:00:00-05:00</th>\n      <td>3.6900</td>\n      <td>98224315.0</td>\n    </tr>\n    <tr>\n      <th>2020-01-07 00:00:00-05:00</th>\n      <td>3.2500</td>\n      <td>100309137.0</td>\n    </tr>\n    <tr>\n      <th>2020-01-08 00:00:00-05:00</th>\n      <td>3.3850</td>\n      <td>60130244.0</td>\n    </tr>\n    <tr>\n      <th>2020-01-09 00:00:00-05:00</th>\n      <td>3.4700</td>\n      <td>51395446.0</td>\n    </tr>\n    <tr>\n      <th>2020-01-10 00:00:00-05:00</th>\n      <td>3.5100</td>\n      <td>33027919.0</td>\n    </tr>\n    <tr>\n      <th>...</th>\n      <td>...</td>\n      <td>...</td>\n    </tr>\n    <tr>\n      <th>2021-01-06 00:00:00-05:00</th>\n      <td>50.5234</td>\n      <td>170401612.0</td>\n    </tr>\n    <tr>\n      <th>2021-01-07 00:00:00-05:00</th>\n      <td>54.2500</td>\n      <td>112050972.0</td>\n    </tr>\n    <tr>\n      <th>2021-01-08 00:00:00-05:00</th>\n      <td>58.9100</td>\n      <td>208053275.0</td>\n    </tr>\n    <tr>\n      <th>2021-01-11 00:00:00-05:00</th>\n      <td>62.7250</td>\n      <td>243764983.0</td>\n    </tr>\n    <tr>\n      <th>2021-01-12 00:00:00-05:00</th>\n      <td>61.9400</td>\n      <td>340461962.0</td>\n    </tr>\n  </tbody>\n</table>\n<p>258 rows × 2 columns</p>\n</div>"
     },
     "metadata": {},
     "execution_count": 120
    }
   ],
   "source": [
    "nio_df"
   ]
  },
  {
   "cell_type": "code",
   "execution_count": 121,
   "metadata": {},
   "outputs": [
    {
     "output_type": "execute_result",
     "data": {
      "text/plain": [
       "                           pfe_close  pfe_volume\n",
       "time                                            \n",
       "2020-01-06 00:00:00-05:00     38.870  10206988.0\n",
       "2020-01-07 00:00:00-05:00     38.760  15412402.0\n",
       "2020-01-08 00:00:00-05:00     39.050  12490932.0\n",
       "2020-01-09 00:00:00-05:00     38.890  15008669.0\n",
       "2020-01-10 00:00:00-05:00     39.490  17128495.0\n",
       "...                              ...         ...\n",
       "2021-01-06 00:00:00-05:00     36.880  29131691.0\n",
       "2021-01-07 00:00:00-05:00     37.050  23988415.0\n",
       "2021-01-08 00:00:00-05:00     37.120  29721152.0\n",
       "2021-01-11 00:00:00-05:00     37.770  35904756.0\n",
       "2021-01-12 00:00:00-05:00     37.172  88576690.0\n",
       "\n",
       "[258 rows x 2 columns]"
      ],
      "text/html": "<div>\n<style scoped>\n    .dataframe tbody tr th:only-of-type {\n        vertical-align: middle;\n    }\n\n    .dataframe tbody tr th {\n        vertical-align: top;\n    }\n\n    .dataframe thead th {\n        text-align: right;\n    }\n</style>\n<table border=\"1\" class=\"dataframe\">\n  <thead>\n    <tr style=\"text-align: right;\">\n      <th></th>\n      <th>pfe_close</th>\n      <th>pfe_volume</th>\n    </tr>\n    <tr>\n      <th>time</th>\n      <th></th>\n      <th></th>\n    </tr>\n  </thead>\n  <tbody>\n    <tr>\n      <th>2020-01-06 00:00:00-05:00</th>\n      <td>38.870</td>\n      <td>10206988.0</td>\n    </tr>\n    <tr>\n      <th>2020-01-07 00:00:00-05:00</th>\n      <td>38.760</td>\n      <td>15412402.0</td>\n    </tr>\n    <tr>\n      <th>2020-01-08 00:00:00-05:00</th>\n      <td>39.050</td>\n      <td>12490932.0</td>\n    </tr>\n    <tr>\n      <th>2020-01-09 00:00:00-05:00</th>\n      <td>38.890</td>\n      <td>15008669.0</td>\n    </tr>\n    <tr>\n      <th>2020-01-10 00:00:00-05:00</th>\n      <td>39.490</td>\n      <td>17128495.0</td>\n    </tr>\n    <tr>\n      <th>...</th>\n      <td>...</td>\n      <td>...</td>\n    </tr>\n    <tr>\n      <th>2021-01-06 00:00:00-05:00</th>\n      <td>36.880</td>\n      <td>29131691.0</td>\n    </tr>\n    <tr>\n      <th>2021-01-07 00:00:00-05:00</th>\n      <td>37.050</td>\n      <td>23988415.0</td>\n    </tr>\n    <tr>\n      <th>2021-01-08 00:00:00-05:00</th>\n      <td>37.120</td>\n      <td>29721152.0</td>\n    </tr>\n    <tr>\n      <th>2021-01-11 00:00:00-05:00</th>\n      <td>37.770</td>\n      <td>35904756.0</td>\n    </tr>\n    <tr>\n      <th>2021-01-12 00:00:00-05:00</th>\n      <td>37.172</td>\n      <td>88576690.0</td>\n    </tr>\n  </tbody>\n</table>\n<p>258 rows × 2 columns</p>\n</div>"
     },
     "metadata": {},
     "execution_count": 121
    }
   ],
   "source": [
    "pfe_df"
   ]
  },
  {
   "cell_type": "code",
   "execution_count": 122,
   "metadata": {},
   "outputs": [
    {
     "output_type": "execute_result",
     "data": {
      "text/plain": [
       "                           amzn_close  amzn_volume\n",
       "time                                              \n",
       "2020-01-06 00:00:00-05:00     1903.33    3598872.0\n",
       "2020-01-07 00:00:00-05:00     1906.86    3569706.0\n",
       "2020-01-08 00:00:00-05:00     1892.09    3100021.0\n",
       "2020-01-09 00:00:00-05:00     1901.00    2913887.0\n",
       "2020-01-10 00:00:00-05:00     1882.98    2652859.0\n",
       "...                               ...          ...\n",
       "2021-01-06 00:00:00-05:00     3138.01    3919285.0\n",
       "2021-01-07 00:00:00-05:00     3161.41    2951339.0\n",
       "2021-01-08 00:00:00-05:00     3182.70    3261271.0\n",
       "2021-01-11 00:00:00-05:00     3115.75    3263070.0\n",
       "2021-01-12 00:00:00-05:00     3120.88    3009716.0\n",
       "\n",
       "[258 rows x 2 columns]"
      ],
      "text/html": "<div>\n<style scoped>\n    .dataframe tbody tr th:only-of-type {\n        vertical-align: middle;\n    }\n\n    .dataframe tbody tr th {\n        vertical-align: top;\n    }\n\n    .dataframe thead th {\n        text-align: right;\n    }\n</style>\n<table border=\"1\" class=\"dataframe\">\n  <thead>\n    <tr style=\"text-align: right;\">\n      <th></th>\n      <th>amzn_close</th>\n      <th>amzn_volume</th>\n    </tr>\n    <tr>\n      <th>time</th>\n      <th></th>\n      <th></th>\n    </tr>\n  </thead>\n  <tbody>\n    <tr>\n      <th>2020-01-06 00:00:00-05:00</th>\n      <td>1903.33</td>\n      <td>3598872.0</td>\n    </tr>\n    <tr>\n      <th>2020-01-07 00:00:00-05:00</th>\n      <td>1906.86</td>\n      <td>3569706.0</td>\n    </tr>\n    <tr>\n      <th>2020-01-08 00:00:00-05:00</th>\n      <td>1892.09</td>\n      <td>3100021.0</td>\n    </tr>\n    <tr>\n      <th>2020-01-09 00:00:00-05:00</th>\n      <td>1901.00</td>\n      <td>2913887.0</td>\n    </tr>\n    <tr>\n      <th>2020-01-10 00:00:00-05:00</th>\n      <td>1882.98</td>\n      <td>2652859.0</td>\n    </tr>\n    <tr>\n      <th>...</th>\n      <td>...</td>\n      <td>...</td>\n    </tr>\n    <tr>\n      <th>2021-01-06 00:00:00-05:00</th>\n      <td>3138.01</td>\n      <td>3919285.0</td>\n    </tr>\n    <tr>\n      <th>2021-01-07 00:00:00-05:00</th>\n      <td>3161.41</td>\n      <td>2951339.0</td>\n    </tr>\n    <tr>\n      <th>2021-01-08 00:00:00-05:00</th>\n      <td>3182.70</td>\n      <td>3261271.0</td>\n    </tr>\n    <tr>\n      <th>2021-01-11 00:00:00-05:00</th>\n      <td>3115.75</td>\n      <td>3263070.0</td>\n    </tr>\n    <tr>\n      <th>2021-01-12 00:00:00-05:00</th>\n      <td>3120.88</td>\n      <td>3009716.0</td>\n    </tr>\n  </tbody>\n</table>\n<p>258 rows × 2 columns</p>\n</div>"
     },
     "metadata": {},
     "execution_count": 122
    }
   ],
   "source": [
    "amzn_df"
   ]
  },
  {
   "cell_type": "code",
   "execution_count": 123,
   "metadata": {},
   "outputs": [
    {
     "output_type": "execute_result",
     "data": {
      "text/plain": [
       "                           aal_close  aal_volume\n",
       "time                                            \n",
       "2020-01-06 00:00:00-05:00     27.320   5383583.0\n",
       "2020-01-07 00:00:00-05:00     27.220   5570129.0\n",
       "2020-01-08 00:00:00-05:00     27.840   9479470.0\n",
       "2020-01-09 00:00:00-05:00     27.950   5923245.0\n",
       "2020-01-10 00:00:00-05:00     27.320   7291102.0\n",
       "...                              ...         ...\n",
       "2021-01-06 00:00:00-05:00     15.520  61348418.0\n",
       "2021-01-07 00:00:00-05:00     15.380  45503976.0\n",
       "2021-01-08 00:00:00-05:00     15.115  54302647.0\n",
       "2021-01-11 00:00:00-05:00     15.005  38241743.0\n",
       "2021-01-12 00:00:00-05:00     15.370  44835719.0\n",
       "\n",
       "[258 rows x 2 columns]"
      ],
      "text/html": "<div>\n<style scoped>\n    .dataframe tbody tr th:only-of-type {\n        vertical-align: middle;\n    }\n\n    .dataframe tbody tr th {\n        vertical-align: top;\n    }\n\n    .dataframe thead th {\n        text-align: right;\n    }\n</style>\n<table border=\"1\" class=\"dataframe\">\n  <thead>\n    <tr style=\"text-align: right;\">\n      <th></th>\n      <th>aal_close</th>\n      <th>aal_volume</th>\n    </tr>\n    <tr>\n      <th>time</th>\n      <th></th>\n      <th></th>\n    </tr>\n  </thead>\n  <tbody>\n    <tr>\n      <th>2020-01-06 00:00:00-05:00</th>\n      <td>27.320</td>\n      <td>5383583.0</td>\n    </tr>\n    <tr>\n      <th>2020-01-07 00:00:00-05:00</th>\n      <td>27.220</td>\n      <td>5570129.0</td>\n    </tr>\n    <tr>\n      <th>2020-01-08 00:00:00-05:00</th>\n      <td>27.840</td>\n      <td>9479470.0</td>\n    </tr>\n    <tr>\n      <th>2020-01-09 00:00:00-05:00</th>\n      <td>27.950</td>\n      <td>5923245.0</td>\n    </tr>\n    <tr>\n      <th>2020-01-10 00:00:00-05:00</th>\n      <td>27.320</td>\n      <td>7291102.0</td>\n    </tr>\n    <tr>\n      <th>...</th>\n      <td>...</td>\n      <td>...</td>\n    </tr>\n    <tr>\n      <th>2021-01-06 00:00:00-05:00</th>\n      <td>15.520</td>\n      <td>61348418.0</td>\n    </tr>\n    <tr>\n      <th>2021-01-07 00:00:00-05:00</th>\n      <td>15.380</td>\n      <td>45503976.0</td>\n    </tr>\n    <tr>\n      <th>2021-01-08 00:00:00-05:00</th>\n      <td>15.115</td>\n      <td>54302647.0</td>\n    </tr>\n    <tr>\n      <th>2021-01-11 00:00:00-05:00</th>\n      <td>15.005</td>\n      <td>38241743.0</td>\n    </tr>\n    <tr>\n      <th>2021-01-12 00:00:00-05:00</th>\n      <td>15.370</td>\n      <td>44835719.0</td>\n    </tr>\n  </tbody>\n</table>\n<p>258 rows × 2 columns</p>\n</div>"
     },
     "metadata": {},
     "execution_count": 123
    }
   ],
   "source": [
    "aal_df"
   ]
  },
  {
   "cell_type": "code",
   "execution_count": 124,
   "metadata": {},
   "outputs": [
    {
     "output_type": "execute_result",
     "data": {
      "text/plain": [
       "                           dis_close  dis_volume\n",
       "time                                            \n",
       "2020-01-06 00:00:00-05:00     145.65   7363097.0\n",
       "2020-01-07 00:00:00-05:00     145.68   5646933.0\n",
       "2020-01-08 00:00:00-05:00     145.45   5771723.0\n",
       "2020-01-09 00:00:00-05:00     144.80   5331260.0\n",
       "2020-01-10 00:00:00-05:00     144.60   4192359.0\n",
       "...                              ...         ...\n",
       "2021-01-06 00:00:00-05:00     179.12   6411222.0\n",
       "2021-01-07 00:00:00-05:00     178.58   6367836.0\n",
       "2021-01-08 00:00:00-05:00     178.68   5961422.0\n",
       "2021-01-11 00:00:00-05:00     179.12   5195192.0\n",
       "2021-01-12 00:00:00-05:00     175.98  14290632.0\n",
       "\n",
       "[258 rows x 2 columns]"
      ],
      "text/html": "<div>\n<style scoped>\n    .dataframe tbody tr th:only-of-type {\n        vertical-align: middle;\n    }\n\n    .dataframe tbody tr th {\n        vertical-align: top;\n    }\n\n    .dataframe thead th {\n        text-align: right;\n    }\n</style>\n<table border=\"1\" class=\"dataframe\">\n  <thead>\n    <tr style=\"text-align: right;\">\n      <th></th>\n      <th>dis_close</th>\n      <th>dis_volume</th>\n    </tr>\n    <tr>\n      <th>time</th>\n      <th></th>\n      <th></th>\n    </tr>\n  </thead>\n  <tbody>\n    <tr>\n      <th>2020-01-06 00:00:00-05:00</th>\n      <td>145.65</td>\n      <td>7363097.0</td>\n    </tr>\n    <tr>\n      <th>2020-01-07 00:00:00-05:00</th>\n      <td>145.68</td>\n      <td>5646933.0</td>\n    </tr>\n    <tr>\n      <th>2020-01-08 00:00:00-05:00</th>\n      <td>145.45</td>\n      <td>5771723.0</td>\n    </tr>\n    <tr>\n      <th>2020-01-09 00:00:00-05:00</th>\n      <td>144.80</td>\n      <td>5331260.0</td>\n    </tr>\n    <tr>\n      <th>2020-01-10 00:00:00-05:00</th>\n      <td>144.60</td>\n      <td>4192359.0</td>\n    </tr>\n    <tr>\n      <th>...</th>\n      <td>...</td>\n      <td>...</td>\n    </tr>\n    <tr>\n      <th>2021-01-06 00:00:00-05:00</th>\n      <td>179.12</td>\n      <td>6411222.0</td>\n    </tr>\n    <tr>\n      <th>2021-01-07 00:00:00-05:00</th>\n      <td>178.58</td>\n      <td>6367836.0</td>\n    </tr>\n    <tr>\n      <th>2021-01-08 00:00:00-05:00</th>\n      <td>178.68</td>\n      <td>5961422.0</td>\n    </tr>\n    <tr>\n      <th>2021-01-11 00:00:00-05:00</th>\n      <td>179.12</td>\n      <td>5195192.0</td>\n    </tr>\n    <tr>\n      <th>2021-01-12 00:00:00-05:00</th>\n      <td>175.98</td>\n      <td>14290632.0</td>\n    </tr>\n  </tbody>\n</table>\n<p>258 rows × 2 columns</p>\n</div>"
     },
     "metadata": {},
     "execution_count": 124
    }
   ],
   "source": [
    "dis_df"
   ]
  },
  {
   "cell_type": "code",
   "execution_count": 125,
   "metadata": {},
   "outputs": [
    {
     "output_type": "execute_result",
     "data": {
      "text/plain": [
       "                           plug_close  plug_volume\n",
       "time                                              \n",
       "2020-01-06 00:00:00-05:00      3.8150   37186905.0\n",
       "2020-01-07 00:00:00-05:00      3.8050   21453070.0\n",
       "2020-01-08 00:00:00-05:00      4.0675   29991957.0\n",
       "2020-01-09 00:00:00-05:00      4.0450   16853768.0\n",
       "2020-01-10 00:00:00-05:00      4.1400   13613412.0\n",
       "...                               ...          ...\n",
       "2021-01-06 00:00:00-05:00     35.0000   41482804.0\n",
       "2021-01-07 00:00:00-05:00     47.3000   89346497.0\n",
       "2021-01-08 00:00:00-05:00     53.7788   96514508.0\n",
       "2021-01-11 00:00:00-05:00     53.9700   42974527.0\n",
       "2021-01-12 00:00:00-05:00     66.0200   96840492.0\n",
       "\n",
       "[258 rows x 2 columns]"
      ],
      "text/html": "<div>\n<style scoped>\n    .dataframe tbody tr th:only-of-type {\n        vertical-align: middle;\n    }\n\n    .dataframe tbody tr th {\n        vertical-align: top;\n    }\n\n    .dataframe thead th {\n        text-align: right;\n    }\n</style>\n<table border=\"1\" class=\"dataframe\">\n  <thead>\n    <tr style=\"text-align: right;\">\n      <th></th>\n      <th>plug_close</th>\n      <th>plug_volume</th>\n    </tr>\n    <tr>\n      <th>time</th>\n      <th></th>\n      <th></th>\n    </tr>\n  </thead>\n  <tbody>\n    <tr>\n      <th>2020-01-06 00:00:00-05:00</th>\n      <td>3.8150</td>\n      <td>37186905.0</td>\n    </tr>\n    <tr>\n      <th>2020-01-07 00:00:00-05:00</th>\n      <td>3.8050</td>\n      <td>21453070.0</td>\n    </tr>\n    <tr>\n      <th>2020-01-08 00:00:00-05:00</th>\n      <td>4.0675</td>\n      <td>29991957.0</td>\n    </tr>\n    <tr>\n      <th>2020-01-09 00:00:00-05:00</th>\n      <td>4.0450</td>\n      <td>16853768.0</td>\n    </tr>\n    <tr>\n      <th>2020-01-10 00:00:00-05:00</th>\n      <td>4.1400</td>\n      <td>13613412.0</td>\n    </tr>\n    <tr>\n      <th>...</th>\n      <td>...</td>\n      <td>...</td>\n    </tr>\n    <tr>\n      <th>2021-01-06 00:00:00-05:00</th>\n      <td>35.0000</td>\n      <td>41482804.0</td>\n    </tr>\n    <tr>\n      <th>2021-01-07 00:00:00-05:00</th>\n      <td>47.3000</td>\n      <td>89346497.0</td>\n    </tr>\n    <tr>\n      <th>2021-01-08 00:00:00-05:00</th>\n      <td>53.7788</td>\n      <td>96514508.0</td>\n    </tr>\n    <tr>\n      <th>2021-01-11 00:00:00-05:00</th>\n      <td>53.9700</td>\n      <td>42974527.0</td>\n    </tr>\n    <tr>\n      <th>2021-01-12 00:00:00-05:00</th>\n      <td>66.0200</td>\n      <td>96840492.0</td>\n    </tr>\n  </tbody>\n</table>\n<p>258 rows × 2 columns</p>\n</div>"
     },
     "metadata": {},
     "execution_count": 125
    }
   ],
   "source": [
    "plug_df"
   ]
  },
  {
   "cell_type": "code",
   "execution_count": 126,
   "metadata": {},
   "outputs": [
    {
     "output_type": "execute_result",
     "data": {
      "text/plain": [
       "<AxesSubplot:xlabel='time'>"
      ]
     },
     "metadata": {},
     "execution_count": 126
    },
    {
     "output_type": "display_data",
     "data": {
      "text/plain": "<Figure size 432x288 with 1 Axes>",
      "image/svg+xml": "<?xml version=\"1.0\" encoding=\"utf-8\" standalone=\"no\"?>\n<!DOCTYPE svg PUBLIC \"-//W3C//DTD SVG 1.1//EN\"\n  \"http://www.w3.org/Graphics/SVG/1.1/DTD/svg11.dtd\">\n<!-- Created with matplotlib (https://matplotlib.org/) -->\n<svg height=\"270.789471pt\" version=\"1.1\" viewBox=\"0 0 379.096767 270.789471\" width=\"379.096767pt\" xmlns=\"http://www.w3.org/2000/svg\" xmlns:xlink=\"http://www.w3.org/1999/xlink\">\n <metadata>\n  <rdf:RDF xmlns:cc=\"http://creativecommons.org/ns#\" xmlns:dc=\"http://purl.org/dc/elements/1.1/\" xmlns:rdf=\"http://www.w3.org/1999/02/22-rdf-syntax-ns#\">\n   <cc:Work>\n    <dc:type rdf:resource=\"http://purl.org/dc/dcmitype/StillImage\"/>\n    <dc:date>2021-01-12T18:47:45.991362</dc:date>\n    <dc:format>image/svg+xml</dc:format>\n    <dc:creator>\n     <cc:Agent>\n      <dc:title>Matplotlib v3.3.2, https://matplotlib.org/</dc:title>\n     </cc:Agent>\n    </dc:creator>\n   </cc:Work>\n  </rdf:RDF>\n </metadata>\n <defs>\n  <style type=\"text/css\">*{stroke-linecap:butt;stroke-linejoin:round;}</style>\n </defs>\n <g id=\"figure_1\">\n  <g id=\"patch_1\">\n   <path d=\"M 0 270.789471 \nL 379.096767 270.789471 \nL 379.096767 0 \nL 0 0 \nz\n\" style=\"fill:none;\"/>\n  </g>\n  <g id=\"axes_1\">\n   <g id=\"patch_2\">\n    <path d=\"M 37.096767 213.638437 \nL 371.896767 213.638437 \nL 371.896767 17.798437 \nL 37.096767 17.798437 \nz\n\" style=\"fill:#ffffff;\"/>\n   </g>\n   <g id=\"matplotlib.axis_1\">\n    <g id=\"xtick_1\">\n     <g id=\"line2d_1\">\n      <defs>\n       <path d=\"M 0 0 \nL 0 3.5 \n\" id=\"mdb9db3c5ab\" style=\"stroke:#000000;stroke-width:0.8;\"/>\n      </defs>\n      <g>\n       <use style=\"stroke:#000000;stroke-width:0.8;\" x=\"48.22404\" xlink:href=\"#mdb9db3c5ab\" y=\"213.638437\"/>\n      </g>\n     </g>\n     <g id=\"text_1\">\n      <!-- 2020-01 -->\n      <g transform=\"translate(10.999219 248.110284)rotate(-30)scale(0.1 -0.1)\">\n       <defs>\n        <path d=\"M 19.1875 8.296875 \nL 53.609375 8.296875 \nL 53.609375 0 \nL 7.328125 0 \nL 7.328125 8.296875 \nQ 12.9375 14.109375 22.625 23.890625 \nQ 32.328125 33.6875 34.8125 36.53125 \nQ 39.546875 41.84375 41.421875 45.53125 \nQ 43.3125 49.21875 43.3125 52.78125 \nQ 43.3125 58.59375 39.234375 62.25 \nQ 35.15625 65.921875 28.609375 65.921875 \nQ 23.96875 65.921875 18.8125 64.3125 \nQ 13.671875 62.703125 7.8125 59.421875 \nL 7.8125 69.390625 \nQ 13.765625 71.78125 18.9375 73 \nQ 24.125 74.21875 28.421875 74.21875 \nQ 39.75 74.21875 46.484375 68.546875 \nQ 53.21875 62.890625 53.21875 53.421875 \nQ 53.21875 48.921875 51.53125 44.890625 \nQ 49.859375 40.875 45.40625 35.40625 \nQ 44.1875 33.984375 37.640625 27.21875 \nQ 31.109375 20.453125 19.1875 8.296875 \nz\n\" id=\"DejaVuSans-50\"/>\n        <path d=\"M 31.78125 66.40625 \nQ 24.171875 66.40625 20.328125 58.90625 \nQ 16.5 51.421875 16.5 36.375 \nQ 16.5 21.390625 20.328125 13.890625 \nQ 24.171875 6.390625 31.78125 6.390625 \nQ 39.453125 6.390625 43.28125 13.890625 \nQ 47.125 21.390625 47.125 36.375 \nQ 47.125 51.421875 43.28125 58.90625 \nQ 39.453125 66.40625 31.78125 66.40625 \nz\nM 31.78125 74.21875 \nQ 44.046875 74.21875 50.515625 64.515625 \nQ 56.984375 54.828125 56.984375 36.375 \nQ 56.984375 17.96875 50.515625 8.265625 \nQ 44.046875 -1.421875 31.78125 -1.421875 \nQ 19.53125 -1.421875 13.0625 8.265625 \nQ 6.59375 17.96875 6.59375 36.375 \nQ 6.59375 54.828125 13.0625 64.515625 \nQ 19.53125 74.21875 31.78125 74.21875 \nz\n\" id=\"DejaVuSans-48\"/>\n        <path d=\"M 4.890625 31.390625 \nL 31.203125 31.390625 \nL 31.203125 23.390625 \nL 4.890625 23.390625 \nz\n\" id=\"DejaVuSans-45\"/>\n        <path d=\"M 12.40625 8.296875 \nL 28.515625 8.296875 \nL 28.515625 63.921875 \nL 10.984375 60.40625 \nL 10.984375 69.390625 \nL 28.421875 72.90625 \nL 38.28125 72.90625 \nL 38.28125 8.296875 \nL 54.390625 8.296875 \nL 54.390625 0 \nL 12.40625 0 \nz\n\" id=\"DejaVuSans-49\"/>\n       </defs>\n       <use xlink:href=\"#DejaVuSans-50\"/>\n       <use x=\"63.623047\" xlink:href=\"#DejaVuSans-48\"/>\n       <use x=\"127.246094\" xlink:href=\"#DejaVuSans-50\"/>\n       <use x=\"190.869141\" xlink:href=\"#DejaVuSans-48\"/>\n       <use x=\"254.492188\" xlink:href=\"#DejaVuSans-45\"/>\n       <use x=\"290.576172\" xlink:href=\"#DejaVuSans-48\"/>\n       <use x=\"354.199219\" xlink:href=\"#DejaVuSans-49\"/>\n      </g>\n     </g>\n    </g>\n    <g id=\"xtick_2\">\n     <g id=\"line2d_2\">\n      <g>\n       <use style=\"stroke:#000000;stroke-width:0.8;\" x=\"97.314949\" xlink:href=\"#mdb9db3c5ab\" y=\"213.638437\"/>\n      </g>\n     </g>\n     <g id=\"text_2\">\n      <!-- 2020-03 -->\n      <g transform=\"translate(60.090128 248.110284)rotate(-30)scale(0.1 -0.1)\">\n       <defs>\n        <path d=\"M 40.578125 39.3125 \nQ 47.65625 37.796875 51.625 33 \nQ 55.609375 28.21875 55.609375 21.1875 \nQ 55.609375 10.40625 48.1875 4.484375 \nQ 40.765625 -1.421875 27.09375 -1.421875 \nQ 22.515625 -1.421875 17.65625 -0.515625 \nQ 12.796875 0.390625 7.625 2.203125 \nL 7.625 11.71875 \nQ 11.71875 9.328125 16.59375 8.109375 \nQ 21.484375 6.890625 26.8125 6.890625 \nQ 36.078125 6.890625 40.9375 10.546875 \nQ 45.796875 14.203125 45.796875 21.1875 \nQ 45.796875 27.640625 41.28125 31.265625 \nQ 36.765625 34.90625 28.71875 34.90625 \nL 20.21875 34.90625 \nL 20.21875 43.015625 \nL 29.109375 43.015625 \nQ 36.375 43.015625 40.234375 45.921875 \nQ 44.09375 48.828125 44.09375 54.296875 \nQ 44.09375 59.90625 40.109375 62.90625 \nQ 36.140625 65.921875 28.71875 65.921875 \nQ 24.65625 65.921875 20.015625 65.03125 \nQ 15.375 64.15625 9.8125 62.3125 \nL 9.8125 71.09375 \nQ 15.4375 72.65625 20.34375 73.4375 \nQ 25.25 74.21875 29.59375 74.21875 \nQ 40.828125 74.21875 47.359375 69.109375 \nQ 53.90625 64.015625 53.90625 55.328125 \nQ 53.90625 49.265625 50.4375 45.09375 \nQ 46.96875 40.921875 40.578125 39.3125 \nz\n\" id=\"DejaVuSans-51\"/>\n       </defs>\n       <use xlink:href=\"#DejaVuSans-50\"/>\n       <use x=\"63.623047\" xlink:href=\"#DejaVuSans-48\"/>\n       <use x=\"127.246094\" xlink:href=\"#DejaVuSans-50\"/>\n       <use x=\"190.869141\" xlink:href=\"#DejaVuSans-48\"/>\n       <use x=\"254.492188\" xlink:href=\"#DejaVuSans-45\"/>\n       <use x=\"290.576172\" xlink:href=\"#DejaVuSans-48\"/>\n       <use x=\"354.199219\" xlink:href=\"#DejaVuSans-51\"/>\n      </g>\n     </g>\n    </g>\n    <g id=\"xtick_3\">\n     <g id=\"line2d_3\">\n      <g>\n       <use style=\"stroke:#000000;stroke-width:0.8;\" x=\"147.189949\" xlink:href=\"#mdb9db3c5ab\" y=\"213.638437\"/>\n      </g>\n     </g>\n     <g id=\"text_3\">\n      <!-- 2020-05 -->\n      <g transform=\"translate(109.965128 248.110284)rotate(-30)scale(0.1 -0.1)\">\n       <defs>\n        <path d=\"M 10.796875 72.90625 \nL 49.515625 72.90625 \nL 49.515625 64.59375 \nL 19.828125 64.59375 \nL 19.828125 46.734375 \nQ 21.96875 47.46875 24.109375 47.828125 \nQ 26.265625 48.1875 28.421875 48.1875 \nQ 40.625 48.1875 47.75 41.5 \nQ 54.890625 34.8125 54.890625 23.390625 \nQ 54.890625 11.625 47.5625 5.09375 \nQ 40.234375 -1.421875 26.90625 -1.421875 \nQ 22.3125 -1.421875 17.546875 -0.640625 \nQ 12.796875 0.140625 7.71875 1.703125 \nL 7.71875 11.625 \nQ 12.109375 9.234375 16.796875 8.0625 \nQ 21.484375 6.890625 26.703125 6.890625 \nQ 35.15625 6.890625 40.078125 11.328125 \nQ 45.015625 15.765625 45.015625 23.390625 \nQ 45.015625 31 40.078125 35.4375 \nQ 35.15625 39.890625 26.703125 39.890625 \nQ 22.75 39.890625 18.8125 39.015625 \nQ 14.890625 38.140625 10.796875 36.28125 \nz\n\" id=\"DejaVuSans-53\"/>\n       </defs>\n       <use xlink:href=\"#DejaVuSans-50\"/>\n       <use x=\"63.623047\" xlink:href=\"#DejaVuSans-48\"/>\n       <use x=\"127.246094\" xlink:href=\"#DejaVuSans-50\"/>\n       <use x=\"190.869141\" xlink:href=\"#DejaVuSans-48\"/>\n       <use x=\"254.492188\" xlink:href=\"#DejaVuSans-45\"/>\n       <use x=\"290.576172\" xlink:href=\"#DejaVuSans-48\"/>\n       <use x=\"354.199219\" xlink:href=\"#DejaVuSans-53\"/>\n      </g>\n     </g>\n    </g>\n    <g id=\"xtick_4\">\n     <g id=\"line2d_4\">\n      <g>\n       <use style=\"stroke:#000000;stroke-width:0.8;\" x=\"197.09904\" xlink:href=\"#mdb9db3c5ab\" y=\"213.638437\"/>\n      </g>\n     </g>\n     <g id=\"text_4\">\n      <!-- 2020-07 -->\n      <g transform=\"translate(159.874219 248.110284)rotate(-30)scale(0.1 -0.1)\">\n       <defs>\n        <path d=\"M 8.203125 72.90625 \nL 55.078125 72.90625 \nL 55.078125 68.703125 \nL 28.609375 0 \nL 18.3125 0 \nL 43.21875 64.59375 \nL 8.203125 64.59375 \nz\n\" id=\"DejaVuSans-55\"/>\n       </defs>\n       <use xlink:href=\"#DejaVuSans-50\"/>\n       <use x=\"63.623047\" xlink:href=\"#DejaVuSans-48\"/>\n       <use x=\"127.246094\" xlink:href=\"#DejaVuSans-50\"/>\n       <use x=\"190.869141\" xlink:href=\"#DejaVuSans-48\"/>\n       <use x=\"254.492188\" xlink:href=\"#DejaVuSans-45\"/>\n       <use x=\"290.576172\" xlink:href=\"#DejaVuSans-48\"/>\n       <use x=\"354.199219\" xlink:href=\"#DejaVuSans-55\"/>\n      </g>\n     </g>\n    </g>\n    <g id=\"xtick_5\">\n     <g id=\"line2d_5\">\n      <g>\n       <use style=\"stroke:#000000;stroke-width:0.8;\" x=\"247.826312\" xlink:href=\"#mdb9db3c5ab\" y=\"213.638437\"/>\n      </g>\n     </g>\n     <g id=\"text_5\">\n      <!-- 2020-09 -->\n      <g transform=\"translate(210.601491 248.110284)rotate(-30)scale(0.1 -0.1)\">\n       <defs>\n        <path d=\"M 10.984375 1.515625 \nL 10.984375 10.5 \nQ 14.703125 8.734375 18.5 7.8125 \nQ 22.3125 6.890625 25.984375 6.890625 \nQ 35.75 6.890625 40.890625 13.453125 \nQ 46.046875 20.015625 46.78125 33.40625 \nQ 43.953125 29.203125 39.59375 26.953125 \nQ 35.25 24.703125 29.984375 24.703125 \nQ 19.046875 24.703125 12.671875 31.3125 \nQ 6.296875 37.9375 6.296875 49.421875 \nQ 6.296875 60.640625 12.9375 67.421875 \nQ 19.578125 74.21875 30.609375 74.21875 \nQ 43.265625 74.21875 49.921875 64.515625 \nQ 56.59375 54.828125 56.59375 36.375 \nQ 56.59375 19.140625 48.40625 8.859375 \nQ 40.234375 -1.421875 26.421875 -1.421875 \nQ 22.703125 -1.421875 18.890625 -0.6875 \nQ 15.09375 0.046875 10.984375 1.515625 \nz\nM 30.609375 32.421875 \nQ 37.25 32.421875 41.125 36.953125 \nQ 45.015625 41.5 45.015625 49.421875 \nQ 45.015625 57.28125 41.125 61.84375 \nQ 37.25 66.40625 30.609375 66.40625 \nQ 23.96875 66.40625 20.09375 61.84375 \nQ 16.21875 57.28125 16.21875 49.421875 \nQ 16.21875 41.5 20.09375 36.953125 \nQ 23.96875 32.421875 30.609375 32.421875 \nz\n\" id=\"DejaVuSans-57\"/>\n       </defs>\n       <use xlink:href=\"#DejaVuSans-50\"/>\n       <use x=\"63.623047\" xlink:href=\"#DejaVuSans-48\"/>\n       <use x=\"127.246094\" xlink:href=\"#DejaVuSans-50\"/>\n       <use x=\"190.869141\" xlink:href=\"#DejaVuSans-48\"/>\n       <use x=\"254.492188\" xlink:href=\"#DejaVuSans-45\"/>\n       <use x=\"290.576172\" xlink:href=\"#DejaVuSans-48\"/>\n       <use x=\"354.199219\" xlink:href=\"#DejaVuSans-57\"/>\n      </g>\n     </g>\n    </g>\n    <g id=\"xtick_6\">\n     <g id=\"line2d_6\">\n      <g>\n       <use style=\"stroke:#000000;stroke-width:0.8;\" x=\"297.735403\" xlink:href=\"#mdb9db3c5ab\" y=\"213.638437\"/>\n      </g>\n     </g>\n     <g id=\"text_6\">\n      <!-- 2020-11 -->\n      <g transform=\"translate(260.510582 248.110284)rotate(-30)scale(0.1 -0.1)\">\n       <use xlink:href=\"#DejaVuSans-50\"/>\n       <use x=\"63.623047\" xlink:href=\"#DejaVuSans-48\"/>\n       <use x=\"127.246094\" xlink:href=\"#DejaVuSans-50\"/>\n       <use x=\"190.869141\" xlink:href=\"#DejaVuSans-48\"/>\n       <use x=\"254.492188\" xlink:href=\"#DejaVuSans-45\"/>\n       <use x=\"290.576172\" xlink:href=\"#DejaVuSans-49\"/>\n       <use x=\"354.199219\" xlink:href=\"#DejaVuSans-49\"/>\n      </g>\n     </g>\n    </g>\n    <g id=\"xtick_7\">\n     <g id=\"line2d_7\">\n      <g>\n       <use style=\"stroke:#000000;stroke-width:0.8;\" x=\"347.678585\" xlink:href=\"#mdb9db3c5ab\" y=\"213.638437\"/>\n      </g>\n     </g>\n     <g id=\"text_7\">\n      <!-- 2021-01 -->\n      <g transform=\"translate(310.453764 248.110284)rotate(-30)scale(0.1 -0.1)\">\n       <use xlink:href=\"#DejaVuSans-50\"/>\n       <use x=\"63.623047\" xlink:href=\"#DejaVuSans-48\"/>\n       <use x=\"127.246094\" xlink:href=\"#DejaVuSans-50\"/>\n       <use x=\"190.869141\" xlink:href=\"#DejaVuSans-49\"/>\n       <use x=\"254.492188\" xlink:href=\"#DejaVuSans-45\"/>\n       <use x=\"290.576172\" xlink:href=\"#DejaVuSans-48\"/>\n       <use x=\"354.199219\" xlink:href=\"#DejaVuSans-49\"/>\n      </g>\n     </g>\n    </g>\n    <g id=\"text_8\">\n     <!-- time -->\n     <g transform=\"translate(193.200673 261.509783)scale(0.1 -0.1)\">\n      <defs>\n       <path d=\"M 18.3125 70.21875 \nL 18.3125 54.6875 \nL 36.8125 54.6875 \nL 36.8125 47.703125 \nL 18.3125 47.703125 \nL 18.3125 18.015625 \nQ 18.3125 11.328125 20.140625 9.421875 \nQ 21.96875 7.515625 27.59375 7.515625 \nL 36.8125 7.515625 \nL 36.8125 0 \nL 27.59375 0 \nQ 17.1875 0 13.234375 3.875 \nQ 9.28125 7.765625 9.28125 18.015625 \nL 9.28125 47.703125 \nL 2.6875 47.703125 \nL 2.6875 54.6875 \nL 9.28125 54.6875 \nL 9.28125 70.21875 \nz\n\" id=\"DejaVuSans-116\"/>\n       <path d=\"M 9.421875 54.6875 \nL 18.40625 54.6875 \nL 18.40625 0 \nL 9.421875 0 \nz\nM 9.421875 75.984375 \nL 18.40625 75.984375 \nL 18.40625 64.59375 \nL 9.421875 64.59375 \nz\n\" id=\"DejaVuSans-105\"/>\n       <path d=\"M 52 44.1875 \nQ 55.375 50.25 60.0625 53.125 \nQ 64.75 56 71.09375 56 \nQ 79.640625 56 84.28125 50.015625 \nQ 88.921875 44.046875 88.921875 33.015625 \nL 88.921875 0 \nL 79.890625 0 \nL 79.890625 32.71875 \nQ 79.890625 40.578125 77.09375 44.375 \nQ 74.3125 48.1875 68.609375 48.1875 \nQ 61.625 48.1875 57.5625 43.546875 \nQ 53.515625 38.921875 53.515625 30.90625 \nL 53.515625 0 \nL 44.484375 0 \nL 44.484375 32.71875 \nQ 44.484375 40.625 41.703125 44.40625 \nQ 38.921875 48.1875 33.109375 48.1875 \nQ 26.21875 48.1875 22.15625 43.53125 \nQ 18.109375 38.875 18.109375 30.90625 \nL 18.109375 0 \nL 9.078125 0 \nL 9.078125 54.6875 \nL 18.109375 54.6875 \nL 18.109375 46.1875 \nQ 21.1875 51.21875 25.484375 53.609375 \nQ 29.78125 56 35.6875 56 \nQ 41.65625 56 45.828125 52.96875 \nQ 50 49.953125 52 44.1875 \nz\n\" id=\"DejaVuSans-109\"/>\n       <path d=\"M 56.203125 29.59375 \nL 56.203125 25.203125 \nL 14.890625 25.203125 \nQ 15.484375 15.921875 20.484375 11.0625 \nQ 25.484375 6.203125 34.421875 6.203125 \nQ 39.59375 6.203125 44.453125 7.46875 \nQ 49.3125 8.734375 54.109375 11.28125 \nL 54.109375 2.78125 \nQ 49.265625 0.734375 44.1875 -0.34375 \nQ 39.109375 -1.421875 33.890625 -1.421875 \nQ 20.796875 -1.421875 13.15625 6.1875 \nQ 5.515625 13.8125 5.515625 26.8125 \nQ 5.515625 40.234375 12.765625 48.109375 \nQ 20.015625 56 32.328125 56 \nQ 43.359375 56 49.78125 48.890625 \nQ 56.203125 41.796875 56.203125 29.59375 \nz\nM 47.21875 32.234375 \nQ 47.125 39.59375 43.09375 43.984375 \nQ 39.0625 48.390625 32.421875 48.390625 \nQ 24.90625 48.390625 20.390625 44.140625 \nQ 15.875 39.890625 15.1875 32.171875 \nz\n\" id=\"DejaVuSans-101\"/>\n      </defs>\n      <use xlink:href=\"#DejaVuSans-116\"/>\n      <use x=\"39.208984\" xlink:href=\"#DejaVuSans-105\"/>\n      <use x=\"66.992188\" xlink:href=\"#DejaVuSans-109\"/>\n      <use x=\"164.404297\" xlink:href=\"#DejaVuSans-101\"/>\n     </g>\n    </g>\n   </g>\n   <g id=\"matplotlib.axis_2\">\n    <g id=\"ytick_1\">\n     <g id=\"line2d_8\">\n      <defs>\n       <path d=\"M 0 0 \nL -3.5 0 \n\" id=\"me9933e3679\" style=\"stroke:#000000;stroke-width:0.8;\"/>\n      </defs>\n      <g>\n       <use style=\"stroke:#000000;stroke-width:0.8;\" x=\"37.096767\" xlink:href=\"#me9933e3679\" y=\"204.736621\"/>\n      </g>\n     </g>\n     <g id=\"text_9\">\n      <!-- 0 -->\n      <g transform=\"translate(23.734267 208.53584)scale(0.1 -0.1)\">\n       <use xlink:href=\"#DejaVuSans-48\"/>\n      </g>\n     </g>\n    </g>\n    <g id=\"ytick_2\">\n     <g id=\"line2d_9\">\n      <g>\n       <use style=\"stroke:#000000;stroke-width:0.8;\" x=\"37.096767\" xlink:href=\"#me9933e3679\" y=\"181.46173\"/>\n      </g>\n     </g>\n     <g id=\"text_10\">\n      <!-- 1 -->\n      <g transform=\"translate(23.734267 185.260949)scale(0.1 -0.1)\">\n       <use xlink:href=\"#DejaVuSans-49\"/>\n      </g>\n     </g>\n    </g>\n    <g id=\"ytick_3\">\n     <g id=\"line2d_10\">\n      <g>\n       <use style=\"stroke:#000000;stroke-width:0.8;\" x=\"37.096767\" xlink:href=\"#me9933e3679\" y=\"158.186839\"/>\n      </g>\n     </g>\n     <g id=\"text_11\">\n      <!-- 2 -->\n      <g transform=\"translate(23.734267 161.986058)scale(0.1 -0.1)\">\n       <use xlink:href=\"#DejaVuSans-50\"/>\n      </g>\n     </g>\n    </g>\n    <g id=\"ytick_4\">\n     <g id=\"line2d_11\">\n      <g>\n       <use style=\"stroke:#000000;stroke-width:0.8;\" x=\"37.096767\" xlink:href=\"#me9933e3679\" y=\"134.911947\"/>\n      </g>\n     </g>\n     <g id=\"text_12\">\n      <!-- 3 -->\n      <g transform=\"translate(23.734267 138.711166)scale(0.1 -0.1)\">\n       <use xlink:href=\"#DejaVuSans-51\"/>\n      </g>\n     </g>\n    </g>\n    <g id=\"ytick_5\">\n     <g id=\"line2d_12\">\n      <g>\n       <use style=\"stroke:#000000;stroke-width:0.8;\" x=\"37.096767\" xlink:href=\"#me9933e3679\" y=\"111.637056\"/>\n      </g>\n     </g>\n     <g id=\"text_13\">\n      <!-- 4 -->\n      <g transform=\"translate(23.734267 115.436275)scale(0.1 -0.1)\">\n       <defs>\n        <path d=\"M 37.796875 64.3125 \nL 12.890625 25.390625 \nL 37.796875 25.390625 \nz\nM 35.203125 72.90625 \nL 47.609375 72.90625 \nL 47.609375 25.390625 \nL 58.015625 25.390625 \nL 58.015625 17.1875 \nL 47.609375 17.1875 \nL 47.609375 0 \nL 37.796875 0 \nL 37.796875 17.1875 \nL 4.890625 17.1875 \nL 4.890625 26.703125 \nz\n\" id=\"DejaVuSans-52\"/>\n       </defs>\n       <use xlink:href=\"#DejaVuSans-52\"/>\n      </g>\n     </g>\n    </g>\n    <g id=\"ytick_6\">\n     <g id=\"line2d_13\">\n      <g>\n       <use style=\"stroke:#000000;stroke-width:0.8;\" x=\"37.096767\" xlink:href=\"#me9933e3679\" y=\"88.362165\"/>\n      </g>\n     </g>\n     <g id=\"text_14\">\n      <!-- 5 -->\n      <g transform=\"translate(23.734267 92.161384)scale(0.1 -0.1)\">\n       <use xlink:href=\"#DejaVuSans-53\"/>\n      </g>\n     </g>\n    </g>\n    <g id=\"ytick_7\">\n     <g id=\"line2d_14\">\n      <g>\n       <use style=\"stroke:#000000;stroke-width:0.8;\" x=\"37.096767\" xlink:href=\"#me9933e3679\" y=\"65.087273\"/>\n      </g>\n     </g>\n     <g id=\"text_15\">\n      <!-- 6 -->\n      <g transform=\"translate(23.734267 68.886492)scale(0.1 -0.1)\">\n       <defs>\n        <path d=\"M 33.015625 40.375 \nQ 26.375 40.375 22.484375 35.828125 \nQ 18.609375 31.296875 18.609375 23.390625 \nQ 18.609375 15.53125 22.484375 10.953125 \nQ 26.375 6.390625 33.015625 6.390625 \nQ 39.65625 6.390625 43.53125 10.953125 \nQ 47.40625 15.53125 47.40625 23.390625 \nQ 47.40625 31.296875 43.53125 35.828125 \nQ 39.65625 40.375 33.015625 40.375 \nz\nM 52.59375 71.296875 \nL 52.59375 62.3125 \nQ 48.875 64.0625 45.09375 64.984375 \nQ 41.3125 65.921875 37.59375 65.921875 \nQ 27.828125 65.921875 22.671875 59.328125 \nQ 17.53125 52.734375 16.796875 39.40625 \nQ 19.671875 43.65625 24.015625 45.921875 \nQ 28.375 48.1875 33.59375 48.1875 \nQ 44.578125 48.1875 50.953125 41.515625 \nQ 57.328125 34.859375 57.328125 23.390625 \nQ 57.328125 12.15625 50.6875 5.359375 \nQ 44.046875 -1.421875 33.015625 -1.421875 \nQ 20.359375 -1.421875 13.671875 8.265625 \nQ 6.984375 17.96875 6.984375 36.375 \nQ 6.984375 53.65625 15.1875 63.9375 \nQ 23.390625 74.21875 37.203125 74.21875 \nQ 40.921875 74.21875 44.703125 73.484375 \nQ 48.484375 72.75 52.59375 71.296875 \nz\n\" id=\"DejaVuSans-54\"/>\n       </defs>\n       <use xlink:href=\"#DejaVuSans-54\"/>\n      </g>\n     </g>\n    </g>\n    <g id=\"ytick_8\">\n     <g id=\"line2d_15\">\n      <g>\n       <use style=\"stroke:#000000;stroke-width:0.8;\" x=\"37.096767\" xlink:href=\"#me9933e3679\" y=\"41.812382\"/>\n      </g>\n     </g>\n     <g id=\"text_16\">\n      <!-- 7 -->\n      <g transform=\"translate(23.734267 45.611601)scale(0.1 -0.1)\">\n       <use xlink:href=\"#DejaVuSans-55\"/>\n      </g>\n     </g>\n    </g>\n    <g id=\"ytick_9\">\n     <g id=\"line2d_16\">\n      <g>\n       <use style=\"stroke:#000000;stroke-width:0.8;\" x=\"37.096767\" xlink:href=\"#me9933e3679\" y=\"18.537491\"/>\n      </g>\n     </g>\n     <g id=\"text_17\">\n      <!-- 8 -->\n      <g transform=\"translate(23.734267 22.33671)scale(0.1 -0.1)\">\n       <defs>\n        <path d=\"M 31.78125 34.625 \nQ 24.75 34.625 20.71875 30.859375 \nQ 16.703125 27.09375 16.703125 20.515625 \nQ 16.703125 13.921875 20.71875 10.15625 \nQ 24.75 6.390625 31.78125 6.390625 \nQ 38.8125 6.390625 42.859375 10.171875 \nQ 46.921875 13.96875 46.921875 20.515625 \nQ 46.921875 27.09375 42.890625 30.859375 \nQ 38.875 34.625 31.78125 34.625 \nz\nM 21.921875 38.8125 \nQ 15.578125 40.375 12.03125 44.71875 \nQ 8.5 49.078125 8.5 55.328125 \nQ 8.5 64.0625 14.71875 69.140625 \nQ 20.953125 74.21875 31.78125 74.21875 \nQ 42.671875 74.21875 48.875 69.140625 \nQ 55.078125 64.0625 55.078125 55.328125 \nQ 55.078125 49.078125 51.53125 44.71875 \nQ 48 40.375 41.703125 38.8125 \nQ 48.828125 37.15625 52.796875 32.3125 \nQ 56.78125 27.484375 56.78125 20.515625 \nQ 56.78125 9.90625 50.3125 4.234375 \nQ 43.84375 -1.421875 31.78125 -1.421875 \nQ 19.734375 -1.421875 13.25 4.234375 \nQ 6.78125 9.90625 6.78125 20.515625 \nQ 6.78125 27.484375 10.78125 32.3125 \nQ 14.796875 37.15625 21.921875 38.8125 \nz\nM 18.3125 54.390625 \nQ 18.3125 48.734375 21.84375 45.5625 \nQ 25.390625 42.390625 31.78125 42.390625 \nQ 38.140625 42.390625 41.71875 45.5625 \nQ 45.3125 48.734375 45.3125 54.390625 \nQ 45.3125 60.0625 41.71875 63.234375 \nQ 38.140625 66.40625 31.78125 66.40625 \nQ 25.390625 66.40625 21.84375 63.234375 \nQ 18.3125 60.0625 18.3125 54.390625 \nz\n\" id=\"DejaVuSans-56\"/>\n       </defs>\n       <use xlink:href=\"#DejaVuSans-56\"/>\n      </g>\n     </g>\n    </g>\n    <g id=\"text_18\">\n     <!-- 1e8 -->\n     <g transform=\"translate(37.096767 14.798437)scale(0.1 -0.1)\">\n      <use xlink:href=\"#DejaVuSans-49\"/>\n      <use x=\"63.623047\" xlink:href=\"#DejaVuSans-101\"/>\n      <use x=\"125.146484\" xlink:href=\"#DejaVuSans-56\"/>\n     </g>\n    </g>\n   </g>\n   <g id=\"line2d_17\">\n    <path clip-path=\"url(#p0213f17a33)\" d=\"M 52.314949 204.736615 \nL 356.678585 204.736618 \nL 356.678585 204.736618 \n\" style=\"fill:none;stroke:#1f77b4;stroke-linecap:square;stroke-width:1.5;\"/>\n   </g>\n   <g id=\"line2d_18\">\n    <path clip-path=\"url(#p0213f17a33)\" d=\"M 52.314949 203.483598 \nL 53.13313 203.44018 \nL 53.951312 202.530285 \nL 54.769494 203.357993 \nL 55.587676 203.039625 \nL 58.042221 203.524887 \nL 58.860403 202.90926 \nL 59.678585 203.584992 \nL 60.496767 203.319232 \nL 61.314949 203.209137 \nL 64.587676 197.941552 \nL 65.405858 200.420605 \nL 66.22404 194.170077 \nL 67.042221 196.800937 \nL 69.496767 200.038369 \nL 70.314949 202.379855 \nL 71.13313 202.761758 \nL 72.769494 202.421982 \nL 75.22404 203.228684 \nL 76.042221 202.43252 \nL 76.860403 202.826491 \nL 77.678585 202.955884 \nL 78.496767 203.545359 \nL 80.951312 201.352959 \nL 81.769494 202.779429 \nL 82.587676 202.649475 \nL 83.405858 202.890075 \nL 84.22404 203.571999 \nL 88.314949 203.509737 \nL 89.13313 202.902924 \nL 89.951312 202.844437 \nL 92.405858 199.897867 \nL 93.22404 199.792148 \nL 94.042221 200.543643 \nL 94.860403 197.589515 \nL 95.678585 196.411605 \nL 98.13313 196.308079 \nL 98.951312 196.805151 \nL 99.769494 195.133458 \nL 100.587676 194.656259 \nL 101.405858 192.264509 \nL 103.826312 185.690039 \nL 104.644494 192.430378 \nL 105.462676 194.893801 \nL 106.280858 192.763647 \nL 107.09904 191.657601 \nL 109.553585 185.431502 \nL 110.371767 178.100836 \nL 111.189949 189.623025 \nL 112.00813 188.898686 \nL 112.826312 190.253725 \nL 115.280858 192.076917 \nL 116.09904 181.899747 \nL 116.917221 183.784092 \nL 117.735403 187.647026 \nL 118.553585 193.244707 \nL 121.00813 193.32266 \nL 121.826312 194.669923 \nL 122.644494 191.829909 \nL 123.462676 175.354194 \nL 124.280858 185.361854 \nL 126.735403 183.787303 \nL 127.553585 173.610084 \nL 128.371767 187.049484 \nL 129.189949 179.040403 \nL 132.462676 188.583986 \nL 133.280858 179.215385 \nL 134.09904 151.372114 \nL 134.917221 153.086323 \nL 135.735403 157.733335 \nL 138.189949 166.656379 \nL 139.00813 172.115926 \nL 139.826312 139.231744 \nL 140.644494 180.400733 \nL 141.462676 160.596319 \nL 144.735403 179.022319 \nL 145.553585 156.252825 \nL 146.371767 184.70615 \nL 147.189949 160.588822 \nL 149.644494 177.747248 \nL 150.462676 166.225461 \nL 151.280858 189.419136 \nL 152.09904 177.181315 \nL 152.917221 191.671384 \nL 155.371767 193.897456 \nL 156.189949 184.105522 \nL 157.00813 189.182819 \nL 157.826312 188.589953 \nL 158.644494 196.069691 \nL 161.09904 171.050192 \nL 161.917221 191.447401 \nL 162.735403 185.393829 \nL 163.553585 184.455106 \nL 164.371767 188.126775 \nL 167.644494 182.142712 \nL 168.462676 183.270197 \nL 169.280858 189.192046 \nL 170.09904 181.230839 \nL 172.553585 182.565726 \nL 173.371767 183.234097 \nL 174.189949 166.030394 \nL 175.00813 26.700256 \nL 175.826312 116.163562 \nL 178.280858 168.07562 \nL 179.09904 157.633802 \nL 179.917221 131.336152 \nL 180.735403 177.962894 \nL 181.553585 175.621513 \nL 184.00813 150.493036 \nL 184.826312 177.376912 \nL 185.644494 173.335263 \nL 186.462676 190.599995 \nL 187.280858 165.436829 \nL 189.735403 179.111296 \nL 190.553585 164.918132 \nL 191.371767 175.381073 \nL 193.00813 181.48697 \nL 195.462676 178.480881 \nL 196.280858 189.116198 \nL 197.09904 178.602107 \nL 197.917221 185.645083 \nL 201.189949 187.142461 \nL 202.00813 186.928789 \nL 202.826312 185.424216 \nL 203.644494 187.029321 \nL 204.462676 184.375746 \nL 206.917221 189.553481 \nL 207.735403 194.685076 \nL 208.553585 175.268764 \nL 209.371767 186.299911 \nL 210.189949 189.202015 \nL 212.644494 190.346116 \nL 213.462676 190.138808 \nL 214.280858 195.091204 \nL 215.09904 178.049325 \nL 215.917221 194.126532 \nL 218.371767 188.574768 \nL 219.189949 190.289832 \nL 220.00813 192.607102 \nL 220.826312 195.603135 \nL 221.644494 192.927009 \nL 224.09904 193.508557 \nL 224.917221 192.004335 \nL 225.735403 178.449912 \nL 226.553585 175.852708 \nL 227.371767 190.776659 \nL 229.826312 176.783514 \nL 230.644494 177.090364 \nL 231.462676 187.209794 \nL 232.280858 194.158491 \nL 233.09904 194.595988 \nL 235.553585 191.88875 \nL 236.371767 197.209457 \nL 237.189949 191.162504 \nL 238.00813 195.413988 \nL 238.826312 196.673276 \nL 241.280858 185.778992 \nL 242.09904 187.007747 \nL 242.917221 194.676338 \nL 243.735403 180.357375 \nL 244.553585 192.544678 \nL 247.00813 194.552851 \nL 247.826312 188.101944 \nL 248.644494 191.517041 \nL 249.462676 184.886379 \nL 250.280858 190.14891 \nL 253.553585 188.43074 \nL 254.371767 186.33863 \nL 255.189949 195.195268 \nL 256.00813 194.637057 \nL 258.462676 195.670738 \nL 259.280858 195.629771 \nL 260.09904 186.795452 \nL 260.917221 193.494668 \nL 261.735403 192.783802 \nL 264.189949 191.335141 \nL 265.00813 197.529886 \nL 265.826312 194.455144 \nL 266.644494 193.511608 \nL 267.462676 195.336646 \nL 269.917221 190.872289 \nL 270.735403 194.710263 \nL 271.553585 190.365565 \nL 272.371767 194.057726 \nL 273.189949 179.881353 \nL 275.644494 193.023986 \nL 276.462676 186.483358 \nL 277.280858 191.371858 \nL 278.09904 184.981782 \nL 278.917221 189.943082 \nL 281.371767 195.870624 \nL 282.189949 191.247444 \nL 283.00813 196.584576 \nL 283.826312 197.366443 \nL 284.644494 197.619321 \nL 287.09904 193.763243 \nL 287.917221 194.358957 \nL 288.735403 197.766548 \nL 289.553585 184.405769 \nL 290.371767 184.08397 \nL 292.826312 186.002639 \nL 293.644494 190.449334 \nL 294.462676 191.122593 \nL 295.280858 195.333816 \nL 296.09904 193.80985 \nL 298.587676 196.035085 \nL 299.405858 195.496503 \nL 300.22404 195.092695 \nL 301.042221 192.63954 \nL 301.860403 196.801346 \nL 304.314949 158.579886 \nL 305.13313 180.466271 \nL 305.951312 187.979114 \nL 306.769494 188.379399 \nL 307.587676 193.671347 \nL 310.042221 187.685617 \nL 310.860403 190.720388 \nL 311.678585 182.405278 \nL 312.496767 191.707974 \nL 313.314949 191.710918 \nL 315.769494 182.368472 \nL 316.587676 170.114707 \nL 317.405858 182.221799 \nL 319.042221 190.083914 \nL 321.496767 183.069677 \nL 322.314949 187.681291 \nL 323.13313 187.989587 \nL 323.951312 165.949874 \nL 324.769494 179.389151 \nL 327.22404 168.839217 \nL 328.042221 183.280205 \nL 328.860403 173.375178 \nL 329.678585 186.531968 \nL 330.496767 181.550041 \nL 332.951312 185.071096 \nL 333.769494 184.653164 \nL 334.587676 191.760461 \nL 335.405858 193.943642 \nL 336.22404 191.27162 \nL 338.678585 186.453673 \nL 339.496767 188.070199 \nL 340.314949 190.84478 \nL 341.13313 197.848092 \nL 344.405858 191.409189 \nL 345.22404 193.127168 \nL 346.042221 193.508294 \nL 346.860403 191.333897 \nL 350.13313 188.79807 \nL 350.951312 192.841007 \nL 351.769494 190.457844 \nL 352.587676 194.14562 \nL 353.405858 192.097739 \nL 355.860403 195.835897 \nL 356.678585 194.301157 \nL 356.678585 194.301157 \n\" style=\"fill:none;stroke:#ff7f0e;stroke-linecap:square;stroke-width:1.5;\"/>\n   </g>\n   <g id=\"patch_3\">\n    <path d=\"M 37.096767 213.638437 \nL 37.096767 17.798437 \n\" style=\"fill:none;stroke:#000000;stroke-linecap:square;stroke-linejoin:miter;stroke-width:0.8;\"/>\n   </g>\n   <g id=\"patch_4\">\n    <path d=\"M 371.896767 213.638437 \nL 371.896767 17.798437 \n\" style=\"fill:none;stroke:#000000;stroke-linecap:square;stroke-linejoin:miter;stroke-width:0.8;\"/>\n   </g>\n   <g id=\"patch_5\">\n    <path d=\"M 37.096767 213.638437 \nL 371.896767 213.638437 \n\" style=\"fill:none;stroke:#000000;stroke-linecap:square;stroke-linejoin:miter;stroke-width:0.8;\"/>\n   </g>\n   <g id=\"patch_6\">\n    <path d=\"M 37.096767 17.798437 \nL 371.896767 17.798437 \n\" style=\"fill:none;stroke:#000000;stroke-linecap:square;stroke-linejoin:miter;stroke-width:0.8;\"/>\n   </g>\n   <g id=\"legend_1\">\n    <g id=\"patch_7\">\n     <path d=\"M 275.815517 55.710937 \nL 364.896767 55.710937 \nQ 366.896767 55.710937 366.896767 53.710937 \nL 366.896767 24.798437 \nQ 366.896767 22.798437 364.896767 22.798437 \nL 275.815517 22.798437 \nQ 273.815517 22.798437 273.815517 24.798437 \nL 273.815517 53.710937 \nQ 273.815517 55.710937 275.815517 55.710937 \nz\n\" style=\"fill:#ffffff;opacity:0.8;stroke:#cccccc;stroke-linejoin:miter;\"/>\n    </g>\n    <g id=\"line2d_19\">\n     <path d=\"M 277.815517 30.896875 \nL 297.815517 30.896875 \n\" style=\"fill:none;stroke:#1f77b4;stroke-linecap:square;stroke-width:1.5;\"/>\n    </g>\n    <g id=\"line2d_20\"/>\n    <g id=\"text_19\">\n     <!-- aal_close -->\n     <g transform=\"translate(305.815517 34.396875)scale(0.1 -0.1)\">\n      <defs>\n       <path d=\"M 34.28125 27.484375 \nQ 23.390625 27.484375 19.1875 25 \nQ 14.984375 22.515625 14.984375 16.5 \nQ 14.984375 11.71875 18.140625 8.90625 \nQ 21.296875 6.109375 26.703125 6.109375 \nQ 34.1875 6.109375 38.703125 11.40625 \nQ 43.21875 16.703125 43.21875 25.484375 \nL 43.21875 27.484375 \nz\nM 52.203125 31.203125 \nL 52.203125 0 \nL 43.21875 0 \nL 43.21875 8.296875 \nQ 40.140625 3.328125 35.546875 0.953125 \nQ 30.953125 -1.421875 24.3125 -1.421875 \nQ 15.921875 -1.421875 10.953125 3.296875 \nQ 6 8.015625 6 15.921875 \nQ 6 25.140625 12.171875 29.828125 \nQ 18.359375 34.515625 30.609375 34.515625 \nL 43.21875 34.515625 \nL 43.21875 35.40625 \nQ 43.21875 41.609375 39.140625 45 \nQ 35.0625 48.390625 27.6875 48.390625 \nQ 23 48.390625 18.546875 47.265625 \nQ 14.109375 46.140625 10.015625 43.890625 \nL 10.015625 52.203125 \nQ 14.9375 54.109375 19.578125 55.046875 \nQ 24.21875 56 28.609375 56 \nQ 40.484375 56 46.34375 49.84375 \nQ 52.203125 43.703125 52.203125 31.203125 \nz\n\" id=\"DejaVuSans-97\"/>\n       <path d=\"M 9.421875 75.984375 \nL 18.40625 75.984375 \nL 18.40625 0 \nL 9.421875 0 \nz\n\" id=\"DejaVuSans-108\"/>\n       <path d=\"M 50.984375 -16.609375 \nL 50.984375 -23.578125 \nL -0.984375 -23.578125 \nL -0.984375 -16.609375 \nz\n\" id=\"DejaVuSans-95\"/>\n       <path d=\"M 48.78125 52.59375 \nL 48.78125 44.1875 \nQ 44.96875 46.296875 41.140625 47.34375 \nQ 37.3125 48.390625 33.40625 48.390625 \nQ 24.65625 48.390625 19.8125 42.84375 \nQ 14.984375 37.3125 14.984375 27.296875 \nQ 14.984375 17.28125 19.8125 11.734375 \nQ 24.65625 6.203125 33.40625 6.203125 \nQ 37.3125 6.203125 41.140625 7.25 \nQ 44.96875 8.296875 48.78125 10.40625 \nL 48.78125 2.09375 \nQ 45.015625 0.34375 40.984375 -0.53125 \nQ 36.96875 -1.421875 32.421875 -1.421875 \nQ 20.0625 -1.421875 12.78125 6.34375 \nQ 5.515625 14.109375 5.515625 27.296875 \nQ 5.515625 40.671875 12.859375 48.328125 \nQ 20.21875 56 33.015625 56 \nQ 37.15625 56 41.109375 55.140625 \nQ 45.0625 54.296875 48.78125 52.59375 \nz\n\" id=\"DejaVuSans-99\"/>\n       <path d=\"M 30.609375 48.390625 \nQ 23.390625 48.390625 19.1875 42.75 \nQ 14.984375 37.109375 14.984375 27.296875 \nQ 14.984375 17.484375 19.15625 11.84375 \nQ 23.34375 6.203125 30.609375 6.203125 \nQ 37.796875 6.203125 41.984375 11.859375 \nQ 46.1875 17.53125 46.1875 27.296875 \nQ 46.1875 37.015625 41.984375 42.703125 \nQ 37.796875 48.390625 30.609375 48.390625 \nz\nM 30.609375 56 \nQ 42.328125 56 49.015625 48.375 \nQ 55.71875 40.765625 55.71875 27.296875 \nQ 55.71875 13.875 49.015625 6.21875 \nQ 42.328125 -1.421875 30.609375 -1.421875 \nQ 18.84375 -1.421875 12.171875 6.21875 \nQ 5.515625 13.875 5.515625 27.296875 \nQ 5.515625 40.765625 12.171875 48.375 \nQ 18.84375 56 30.609375 56 \nz\n\" id=\"DejaVuSans-111\"/>\n       <path d=\"M 44.28125 53.078125 \nL 44.28125 44.578125 \nQ 40.484375 46.53125 36.375 47.5 \nQ 32.28125 48.484375 27.875 48.484375 \nQ 21.1875 48.484375 17.84375 46.4375 \nQ 14.5 44.390625 14.5 40.28125 \nQ 14.5 37.15625 16.890625 35.375 \nQ 19.28125 33.59375 26.515625 31.984375 \nL 29.59375 31.296875 \nQ 39.15625 29.25 43.1875 25.515625 \nQ 47.21875 21.78125 47.21875 15.09375 \nQ 47.21875 7.46875 41.1875 3.015625 \nQ 35.15625 -1.421875 24.609375 -1.421875 \nQ 20.21875 -1.421875 15.453125 -0.5625 \nQ 10.6875 0.296875 5.421875 2 \nL 5.421875 11.28125 \nQ 10.40625 8.6875 15.234375 7.390625 \nQ 20.0625 6.109375 24.8125 6.109375 \nQ 31.15625 6.109375 34.5625 8.28125 \nQ 37.984375 10.453125 37.984375 14.40625 \nQ 37.984375 18.0625 35.515625 20.015625 \nQ 33.0625 21.96875 24.703125 23.78125 \nL 21.578125 24.515625 \nQ 13.234375 26.265625 9.515625 29.90625 \nQ 5.8125 33.546875 5.8125 39.890625 \nQ 5.8125 47.609375 11.28125 51.796875 \nQ 16.75 56 26.8125 56 \nQ 31.78125 56 36.171875 55.265625 \nQ 40.578125 54.546875 44.28125 53.078125 \nz\n\" id=\"DejaVuSans-115\"/>\n      </defs>\n      <use xlink:href=\"#DejaVuSans-97\"/>\n      <use x=\"61.279297\" xlink:href=\"#DejaVuSans-97\"/>\n      <use x=\"122.558594\" xlink:href=\"#DejaVuSans-108\"/>\n      <use x=\"150.341797\" xlink:href=\"#DejaVuSans-95\"/>\n      <use x=\"200.341797\" xlink:href=\"#DejaVuSans-99\"/>\n      <use x=\"255.322266\" xlink:href=\"#DejaVuSans-108\"/>\n      <use x=\"283.105469\" xlink:href=\"#DejaVuSans-111\"/>\n      <use x=\"344.287109\" xlink:href=\"#DejaVuSans-115\"/>\n      <use x=\"396.386719\" xlink:href=\"#DejaVuSans-101\"/>\n     </g>\n    </g>\n    <g id=\"line2d_21\">\n     <path d=\"M 277.815517 45.853125 \nL 297.815517 45.853125 \n\" style=\"fill:none;stroke:#ff7f0e;stroke-linecap:square;stroke-width:1.5;\"/>\n    </g>\n    <g id=\"line2d_22\"/>\n    <g id=\"text_20\">\n     <!-- aal_volume -->\n     <g transform=\"translate(305.815517 49.353125)scale(0.1 -0.1)\">\n      <defs>\n       <path d=\"M 2.984375 54.6875 \nL 12.5 54.6875 \nL 29.59375 8.796875 \nL 46.6875 54.6875 \nL 56.203125 54.6875 \nL 35.6875 0 \nL 23.484375 0 \nz\n\" id=\"DejaVuSans-118\"/>\n       <path d=\"M 8.5 21.578125 \nL 8.5 54.6875 \nL 17.484375 54.6875 \nL 17.484375 21.921875 \nQ 17.484375 14.15625 20.5 10.265625 \nQ 23.53125 6.390625 29.59375 6.390625 \nQ 36.859375 6.390625 41.078125 11.03125 \nQ 45.3125 15.671875 45.3125 23.6875 \nL 45.3125 54.6875 \nL 54.296875 54.6875 \nL 54.296875 0 \nL 45.3125 0 \nL 45.3125 8.40625 \nQ 42.046875 3.421875 37.71875 1 \nQ 33.40625 -1.421875 27.6875 -1.421875 \nQ 18.265625 -1.421875 13.375 4.4375 \nQ 8.5 10.296875 8.5 21.578125 \nz\nM 31.109375 56 \nz\n\" id=\"DejaVuSans-117\"/>\n      </defs>\n      <use xlink:href=\"#DejaVuSans-97\"/>\n      <use x=\"61.279297\" xlink:href=\"#DejaVuSans-97\"/>\n      <use x=\"122.558594\" xlink:href=\"#DejaVuSans-108\"/>\n      <use x=\"150.341797\" xlink:href=\"#DejaVuSans-95\"/>\n      <use x=\"200.341797\" xlink:href=\"#DejaVuSans-118\"/>\n      <use x=\"259.521484\" xlink:href=\"#DejaVuSans-111\"/>\n      <use x=\"320.703125\" xlink:href=\"#DejaVuSans-108\"/>\n      <use x=\"348.486328\" xlink:href=\"#DejaVuSans-117\"/>\n      <use x=\"411.865234\" xlink:href=\"#DejaVuSans-109\"/>\n      <use x=\"509.277344\" xlink:href=\"#DejaVuSans-101\"/>\n     </g>\n    </g>\n   </g>\n  </g>\n </g>\n <defs>\n  <clipPath id=\"p0213f17a33\">\n   <rect height=\"195.84\" width=\"334.8\" x=\"37.096767\" y=\"17.798437\"/>\n  </clipPath>\n </defs>\n</svg>\n",
      "image/png": "[encoded data removed]"
     },
     "metadata": {
      "needs_background": "light"
     }
    }
   ],
   "source": [
    "aal_df.plot()"
   ]
  },
  {
   "cell_type": "code",
   "execution_count": 127,
   "metadata": {},
   "outputs": [
    {
     "output_type": "execute_result",
     "data": {
      "text/plain": [
       "<AxesSubplot:xlabel='time'>"
      ]
     },
     "metadata": {},
     "execution_count": 127
    },
    {
     "output_type": "display_data",
     "data": {
      "text/plain": "<Figure size 432x288 with 1 Axes>",
      "image/svg+xml": "<?xml version=\"1.0\" encoding=\"utf-8\" standalone=\"no\"?>\n<!DOCTYPE svg PUBLIC \"-//W3C//DTD SVG 1.1//EN\"\n  \"http://www.w3.org/Graphics/SVG/1.1/DTD/svg11.dtd\">\n<!-- Created with matplotlib (https://matplotlib.org/) -->\n<svg height=\"270.789471pt\" version=\"1.1\" viewBox=\"0 0 379.096767 270.789471\" width=\"379.096767pt\" xmlns=\"http://www.w3.org/2000/svg\" xmlns:xlink=\"http://www.w3.org/1999/xlink\">\n <metadata>\n  <rdf:RDF xmlns:cc=\"http://creativecommons.org/ns#\" xmlns:dc=\"http://purl.org/dc/elements/1.1/\" xmlns:rdf=\"http://www.w3.org/1999/02/22-rdf-syntax-ns#\">\n   <cc:Work>\n    <dc:type rdf:resource=\"http://purl.org/dc/dcmitype/StillImage\"/>\n    <dc:date>2021-01-12T18:47:46.575267</dc:date>\n    <dc:format>image/svg+xml</dc:format>\n    <dc:creator>\n     <cc:Agent>\n      <dc:title>Matplotlib v3.3.2, https://matplotlib.org/</dc:title>\n     </cc:Agent>\n    </dc:creator>\n   </cc:Work>\n  </rdf:RDF>\n </metadata>\n <defs>\n  <style type=\"text/css\">*{stroke-linecap:butt;stroke-linejoin:round;}</style>\n </defs>\n <g id=\"figure_1\">\n  <g id=\"patch_1\">\n   <path d=\"M 0 270.789471 \nL 379.096767 270.789471 \nL 379.096767 0 \nL 0 0 \nz\n\" style=\"fill:none;\"/>\n  </g>\n  <g id=\"axes_1\">\n   <g id=\"patch_2\">\n    <path d=\"M 37.096767 213.638437 \nL 371.896767 213.638437 \nL 371.896767 17.798437 \nL 37.096767 17.798437 \nz\n\" style=\"fill:#ffffff;\"/>\n   </g>\n   <g id=\"matplotlib.axis_1\">\n    <g id=\"xtick_1\">\n     <g id=\"line2d_1\">\n      <defs>\n       <path d=\"M 0 0 \nL 0 3.5 \n\" id=\"m5dfb8ccecb\" style=\"stroke:#000000;stroke-width:0.8;\"/>\n      </defs>\n      <g>\n       <use style=\"stroke:#000000;stroke-width:0.8;\" x=\"48.22404\" xlink:href=\"#m5dfb8ccecb\" y=\"213.638437\"/>\n      </g>\n     </g>\n     <g id=\"text_1\">\n      <!-- 2020-01 -->\n      <g transform=\"translate(10.999219 248.110284)rotate(-30)scale(0.1 -0.1)\">\n       <defs>\n        <path d=\"M 19.1875 8.296875 \nL 53.609375 8.296875 \nL 53.609375 0 \nL 7.328125 0 \nL 7.328125 8.296875 \nQ 12.9375 14.109375 22.625 23.890625 \nQ 32.328125 33.6875 34.8125 36.53125 \nQ 39.546875 41.84375 41.421875 45.53125 \nQ 43.3125 49.21875 43.3125 52.78125 \nQ 43.3125 58.59375 39.234375 62.25 \nQ 35.15625 65.921875 28.609375 65.921875 \nQ 23.96875 65.921875 18.8125 64.3125 \nQ 13.671875 62.703125 7.8125 59.421875 \nL 7.8125 69.390625 \nQ 13.765625 71.78125 18.9375 73 \nQ 24.125 74.21875 28.421875 74.21875 \nQ 39.75 74.21875 46.484375 68.546875 \nQ 53.21875 62.890625 53.21875 53.421875 \nQ 53.21875 48.921875 51.53125 44.890625 \nQ 49.859375 40.875 45.40625 35.40625 \nQ 44.1875 33.984375 37.640625 27.21875 \nQ 31.109375 20.453125 19.1875 8.296875 \nz\n\" id=\"DejaVuSans-50\"/>\n        <path d=\"M 31.78125 66.40625 \nQ 24.171875 66.40625 20.328125 58.90625 \nQ 16.5 51.421875 16.5 36.375 \nQ 16.5 21.390625 20.328125 13.890625 \nQ 24.171875 6.390625 31.78125 6.390625 \nQ 39.453125 6.390625 43.28125 13.890625 \nQ 47.125 21.390625 47.125 36.375 \nQ 47.125 51.421875 43.28125 58.90625 \nQ 39.453125 66.40625 31.78125 66.40625 \nz\nM 31.78125 74.21875 \nQ 44.046875 74.21875 50.515625 64.515625 \nQ 56.984375 54.828125 56.984375 36.375 \nQ 56.984375 17.96875 50.515625 8.265625 \nQ 44.046875 -1.421875 31.78125 -1.421875 \nQ 19.53125 -1.421875 13.0625 8.265625 \nQ 6.59375 17.96875 6.59375 36.375 \nQ 6.59375 54.828125 13.0625 64.515625 \nQ 19.53125 74.21875 31.78125 74.21875 \nz\n\" id=\"DejaVuSans-48\"/>\n        <path d=\"M 4.890625 31.390625 \nL 31.203125 31.390625 \nL 31.203125 23.390625 \nL 4.890625 23.390625 \nz\n\" id=\"DejaVuSans-45\"/>\n        <path d=\"M 12.40625 8.296875 \nL 28.515625 8.296875 \nL 28.515625 63.921875 \nL 10.984375 60.40625 \nL 10.984375 69.390625 \nL 28.421875 72.90625 \nL 38.28125 72.90625 \nL 38.28125 8.296875 \nL 54.390625 8.296875 \nL 54.390625 0 \nL 12.40625 0 \nz\n\" id=\"DejaVuSans-49\"/>\n       </defs>\n       <use xlink:href=\"#DejaVuSans-50\"/>\n       <use x=\"63.623047\" xlink:href=\"#DejaVuSans-48\"/>\n       <use x=\"127.246094\" xlink:href=\"#DejaVuSans-50\"/>\n       <use x=\"190.869141\" xlink:href=\"#DejaVuSans-48\"/>\n       <use x=\"254.492188\" xlink:href=\"#DejaVuSans-45\"/>\n       <use x=\"290.576172\" xlink:href=\"#DejaVuSans-48\"/>\n       <use x=\"354.199219\" xlink:href=\"#DejaVuSans-49\"/>\n      </g>\n     </g>\n    </g>\n    <g id=\"xtick_2\">\n     <g id=\"line2d_2\">\n      <g>\n       <use style=\"stroke:#000000;stroke-width:0.8;\" x=\"97.314949\" xlink:href=\"#m5dfb8ccecb\" y=\"213.638437\"/>\n      </g>\n     </g>\n     <g id=\"text_2\">\n      <!-- 2020-03 -->\n      <g transform=\"translate(60.090128 248.110284)rotate(-30)scale(0.1 -0.1)\">\n       <defs>\n        <path d=\"M 40.578125 39.3125 \nQ 47.65625 37.796875 51.625 33 \nQ 55.609375 28.21875 55.609375 21.1875 \nQ 55.609375 10.40625 48.1875 4.484375 \nQ 40.765625 -1.421875 27.09375 -1.421875 \nQ 22.515625 -1.421875 17.65625 -0.515625 \nQ 12.796875 0.390625 7.625 2.203125 \nL 7.625 11.71875 \nQ 11.71875 9.328125 16.59375 8.109375 \nQ 21.484375 6.890625 26.8125 6.890625 \nQ 36.078125 6.890625 40.9375 10.546875 \nQ 45.796875 14.203125 45.796875 21.1875 \nQ 45.796875 27.640625 41.28125 31.265625 \nQ 36.765625 34.90625 28.71875 34.90625 \nL 20.21875 34.90625 \nL 20.21875 43.015625 \nL 29.109375 43.015625 \nQ 36.375 43.015625 40.234375 45.921875 \nQ 44.09375 48.828125 44.09375 54.296875 \nQ 44.09375 59.90625 40.109375 62.90625 \nQ 36.140625 65.921875 28.71875 65.921875 \nQ 24.65625 65.921875 20.015625 65.03125 \nQ 15.375 64.15625 9.8125 62.3125 \nL 9.8125 71.09375 \nQ 15.4375 72.65625 20.34375 73.4375 \nQ 25.25 74.21875 29.59375 74.21875 \nQ 40.828125 74.21875 47.359375 69.109375 \nQ 53.90625 64.015625 53.90625 55.328125 \nQ 53.90625 49.265625 50.4375 45.09375 \nQ 46.96875 40.921875 40.578125 39.3125 \nz\n\" id=\"DejaVuSans-51\"/>\n       </defs>\n       <use xlink:href=\"#DejaVuSans-50\"/>\n       <use x=\"63.623047\" xlink:href=\"#DejaVuSans-48\"/>\n       <use x=\"127.246094\" xlink:href=\"#DejaVuSans-50\"/>\n       <use x=\"190.869141\" xlink:href=\"#DejaVuSans-48\"/>\n       <use x=\"254.492188\" xlink:href=\"#DejaVuSans-45\"/>\n       <use x=\"290.576172\" xlink:href=\"#DejaVuSans-48\"/>\n       <use x=\"354.199219\" xlink:href=\"#DejaVuSans-51\"/>\n      </g>\n     </g>\n    </g>\n    <g id=\"xtick_3\">\n     <g id=\"line2d_3\">\n      <g>\n       <use style=\"stroke:#000000;stroke-width:0.8;\" x=\"147.189949\" xlink:href=\"#m5dfb8ccecb\" y=\"213.638437\"/>\n      </g>\n     </g>\n     <g id=\"text_3\">\n      <!-- 2020-05 -->\n      <g transform=\"translate(109.965128 248.110284)rotate(-30)scale(0.1 -0.1)\">\n       <defs>\n        <path d=\"M 10.796875 72.90625 \nL 49.515625 72.90625 \nL 49.515625 64.59375 \nL 19.828125 64.59375 \nL 19.828125 46.734375 \nQ 21.96875 47.46875 24.109375 47.828125 \nQ 26.265625 48.1875 28.421875 48.1875 \nQ 40.625 48.1875 47.75 41.5 \nQ 54.890625 34.8125 54.890625 23.390625 \nQ 54.890625 11.625 47.5625 5.09375 \nQ 40.234375 -1.421875 26.90625 -1.421875 \nQ 22.3125 -1.421875 17.546875 -0.640625 \nQ 12.796875 0.140625 7.71875 1.703125 \nL 7.71875 11.625 \nQ 12.109375 9.234375 16.796875 8.0625 \nQ 21.484375 6.890625 26.703125 6.890625 \nQ 35.15625 6.890625 40.078125 11.328125 \nQ 45.015625 15.765625 45.015625 23.390625 \nQ 45.015625 31 40.078125 35.4375 \nQ 35.15625 39.890625 26.703125 39.890625 \nQ 22.75 39.890625 18.8125 39.015625 \nQ 14.890625 38.140625 10.796875 36.28125 \nz\n\" id=\"DejaVuSans-53\"/>\n       </defs>\n       <use xlink:href=\"#DejaVuSans-50\"/>\n       <use x=\"63.623047\" xlink:href=\"#DejaVuSans-48\"/>\n       <use x=\"127.246094\" xlink:href=\"#DejaVuSans-50\"/>\n       <use x=\"190.869141\" xlink:href=\"#DejaVuSans-48\"/>\n       <use x=\"254.492188\" xlink:href=\"#DejaVuSans-45\"/>\n       <use x=\"290.576172\" xlink:href=\"#DejaVuSans-48\"/>\n       <use x=\"354.199219\" xlink:href=\"#DejaVuSans-53\"/>\n      </g>\n     </g>\n    </g>\n    <g id=\"xtick_4\">\n     <g id=\"line2d_4\">\n      <g>\n       <use style=\"stroke:#000000;stroke-width:0.8;\" x=\"197.09904\" xlink:href=\"#m5dfb8ccecb\" y=\"213.638437\"/>\n      </g>\n     </g>\n     <g id=\"text_4\">\n      <!-- 2020-07 -->\n      <g transform=\"translate(159.874219 248.110284)rotate(-30)scale(0.1 -0.1)\">\n       <defs>\n        <path d=\"M 8.203125 72.90625 \nL 55.078125 72.90625 \nL 55.078125 68.703125 \nL 28.609375 0 \nL 18.3125 0 \nL 43.21875 64.59375 \nL 8.203125 64.59375 \nz\n\" id=\"DejaVuSans-55\"/>\n       </defs>\n       <use xlink:href=\"#DejaVuSans-50\"/>\n       <use x=\"63.623047\" xlink:href=\"#DejaVuSans-48\"/>\n       <use x=\"127.246094\" xlink:href=\"#DejaVuSans-50\"/>\n       <use x=\"190.869141\" xlink:href=\"#DejaVuSans-48\"/>\n       <use x=\"254.492188\" xlink:href=\"#DejaVuSans-45\"/>\n       <use x=\"290.576172\" xlink:href=\"#DejaVuSans-48\"/>\n       <use x=\"354.199219\" xlink:href=\"#DejaVuSans-55\"/>\n      </g>\n     </g>\n    </g>\n    <g id=\"xtick_5\">\n     <g id=\"line2d_5\">\n      <g>\n       <use style=\"stroke:#000000;stroke-width:0.8;\" x=\"247.826312\" xlink:href=\"#m5dfb8ccecb\" y=\"213.638437\"/>\n      </g>\n     </g>\n     <g id=\"text_5\">\n      <!-- 2020-09 -->\n      <g transform=\"translate(210.601491 248.110284)rotate(-30)scale(0.1 -0.1)\">\n       <defs>\n        <path d=\"M 10.984375 1.515625 \nL 10.984375 10.5 \nQ 14.703125 8.734375 18.5 7.8125 \nQ 22.3125 6.890625 25.984375 6.890625 \nQ 35.75 6.890625 40.890625 13.453125 \nQ 46.046875 20.015625 46.78125 33.40625 \nQ 43.953125 29.203125 39.59375 26.953125 \nQ 35.25 24.703125 29.984375 24.703125 \nQ 19.046875 24.703125 12.671875 31.3125 \nQ 6.296875 37.9375 6.296875 49.421875 \nQ 6.296875 60.640625 12.9375 67.421875 \nQ 19.578125 74.21875 30.609375 74.21875 \nQ 43.265625 74.21875 49.921875 64.515625 \nQ 56.59375 54.828125 56.59375 36.375 \nQ 56.59375 19.140625 48.40625 8.859375 \nQ 40.234375 -1.421875 26.421875 -1.421875 \nQ 22.703125 -1.421875 18.890625 -0.6875 \nQ 15.09375 0.046875 10.984375 1.515625 \nz\nM 30.609375 32.421875 \nQ 37.25 32.421875 41.125 36.953125 \nQ 45.015625 41.5 45.015625 49.421875 \nQ 45.015625 57.28125 41.125 61.84375 \nQ 37.25 66.40625 30.609375 66.40625 \nQ 23.96875 66.40625 20.09375 61.84375 \nQ 16.21875 57.28125 16.21875 49.421875 \nQ 16.21875 41.5 20.09375 36.953125 \nQ 23.96875 32.421875 30.609375 32.421875 \nz\n\" id=\"DejaVuSans-57\"/>\n       </defs>\n       <use xlink:href=\"#DejaVuSans-50\"/>\n       <use x=\"63.623047\" xlink:href=\"#DejaVuSans-48\"/>\n       <use x=\"127.246094\" xlink:href=\"#DejaVuSans-50\"/>\n       <use x=\"190.869141\" xlink:href=\"#DejaVuSans-48\"/>\n       <use x=\"254.492188\" xlink:href=\"#DejaVuSans-45\"/>\n       <use x=\"290.576172\" xlink:href=\"#DejaVuSans-48\"/>\n       <use x=\"354.199219\" xlink:href=\"#DejaVuSans-57\"/>\n      </g>\n     </g>\n    </g>\n    <g id=\"xtick_6\">\n     <g id=\"line2d_6\">\n      <g>\n       <use style=\"stroke:#000000;stroke-width:0.8;\" x=\"297.735403\" xlink:href=\"#m5dfb8ccecb\" y=\"213.638437\"/>\n      </g>\n     </g>\n     <g id=\"text_6\">\n      <!-- 2020-11 -->\n      <g transform=\"translate(260.510582 248.110284)rotate(-30)scale(0.1 -0.1)\">\n       <use xlink:href=\"#DejaVuSans-50\"/>\n       <use x=\"63.623047\" xlink:href=\"#DejaVuSans-48\"/>\n       <use x=\"127.246094\" xlink:href=\"#DejaVuSans-50\"/>\n       <use x=\"190.869141\" xlink:href=\"#DejaVuSans-48\"/>\n       <use x=\"254.492188\" xlink:href=\"#DejaVuSans-45\"/>\n       <use x=\"290.576172\" xlink:href=\"#DejaVuSans-49\"/>\n       <use x=\"354.199219\" xlink:href=\"#DejaVuSans-49\"/>\n      </g>\n     </g>\n    </g>\n    <g id=\"xtick_7\">\n     <g id=\"line2d_7\">\n      <g>\n       <use style=\"stroke:#000000;stroke-width:0.8;\" x=\"347.678585\" xlink:href=\"#m5dfb8ccecb\" y=\"213.638437\"/>\n      </g>\n     </g>\n     <g id=\"text_7\">\n      <!-- 2021-01 -->\n      <g transform=\"translate(310.453764 248.110284)rotate(-30)scale(0.1 -0.1)\">\n       <use xlink:href=\"#DejaVuSans-50\"/>\n       <use x=\"63.623047\" xlink:href=\"#DejaVuSans-48\"/>\n       <use x=\"127.246094\" xlink:href=\"#DejaVuSans-50\"/>\n       <use x=\"190.869141\" xlink:href=\"#DejaVuSans-49\"/>\n       <use x=\"254.492188\" xlink:href=\"#DejaVuSans-45\"/>\n       <use x=\"290.576172\" xlink:href=\"#DejaVuSans-48\"/>\n       <use x=\"354.199219\" xlink:href=\"#DejaVuSans-49\"/>\n      </g>\n     </g>\n    </g>\n    <g id=\"text_8\">\n     <!-- time -->\n     <g transform=\"translate(193.200673 261.509783)scale(0.1 -0.1)\">\n      <defs>\n       <path d=\"M 18.3125 70.21875 \nL 18.3125 54.6875 \nL 36.8125 54.6875 \nL 36.8125 47.703125 \nL 18.3125 47.703125 \nL 18.3125 18.015625 \nQ 18.3125 11.328125 20.140625 9.421875 \nQ 21.96875 7.515625 27.59375 7.515625 \nL 36.8125 7.515625 \nL 36.8125 0 \nL 27.59375 0 \nQ 17.1875 0 13.234375 3.875 \nQ 9.28125 7.765625 9.28125 18.015625 \nL 9.28125 47.703125 \nL 2.6875 47.703125 \nL 2.6875 54.6875 \nL 9.28125 54.6875 \nL 9.28125 70.21875 \nz\n\" id=\"DejaVuSans-116\"/>\n       <path d=\"M 9.421875 54.6875 \nL 18.40625 54.6875 \nL 18.40625 0 \nL 9.421875 0 \nz\nM 9.421875 75.984375 \nL 18.40625 75.984375 \nL 18.40625 64.59375 \nL 9.421875 64.59375 \nz\n\" id=\"DejaVuSans-105\"/>\n       <path d=\"M 52 44.1875 \nQ 55.375 50.25 60.0625 53.125 \nQ 64.75 56 71.09375 56 \nQ 79.640625 56 84.28125 50.015625 \nQ 88.921875 44.046875 88.921875 33.015625 \nL 88.921875 0 \nL 79.890625 0 \nL 79.890625 32.71875 \nQ 79.890625 40.578125 77.09375 44.375 \nQ 74.3125 48.1875 68.609375 48.1875 \nQ 61.625 48.1875 57.5625 43.546875 \nQ 53.515625 38.921875 53.515625 30.90625 \nL 53.515625 0 \nL 44.484375 0 \nL 44.484375 32.71875 \nQ 44.484375 40.625 41.703125 44.40625 \nQ 38.921875 48.1875 33.109375 48.1875 \nQ 26.21875 48.1875 22.15625 43.53125 \nQ 18.109375 38.875 18.109375 30.90625 \nL 18.109375 0 \nL 9.078125 0 \nL 9.078125 54.6875 \nL 18.109375 54.6875 \nL 18.109375 46.1875 \nQ 21.1875 51.21875 25.484375 53.609375 \nQ 29.78125 56 35.6875 56 \nQ 41.65625 56 45.828125 52.96875 \nQ 50 49.953125 52 44.1875 \nz\n\" id=\"DejaVuSans-109\"/>\n       <path d=\"M 56.203125 29.59375 \nL 56.203125 25.203125 \nL 14.890625 25.203125 \nQ 15.484375 15.921875 20.484375 11.0625 \nQ 25.484375 6.203125 34.421875 6.203125 \nQ 39.59375 6.203125 44.453125 7.46875 \nQ 49.3125 8.734375 54.109375 11.28125 \nL 54.109375 2.78125 \nQ 49.265625 0.734375 44.1875 -0.34375 \nQ 39.109375 -1.421875 33.890625 -1.421875 \nQ 20.796875 -1.421875 13.15625 6.1875 \nQ 5.515625 13.8125 5.515625 26.8125 \nQ 5.515625 40.234375 12.765625 48.109375 \nQ 20.015625 56 32.328125 56 \nQ 43.359375 56 49.78125 48.890625 \nQ 56.203125 41.796875 56.203125 29.59375 \nz\nM 47.21875 32.234375 \nQ 47.125 39.59375 43.09375 43.984375 \nQ 39.0625 48.390625 32.421875 48.390625 \nQ 24.90625 48.390625 20.390625 44.140625 \nQ 15.875 39.890625 15.1875 32.171875 \nz\n\" id=\"DejaVuSans-101\"/>\n      </defs>\n      <use xlink:href=\"#DejaVuSans-116\"/>\n      <use x=\"39.208984\" xlink:href=\"#DejaVuSans-105\"/>\n      <use x=\"66.992188\" xlink:href=\"#DejaVuSans-109\"/>\n      <use x=\"164.404297\" xlink:href=\"#DejaVuSans-101\"/>\n     </g>\n    </g>\n   </g>\n   <g id=\"matplotlib.axis_2\">\n    <g id=\"ytick_1\">\n     <g id=\"line2d_8\">\n      <defs>\n       <path d=\"M 0 0 \nL -3.5 0 \n\" id=\"me413cb9211\" style=\"stroke:#000000;stroke-width:0.8;\"/>\n      </defs>\n      <g>\n       <use style=\"stroke:#000000;stroke-width:0.8;\" x=\"37.096767\" xlink:href=\"#me413cb9211\" y=\"204.736734\"/>\n      </g>\n     </g>\n     <g id=\"text_9\">\n      <!-- 0.0 -->\n      <g transform=\"translate(14.193642 208.535952)scale(0.1 -0.1)\">\n       <defs>\n        <path d=\"M 10.6875 12.40625 \nL 21 12.40625 \nL 21 0 \nL 10.6875 0 \nz\n\" id=\"DejaVuSans-46\"/>\n       </defs>\n       <use xlink:href=\"#DejaVuSans-48\"/>\n       <use x=\"63.623047\" xlink:href=\"#DejaVuSans-46\"/>\n       <use x=\"95.410156\" xlink:href=\"#DejaVuSans-48\"/>\n      </g>\n     </g>\n    </g>\n    <g id=\"ytick_2\">\n     <g id=\"line2d_9\">\n      <g>\n       <use style=\"stroke:#000000;stroke-width:0.8;\" x=\"37.096767\" xlink:href=\"#me413cb9211\" y=\"179.058686\"/>\n      </g>\n     </g>\n     <g id=\"text_10\">\n      <!-- 0.5 -->\n      <g transform=\"translate(14.193642 182.857905)scale(0.1 -0.1)\">\n       <use xlink:href=\"#DejaVuSans-48\"/>\n       <use x=\"63.623047\" xlink:href=\"#DejaVuSans-46\"/>\n       <use x=\"95.410156\" xlink:href=\"#DejaVuSans-53\"/>\n      </g>\n     </g>\n    </g>\n    <g id=\"ytick_3\">\n     <g id=\"line2d_10\">\n      <g>\n       <use style=\"stroke:#000000;stroke-width:0.8;\" x=\"37.096767\" xlink:href=\"#me413cb9211\" y=\"153.380638\"/>\n      </g>\n     </g>\n     <g id=\"text_11\">\n      <!-- 1.0 -->\n      <g transform=\"translate(14.193642 157.179857)scale(0.1 -0.1)\">\n       <use xlink:href=\"#DejaVuSans-49\"/>\n       <use x=\"63.623047\" xlink:href=\"#DejaVuSans-46\"/>\n       <use x=\"95.410156\" xlink:href=\"#DejaVuSans-48\"/>\n      </g>\n     </g>\n    </g>\n    <g id=\"ytick_4\">\n     <g id=\"line2d_11\">\n      <g>\n       <use style=\"stroke:#000000;stroke-width:0.8;\" x=\"37.096767\" xlink:href=\"#me413cb9211\" y=\"127.702591\"/>\n      </g>\n     </g>\n     <g id=\"text_12\">\n      <!-- 1.5 -->\n      <g transform=\"translate(14.193642 131.50181)scale(0.1 -0.1)\">\n       <use xlink:href=\"#DejaVuSans-49\"/>\n       <use x=\"63.623047\" xlink:href=\"#DejaVuSans-46\"/>\n       <use x=\"95.410156\" xlink:href=\"#DejaVuSans-53\"/>\n      </g>\n     </g>\n    </g>\n    <g id=\"ytick_5\">\n     <g id=\"line2d_12\">\n      <g>\n       <use style=\"stroke:#000000;stroke-width:0.8;\" x=\"37.096767\" xlink:href=\"#me413cb9211\" y=\"102.024543\"/>\n      </g>\n     </g>\n     <g id=\"text_13\">\n      <!-- 2.0 -->\n      <g transform=\"translate(14.193642 105.823762)scale(0.1 -0.1)\">\n       <use xlink:href=\"#DejaVuSans-50\"/>\n       <use x=\"63.623047\" xlink:href=\"#DejaVuSans-46\"/>\n       <use x=\"95.410156\" xlink:href=\"#DejaVuSans-48\"/>\n      </g>\n     </g>\n    </g>\n    <g id=\"ytick_6\">\n     <g id=\"line2d_13\">\n      <g>\n       <use style=\"stroke:#000000;stroke-width:0.8;\" x=\"37.096767\" xlink:href=\"#me413cb9211\" y=\"76.346496\"/>\n      </g>\n     </g>\n     <g id=\"text_14\">\n      <!-- 2.5 -->\n      <g transform=\"translate(14.193642 80.145715)scale(0.1 -0.1)\">\n       <use xlink:href=\"#DejaVuSans-50\"/>\n       <use x=\"63.623047\" xlink:href=\"#DejaVuSans-46\"/>\n       <use x=\"95.410156\" xlink:href=\"#DejaVuSans-53\"/>\n      </g>\n     </g>\n    </g>\n    <g id=\"ytick_7\">\n     <g id=\"line2d_14\">\n      <g>\n       <use style=\"stroke:#000000;stroke-width:0.8;\" x=\"37.096767\" xlink:href=\"#me413cb9211\" y=\"50.668448\"/>\n      </g>\n     </g>\n     <g id=\"text_15\">\n      <!-- 3.0 -->\n      <g transform=\"translate(14.193642 54.467667)scale(0.1 -0.1)\">\n       <use xlink:href=\"#DejaVuSans-51\"/>\n       <use x=\"63.623047\" xlink:href=\"#DejaVuSans-46\"/>\n       <use x=\"95.410156\" xlink:href=\"#DejaVuSans-48\"/>\n      </g>\n     </g>\n    </g>\n    <g id=\"ytick_8\">\n     <g id=\"line2d_15\">\n      <g>\n       <use style=\"stroke:#000000;stroke-width:0.8;\" x=\"37.096767\" xlink:href=\"#me413cb9211\" y=\"24.990401\"/>\n      </g>\n     </g>\n     <g id=\"text_16\">\n      <!-- 3.5 -->\n      <g transform=\"translate(14.193642 28.789619)scale(0.1 -0.1)\">\n       <use xlink:href=\"#DejaVuSans-51\"/>\n       <use x=\"63.623047\" xlink:href=\"#DejaVuSans-46\"/>\n       <use x=\"95.410156\" xlink:href=\"#DejaVuSans-53\"/>\n      </g>\n     </g>\n    </g>\n    <g id=\"text_17\">\n     <!-- 1e8 -->\n     <g transform=\"translate(37.096767 14.798437)scale(0.1 -0.1)\">\n      <defs>\n       <path d=\"M 31.78125 34.625 \nQ 24.75 34.625 20.71875 30.859375 \nQ 16.703125 27.09375 16.703125 20.515625 \nQ 16.703125 13.921875 20.71875 10.15625 \nQ 24.75 6.390625 31.78125 6.390625 \nQ 38.8125 6.390625 42.859375 10.171875 \nQ 46.921875 13.96875 46.921875 20.515625 \nQ 46.921875 27.09375 42.890625 30.859375 \nQ 38.875 34.625 31.78125 34.625 \nz\nM 21.921875 38.8125 \nQ 15.578125 40.375 12.03125 44.71875 \nQ 8.5 49.078125 8.5 55.328125 \nQ 8.5 64.0625 14.71875 69.140625 \nQ 20.953125 74.21875 31.78125 74.21875 \nQ 42.671875 74.21875 48.875 69.140625 \nQ 55.078125 64.0625 55.078125 55.328125 \nQ 55.078125 49.078125 51.53125 44.71875 \nQ 48 40.375 41.703125 38.8125 \nQ 48.828125 37.15625 52.796875 32.3125 \nQ 56.78125 27.484375 56.78125 20.515625 \nQ 56.78125 9.90625 50.3125 4.234375 \nQ 43.84375 -1.421875 31.78125 -1.421875 \nQ 19.734375 -1.421875 13.25 4.234375 \nQ 6.78125 9.90625 6.78125 20.515625 \nQ 6.78125 27.484375 10.78125 32.3125 \nQ 14.796875 37.15625 21.921875 38.8125 \nz\nM 18.3125 54.390625 \nQ 18.3125 48.734375 21.84375 45.5625 \nQ 25.390625 42.390625 31.78125 42.390625 \nQ 38.140625 42.390625 41.71875 45.5625 \nQ 45.3125 48.734375 45.3125 54.390625 \nQ 45.3125 60.0625 41.71875 63.234375 \nQ 38.140625 66.40625 31.78125 66.40625 \nQ 25.390625 66.40625 21.84375 63.234375 \nQ 18.3125 60.0625 18.3125 54.390625 \nz\n\" id=\"DejaVuSans-56\"/>\n      </defs>\n      <use xlink:href=\"#DejaVuSans-49\"/>\n      <use x=\"63.623047\" xlink:href=\"#DejaVuSans-101\"/>\n      <use x=\"125.146484\" xlink:href=\"#DejaVuSans-56\"/>\n     </g>\n    </g>\n   </g>\n   <g id=\"line2d_16\">\n    <path clip-path=\"url(#pd82c6321b5)\" d=\"M 52.314949 204.736567 \nL 356.678585 204.736539 \nL 356.678585 204.736539 \n\" style=\"fill:none;stroke:#1f77b4;stroke-linecap:square;stroke-width:1.5;\"/>\n   </g>\n   <g id=\"line2d_17\">\n    <path clip-path=\"url(#pd82c6321b5)\" d=\"M 52.314949 182.599491 \nL 53.13313 187.32189 \nL 53.951312 175.678523 \nL 54.769494 182.466128 \nL 55.587676 181.63212 \nL 58.042221 185.893391 \nL 58.860403 177.108577 \nL 59.678585 174.67037 \nL 60.496767 183.346549 \nL 61.314949 172.909847 \nL 64.587676 173.008099 \nL 65.405858 182.589578 \nL 66.22404 183.256916 \nL 67.042221 166.075194 \nL 69.496767 169.395835 \nL 70.314949 176.604931 \nL 71.13313 182.383327 \nL 72.769494 156.075372 \nL 75.22404 174.405739 \nL 76.042221 177.768193 \nL 76.860403 177.670706 \nL 77.678585 182.836083 \nL 78.496767 178.167277 \nL 80.951312 187.198248 \nL 81.769494 179.63023 \nL 82.587676 186.764966 \nL 83.405858 181.338722 \nL 84.22404 178.309587 \nL 87.496767 179.803431 \nL 88.314949 186.208579 \nL 89.13313 170.143753 \nL 89.951312 156.920289 \nL 92.405858 135.449753 \nL 93.22404 105.274756 \nL 94.042221 117.675333 \nL 95.678585 34.214859 \nL 98.13313 99.129684 \nL 98.951312 65.289567 \nL 99.769494 129.069461 \nL 100.587676 122.581749 \nL 101.405858 102.713981 \nL 103.826312 62.32591 \nL 104.644494 78.069943 \nL 105.462676 86.075712 \nL 106.280858 26.700256 \nL 107.09904 58.170454 \nL 109.553585 70.294442 \nL 110.371767 86.094868 \nL 111.189949 51.565753 \nL 112.00813 70.577257 \nL 112.826312 49.188895 \nL 115.280858 60.651708 \nL 116.09904 96.069676 \nL 116.917221 62.409136 \nL 117.735403 90.866389 \nL 118.553585 106.409279 \nL 121.00813 133.302469 \nL 121.826312 122.966004 \nL 122.644494 117.166387 \nL 123.462676 124.713655 \nL 124.280858 143.116675 \nL 126.735403 123.50162 \nL 127.553585 112.378562 \nL 128.371767 134.441061 \nL 129.189949 121.195738 \nL 132.462676 151.326799 \nL 133.280858 142.589006 \nL 134.09904 148.923021 \nL 134.917221 148.581634 \nL 135.735403 139.116478 \nL 138.189949 159.213515 \nL 139.00813 145.859112 \nL 139.826312 162.930742 \nL 140.644494 154.838297 \nL 141.462676 167.318682 \nL 143.917221 170.094908 \nL 144.735403 155.660136 \nL 145.553585 152.34641 \nL 146.371767 152.519114 \nL 147.189949 147.566596 \nL 149.644494 168.684929 \nL 150.462676 167.640861 \nL 151.280858 171.164239 \nL 152.09904 169.360838 \nL 152.917221 173.196683 \nL 155.371767 172.714921 \nL 156.189949 162.826951 \nL 157.00813 140.302233 \nL 157.826312 148.19058 \nL 158.644494 157.92357 \nL 161.09904 153.09481 \nL 161.917221 164.238249 \nL 162.735403 170.697702 \nL 163.553585 169.509338 \nL 164.371767 177.341435 \nL 167.644494 163.507454 \nL 168.462676 157.416985 \nL 169.280858 163.417308 \nL 170.09904 152.683816 \nL 172.553585 181.017031 \nL 173.371767 170.819886 \nL 174.189949 164.050477 \nL 175.00813 169.65806 \nL 175.826312 141.983843 \nL 178.280858 171.699576 \nL 179.09904 169.998331 \nL 179.917221 161.564273 \nL 180.735403 110.945642 \nL 181.553585 118.200372 \nL 184.00813 141.517933 \nL 184.826312 142.12962 \nL 185.644494 166.708836 \nL 186.462676 171.715371 \nL 187.280858 147.659406 \nL 189.735403 171.813244 \nL 190.553585 174.145942 \nL 191.371767 145.916704 \nL 192.189949 164.25293 \nL 193.00813 149.199351 \nL 195.462676 169.996024 \nL 196.280858 161.106028 \nL 197.09904 173.174222 \nL 197.917221 174.462421 \nL 201.189949 178.114527 \nL 202.00813 167.975697 \nL 202.826312 179.777246 \nL 203.644494 166.620409 \nL 204.462676 179.041741 \nL 206.917221 159.735284 \nL 207.735403 164.01544 \nL 208.553585 165.780649 \nL 209.371767 181.166361 \nL 210.189949 177.16728 \nL 212.644494 180.277688 \nL 213.462676 179.492363 \nL 214.280858 165.658769 \nL 215.09904 162.878609 \nL 215.917221 144.144329 \nL 218.371767 182.866127 \nL 219.189949 158.868883 \nL 220.00813 159.934944 \nL 220.826312 150.246363 \nL 221.644494 138.222093 \nL 224.09904 167.893293 \nL 224.917221 166.895289 \nL 225.735403 167.325637 \nL 226.553585 165.243563 \nL 227.371767 154.043011 \nL 229.826312 169.844225 \nL 230.644494 144.016195 \nL 231.462676 157.884513 \nL 232.280858 167.516265 \nL 233.09904 161.649958 \nL 235.553585 175.899341 \nL 236.371767 170.564452 \nL 237.189949 145.444471 \nL 238.00813 167.990376 \nL 238.826312 160.999719 \nL 241.280858 164.127861 \nL 242.09904 171.628025 \nL 242.917221 159.750711 \nL 243.735403 151.360158 \nL 244.553585 161.372063 \nL 247.00813 151.812716 \nL 247.826312 157.262715 \nL 248.644494 140.363036 \nL 249.462676 73.796357 \nL 250.280858 82.232308 \nL 253.553585 103.589143 \nL 254.371767 124.339766 \nL 256.00813 132.723391 \nL 258.462676 148.20195 \nL 259.280858 182.187111 \nL 260.09904 168.519543 \nL 260.917221 163.25197 \nL 261.735403 159.142632 \nL 264.189949 160.266608 \nL 265.00813 176.236548 \nL 265.826312 164.498053 \nL 267.462676 174.321089 \nL 269.917221 176.425807 \nL 270.735403 183.967082 \nL 271.553585 164.472746 \nL 272.371767 165.163235 \nL 273.189949 167.350817 \nL 275.644494 184.943583 \nL 276.462676 166.614142 \nL 277.280858 183.896847 \nL 278.09904 186.321092 \nL 278.917221 181.12856 \nL 281.371767 173.325628 \nL 282.189949 172.756003 \nL 283.00813 180.454814 \nL 283.826312 178.716923 \nL 284.644494 172.655678 \nL 287.917221 179.979576 \nL 289.553585 181.577922 \nL 290.371767 184.852609 \nL 292.826312 163.912829 \nL 293.644494 178.732655 \nL 294.462676 149.303185 \nL 295.280858 166.546939 \nL 296.09904 156.763415 \nL 298.587676 169.214935 \nL 299.405858 166.563428 \nL 300.22404 152.579293 \nL 301.042221 170.112374 \nL 301.860403 174.879628 \nL 304.314949 132.522953 \nL 305.13313 169.227394 \nL 305.951312 181.304092 \nL 306.769494 175.261636 \nL 307.587676 187.111443 \nL 310.042221 176.015058 \nL 310.860403 176.99325 \nL 311.678585 175.15283 \nL 312.496767 180.285739 \nL 313.314949 180.112927 \nL 315.769494 179.090357 \nL 316.587676 179.129471 \nL 317.405858 186.60333 \nL 319.042221 180.681442 \nL 321.496767 170.249023 \nL 322.314949 171.598016 \nL 323.13313 185.568891 \nL 323.951312 177.566491 \nL 324.769494 184.058424 \nL 327.22404 183.959832 \nL 328.042221 187.942152 \nL 328.860403 173.563453 \nL 329.678585 180.161993 \nL 330.496767 180.128381 \nL 332.951312 176.62827 \nL 334.587676 180.329953 \nL 335.405858 178.615357 \nL 336.22404 158.949621 \nL 338.678585 166.760657 \nL 339.496767 183.620934 \nL 340.314949 185.45878 \nL 341.13313 193.927335 \nL 344.405858 188.513603 \nL 345.22404 181.516445 \nL 346.042221 184.042419 \nL 346.860403 177.661332 \nL 350.13313 157.007361 \nL 350.951312 177.1745 \nL 351.769494 157.494708 \nL 352.587676 174.507506 \nL 353.405858 173.781608 \nL 355.860403 181.7216 \nL 356.678585 181.439094 \nL 356.678585 181.439094 \n\" style=\"fill:none;stroke:#ff7f0e;stroke-linecap:square;stroke-width:1.5;\"/>\n   </g>\n   <g id=\"patch_3\">\n    <path d=\"M 37.096767 213.638437 \nL 37.096767 17.798438 \n\" style=\"fill:none;stroke:#000000;stroke-linecap:square;stroke-linejoin:miter;stroke-width:0.8;\"/>\n   </g>\n   <g id=\"patch_4\">\n    <path d=\"M 371.896767 213.638437 \nL 371.896767 17.798438 \n\" style=\"fill:none;stroke:#000000;stroke-linecap:square;stroke-linejoin:miter;stroke-width:0.8;\"/>\n   </g>\n   <g id=\"patch_5\">\n    <path d=\"M 37.096767 213.638437 \nL 371.896767 213.638437 \n\" style=\"fill:none;stroke:#000000;stroke-linecap:square;stroke-linejoin:miter;stroke-width:0.8;\"/>\n   </g>\n   <g id=\"patch_6\">\n    <path d=\"M 37.096767 17.798437 \nL 371.896767 17.798437 \n\" style=\"fill:none;stroke:#000000;stroke-linecap:square;stroke-linejoin:miter;stroke-width:0.8;\"/>\n   </g>\n   <g id=\"legend_1\">\n    <g id=\"patch_7\">\n     <path d=\"M 273.373329 55.710937 \nL 364.896767 55.710937 \nQ 366.896767 55.710937 366.896767 53.710937 \nL 366.896767 24.798437 \nQ 366.896767 22.798437 364.896767 22.798437 \nL 273.373329 22.798437 \nQ 271.373329 22.798437 271.373329 24.798437 \nL 271.373329 53.710937 \nQ 271.373329 55.710937 273.373329 55.710937 \nz\n\" style=\"fill:#ffffff;opacity:0.8;stroke:#cccccc;stroke-linejoin:miter;\"/>\n    </g>\n    <g id=\"line2d_18\">\n     <path d=\"M 275.373329 30.896875 \nL 295.373329 30.896875 \n\" style=\"fill:none;stroke:#1f77b4;stroke-linecap:square;stroke-width:1.5;\"/>\n    </g>\n    <g id=\"line2d_19\"/>\n    <g id=\"text_18\">\n     <!-- spy_close -->\n     <g transform=\"translate(303.373329 34.396875)scale(0.1 -0.1)\">\n      <defs>\n       <path d=\"M 44.28125 53.078125 \nL 44.28125 44.578125 \nQ 40.484375 46.53125 36.375 47.5 \nQ 32.28125 48.484375 27.875 48.484375 \nQ 21.1875 48.484375 17.84375 46.4375 \nQ 14.5 44.390625 14.5 40.28125 \nQ 14.5 37.15625 16.890625 35.375 \nQ 19.28125 33.59375 26.515625 31.984375 \nL 29.59375 31.296875 \nQ 39.15625 29.25 43.1875 25.515625 \nQ 47.21875 21.78125 47.21875 15.09375 \nQ 47.21875 7.46875 41.1875 3.015625 \nQ 35.15625 -1.421875 24.609375 -1.421875 \nQ 20.21875 -1.421875 15.453125 -0.5625 \nQ 10.6875 0.296875 5.421875 2 \nL 5.421875 11.28125 \nQ 10.40625 8.6875 15.234375 7.390625 \nQ 20.0625 6.109375 24.8125 6.109375 \nQ 31.15625 6.109375 34.5625 8.28125 \nQ 37.984375 10.453125 37.984375 14.40625 \nQ 37.984375 18.0625 35.515625 20.015625 \nQ 33.0625 21.96875 24.703125 23.78125 \nL 21.578125 24.515625 \nQ 13.234375 26.265625 9.515625 29.90625 \nQ 5.8125 33.546875 5.8125 39.890625 \nQ 5.8125 47.609375 11.28125 51.796875 \nQ 16.75 56 26.8125 56 \nQ 31.78125 56 36.171875 55.265625 \nQ 40.578125 54.546875 44.28125 53.078125 \nz\n\" id=\"DejaVuSans-115\"/>\n       <path d=\"M 18.109375 8.203125 \nL 18.109375 -20.796875 \nL 9.078125 -20.796875 \nL 9.078125 54.6875 \nL 18.109375 54.6875 \nL 18.109375 46.390625 \nQ 20.953125 51.265625 25.265625 53.625 \nQ 29.59375 56 35.59375 56 \nQ 45.5625 56 51.78125 48.09375 \nQ 58.015625 40.1875 58.015625 27.296875 \nQ 58.015625 14.40625 51.78125 6.484375 \nQ 45.5625 -1.421875 35.59375 -1.421875 \nQ 29.59375 -1.421875 25.265625 0.953125 \nQ 20.953125 3.328125 18.109375 8.203125 \nz\nM 48.6875 27.296875 \nQ 48.6875 37.203125 44.609375 42.84375 \nQ 40.53125 48.484375 33.40625 48.484375 \nQ 26.265625 48.484375 22.1875 42.84375 \nQ 18.109375 37.203125 18.109375 27.296875 \nQ 18.109375 17.390625 22.1875 11.75 \nQ 26.265625 6.109375 33.40625 6.109375 \nQ 40.53125 6.109375 44.609375 11.75 \nQ 48.6875 17.390625 48.6875 27.296875 \nz\n\" id=\"DejaVuSans-112\"/>\n       <path d=\"M 32.171875 -5.078125 \nQ 28.375 -14.84375 24.75 -17.8125 \nQ 21.140625 -20.796875 15.09375 -20.796875 \nL 7.90625 -20.796875 \nL 7.90625 -13.28125 \nL 13.1875 -13.28125 \nQ 16.890625 -13.28125 18.9375 -11.515625 \nQ 21 -9.765625 23.484375 -3.21875 \nL 25.09375 0.875 \nL 2.984375 54.6875 \nL 12.5 54.6875 \nL 29.59375 11.921875 \nL 46.6875 54.6875 \nL 56.203125 54.6875 \nz\n\" id=\"DejaVuSans-121\"/>\n       <path d=\"M 50.984375 -16.609375 \nL 50.984375 -23.578125 \nL -0.984375 -23.578125 \nL -0.984375 -16.609375 \nz\n\" id=\"DejaVuSans-95\"/>\n       <path d=\"M 48.78125 52.59375 \nL 48.78125 44.1875 \nQ 44.96875 46.296875 41.140625 47.34375 \nQ 37.3125 48.390625 33.40625 48.390625 \nQ 24.65625 48.390625 19.8125 42.84375 \nQ 14.984375 37.3125 14.984375 27.296875 \nQ 14.984375 17.28125 19.8125 11.734375 \nQ 24.65625 6.203125 33.40625 6.203125 \nQ 37.3125 6.203125 41.140625 7.25 \nQ 44.96875 8.296875 48.78125 10.40625 \nL 48.78125 2.09375 \nQ 45.015625 0.34375 40.984375 -0.53125 \nQ 36.96875 -1.421875 32.421875 -1.421875 \nQ 20.0625 -1.421875 12.78125 6.34375 \nQ 5.515625 14.109375 5.515625 27.296875 \nQ 5.515625 40.671875 12.859375 48.328125 \nQ 20.21875 56 33.015625 56 \nQ 37.15625 56 41.109375 55.140625 \nQ 45.0625 54.296875 48.78125 52.59375 \nz\n\" id=\"DejaVuSans-99\"/>\n       <path d=\"M 9.421875 75.984375 \nL 18.40625 75.984375 \nL 18.40625 0 \nL 9.421875 0 \nz\n\" id=\"DejaVuSans-108\"/>\n       <path d=\"M 30.609375 48.390625 \nQ 23.390625 48.390625 19.1875 42.75 \nQ 14.984375 37.109375 14.984375 27.296875 \nQ 14.984375 17.484375 19.15625 11.84375 \nQ 23.34375 6.203125 30.609375 6.203125 \nQ 37.796875 6.203125 41.984375 11.859375 \nQ 46.1875 17.53125 46.1875 27.296875 \nQ 46.1875 37.015625 41.984375 42.703125 \nQ 37.796875 48.390625 30.609375 48.390625 \nz\nM 30.609375 56 \nQ 42.328125 56 49.015625 48.375 \nQ 55.71875 40.765625 55.71875 27.296875 \nQ 55.71875 13.875 49.015625 6.21875 \nQ 42.328125 -1.421875 30.609375 -1.421875 \nQ 18.84375 -1.421875 12.171875 6.21875 \nQ 5.515625 13.875 5.515625 27.296875 \nQ 5.515625 40.765625 12.171875 48.375 \nQ 18.84375 56 30.609375 56 \nz\n\" id=\"DejaVuSans-111\"/>\n      </defs>\n      <use xlink:href=\"#DejaVuSans-115\"/>\n      <use x=\"52.099609\" xlink:href=\"#DejaVuSans-112\"/>\n      <use x=\"115.576172\" xlink:href=\"#DejaVuSans-121\"/>\n      <use x=\"174.755859\" xlink:href=\"#DejaVuSans-95\"/>\n      <use x=\"224.755859\" xlink:href=\"#DejaVuSans-99\"/>\n      <use x=\"279.736328\" xlink:href=\"#DejaVuSans-108\"/>\n      <use x=\"307.519531\" xlink:href=\"#DejaVuSans-111\"/>\n      <use x=\"368.701172\" xlink:href=\"#DejaVuSans-115\"/>\n      <use x=\"420.800781\" xlink:href=\"#DejaVuSans-101\"/>\n     </g>\n    </g>\n    <g id=\"line2d_20\">\n     <path d=\"M 275.373329 45.853125 \nL 295.373329 45.853125 \n\" style=\"fill:none;stroke:#ff7f0e;stroke-linecap:square;stroke-width:1.5;\"/>\n    </g>\n    <g id=\"line2d_21\"/>\n    <g id=\"text_19\">\n     <!-- spy_volume -->\n     <g transform=\"translate(303.373329 49.353125)scale(0.1 -0.1)\">\n      <defs>\n       <path d=\"M 2.984375 54.6875 \nL 12.5 54.6875 \nL 29.59375 8.796875 \nL 46.6875 54.6875 \nL 56.203125 54.6875 \nL 35.6875 0 \nL 23.484375 0 \nz\n\" id=\"DejaVuSans-118\"/>\n       <path d=\"M 8.5 21.578125 \nL 8.5 54.6875 \nL 17.484375 54.6875 \nL 17.484375 21.921875 \nQ 17.484375 14.15625 20.5 10.265625 \nQ 23.53125 6.390625 29.59375 6.390625 \nQ 36.859375 6.390625 41.078125 11.03125 \nQ 45.3125 15.671875 45.3125 23.6875 \nL 45.3125 54.6875 \nL 54.296875 54.6875 \nL 54.296875 0 \nL 45.3125 0 \nL 45.3125 8.40625 \nQ 42.046875 3.421875 37.71875 1 \nQ 33.40625 -1.421875 27.6875 -1.421875 \nQ 18.265625 -1.421875 13.375 4.4375 \nQ 8.5 10.296875 8.5 21.578125 \nz\nM 31.109375 56 \nz\n\" id=\"DejaVuSans-117\"/>\n      </defs>\n      <use xlink:href=\"#DejaVuSans-115\"/>\n      <use x=\"52.099609\" xlink:href=\"#DejaVuSans-112\"/>\n      <use x=\"115.576172\" xlink:href=\"#DejaVuSans-121\"/>\n      <use x=\"174.755859\" xlink:href=\"#DejaVuSans-95\"/>\n      <use x=\"224.755859\" xlink:href=\"#DejaVuSans-118\"/>\n      <use x=\"283.935547\" xlink:href=\"#DejaVuSans-111\"/>\n      <use x=\"345.117188\" xlink:href=\"#DejaVuSans-108\"/>\n      <use x=\"372.900391\" xlink:href=\"#DejaVuSans-117\"/>\n      <use x=\"436.279297\" xlink:href=\"#DejaVuSans-109\"/>\n      <use x=\"533.691406\" xlink:href=\"#DejaVuSans-101\"/>\n     </g>\n    </g>\n   </g>\n  </g>\n </g>\n <defs>\n  <clipPath id=\"pd82c6321b5\">\n   <rect height=\"195.84\" width=\"334.8\" x=\"37.096767\" y=\"17.798437\"/>\n  </clipPath>\n </defs>\n</svg>\n",
      "image/png": "[encoded data removed]"
     },
     "metadata": {
      "needs_background": "light"
     }
    }
   ],
   "source": [
    "spy_df.plot()"
   ]
  },
  {
   "cell_type": "code",
   "execution_count": null,
   "metadata": {},
   "outputs": [],
   "source": []
  }
 ]
}