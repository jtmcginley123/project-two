{
 "metadata": {
  "language_info": {
   "codemirror_mode": {
    "name": "ipython",
    "version": 3
   },
   "file_extension": ".py",
   "mimetype": "text/x-python",
   "name": "python",
   "nbconvert_exporter": "python",
   "pygments_lexer": "ipython3",
   "version": "3.8.2-final"
  },
  "orig_nbformat": 2,
  "kernelspec": {
   "name": "python3",
   "display_name": "Python 3.8.2 64-bit ('base': conda)",
   "metadata": {
    "interpreter": {
     "hash": "dca0ade3e726a953b501b15e8e990130d2b7799f14cfd9f4271676035ebe5511"
    }
   }
  }
 },
 "nbformat": 4,
 "nbformat_minor": 2,
 "cells": [
  {
   "cell_type": "code",
   "execution_count": 1,
   "metadata": {},
   "outputs": [
    {
     "output_type": "execute_result",
     "data": {
      "text/plain": [
       "True"
      ]
     },
     "metadata": {},
     "execution_count": 1
    }
   ],
   "source": [
    "import requests\n",
    "from dotenv import load_dotenv\n",
    "import os \n",
    "import pandas as pd\n",
    "import numpy as np\n",
    "import alpaca_trade_api as tradeapi\n",
    "# from MCForecastTools import MCSimulation\n",
    "import json\n",
    "import matplotlib.pyplot as plt\n",
    "\n",
    "load_dotenv()"
   ]
  },
  {
   "cell_type": "code",
   "execution_count": 2,
   "metadata": {},
   "outputs": [],
   "source": [
    "# Set Alpaca API key and secret\n",
    "alpaca_api_key = os.getenv(\"ALPACA_API_KEY\")\n",
    "alpaca_secret_key = os.getenv(\"ALPACA_SECRET_KEY\")\n",
    "\n",
    "# Create the Alpaca API object\n",
    "alpaca = tradeapi.REST(\n",
    "    alpaca_api_key,\n",
    "    alpaca_secret_key,\n",
    "    api_version= \"v2\")\n"
   ]
  },
  {
   "cell_type": "code",
   "execution_count": 3,
   "metadata": {},
   "outputs": [],
   "source": [
    "current_date = pd.Timestamp(\"2020-01-05\", tz=\"America/New_York\").isoformat()\n",
    "\n",
    "tickers = [\"SPY\", \"AAPL\", \"TSLA\", \"GE\", \"F\", \"MSFT\",\"NIO\", \"PFE\", \"AMZN\",\"AAL\",\"DIS\",\"PLUG\"]\n",
    "\n",
    "\n",
    "timeframe = \"1D\""
   ]
  },
  {
   "cell_type": "code",
   "execution_count": 4,
   "metadata": {},
   "outputs": [],
   "source": [
    "def get_data(ticker):\n",
    "    df = alpaca.get_barset(\n",
    "        ticker,\n",
    "        timeframe,\n",
    "        start = current_date\n",
    "    ).df\n",
    "\n",
    "    return df\n"
   ]
  },
  {
   "cell_type": "code",
   "execution_count": 5,
   "metadata": {},
   "outputs": [],
   "source": [
    "def get_columns(dataframe):\n",
    "    dataframe = dataframe.T.reset_index(drop = True).T\n",
    "    dataframe = dataframe.rename(columns={3:\"close\"})\n",
    "    dataframe = dataframe.loc[:,[\"close\"]]\n",
    "\n",
    "    return dataframe"
   ]
  },
  {
   "cell_type": "code",
   "execution_count": 6,
   "metadata": {},
   "outputs": [],
   "source": [
    "def calc_data(dataframe):\n",
    "    dataframe[\"pct_change\"] = dataframe[\"close\"].pct_change()\n",
    "    dataframe[\"volatility\"] = np.std(dataframe[\"pct_change\"])\n",
    "\n",
    "    return dataframe\n"
   ]
  },
  {
   "cell_type": "code",
   "execution_count": 7,
   "metadata": {},
   "outputs": [
    {
     "output_type": "execute_result",
     "data": {
      "text/plain": [
       "                            close  pct_change  volatility\n",
       "time                                                     \n",
       "2020-01-06 00:00:00-05:00  323.67         NaN    0.021387\n",
       "2020-01-07 00:00:00-05:00  322.76   -0.002812    0.021387\n",
       "2020-01-08 00:00:00-05:00  324.42    0.005143    0.021387\n",
       "2020-01-09 00:00:00-05:00  326.62    0.006781    0.021387\n",
       "2020-01-10 00:00:00-05:00  325.70   -0.002817    0.021387"
      ],
      "text/html": "<div>\n<style scoped>\n    .dataframe tbody tr th:only-of-type {\n        vertical-align: middle;\n    }\n\n    .dataframe tbody tr th {\n        vertical-align: top;\n    }\n\n    .dataframe thead th {\n        text-align: right;\n    }\n</style>\n<table border=\"1\" class=\"dataframe\">\n  <thead>\n    <tr style=\"text-align: right;\">\n      <th></th>\n      <th>close</th>\n      <th>pct_change</th>\n      <th>volatility</th>\n    </tr>\n    <tr>\n      <th>time</th>\n      <th></th>\n      <th></th>\n      <th></th>\n    </tr>\n  </thead>\n  <tbody>\n    <tr>\n      <th>2020-01-06 00:00:00-05:00</th>\n      <td>323.67</td>\n      <td>NaN</td>\n      <td>0.021387</td>\n    </tr>\n    <tr>\n      <th>2020-01-07 00:00:00-05:00</th>\n      <td>322.76</td>\n      <td>-0.002812</td>\n      <td>0.021387</td>\n    </tr>\n    <tr>\n      <th>2020-01-08 00:00:00-05:00</th>\n      <td>324.42</td>\n      <td>0.005143</td>\n      <td>0.021387</td>\n    </tr>\n    <tr>\n      <th>2020-01-09 00:00:00-05:00</th>\n      <td>326.62</td>\n      <td>0.006781</td>\n      <td>0.021387</td>\n    </tr>\n    <tr>\n      <th>2020-01-10 00:00:00-05:00</th>\n      <td>325.70</td>\n      <td>-0.002817</td>\n      <td>0.021387</td>\n    </tr>\n  </tbody>\n</table>\n</div>"
     },
     "metadata": {},
     "execution_count": 7
    }
   ],
   "source": [
    "df_spy = get_data(\"SPY\")\n",
    "df_spy = get_columns(df_spy)\n",
    "df_spy = calc_data(df_spy)\n",
    "df_spy.head()"
   ]
  },
  {
   "cell_type": "code",
   "execution_count": 8,
   "metadata": {},
   "outputs": [
    {
     "output_type": "execute_result",
     "data": {
      "text/plain": [
       "<AxesSubplot:xlabel='time'>"
      ]
     },
     "metadata": {},
     "execution_count": 8
    },
    {
     "output_type": "display_data",
     "data": {
      "text/plain": "<Figure size 432x288 with 1 Axes>",
      "image/svg+xml": "<?xml version=\"1.0\" encoding=\"utf-8\" standalone=\"no\"?>\n<!DOCTYPE svg PUBLIC \"-//W3C//DTD SVG 1.1//EN\"\n  \"http://www.w3.org/Graphics/SVG/1.1/DTD/svg11.dtd\">\n<!-- Created with matplotlib (https://matplotlib.org/) -->\n<svg height=\"260.191033pt\" version=\"1.1\" viewBox=\"0 0 379.096767 260.191033\" width=\"379.096767pt\" xmlns=\"http://www.w3.org/2000/svg\" xmlns:xlink=\"http://www.w3.org/1999/xlink\">\n <metadata>\n  <rdf:RDF xmlns:cc=\"http://creativecommons.org/ns#\" xmlns:dc=\"http://purl.org/dc/elements/1.1/\" xmlns:rdf=\"http://www.w3.org/1999/02/22-rdf-syntax-ns#\">\n   <cc:Work>\n    <dc:type rdf:resource=\"http://purl.org/dc/dcmitype/StillImage\"/>\n    <dc:date>2021-01-12T19:59:06.533949</dc:date>\n    <dc:format>image/svg+xml</dc:format>\n    <dc:creator>\n     <cc:Agent>\n      <dc:title>Matplotlib v3.3.2, https://matplotlib.org/</dc:title>\n     </cc:Agent>\n    </dc:creator>\n   </cc:Work>\n  </rdf:RDF>\n </metadata>\n <defs>\n  <style type=\"text/css\">*{stroke-linecap:butt;stroke-linejoin:round;}</style>\n </defs>\n <g id=\"figure_1\">\n  <g id=\"patch_1\">\n   <path d=\"M 0 260.191033 \nL 379.096767 260.191033 \nL 379.096767 0 \nL 0 0 \nz\n\" style=\"fill:none;\"/>\n  </g>\n  <g id=\"axes_1\">\n   <g id=\"patch_2\">\n    <path d=\"M 37.096767 203.04 \nL 371.896767 203.04 \nL 371.896767 7.2 \nL 37.096767 7.2 \nz\n\" style=\"fill:#ffffff;\"/>\n   </g>\n   <g id=\"matplotlib.axis_1\">\n    <g id=\"xtick_1\">\n     <g id=\"line2d_1\">\n      <defs>\n       <path d=\"M 0 0 \nL 0 3.5 \n\" id=\"m58f860ee53\" style=\"stroke:#000000;stroke-width:0.8;\"/>\n      </defs>\n      <g>\n       <use style=\"stroke:#000000;stroke-width:0.8;\" x=\"48.22404\" xlink:href=\"#m58f860ee53\" y=\"203.04\"/>\n      </g>\n     </g>\n     <g id=\"text_1\">\n      <!-- 2020-01 -->\n      <g transform=\"translate(10.999219 237.511846)rotate(-30)scale(0.1 -0.1)\">\n       <defs>\n        <path d=\"M 19.1875 8.296875 \nL 53.609375 8.296875 \nL 53.609375 0 \nL 7.328125 0 \nL 7.328125 8.296875 \nQ 12.9375 14.109375 22.625 23.890625 \nQ 32.328125 33.6875 34.8125 36.53125 \nQ 39.546875 41.84375 41.421875 45.53125 \nQ 43.3125 49.21875 43.3125 52.78125 \nQ 43.3125 58.59375 39.234375 62.25 \nQ 35.15625 65.921875 28.609375 65.921875 \nQ 23.96875 65.921875 18.8125 64.3125 \nQ 13.671875 62.703125 7.8125 59.421875 \nL 7.8125 69.390625 \nQ 13.765625 71.78125 18.9375 73 \nQ 24.125 74.21875 28.421875 74.21875 \nQ 39.75 74.21875 46.484375 68.546875 \nQ 53.21875 62.890625 53.21875 53.421875 \nQ 53.21875 48.921875 51.53125 44.890625 \nQ 49.859375 40.875 45.40625 35.40625 \nQ 44.1875 33.984375 37.640625 27.21875 \nQ 31.109375 20.453125 19.1875 8.296875 \nz\n\" id=\"DejaVuSans-50\"/>\n        <path d=\"M 31.78125 66.40625 \nQ 24.171875 66.40625 20.328125 58.90625 \nQ 16.5 51.421875 16.5 36.375 \nQ 16.5 21.390625 20.328125 13.890625 \nQ 24.171875 6.390625 31.78125 6.390625 \nQ 39.453125 6.390625 43.28125 13.890625 \nQ 47.125 21.390625 47.125 36.375 \nQ 47.125 51.421875 43.28125 58.90625 \nQ 39.453125 66.40625 31.78125 66.40625 \nz\nM 31.78125 74.21875 \nQ 44.046875 74.21875 50.515625 64.515625 \nQ 56.984375 54.828125 56.984375 36.375 \nQ 56.984375 17.96875 50.515625 8.265625 \nQ 44.046875 -1.421875 31.78125 -1.421875 \nQ 19.53125 -1.421875 13.0625 8.265625 \nQ 6.59375 17.96875 6.59375 36.375 \nQ 6.59375 54.828125 13.0625 64.515625 \nQ 19.53125 74.21875 31.78125 74.21875 \nz\n\" id=\"DejaVuSans-48\"/>\n        <path d=\"M 4.890625 31.390625 \nL 31.203125 31.390625 \nL 31.203125 23.390625 \nL 4.890625 23.390625 \nz\n\" id=\"DejaVuSans-45\"/>\n        <path d=\"M 12.40625 8.296875 \nL 28.515625 8.296875 \nL 28.515625 63.921875 \nL 10.984375 60.40625 \nL 10.984375 69.390625 \nL 28.421875 72.90625 \nL 38.28125 72.90625 \nL 38.28125 8.296875 \nL 54.390625 8.296875 \nL 54.390625 0 \nL 12.40625 0 \nz\n\" id=\"DejaVuSans-49\"/>\n       </defs>\n       <use xlink:href=\"#DejaVuSans-50\"/>\n       <use x=\"63.623047\" xlink:href=\"#DejaVuSans-48\"/>\n       <use x=\"127.246094\" xlink:href=\"#DejaVuSans-50\"/>\n       <use x=\"190.869141\" xlink:href=\"#DejaVuSans-48\"/>\n       <use x=\"254.492188\" xlink:href=\"#DejaVuSans-45\"/>\n       <use x=\"290.576172\" xlink:href=\"#DejaVuSans-48\"/>\n       <use x=\"354.199219\" xlink:href=\"#DejaVuSans-49\"/>\n      </g>\n     </g>\n    </g>\n    <g id=\"xtick_2\">\n     <g id=\"line2d_2\">\n      <g>\n       <use style=\"stroke:#000000;stroke-width:0.8;\" x=\"97.314949\" xlink:href=\"#m58f860ee53\" y=\"203.04\"/>\n      </g>\n     </g>\n     <g id=\"text_2\">\n      <!-- 2020-03 -->\n      <g transform=\"translate(60.090128 237.511846)rotate(-30)scale(0.1 -0.1)\">\n       <defs>\n        <path d=\"M 40.578125 39.3125 \nQ 47.65625 37.796875 51.625 33 \nQ 55.609375 28.21875 55.609375 21.1875 \nQ 55.609375 10.40625 48.1875 4.484375 \nQ 40.765625 -1.421875 27.09375 -1.421875 \nQ 22.515625 -1.421875 17.65625 -0.515625 \nQ 12.796875 0.390625 7.625 2.203125 \nL 7.625 11.71875 \nQ 11.71875 9.328125 16.59375 8.109375 \nQ 21.484375 6.890625 26.8125 6.890625 \nQ 36.078125 6.890625 40.9375 10.546875 \nQ 45.796875 14.203125 45.796875 21.1875 \nQ 45.796875 27.640625 41.28125 31.265625 \nQ 36.765625 34.90625 28.71875 34.90625 \nL 20.21875 34.90625 \nL 20.21875 43.015625 \nL 29.109375 43.015625 \nQ 36.375 43.015625 40.234375 45.921875 \nQ 44.09375 48.828125 44.09375 54.296875 \nQ 44.09375 59.90625 40.109375 62.90625 \nQ 36.140625 65.921875 28.71875 65.921875 \nQ 24.65625 65.921875 20.015625 65.03125 \nQ 15.375 64.15625 9.8125 62.3125 \nL 9.8125 71.09375 \nQ 15.4375 72.65625 20.34375 73.4375 \nQ 25.25 74.21875 29.59375 74.21875 \nQ 40.828125 74.21875 47.359375 69.109375 \nQ 53.90625 64.015625 53.90625 55.328125 \nQ 53.90625 49.265625 50.4375 45.09375 \nQ 46.96875 40.921875 40.578125 39.3125 \nz\n\" id=\"DejaVuSans-51\"/>\n       </defs>\n       <use xlink:href=\"#DejaVuSans-50\"/>\n       <use x=\"63.623047\" xlink:href=\"#DejaVuSans-48\"/>\n       <use x=\"127.246094\" xlink:href=\"#DejaVuSans-50\"/>\n       <use x=\"190.869141\" xlink:href=\"#DejaVuSans-48\"/>\n       <use x=\"254.492188\" xlink:href=\"#DejaVuSans-45\"/>\n       <use x=\"290.576172\" xlink:href=\"#DejaVuSans-48\"/>\n       <use x=\"354.199219\" xlink:href=\"#DejaVuSans-51\"/>\n      </g>\n     </g>\n    </g>\n    <g id=\"xtick_3\">\n     <g id=\"line2d_3\">\n      <g>\n       <use style=\"stroke:#000000;stroke-width:0.8;\" x=\"147.189949\" xlink:href=\"#m58f860ee53\" y=\"203.04\"/>\n      </g>\n     </g>\n     <g id=\"text_3\">\n      <!-- 2020-05 -->\n      <g transform=\"translate(109.965128 237.511846)rotate(-30)scale(0.1 -0.1)\">\n       <defs>\n        <path d=\"M 10.796875 72.90625 \nL 49.515625 72.90625 \nL 49.515625 64.59375 \nL 19.828125 64.59375 \nL 19.828125 46.734375 \nQ 21.96875 47.46875 24.109375 47.828125 \nQ 26.265625 48.1875 28.421875 48.1875 \nQ 40.625 48.1875 47.75 41.5 \nQ 54.890625 34.8125 54.890625 23.390625 \nQ 54.890625 11.625 47.5625 5.09375 \nQ 40.234375 -1.421875 26.90625 -1.421875 \nQ 22.3125 -1.421875 17.546875 -0.640625 \nQ 12.796875 0.140625 7.71875 1.703125 \nL 7.71875 11.625 \nQ 12.109375 9.234375 16.796875 8.0625 \nQ 21.484375 6.890625 26.703125 6.890625 \nQ 35.15625 6.890625 40.078125 11.328125 \nQ 45.015625 15.765625 45.015625 23.390625 \nQ 45.015625 31 40.078125 35.4375 \nQ 35.15625 39.890625 26.703125 39.890625 \nQ 22.75 39.890625 18.8125 39.015625 \nQ 14.890625 38.140625 10.796875 36.28125 \nz\n\" id=\"DejaVuSans-53\"/>\n       </defs>\n       <use xlink:href=\"#DejaVuSans-50\"/>\n       <use x=\"63.623047\" xlink:href=\"#DejaVuSans-48\"/>\n       <use x=\"127.246094\" xlink:href=\"#DejaVuSans-50\"/>\n       <use x=\"190.869141\" xlink:href=\"#DejaVuSans-48\"/>\n       <use x=\"254.492188\" xlink:href=\"#DejaVuSans-45\"/>\n       <use x=\"290.576172\" xlink:href=\"#DejaVuSans-48\"/>\n       <use x=\"354.199219\" xlink:href=\"#DejaVuSans-53\"/>\n      </g>\n     </g>\n    </g>\n    <g id=\"xtick_4\">\n     <g id=\"line2d_4\">\n      <g>\n       <use style=\"stroke:#000000;stroke-width:0.8;\" x=\"197.09904\" xlink:href=\"#m58f860ee53\" y=\"203.04\"/>\n      </g>\n     </g>\n     <g id=\"text_4\">\n      <!-- 2020-07 -->\n      <g transform=\"translate(159.874219 237.511846)rotate(-30)scale(0.1 -0.1)\">\n       <defs>\n        <path d=\"M 8.203125 72.90625 \nL 55.078125 72.90625 \nL 55.078125 68.703125 \nL 28.609375 0 \nL 18.3125 0 \nL 43.21875 64.59375 \nL 8.203125 64.59375 \nz\n\" id=\"DejaVuSans-55\"/>\n       </defs>\n       <use xlink:href=\"#DejaVuSans-50\"/>\n       <use x=\"63.623047\" xlink:href=\"#DejaVuSans-48\"/>\n       <use x=\"127.246094\" xlink:href=\"#DejaVuSans-50\"/>\n       <use x=\"190.869141\" xlink:href=\"#DejaVuSans-48\"/>\n       <use x=\"254.492188\" xlink:href=\"#DejaVuSans-45\"/>\n       <use x=\"290.576172\" xlink:href=\"#DejaVuSans-48\"/>\n       <use x=\"354.199219\" xlink:href=\"#DejaVuSans-55\"/>\n      </g>\n     </g>\n    </g>\n    <g id=\"xtick_5\">\n     <g id=\"line2d_5\">\n      <g>\n       <use style=\"stroke:#000000;stroke-width:0.8;\" x=\"247.826312\" xlink:href=\"#m58f860ee53\" y=\"203.04\"/>\n      </g>\n     </g>\n     <g id=\"text_5\">\n      <!-- 2020-09 -->\n      <g transform=\"translate(210.601491 237.511846)rotate(-30)scale(0.1 -0.1)\">\n       <defs>\n        <path d=\"M 10.984375 1.515625 \nL 10.984375 10.5 \nQ 14.703125 8.734375 18.5 7.8125 \nQ 22.3125 6.890625 25.984375 6.890625 \nQ 35.75 6.890625 40.890625 13.453125 \nQ 46.046875 20.015625 46.78125 33.40625 \nQ 43.953125 29.203125 39.59375 26.953125 \nQ 35.25 24.703125 29.984375 24.703125 \nQ 19.046875 24.703125 12.671875 31.3125 \nQ 6.296875 37.9375 6.296875 49.421875 \nQ 6.296875 60.640625 12.9375 67.421875 \nQ 19.578125 74.21875 30.609375 74.21875 \nQ 43.265625 74.21875 49.921875 64.515625 \nQ 56.59375 54.828125 56.59375 36.375 \nQ 56.59375 19.140625 48.40625 8.859375 \nQ 40.234375 -1.421875 26.421875 -1.421875 \nQ 22.703125 -1.421875 18.890625 -0.6875 \nQ 15.09375 0.046875 10.984375 1.515625 \nz\nM 30.609375 32.421875 \nQ 37.25 32.421875 41.125 36.953125 \nQ 45.015625 41.5 45.015625 49.421875 \nQ 45.015625 57.28125 41.125 61.84375 \nQ 37.25 66.40625 30.609375 66.40625 \nQ 23.96875 66.40625 20.09375 61.84375 \nQ 16.21875 57.28125 16.21875 49.421875 \nQ 16.21875 41.5 20.09375 36.953125 \nQ 23.96875 32.421875 30.609375 32.421875 \nz\n\" id=\"DejaVuSans-57\"/>\n       </defs>\n       <use xlink:href=\"#DejaVuSans-50\"/>\n       <use x=\"63.623047\" xlink:href=\"#DejaVuSans-48\"/>\n       <use x=\"127.246094\" xlink:href=\"#DejaVuSans-50\"/>\n       <use x=\"190.869141\" xlink:href=\"#DejaVuSans-48\"/>\n       <use x=\"254.492188\" xlink:href=\"#DejaVuSans-45\"/>\n       <use x=\"290.576172\" xlink:href=\"#DejaVuSans-48\"/>\n       <use x=\"354.199219\" xlink:href=\"#DejaVuSans-57\"/>\n      </g>\n     </g>\n    </g>\n    <g id=\"xtick_6\">\n     <g id=\"line2d_6\">\n      <g>\n       <use style=\"stroke:#000000;stroke-width:0.8;\" x=\"297.735403\" xlink:href=\"#m58f860ee53\" y=\"203.04\"/>\n      </g>\n     </g>\n     <g id=\"text_6\">\n      <!-- 2020-11 -->\n      <g transform=\"translate(260.510582 237.511846)rotate(-30)scale(0.1 -0.1)\">\n       <use xlink:href=\"#DejaVuSans-50\"/>\n       <use x=\"63.623047\" xlink:href=\"#DejaVuSans-48\"/>\n       <use x=\"127.246094\" xlink:href=\"#DejaVuSans-50\"/>\n       <use x=\"190.869141\" xlink:href=\"#DejaVuSans-48\"/>\n       <use x=\"254.492188\" xlink:href=\"#DejaVuSans-45\"/>\n       <use x=\"290.576172\" xlink:href=\"#DejaVuSans-49\"/>\n       <use x=\"354.199219\" xlink:href=\"#DejaVuSans-49\"/>\n      </g>\n     </g>\n    </g>\n    <g id=\"xtick_7\">\n     <g id=\"line2d_7\">\n      <g>\n       <use style=\"stroke:#000000;stroke-width:0.8;\" x=\"347.678585\" xlink:href=\"#m58f860ee53\" y=\"203.04\"/>\n      </g>\n     </g>\n     <g id=\"text_7\">\n      <!-- 2021-01 -->\n      <g transform=\"translate(310.453764 237.511846)rotate(-30)scale(0.1 -0.1)\">\n       <use xlink:href=\"#DejaVuSans-50\"/>\n       <use x=\"63.623047\" xlink:href=\"#DejaVuSans-48\"/>\n       <use x=\"127.246094\" xlink:href=\"#DejaVuSans-50\"/>\n       <use x=\"190.869141\" xlink:href=\"#DejaVuSans-49\"/>\n       <use x=\"254.492188\" xlink:href=\"#DejaVuSans-45\"/>\n       <use x=\"290.576172\" xlink:href=\"#DejaVuSans-48\"/>\n       <use x=\"354.199219\" xlink:href=\"#DejaVuSans-49\"/>\n      </g>\n     </g>\n    </g>\n    <g id=\"text_8\">\n     <!-- time -->\n     <g transform=\"translate(193.200673 250.911346)scale(0.1 -0.1)\">\n      <defs>\n       <path d=\"M 18.3125 70.21875 \nL 18.3125 54.6875 \nL 36.8125 54.6875 \nL 36.8125 47.703125 \nL 18.3125 47.703125 \nL 18.3125 18.015625 \nQ 18.3125 11.328125 20.140625 9.421875 \nQ 21.96875 7.515625 27.59375 7.515625 \nL 36.8125 7.515625 \nL 36.8125 0 \nL 27.59375 0 \nQ 17.1875 0 13.234375 3.875 \nQ 9.28125 7.765625 9.28125 18.015625 \nL 9.28125 47.703125 \nL 2.6875 47.703125 \nL 2.6875 54.6875 \nL 9.28125 54.6875 \nL 9.28125 70.21875 \nz\n\" id=\"DejaVuSans-116\"/>\n       <path d=\"M 9.421875 54.6875 \nL 18.40625 54.6875 \nL 18.40625 0 \nL 9.421875 0 \nz\nM 9.421875 75.984375 \nL 18.40625 75.984375 \nL 18.40625 64.59375 \nL 9.421875 64.59375 \nz\n\" id=\"DejaVuSans-105\"/>\n       <path d=\"M 52 44.1875 \nQ 55.375 50.25 60.0625 53.125 \nQ 64.75 56 71.09375 56 \nQ 79.640625 56 84.28125 50.015625 \nQ 88.921875 44.046875 88.921875 33.015625 \nL 88.921875 0 \nL 79.890625 0 \nL 79.890625 32.71875 \nQ 79.890625 40.578125 77.09375 44.375 \nQ 74.3125 48.1875 68.609375 48.1875 \nQ 61.625 48.1875 57.5625 43.546875 \nQ 53.515625 38.921875 53.515625 30.90625 \nL 53.515625 0 \nL 44.484375 0 \nL 44.484375 32.71875 \nQ 44.484375 40.625 41.703125 44.40625 \nQ 38.921875 48.1875 33.109375 48.1875 \nQ 26.21875 48.1875 22.15625 43.53125 \nQ 18.109375 38.875 18.109375 30.90625 \nL 18.109375 0 \nL 9.078125 0 \nL 9.078125 54.6875 \nL 18.109375 54.6875 \nL 18.109375 46.1875 \nQ 21.1875 51.21875 25.484375 53.609375 \nQ 29.78125 56 35.6875 56 \nQ 41.65625 56 45.828125 52.96875 \nQ 50 49.953125 52 44.1875 \nz\n\" id=\"DejaVuSans-109\"/>\n       <path d=\"M 56.203125 29.59375 \nL 56.203125 25.203125 \nL 14.890625 25.203125 \nQ 15.484375 15.921875 20.484375 11.0625 \nQ 25.484375 6.203125 34.421875 6.203125 \nQ 39.59375 6.203125 44.453125 7.46875 \nQ 49.3125 8.734375 54.109375 11.28125 \nL 54.109375 2.78125 \nQ 49.265625 0.734375 44.1875 -0.34375 \nQ 39.109375 -1.421875 33.890625 -1.421875 \nQ 20.796875 -1.421875 13.15625 6.1875 \nQ 5.515625 13.8125 5.515625 26.8125 \nQ 5.515625 40.234375 12.765625 48.109375 \nQ 20.015625 56 32.328125 56 \nQ 43.359375 56 49.78125 48.890625 \nQ 56.203125 41.796875 56.203125 29.59375 \nz\nM 47.21875 32.234375 \nQ 47.125 39.59375 43.09375 43.984375 \nQ 39.0625 48.390625 32.421875 48.390625 \nQ 24.90625 48.390625 20.390625 44.140625 \nQ 15.875 39.890625 15.1875 32.171875 \nz\n\" id=\"DejaVuSans-101\"/>\n      </defs>\n      <use xlink:href=\"#DejaVuSans-116\"/>\n      <use x=\"39.208984\" xlink:href=\"#DejaVuSans-105\"/>\n      <use x=\"66.992188\" xlink:href=\"#DejaVuSans-109\"/>\n      <use x=\"164.404297\" xlink:href=\"#DejaVuSans-101\"/>\n     </g>\n    </g>\n   </g>\n   <g id=\"matplotlib.axis_2\">\n    <g id=\"ytick_1\">\n     <g id=\"line2d_8\">\n      <defs>\n       <path d=\"M 0 0 \nL -3.5 0 \n\" id=\"m649837503c\" style=\"stroke:#000000;stroke-width:0.8;\"/>\n      </defs>\n      <g>\n       <use style=\"stroke:#000000;stroke-width:0.8;\" x=\"37.096767\" xlink:href=\"#m649837503c\" y=\"196.953474\"/>\n      </g>\n     </g>\n     <g id=\"text_9\">\n      <!-- 220 -->\n      <g transform=\"translate(11.009267 200.752692)scale(0.1 -0.1)\">\n       <use xlink:href=\"#DejaVuSans-50\"/>\n       <use x=\"63.623047\" xlink:href=\"#DejaVuSans-50\"/>\n       <use x=\"127.246094\" xlink:href=\"#DejaVuSans-48\"/>\n      </g>\n     </g>\n    </g>\n    <g id=\"ytick_2\">\n     <g id=\"line2d_9\">\n      <g>\n       <use style=\"stroke:#000000;stroke-width:0.8;\" x=\"37.096767\" xlink:href=\"#m649837503c\" y=\"174.520869\"/>\n      </g>\n     </g>\n     <g id=\"text_10\">\n      <!-- 240 -->\n      <g transform=\"translate(11.009267 178.320088)scale(0.1 -0.1)\">\n       <defs>\n        <path d=\"M 37.796875 64.3125 \nL 12.890625 25.390625 \nL 37.796875 25.390625 \nz\nM 35.203125 72.90625 \nL 47.609375 72.90625 \nL 47.609375 25.390625 \nL 58.015625 25.390625 \nL 58.015625 17.1875 \nL 47.609375 17.1875 \nL 47.609375 0 \nL 37.796875 0 \nL 37.796875 17.1875 \nL 4.890625 17.1875 \nL 4.890625 26.703125 \nz\n\" id=\"DejaVuSans-52\"/>\n       </defs>\n       <use xlink:href=\"#DejaVuSans-50\"/>\n       <use x=\"63.623047\" xlink:href=\"#DejaVuSans-52\"/>\n       <use x=\"127.246094\" xlink:href=\"#DejaVuSans-48\"/>\n      </g>\n     </g>\n    </g>\n    <g id=\"ytick_3\">\n     <g id=\"line2d_10\">\n      <g>\n       <use style=\"stroke:#000000;stroke-width:0.8;\" x=\"37.096767\" xlink:href=\"#m649837503c\" y=\"152.088265\"/>\n      </g>\n     </g>\n     <g id=\"text_11\">\n      <!-- 260 -->\n      <g transform=\"translate(11.009267 155.887484)scale(0.1 -0.1)\">\n       <defs>\n        <path d=\"M 33.015625 40.375 \nQ 26.375 40.375 22.484375 35.828125 \nQ 18.609375 31.296875 18.609375 23.390625 \nQ 18.609375 15.53125 22.484375 10.953125 \nQ 26.375 6.390625 33.015625 6.390625 \nQ 39.65625 6.390625 43.53125 10.953125 \nQ 47.40625 15.53125 47.40625 23.390625 \nQ 47.40625 31.296875 43.53125 35.828125 \nQ 39.65625 40.375 33.015625 40.375 \nz\nM 52.59375 71.296875 \nL 52.59375 62.3125 \nQ 48.875 64.0625 45.09375 64.984375 \nQ 41.3125 65.921875 37.59375 65.921875 \nQ 27.828125 65.921875 22.671875 59.328125 \nQ 17.53125 52.734375 16.796875 39.40625 \nQ 19.671875 43.65625 24.015625 45.921875 \nQ 28.375 48.1875 33.59375 48.1875 \nQ 44.578125 48.1875 50.953125 41.515625 \nQ 57.328125 34.859375 57.328125 23.390625 \nQ 57.328125 12.15625 50.6875 5.359375 \nQ 44.046875 -1.421875 33.015625 -1.421875 \nQ 20.359375 -1.421875 13.671875 8.265625 \nQ 6.984375 17.96875 6.984375 36.375 \nQ 6.984375 53.65625 15.1875 63.9375 \nQ 23.390625 74.21875 37.203125 74.21875 \nQ 40.921875 74.21875 44.703125 73.484375 \nQ 48.484375 72.75 52.59375 71.296875 \nz\n\" id=\"DejaVuSans-54\"/>\n       </defs>\n       <use xlink:href=\"#DejaVuSans-50\"/>\n       <use x=\"63.623047\" xlink:href=\"#DejaVuSans-54\"/>\n       <use x=\"127.246094\" xlink:href=\"#DejaVuSans-48\"/>\n      </g>\n     </g>\n    </g>\n    <g id=\"ytick_4\">\n     <g id=\"line2d_11\">\n      <g>\n       <use style=\"stroke:#000000;stroke-width:0.8;\" x=\"37.096767\" xlink:href=\"#m649837503c\" y=\"129.655661\"/>\n      </g>\n     </g>\n     <g id=\"text_12\">\n      <!-- 280 -->\n      <g transform=\"translate(11.009267 133.45488)scale(0.1 -0.1)\">\n       <defs>\n        <path d=\"M 31.78125 34.625 \nQ 24.75 34.625 20.71875 30.859375 \nQ 16.703125 27.09375 16.703125 20.515625 \nQ 16.703125 13.921875 20.71875 10.15625 \nQ 24.75 6.390625 31.78125 6.390625 \nQ 38.8125 6.390625 42.859375 10.171875 \nQ 46.921875 13.96875 46.921875 20.515625 \nQ 46.921875 27.09375 42.890625 30.859375 \nQ 38.875 34.625 31.78125 34.625 \nz\nM 21.921875 38.8125 \nQ 15.578125 40.375 12.03125 44.71875 \nQ 8.5 49.078125 8.5 55.328125 \nQ 8.5 64.0625 14.71875 69.140625 \nQ 20.953125 74.21875 31.78125 74.21875 \nQ 42.671875 74.21875 48.875 69.140625 \nQ 55.078125 64.0625 55.078125 55.328125 \nQ 55.078125 49.078125 51.53125 44.71875 \nQ 48 40.375 41.703125 38.8125 \nQ 48.828125 37.15625 52.796875 32.3125 \nQ 56.78125 27.484375 56.78125 20.515625 \nQ 56.78125 9.90625 50.3125 4.234375 \nQ 43.84375 -1.421875 31.78125 -1.421875 \nQ 19.734375 -1.421875 13.25 4.234375 \nQ 6.78125 9.90625 6.78125 20.515625 \nQ 6.78125 27.484375 10.78125 32.3125 \nQ 14.796875 37.15625 21.921875 38.8125 \nz\nM 18.3125 54.390625 \nQ 18.3125 48.734375 21.84375 45.5625 \nQ 25.390625 42.390625 31.78125 42.390625 \nQ 38.140625 42.390625 41.71875 45.5625 \nQ 45.3125 48.734375 45.3125 54.390625 \nQ 45.3125 60.0625 41.71875 63.234375 \nQ 38.140625 66.40625 31.78125 66.40625 \nQ 25.390625 66.40625 21.84375 63.234375 \nQ 18.3125 60.0625 18.3125 54.390625 \nz\n\" id=\"DejaVuSans-56\"/>\n       </defs>\n       <use xlink:href=\"#DejaVuSans-50\"/>\n       <use x=\"63.623047\" xlink:href=\"#DejaVuSans-56\"/>\n       <use x=\"127.246094\" xlink:href=\"#DejaVuSans-48\"/>\n      </g>\n     </g>\n    </g>\n    <g id=\"ytick_5\">\n     <g id=\"line2d_12\">\n      <g>\n       <use style=\"stroke:#000000;stroke-width:0.8;\" x=\"37.096767\" xlink:href=\"#m649837503c\" y=\"107.223057\"/>\n      </g>\n     </g>\n     <g id=\"text_13\">\n      <!-- 300 -->\n      <g transform=\"translate(11.009267 111.022275)scale(0.1 -0.1)\">\n       <use xlink:href=\"#DejaVuSans-51\"/>\n       <use x=\"63.623047\" xlink:href=\"#DejaVuSans-48\"/>\n       <use x=\"127.246094\" xlink:href=\"#DejaVuSans-48\"/>\n      </g>\n     </g>\n    </g>\n    <g id=\"ytick_6\">\n     <g id=\"line2d_13\">\n      <g>\n       <use style=\"stroke:#000000;stroke-width:0.8;\" x=\"37.096767\" xlink:href=\"#m649837503c\" y=\"84.790452\"/>\n      </g>\n     </g>\n     <g id=\"text_14\">\n      <!-- 320 -->\n      <g transform=\"translate(11.009267 88.589671)scale(0.1 -0.1)\">\n       <use xlink:href=\"#DejaVuSans-51\"/>\n       <use x=\"63.623047\" xlink:href=\"#DejaVuSans-50\"/>\n       <use x=\"127.246094\" xlink:href=\"#DejaVuSans-48\"/>\n      </g>\n     </g>\n    </g>\n    <g id=\"ytick_7\">\n     <g id=\"line2d_14\">\n      <g>\n       <use style=\"stroke:#000000;stroke-width:0.8;\" x=\"37.096767\" xlink:href=\"#m649837503c\" y=\"62.357848\"/>\n      </g>\n     </g>\n     <g id=\"text_15\">\n      <!-- 340 -->\n      <g transform=\"translate(11.009267 66.157067)scale(0.1 -0.1)\">\n       <use xlink:href=\"#DejaVuSans-51\"/>\n       <use x=\"63.623047\" xlink:href=\"#DejaVuSans-52\"/>\n       <use x=\"127.246094\" xlink:href=\"#DejaVuSans-48\"/>\n      </g>\n     </g>\n    </g>\n    <g id=\"ytick_8\">\n     <g id=\"line2d_15\">\n      <g>\n       <use style=\"stroke:#000000;stroke-width:0.8;\" x=\"37.096767\" xlink:href=\"#m649837503c\" y=\"39.925244\"/>\n      </g>\n     </g>\n     <g id=\"text_16\">\n      <!-- 360 -->\n      <g transform=\"translate(11.009267 43.724463)scale(0.1 -0.1)\">\n       <use xlink:href=\"#DejaVuSans-51\"/>\n       <use x=\"63.623047\" xlink:href=\"#DejaVuSans-54\"/>\n       <use x=\"127.246094\" xlink:href=\"#DejaVuSans-48\"/>\n      </g>\n     </g>\n    </g>\n    <g id=\"ytick_9\">\n     <g id=\"line2d_16\">\n      <g>\n       <use style=\"stroke:#000000;stroke-width:0.8;\" x=\"37.096767\" xlink:href=\"#m649837503c\" y=\"17.49264\"/>\n      </g>\n     </g>\n     <g id=\"text_17\">\n      <!-- 380 -->\n      <g transform=\"translate(11.009267 21.291858)scale(0.1 -0.1)\">\n       <use xlink:href=\"#DejaVuSans-51\"/>\n       <use x=\"63.623047\" xlink:href=\"#DejaVuSans-56\"/>\n       <use x=\"127.246094\" xlink:href=\"#DejaVuSans-48\"/>\n      </g>\n     </g>\n    </g>\n   </g>\n   <g id=\"line2d_17\">\n    <path clip-path=\"url(#pa4014413fa)\" d=\"M 52.314949 80.67407 \nL 53.13313 81.694753 \nL 53.951312 79.832847 \nL 54.769494 77.36526 \nL 55.587676 78.39716 \nL 58.042221 75.884709 \nL 58.860403 76.45674 \nL 59.678585 75.626734 \nL 60.496767 72.564683 \nL 61.314949 71.319674 \nL 64.587676 72.104815 \nL 65.405858 72.015084 \nL 66.22404 71.622514 \nL 67.042221 74.976188 \nL 69.496767 80.842314 \nL 70.314949 77.06242 \nL 71.13313 77.36526 \nL 71.951312 76.198765 \nL 72.769494 82.838816 \nL 75.22404 80.146903 \nL 76.042221 74.60605 \nL 76.860403 70.411153 \nL 77.678585 69.132495 \nL 78.496767 71.106564 \nL 80.951312 68.313705 \nL 81.769494 67.640726 \nL 82.587676 65.26287 \nL 83.405858 65.633008 \nL 84.22404 65.049761 \nL 87.496767 66.059228 \nL 88.314949 64.253403 \nL 89.13313 65.745171 \nL 89.951312 69.659661 \nL 92.405858 82.087324 \nL 93.22404 92.978353 \nL 94.042221 94.268228 \nL 94.860403 109.971051 \nL 95.678585 111.530117 \nL 98.13313 97.038654 \nL 98.951312 106.841702 \nL 99.769494 92.742811 \nL 100.587676 104.475063 \nL 101.405858 110.116863 \nL 103.826312 135.93679 \nL 104.644494 120.189102 \nL 105.462676 135.981655 \nL 106.280858 165.435665 \nL 107.09904 139.828847 \nL 109.553585 175.182631 \nL 110.371767 158.604937 \nL 111.189949 173.388023 \nL 112.00813 173.219778 \nL 112.826312 186.9261 \nL 115.280858 194.138182 \nL 116.09904 170.494217 \nL 116.917221 166.927433 \nL 117.735403 150.529199 \nL 118.553585 159.502241 \nL 121.00813 150.203926 \nL 121.826312 154.668015 \nL 122.644494 167.656493 \nL 123.462676 161.207119 \nL 124.280858 165.312285 \nL 126.735403 146.524979 \nL 127.553585 146.367951 \nL 128.371767 136.306928 \nL 129.189949 131.62973 \nL 132.462676 134.624483 \nL 133.280858 125.314952 \nL 134.09904 132.179329 \nL 134.917221 130.541749 \nL 135.735403 122.10709 \nL 138.189949 127.849836 \nL 139.00813 137.48464 \nL 139.826312 130.586614 \nL 140.644494 130.709993 \nL 141.462676 126.245905 \nL 143.917221 121.68087 \nL 144.735403 123.183855 \nL 145.553585 114.861358 \nL 146.371767 118.001923 \nL 147.189949 126.59361 \nL 149.644494 125.550494 \nL 150.462676 122.679121 \nL 151.280858 124.843867 \nL 152.09904 121.019108 \nL 152.917221 115.668932 \nL 155.371767 115.567985 \nL 156.189949 122.230469 \nL 157.00813 127.782538 \nL 157.826312 123.991428 \nL 158.644494 122.634256 \nL 161.09904 112.836816 \nL 161.917221 116.173666 \nL 162.735403 110.632812 \nL 163.553585 113.06675 \nL 164.371767 112.360123 \nL 167.644494 108.176442 \nL 168.462676 103.319784 \nL 169.280858 103.903031 \nL 170.09904 102.557075 \nL 172.553585 100.96436 \nL 173.371767 98.104203 \nL 174.189949 93.526045 \nL 175.00813 94.537419 \nL 175.826312 85.609242 \nL 178.280858 81.145154 \nL 179.09904 83.881932 \nL 179.917221 85.900866 \nL 180.735403 106.527646 \nL 181.553585 102.422479 \nL 184.00813 99.337996 \nL 184.826312 92.720378 \nL 185.644494 94.257011 \nL 186.462676 94.055118 \nL 187.280858 97.621902 \nL 189.735403 95.244046 \nL 190.553585 93.729845 \nL 191.371767 102.60194 \nL 192.189949 99.02394 \nL 193.00813 107.21184 \nL 195.462676 102.254235 \nL 196.280858 97.610686 \nL 197.09904 95.367425 \nL 197.917221 93.561601 \nL 201.189949 88.166559 \nL 202.00813 91.83429 \nL 202.826312 89.142378 \nL 203.644494 91.049149 \nL 204.462676 87.471149 \nL 206.917221 90.611713 \nL 207.735403 86.035462 \nL 208.553585 82.698612 \nL 209.371767 83.938013 \nL 212.644494 79.900145 \nL 213.462676 79.227167 \nL 214.280858 77.140934 \nL 215.09904 81.498468 \nL 215.917221 83.82585 \nL 218.371767 81.223668 \nL 219.189949 83.444496 \nL 220.00813 79.081355 \nL 220.826312 80.326364 \nL 221.644494 77.443775 \nL 224.09904 74.964972 \nL 224.917221 73.540501 \nL 226.553585 68.739924 \nL 227.371767 68.470733 \nL 229.826312 67.349103 \nL 230.644494 70.411153 \nL 231.462676 65.251654 \nL 232.280858 65.879767 \nL 233.09904 65.879767 \nL 235.553585 64.735704 \nL 236.371767 63.905698 \nL 237.189949 65.47598 \nL 238.826312 62.985961 \nL 242.09904 57.759276 \nL 242.917221 53.878324 \nL 243.735403 53.059534 \nL 244.553585 50.535866 \nL 247.00813 51.881822 \nL 247.826312 48.270173 \nL 248.644494 42.527426 \nL 249.462676 56.289829 \nL 250.280858 59.44161 \nL 253.553585 69.917636 \nL 254.371767 62.627039 \nL 255.189949 69.17736 \nL 256.00813 68.997899 \nL 258.462676 64.130024 \nL 259.280858 62.189604 \nL 260.09904 63.692588 \nL 260.917221 67.001397 \nL 261.735403 72.800225 \nL 264.189949 76.939041 \nL 265.00813 73.204012 \nL 265.826312 81.806916 \nL 266.644494 80.842314 \nL 267.462676 75.043486 \nL 269.917221 68.863303 \nL 270.735403 70.893454 \nL 271.553585 68.089379 \nL 272.371767 65.68909 \nL 273.189949 69.233441 \nL 275.644494 62.660688 \nL 276.462676 68.033297 \nL 277.280858 61.539058 \nL 278.917221 54.685897 \nL 281.371767 48.415985 \nL 283.00813 53.418455 \nL 283.826312 53.934405 \nL 284.644494 54.226029 \nL 287.09904 60.092155 \nL 287.917221 58.611603 \nL 288.735403 59.340663 \nL 289.553585 57.1647 \nL 290.371767 55.897258 \nL 292.826312 63.014002 \nL 293.644494 64.320701 \nL 294.462676 77.309179 \nL 295.280858 73.585367 \nL 296.09904 77.466207 \nL 298.587676 73.338608 \nL 299.405858 66.878018 \nL 301.042221 50.906004 \nL 301.860403 50.928436 \nL 304.314949 46.049345 \nL 305.13313 46.576511 \nL 305.951312 43.716354 \nL 306.769494 47.462599 \nL 307.587676 42.919997 \nL 310.042221 37.199682 \nL 310.860403 39.207401 \nL 311.678585 44.086492 \nL 312.496767 42.437696 \nL 313.314949 45.152041 \nL 315.769494 42.762968 \nL 316.587676 36.347244 \nL 317.405858 36.952924 \nL 319.042221 35.831294 \nL 321.496767 37.681983 \nL 322.314949 33.229112 \nL 323.13313 32.343136 \nL 323.951312 32.444195 \nL 324.769494 28.899619 \nL 327.22404 29.695976 \nL 328.042221 28.529593 \nL 328.860403 32.197212 \nL 329.678585 32.387889 \nL 330.496767 32.881406 \nL 332.951312 34.754529 \nL 333.769494 29.191243 \nL 334.587676 28.551914 \nL 335.405858 26.230139 \nL 336.22404 29.68476 \nL 338.678585 31.030716 \nL 339.496767 31.827074 \nL 340.314949 31.479368 \nL 341.13313 29.8419 \nL 344.405858 26.308653 \nL 345.22404 27.048929 \nL 346.042221 26.544195 \nL 346.860403 24.390665 \nL 350.13313 29.998817 \nL 351.769494 24.749587 \nL 352.587676 18.546972 \nL 353.405858 16.101818 \nL 355.860403 18.905894 \nL 356.678585 18.82738 \nL 356.678585 18.82738 \n\" style=\"fill:none;stroke:#1f77b4;stroke-linecap:square;stroke-width:1.5;\"/>\n   </g>\n   <g id=\"patch_3\">\n    <path d=\"M 37.096767 203.04 \nL 37.096767 7.2 \n\" style=\"fill:none;stroke:#000000;stroke-linecap:square;stroke-linejoin:miter;stroke-width:0.8;\"/>\n   </g>\n   <g id=\"patch_4\">\n    <path d=\"M 371.896767 203.04 \nL 371.896767 7.2 \n\" style=\"fill:none;stroke:#000000;stroke-linecap:square;stroke-linejoin:miter;stroke-width:0.8;\"/>\n   </g>\n   <g id=\"patch_5\">\n    <path d=\"M 37.096767 203.04 \nL 371.896767 203.04 \n\" style=\"fill:none;stroke:#000000;stroke-linecap:square;stroke-linejoin:miter;stroke-width:0.8;\"/>\n   </g>\n   <g id=\"patch_6\">\n    <path d=\"M 37.096767 7.2 \nL 371.896767 7.2 \n\" style=\"fill:none;stroke:#000000;stroke-linecap:square;stroke-linejoin:miter;stroke-width:0.8;\"/>\n   </g>\n  </g>\n </g>\n <defs>\n  <clipPath id=\"pa4014413fa\">\n   <rect height=\"195.84\" width=\"334.8\" x=\"37.096767\" y=\"7.2\"/>\n  </clipPath>\n </defs>\n</svg>\n",
      "image/png": "[encoded data removed]"
     },
     "metadata": {
      "needs_background": "light"
     }
    }
   ],
   "source": [
    "df_spy.close.plot()"
   ]
  },
  {
   "cell_type": "code",
   "execution_count": 9,
   "metadata": {},
   "outputs": [
    {
     "output_type": "execute_result",
     "data": {
      "text/plain": [
       "                            close  pct_change  volatility\n",
       "time                                                     \n",
       "2020-01-06 00:00:00-05:00  299.78         NaN     0.05484\n",
       "2020-01-07 00:00:00-05:00  298.27   -0.005037     0.05484\n",
       "2020-01-08 00:00:00-05:00  303.15    0.016361     0.05484\n",
       "2020-01-09 00:00:00-05:00  309.71    0.021639     0.05484\n",
       "2020-01-10 00:00:00-05:00  310.37    0.002131     0.05484"
      ],
      "text/html": "<div>\n<style scoped>\n    .dataframe tbody tr th:only-of-type {\n        vertical-align: middle;\n    }\n\n    .dataframe tbody tr th {\n        vertical-align: top;\n    }\n\n    .dataframe thead th {\n        text-align: right;\n    }\n</style>\n<table border=\"1\" class=\"dataframe\">\n  <thead>\n    <tr style=\"text-align: right;\">\n      <th></th>\n      <th>close</th>\n      <th>pct_change</th>\n      <th>volatility</th>\n    </tr>\n    <tr>\n      <th>time</th>\n      <th></th>\n      <th></th>\n      <th></th>\n    </tr>\n  </thead>\n  <tbody>\n    <tr>\n      <th>2020-01-06 00:00:00-05:00</th>\n      <td>299.78</td>\n      <td>NaN</td>\n      <td>0.05484</td>\n    </tr>\n    <tr>\n      <th>2020-01-07 00:00:00-05:00</th>\n      <td>298.27</td>\n      <td>-0.005037</td>\n      <td>0.05484</td>\n    </tr>\n    <tr>\n      <th>2020-01-08 00:00:00-05:00</th>\n      <td>303.15</td>\n      <td>0.016361</td>\n      <td>0.05484</td>\n    </tr>\n    <tr>\n      <th>2020-01-09 00:00:00-05:00</th>\n      <td>309.71</td>\n      <td>0.021639</td>\n      <td>0.05484</td>\n    </tr>\n    <tr>\n      <th>2020-01-10 00:00:00-05:00</th>\n      <td>310.37</td>\n      <td>0.002131</td>\n      <td>0.05484</td>\n    </tr>\n  </tbody>\n</table>\n</div>"
     },
     "metadata": {},
     "execution_count": 9
    }
   ],
   "source": [
    "df_aapl = get_data(\"AAPL\")\n",
    "df_aapl = get_columns(df_aapl)\n",
    "df_aapl = calc_data(df_aapl)\n",
    "df_aapl.head()"
   ]
  },
  {
   "cell_type": "code",
   "execution_count": 10,
   "metadata": {},
   "outputs": [
    {
     "output_type": "execute_result",
     "data": {
      "text/plain": [
       "                             close  pct_change  volatility\n",
       "time                                                      \n",
       "2020-01-06 00:00:00-05:00  149.890         NaN     0.05484\n",
       "2020-01-07 00:00:00-05:00  149.135   -0.005037     0.05484\n",
       "2020-01-08 00:00:00-05:00  151.575    0.016361     0.05484\n",
       "2020-01-09 00:00:00-05:00  154.855    0.021639     0.05484\n",
       "2020-01-10 00:00:00-05:00  155.185    0.002131     0.05484"
      ],
      "text/html": "<div>\n<style scoped>\n    .dataframe tbody tr th:only-of-type {\n        vertical-align: middle;\n    }\n\n    .dataframe tbody tr th {\n        vertical-align: top;\n    }\n\n    .dataframe thead th {\n        text-align: right;\n    }\n</style>\n<table border=\"1\" class=\"dataframe\">\n  <thead>\n    <tr style=\"text-align: right;\">\n      <th></th>\n      <th>close</th>\n      <th>pct_change</th>\n      <th>volatility</th>\n    </tr>\n    <tr>\n      <th>time</th>\n      <th></th>\n      <th></th>\n      <th></th>\n    </tr>\n  </thead>\n  <tbody>\n    <tr>\n      <th>2020-01-06 00:00:00-05:00</th>\n      <td>149.890</td>\n      <td>NaN</td>\n      <td>0.05484</td>\n    </tr>\n    <tr>\n      <th>2020-01-07 00:00:00-05:00</th>\n      <td>149.135</td>\n      <td>-0.005037</td>\n      <td>0.05484</td>\n    </tr>\n    <tr>\n      <th>2020-01-08 00:00:00-05:00</th>\n      <td>151.575</td>\n      <td>0.016361</td>\n      <td>0.05484</td>\n    </tr>\n    <tr>\n      <th>2020-01-09 00:00:00-05:00</th>\n      <td>154.855</td>\n      <td>0.021639</td>\n      <td>0.05484</td>\n    </tr>\n    <tr>\n      <th>2020-01-10 00:00:00-05:00</th>\n      <td>155.185</td>\n      <td>0.002131</td>\n      <td>0.05484</td>\n    </tr>\n  </tbody>\n</table>\n</div>"
     },
     "metadata": {},
     "execution_count": 10
    }
   ],
   "source": [
    "df_aapl_1 = df_aapl.loc[:\"20200828\"]\n",
    "df_aapl_1[\"close\"] = (df_aapl_1[\"close\"]/2)\n",
    "df_aapl_1.head()"
   ]
  },
  {
   "cell_type": "code",
   "execution_count": 11,
   "metadata": {},
   "outputs": [
    {
     "output_type": "execute_result",
     "data": {
      "text/plain": [
       "                            close  pct_change  volatility\n",
       "time                                                     \n",
       "2020-08-31 00:00:00-04:00  128.85   -0.741696     0.05484\n",
       "2020-09-01 00:00:00-04:00  134.20    0.041521     0.05484\n",
       "2020-09-02 00:00:00-04:00  131.22   -0.022206     0.05484\n",
       "2020-09-03 00:00:00-04:00  120.92   -0.078494     0.05484\n",
       "2020-09-04 00:00:00-04:00  120.90   -0.000165     0.05484"
      ],
      "text/html": "<div>\n<style scoped>\n    .dataframe tbody tr th:only-of-type {\n        vertical-align: middle;\n    }\n\n    .dataframe tbody tr th {\n        vertical-align: top;\n    }\n\n    .dataframe thead th {\n        text-align: right;\n    }\n</style>\n<table border=\"1\" class=\"dataframe\">\n  <thead>\n    <tr style=\"text-align: right;\">\n      <th></th>\n      <th>close</th>\n      <th>pct_change</th>\n      <th>volatility</th>\n    </tr>\n    <tr>\n      <th>time</th>\n      <th></th>\n      <th></th>\n      <th></th>\n    </tr>\n  </thead>\n  <tbody>\n    <tr>\n      <th>2020-08-31 00:00:00-04:00</th>\n      <td>128.85</td>\n      <td>-0.741696</td>\n      <td>0.05484</td>\n    </tr>\n    <tr>\n      <th>2020-09-01 00:00:00-04:00</th>\n      <td>134.20</td>\n      <td>0.041521</td>\n      <td>0.05484</td>\n    </tr>\n    <tr>\n      <th>2020-09-02 00:00:00-04:00</th>\n      <td>131.22</td>\n      <td>-0.022206</td>\n      <td>0.05484</td>\n    </tr>\n    <tr>\n      <th>2020-09-03 00:00:00-04:00</th>\n      <td>120.92</td>\n      <td>-0.078494</td>\n      <td>0.05484</td>\n    </tr>\n    <tr>\n      <th>2020-09-04 00:00:00-04:00</th>\n      <td>120.90</td>\n      <td>-0.000165</td>\n      <td>0.05484</td>\n    </tr>\n  </tbody>\n</table>\n</div>"
     },
     "metadata": {},
     "execution_count": 11
    }
   ],
   "source": [
    "df_apple_2 = df_aapl.loc[\"20200829\":]\n",
    "df_apple_2.head()"
   ]
  },
  {
   "cell_type": "code",
   "execution_count": 12,
   "metadata": {},
   "outputs": [
    {
     "output_type": "execute_result",
     "data": {
      "text/plain": [
       "                              close  pct_change  volatility\n",
       "time                                                       \n",
       "2020-01-06 00:00:00-05:00  149.8900         NaN     0.05484\n",
       "2020-01-07 00:00:00-05:00  149.1350   -0.005037     0.05484\n",
       "2020-01-08 00:00:00-05:00  151.5750    0.016361     0.05484\n",
       "2020-01-09 00:00:00-05:00  154.8550    0.021639     0.05484\n",
       "2020-01-10 00:00:00-05:00  155.1850    0.002131     0.05484\n",
       "...                             ...         ...         ...\n",
       "2021-01-06 00:00:00-05:00  126.5800   -0.033372     0.05484\n",
       "2021-01-07 00:00:00-05:00  130.8500    0.033734     0.05484\n",
       "2021-01-08 00:00:00-05:00  131.9900    0.008712     0.05484\n",
       "2021-01-11 00:00:00-05:00  128.9800   -0.022805     0.05484\n",
       "2021-01-12 00:00:00-05:00  128.8199   -0.001241     0.05484\n",
       "\n",
       "[258 rows x 3 columns]"
      ],
      "text/html": "<div>\n<style scoped>\n    .dataframe tbody tr th:only-of-type {\n        vertical-align: middle;\n    }\n\n    .dataframe tbody tr th {\n        vertical-align: top;\n    }\n\n    .dataframe thead th {\n        text-align: right;\n    }\n</style>\n<table border=\"1\" class=\"dataframe\">\n  <thead>\n    <tr style=\"text-align: right;\">\n      <th></th>\n      <th>close</th>\n      <th>pct_change</th>\n      <th>volatility</th>\n    </tr>\n    <tr>\n      <th>time</th>\n      <th></th>\n      <th></th>\n      <th></th>\n    </tr>\n  </thead>\n  <tbody>\n    <tr>\n      <th>2020-01-06 00:00:00-05:00</th>\n      <td>149.8900</td>\n      <td>NaN</td>\n      <td>0.05484</td>\n    </tr>\n    <tr>\n      <th>2020-01-07 00:00:00-05:00</th>\n      <td>149.1350</td>\n      <td>-0.005037</td>\n      <td>0.05484</td>\n    </tr>\n    <tr>\n      <th>2020-01-08 00:00:00-05:00</th>\n      <td>151.5750</td>\n      <td>0.016361</td>\n      <td>0.05484</td>\n    </tr>\n    <tr>\n      <th>2020-01-09 00:00:00-05:00</th>\n      <td>154.8550</td>\n      <td>0.021639</td>\n      <td>0.05484</td>\n    </tr>\n    <tr>\n      <th>2020-01-10 00:00:00-05:00</th>\n      <td>155.1850</td>\n      <td>0.002131</td>\n      <td>0.05484</td>\n    </tr>\n    <tr>\n      <th>...</th>\n      <td>...</td>\n      <td>...</td>\n      <td>...</td>\n    </tr>\n    <tr>\n      <th>2021-01-06 00:00:00-05:00</th>\n      <td>126.5800</td>\n      <td>-0.033372</td>\n      <td>0.05484</td>\n    </tr>\n    <tr>\n      <th>2021-01-07 00:00:00-05:00</th>\n      <td>130.8500</td>\n      <td>0.033734</td>\n      <td>0.05484</td>\n    </tr>\n    <tr>\n      <th>2021-01-08 00:00:00-05:00</th>\n      <td>131.9900</td>\n      <td>0.008712</td>\n      <td>0.05484</td>\n    </tr>\n    <tr>\n      <th>2021-01-11 00:00:00-05:00</th>\n      <td>128.9800</td>\n      <td>-0.022805</td>\n      <td>0.05484</td>\n    </tr>\n    <tr>\n      <th>2021-01-12 00:00:00-05:00</th>\n      <td>128.8199</td>\n      <td>-0.001241</td>\n      <td>0.05484</td>\n    </tr>\n  </tbody>\n</table>\n<p>258 rows × 3 columns</p>\n</div>"
     },
     "metadata": {},
     "execution_count": 12
    }
   ],
   "source": [
    "df_aapl = pd.concat([df_aapl_1, df_apple_2])\n",
    "df_aapl"
   ]
  },
  {
   "cell_type": "code",
   "execution_count": 13,
   "metadata": {},
   "outputs": [
    {
     "output_type": "execute_result",
     "data": {
      "text/plain": [
       "                              close  pct_change  volatility\n",
       "time                                                       \n",
       "2020-01-06 00:00:00-05:00  451.4001         NaN    0.074088\n",
       "2020-01-07 00:00:00-05:00  469.1700    0.039366    0.074088\n",
       "2020-01-08 00:00:00-05:00  492.0900    0.048852    0.074088\n",
       "2020-01-09 00:00:00-05:00  481.4900   -0.021541    0.074088\n",
       "2020-01-10 00:00:00-05:00  477.9600   -0.007331    0.074088"
      ],
      "text/html": "<div>\n<style scoped>\n    .dataframe tbody tr th:only-of-type {\n        vertical-align: middle;\n    }\n\n    .dataframe tbody tr th {\n        vertical-align: top;\n    }\n\n    .dataframe thead th {\n        text-align: right;\n    }\n</style>\n<table border=\"1\" class=\"dataframe\">\n  <thead>\n    <tr style=\"text-align: right;\">\n      <th></th>\n      <th>close</th>\n      <th>pct_change</th>\n      <th>volatility</th>\n    </tr>\n    <tr>\n      <th>time</th>\n      <th></th>\n      <th></th>\n      <th></th>\n    </tr>\n  </thead>\n  <tbody>\n    <tr>\n      <th>2020-01-06 00:00:00-05:00</th>\n      <td>451.4001</td>\n      <td>NaN</td>\n      <td>0.074088</td>\n    </tr>\n    <tr>\n      <th>2020-01-07 00:00:00-05:00</th>\n      <td>469.1700</td>\n      <td>0.039366</td>\n      <td>0.074088</td>\n    </tr>\n    <tr>\n      <th>2020-01-08 00:00:00-05:00</th>\n      <td>492.0900</td>\n      <td>0.048852</td>\n      <td>0.074088</td>\n    </tr>\n    <tr>\n      <th>2020-01-09 00:00:00-05:00</th>\n      <td>481.4900</td>\n      <td>-0.021541</td>\n      <td>0.074088</td>\n    </tr>\n    <tr>\n      <th>2020-01-10 00:00:00-05:00</th>\n      <td>477.9600</td>\n      <td>-0.007331</td>\n      <td>0.074088</td>\n    </tr>\n  </tbody>\n</table>\n</div>"
     },
     "metadata": {},
     "execution_count": 13
    }
   ],
   "source": [
    "df_tsla = get_data(\"TSLA\")\n",
    "df_tsla = get_columns(df_tsla)\n",
    "df_tsla = calc_data(df_tsla)\n",
    "df_tsla.head()"
   ]
  },
  {
   "cell_type": "code",
   "execution_count": 14,
   "metadata": {},
   "outputs": [
    {
     "output_type": "execute_result",
     "data": {
      "text/plain": [
       "                              close  pct_change  volatility\n",
       "time                                                       \n",
       "2020-01-06 00:00:00-05:00  90.28002         NaN    0.074088\n",
       "2020-01-07 00:00:00-05:00  93.83400    0.039366    0.074088\n",
       "2020-01-08 00:00:00-05:00  98.41800    0.048852    0.074088\n",
       "2020-01-09 00:00:00-05:00  96.29800   -0.021541    0.074088\n",
       "2020-01-10 00:00:00-05:00  95.59200   -0.007331    0.074088"
      ],
      "text/html": "<div>\n<style scoped>\n    .dataframe tbody tr th:only-of-type {\n        vertical-align: middle;\n    }\n\n    .dataframe tbody tr th {\n        vertical-align: top;\n    }\n\n    .dataframe thead th {\n        text-align: right;\n    }\n</style>\n<table border=\"1\" class=\"dataframe\">\n  <thead>\n    <tr style=\"text-align: right;\">\n      <th></th>\n      <th>close</th>\n      <th>pct_change</th>\n      <th>volatility</th>\n    </tr>\n    <tr>\n      <th>time</th>\n      <th></th>\n      <th></th>\n      <th></th>\n    </tr>\n  </thead>\n  <tbody>\n    <tr>\n      <th>2020-01-06 00:00:00-05:00</th>\n      <td>90.28002</td>\n      <td>NaN</td>\n      <td>0.074088</td>\n    </tr>\n    <tr>\n      <th>2020-01-07 00:00:00-05:00</th>\n      <td>93.83400</td>\n      <td>0.039366</td>\n      <td>0.074088</td>\n    </tr>\n    <tr>\n      <th>2020-01-08 00:00:00-05:00</th>\n      <td>98.41800</td>\n      <td>0.048852</td>\n      <td>0.074088</td>\n    </tr>\n    <tr>\n      <th>2020-01-09 00:00:00-05:00</th>\n      <td>96.29800</td>\n      <td>-0.021541</td>\n      <td>0.074088</td>\n    </tr>\n    <tr>\n      <th>2020-01-10 00:00:00-05:00</th>\n      <td>95.59200</td>\n      <td>-0.007331</td>\n      <td>0.074088</td>\n    </tr>\n  </tbody>\n</table>\n</div>"
     },
     "metadata": {},
     "execution_count": 14
    }
   ],
   "source": [
    "df_tsla_1 = df_tsla.loc[:\"20200828\"]\n",
    "df_tsla_1[\"close\"] = (df_tsla_1[\"close\"]/5)\n",
    "df_tsla_1.head()"
   ]
  },
  {
   "cell_type": "code",
   "execution_count": 15,
   "metadata": {},
   "outputs": [
    {
     "output_type": "execute_result",
     "data": {
      "text/plain": [
       "                              close  pct_change  volatility\n",
       "time                                                       \n",
       "2020-08-31 00:00:00-04:00  498.5100   -0.774789    0.074088\n",
       "2020-09-01 00:00:00-04:00  475.0400   -0.047080    0.074088\n",
       "2020-09-02 00:00:00-04:00  447.2450   -0.058511    0.074088\n",
       "2020-09-03 00:00:00-04:00  407.0000   -0.089984    0.074088\n",
       "2020-09-04 00:00:00-04:00  417.9307    0.026857    0.074088"
      ],
      "text/html": "<div>\n<style scoped>\n    .dataframe tbody tr th:only-of-type {\n        vertical-align: middle;\n    }\n\n    .dataframe tbody tr th {\n        vertical-align: top;\n    }\n\n    .dataframe thead th {\n        text-align: right;\n    }\n</style>\n<table border=\"1\" class=\"dataframe\">\n  <thead>\n    <tr style=\"text-align: right;\">\n      <th></th>\n      <th>close</th>\n      <th>pct_change</th>\n      <th>volatility</th>\n    </tr>\n    <tr>\n      <th>time</th>\n      <th></th>\n      <th></th>\n      <th></th>\n    </tr>\n  </thead>\n  <tbody>\n    <tr>\n      <th>2020-08-31 00:00:00-04:00</th>\n      <td>498.5100</td>\n      <td>-0.774789</td>\n      <td>0.074088</td>\n    </tr>\n    <tr>\n      <th>2020-09-01 00:00:00-04:00</th>\n      <td>475.0400</td>\n      <td>-0.047080</td>\n      <td>0.074088</td>\n    </tr>\n    <tr>\n      <th>2020-09-02 00:00:00-04:00</th>\n      <td>447.2450</td>\n      <td>-0.058511</td>\n      <td>0.074088</td>\n    </tr>\n    <tr>\n      <th>2020-09-03 00:00:00-04:00</th>\n      <td>407.0000</td>\n      <td>-0.089984</td>\n      <td>0.074088</td>\n    </tr>\n    <tr>\n      <th>2020-09-04 00:00:00-04:00</th>\n      <td>417.9307</td>\n      <td>0.026857</td>\n      <td>0.074088</td>\n    </tr>\n  </tbody>\n</table>\n</div>"
     },
     "metadata": {},
     "execution_count": 15
    }
   ],
   "source": [
    "df_tsla_2 = df_tsla.loc[\"20200829\":]\n",
    "df_tsla_2.head()"
   ]
  },
  {
   "cell_type": "code",
   "execution_count": 16,
   "metadata": {},
   "outputs": [
    {
     "output_type": "execute_result",
     "data": {
      "text/plain": [
       "                               close  pct_change  volatility\n",
       "time                                                        \n",
       "2020-01-06 00:00:00-05:00   90.28002         NaN    0.074088\n",
       "2020-01-07 00:00:00-05:00   93.83400    0.039366    0.074088\n",
       "2020-01-08 00:00:00-05:00   98.41800    0.048852    0.074088\n",
       "2020-01-09 00:00:00-05:00   96.29800   -0.021541    0.074088\n",
       "2020-01-10 00:00:00-05:00   95.59200   -0.007331    0.074088\n",
       "...                              ...         ...         ...\n",
       "2021-01-06 00:00:00-05:00  756.46000    0.029120    0.074088\n",
       "2021-01-07 00:00:00-05:00  816.24000    0.079026    0.074088\n",
       "2021-01-08 00:00:00-05:00  880.03000    0.078151    0.074088\n",
       "2021-01-11 00:00:00-05:00  811.18000   -0.078236    0.074088\n",
       "2021-01-12 00:00:00-05:00  849.22000    0.046895    0.074088\n",
       "\n",
       "[258 rows x 3 columns]"
      ],
      "text/html": "<div>\n<style scoped>\n    .dataframe tbody tr th:only-of-type {\n        vertical-align: middle;\n    }\n\n    .dataframe tbody tr th {\n        vertical-align: top;\n    }\n\n    .dataframe thead th {\n        text-align: right;\n    }\n</style>\n<table border=\"1\" class=\"dataframe\">\n  <thead>\n    <tr style=\"text-align: right;\">\n      <th></th>\n      <th>close</th>\n      <th>pct_change</th>\n      <th>volatility</th>\n    </tr>\n    <tr>\n      <th>time</th>\n      <th></th>\n      <th></th>\n      <th></th>\n    </tr>\n  </thead>\n  <tbody>\n    <tr>\n      <th>2020-01-06 00:00:00-05:00</th>\n      <td>90.28002</td>\n      <td>NaN</td>\n      <td>0.074088</td>\n    </tr>\n    <tr>\n      <th>2020-01-07 00:00:00-05:00</th>\n      <td>93.83400</td>\n      <td>0.039366</td>\n      <td>0.074088</td>\n    </tr>\n    <tr>\n      <th>2020-01-08 00:00:00-05:00</th>\n      <td>98.41800</td>\n      <td>0.048852</td>\n      <td>0.074088</td>\n    </tr>\n    <tr>\n      <th>2020-01-09 00:00:00-05:00</th>\n      <td>96.29800</td>\n      <td>-0.021541</td>\n      <td>0.074088</td>\n    </tr>\n    <tr>\n      <th>2020-01-10 00:00:00-05:00</th>\n      <td>95.59200</td>\n      <td>-0.007331</td>\n      <td>0.074088</td>\n    </tr>\n    <tr>\n      <th>...</th>\n      <td>...</td>\n      <td>...</td>\n      <td>...</td>\n    </tr>\n    <tr>\n      <th>2021-01-06 00:00:00-05:00</th>\n      <td>756.46000</td>\n      <td>0.029120</td>\n      <td>0.074088</td>\n    </tr>\n    <tr>\n      <th>2021-01-07 00:00:00-05:00</th>\n      <td>816.24000</td>\n      <td>0.079026</td>\n      <td>0.074088</td>\n    </tr>\n    <tr>\n      <th>2021-01-08 00:00:00-05:00</th>\n      <td>880.03000</td>\n      <td>0.078151</td>\n      <td>0.074088</td>\n    </tr>\n    <tr>\n      <th>2021-01-11 00:00:00-05:00</th>\n      <td>811.18000</td>\n      <td>-0.078236</td>\n      <td>0.074088</td>\n    </tr>\n    <tr>\n      <th>2021-01-12 00:00:00-05:00</th>\n      <td>849.22000</td>\n      <td>0.046895</td>\n      <td>0.074088</td>\n    </tr>\n  </tbody>\n</table>\n<p>258 rows × 3 columns</p>\n</div>"
     },
     "metadata": {},
     "execution_count": 16
    }
   ],
   "source": [
    "df_tsla = pd.concat([df_tsla_1, df_tsla_2])\n",
    "df_tsla"
   ]
  },
  {
   "cell_type": "code",
   "execution_count": 17,
   "metadata": {},
   "outputs": [
    {
     "output_type": "execute_result",
     "data": {
      "text/plain": [
       "                           close  pct_change  volatility\n",
       "time                                                    \n",
       "2020-01-06 00:00:00-05:00  6.500         NaN    0.013303\n",
       "2020-01-07 00:00:00-05:00  6.550    0.007692    0.013303\n",
       "2020-01-08 00:00:00-05:00  6.605    0.008397    0.013303\n",
       "2020-01-09 00:00:00-05:00  6.640    0.005299    0.013303\n",
       "2020-01-10 00:00:00-05:00  6.570   -0.010542    0.013303"
      ],
      "text/html": "<div>\n<style scoped>\n    .dataframe tbody tr th:only-of-type {\n        vertical-align: middle;\n    }\n\n    .dataframe tbody tr th {\n        vertical-align: top;\n    }\n\n    .dataframe thead th {\n        text-align: right;\n    }\n</style>\n<table border=\"1\" class=\"dataframe\">\n  <thead>\n    <tr style=\"text-align: right;\">\n      <th></th>\n      <th>close</th>\n      <th>pct_change</th>\n      <th>volatility</th>\n    </tr>\n    <tr>\n      <th>time</th>\n      <th></th>\n      <th></th>\n      <th></th>\n    </tr>\n  </thead>\n  <tbody>\n    <tr>\n      <th>2020-01-06 00:00:00-05:00</th>\n      <td>6.500</td>\n      <td>NaN</td>\n      <td>0.013303</td>\n    </tr>\n    <tr>\n      <th>2020-01-07 00:00:00-05:00</th>\n      <td>6.550</td>\n      <td>0.007692</td>\n      <td>0.013303</td>\n    </tr>\n    <tr>\n      <th>2020-01-08 00:00:00-05:00</th>\n      <td>6.605</td>\n      <td>0.008397</td>\n      <td>0.013303</td>\n    </tr>\n    <tr>\n      <th>2020-01-09 00:00:00-05:00</th>\n      <td>6.640</td>\n      <td>0.005299</td>\n      <td>0.013303</td>\n    </tr>\n    <tr>\n      <th>2020-01-10 00:00:00-05:00</th>\n      <td>6.570</td>\n      <td>-0.010542</td>\n      <td>0.013303</td>\n    </tr>\n  </tbody>\n</table>\n</div>"
     },
     "metadata": {},
     "execution_count": 17
    }
   ],
   "source": [
    "df_fit = get_data(\"FIT\")\n",
    "df_fit = get_columns(df_fit)\n",
    "df_fit = calc_data(df_fit)\n",
    "df_fit.head()"
   ]
  },
  {
   "cell_type": "code",
   "execution_count": 18,
   "metadata": {},
   "outputs": [
    {
     "output_type": "execute_result",
     "data": {
      "text/plain": [
       "                              close  pct_change  volatility\n",
       "time                                                       \n",
       "2020-01-06 00:00:00-05:00  212.5855         NaN    0.029024\n",
       "2020-01-07 00:00:00-05:00  213.0500    0.002185    0.029024\n",
       "2020-01-08 00:00:00-05:00  215.3000    0.010561    0.029024\n",
       "2020-01-09 00:00:00-05:00  218.3100    0.013980    0.029024\n",
       "2020-01-10 00:00:00-05:00  218.0700   -0.001099    0.029024"
      ],
      "text/html": "<div>\n<style scoped>\n    .dataframe tbody tr th:only-of-type {\n        vertical-align: middle;\n    }\n\n    .dataframe tbody tr th {\n        vertical-align: top;\n    }\n\n    .dataframe thead th {\n        text-align: right;\n    }\n</style>\n<table border=\"1\" class=\"dataframe\">\n  <thead>\n    <tr style=\"text-align: right;\">\n      <th></th>\n      <th>close</th>\n      <th>pct_change</th>\n      <th>volatility</th>\n    </tr>\n    <tr>\n      <th>time</th>\n      <th></th>\n      <th></th>\n      <th></th>\n    </tr>\n  </thead>\n  <tbody>\n    <tr>\n      <th>2020-01-06 00:00:00-05:00</th>\n      <td>212.5855</td>\n      <td>NaN</td>\n      <td>0.029024</td>\n    </tr>\n    <tr>\n      <th>2020-01-07 00:00:00-05:00</th>\n      <td>213.0500</td>\n      <td>0.002185</td>\n      <td>0.029024</td>\n    </tr>\n    <tr>\n      <th>2020-01-08 00:00:00-05:00</th>\n      <td>215.3000</td>\n      <td>0.010561</td>\n      <td>0.029024</td>\n    </tr>\n    <tr>\n      <th>2020-01-09 00:00:00-05:00</th>\n      <td>218.3100</td>\n      <td>0.013980</td>\n      <td>0.029024</td>\n    </tr>\n    <tr>\n      <th>2020-01-10 00:00:00-05:00</th>\n      <td>218.0700</td>\n      <td>-0.001099</td>\n      <td>0.029024</td>\n    </tr>\n  </tbody>\n</table>\n</div>"
     },
     "metadata": {},
     "execution_count": 18
    }
   ],
   "source": [
    "df_fb = get_data(\"FB\")\n",
    "df_fb = get_columns(df_fb)\n",
    "df_fb = calc_data(df_fb)\n",
    "df_fb.head()"
   ]
  },
  {
   "cell_type": "code",
   "execution_count": 19,
   "metadata": {},
   "outputs": [
    {
     "output_type": "execute_result",
     "data": {
      "text/plain": [
       "                             close  pct_change  volatility\n",
       "time                                                      \n",
       "2020-01-06 00:00:00-05:00  1397.43         NaN    0.024225\n",
       "2020-01-07 00:00:00-05:00  1395.55   -0.001345    0.024225\n",
       "2020-01-08 00:00:00-05:00  1405.48    0.007115    0.024225\n",
       "2020-01-09 00:00:00-05:00  1420.15    0.010438    0.024225\n",
       "2020-01-10 00:00:00-05:00  1429.37    0.006492    0.024225"
      ],
      "text/html": "<div>\n<style scoped>\n    .dataframe tbody tr th:only-of-type {\n        vertical-align: middle;\n    }\n\n    .dataframe tbody tr th {\n        vertical-align: top;\n    }\n\n    .dataframe thead th {\n        text-align: right;\n    }\n</style>\n<table border=\"1\" class=\"dataframe\">\n  <thead>\n    <tr style=\"text-align: right;\">\n      <th></th>\n      <th>close</th>\n      <th>pct_change</th>\n      <th>volatility</th>\n    </tr>\n    <tr>\n      <th>time</th>\n      <th></th>\n      <th></th>\n      <th></th>\n    </tr>\n  </thead>\n  <tbody>\n    <tr>\n      <th>2020-01-06 00:00:00-05:00</th>\n      <td>1397.43</td>\n      <td>NaN</td>\n      <td>0.024225</td>\n    </tr>\n    <tr>\n      <th>2020-01-07 00:00:00-05:00</th>\n      <td>1395.55</td>\n      <td>-0.001345</td>\n      <td>0.024225</td>\n    </tr>\n    <tr>\n      <th>2020-01-08 00:00:00-05:00</th>\n      <td>1405.48</td>\n      <td>0.007115</td>\n      <td>0.024225</td>\n    </tr>\n    <tr>\n      <th>2020-01-09 00:00:00-05:00</th>\n      <td>1420.15</td>\n      <td>0.010438</td>\n      <td>0.024225</td>\n    </tr>\n    <tr>\n      <th>2020-01-10 00:00:00-05:00</th>\n      <td>1429.37</td>\n      <td>0.006492</td>\n      <td>0.024225</td>\n    </tr>\n  </tbody>\n</table>\n</div>"
     },
     "metadata": {},
     "execution_count": 19
    }
   ],
   "source": [
    "df_googl = get_data(\"GOOGL\")\n",
    "df_googl = get_columns(df_googl)\n",
    "df_googl = calc_data(df_googl)\n",
    "df_googl.head()"
   ]
  },
  {
   "cell_type": "code",
   "execution_count": 20,
   "metadata": {},
   "outputs": [
    {
     "output_type": "execute_result",
     "data": {
      "text/plain": [
       "                            close  pct_change  volatility\n",
       "time                                                     \n",
       "2020-01-06 00:00:00-05:00  12.140         NaN    0.039349\n",
       "2020-01-07 00:00:00-05:00  12.055   -0.007002    0.039349\n",
       "2020-01-08 00:00:00-05:00  11.930   -0.010369    0.039349\n",
       "2020-01-09 00:00:00-05:00  11.900   -0.002515    0.039349\n",
       "2020-01-10 00:00:00-05:00  11.670   -0.019328    0.039349"
      ],
      "text/html": "<div>\n<style scoped>\n    .dataframe tbody tr th:only-of-type {\n        vertical-align: middle;\n    }\n\n    .dataframe tbody tr th {\n        vertical-align: top;\n    }\n\n    .dataframe thead th {\n        text-align: right;\n    }\n</style>\n<table border=\"1\" class=\"dataframe\">\n  <thead>\n    <tr style=\"text-align: right;\">\n      <th></th>\n      <th>close</th>\n      <th>pct_change</th>\n      <th>volatility</th>\n    </tr>\n    <tr>\n      <th>time</th>\n      <th></th>\n      <th></th>\n      <th></th>\n    </tr>\n  </thead>\n  <tbody>\n    <tr>\n      <th>2020-01-06 00:00:00-05:00</th>\n      <td>12.140</td>\n      <td>NaN</td>\n      <td>0.039349</td>\n    </tr>\n    <tr>\n      <th>2020-01-07 00:00:00-05:00</th>\n      <td>12.055</td>\n      <td>-0.007002</td>\n      <td>0.039349</td>\n    </tr>\n    <tr>\n      <th>2020-01-08 00:00:00-05:00</th>\n      <td>11.930</td>\n      <td>-0.010369</td>\n      <td>0.039349</td>\n    </tr>\n    <tr>\n      <th>2020-01-09 00:00:00-05:00</th>\n      <td>11.900</td>\n      <td>-0.002515</td>\n      <td>0.039349</td>\n    </tr>\n    <tr>\n      <th>2020-01-10 00:00:00-05:00</th>\n      <td>11.670</td>\n      <td>-0.019328</td>\n      <td>0.039349</td>\n    </tr>\n  </tbody>\n</table>\n</div>"
     },
     "metadata": {},
     "execution_count": 20
    }
   ],
   "source": [
    "df_ge = get_data(\"GE\")\n",
    "df_ge = get_columns(df_ge)\n",
    "df_ge = calc_data(df_ge)\n",
    "df_ge.head()"
   ]
  },
  {
   "cell_type": "code",
   "execution_count": 21,
   "metadata": {},
   "outputs": [
    {
     "output_type": "execute_result",
     "data": {
      "text/plain": [
       "                           close  pct_change  volatility\n",
       "time                                                    \n",
       "2020-01-06 00:00:00-05:00  3.690         NaN    0.064351\n",
       "2020-01-07 00:00:00-05:00  3.250   -0.119241    0.064351\n",
       "2020-01-08 00:00:00-05:00  3.385    0.041538    0.064351\n",
       "2020-01-09 00:00:00-05:00  3.470    0.025111    0.064351\n",
       "2020-01-10 00:00:00-05:00  3.510    0.011527    0.064351"
      ],
      "text/html": "<div>\n<style scoped>\n    .dataframe tbody tr th:only-of-type {\n        vertical-align: middle;\n    }\n\n    .dataframe tbody tr th {\n        vertical-align: top;\n    }\n\n    .dataframe thead th {\n        text-align: right;\n    }\n</style>\n<table border=\"1\" class=\"dataframe\">\n  <thead>\n    <tr style=\"text-align: right;\">\n      <th></th>\n      <th>close</th>\n      <th>pct_change</th>\n      <th>volatility</th>\n    </tr>\n    <tr>\n      <th>time</th>\n      <th></th>\n      <th></th>\n      <th></th>\n    </tr>\n  </thead>\n  <tbody>\n    <tr>\n      <th>2020-01-06 00:00:00-05:00</th>\n      <td>3.690</td>\n      <td>NaN</td>\n      <td>0.064351</td>\n    </tr>\n    <tr>\n      <th>2020-01-07 00:00:00-05:00</th>\n      <td>3.250</td>\n      <td>-0.119241</td>\n      <td>0.064351</td>\n    </tr>\n    <tr>\n      <th>2020-01-08 00:00:00-05:00</th>\n      <td>3.385</td>\n      <td>0.041538</td>\n      <td>0.064351</td>\n    </tr>\n    <tr>\n      <th>2020-01-09 00:00:00-05:00</th>\n      <td>3.470</td>\n      <td>0.025111</td>\n      <td>0.064351</td>\n    </tr>\n    <tr>\n      <th>2020-01-10 00:00:00-05:00</th>\n      <td>3.510</td>\n      <td>0.011527</td>\n      <td>0.064351</td>\n    </tr>\n  </tbody>\n</table>\n</div>"
     },
     "metadata": {},
     "execution_count": 21
    }
   ],
   "source": [
    "df_nio = get_data(\"NIO\")\n",
    "df_nio = get_columns(df_nio)\n",
    "df_nio = calc_data(df_nio)\n",
    "df_nio.head()"
   ]
  },
  {
   "cell_type": "code",
   "execution_count": 22,
   "metadata": {},
   "outputs": [
    {
     "output_type": "execute_result",
     "data": {
      "text/plain": [
       "                           close  pct_change  volatility\n",
       "time                                                    \n",
       "2020-01-06 00:00:00-05:00  9.150         NaN    0.035259\n",
       "2020-01-07 00:00:00-05:00  9.250    0.010929    0.035259\n",
       "2020-01-08 00:00:00-05:00  9.250    0.000000    0.035259\n",
       "2020-01-09 00:00:00-05:00  9.275    0.002703    0.035259\n",
       "2020-01-10 00:00:00-05:00  9.250   -0.002695    0.035259"
      ],
      "text/html": "<div>\n<style scoped>\n    .dataframe tbody tr th:only-of-type {\n        vertical-align: middle;\n    }\n\n    .dataframe tbody tr th {\n        vertical-align: top;\n    }\n\n    .dataframe thead th {\n        text-align: right;\n    }\n</style>\n<table border=\"1\" class=\"dataframe\">\n  <thead>\n    <tr style=\"text-align: right;\">\n      <th></th>\n      <th>close</th>\n      <th>pct_change</th>\n      <th>volatility</th>\n    </tr>\n    <tr>\n      <th>time</th>\n      <th></th>\n      <th></th>\n      <th></th>\n    </tr>\n  </thead>\n  <tbody>\n    <tr>\n      <th>2020-01-06 00:00:00-05:00</th>\n      <td>9.150</td>\n      <td>NaN</td>\n      <td>0.035259</td>\n    </tr>\n    <tr>\n      <th>2020-01-07 00:00:00-05:00</th>\n      <td>9.250</td>\n      <td>0.010929</td>\n      <td>0.035259</td>\n    </tr>\n    <tr>\n      <th>2020-01-08 00:00:00-05:00</th>\n      <td>9.250</td>\n      <td>0.000000</td>\n      <td>0.035259</td>\n    </tr>\n    <tr>\n      <th>2020-01-09 00:00:00-05:00</th>\n      <td>9.275</td>\n      <td>0.002703</td>\n      <td>0.035259</td>\n    </tr>\n    <tr>\n      <th>2020-01-10 00:00:00-05:00</th>\n      <td>9.250</td>\n      <td>-0.002695</td>\n      <td>0.035259</td>\n    </tr>\n  </tbody>\n</table>\n</div>"
     },
     "metadata": {},
     "execution_count": 22
    }
   ],
   "source": [
    "df_f = get_data(\"F\")\n",
    "df_f = get_columns(df_f)\n",
    "df_f = calc_data(df_f)\n",
    "df_f.head()"
   ]
  },
  {
   "cell_type": "code",
   "execution_count": 23,
   "metadata": {},
   "outputs": [
    {
     "output_type": "execute_result",
     "data": {
      "text/plain": [
       "                            close  pct_change  volatility\n",
       "time                                                     \n",
       "2020-01-06 00:00:00-05:00  159.02         NaN    0.027648\n",
       "2020-01-07 00:00:00-05:00  157.60   -0.008930    0.027648\n",
       "2020-01-08 00:00:00-05:00  160.14    0.016117    0.027648\n",
       "2020-01-09 00:00:00-05:00  162.09    0.012177    0.027648\n",
       "2020-01-10 00:00:00-05:00  161.32   -0.004750    0.027648"
      ],
      "text/html": "<div>\n<style scoped>\n    .dataframe tbody tr th:only-of-type {\n        vertical-align: middle;\n    }\n\n    .dataframe tbody tr th {\n        vertical-align: top;\n    }\n\n    .dataframe thead th {\n        text-align: right;\n    }\n</style>\n<table border=\"1\" class=\"dataframe\">\n  <thead>\n    <tr style=\"text-align: right;\">\n      <th></th>\n      <th>close</th>\n      <th>pct_change</th>\n      <th>volatility</th>\n    </tr>\n    <tr>\n      <th>time</th>\n      <th></th>\n      <th></th>\n      <th></th>\n    </tr>\n  </thead>\n  <tbody>\n    <tr>\n      <th>2020-01-06 00:00:00-05:00</th>\n      <td>159.02</td>\n      <td>NaN</td>\n      <td>0.027648</td>\n    </tr>\n    <tr>\n      <th>2020-01-07 00:00:00-05:00</th>\n      <td>157.60</td>\n      <td>-0.008930</td>\n      <td>0.027648</td>\n    </tr>\n    <tr>\n      <th>2020-01-08 00:00:00-05:00</th>\n      <td>160.14</td>\n      <td>0.016117</td>\n      <td>0.027648</td>\n    </tr>\n    <tr>\n      <th>2020-01-09 00:00:00-05:00</th>\n      <td>162.09</td>\n      <td>0.012177</td>\n      <td>0.027648</td>\n    </tr>\n    <tr>\n      <th>2020-01-10 00:00:00-05:00</th>\n      <td>161.32</td>\n      <td>-0.004750</td>\n      <td>0.027648</td>\n    </tr>\n  </tbody>\n</table>\n</div>"
     },
     "metadata": {},
     "execution_count": 23
    }
   ],
   "source": [
    "df_msft = get_data(\"MSFT\")\n",
    "df_msft = get_columns(df_msft)\n",
    "df_msft = calc_data(df_msft)\n",
    "df_msft.head()"
   ]
  },
  {
   "cell_type": "code",
   "execution_count": 24,
   "metadata": {},
   "outputs": [
    {
     "output_type": "execute_result",
     "data": {
      "text/plain": [
       "                             close  pct_change  volatility\n",
       "time                                                      \n",
       "2020-01-06 00:00:00-05:00  1903.33         NaN    0.024326\n",
       "2020-01-07 00:00:00-05:00  1906.86    0.001855    0.024326\n",
       "2020-01-08 00:00:00-05:00  1892.09   -0.007746    0.024326\n",
       "2020-01-09 00:00:00-05:00  1901.00    0.004709    0.024326\n",
       "2020-01-10 00:00:00-05:00  1882.98   -0.009479    0.024326"
      ],
      "text/html": "<div>\n<style scoped>\n    .dataframe tbody tr th:only-of-type {\n        vertical-align: middle;\n    }\n\n    .dataframe tbody tr th {\n        vertical-align: top;\n    }\n\n    .dataframe thead th {\n        text-align: right;\n    }\n</style>\n<table border=\"1\" class=\"dataframe\">\n  <thead>\n    <tr style=\"text-align: right;\">\n      <th></th>\n      <th>close</th>\n      <th>pct_change</th>\n      <th>volatility</th>\n    </tr>\n    <tr>\n      <th>time</th>\n      <th></th>\n      <th></th>\n      <th></th>\n    </tr>\n  </thead>\n  <tbody>\n    <tr>\n      <th>2020-01-06 00:00:00-05:00</th>\n      <td>1903.33</td>\n      <td>NaN</td>\n      <td>0.024326</td>\n    </tr>\n    <tr>\n      <th>2020-01-07 00:00:00-05:00</th>\n      <td>1906.86</td>\n      <td>0.001855</td>\n      <td>0.024326</td>\n    </tr>\n    <tr>\n      <th>2020-01-08 00:00:00-05:00</th>\n      <td>1892.09</td>\n      <td>-0.007746</td>\n      <td>0.024326</td>\n    </tr>\n    <tr>\n      <th>2020-01-09 00:00:00-05:00</th>\n      <td>1901.00</td>\n      <td>0.004709</td>\n      <td>0.024326</td>\n    </tr>\n    <tr>\n      <th>2020-01-10 00:00:00-05:00</th>\n      <td>1882.98</td>\n      <td>-0.009479</td>\n      <td>0.024326</td>\n    </tr>\n  </tbody>\n</table>\n</div>"
     },
     "metadata": {},
     "execution_count": 24
    }
   ],
   "source": [
    "df_amzn = get_data(\"AMZN\")\n",
    "df_amzn = get_columns(df_amzn)\n",
    "df_amzn = calc_data(df_amzn)\n",
    "df_amzn.head()"
   ]
  },
  {
   "cell_type": "code",
   "execution_count": 25,
   "metadata": {},
   "outputs": [],
   "source": [
    "#df_list = []\n",
    "#for t in tickers:\n",
    "    #df = get_data(t)\n",
    "    #df = get_columns(df)\n",
    "    #df = calc_data(df)\n",
    "    #df_list.append(df)"
   ]
  },
  {
   "cell_type": "code",
   "execution_count": 26,
   "metadata": {},
   "outputs": [],
   "source": [
    "big_df = pd.concat([df_spy.close, df_aapl.close, df_tsla.close, df_amzn.close, df_fit.close, df_fb.close, df_googl.close, df_ge.close, df_nio.close, df_f.close, df_msft.close], axis = 1)"
   ]
  },
  {
   "cell_type": "code",
   "execution_count": 27,
   "metadata": {},
   "outputs": [
    {
     "output_type": "execute_result",
     "data": {
      "text/plain": [
       "                            close    close     close    close  close  \\\n",
       "time                                                                   \n",
       "2020-01-06 00:00:00-05:00  323.67  149.890  90.28002  1903.33  6.500   \n",
       "2020-01-07 00:00:00-05:00  322.76  149.135  93.83400  1906.86  6.550   \n",
       "2020-01-08 00:00:00-05:00  324.42  151.575  98.41800  1892.09  6.605   \n",
       "2020-01-09 00:00:00-05:00  326.62  154.855  96.29800  1901.00  6.640   \n",
       "2020-01-10 00:00:00-05:00  325.70  155.185  95.59200  1882.98  6.570   \n",
       "\n",
       "                              close    close   close  close  close   close  \n",
       "time                                                                        \n",
       "2020-01-06 00:00:00-05:00  212.5855  1397.43  12.140  3.690  9.150  159.02  \n",
       "2020-01-07 00:00:00-05:00  213.0500  1395.55  12.055  3.250  9.250  157.60  \n",
       "2020-01-08 00:00:00-05:00  215.3000  1405.48  11.930  3.385  9.250  160.14  \n",
       "2020-01-09 00:00:00-05:00  218.3100  1420.15  11.900  3.470  9.275  162.09  \n",
       "2020-01-10 00:00:00-05:00  218.0700  1429.37  11.670  3.510  9.250  161.32  "
      ],
      "text/html": "<div>\n<style scoped>\n    .dataframe tbody tr th:only-of-type {\n        vertical-align: middle;\n    }\n\n    .dataframe tbody tr th {\n        vertical-align: top;\n    }\n\n    .dataframe thead th {\n        text-align: right;\n    }\n</style>\n<table border=\"1\" class=\"dataframe\">\n  <thead>\n    <tr style=\"text-align: right;\">\n      <th></th>\n      <th>close</th>\n      <th>close</th>\n      <th>close</th>\n      <th>close</th>\n      <th>close</th>\n      <th>close</th>\n      <th>close</th>\n      <th>close</th>\n      <th>close</th>\n      <th>close</th>\n      <th>close</th>\n    </tr>\n    <tr>\n      <th>time</th>\n      <th></th>\n      <th></th>\n      <th></th>\n      <th></th>\n      <th></th>\n      <th></th>\n      <th></th>\n      <th></th>\n      <th></th>\n      <th></th>\n      <th></th>\n    </tr>\n  </thead>\n  <tbody>\n    <tr>\n      <th>2020-01-06 00:00:00-05:00</th>\n      <td>323.67</td>\n      <td>149.890</td>\n      <td>90.28002</td>\n      <td>1903.33</td>\n      <td>6.500</td>\n      <td>212.5855</td>\n      <td>1397.43</td>\n      <td>12.140</td>\n      <td>3.690</td>\n      <td>9.150</td>\n      <td>159.02</td>\n    </tr>\n    <tr>\n      <th>2020-01-07 00:00:00-05:00</th>\n      <td>322.76</td>\n      <td>149.135</td>\n      <td>93.83400</td>\n      <td>1906.86</td>\n      <td>6.550</td>\n      <td>213.0500</td>\n      <td>1395.55</td>\n      <td>12.055</td>\n      <td>3.250</td>\n      <td>9.250</td>\n      <td>157.60</td>\n    </tr>\n    <tr>\n      <th>2020-01-08 00:00:00-05:00</th>\n      <td>324.42</td>\n      <td>151.575</td>\n      <td>98.41800</td>\n      <td>1892.09</td>\n      <td>6.605</td>\n      <td>215.3000</td>\n      <td>1405.48</td>\n      <td>11.930</td>\n      <td>3.385</td>\n      <td>9.250</td>\n      <td>160.14</td>\n    </tr>\n    <tr>\n      <th>2020-01-09 00:00:00-05:00</th>\n      <td>326.62</td>\n      <td>154.855</td>\n      <td>96.29800</td>\n      <td>1901.00</td>\n      <td>6.640</td>\n      <td>218.3100</td>\n      <td>1420.15</td>\n      <td>11.900</td>\n      <td>3.470</td>\n      <td>9.275</td>\n      <td>162.09</td>\n    </tr>\n    <tr>\n      <th>2020-01-10 00:00:00-05:00</th>\n      <td>325.70</td>\n      <td>155.185</td>\n      <td>95.59200</td>\n      <td>1882.98</td>\n      <td>6.570</td>\n      <td>218.0700</td>\n      <td>1429.37</td>\n      <td>11.670</td>\n      <td>3.510</td>\n      <td>9.250</td>\n      <td>161.32</td>\n    </tr>\n  </tbody>\n</table>\n</div>"
     },
     "metadata": {},
     "execution_count": 27
    }
   ],
   "source": [
    "big_df.head()"
   ]
  },
  {
   "cell_type": "code",
   "execution_count": 28,
   "metadata": {},
   "outputs": [],
   "source": [
    "big_df.columns = [\"SPY\", \"AAPL\", \"TSLA\", \"AMZN\", \"FIT\", \"FB\", \"GOOGL\", \"GE\", \"NIO\", \"F\", \"MSFT\"]"
   ]
  },
  {
   "cell_type": "code",
   "execution_count": 29,
   "metadata": {},
   "outputs": [
    {
     "output_type": "execute_result",
     "data": {
      "text/plain": [
       "                              SPY     AAPL      TSLA     AMZN    FIT  \\\n",
       "time                                                                   \n",
       "2020-01-06 00:00:00-05:00  323.67  149.890  90.28002  1903.33  6.500   \n",
       "2020-01-07 00:00:00-05:00  322.76  149.135  93.83400  1906.86  6.550   \n",
       "2020-01-08 00:00:00-05:00  324.42  151.575  98.41800  1892.09  6.605   \n",
       "2020-01-09 00:00:00-05:00  326.62  154.855  96.29800  1901.00  6.640   \n",
       "2020-01-10 00:00:00-05:00  325.70  155.185  95.59200  1882.98  6.570   \n",
       "\n",
       "                                 FB    GOOGL      GE    NIO      F    MSFT  \n",
       "time                                                                        \n",
       "2020-01-06 00:00:00-05:00  212.5855  1397.43  12.140  3.690  9.150  159.02  \n",
       "2020-01-07 00:00:00-05:00  213.0500  1395.55  12.055  3.250  9.250  157.60  \n",
       "2020-01-08 00:00:00-05:00  215.3000  1405.48  11.930  3.385  9.250  160.14  \n",
       "2020-01-09 00:00:00-05:00  218.3100  1420.15  11.900  3.470  9.275  162.09  \n",
       "2020-01-10 00:00:00-05:00  218.0700  1429.37  11.670  3.510  9.250  161.32  "
      ],
      "text/html": "<div>\n<style scoped>\n    .dataframe tbody tr th:only-of-type {\n        vertical-align: middle;\n    }\n\n    .dataframe tbody tr th {\n        vertical-align: top;\n    }\n\n    .dataframe thead th {\n        text-align: right;\n    }\n</style>\n<table border=\"1\" class=\"dataframe\">\n  <thead>\n    <tr style=\"text-align: right;\">\n      <th></th>\n      <th>SPY</th>\n      <th>AAPL</th>\n      <th>TSLA</th>\n      <th>AMZN</th>\n      <th>FIT</th>\n      <th>FB</th>\n      <th>GOOGL</th>\n      <th>GE</th>\n      <th>NIO</th>\n      <th>F</th>\n      <th>MSFT</th>\n    </tr>\n    <tr>\n      <th>time</th>\n      <th></th>\n      <th></th>\n      <th></th>\n      <th></th>\n      <th></th>\n      <th></th>\n      <th></th>\n      <th></th>\n      <th></th>\n      <th></th>\n      <th></th>\n    </tr>\n  </thead>\n  <tbody>\n    <tr>\n      <th>2020-01-06 00:00:00-05:00</th>\n      <td>323.67</td>\n      <td>149.890</td>\n      <td>90.28002</td>\n      <td>1903.33</td>\n      <td>6.500</td>\n      <td>212.5855</td>\n      <td>1397.43</td>\n      <td>12.140</td>\n      <td>3.690</td>\n      <td>9.150</td>\n      <td>159.02</td>\n    </tr>\n    <tr>\n      <th>2020-01-07 00:00:00-05:00</th>\n      <td>322.76</td>\n      <td>149.135</td>\n      <td>93.83400</td>\n      <td>1906.86</td>\n      <td>6.550</td>\n      <td>213.0500</td>\n      <td>1395.55</td>\n      <td>12.055</td>\n      <td>3.250</td>\n      <td>9.250</td>\n      <td>157.60</td>\n    </tr>\n    <tr>\n      <th>2020-01-08 00:00:00-05:00</th>\n      <td>324.42</td>\n      <td>151.575</td>\n      <td>98.41800</td>\n      <td>1892.09</td>\n      <td>6.605</td>\n      <td>215.3000</td>\n      <td>1405.48</td>\n      <td>11.930</td>\n      <td>3.385</td>\n      <td>9.250</td>\n      <td>160.14</td>\n    </tr>\n    <tr>\n      <th>2020-01-09 00:00:00-05:00</th>\n      <td>326.62</td>\n      <td>154.855</td>\n      <td>96.29800</td>\n      <td>1901.00</td>\n      <td>6.640</td>\n      <td>218.3100</td>\n      <td>1420.15</td>\n      <td>11.900</td>\n      <td>3.470</td>\n      <td>9.275</td>\n      <td>162.09</td>\n    </tr>\n    <tr>\n      <th>2020-01-10 00:00:00-05:00</th>\n      <td>325.70</td>\n      <td>155.185</td>\n      <td>95.59200</td>\n      <td>1882.98</td>\n      <td>6.570</td>\n      <td>218.0700</td>\n      <td>1429.37</td>\n      <td>11.670</td>\n      <td>3.510</td>\n      <td>9.250</td>\n      <td>161.32</td>\n    </tr>\n  </tbody>\n</table>\n</div>"
     },
     "metadata": {},
     "execution_count": 29
    }
   ],
   "source": [
    "big_df.head()"
   ]
  },
  {
   "cell_type": "code",
   "execution_count": 34,
   "metadata": {},
   "outputs": [],
   "source": [
    "from sklearn.preprocessing import MinMaxScaler"
   ]
  },
  {
   "cell_type": "code",
   "execution_count": 36,
   "metadata": {},
   "outputs": [
    {
     "output_type": "execute_result",
     "data": {
      "text/plain": [
       "          SPY      AAPL      TSLA      AMZN       FIT        FB     GOOGL  \\\n",
       "0    0.637309  0.295505  0.022236  0.122560  0.395161  0.421814  0.445087   \n",
       "1    0.631576  0.290351  0.026636  0.124465  0.435484  0.424755  0.442650   \n",
       "2    0.642034  0.307007  0.032311  0.116495  0.479839  0.439000  0.455524   \n",
       "3    0.655894  0.329397  0.029686  0.121303  0.508065  0.458056  0.474543   \n",
       "4    0.650098  0.331650  0.028812  0.111579  0.451613  0.456537  0.486497   \n",
       "..        ...       ...       ...       ...       ...       ...       ...   \n",
       "253  0.951427  0.136387  0.847012  0.788828  0.830645  0.742513  0.867680   \n",
       "254  0.986266  0.165535  0.921024  0.801455  0.842742  0.776638  0.934838   \n",
       "255  1.000000  0.173316  1.000000  0.812944  0.782258  0.769737  0.964424   \n",
       "256  0.984250  0.152770  0.914759  0.776815  0.830645  0.701804  0.910334   \n",
       "257  0.984691  0.151677  0.961855  0.779584  0.790323  0.664451  0.886207   \n",
       "\n",
       "           GE       NIO         F      MSFT  \n",
       "0    0.865833  0.022033  0.891465  0.245775  \n",
       "1    0.854761  0.014744  0.908830  0.230990  \n",
       "2    0.838479  0.016980  0.908830  0.257436  \n",
       "3    0.834571  0.018388  0.913172  0.277739  \n",
       "4    0.804611  0.019051  0.908830  0.269722  \n",
       "..        ...       ...       ...       ...  \n",
       "253  0.764231  0.797870  0.838013  0.799678  \n",
       "254  0.753810  0.859604  0.874099  0.862878  \n",
       "255  0.761626  0.936801  0.865416  0.875996  \n",
       "256  0.776605  1.000000  0.917513  0.854652  \n",
       "257  0.818288  0.986996  1.000000  0.827894  \n",
       "\n",
       "[258 rows x 11 columns]"
      ],
      "text/html": "<div>\n<style scoped>\n    .dataframe tbody tr th:only-of-type {\n        vertical-align: middle;\n    }\n\n    .dataframe tbody tr th {\n        vertical-align: top;\n    }\n\n    .dataframe thead th {\n        text-align: right;\n    }\n</style>\n<table border=\"1\" class=\"dataframe\">\n  <thead>\n    <tr style=\"text-align: right;\">\n      <th></th>\n      <th>SPY</th>\n      <th>AAPL</th>\n      <th>TSLA</th>\n      <th>AMZN</th>\n      <th>FIT</th>\n      <th>FB</th>\n      <th>GOOGL</th>\n      <th>GE</th>\n      <th>NIO</th>\n      <th>F</th>\n      <th>MSFT</th>\n    </tr>\n  </thead>\n  <tbody>\n    <tr>\n      <th>0</th>\n      <td>0.637309</td>\n      <td>0.295505</td>\n      <td>0.022236</td>\n      <td>0.122560</td>\n      <td>0.395161</td>\n      <td>0.421814</td>\n      <td>0.445087</td>\n      <td>0.865833</td>\n      <td>0.022033</td>\n      <td>0.891465</td>\n      <td>0.245775</td>\n    </tr>\n    <tr>\n      <th>1</th>\n      <td>0.631576</td>\n      <td>0.290351</td>\n      <td>0.026636</td>\n      <td>0.124465</td>\n      <td>0.435484</td>\n      <td>0.424755</td>\n      <td>0.442650</td>\n      <td>0.854761</td>\n      <td>0.014744</td>\n      <td>0.908830</td>\n      <td>0.230990</td>\n    </tr>\n    <tr>\n      <th>2</th>\n      <td>0.642034</td>\n      <td>0.307007</td>\n      <td>0.032311</td>\n      <td>0.116495</td>\n      <td>0.479839</td>\n      <td>0.439000</td>\n      <td>0.455524</td>\n      <td>0.838479</td>\n      <td>0.016980</td>\n      <td>0.908830</td>\n      <td>0.257436</td>\n    </tr>\n    <tr>\n      <th>3</th>\n      <td>0.655894</td>\n      <td>0.329397</td>\n      <td>0.029686</td>\n      <td>0.121303</td>\n      <td>0.508065</td>\n      <td>0.458056</td>\n      <td>0.474543</td>\n      <td>0.834571</td>\n      <td>0.018388</td>\n      <td>0.913172</td>\n      <td>0.277739</td>\n    </tr>\n    <tr>\n      <th>4</th>\n      <td>0.650098</td>\n      <td>0.331650</td>\n      <td>0.028812</td>\n      <td>0.111579</td>\n      <td>0.451613</td>\n      <td>0.456537</td>\n      <td>0.486497</td>\n      <td>0.804611</td>\n      <td>0.019051</td>\n      <td>0.908830</td>\n      <td>0.269722</td>\n    </tr>\n    <tr>\n      <th>...</th>\n      <td>...</td>\n      <td>...</td>\n      <td>...</td>\n      <td>...</td>\n      <td>...</td>\n      <td>...</td>\n      <td>...</td>\n      <td>...</td>\n      <td>...</td>\n      <td>...</td>\n      <td>...</td>\n    </tr>\n    <tr>\n      <th>253</th>\n      <td>0.951427</td>\n      <td>0.136387</td>\n      <td>0.847012</td>\n      <td>0.788828</td>\n      <td>0.830645</td>\n      <td>0.742513</td>\n      <td>0.867680</td>\n      <td>0.764231</td>\n      <td>0.797870</td>\n      <td>0.838013</td>\n      <td>0.799678</td>\n    </tr>\n    <tr>\n      <th>254</th>\n      <td>0.986266</td>\n      <td>0.165535</td>\n      <td>0.921024</td>\n      <td>0.801455</td>\n      <td>0.842742</td>\n      <td>0.776638</td>\n      <td>0.934838</td>\n      <td>0.753810</td>\n      <td>0.859604</td>\n      <td>0.874099</td>\n      <td>0.862878</td>\n    </tr>\n    <tr>\n      <th>255</th>\n      <td>1.000000</td>\n      <td>0.173316</td>\n      <td>1.000000</td>\n      <td>0.812944</td>\n      <td>0.782258</td>\n      <td>0.769737</td>\n      <td>0.964424</td>\n      <td>0.761626</td>\n      <td>0.936801</td>\n      <td>0.865416</td>\n      <td>0.875996</td>\n    </tr>\n    <tr>\n      <th>256</th>\n      <td>0.984250</td>\n      <td>0.152770</td>\n      <td>0.914759</td>\n      <td>0.776815</td>\n      <td>0.830645</td>\n      <td>0.701804</td>\n      <td>0.910334</td>\n      <td>0.776605</td>\n      <td>1.000000</td>\n      <td>0.917513</td>\n      <td>0.854652</td>\n    </tr>\n    <tr>\n      <th>257</th>\n      <td>0.984691</td>\n      <td>0.151677</td>\n      <td>0.961855</td>\n      <td>0.779584</td>\n      <td>0.790323</td>\n      <td>0.664451</td>\n      <td>0.886207</td>\n      <td>0.818288</td>\n      <td>0.986996</td>\n      <td>1.000000</td>\n      <td>0.827894</td>\n    </tr>\n  </tbody>\n</table>\n<p>258 rows × 11 columns</p>\n</div>"
     },
     "metadata": {},
     "execution_count": 36
    }
   ],
   "source": [
    "scaler = MinMaxScaler()\n",
    "\n",
    "x = big_df.values\n",
    "x_scaled = MinMaxScaler().fit_transform(x)\n",
    "big_df_2 = pd.DataFrame(x_scaled, columns=[\"SPY\", \"AAPL\", \"TSLA\", \"AMZN\", \"FIT\", \"FB\", \"GOOGL\", \"GE\", \"NIO\", \"F\", \"MSFT\"])\n",
    "big_df_2"
   ]
  },
  {
   "cell_type": "code",
   "execution_count": 48,
   "metadata": {},
   "outputs": [],
   "source": [
    "corr_list = []"
   ]
  },
  {
   "cell_type": "code",
   "execution_count": 45,
   "metadata": {},
   "outputs": [],
   "source": [
    "def r2(x_column, y_column):\n",
    "    corr_matrix = np.corrcoef(x_column, y_column)\n",
    "    corr_xy = corr_matrix[0,1]\n",
    "    r_sq = corr_xy**2\n",
    "\n",
    "    return r_sq"
   ]
  }
 ]
}