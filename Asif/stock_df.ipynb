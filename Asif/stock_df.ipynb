{
 "metadata": {
  "language_info": {
   "codemirror_mode": {
    "name": "ipython",
    "version": 3
   },
   "file_extension": ".py",
   "mimetype": "text/x-python",
   "name": "python",
   "nbconvert_exporter": "python",
   "pygments_lexer": "ipython3",
   "version": "3.8.2-final"
  },
  "orig_nbformat": 2,
  "kernelspec": {
   "name": "python3",
   "display_name": "Python 3.8.2 64-bit ('base': conda)",
   "metadata": {
    "interpreter": {
     "hash": "dca0ade3e726a953b501b15e8e990130d2b7799f14cfd9f4271676035ebe5511"
    }
   }
  }
 },
 "nbformat": 4,
 "nbformat_minor": 2,
 "cells": [
  {
   "cell_type": "code",
   "execution_count": 1,
   "metadata": {},
   "outputs": [
    {
     "output_type": "execute_result",
     "data": {
      "text/plain": [
       "True"
      ]
     },
     "metadata": {},
     "execution_count": 1
    }
   ],
   "source": [
    "import requests\n",
    "from dotenv import load_dotenv\n",
    "import os \n",
    "import pandas as pd\n",
    "import numpy as np\n",
    "import alpaca_trade_api as tradeapi\n",
    "# from MCForecastTools import MCSimulation\n",
    "import json\n",
    "import matplotlib.pyplot as plt\n",
    "\n",
    "load_dotenv()"
   ]
  },
  {
   "cell_type": "code",
   "execution_count": 2,
   "metadata": {},
   "outputs": [],
   "source": [
    "# Set Alpaca API key and secret\n",
    "alpaca_api_key = os.getenv(\"ALPACA_API_KEY\")\n",
    "alpaca_secret_key = os.getenv(\"ALPACA_SECRET_KEY\")\n",
    "\n",
    "# Create the Alpaca API object\n",
    "alpaca = tradeapi.REST(\n",
    "    alpaca_api_key,\n",
    "    alpaca_secret_key,\n",
    "    api_version= \"v2\")\n"
   ]
  },
  {
   "cell_type": "code",
   "execution_count": 3,
   "metadata": {},
   "outputs": [],
   "source": [
    "current_date = pd.Timestamp(\"2020-01-05\", tz=\"America/New_York\").isoformat()\n",
    "\n",
    "tickers = [\"SPY\", \"AAPL\", \"TSLA\", \"GE\", \"F\", \"MSFT\",\"NIO\", \"PFE\", \"AMZN\",\"AAL\",\"DIS\",\"PLUG\"]\n",
    "\n",
    "\n",
    "timeframe = \"1D\""
   ]
  },
  {
   "cell_type": "code",
   "execution_count": 4,
   "metadata": {},
   "outputs": [],
   "source": [
    "def get_data(ticker):\n",
    "    df = alpaca.get_barset(\n",
    "        ticker,\n",
    "        timeframe,\n",
    "        start = current_date\n",
    "    ).df\n",
    "\n",
    "    return df\n"
   ]
  },
  {
   "cell_type": "code",
   "execution_count": 5,
   "metadata": {},
   "outputs": [],
   "source": [
    "def get_columns(dataframe):\n",
    "    dataframe = dataframe.T.reset_index(drop = True).T\n",
    "    dataframe = dataframe.rename(columns={3:\"close\", 4:\"volume\"})\n",
    "    dataframe = dataframe.loc[:,[\"close\", \"volume\"]]\n",
    "\n",
    "    return dataframe"
   ]
  },
  {
   "cell_type": "code",
   "execution_count": 6,
   "metadata": {},
   "outputs": [],
   "source": [
    "def calc_daily_returns(dataframe):\n",
    "    dataframe[\"pct_change\"] = dataframe[\"close\"].pct_change()\n",
    "    dataframe[\"volatility\"] = np.std(dataframe[\"pct_change\"])\n",
    "\n",
    "    return dataframe\n"
   ]
  },
  {
   "cell_type": "code",
   "execution_count": null,
   "metadata": {},
   "outputs": [],
   "source": []
  },
  {
   "cell_type": "code",
   "execution_count": 7,
   "metadata": {},
   "outputs": [
    {
     "output_type": "execute_result",
     "data": {
      "text/plain": [
       "                                SPY                                  \n",
       "                               open    high     low   close    volume\n",
       "time                                                                 \n",
       "2020-01-06 00:00:00-05:00  320.4900  323.73  320.36  323.67  43105385\n",
       "2020-01-07 00:00:00-05:00  323.0200  323.54  322.24  322.76  33909984\n",
       "2020-01-08 00:00:00-05:00  322.9400  325.78  322.67  324.42  56581814\n",
       "2020-01-09 00:00:00-05:00  326.1600  326.73  325.52  326.62  43365068\n",
       "2020-01-10 00:00:00-05:00  327.2899  327.46  325.20  325.70  44989039"
      ],
      "text/html": "<div>\n<style scoped>\n    .dataframe tbody tr th:only-of-type {\n        vertical-align: middle;\n    }\n\n    .dataframe tbody tr th {\n        vertical-align: top;\n    }\n\n    .dataframe thead tr th {\n        text-align: left;\n    }\n\n    .dataframe thead tr:last-of-type th {\n        text-align: right;\n    }\n</style>\n<table border=\"1\" class=\"dataframe\">\n  <thead>\n    <tr>\n      <th></th>\n      <th colspan=\"5\" halign=\"left\">SPY</th>\n    </tr>\n    <tr>\n      <th></th>\n      <th>open</th>\n      <th>high</th>\n      <th>low</th>\n      <th>close</th>\n      <th>volume</th>\n    </tr>\n    <tr>\n      <th>time</th>\n      <th></th>\n      <th></th>\n      <th></th>\n      <th></th>\n      <th></th>\n    </tr>\n  </thead>\n  <tbody>\n    <tr>\n      <th>2020-01-06 00:00:00-05:00</th>\n      <td>320.4900</td>\n      <td>323.73</td>\n      <td>320.36</td>\n      <td>323.67</td>\n      <td>43105385</td>\n    </tr>\n    <tr>\n      <th>2020-01-07 00:00:00-05:00</th>\n      <td>323.0200</td>\n      <td>323.54</td>\n      <td>322.24</td>\n      <td>322.76</td>\n      <td>33909984</td>\n    </tr>\n    <tr>\n      <th>2020-01-08 00:00:00-05:00</th>\n      <td>322.9400</td>\n      <td>325.78</td>\n      <td>322.67</td>\n      <td>324.42</td>\n      <td>56581814</td>\n    </tr>\n    <tr>\n      <th>2020-01-09 00:00:00-05:00</th>\n      <td>326.1600</td>\n      <td>326.73</td>\n      <td>325.52</td>\n      <td>326.62</td>\n      <td>43365068</td>\n    </tr>\n    <tr>\n      <th>2020-01-10 00:00:00-05:00</th>\n      <td>327.2899</td>\n      <td>327.46</td>\n      <td>325.20</td>\n      <td>325.70</td>\n      <td>44989039</td>\n    </tr>\n  </tbody>\n</table>\n</div>"
     },
     "metadata": {},
     "execution_count": 7
    }
   ],
   "source": [
    "df_spy = get_data(\"SPY\")\n",
    "df_spy.head()"
   ]
  },
  {
   "cell_type": "code",
   "execution_count": 8,
   "metadata": {},
   "outputs": [],
   "source": [
    "df_spy = get_columns(df_spy)"
   ]
  },
  {
   "cell_type": "code",
   "execution_count": 9,
   "metadata": {},
   "outputs": [],
   "source": [
    "df_spy = calc_daily_returns(df_spy)"
   ]
  },
  {
   "cell_type": "code",
   "execution_count": 12,
   "metadata": {},
   "outputs": [
    {
     "output_type": "execute_result",
     "data": {
      "text/plain": [
       "                              close      volume  pct_change  volatility\n",
       "time                                                                   \n",
       "2020-11-25 00:00:00-05:00  362.6500  35309156.0   -0.001487    0.021466\n",
       "2020-11-27 00:00:00-05:00  363.6500  46840189.0    0.002757    0.021466\n",
       "2020-11-30 00:00:00-05:00  362.0000  67154075.0   -0.004537    0.021466\n",
       "2020-12-01 00:00:00-05:00  365.9700  64527332.0    0.010967    0.021466\n",
       "2020-12-02 00:00:00-05:00  366.7599  37323404.0    0.002158    0.021466\n",
       "2020-12-03 00:00:00-05:00  366.6698  52905586.0   -0.000246    0.021466\n",
       "2020-12-04 00:00:00-05:00  369.8300  40264568.0    0.008619    0.021466\n",
       "2020-12-07 00:00:00-05:00  369.1200  40456544.0   -0.001920    0.021466\n",
       "2020-12-08 00:00:00-05:00  370.1599  32702217.0    0.002817    0.021466\n",
       "2020-12-09 00:00:00-05:00  366.8900  60700254.0   -0.008834    0.021466\n",
       "2020-12-10 00:00:00-05:00  366.7200  47851654.0   -0.000463    0.021466\n",
       "2020-12-11 00:00:00-05:00  366.2800  47917103.0   -0.001200    0.021466\n",
       "2020-12-14 00:00:00-05:00  364.6100  54732478.0   -0.004559    0.021466\n",
       "2020-12-15 00:00:00-05:00  369.5700  50997562.0    0.013604    0.021466\n",
       "2020-12-16 00:00:00-05:00  370.1400  47524603.0    0.001542    0.021466\n",
       "2020-12-17 00:00:00-05:00  372.2100  50863245.0    0.005592    0.021466\n",
       "2020-12-18 00:00:00-05:00  369.1300  89156141.0   -0.008275    0.021466\n",
       "2020-12-21 00:00:00-05:00  367.9300  73946581.0   -0.003251    0.021466\n",
       "2020-12-22 00:00:00-05:00  367.2200  41116443.0   -0.001930    0.021466\n",
       "2020-12-23 00:00:00-05:00  367.5300  37537811.0    0.000844    0.021466\n",
       "2020-12-24 00:00:00-05:00  368.9899  21047937.0    0.003972    0.021466\n",
       "2020-12-28 00:00:00-05:00  372.1400  31589494.0    0.008537    0.021466\n",
       "2020-12-29 00:00:00-05:00  371.4800  45214280.0   -0.001774    0.021466\n",
       "2020-12-30 00:00:00-05:00  371.9300  40295732.0    0.001211    0.021466\n",
       "2020-12-31 00:00:00-05:00  373.8500  52720911.0    0.005162    0.021466\n",
       "2021-01-04 00:00:00-05:00  368.8500  92938087.0   -0.013374    0.021466\n",
       "2021-01-05 00:00:00-05:00  371.3200  53668865.0    0.006696    0.021466\n",
       "2021-01-06 00:00:00-05:00  373.5300  91989131.0    0.005952    0.021466\n",
       "2021-01-07 00:00:00-05:00  379.0600  58862006.0    0.014805    0.021466\n",
       "2021-01-08 00:00:00-05:00  381.2400  60275466.0    0.005751    0.021466"
      ],
      "text/html": "<div>\n<style scoped>\n    .dataframe tbody tr th:only-of-type {\n        vertical-align: middle;\n    }\n\n    .dataframe tbody tr th {\n        vertical-align: top;\n    }\n\n    .dataframe thead th {\n        text-align: right;\n    }\n</style>\n<table border=\"1\" class=\"dataframe\">\n  <thead>\n    <tr style=\"text-align: right;\">\n      <th></th>\n      <th>close</th>\n      <th>volume</th>\n      <th>pct_change</th>\n      <th>volatility</th>\n    </tr>\n    <tr>\n      <th>time</th>\n      <th></th>\n      <th></th>\n      <th></th>\n      <th></th>\n    </tr>\n  </thead>\n  <tbody>\n    <tr>\n      <th>2020-11-25 00:00:00-05:00</th>\n      <td>362.6500</td>\n      <td>35309156.0</td>\n      <td>-0.001487</td>\n      <td>0.021466</td>\n    </tr>\n    <tr>\n      <th>2020-11-27 00:00:00-05:00</th>\n      <td>363.6500</td>\n      <td>46840189.0</td>\n      <td>0.002757</td>\n      <td>0.021466</td>\n    </tr>\n    <tr>\n      <th>2020-11-30 00:00:00-05:00</th>\n      <td>362.0000</td>\n      <td>67154075.0</td>\n      <td>-0.004537</td>\n      <td>0.021466</td>\n    </tr>\n    <tr>\n      <th>2020-12-01 00:00:00-05:00</th>\n      <td>365.9700</td>\n      <td>64527332.0</td>\n      <td>0.010967</td>\n      <td>0.021466</td>\n    </tr>\n    <tr>\n      <th>2020-12-02 00:00:00-05:00</th>\n      <td>366.7599</td>\n      <td>37323404.0</td>\n      <td>0.002158</td>\n      <td>0.021466</td>\n    </tr>\n    <tr>\n      <th>2020-12-03 00:00:00-05:00</th>\n      <td>366.6698</td>\n      <td>52905586.0</td>\n      <td>-0.000246</td>\n      <td>0.021466</td>\n    </tr>\n    <tr>\n      <th>2020-12-04 00:00:00-05:00</th>\n      <td>369.8300</td>\n      <td>40264568.0</td>\n      <td>0.008619</td>\n      <td>0.021466</td>\n    </tr>\n    <tr>\n      <th>2020-12-07 00:00:00-05:00</th>\n      <td>369.1200</td>\n      <td>40456544.0</td>\n      <td>-0.001920</td>\n      <td>0.021466</td>\n    </tr>\n    <tr>\n      <th>2020-12-08 00:00:00-05:00</th>\n      <td>370.1599</td>\n      <td>32702217.0</td>\n      <td>0.002817</td>\n      <td>0.021466</td>\n    </tr>\n    <tr>\n      <th>2020-12-09 00:00:00-05:00</th>\n      <td>366.8900</td>\n      <td>60700254.0</td>\n      <td>-0.008834</td>\n      <td>0.021466</td>\n    </tr>\n    <tr>\n      <th>2020-12-10 00:00:00-05:00</th>\n      <td>366.7200</td>\n      <td>47851654.0</td>\n      <td>-0.000463</td>\n      <td>0.021466</td>\n    </tr>\n    <tr>\n      <th>2020-12-11 00:00:00-05:00</th>\n      <td>366.2800</td>\n      <td>47917103.0</td>\n      <td>-0.001200</td>\n      <td>0.021466</td>\n    </tr>\n    <tr>\n      <th>2020-12-14 00:00:00-05:00</th>\n      <td>364.6100</td>\n      <td>54732478.0</td>\n      <td>-0.004559</td>\n      <td>0.021466</td>\n    </tr>\n    <tr>\n      <th>2020-12-15 00:00:00-05:00</th>\n      <td>369.5700</td>\n      <td>50997562.0</td>\n      <td>0.013604</td>\n      <td>0.021466</td>\n    </tr>\n    <tr>\n      <th>2020-12-16 00:00:00-05:00</th>\n      <td>370.1400</td>\n      <td>47524603.0</td>\n      <td>0.001542</td>\n      <td>0.021466</td>\n    </tr>\n    <tr>\n      <th>2020-12-17 00:00:00-05:00</th>\n      <td>372.2100</td>\n      <td>50863245.0</td>\n      <td>0.005592</td>\n      <td>0.021466</td>\n    </tr>\n    <tr>\n      <th>2020-12-18 00:00:00-05:00</th>\n      <td>369.1300</td>\n      <td>89156141.0</td>\n      <td>-0.008275</td>\n      <td>0.021466</td>\n    </tr>\n    <tr>\n      <th>2020-12-21 00:00:00-05:00</th>\n      <td>367.9300</td>\n      <td>73946581.0</td>\n      <td>-0.003251</td>\n      <td>0.021466</td>\n    </tr>\n    <tr>\n      <th>2020-12-22 00:00:00-05:00</th>\n      <td>367.2200</td>\n      <td>41116443.0</td>\n      <td>-0.001930</td>\n      <td>0.021466</td>\n    </tr>\n    <tr>\n      <th>2020-12-23 00:00:00-05:00</th>\n      <td>367.5300</td>\n      <td>37537811.0</td>\n      <td>0.000844</td>\n      <td>0.021466</td>\n    </tr>\n    <tr>\n      <th>2020-12-24 00:00:00-05:00</th>\n      <td>368.9899</td>\n      <td>21047937.0</td>\n      <td>0.003972</td>\n      <td>0.021466</td>\n    </tr>\n    <tr>\n      <th>2020-12-28 00:00:00-05:00</th>\n      <td>372.1400</td>\n      <td>31589494.0</td>\n      <td>0.008537</td>\n      <td>0.021466</td>\n    </tr>\n    <tr>\n      <th>2020-12-29 00:00:00-05:00</th>\n      <td>371.4800</td>\n      <td>45214280.0</td>\n      <td>-0.001774</td>\n      <td>0.021466</td>\n    </tr>\n    <tr>\n      <th>2020-12-30 00:00:00-05:00</th>\n      <td>371.9300</td>\n      <td>40295732.0</td>\n      <td>0.001211</td>\n      <td>0.021466</td>\n    </tr>\n    <tr>\n      <th>2020-12-31 00:00:00-05:00</th>\n      <td>373.8500</td>\n      <td>52720911.0</td>\n      <td>0.005162</td>\n      <td>0.021466</td>\n    </tr>\n    <tr>\n      <th>2021-01-04 00:00:00-05:00</th>\n      <td>368.8500</td>\n      <td>92938087.0</td>\n      <td>-0.013374</td>\n      <td>0.021466</td>\n    </tr>\n    <tr>\n      <th>2021-01-05 00:00:00-05:00</th>\n      <td>371.3200</td>\n      <td>53668865.0</td>\n      <td>0.006696</td>\n      <td>0.021466</td>\n    </tr>\n    <tr>\n      <th>2021-01-06 00:00:00-05:00</th>\n      <td>373.5300</td>\n      <td>91989131.0</td>\n      <td>0.005952</td>\n      <td>0.021466</td>\n    </tr>\n    <tr>\n      <th>2021-01-07 00:00:00-05:00</th>\n      <td>379.0600</td>\n      <td>58862006.0</td>\n      <td>0.014805</td>\n      <td>0.021466</td>\n    </tr>\n    <tr>\n      <th>2021-01-08 00:00:00-05:00</th>\n      <td>381.2400</td>\n      <td>60275466.0</td>\n      <td>0.005751</td>\n      <td>0.021466</td>\n    </tr>\n  </tbody>\n</table>\n</div>"
     },
     "metadata": {},
     "execution_count": 12
    }
   ],
   "source": [
    "df_spy.tail(30)"
   ]
  },
  {
   "cell_type": "code",
   "execution_count": null,
   "metadata": {},
   "outputs": [],
   "source": []
  }
 ]
}