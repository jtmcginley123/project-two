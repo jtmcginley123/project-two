{
 "metadata": {
  "language_info": {
   "codemirror_mode": {
    "name": "ipython",
    "version": 3
   },
   "file_extension": ".py",
   "mimetype": "text/x-python",
   "name": "python",
   "nbconvert_exporter": "python",
   "pygments_lexer": "ipython3",
   "version": "3.8.3-final"
  },
  "orig_nbformat": 2,
  "kernelspec": {
   "name": "python3",
   "display_name": "Python 3",
   "language": "python"
  }
 },
 "nbformat": 4,
 "nbformat_minor": 2,
 "cells": [
  {
   "cell_type": "code",
   "execution_count": 187,
   "metadata": {},
   "outputs": [],
   "source": [
    "import requests\n",
    "from dotenv import load_dotenv\n",
    "import os \n",
    "import pandas as pd\n",
    "import numpy as np\n",
    "import alpaca_trade_api as tradeapi\n",
    "# from MCForecastTools import MCSimulation\n",
    "import json\n",
    "import matplotlib.pyplot as plt"
   ]
  },
  {
   "cell_type": "code",
   "execution_count": 188,
   "metadata": {},
   "outputs": [
    {
     "output_type": "execute_result",
     "data": {
      "text/plain": [
       "True"
      ]
     },
     "metadata": {},
     "execution_count": 188
    }
   ],
   "source": [
    "load_dotenv()"
   ]
  },
  {
   "cell_type": "code",
   "execution_count": 189,
   "metadata": {},
   "outputs": [],
   "source": [
    "# Set Alpaca API key and secret\n",
    "alpaca_api_key = os.getenv(\"ALPACA_API_KEY\")\n",
    "alpaca_secret_key = os.getenv(\"ALPACA_SECRET_KEY\")\n",
    "\n",
    "# Create the Alpaca API object\n",
    "# YOUR CODE HERE!\n",
    "alpaca = tradeapi.REST(\n",
    "    alpaca_api_key,\n",
    "    alpaca_secret_key,\n",
    "    api_version= \"v2\")"
   ]
  },
  {
   "cell_type": "code",
   "execution_count": 190,
   "metadata": {},
   "outputs": [],
   "source": [
    "current_date = pd.Timestamp(\"2020-01-05\", tz=\"America/New_York\").isoformat()\n",
    "\n",
    "tickers = [\"SPY\", \"AAPL\", \"TSLA\", \"GE\", \"F\", \"MSFT\",\"NIO\", \"PFE\", \"AMZN\",\"AAL\",\"DIS\",\"PLUG\"]\n",
    "\n",
    "\n",
    "timeframe = \"1D\""
   ]
  },
  {
   "cell_type": "code",
   "execution_count": 191,
   "metadata": {},
   "outputs": [],
   "source": [
    "df_spy = alpaca.get_barset(\n",
    "    tickers[0],\n",
    "    timeframe,\n",
    "    start=current_date\n",
    ").df\n"
   ]
  },
  {
   "cell_type": "code",
   "execution_count": 192,
   "metadata": {
    "tags": []
   },
   "outputs": [],
   "source": [
    "df_spy = df_spy.T.reset_index(drop=True).T"
   ]
  },
  {
   "cell_type": "code",
   "execution_count": 193,
   "metadata": {},
   "outputs": [],
   "source": [
    "df_spy_cv = df_spy.rename(columns={3:\"spy_close\", 4:\"spy_volume\"})"
   ]
  },
  {
   "cell_type": "code",
   "execution_count": 194,
   "metadata": {},
   "outputs": [],
   "source": [
    "# spy_cv = df_spy_cv[3,4]\n",
    "# print(df_spy_cv.columns)\n",
    "spy_df = df_spy_cv.loc[:,['spy_close', 'spy_volume']]"
   ]
  },
  {
   "cell_type": "code",
   "execution_count": 195,
   "metadata": {},
   "outputs": [],
   "source": [
    "df_aapl = alpaca.get_barset(\n",
    "    tickers[1],\n",
    "    timeframe,\n",
    "    start=current_date\n",
    ").df"
   ]
  },
  {
   "cell_type": "code",
   "execution_count": 196,
   "metadata": {},
   "outputs": [],
   "source": [
    "df_aapl = df_aapl.T.reset_index(drop=True).T"
   ]
  },
  {
   "cell_type": "code",
   "execution_count": 197,
   "metadata": {},
   "outputs": [],
   "source": [
    "df_aapl_cv = df_aapl.rename(columns={3:\"aapl_close\", 4:\"aapl_volume\"})"
   ]
  },
  {
   "cell_type": "code",
   "execution_count": 198,
   "metadata": {},
   "outputs": [],
   "source": [
    "aapl_df = df_aapl_cv.loc[:,['aapl_close', 'aapl_volume']]"
   ]
  },
  {
   "cell_type": "code",
   "execution_count": 199,
   "metadata": {},
   "outputs": [],
   "source": [
    "df_tsla = alpaca.get_barset(\n",
    "    tickers[2],\n",
    "    timeframe,\n",
    "    start=current_date\n",
    ").df"
   ]
  },
  {
   "cell_type": "code",
   "execution_count": 200,
   "metadata": {},
   "outputs": [],
   "source": [
    "df_tsla = df_tsla.T.reset_index(drop=True).T"
   ]
  },
  {
   "cell_type": "code",
   "execution_count": 201,
   "metadata": {},
   "outputs": [],
   "source": [
    "df_tsla_cv = df_tsla.rename(columns={3:\"tsla_close\", 4:\"tsla_volume\"})"
   ]
  },
  {
   "cell_type": "code",
   "execution_count": 202,
   "metadata": {},
   "outputs": [],
   "source": [
    "tsla_df = df_tsla_cv.loc[:,['tsla_close', 'tsla_volume']]"
   ]
  },
  {
   "cell_type": "code",
   "execution_count": 203,
   "metadata": {},
   "outputs": [],
   "source": [
    "df_ge = alpaca.get_barset(\n",
    "    tickers[3],\n",
    "    timeframe,\n",
    "    start=current_date\n",
    ").df"
   ]
  },
  {
   "cell_type": "code",
   "execution_count": 204,
   "metadata": {},
   "outputs": [],
   "source": [
    "df_ge = df_ge.T.reset_index(drop=True).T"
   ]
  },
  {
   "cell_type": "code",
   "execution_count": 205,
   "metadata": {},
   "outputs": [],
   "source": [
    "df_ge_cv = df_ge.rename(columns={3:\"ge_close\", 4:\"ge_volume\"})"
   ]
  },
  {
   "cell_type": "code",
   "execution_count": 206,
   "metadata": {},
   "outputs": [],
   "source": [
    "ge_df = df_ge_cv.loc[:,['ge_close', 'ge_volume']]"
   ]
  },
  {
   "cell_type": "code",
   "execution_count": 207,
   "metadata": {},
   "outputs": [],
   "source": [
    "df_f = alpaca.get_barset(\n",
    "    tickers[4],\n",
    "    timeframe,\n",
    "    start=current_date\n",
    ").df"
   ]
  },
  {
   "cell_type": "code",
   "execution_count": 208,
   "metadata": {},
   "outputs": [],
   "source": [
    "df_f = df_f.T.reset_index(drop=True).T"
   ]
  },
  {
   "cell_type": "code",
   "execution_count": 209,
   "metadata": {},
   "outputs": [],
   "source": [
    "df_f_cv = df_f.rename(columns={3:\"f_close\", 4:\"f_volume\"})"
   ]
  },
  {
   "cell_type": "code",
   "execution_count": 210,
   "metadata": {},
   "outputs": [],
   "source": [
    "f_df = df_f_cv.loc[:,['f_close', 'f_volume']]"
   ]
  },
  {
   "cell_type": "code",
   "execution_count": 211,
   "metadata": {},
   "outputs": [],
   "source": [
    "df_msft = alpaca.get_barset(\n",
    "    tickers[5],\n",
    "    timeframe,\n",
    "    start=current_date\n",
    ").df"
   ]
  },
  {
   "cell_type": "code",
   "execution_count": 212,
   "metadata": {},
   "outputs": [],
   "source": [
    "df_msft = df_msft.T.reset_index(drop=True).T"
   ]
  },
  {
   "cell_type": "code",
   "execution_count": 213,
   "metadata": {},
   "outputs": [],
   "source": [
    "df_msft_cv = df_msft.rename(columns={3:\"msft_close\", 4:\"msft_volume\"})"
   ]
  },
  {
   "cell_type": "code",
   "execution_count": 214,
   "metadata": {},
   "outputs": [],
   "source": [
    "msft_df = df_msft_cv.loc[:,['msft_close', 'msft_volume']]"
   ]
  },
  {
   "cell_type": "code",
   "execution_count": 215,
   "metadata": {},
   "outputs": [],
   "source": [
    "df_nio = alpaca.get_barset(\n",
    "    tickers[6],\n",
    "    timeframe,\n",
    "    start=current_date\n",
    ").df"
   ]
  },
  {
   "cell_type": "code",
   "execution_count": 216,
   "metadata": {},
   "outputs": [],
   "source": [
    "df_nio = df_nio.T.reset_index(drop=True).T"
   ]
  },
  {
   "cell_type": "code",
   "execution_count": 217,
   "metadata": {},
   "outputs": [],
   "source": [
    "df_nio_cv = df_nio.rename(columns={3:\"nio_close\", 4:\"nio_volume\"})"
   ]
  },
  {
   "cell_type": "code",
   "execution_count": 218,
   "metadata": {},
   "outputs": [],
   "source": [
    "nio_df = df_nio_cv.loc[:,['nio_close', 'nio_volume']]"
   ]
  },
  {
   "cell_type": "code",
   "execution_count": 219,
   "metadata": {},
   "outputs": [],
   "source": [
    "df_pfe = alpaca.get_barset(\n",
    "    tickers[7],\n",
    "    timeframe,\n",
    "    start=current_date\n",
    ").df"
   ]
  },
  {
   "cell_type": "code",
   "execution_count": 220,
   "metadata": {},
   "outputs": [],
   "source": [
    "df_pfe = df_pfe.T.reset_index(drop=True).T"
   ]
  },
  {
   "cell_type": "code",
   "execution_count": 221,
   "metadata": {},
   "outputs": [],
   "source": [
    "df_pfe_cv = df_pfe.rename(columns={3:\"pfe_close\", 4:\"pfe_volume\"})"
   ]
  },
  {
   "cell_type": "code",
   "execution_count": 222,
   "metadata": {},
   "outputs": [],
   "source": [
    "pfe_df = df_pfe_cv.loc[:,['pfe_close', 'pfe_volume']]"
   ]
  },
  {
   "cell_type": "code",
   "execution_count": 223,
   "metadata": {},
   "outputs": [],
   "source": [
    "df_amzn = alpaca.get_barset(\n",
    "    tickers[8],\n",
    "    timeframe,\n",
    "    start=current_date\n",
    ").df"
   ]
  },
  {
   "cell_type": "code",
   "execution_count": 224,
   "metadata": {},
   "outputs": [],
   "source": [
    "df_amzn = df_amzn.T.reset_index(drop=True).T"
   ]
  },
  {
   "cell_type": "code",
   "execution_count": 225,
   "metadata": {},
   "outputs": [],
   "source": [
    "df_amzn_cv = df_amzn.rename(columns={3:\"amzn_close\", 4:\"amzn_volume\"})"
   ]
  },
  {
   "cell_type": "code",
   "execution_count": 226,
   "metadata": {},
   "outputs": [],
   "source": [
    "amzn_df = df_amzn_cv.loc[:,['amzn_close', 'amzn_volume']]"
   ]
  },
  {
   "cell_type": "code",
   "execution_count": 227,
   "metadata": {},
   "outputs": [],
   "source": [
    "df_aal = alpaca.get_barset(\n",
    "    tickers[9],\n",
    "    timeframe,\n",
    "    start=current_date\n",
    ").df"
   ]
  },
  {
   "cell_type": "code",
   "execution_count": 228,
   "metadata": {},
   "outputs": [],
   "source": [
    "df_aal = df_aal.T.reset_index(drop=True).T"
   ]
  },
  {
   "cell_type": "code",
   "execution_count": 229,
   "metadata": {},
   "outputs": [],
   "source": [
    "df_aal_cv = df_aal.rename(columns={3:\"aal_close\", 4:\"aal_volume\"})"
   ]
  },
  {
   "cell_type": "code",
   "execution_count": 230,
   "metadata": {},
   "outputs": [],
   "source": [
    "aal_df = df_aal_cv.loc[:,['aal_close', 'aal_volume']]"
   ]
  },
  {
   "cell_type": "code",
   "execution_count": 231,
   "metadata": {},
   "outputs": [],
   "source": [
    "df_dis = alpaca.get_barset(\n",
    "    tickers[10],\n",
    "    timeframe,\n",
    "    start=current_date\n",
    ").df"
   ]
  },
  {
   "cell_type": "code",
   "execution_count": 232,
   "metadata": {},
   "outputs": [],
   "source": [
    "df_dis = df_dis.T.reset_index(drop=True).T"
   ]
  },
  {
   "cell_type": "code",
   "execution_count": 233,
   "metadata": {},
   "outputs": [],
   "source": [
    "df_dis_cv = df_dis.rename(columns={3:\"dis_close\", 4:\"dis_volume\"})"
   ]
  },
  {
   "cell_type": "code",
   "execution_count": 234,
   "metadata": {},
   "outputs": [],
   "source": [
    "dis_df = df_dis_cv.loc[:,['dis_close', 'dis_volume']]"
   ]
  },
  {
   "cell_type": "code",
   "execution_count": 235,
   "metadata": {},
   "outputs": [],
   "source": [
    "df_plug = alpaca.get_barset(\n",
    "    tickers[11],\n",
    "    timeframe,\n",
    "    start=current_date\n",
    ").df"
   ]
  },
  {
   "cell_type": "code",
   "execution_count": 236,
   "metadata": {},
   "outputs": [],
   "source": [
    "df_plug = df_plug.T.reset_index(drop=True).T"
   ]
  },
  {
   "cell_type": "code",
   "execution_count": 237,
   "metadata": {},
   "outputs": [],
   "source": [
    "df_plug_cv = df_plug.rename(columns={3:\"plug_close\", 4:\"plug_volume\"})"
   ]
  },
  {
   "cell_type": "code",
   "execution_count": 186,
   "metadata": {},
   "outputs": [
    {
     "output_type": "execute_result",
     "data": {
      "text/plain": [
       "                           plug_close  plug_volume\n",
       "2020-01-06 00:00:00-05:00      3.8150   37186905.0\n",
       "2020-01-07 00:00:00-05:00      3.8050   21453070.0\n",
       "2020-01-08 00:00:00-05:00      4.0675   29991957.0\n",
       "2020-01-09 00:00:00-05:00      4.0450   16853768.0\n",
       "2020-01-10 00:00:00-05:00      4.1400   13613412.0\n",
       "...                               ...          ...\n",
       "2021-01-04 00:00:00-05:00     32.1800   28702974.0\n",
       "2021-01-05 00:00:00-05:00     32.5500   17454490.0\n",
       "2021-01-06 00:00:00-05:00     35.0000   41482804.0\n",
       "2021-01-07 00:00:00-05:00     47.3000   89346497.0\n",
       "2021-01-08 00:00:00-05:00     53.7788   96514508.0\n",
       "\n",
       "[256 rows x 2 columns]"
      ],
      "text/html": "<div>\n<style scoped>\n    .dataframe tbody tr th:only-of-type {\n        vertical-align: middle;\n    }\n\n    .dataframe tbody tr th {\n        vertical-align: top;\n    }\n\n    .dataframe thead th {\n        text-align: right;\n    }\n</style>\n<table border=\"1\" class=\"dataframe\">\n  <thead>\n    <tr style=\"text-align: right;\">\n      <th></th>\n      <th>plug_close</th>\n      <th>plug_volume</th>\n    </tr>\n  </thead>\n  <tbody>\n    <tr>\n      <th>2020-01-06 00:00:00-05:00</th>\n      <td>3.8150</td>\n      <td>37186905.0</td>\n    </tr>\n    <tr>\n      <th>2020-01-07 00:00:00-05:00</th>\n      <td>3.8050</td>\n      <td>21453070.0</td>\n    </tr>\n    <tr>\n      <th>2020-01-08 00:00:00-05:00</th>\n      <td>4.0675</td>\n      <td>29991957.0</td>\n    </tr>\n    <tr>\n      <th>2020-01-09 00:00:00-05:00</th>\n      <td>4.0450</td>\n      <td>16853768.0</td>\n    </tr>\n    <tr>\n      <th>2020-01-10 00:00:00-05:00</th>\n      <td>4.1400</td>\n      <td>13613412.0</td>\n    </tr>\n    <tr>\n      <th>...</th>\n      <td>...</td>\n      <td>...</td>\n    </tr>\n    <tr>\n      <th>2021-01-04 00:00:00-05:00</th>\n      <td>32.1800</td>\n      <td>28702974.0</td>\n    </tr>\n    <tr>\n      <th>2021-01-05 00:00:00-05:00</th>\n      <td>32.5500</td>\n      <td>17454490.0</td>\n    </tr>\n    <tr>\n      <th>2021-01-06 00:00:00-05:00</th>\n      <td>35.0000</td>\n      <td>41482804.0</td>\n    </tr>\n    <tr>\n      <th>2021-01-07 00:00:00-05:00</th>\n      <td>47.3000</td>\n      <td>89346497.0</td>\n    </tr>\n    <tr>\n      <th>2021-01-08 00:00:00-05:00</th>\n      <td>53.7788</td>\n      <td>96514508.0</td>\n    </tr>\n  </tbody>\n</table>\n<p>256 rows × 2 columns</p>\n</div>"
     },
     "metadata": {},
     "execution_count": 186
    }
   ],
   "source": [
    "plug_df = df_plug_cv.loc[:,['plug_close', 'plug_volume']]"
   ]
  },
  {
   "cell_type": "code",
   "execution_count": 238,
   "metadata": {},
   "outputs": [
    {
     "output_type": "execute_result",
     "data": {
      "text/plain": [
       "                           spy_close  spy_volume\n",
       "2020-01-06 00:00:00-05:00     323.67  41271531.0\n",
       "2020-01-07 00:00:00-05:00     322.73  33333873.0\n",
       "2020-01-08 00:00:00-05:00     324.42  53033838.0\n",
       "2020-01-09 00:00:00-05:00     326.62  40652148.0\n",
       "2020-01-10 00:00:00-05:00     325.70  42585254.0\n",
       "...                              ...         ...\n",
       "2021-01-04 00:00:00-05:00     368.85  92938087.0\n",
       "2021-01-05 00:00:00-05:00     371.32  53668865.0\n",
       "2021-01-06 00:00:00-05:00     373.53  91989131.0\n",
       "2021-01-07 00:00:00-05:00     379.06  58862006.0\n",
       "2021-01-08 00:00:00-05:00     381.24  60275466.0\n",
       "\n",
       "[256 rows x 2 columns]"
      ],
      "text/html": "<div>\n<style scoped>\n    .dataframe tbody tr th:only-of-type {\n        vertical-align: middle;\n    }\n\n    .dataframe tbody tr th {\n        vertical-align: top;\n    }\n\n    .dataframe thead th {\n        text-align: right;\n    }\n</style>\n<table border=\"1\" class=\"dataframe\">\n  <thead>\n    <tr style=\"text-align: right;\">\n      <th></th>\n      <th>spy_close</th>\n      <th>spy_volume</th>\n    </tr>\n  </thead>\n  <tbody>\n    <tr>\n      <th>2020-01-06 00:00:00-05:00</th>\n      <td>323.67</td>\n      <td>41271531.0</td>\n    </tr>\n    <tr>\n      <th>2020-01-07 00:00:00-05:00</th>\n      <td>322.73</td>\n      <td>33333873.0</td>\n    </tr>\n    <tr>\n      <th>2020-01-08 00:00:00-05:00</th>\n      <td>324.42</td>\n      <td>53033838.0</td>\n    </tr>\n    <tr>\n      <th>2020-01-09 00:00:00-05:00</th>\n      <td>326.62</td>\n      <td>40652148.0</td>\n    </tr>\n    <tr>\n      <th>2020-01-10 00:00:00-05:00</th>\n      <td>325.70</td>\n      <td>42585254.0</td>\n    </tr>\n    <tr>\n      <th>...</th>\n      <td>...</td>\n      <td>...</td>\n    </tr>\n    <tr>\n      <th>2021-01-04 00:00:00-05:00</th>\n      <td>368.85</td>\n      <td>92938087.0</td>\n    </tr>\n    <tr>\n      <th>2021-01-05 00:00:00-05:00</th>\n      <td>371.32</td>\n      <td>53668865.0</td>\n    </tr>\n    <tr>\n      <th>2021-01-06 00:00:00-05:00</th>\n      <td>373.53</td>\n      <td>91989131.0</td>\n    </tr>\n    <tr>\n      <th>2021-01-07 00:00:00-05:00</th>\n      <td>379.06</td>\n      <td>58862006.0</td>\n    </tr>\n    <tr>\n      <th>2021-01-08 00:00:00-05:00</th>\n      <td>381.24</td>\n      <td>60275466.0</td>\n    </tr>\n  </tbody>\n</table>\n<p>256 rows × 2 columns</p>\n</div>"
     },
     "metadata": {},
     "execution_count": 238
    }
   ],
   "source": [
    "spy_df"
   ]
  },
  {
   "cell_type": "code",
   "execution_count": 239,
   "metadata": {},
   "outputs": [
    {
     "output_type": "execute_result",
     "data": {
      "text/plain": [
       "                           aapl_close  aapl_volume\n",
       "2020-01-06 00:00:00-05:00      299.78   27487207.0\n",
       "2020-01-07 00:00:00-05:00      298.27   23877417.0\n",
       "2020-01-08 00:00:00-05:00      303.15   29547763.0\n",
       "2020-01-09 00:00:00-05:00      309.71   39240341.0\n",
       "2020-01-10 00:00:00-05:00      310.37   32981826.0\n",
       "...                               ...          ...\n",
       "2021-01-04 00:00:00-05:00      129.41  123353442.0\n",
       "2021-01-05 00:00:00-05:00      130.95   85139362.0\n",
       "2021-01-06 00:00:00-05:00      126.58  142064548.0\n",
       "2021-01-07 00:00:00-05:00      130.85   95314687.0\n",
       "2021-01-08 00:00:00-05:00      131.99   93211863.0\n",
       "\n",
       "[256 rows x 2 columns]"
      ],
      "text/html": "<div>\n<style scoped>\n    .dataframe tbody tr th:only-of-type {\n        vertical-align: middle;\n    }\n\n    .dataframe tbody tr th {\n        vertical-align: top;\n    }\n\n    .dataframe thead th {\n        text-align: right;\n    }\n</style>\n<table border=\"1\" class=\"dataframe\">\n  <thead>\n    <tr style=\"text-align: right;\">\n      <th></th>\n      <th>aapl_close</th>\n      <th>aapl_volume</th>\n    </tr>\n  </thead>\n  <tbody>\n    <tr>\n      <th>2020-01-06 00:00:00-05:00</th>\n      <td>299.78</td>\n      <td>27487207.0</td>\n    </tr>\n    <tr>\n      <th>2020-01-07 00:00:00-05:00</th>\n      <td>298.27</td>\n      <td>23877417.0</td>\n    </tr>\n    <tr>\n      <th>2020-01-08 00:00:00-05:00</th>\n      <td>303.15</td>\n      <td>29547763.0</td>\n    </tr>\n    <tr>\n      <th>2020-01-09 00:00:00-05:00</th>\n      <td>309.71</td>\n      <td>39240341.0</td>\n    </tr>\n    <tr>\n      <th>2020-01-10 00:00:00-05:00</th>\n      <td>310.37</td>\n      <td>32981826.0</td>\n    </tr>\n    <tr>\n      <th>...</th>\n      <td>...</td>\n      <td>...</td>\n    </tr>\n    <tr>\n      <th>2021-01-04 00:00:00-05:00</th>\n      <td>129.41</td>\n      <td>123353442.0</td>\n    </tr>\n    <tr>\n      <th>2021-01-05 00:00:00-05:00</th>\n      <td>130.95</td>\n      <td>85139362.0</td>\n    </tr>\n    <tr>\n      <th>2021-01-06 00:00:00-05:00</th>\n      <td>126.58</td>\n      <td>142064548.0</td>\n    </tr>\n    <tr>\n      <th>2021-01-07 00:00:00-05:00</th>\n      <td>130.85</td>\n      <td>95314687.0</td>\n    </tr>\n    <tr>\n      <th>2021-01-08 00:00:00-05:00</th>\n      <td>131.99</td>\n      <td>93211863.0</td>\n    </tr>\n  </tbody>\n</table>\n<p>256 rows × 2 columns</p>\n</div>"
     },
     "metadata": {},
     "execution_count": 239
    }
   ],
   "source": [
    "aapl_df"
   ]
  },
  {
   "cell_type": "code",
   "execution_count": 240,
   "metadata": {},
   "outputs": [
    {
     "output_type": "execute_result",
     "data": {
      "text/plain": [
       "                           tsla_close  tsla_volume\n",
       "2020-01-06 00:00:00-05:00    451.4001    9807049.0\n",
       "2020-01-07 00:00:00-05:00    469.1700   16859537.0\n",
       "2020-01-08 00:00:00-05:00    492.0900   29804104.0\n",
       "2020-01-09 00:00:00-05:00    481.4900   26901507.0\n",
       "2020-01-10 00:00:00-05:00    477.9600   12365563.0\n",
       "...                               ...          ...\n",
       "2021-01-04 00:00:00-05:00    729.7500   45293360.0\n",
       "2021-01-05 00:00:00-05:00    735.0550   28402584.0\n",
       "2021-01-06 00:00:00-05:00    756.4600   41989335.0\n",
       "2021-01-07 00:00:00-05:00    816.2400   48080256.0\n",
       "2021-01-08 00:00:00-05:00    880.0300   71814487.0\n",
       "\n",
       "[256 rows x 2 columns]"
      ],
      "text/html": "<div>\n<style scoped>\n    .dataframe tbody tr th:only-of-type {\n        vertical-align: middle;\n    }\n\n    .dataframe tbody tr th {\n        vertical-align: top;\n    }\n\n    .dataframe thead th {\n        text-align: right;\n    }\n</style>\n<table border=\"1\" class=\"dataframe\">\n  <thead>\n    <tr style=\"text-align: right;\">\n      <th></th>\n      <th>tsla_close</th>\n      <th>tsla_volume</th>\n    </tr>\n  </thead>\n  <tbody>\n    <tr>\n      <th>2020-01-06 00:00:00-05:00</th>\n      <td>451.4001</td>\n      <td>9807049.0</td>\n    </tr>\n    <tr>\n      <th>2020-01-07 00:00:00-05:00</th>\n      <td>469.1700</td>\n      <td>16859537.0</td>\n    </tr>\n    <tr>\n      <th>2020-01-08 00:00:00-05:00</th>\n      <td>492.0900</td>\n      <td>29804104.0</td>\n    </tr>\n    <tr>\n      <th>2020-01-09 00:00:00-05:00</th>\n      <td>481.4900</td>\n      <td>26901507.0</td>\n    </tr>\n    <tr>\n      <th>2020-01-10 00:00:00-05:00</th>\n      <td>477.9600</td>\n      <td>12365563.0</td>\n    </tr>\n    <tr>\n      <th>...</th>\n      <td>...</td>\n      <td>...</td>\n    </tr>\n    <tr>\n      <th>2021-01-04 00:00:00-05:00</th>\n      <td>729.7500</td>\n      <td>45293360.0</td>\n    </tr>\n    <tr>\n      <th>2021-01-05 00:00:00-05:00</th>\n      <td>735.0550</td>\n      <td>28402584.0</td>\n    </tr>\n    <tr>\n      <th>2021-01-06 00:00:00-05:00</th>\n      <td>756.4600</td>\n      <td>41989335.0</td>\n    </tr>\n    <tr>\n      <th>2021-01-07 00:00:00-05:00</th>\n      <td>816.2400</td>\n      <td>48080256.0</td>\n    </tr>\n    <tr>\n      <th>2021-01-08 00:00:00-05:00</th>\n      <td>880.0300</td>\n      <td>71814487.0</td>\n    </tr>\n  </tbody>\n</table>\n<p>256 rows × 2 columns</p>\n</div>"
     },
     "metadata": {},
     "execution_count": 240
    }
   ],
   "source": [
    "tsla_df"
   ]
  },
  {
   "cell_type": "code",
   "execution_count": 241,
   "metadata": {},
   "outputs": [
    {
     "output_type": "execute_result",
     "data": {
      "text/plain": [
       "                           ge_close    ge_volume\n",
       "2020-01-06 00:00:00-05:00    12.140   88077970.0\n",
       "2020-01-07 00:00:00-05:00    12.055   60689070.0\n",
       "2020-01-08 00:00:00-05:00    11.930   37395174.0\n",
       "2020-01-09 00:00:00-05:00    11.900   30342442.0\n",
       "2020-01-10 00:00:00-05:00    11.670   50809855.0\n",
       "...                             ...          ...\n",
       "2021-01-04 00:00:00-05:00    10.470   72870935.0\n",
       "2021-01-05 00:00:00-05:00    10.765   79006722.0\n",
       "2021-01-06 00:00:00-05:00    11.360  125493580.0\n",
       "2021-01-07 00:00:00-05:00    11.280   63810500.0\n",
       "2021-01-08 00:00:00-05:00    11.340   66949654.0\n",
       "\n",
       "[256 rows x 2 columns]"
      ],
      "text/html": "<div>\n<style scoped>\n    .dataframe tbody tr th:only-of-type {\n        vertical-align: middle;\n    }\n\n    .dataframe tbody tr th {\n        vertical-align: top;\n    }\n\n    .dataframe thead th {\n        text-align: right;\n    }\n</style>\n<table border=\"1\" class=\"dataframe\">\n  <thead>\n    <tr style=\"text-align: right;\">\n      <th></th>\n      <th>ge_close</th>\n      <th>ge_volume</th>\n    </tr>\n  </thead>\n  <tbody>\n    <tr>\n      <th>2020-01-06 00:00:00-05:00</th>\n      <td>12.140</td>\n      <td>88077970.0</td>\n    </tr>\n    <tr>\n      <th>2020-01-07 00:00:00-05:00</th>\n      <td>12.055</td>\n      <td>60689070.0</td>\n    </tr>\n    <tr>\n      <th>2020-01-08 00:00:00-05:00</th>\n      <td>11.930</td>\n      <td>37395174.0</td>\n    </tr>\n    <tr>\n      <th>2020-01-09 00:00:00-05:00</th>\n      <td>11.900</td>\n      <td>30342442.0</td>\n    </tr>\n    <tr>\n      <th>2020-01-10 00:00:00-05:00</th>\n      <td>11.670</td>\n      <td>50809855.0</td>\n    </tr>\n    <tr>\n      <th>...</th>\n      <td>...</td>\n      <td>...</td>\n    </tr>\n    <tr>\n      <th>2021-01-04 00:00:00-05:00</th>\n      <td>10.470</td>\n      <td>72870935.0</td>\n    </tr>\n    <tr>\n      <th>2021-01-05 00:00:00-05:00</th>\n      <td>10.765</td>\n      <td>79006722.0</td>\n    </tr>\n    <tr>\n      <th>2021-01-06 00:00:00-05:00</th>\n      <td>11.360</td>\n      <td>125493580.0</td>\n    </tr>\n    <tr>\n      <th>2021-01-07 00:00:00-05:00</th>\n      <td>11.280</td>\n      <td>63810500.0</td>\n    </tr>\n    <tr>\n      <th>2021-01-08 00:00:00-05:00</th>\n      <td>11.340</td>\n      <td>66949654.0</td>\n    </tr>\n  </tbody>\n</table>\n<p>256 rows × 2 columns</p>\n</div>"
     },
     "metadata": {},
     "execution_count": 241
    }
   ],
   "source": [
    "ge_df"
   ]
  },
  {
   "cell_type": "code",
   "execution_count": 242,
   "metadata": {},
   "outputs": [
    {
     "output_type": "execute_result",
     "data": {
      "text/plain": [
       "                           f_close    f_volume\n",
       "2020-01-06 00:00:00-05:00   9.1500  31435591.0\n",
       "2020-01-07 00:00:00-05:00   9.2500  35164362.0\n",
       "2020-01-08 00:00:00-05:00   9.2500  39750601.0\n",
       "2020-01-09 00:00:00-05:00   9.2750  35763979.0\n",
       "2020-01-10 00:00:00-05:00   9.2500  32805927.0\n",
       "...                            ...         ...\n",
       "2021-01-04 00:00:00-05:00   8.5200  80476198.0\n",
       "2021-01-05 00:00:00-05:00   8.6450  67535397.0\n",
       "2021-01-06 00:00:00-05:00   8.8422  68520361.0\n",
       "2021-01-07 00:00:00-05:00   9.0500  70837077.0\n",
       "2021-01-08 00:00:00-05:00   9.0000  57267427.0\n",
       "\n",
       "[256 rows x 2 columns]"
      ],
      "text/html": "<div>\n<style scoped>\n    .dataframe tbody tr th:only-of-type {\n        vertical-align: middle;\n    }\n\n    .dataframe tbody tr th {\n        vertical-align: top;\n    }\n\n    .dataframe thead th {\n        text-align: right;\n    }\n</style>\n<table border=\"1\" class=\"dataframe\">\n  <thead>\n    <tr style=\"text-align: right;\">\n      <th></th>\n      <th>f_close</th>\n      <th>f_volume</th>\n    </tr>\n  </thead>\n  <tbody>\n    <tr>\n      <th>2020-01-06 00:00:00-05:00</th>\n      <td>9.1500</td>\n      <td>31435591.0</td>\n    </tr>\n    <tr>\n      <th>2020-01-07 00:00:00-05:00</th>\n      <td>9.2500</td>\n      <td>35164362.0</td>\n    </tr>\n    <tr>\n      <th>2020-01-08 00:00:00-05:00</th>\n      <td>9.2500</td>\n      <td>39750601.0</td>\n    </tr>\n    <tr>\n      <th>2020-01-09 00:00:00-05:00</th>\n      <td>9.2750</td>\n      <td>35763979.0</td>\n    </tr>\n    <tr>\n      <th>2020-01-10 00:00:00-05:00</th>\n      <td>9.2500</td>\n      <td>32805927.0</td>\n    </tr>\n    <tr>\n      <th>...</th>\n      <td>...</td>\n      <td>...</td>\n    </tr>\n    <tr>\n      <th>2021-01-04 00:00:00-05:00</th>\n      <td>8.5200</td>\n      <td>80476198.0</td>\n    </tr>\n    <tr>\n      <th>2021-01-05 00:00:00-05:00</th>\n      <td>8.6450</td>\n      <td>67535397.0</td>\n    </tr>\n    <tr>\n      <th>2021-01-06 00:00:00-05:00</th>\n      <td>8.8422</td>\n      <td>68520361.0</td>\n    </tr>\n    <tr>\n      <th>2021-01-07 00:00:00-05:00</th>\n      <td>9.0500</td>\n      <td>70837077.0</td>\n    </tr>\n    <tr>\n      <th>2021-01-08 00:00:00-05:00</th>\n      <td>9.0000</td>\n      <td>57267427.0</td>\n    </tr>\n  </tbody>\n</table>\n<p>256 rows × 2 columns</p>\n</div>"
     },
     "metadata": {},
     "execution_count": 242
    }
   ],
   "source": [
    "f_df"
   ]
  },
  {
   "cell_type": "code",
   "execution_count": 243,
   "metadata": {},
   "outputs": [
    {
     "output_type": "execute_result",
     "data": {
      "text/plain": [
       "                           msft_close  msft_volume\n",
       "2020-01-06 00:00:00-05:00      159.02   15146928.0\n",
       "2020-01-07 00:00:00-05:00      157.60   17871760.0\n",
       "2020-01-08 00:00:00-05:00      160.14   22149039.0\n",
       "2020-01-09 00:00:00-05:00      162.09   16868379.0\n",
       "2020-01-10 00:00:00-05:00      161.32   17493193.0\n",
       "...                               ...          ...\n",
       "2021-01-04 00:00:00-05:00      217.81   27651582.0\n",
       "2021-01-05 00:00:00-05:00      218.01   18061458.0\n",
       "2021-01-06 00:00:00-05:00      212.22   29768110.0\n",
       "2021-01-07 00:00:00-05:00      218.29   20366208.0\n",
       "2021-01-08 00:00:00-05:00      219.55   18248721.0\n",
       "\n",
       "[256 rows x 2 columns]"
      ],
      "text/html": "<div>\n<style scoped>\n    .dataframe tbody tr th:only-of-type {\n        vertical-align: middle;\n    }\n\n    .dataframe tbody tr th {\n        vertical-align: top;\n    }\n\n    .dataframe thead th {\n        text-align: right;\n    }\n</style>\n<table border=\"1\" class=\"dataframe\">\n  <thead>\n    <tr style=\"text-align: right;\">\n      <th></th>\n      <th>msft_close</th>\n      <th>msft_volume</th>\n    </tr>\n  </thead>\n  <tbody>\n    <tr>\n      <th>2020-01-06 00:00:00-05:00</th>\n      <td>159.02</td>\n      <td>15146928.0</td>\n    </tr>\n    <tr>\n      <th>2020-01-07 00:00:00-05:00</th>\n      <td>157.60</td>\n      <td>17871760.0</td>\n    </tr>\n    <tr>\n      <th>2020-01-08 00:00:00-05:00</th>\n      <td>160.14</td>\n      <td>22149039.0</td>\n    </tr>\n    <tr>\n      <th>2020-01-09 00:00:00-05:00</th>\n      <td>162.09</td>\n      <td>16868379.0</td>\n    </tr>\n    <tr>\n      <th>2020-01-10 00:00:00-05:00</th>\n      <td>161.32</td>\n      <td>17493193.0</td>\n    </tr>\n    <tr>\n      <th>...</th>\n      <td>...</td>\n      <td>...</td>\n    </tr>\n    <tr>\n      <th>2021-01-04 00:00:00-05:00</th>\n      <td>217.81</td>\n      <td>27651582.0</td>\n    </tr>\n    <tr>\n      <th>2021-01-05 00:00:00-05:00</th>\n      <td>218.01</td>\n      <td>18061458.0</td>\n    </tr>\n    <tr>\n      <th>2021-01-06 00:00:00-05:00</th>\n      <td>212.22</td>\n      <td>29768110.0</td>\n    </tr>\n    <tr>\n      <th>2021-01-07 00:00:00-05:00</th>\n      <td>218.29</td>\n      <td>20366208.0</td>\n    </tr>\n    <tr>\n      <th>2021-01-08 00:00:00-05:00</th>\n      <td>219.55</td>\n      <td>18248721.0</td>\n    </tr>\n  </tbody>\n</table>\n<p>256 rows × 2 columns</p>\n</div>"
     },
     "metadata": {},
     "execution_count": 243
    }
   ],
   "source": [
    "msft_df"
   ]
  },
  {
   "cell_type": "code",
   "execution_count": 244,
   "metadata": {},
   "outputs": [
    {
     "output_type": "execute_result",
     "data": {
      "text/plain": [
       "                           nio_close   nio_volume\n",
       "2020-01-06 00:00:00-05:00     3.6900   98224315.0\n",
       "2020-01-07 00:00:00-05:00     3.2500  100309137.0\n",
       "2020-01-08 00:00:00-05:00     3.3850   60130244.0\n",
       "2020-01-09 00:00:00-05:00     3.4700   51395446.0\n",
       "2020-01-10 00:00:00-05:00     3.5100   33027919.0\n",
       "...                              ...          ...\n",
       "2021-01-04 00:00:00-05:00    53.4816  194732311.0\n",
       "2021-01-05 00:00:00-05:00    53.2000  139895202.0\n",
       "2021-01-06 00:00:00-05:00    50.5234  170401612.0\n",
       "2021-01-07 00:00:00-05:00    54.2500  112050972.0\n",
       "2021-01-08 00:00:00-05:00    58.9100  208053275.0\n",
       "\n",
       "[256 rows x 2 columns]"
      ],
      "text/html": "<div>\n<style scoped>\n    .dataframe tbody tr th:only-of-type {\n        vertical-align: middle;\n    }\n\n    .dataframe tbody tr th {\n        vertical-align: top;\n    }\n\n    .dataframe thead th {\n        text-align: right;\n    }\n</style>\n<table border=\"1\" class=\"dataframe\">\n  <thead>\n    <tr style=\"text-align: right;\">\n      <th></th>\n      <th>nio_close</th>\n      <th>nio_volume</th>\n    </tr>\n  </thead>\n  <tbody>\n    <tr>\n      <th>2020-01-06 00:00:00-05:00</th>\n      <td>3.6900</td>\n      <td>98224315.0</td>\n    </tr>\n    <tr>\n      <th>2020-01-07 00:00:00-05:00</th>\n      <td>3.2500</td>\n      <td>100309137.0</td>\n    </tr>\n    <tr>\n      <th>2020-01-08 00:00:00-05:00</th>\n      <td>3.3850</td>\n      <td>60130244.0</td>\n    </tr>\n    <tr>\n      <th>2020-01-09 00:00:00-05:00</th>\n      <td>3.4700</td>\n      <td>51395446.0</td>\n    </tr>\n    <tr>\n      <th>2020-01-10 00:00:00-05:00</th>\n      <td>3.5100</td>\n      <td>33027919.0</td>\n    </tr>\n    <tr>\n      <th>...</th>\n      <td>...</td>\n      <td>...</td>\n    </tr>\n    <tr>\n      <th>2021-01-04 00:00:00-05:00</th>\n      <td>53.4816</td>\n      <td>194732311.0</td>\n    </tr>\n    <tr>\n      <th>2021-01-05 00:00:00-05:00</th>\n      <td>53.2000</td>\n      <td>139895202.0</td>\n    </tr>\n    <tr>\n      <th>2021-01-06 00:00:00-05:00</th>\n      <td>50.5234</td>\n      <td>170401612.0</td>\n    </tr>\n    <tr>\n      <th>2021-01-07 00:00:00-05:00</th>\n      <td>54.2500</td>\n      <td>112050972.0</td>\n    </tr>\n    <tr>\n      <th>2021-01-08 00:00:00-05:00</th>\n      <td>58.9100</td>\n      <td>208053275.0</td>\n    </tr>\n  </tbody>\n</table>\n<p>256 rows × 2 columns</p>\n</div>"
     },
     "metadata": {},
     "execution_count": 244
    }
   ],
   "source": [
    "nio_df"
   ]
  },
  {
   "cell_type": "code",
   "execution_count": 245,
   "metadata": {},
   "outputs": [
    {
     "output_type": "execute_result",
     "data": {
      "text/plain": [
       "                           pfe_close  pfe_volume\n",
       "2020-01-06 00:00:00-05:00      38.87  10206988.0\n",
       "2020-01-07 00:00:00-05:00      38.76  15412402.0\n",
       "2020-01-08 00:00:00-05:00      39.05  12490932.0\n",
       "2020-01-09 00:00:00-05:00      38.89  15008669.0\n",
       "2020-01-10 00:00:00-05:00      39.49  17128495.0\n",
       "...                              ...         ...\n",
       "2021-01-04 00:00:00-05:00      36.82  28440292.0\n",
       "2021-01-05 00:00:00-05:00      37.19  24730234.0\n",
       "2021-01-06 00:00:00-05:00      36.88  29131691.0\n",
       "2021-01-07 00:00:00-05:00      37.05  23988415.0\n",
       "2021-01-08 00:00:00-05:00      37.12  29721152.0\n",
       "\n",
       "[256 rows x 2 columns]"
      ],
      "text/html": "<div>\n<style scoped>\n    .dataframe tbody tr th:only-of-type {\n        vertical-align: middle;\n    }\n\n    .dataframe tbody tr th {\n        vertical-align: top;\n    }\n\n    .dataframe thead th {\n        text-align: right;\n    }\n</style>\n<table border=\"1\" class=\"dataframe\">\n  <thead>\n    <tr style=\"text-align: right;\">\n      <th></th>\n      <th>pfe_close</th>\n      <th>pfe_volume</th>\n    </tr>\n  </thead>\n  <tbody>\n    <tr>\n      <th>2020-01-06 00:00:00-05:00</th>\n      <td>38.87</td>\n      <td>10206988.0</td>\n    </tr>\n    <tr>\n      <th>2020-01-07 00:00:00-05:00</th>\n      <td>38.76</td>\n      <td>15412402.0</td>\n    </tr>\n    <tr>\n      <th>2020-01-08 00:00:00-05:00</th>\n      <td>39.05</td>\n      <td>12490932.0</td>\n    </tr>\n    <tr>\n      <th>2020-01-09 00:00:00-05:00</th>\n      <td>38.89</td>\n      <td>15008669.0</td>\n    </tr>\n    <tr>\n      <th>2020-01-10 00:00:00-05:00</th>\n      <td>39.49</td>\n      <td>17128495.0</td>\n    </tr>\n    <tr>\n      <th>...</th>\n      <td>...</td>\n      <td>...</td>\n    </tr>\n    <tr>\n      <th>2021-01-04 00:00:00-05:00</th>\n      <td>36.82</td>\n      <td>28440292.0</td>\n    </tr>\n    <tr>\n      <th>2021-01-05 00:00:00-05:00</th>\n      <td>37.19</td>\n      <td>24730234.0</td>\n    </tr>\n    <tr>\n      <th>2021-01-06 00:00:00-05:00</th>\n      <td>36.88</td>\n      <td>29131691.0</td>\n    </tr>\n    <tr>\n      <th>2021-01-07 00:00:00-05:00</th>\n      <td>37.05</td>\n      <td>23988415.0</td>\n    </tr>\n    <tr>\n      <th>2021-01-08 00:00:00-05:00</th>\n      <td>37.12</td>\n      <td>29721152.0</td>\n    </tr>\n  </tbody>\n</table>\n<p>256 rows × 2 columns</p>\n</div>"
     },
     "metadata": {},
     "execution_count": 245
    }
   ],
   "source": [
    "pfe_df"
   ]
  },
  {
   "cell_type": "code",
   "execution_count": 246,
   "metadata": {},
   "outputs": [
    {
     "output_type": "execute_result",
     "data": {
      "text/plain": [
       "                           amzn_close  amzn_volume\n",
       "2020-01-06 00:00:00-05:00     1903.33    3598872.0\n",
       "2020-01-07 00:00:00-05:00     1906.86    3569706.0\n",
       "2020-01-08 00:00:00-05:00     1892.09    3100021.0\n",
       "2020-01-09 00:00:00-05:00     1901.00    2913887.0\n",
       "2020-01-10 00:00:00-05:00     1882.98    2652859.0\n",
       "...                               ...          ...\n",
       "2021-01-04 00:00:00-05:00     3186.65    3974073.0\n",
       "2021-01-05 00:00:00-05:00     3218.51    2325459.0\n",
       "2021-01-06 00:00:00-05:00     3138.01    3919285.0\n",
       "2021-01-07 00:00:00-05:00     3161.41    2951339.0\n",
       "2021-01-08 00:00:00-05:00     3182.70    3261271.0\n",
       "\n",
       "[256 rows x 2 columns]"
      ],
      "text/html": "<div>\n<style scoped>\n    .dataframe tbody tr th:only-of-type {\n        vertical-align: middle;\n    }\n\n    .dataframe tbody tr th {\n        vertical-align: top;\n    }\n\n    .dataframe thead th {\n        text-align: right;\n    }\n</style>\n<table border=\"1\" class=\"dataframe\">\n  <thead>\n    <tr style=\"text-align: right;\">\n      <th></th>\n      <th>amzn_close</th>\n      <th>amzn_volume</th>\n    </tr>\n  </thead>\n  <tbody>\n    <tr>\n      <th>2020-01-06 00:00:00-05:00</th>\n      <td>1903.33</td>\n      <td>3598872.0</td>\n    </tr>\n    <tr>\n      <th>2020-01-07 00:00:00-05:00</th>\n      <td>1906.86</td>\n      <td>3569706.0</td>\n    </tr>\n    <tr>\n      <th>2020-01-08 00:00:00-05:00</th>\n      <td>1892.09</td>\n      <td>3100021.0</td>\n    </tr>\n    <tr>\n      <th>2020-01-09 00:00:00-05:00</th>\n      <td>1901.00</td>\n      <td>2913887.0</td>\n    </tr>\n    <tr>\n      <th>2020-01-10 00:00:00-05:00</th>\n      <td>1882.98</td>\n      <td>2652859.0</td>\n    </tr>\n    <tr>\n      <th>...</th>\n      <td>...</td>\n      <td>...</td>\n    </tr>\n    <tr>\n      <th>2021-01-04 00:00:00-05:00</th>\n      <td>3186.65</td>\n      <td>3974073.0</td>\n    </tr>\n    <tr>\n      <th>2021-01-05 00:00:00-05:00</th>\n      <td>3218.51</td>\n      <td>2325459.0</td>\n    </tr>\n    <tr>\n      <th>2021-01-06 00:00:00-05:00</th>\n      <td>3138.01</td>\n      <td>3919285.0</td>\n    </tr>\n    <tr>\n      <th>2021-01-07 00:00:00-05:00</th>\n      <td>3161.41</td>\n      <td>2951339.0</td>\n    </tr>\n    <tr>\n      <th>2021-01-08 00:00:00-05:00</th>\n      <td>3182.70</td>\n      <td>3261271.0</td>\n    </tr>\n  </tbody>\n</table>\n<p>256 rows × 2 columns</p>\n</div>"
     },
     "metadata": {},
     "execution_count": 246
    }
   ],
   "source": [
    "amzn_df"
   ]
  },
  {
   "cell_type": "code",
   "execution_count": 247,
   "metadata": {},
   "outputs": [
    {
     "output_type": "execute_result",
     "data": {
      "text/plain": [
       "                           aal_close  aal_volume\n",
       "2020-01-06 00:00:00-05:00     27.320   5383583.0\n",
       "2020-01-07 00:00:00-05:00     27.220   5570129.0\n",
       "2020-01-08 00:00:00-05:00     27.840   9479470.0\n",
       "2020-01-09 00:00:00-05:00     27.950   5923245.0\n",
       "2020-01-10 00:00:00-05:00     27.320   7291102.0\n",
       "...                              ...         ...\n",
       "2021-01-04 00:00:00-05:00     15.120  68479594.0\n",
       "2021-01-05 00:00:00-05:00     15.430  51109216.0\n",
       "2021-01-06 00:00:00-05:00     15.520  61348418.0\n",
       "2021-01-07 00:00:00-05:00     15.380  45503976.0\n",
       "2021-01-08 00:00:00-05:00     15.115  54302647.0\n",
       "\n",
       "[256 rows x 2 columns]"
      ],
      "text/html": "<div>\n<style scoped>\n    .dataframe tbody tr th:only-of-type {\n        vertical-align: middle;\n    }\n\n    .dataframe tbody tr th {\n        vertical-align: top;\n    }\n\n    .dataframe thead th {\n        text-align: right;\n    }\n</style>\n<table border=\"1\" class=\"dataframe\">\n  <thead>\n    <tr style=\"text-align: right;\">\n      <th></th>\n      <th>aal_close</th>\n      <th>aal_volume</th>\n    </tr>\n  </thead>\n  <tbody>\n    <tr>\n      <th>2020-01-06 00:00:00-05:00</th>\n      <td>27.320</td>\n      <td>5383583.0</td>\n    </tr>\n    <tr>\n      <th>2020-01-07 00:00:00-05:00</th>\n      <td>27.220</td>\n      <td>5570129.0</td>\n    </tr>\n    <tr>\n      <th>2020-01-08 00:00:00-05:00</th>\n      <td>27.840</td>\n      <td>9479470.0</td>\n    </tr>\n    <tr>\n      <th>2020-01-09 00:00:00-05:00</th>\n      <td>27.950</td>\n      <td>5923245.0</td>\n    </tr>\n    <tr>\n      <th>2020-01-10 00:00:00-05:00</th>\n      <td>27.320</td>\n      <td>7291102.0</td>\n    </tr>\n    <tr>\n      <th>...</th>\n      <td>...</td>\n      <td>...</td>\n    </tr>\n    <tr>\n      <th>2021-01-04 00:00:00-05:00</th>\n      <td>15.120</td>\n      <td>68479594.0</td>\n    </tr>\n    <tr>\n      <th>2021-01-05 00:00:00-05:00</th>\n      <td>15.430</td>\n      <td>51109216.0</td>\n    </tr>\n    <tr>\n      <th>2021-01-06 00:00:00-05:00</th>\n      <td>15.520</td>\n      <td>61348418.0</td>\n    </tr>\n    <tr>\n      <th>2021-01-07 00:00:00-05:00</th>\n      <td>15.380</td>\n      <td>45503976.0</td>\n    </tr>\n    <tr>\n      <th>2021-01-08 00:00:00-05:00</th>\n      <td>15.115</td>\n      <td>54302647.0</td>\n    </tr>\n  </tbody>\n</table>\n<p>256 rows × 2 columns</p>\n</div>"
     },
     "metadata": {},
     "execution_count": 247
    }
   ],
   "source": [
    "aal_df"
   ]
  },
  {
   "cell_type": "code",
   "execution_count": 248,
   "metadata": {},
   "outputs": [
    {
     "output_type": "execute_result",
     "data": {
      "text/plain": [
       "                           dis_close  dis_volume\n",
       "2020-01-06 00:00:00-05:00     145.65   7363097.0\n",
       "2020-01-07 00:00:00-05:00     145.68   5646933.0\n",
       "2020-01-08 00:00:00-05:00     145.45   5771723.0\n",
       "2020-01-09 00:00:00-05:00     144.80   5331260.0\n",
       "2020-01-10 00:00:00-05:00     144.60   4192359.0\n",
       "...                              ...         ...\n",
       "2021-01-04 00:00:00-05:00     177.55  11001381.0\n",
       "2021-01-05 00:00:00-05:00     178.45   5870876.0\n",
       "2021-01-06 00:00:00-05:00     179.12   6411222.0\n",
       "2021-01-07 00:00:00-05:00     178.58   6367836.0\n",
       "2021-01-08 00:00:00-05:00     178.68   5961422.0\n",
       "\n",
       "[256 rows x 2 columns]"
      ],
      "text/html": "<div>\n<style scoped>\n    .dataframe tbody tr th:only-of-type {\n        vertical-align: middle;\n    }\n\n    .dataframe tbody tr th {\n        vertical-align: top;\n    }\n\n    .dataframe thead th {\n        text-align: right;\n    }\n</style>\n<table border=\"1\" class=\"dataframe\">\n  <thead>\n    <tr style=\"text-align: right;\">\n      <th></th>\n      <th>dis_close</th>\n      <th>dis_volume</th>\n    </tr>\n  </thead>\n  <tbody>\n    <tr>\n      <th>2020-01-06 00:00:00-05:00</th>\n      <td>145.65</td>\n      <td>7363097.0</td>\n    </tr>\n    <tr>\n      <th>2020-01-07 00:00:00-05:00</th>\n      <td>145.68</td>\n      <td>5646933.0</td>\n    </tr>\n    <tr>\n      <th>2020-01-08 00:00:00-05:00</th>\n      <td>145.45</td>\n      <td>5771723.0</td>\n    </tr>\n    <tr>\n      <th>2020-01-09 00:00:00-05:00</th>\n      <td>144.80</td>\n      <td>5331260.0</td>\n    </tr>\n    <tr>\n      <th>2020-01-10 00:00:00-05:00</th>\n      <td>144.60</td>\n      <td>4192359.0</td>\n    </tr>\n    <tr>\n      <th>...</th>\n      <td>...</td>\n      <td>...</td>\n    </tr>\n    <tr>\n      <th>2021-01-04 00:00:00-05:00</th>\n      <td>177.55</td>\n      <td>11001381.0</td>\n    </tr>\n    <tr>\n      <th>2021-01-05 00:00:00-05:00</th>\n      <td>178.45</td>\n      <td>5870876.0</td>\n    </tr>\n    <tr>\n      <th>2021-01-06 00:00:00-05:00</th>\n      <td>179.12</td>\n      <td>6411222.0</td>\n    </tr>\n    <tr>\n      <th>2021-01-07 00:00:00-05:00</th>\n      <td>178.58</td>\n      <td>6367836.0</td>\n    </tr>\n    <tr>\n      <th>2021-01-08 00:00:00-05:00</th>\n      <td>178.68</td>\n      <td>5961422.0</td>\n    </tr>\n  </tbody>\n</table>\n<p>256 rows × 2 columns</p>\n</div>"
     },
     "metadata": {},
     "execution_count": 248
    }
   ],
   "source": [
    "dis_df"
   ]
  },
  {
   "cell_type": "code",
   "execution_count": 249,
   "metadata": {},
   "outputs": [
    {
     "output_type": "execute_result",
     "data": {
      "text/plain": [
       "                           plug_close  plug_volume\n",
       "2020-01-06 00:00:00-05:00      3.8150   37186905.0\n",
       "2020-01-07 00:00:00-05:00      3.8050   21453070.0\n",
       "2020-01-08 00:00:00-05:00      4.0675   29991957.0\n",
       "2020-01-09 00:00:00-05:00      4.0450   16853768.0\n",
       "2020-01-10 00:00:00-05:00      4.1400   13613412.0\n",
       "...                               ...          ...\n",
       "2021-01-04 00:00:00-05:00     32.1800   28702974.0\n",
       "2021-01-05 00:00:00-05:00     32.5500   17454490.0\n",
       "2021-01-06 00:00:00-05:00     35.0000   41482804.0\n",
       "2021-01-07 00:00:00-05:00     47.3000   89346497.0\n",
       "2021-01-08 00:00:00-05:00     53.7788   96514508.0\n",
       "\n",
       "[256 rows x 2 columns]"
      ],
      "text/html": "<div>\n<style scoped>\n    .dataframe tbody tr th:only-of-type {\n        vertical-align: middle;\n    }\n\n    .dataframe tbody tr th {\n        vertical-align: top;\n    }\n\n    .dataframe thead th {\n        text-align: right;\n    }\n</style>\n<table border=\"1\" class=\"dataframe\">\n  <thead>\n    <tr style=\"text-align: right;\">\n      <th></th>\n      <th>plug_close</th>\n      <th>plug_volume</th>\n    </tr>\n  </thead>\n  <tbody>\n    <tr>\n      <th>2020-01-06 00:00:00-05:00</th>\n      <td>3.8150</td>\n      <td>37186905.0</td>\n    </tr>\n    <tr>\n      <th>2020-01-07 00:00:00-05:00</th>\n      <td>3.8050</td>\n      <td>21453070.0</td>\n    </tr>\n    <tr>\n      <th>2020-01-08 00:00:00-05:00</th>\n      <td>4.0675</td>\n      <td>29991957.0</td>\n    </tr>\n    <tr>\n      <th>2020-01-09 00:00:00-05:00</th>\n      <td>4.0450</td>\n      <td>16853768.0</td>\n    </tr>\n    <tr>\n      <th>2020-01-10 00:00:00-05:00</th>\n      <td>4.1400</td>\n      <td>13613412.0</td>\n    </tr>\n    <tr>\n      <th>...</th>\n      <td>...</td>\n      <td>...</td>\n    </tr>\n    <tr>\n      <th>2021-01-04 00:00:00-05:00</th>\n      <td>32.1800</td>\n      <td>28702974.0</td>\n    </tr>\n    <tr>\n      <th>2021-01-05 00:00:00-05:00</th>\n      <td>32.5500</td>\n      <td>17454490.0</td>\n    </tr>\n    <tr>\n      <th>2021-01-06 00:00:00-05:00</th>\n      <td>35.0000</td>\n      <td>41482804.0</td>\n    </tr>\n    <tr>\n      <th>2021-01-07 00:00:00-05:00</th>\n      <td>47.3000</td>\n      <td>89346497.0</td>\n    </tr>\n    <tr>\n      <th>2021-01-08 00:00:00-05:00</th>\n      <td>53.7788</td>\n      <td>96514508.0</td>\n    </tr>\n  </tbody>\n</table>\n<p>256 rows × 2 columns</p>\n</div>"
     },
     "metadata": {},
     "execution_count": 249
    }
   ],
   "source": [
    "plug_df"
   ]
  },
  {
   "cell_type": "code",
   "execution_count": null,
   "metadata": {},
   "outputs": [],
   "source": []
  }
 ]
}