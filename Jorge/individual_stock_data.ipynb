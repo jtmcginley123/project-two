{
 "metadata": {
  "language_info": {
   "codemirror_mode": {
    "name": "ipython",
    "version": 3
   },
   "file_extension": ".py",
   "mimetype": "text/x-python",
   "name": "python",
   "nbconvert_exporter": "python",
   "pygments_lexer": "ipython3",
   "version": "3.8.3-final"
  },
  "orig_nbformat": 2,
  "kernelspec": {
   "name": "python3",
   "display_name": "Python 3",
   "language": "python"
  }
 },
 "nbformat": 4,
 "nbformat_minor": 2,
 "cells": [
  {
   "cell_type": "code",
   "execution_count": 134,
   "metadata": {},
   "outputs": [],
   "source": [
    "import requests\n",
    "from dotenv import load_dotenv\n",
    "import os \n",
    "import pandas as pd\n",
    "import numpy as np\n",
    "import alpaca_trade_api as tradeapi\n",
    "# from MCForecastTools import MCSimulation\n",
    "import json\n",
    "import matplotlib.pyplot as plt"
   ]
  },
  {
   "cell_type": "code",
   "execution_count": 135,
   "metadata": {},
   "outputs": [
    {
     "output_type": "execute_result",
     "data": {
      "text/plain": [
       "True"
      ]
     },
     "metadata": {},
     "execution_count": 135
    }
   ],
   "source": [
    "load_dotenv()"
   ]
  },
  {
   "cell_type": "code",
   "execution_count": 136,
   "metadata": {},
   "outputs": [],
   "source": [
    "# Set Alpaca API key and secret\n",
    "alpaca_api_key = os.getenv(\"ALPACA_API_KEY\")\n",
    "alpaca_secret_key = os.getenv(\"ALPACA_SECRET_KEY\")\n",
    "\n",
    "# Create the Alpaca API object\n",
    "# YOUR CODE HERE!\n",
    "alpaca = tradeapi.REST(\n",
    "    alpaca_api_key,\n",
    "    alpaca_secret_key,\n",
    "    api_version= \"v2\")"
   ]
  },
  {
   "cell_type": "code",
   "execution_count": 137,
   "metadata": {},
   "outputs": [],
   "source": [
    "current_date = pd.Timestamp(\"2020-01-05\", tz=\"America/New_York\").isoformat()\n",
    "\n",
    "tickers = [\"SPY\", \"AAPL\", \"TSLA\", \"GE\", \"F\", \"MSFT\",\"NIO\", \"PFE\", \"AMZN\",\"AAL\",\"DIS\",\"PLUG\"]\n",
    "\n",
    "\n",
    "timeframe = \"1D\""
   ]
  },
  {
   "cell_type": "code",
   "execution_count": 138,
   "metadata": {},
   "outputs": [
    {
     "output_type": "execute_result",
     "data": {
      "text/plain": [
       "                                SPY                                  \n",
       "                               open    high     low   close    volume\n",
       "2020-01-06 00:00:00-05:00  320.4900  323.73  320.36  323.67  43105385\n",
       "2020-01-07 00:00:00-05:00  323.0200  323.54  322.24  322.76  33909984\n",
       "2020-01-08 00:00:00-05:00  322.9400  325.78  322.67  324.42  56581814\n",
       "2020-01-09 00:00:00-05:00  326.1600  326.73  325.52  326.62  43365068\n",
       "2020-01-10 00:00:00-05:00  327.2899  327.46  325.20  325.70  44989039\n",
       "...                             ...     ...     ...     ...       ...\n",
       "2021-01-04 00:00:00-05:00  375.3100  375.45  364.82  368.85  92938087\n",
       "2021-01-05 00:00:00-05:00  368.1000  372.50  368.05  371.32  53668865\n",
       "2021-01-06 00:00:00-05:00  369.7100  376.98  369.12  373.53  91989131\n",
       "2021-01-07 00:00:00-05:00  376.1000  379.90  375.91  379.06  58862006\n",
       "2021-01-08 00:00:00-05:00  380.5900  381.49  377.10  381.24  60275466\n",
       "\n",
       "[256 rows x 5 columns]"
      ],
      "text/html": "<div>\n<style scoped>\n    .dataframe tbody tr th:only-of-type {\n        vertical-align: middle;\n    }\n\n    .dataframe tbody tr th {\n        vertical-align: top;\n    }\n\n    .dataframe thead tr th {\n        text-align: left;\n    }\n</style>\n<table border=\"1\" class=\"dataframe\">\n  <thead>\n    <tr>\n      <th></th>\n      <th colspan=\"5\" halign=\"left\">SPY</th>\n    </tr>\n    <tr>\n      <th></th>\n      <th>open</th>\n      <th>high</th>\n      <th>low</th>\n      <th>close</th>\n      <th>volume</th>\n    </tr>\n  </thead>\n  <tbody>\n    <tr>\n      <th>2020-01-06 00:00:00-05:00</th>\n      <td>320.4900</td>\n      <td>323.73</td>\n      <td>320.36</td>\n      <td>323.67</td>\n      <td>43105385</td>\n    </tr>\n    <tr>\n      <th>2020-01-07 00:00:00-05:00</th>\n      <td>323.0200</td>\n      <td>323.54</td>\n      <td>322.24</td>\n      <td>322.76</td>\n      <td>33909984</td>\n    </tr>\n    <tr>\n      <th>2020-01-08 00:00:00-05:00</th>\n      <td>322.9400</td>\n      <td>325.78</td>\n      <td>322.67</td>\n      <td>324.42</td>\n      <td>56581814</td>\n    </tr>\n    <tr>\n      <th>2020-01-09 00:00:00-05:00</th>\n      <td>326.1600</td>\n      <td>326.73</td>\n      <td>325.52</td>\n      <td>326.62</td>\n      <td>43365068</td>\n    </tr>\n    <tr>\n      <th>2020-01-10 00:00:00-05:00</th>\n      <td>327.2899</td>\n      <td>327.46</td>\n      <td>325.20</td>\n      <td>325.70</td>\n      <td>44989039</td>\n    </tr>\n    <tr>\n      <th>...</th>\n      <td>...</td>\n      <td>...</td>\n      <td>...</td>\n      <td>...</td>\n      <td>...</td>\n    </tr>\n    <tr>\n      <th>2021-01-04 00:00:00-05:00</th>\n      <td>375.3100</td>\n      <td>375.45</td>\n      <td>364.82</td>\n      <td>368.85</td>\n      <td>92938087</td>\n    </tr>\n    <tr>\n      <th>2021-01-05 00:00:00-05:00</th>\n      <td>368.1000</td>\n      <td>372.50</td>\n      <td>368.05</td>\n      <td>371.32</td>\n      <td>53668865</td>\n    </tr>\n    <tr>\n      <th>2021-01-06 00:00:00-05:00</th>\n      <td>369.7100</td>\n      <td>376.98</td>\n      <td>369.12</td>\n      <td>373.53</td>\n      <td>91989131</td>\n    </tr>\n    <tr>\n      <th>2021-01-07 00:00:00-05:00</th>\n      <td>376.1000</td>\n      <td>379.90</td>\n      <td>375.91</td>\n      <td>379.06</td>\n      <td>58862006</td>\n    </tr>\n    <tr>\n      <th>2021-01-08 00:00:00-05:00</th>\n      <td>380.5900</td>\n      <td>381.49</td>\n      <td>377.10</td>\n      <td>381.24</td>\n      <td>60275466</td>\n    </tr>\n  </tbody>\n</table>\n<p>256 rows × 5 columns</p>\n</div>"
     },
     "metadata": {},
     "execution_count": 138
    }
   ],
   "source": [
    "df_spy = alpaca.get_barset(\n",
    "    tickers[0],\n",
    "    timeframe,\n",
    "    start=current_date\n",
    ").df\n",
    "\n",
    "df_spy"
   ]
  },
  {
   "cell_type": "code",
   "execution_count": 139,
   "metadata": {
    "tags": []
   },
   "outputs": [],
   "source": [
    "df_spy = df_spy.T.reset_index(drop=True).T"
   ]
  },
  {
   "cell_type": "code",
   "execution_count": 140,
   "metadata": {},
   "outputs": [],
   "source": [
    "df_spy_cv = df_spy.rename(columns={3:\"spy_close\", 4:\"spy_volume\"})"
   ]
  },
  {
   "cell_type": "code",
   "execution_count": 141,
   "metadata": {},
   "outputs": [
    {
     "output_type": "execute_result",
     "data": {
      "text/plain": [
       "                           spy_close  spy_volume\n",
       "2020-01-06 00:00:00-05:00     323.67  43105385.0\n",
       "2020-01-07 00:00:00-05:00     322.76  33909984.0\n",
       "2020-01-08 00:00:00-05:00     324.42  56581814.0\n",
       "2020-01-09 00:00:00-05:00     326.62  43365068.0\n",
       "2020-01-10 00:00:00-05:00     325.70  44989039.0\n",
       "...                              ...         ...\n",
       "2021-01-04 00:00:00-05:00     368.85  92938087.0\n",
       "2021-01-05 00:00:00-05:00     371.32  53668865.0\n",
       "2021-01-06 00:00:00-05:00     373.53  91989131.0\n",
       "2021-01-07 00:00:00-05:00     379.06  58862006.0\n",
       "2021-01-08 00:00:00-05:00     381.24  60275466.0\n",
       "\n",
       "[256 rows x 2 columns]"
      ],
      "text/html": "<div>\n<style scoped>\n    .dataframe tbody tr th:only-of-type {\n        vertical-align: middle;\n    }\n\n    .dataframe tbody tr th {\n        vertical-align: top;\n    }\n\n    .dataframe thead th {\n        text-align: right;\n    }\n</style>\n<table border=\"1\" class=\"dataframe\">\n  <thead>\n    <tr style=\"text-align: right;\">\n      <th></th>\n      <th>spy_close</th>\n      <th>spy_volume</th>\n    </tr>\n  </thead>\n  <tbody>\n    <tr>\n      <th>2020-01-06 00:00:00-05:00</th>\n      <td>323.67</td>\n      <td>43105385.0</td>\n    </tr>\n    <tr>\n      <th>2020-01-07 00:00:00-05:00</th>\n      <td>322.76</td>\n      <td>33909984.0</td>\n    </tr>\n    <tr>\n      <th>2020-01-08 00:00:00-05:00</th>\n      <td>324.42</td>\n      <td>56581814.0</td>\n    </tr>\n    <tr>\n      <th>2020-01-09 00:00:00-05:00</th>\n      <td>326.62</td>\n      <td>43365068.0</td>\n    </tr>\n    <tr>\n      <th>2020-01-10 00:00:00-05:00</th>\n      <td>325.70</td>\n      <td>44989039.0</td>\n    </tr>\n    <tr>\n      <th>...</th>\n      <td>...</td>\n      <td>...</td>\n    </tr>\n    <tr>\n      <th>2021-01-04 00:00:00-05:00</th>\n      <td>368.85</td>\n      <td>92938087.0</td>\n    </tr>\n    <tr>\n      <th>2021-01-05 00:00:00-05:00</th>\n      <td>371.32</td>\n      <td>53668865.0</td>\n    </tr>\n    <tr>\n      <th>2021-01-06 00:00:00-05:00</th>\n      <td>373.53</td>\n      <td>91989131.0</td>\n    </tr>\n    <tr>\n      <th>2021-01-07 00:00:00-05:00</th>\n      <td>379.06</td>\n      <td>58862006.0</td>\n    </tr>\n    <tr>\n      <th>2021-01-08 00:00:00-05:00</th>\n      <td>381.24</td>\n      <td>60275466.0</td>\n    </tr>\n  </tbody>\n</table>\n<p>256 rows × 2 columns</p>\n</div>"
     },
     "metadata": {},
     "execution_count": 141
    }
   ],
   "source": [
    "# spy_cv = df_spy_cv[3,4]\n",
    "# print(df_spy_cv.columns)\n",
    "spy_df = df_spy_cv.loc[:,['spy_close', 'spy_volume']]\n",
    "spy_df"
   ]
  },
  {
   "cell_type": "code",
   "execution_count": 142,
   "metadata": {},
   "outputs": [
    {
     "output_type": "execute_result",
     "data": {
      "text/plain": [
       "                             AAPL                                      \n",
       "                             open      high      low   close     volume\n",
       "2020-01-06 00:00:00-05:00  293.79  299.9600  292.750  299.78   27487207\n",
       "2020-01-07 00:00:00-05:00  299.84  300.9000  297.480  298.27   24353387\n",
       "2020-01-08 00:00:00-05:00  297.16  304.4399  297.156  303.15   28984028\n",
       "2020-01-09 00:00:00-05:00  307.25  310.4300  306.200  309.71   38540792\n",
       "2020-01-10 00:00:00-05:00  310.60  312.6700  308.250  310.37   32304453\n",
       "...                           ...       ...      ...     ...        ...\n",
       "2021-01-04 00:00:00-05:00  133.52  133.6116  126.760  129.41  123353442\n",
       "2021-01-05 00:00:00-05:00  128.89  131.7400  128.430  130.95   85139362\n",
       "2021-01-06 00:00:00-05:00  127.72  131.0499  126.382  126.58  142064548\n",
       "2021-01-07 00:00:00-05:00  128.36  131.6300  127.860  130.85   95314687\n",
       "2021-01-08 00:00:00-05:00  132.43  132.6300  130.230  131.99   93211863\n",
       "\n",
       "[256 rows x 5 columns]"
      ],
      "text/html": "<div>\n<style scoped>\n    .dataframe tbody tr th:only-of-type {\n        vertical-align: middle;\n    }\n\n    .dataframe tbody tr th {\n        vertical-align: top;\n    }\n\n    .dataframe thead tr th {\n        text-align: left;\n    }\n</style>\n<table border=\"1\" class=\"dataframe\">\n  <thead>\n    <tr>\n      <th></th>\n      <th colspan=\"5\" halign=\"left\">AAPL</th>\n    </tr>\n    <tr>\n      <th></th>\n      <th>open</th>\n      <th>high</th>\n      <th>low</th>\n      <th>close</th>\n      <th>volume</th>\n    </tr>\n  </thead>\n  <tbody>\n    <tr>\n      <th>2020-01-06 00:00:00-05:00</th>\n      <td>293.79</td>\n      <td>299.9600</td>\n      <td>292.750</td>\n      <td>299.78</td>\n      <td>27487207</td>\n    </tr>\n    <tr>\n      <th>2020-01-07 00:00:00-05:00</th>\n      <td>299.84</td>\n      <td>300.9000</td>\n      <td>297.480</td>\n      <td>298.27</td>\n      <td>24353387</td>\n    </tr>\n    <tr>\n      <th>2020-01-08 00:00:00-05:00</th>\n      <td>297.16</td>\n      <td>304.4399</td>\n      <td>297.156</td>\n      <td>303.15</td>\n      <td>28984028</td>\n    </tr>\n    <tr>\n      <th>2020-01-09 00:00:00-05:00</th>\n      <td>307.25</td>\n      <td>310.4300</td>\n      <td>306.200</td>\n      <td>309.71</td>\n      <td>38540792</td>\n    </tr>\n    <tr>\n      <th>2020-01-10 00:00:00-05:00</th>\n      <td>310.60</td>\n      <td>312.6700</td>\n      <td>308.250</td>\n      <td>310.37</td>\n      <td>32304453</td>\n    </tr>\n    <tr>\n      <th>...</th>\n      <td>...</td>\n      <td>...</td>\n      <td>...</td>\n      <td>...</td>\n      <td>...</td>\n    </tr>\n    <tr>\n      <th>2021-01-04 00:00:00-05:00</th>\n      <td>133.52</td>\n      <td>133.6116</td>\n      <td>126.760</td>\n      <td>129.41</td>\n      <td>123353442</td>\n    </tr>\n    <tr>\n      <th>2021-01-05 00:00:00-05:00</th>\n      <td>128.89</td>\n      <td>131.7400</td>\n      <td>128.430</td>\n      <td>130.95</td>\n      <td>85139362</td>\n    </tr>\n    <tr>\n      <th>2021-01-06 00:00:00-05:00</th>\n      <td>127.72</td>\n      <td>131.0499</td>\n      <td>126.382</td>\n      <td>126.58</td>\n      <td>142064548</td>\n    </tr>\n    <tr>\n      <th>2021-01-07 00:00:00-05:00</th>\n      <td>128.36</td>\n      <td>131.6300</td>\n      <td>127.860</td>\n      <td>130.85</td>\n      <td>95314687</td>\n    </tr>\n    <tr>\n      <th>2021-01-08 00:00:00-05:00</th>\n      <td>132.43</td>\n      <td>132.6300</td>\n      <td>130.230</td>\n      <td>131.99</td>\n      <td>93211863</td>\n    </tr>\n  </tbody>\n</table>\n<p>256 rows × 5 columns</p>\n</div>"
     },
     "metadata": {},
     "execution_count": 142
    }
   ],
   "source": [
    "df_aapl = alpaca.get_barset(\n",
    "    tickers[1],\n",
    "    timeframe,\n",
    "    start=current_date\n",
    ").df\n",
    "\n",
    "df_aapl"
   ]
  },
  {
   "cell_type": "code",
   "execution_count": 143,
   "metadata": {},
   "outputs": [],
   "source": [
    "df_aapl = df_aapl.T.reset_index(drop=True).T"
   ]
  },
  {
   "cell_type": "code",
   "execution_count": 144,
   "metadata": {},
   "outputs": [],
   "source": [
    "df_aapl_cv = df_aapl.rename(columns={3:\"aapl_close\", 4:\"aapl_volume\"})"
   ]
  },
  {
   "cell_type": "code",
   "execution_count": 145,
   "metadata": {},
   "outputs": [
    {
     "output_type": "execute_result",
     "data": {
      "text/plain": [
       "                           aapl_close  aapl_volume\n",
       "2020-01-06 00:00:00-05:00      299.78   27487207.0\n",
       "2020-01-07 00:00:00-05:00      298.27   24353387.0\n",
       "2020-01-08 00:00:00-05:00      303.15   28984028.0\n",
       "2020-01-09 00:00:00-05:00      309.71   38540792.0\n",
       "2020-01-10 00:00:00-05:00      310.37   32304453.0\n",
       "...                               ...          ...\n",
       "2021-01-04 00:00:00-05:00      129.41  123353442.0\n",
       "2021-01-05 00:00:00-05:00      130.95   85139362.0\n",
       "2021-01-06 00:00:00-05:00      126.58  142064548.0\n",
       "2021-01-07 00:00:00-05:00      130.85   95314687.0\n",
       "2021-01-08 00:00:00-05:00      131.99   93211863.0\n",
       "\n",
       "[256 rows x 2 columns]"
      ],
      "text/html": "<div>\n<style scoped>\n    .dataframe tbody tr th:only-of-type {\n        vertical-align: middle;\n    }\n\n    .dataframe tbody tr th {\n        vertical-align: top;\n    }\n\n    .dataframe thead th {\n        text-align: right;\n    }\n</style>\n<table border=\"1\" class=\"dataframe\">\n  <thead>\n    <tr style=\"text-align: right;\">\n      <th></th>\n      <th>aapl_close</th>\n      <th>aapl_volume</th>\n    </tr>\n  </thead>\n  <tbody>\n    <tr>\n      <th>2020-01-06 00:00:00-05:00</th>\n      <td>299.78</td>\n      <td>27487207.0</td>\n    </tr>\n    <tr>\n      <th>2020-01-07 00:00:00-05:00</th>\n      <td>298.27</td>\n      <td>24353387.0</td>\n    </tr>\n    <tr>\n      <th>2020-01-08 00:00:00-05:00</th>\n      <td>303.15</td>\n      <td>28984028.0</td>\n    </tr>\n    <tr>\n      <th>2020-01-09 00:00:00-05:00</th>\n      <td>309.71</td>\n      <td>38540792.0</td>\n    </tr>\n    <tr>\n      <th>2020-01-10 00:00:00-05:00</th>\n      <td>310.37</td>\n      <td>32304453.0</td>\n    </tr>\n    <tr>\n      <th>...</th>\n      <td>...</td>\n      <td>...</td>\n    </tr>\n    <tr>\n      <th>2021-01-04 00:00:00-05:00</th>\n      <td>129.41</td>\n      <td>123353442.0</td>\n    </tr>\n    <tr>\n      <th>2021-01-05 00:00:00-05:00</th>\n      <td>130.95</td>\n      <td>85139362.0</td>\n    </tr>\n    <tr>\n      <th>2021-01-06 00:00:00-05:00</th>\n      <td>126.58</td>\n      <td>142064548.0</td>\n    </tr>\n    <tr>\n      <th>2021-01-07 00:00:00-05:00</th>\n      <td>130.85</td>\n      <td>95314687.0</td>\n    </tr>\n    <tr>\n      <th>2021-01-08 00:00:00-05:00</th>\n      <td>131.99</td>\n      <td>93211863.0</td>\n    </tr>\n  </tbody>\n</table>\n<p>256 rows × 2 columns</p>\n</div>"
     },
     "metadata": {},
     "execution_count": 145
    }
   ],
   "source": [
    "aapl_df = df_aapl_cv.loc[:,['aapl_close', 'aapl_volume']]\n",
    "aapl_df"
   ]
  },
  {
   "cell_type": "code",
   "execution_count": 146,
   "metadata": {},
   "outputs": [
    {
     "output_type": "execute_result",
     "data": {
      "text/plain": [
       "                             TSLA                                        \n",
       "                             open      high       low     close    volume\n",
       "2020-01-06 00:00:00-05:00  440.47  451.5600  440.0000  451.4001   9807049\n",
       "2020-01-07 00:00:00-05:00  461.40  471.6300  453.3550  469.1700  17164802\n",
       "2020-01-08 00:00:00-05:00  473.70  498.4900  468.2300  492.0900  29492388\n",
       "2020-01-09 00:00:00-05:00  497.10  498.8000  472.8700  481.4900  26229707\n",
       "2020-01-10 00:00:00-05:00  481.79  484.9400  473.7000  477.9600  12193711\n",
       "...                           ...       ...       ...       ...       ...\n",
       "2021-01-04 00:00:00-05:00  719.46  744.4899  717.1895  729.7500  45293360\n",
       "2021-01-05 00:00:00-05:00  723.66  740.8400  719.2000  735.0550  28402584\n",
       "2021-01-06 00:00:00-05:00  758.49  774.0000  749.1000  756.4600  41989335\n",
       "2021-01-07 00:00:00-05:00  777.63  816.9900  775.2000  816.2400  48080256\n",
       "2021-01-08 00:00:00-05:00  856.00  884.4900  838.3900  880.0300  71814487\n",
       "\n",
       "[256 rows x 5 columns]"
      ],
      "text/html": "<div>\n<style scoped>\n    .dataframe tbody tr th:only-of-type {\n        vertical-align: middle;\n    }\n\n    .dataframe tbody tr th {\n        vertical-align: top;\n    }\n\n    .dataframe thead tr th {\n        text-align: left;\n    }\n</style>\n<table border=\"1\" class=\"dataframe\">\n  <thead>\n    <tr>\n      <th></th>\n      <th colspan=\"5\" halign=\"left\">TSLA</th>\n    </tr>\n    <tr>\n      <th></th>\n      <th>open</th>\n      <th>high</th>\n      <th>low</th>\n      <th>close</th>\n      <th>volume</th>\n    </tr>\n  </thead>\n  <tbody>\n    <tr>\n      <th>2020-01-06 00:00:00-05:00</th>\n      <td>440.47</td>\n      <td>451.5600</td>\n      <td>440.0000</td>\n      <td>451.4001</td>\n      <td>9807049</td>\n    </tr>\n    <tr>\n      <th>2020-01-07 00:00:00-05:00</th>\n      <td>461.40</td>\n      <td>471.6300</td>\n      <td>453.3550</td>\n      <td>469.1700</td>\n      <td>17164802</td>\n    </tr>\n    <tr>\n      <th>2020-01-08 00:00:00-05:00</th>\n      <td>473.70</td>\n      <td>498.4900</td>\n      <td>468.2300</td>\n      <td>492.0900</td>\n      <td>29492388</td>\n    </tr>\n    <tr>\n      <th>2020-01-09 00:00:00-05:00</th>\n      <td>497.10</td>\n      <td>498.8000</td>\n      <td>472.8700</td>\n      <td>481.4900</td>\n      <td>26229707</td>\n    </tr>\n    <tr>\n      <th>2020-01-10 00:00:00-05:00</th>\n      <td>481.79</td>\n      <td>484.9400</td>\n      <td>473.7000</td>\n      <td>477.9600</td>\n      <td>12193711</td>\n    </tr>\n    <tr>\n      <th>...</th>\n      <td>...</td>\n      <td>...</td>\n      <td>...</td>\n      <td>...</td>\n      <td>...</td>\n    </tr>\n    <tr>\n      <th>2021-01-04 00:00:00-05:00</th>\n      <td>719.46</td>\n      <td>744.4899</td>\n      <td>717.1895</td>\n      <td>729.7500</td>\n      <td>45293360</td>\n    </tr>\n    <tr>\n      <th>2021-01-05 00:00:00-05:00</th>\n      <td>723.66</td>\n      <td>740.8400</td>\n      <td>719.2000</td>\n      <td>735.0550</td>\n      <td>28402584</td>\n    </tr>\n    <tr>\n      <th>2021-01-06 00:00:00-05:00</th>\n      <td>758.49</td>\n      <td>774.0000</td>\n      <td>749.1000</td>\n      <td>756.4600</td>\n      <td>41989335</td>\n    </tr>\n    <tr>\n      <th>2021-01-07 00:00:00-05:00</th>\n      <td>777.63</td>\n      <td>816.9900</td>\n      <td>775.2000</td>\n      <td>816.2400</td>\n      <td>48080256</td>\n    </tr>\n    <tr>\n      <th>2021-01-08 00:00:00-05:00</th>\n      <td>856.00</td>\n      <td>884.4900</td>\n      <td>838.3900</td>\n      <td>880.0300</td>\n      <td>71814487</td>\n    </tr>\n  </tbody>\n</table>\n<p>256 rows × 5 columns</p>\n</div>"
     },
     "metadata": {},
     "execution_count": 146
    }
   ],
   "source": [
    "df_tsla = alpaca.get_barset(\n",
    "    tickers[2],\n",
    "    timeframe,\n",
    "    start=current_date\n",
    ").df\n",
    "\n",
    "df_tsla"
   ]
  },
  {
   "cell_type": "code",
   "execution_count": 147,
   "metadata": {},
   "outputs": [],
   "source": [
    "df_tsla = df_tsla.T.reset_index(drop=True).T"
   ]
  },
  {
   "cell_type": "code",
   "execution_count": 148,
   "metadata": {},
   "outputs": [],
   "source": [
    "df_tsla_cv = df_tsla.rename(columns={3:\"tsla_close\", 4:\"tsla_volume\"})"
   ]
  },
  {
   "cell_type": "code",
   "execution_count": 149,
   "metadata": {},
   "outputs": [
    {
     "output_type": "execute_result",
     "data": {
      "text/plain": [
       "                           tsla_close  tsla_volume\n",
       "2020-01-06 00:00:00-05:00      299.78   27487207.0\n",
       "2020-01-07 00:00:00-05:00      298.27   24353387.0\n",
       "2020-01-08 00:00:00-05:00      303.15   28984028.0\n",
       "2020-01-09 00:00:00-05:00      309.71   38540792.0\n",
       "2020-01-10 00:00:00-05:00      310.37   32304453.0\n",
       "...                               ...          ...\n",
       "2021-01-04 00:00:00-05:00      129.41  123353442.0\n",
       "2021-01-05 00:00:00-05:00      130.95   85139362.0\n",
       "2021-01-06 00:00:00-05:00      126.58  142064548.0\n",
       "2021-01-07 00:00:00-05:00      130.85   95314687.0\n",
       "2021-01-08 00:00:00-05:00      131.99   93211863.0\n",
       "\n",
       "[256 rows x 2 columns]"
      ],
      "text/html": "<div>\n<style scoped>\n    .dataframe tbody tr th:only-of-type {\n        vertical-align: middle;\n    }\n\n    .dataframe tbody tr th {\n        vertical-align: top;\n    }\n\n    .dataframe thead th {\n        text-align: right;\n    }\n</style>\n<table border=\"1\" class=\"dataframe\">\n  <thead>\n    <tr style=\"text-align: right;\">\n      <th></th>\n      <th>tsla_close</th>\n      <th>tsla_volume</th>\n    </tr>\n  </thead>\n  <tbody>\n    <tr>\n      <th>2020-01-06 00:00:00-05:00</th>\n      <td>299.78</td>\n      <td>27487207.0</td>\n    </tr>\n    <tr>\n      <th>2020-01-07 00:00:00-05:00</th>\n      <td>298.27</td>\n      <td>24353387.0</td>\n    </tr>\n    <tr>\n      <th>2020-01-08 00:00:00-05:00</th>\n      <td>303.15</td>\n      <td>28984028.0</td>\n    </tr>\n    <tr>\n      <th>2020-01-09 00:00:00-05:00</th>\n      <td>309.71</td>\n      <td>38540792.0</td>\n    </tr>\n    <tr>\n      <th>2020-01-10 00:00:00-05:00</th>\n      <td>310.37</td>\n      <td>32304453.0</td>\n    </tr>\n    <tr>\n      <th>...</th>\n      <td>...</td>\n      <td>...</td>\n    </tr>\n    <tr>\n      <th>2021-01-04 00:00:00-05:00</th>\n      <td>129.41</td>\n      <td>123353442.0</td>\n    </tr>\n    <tr>\n      <th>2021-01-05 00:00:00-05:00</th>\n      <td>130.95</td>\n      <td>85139362.0</td>\n    </tr>\n    <tr>\n      <th>2021-01-06 00:00:00-05:00</th>\n      <td>126.58</td>\n      <td>142064548.0</td>\n    </tr>\n    <tr>\n      <th>2021-01-07 00:00:00-05:00</th>\n      <td>130.85</td>\n      <td>95314687.0</td>\n    </tr>\n    <tr>\n      <th>2021-01-08 00:00:00-05:00</th>\n      <td>131.99</td>\n      <td>93211863.0</td>\n    </tr>\n  </tbody>\n</table>\n<p>256 rows × 2 columns</p>\n</div>"
     },
     "metadata": {},
     "execution_count": 149
    }
   ],
   "source": [
    "tsla_df = df_tsla_cv.loc[:,['tsla_close', 'tsla_volume']]\n",
    "tsla_df"
   ]
  },
  {
   "cell_type": "code",
   "execution_count": 150,
   "metadata": {},
   "outputs": [
    {
     "output_type": "execute_result",
     "data": {
      "text/plain": [
       "                              GE                                  \n",
       "                            open    high    low   close     volume\n",
       "2020-01-06 00:00:00-05:00  11.84  12.210  11.84  12.140   88077970\n",
       "2020-01-07 00:00:00-05:00  12.15  12.235  11.92  12.055   60320592\n",
       "2020-01-08 00:00:00-05:00  11.99  12.050  11.87  11.930   37749100\n",
       "2020-01-09 00:00:00-05:00  12.07  12.090  11.83  11.900   30503177\n",
       "2020-01-10 00:00:00-05:00  11.84  11.910  11.59  11.670   51097374\n",
       "...                          ...     ...    ...     ...        ...\n",
       "2021-01-04 00:00:00-05:00  10.89  10.900  10.40  10.470   72870935\n",
       "2021-01-05 00:00:00-05:00  10.43  10.880  10.42  10.765   79006722\n",
       "2021-01-06 00:00:00-05:00  10.83  11.620  10.83  11.360  125493580\n",
       "2021-01-07 00:00:00-05:00  11.56  11.570  11.24  11.280   63810500\n",
       "2021-01-08 00:00:00-05:00  11.29  11.440  11.16  11.340   66949654\n",
       "\n",
       "[256 rows x 5 columns]"
      ],
      "text/html": "<div>\n<style scoped>\n    .dataframe tbody tr th:only-of-type {\n        vertical-align: middle;\n    }\n\n    .dataframe tbody tr th {\n        vertical-align: top;\n    }\n\n    .dataframe thead tr th {\n        text-align: left;\n    }\n</style>\n<table border=\"1\" class=\"dataframe\">\n  <thead>\n    <tr>\n      <th></th>\n      <th colspan=\"5\" halign=\"left\">GE</th>\n    </tr>\n    <tr>\n      <th></th>\n      <th>open</th>\n      <th>high</th>\n      <th>low</th>\n      <th>close</th>\n      <th>volume</th>\n    </tr>\n  </thead>\n  <tbody>\n    <tr>\n      <th>2020-01-06 00:00:00-05:00</th>\n      <td>11.84</td>\n      <td>12.210</td>\n      <td>11.84</td>\n      <td>12.140</td>\n      <td>88077970</td>\n    </tr>\n    <tr>\n      <th>2020-01-07 00:00:00-05:00</th>\n      <td>12.15</td>\n      <td>12.235</td>\n      <td>11.92</td>\n      <td>12.055</td>\n      <td>60320592</td>\n    </tr>\n    <tr>\n      <th>2020-01-08 00:00:00-05:00</th>\n      <td>11.99</td>\n      <td>12.050</td>\n      <td>11.87</td>\n      <td>11.930</td>\n      <td>37749100</td>\n    </tr>\n    <tr>\n      <th>2020-01-09 00:00:00-05:00</th>\n      <td>12.07</td>\n      <td>12.090</td>\n      <td>11.83</td>\n      <td>11.900</td>\n      <td>30503177</td>\n    </tr>\n    <tr>\n      <th>2020-01-10 00:00:00-05:00</th>\n      <td>11.84</td>\n      <td>11.910</td>\n      <td>11.59</td>\n      <td>11.670</td>\n      <td>51097374</td>\n    </tr>\n    <tr>\n      <th>...</th>\n      <td>...</td>\n      <td>...</td>\n      <td>...</td>\n      <td>...</td>\n      <td>...</td>\n    </tr>\n    <tr>\n      <th>2021-01-04 00:00:00-05:00</th>\n      <td>10.89</td>\n      <td>10.900</td>\n      <td>10.40</td>\n      <td>10.470</td>\n      <td>72870935</td>\n    </tr>\n    <tr>\n      <th>2021-01-05 00:00:00-05:00</th>\n      <td>10.43</td>\n      <td>10.880</td>\n      <td>10.42</td>\n      <td>10.765</td>\n      <td>79006722</td>\n    </tr>\n    <tr>\n      <th>2021-01-06 00:00:00-05:00</th>\n      <td>10.83</td>\n      <td>11.620</td>\n      <td>10.83</td>\n      <td>11.360</td>\n      <td>125493580</td>\n    </tr>\n    <tr>\n      <th>2021-01-07 00:00:00-05:00</th>\n      <td>11.56</td>\n      <td>11.570</td>\n      <td>11.24</td>\n      <td>11.280</td>\n      <td>63810500</td>\n    </tr>\n    <tr>\n      <th>2021-01-08 00:00:00-05:00</th>\n      <td>11.29</td>\n      <td>11.440</td>\n      <td>11.16</td>\n      <td>11.340</td>\n      <td>66949654</td>\n    </tr>\n  </tbody>\n</table>\n<p>256 rows × 5 columns</p>\n</div>"
     },
     "metadata": {},
     "execution_count": 150
    }
   ],
   "source": [
    "df_ge = alpaca.get_barset(\n",
    "    tickers[3],\n",
    "    timeframe,\n",
    "    start=current_date\n",
    ").df\n",
    "\n",
    "df_ge"
   ]
  },
  {
   "cell_type": "code",
   "execution_count": 151,
   "metadata": {},
   "outputs": [],
   "source": [
    "df_ge = df_ge.T.reset_index(drop=True).T"
   ]
  },
  {
   "cell_type": "code",
   "execution_count": 152,
   "metadata": {},
   "outputs": [],
   "source": [
    "df_ge_cv = df_ge.rename(columns={3:\"ge_close\", 4:\"ge_volume\"})"
   ]
  },
  {
   "cell_type": "code",
   "execution_count": 153,
   "metadata": {},
   "outputs": [
    {
     "output_type": "execute_result",
     "data": {
      "text/plain": [
       "                           ge_close    ge_volume\n",
       "2020-01-06 00:00:00-05:00    12.140   88077970.0\n",
       "2020-01-07 00:00:00-05:00    12.055   60320592.0\n",
       "2020-01-08 00:00:00-05:00    11.930   37749100.0\n",
       "2020-01-09 00:00:00-05:00    11.900   30503177.0\n",
       "2020-01-10 00:00:00-05:00    11.670   51097374.0\n",
       "...                             ...          ...\n",
       "2021-01-04 00:00:00-05:00    10.470   72870935.0\n",
       "2021-01-05 00:00:00-05:00    10.765   79006722.0\n",
       "2021-01-06 00:00:00-05:00    11.360  125493580.0\n",
       "2021-01-07 00:00:00-05:00    11.280   63810500.0\n",
       "2021-01-08 00:00:00-05:00    11.340   66949654.0\n",
       "\n",
       "[256 rows x 2 columns]"
      ],
      "text/html": "<div>\n<style scoped>\n    .dataframe tbody tr th:only-of-type {\n        vertical-align: middle;\n    }\n\n    .dataframe tbody tr th {\n        vertical-align: top;\n    }\n\n    .dataframe thead th {\n        text-align: right;\n    }\n</style>\n<table border=\"1\" class=\"dataframe\">\n  <thead>\n    <tr style=\"text-align: right;\">\n      <th></th>\n      <th>ge_close</th>\n      <th>ge_volume</th>\n    </tr>\n  </thead>\n  <tbody>\n    <tr>\n      <th>2020-01-06 00:00:00-05:00</th>\n      <td>12.140</td>\n      <td>88077970.0</td>\n    </tr>\n    <tr>\n      <th>2020-01-07 00:00:00-05:00</th>\n      <td>12.055</td>\n      <td>60320592.0</td>\n    </tr>\n    <tr>\n      <th>2020-01-08 00:00:00-05:00</th>\n      <td>11.930</td>\n      <td>37749100.0</td>\n    </tr>\n    <tr>\n      <th>2020-01-09 00:00:00-05:00</th>\n      <td>11.900</td>\n      <td>30503177.0</td>\n    </tr>\n    <tr>\n      <th>2020-01-10 00:00:00-05:00</th>\n      <td>11.670</td>\n      <td>51097374.0</td>\n    </tr>\n    <tr>\n      <th>...</th>\n      <td>...</td>\n      <td>...</td>\n    </tr>\n    <tr>\n      <th>2021-01-04 00:00:00-05:00</th>\n      <td>10.470</td>\n      <td>72870935.0</td>\n    </tr>\n    <tr>\n      <th>2021-01-05 00:00:00-05:00</th>\n      <td>10.765</td>\n      <td>79006722.0</td>\n    </tr>\n    <tr>\n      <th>2021-01-06 00:00:00-05:00</th>\n      <td>11.360</td>\n      <td>125493580.0</td>\n    </tr>\n    <tr>\n      <th>2021-01-07 00:00:00-05:00</th>\n      <td>11.280</td>\n      <td>63810500.0</td>\n    </tr>\n    <tr>\n      <th>2021-01-08 00:00:00-05:00</th>\n      <td>11.340</td>\n      <td>66949654.0</td>\n    </tr>\n  </tbody>\n</table>\n<p>256 rows × 2 columns</p>\n</div>"
     },
     "metadata": {},
     "execution_count": 153
    }
   ],
   "source": [
    "ge_df = df_ge_cv.loc[:,['ge_close', 'ge_volume']]\n",
    "ge_df"
   ]
  },
  {
   "cell_type": "code",
   "execution_count": 154,
   "metadata": {},
   "outputs": [
    {
     "output_type": "execute_result",
     "data": {
      "text/plain": [
       "                              F                              \n",
       "                           open  high   low   close    volume\n",
       "2020-01-06 00:00:00-05:00  9.10  9.17  9.06  9.1500  31435591\n",
       "2020-01-07 00:00:00-05:00  9.20  9.25  9.12  9.2500  35164362\n",
       "2020-01-08 00:00:00-05:00  9.23  9.30  9.17  9.2500  39750601\n",
       "2020-01-09 00:00:00-05:00  9.30  9.31  9.18  9.2750  35763979\n",
       "2020-01-10 00:00:00-05:00  9.27  9.36  9.25  9.2500  32805927\n",
       "...                         ...   ...   ...     ...       ...\n",
       "2021-01-04 00:00:00-05:00  8.81  8.84  8.43  8.5200  80476198\n",
       "2021-01-05 00:00:00-05:00  8.47  8.72  8.46  8.6450  67535397\n",
       "2021-01-06 00:00:00-05:00  8.79  8.94  8.68  8.8422  68520361\n",
       "2021-01-07 00:00:00-05:00  8.94  9.08  8.88  9.0500  70837077\n",
       "2021-01-08 00:00:00-05:00  9.10  9.14  8.89  9.0000  57267427\n",
       "\n",
       "[256 rows x 5 columns]"
      ],
      "text/html": "<div>\n<style scoped>\n    .dataframe tbody tr th:only-of-type {\n        vertical-align: middle;\n    }\n\n    .dataframe tbody tr th {\n        vertical-align: top;\n    }\n\n    .dataframe thead tr th {\n        text-align: left;\n    }\n</style>\n<table border=\"1\" class=\"dataframe\">\n  <thead>\n    <tr>\n      <th></th>\n      <th colspan=\"5\" halign=\"left\">F</th>\n    </tr>\n    <tr>\n      <th></th>\n      <th>open</th>\n      <th>high</th>\n      <th>low</th>\n      <th>close</th>\n      <th>volume</th>\n    </tr>\n  </thead>\n  <tbody>\n    <tr>\n      <th>2020-01-06 00:00:00-05:00</th>\n      <td>9.10</td>\n      <td>9.17</td>\n      <td>9.06</td>\n      <td>9.1500</td>\n      <td>31435591</td>\n    </tr>\n    <tr>\n      <th>2020-01-07 00:00:00-05:00</th>\n      <td>9.20</td>\n      <td>9.25</td>\n      <td>9.12</td>\n      <td>9.2500</td>\n      <td>35164362</td>\n    </tr>\n    <tr>\n      <th>2020-01-08 00:00:00-05:00</th>\n      <td>9.23</td>\n      <td>9.30</td>\n      <td>9.17</td>\n      <td>9.2500</td>\n      <td>39750601</td>\n    </tr>\n    <tr>\n      <th>2020-01-09 00:00:00-05:00</th>\n      <td>9.30</td>\n      <td>9.31</td>\n      <td>9.18</td>\n      <td>9.2750</td>\n      <td>35763979</td>\n    </tr>\n    <tr>\n      <th>2020-01-10 00:00:00-05:00</th>\n      <td>9.27</td>\n      <td>9.36</td>\n      <td>9.25</td>\n      <td>9.2500</td>\n      <td>32805927</td>\n    </tr>\n    <tr>\n      <th>...</th>\n      <td>...</td>\n      <td>...</td>\n      <td>...</td>\n      <td>...</td>\n      <td>...</td>\n    </tr>\n    <tr>\n      <th>2021-01-04 00:00:00-05:00</th>\n      <td>8.81</td>\n      <td>8.84</td>\n      <td>8.43</td>\n      <td>8.5200</td>\n      <td>80476198</td>\n    </tr>\n    <tr>\n      <th>2021-01-05 00:00:00-05:00</th>\n      <td>8.47</td>\n      <td>8.72</td>\n      <td>8.46</td>\n      <td>8.6450</td>\n      <td>67535397</td>\n    </tr>\n    <tr>\n      <th>2021-01-06 00:00:00-05:00</th>\n      <td>8.79</td>\n      <td>8.94</td>\n      <td>8.68</td>\n      <td>8.8422</td>\n      <td>68520361</td>\n    </tr>\n    <tr>\n      <th>2021-01-07 00:00:00-05:00</th>\n      <td>8.94</td>\n      <td>9.08</td>\n      <td>8.88</td>\n      <td>9.0500</td>\n      <td>70837077</td>\n    </tr>\n    <tr>\n      <th>2021-01-08 00:00:00-05:00</th>\n      <td>9.10</td>\n      <td>9.14</td>\n      <td>8.89</td>\n      <td>9.0000</td>\n      <td>57267427</td>\n    </tr>\n  </tbody>\n</table>\n<p>256 rows × 5 columns</p>\n</div>"
     },
     "metadata": {},
     "execution_count": 154
    }
   ],
   "source": [
    "df_f = alpaca.get_barset(\n",
    "    tickers[4],\n",
    "    timeframe,\n",
    "    start=current_date\n",
    ").df\n",
    "\n",
    "df_f"
   ]
  },
  {
   "cell_type": "code",
   "execution_count": 155,
   "metadata": {},
   "outputs": [],
   "source": [
    "df_f = df_f.T.reset_index(drop=True).T"
   ]
  },
  {
   "cell_type": "code",
   "execution_count": 156,
   "metadata": {},
   "outputs": [],
   "source": [
    "df_f_cv = df_f.rename(columns={3:\"f_close\", 4:\"f_volume\"})"
   ]
  },
  {
   "cell_type": "code",
   "execution_count": 157,
   "metadata": {},
   "outputs": [
    {
     "output_type": "execute_result",
     "data": {
      "text/plain": [
       "                           f_close    f_volume\n",
       "2020-01-06 00:00:00-05:00   9.1500  31435591.0\n",
       "2020-01-07 00:00:00-05:00   9.2500  35164362.0\n",
       "2020-01-08 00:00:00-05:00   9.2500  39750601.0\n",
       "2020-01-09 00:00:00-05:00   9.2750  35763979.0\n",
       "2020-01-10 00:00:00-05:00   9.2500  32805927.0\n",
       "...                            ...         ...\n",
       "2021-01-04 00:00:00-05:00   8.5200  80476198.0\n",
       "2021-01-05 00:00:00-05:00   8.6450  67535397.0\n",
       "2021-01-06 00:00:00-05:00   8.8422  68520361.0\n",
       "2021-01-07 00:00:00-05:00   9.0500  70837077.0\n",
       "2021-01-08 00:00:00-05:00   9.0000  57267427.0\n",
       "\n",
       "[256 rows x 2 columns]"
      ],
      "text/html": "<div>\n<style scoped>\n    .dataframe tbody tr th:only-of-type {\n        vertical-align: middle;\n    }\n\n    .dataframe tbody tr th {\n        vertical-align: top;\n    }\n\n    .dataframe thead th {\n        text-align: right;\n    }\n</style>\n<table border=\"1\" class=\"dataframe\">\n  <thead>\n    <tr style=\"text-align: right;\">\n      <th></th>\n      <th>f_close</th>\n      <th>f_volume</th>\n    </tr>\n  </thead>\n  <tbody>\n    <tr>\n      <th>2020-01-06 00:00:00-05:00</th>\n      <td>9.1500</td>\n      <td>31435591.0</td>\n    </tr>\n    <tr>\n      <th>2020-01-07 00:00:00-05:00</th>\n      <td>9.2500</td>\n      <td>35164362.0</td>\n    </tr>\n    <tr>\n      <th>2020-01-08 00:00:00-05:00</th>\n      <td>9.2500</td>\n      <td>39750601.0</td>\n    </tr>\n    <tr>\n      <th>2020-01-09 00:00:00-05:00</th>\n      <td>9.2750</td>\n      <td>35763979.0</td>\n    </tr>\n    <tr>\n      <th>2020-01-10 00:00:00-05:00</th>\n      <td>9.2500</td>\n      <td>32805927.0</td>\n    </tr>\n    <tr>\n      <th>...</th>\n      <td>...</td>\n      <td>...</td>\n    </tr>\n    <tr>\n      <th>2021-01-04 00:00:00-05:00</th>\n      <td>8.5200</td>\n      <td>80476198.0</td>\n    </tr>\n    <tr>\n      <th>2021-01-05 00:00:00-05:00</th>\n      <td>8.6450</td>\n      <td>67535397.0</td>\n    </tr>\n    <tr>\n      <th>2021-01-06 00:00:00-05:00</th>\n      <td>8.8422</td>\n      <td>68520361.0</td>\n    </tr>\n    <tr>\n      <th>2021-01-07 00:00:00-05:00</th>\n      <td>9.0500</td>\n      <td>70837077.0</td>\n    </tr>\n    <tr>\n      <th>2021-01-08 00:00:00-05:00</th>\n      <td>9.0000</td>\n      <td>57267427.0</td>\n    </tr>\n  </tbody>\n</table>\n<p>256 rows × 2 columns</p>\n</div>"
     },
     "metadata": {},
     "execution_count": 157
    }
   ],
   "source": [
    "f_df = df_f_cv.loc[:,['f_close', 'f_volume']]\n",
    "f_df"
   ]
  },
  {
   "cell_type": "code",
   "execution_count": 158,
   "metadata": {},
   "outputs": [
    {
     "output_type": "execute_result",
     "data": {
      "text/plain": [
       "                               MSFT                                      \n",
       "                               open      high       low   close    volume\n",
       "2020-01-06 00:00:00-05:00  157.0800  159.1000  156.5100  159.02  15146928\n",
       "2020-01-07 00:00:00-05:00  159.3200  159.6700  157.3200  157.60  17871760\n",
       "2020-01-08 00:00:00-05:00  158.9300  160.8000  157.9491  160.14  22149039\n",
       "2020-01-09 00:00:00-05:00  161.8350  162.2150  161.0300  162.09  16868379\n",
       "2020-01-10 00:00:00-05:00  162.8235  163.2200  161.1800  161.32  17493193\n",
       "...                             ...       ...       ...     ...       ...\n",
       "2021-01-04 00:00:00-05:00  222.5300  223.0000  214.8100  217.81  27651582\n",
       "2021-01-05 00:00:00-05:00  217.2600  218.5200  215.7000  218.01  18061458\n",
       "2021-01-06 00:00:00-05:00  212.1700  216.4899  211.9400  212.22  29768110\n",
       "2021-01-07 00:00:00-05:00  214.0400  219.3400  213.7100  218.29  20366208\n",
       "2021-01-08 00:00:00-05:00  218.6800  220.5800  217.0261  219.55  18248721\n",
       "\n",
       "[256 rows x 5 columns]"
      ],
      "text/html": "<div>\n<style scoped>\n    .dataframe tbody tr th:only-of-type {\n        vertical-align: middle;\n    }\n\n    .dataframe tbody tr th {\n        vertical-align: top;\n    }\n\n    .dataframe thead tr th {\n        text-align: left;\n    }\n</style>\n<table border=\"1\" class=\"dataframe\">\n  <thead>\n    <tr>\n      <th></th>\n      <th colspan=\"5\" halign=\"left\">MSFT</th>\n    </tr>\n    <tr>\n      <th></th>\n      <th>open</th>\n      <th>high</th>\n      <th>low</th>\n      <th>close</th>\n      <th>volume</th>\n    </tr>\n  </thead>\n  <tbody>\n    <tr>\n      <th>2020-01-06 00:00:00-05:00</th>\n      <td>157.0800</td>\n      <td>159.1000</td>\n      <td>156.5100</td>\n      <td>159.02</td>\n      <td>15146928</td>\n    </tr>\n    <tr>\n      <th>2020-01-07 00:00:00-05:00</th>\n      <td>159.3200</td>\n      <td>159.6700</td>\n      <td>157.3200</td>\n      <td>157.60</td>\n      <td>17871760</td>\n    </tr>\n    <tr>\n      <th>2020-01-08 00:00:00-05:00</th>\n      <td>158.9300</td>\n      <td>160.8000</td>\n      <td>157.9491</td>\n      <td>160.14</td>\n      <td>22149039</td>\n    </tr>\n    <tr>\n      <th>2020-01-09 00:00:00-05:00</th>\n      <td>161.8350</td>\n      <td>162.2150</td>\n      <td>161.0300</td>\n      <td>162.09</td>\n      <td>16868379</td>\n    </tr>\n    <tr>\n      <th>2020-01-10 00:00:00-05:00</th>\n      <td>162.8235</td>\n      <td>163.2200</td>\n      <td>161.1800</td>\n      <td>161.32</td>\n      <td>17493193</td>\n    </tr>\n    <tr>\n      <th>...</th>\n      <td>...</td>\n      <td>...</td>\n      <td>...</td>\n      <td>...</td>\n      <td>...</td>\n    </tr>\n    <tr>\n      <th>2021-01-04 00:00:00-05:00</th>\n      <td>222.5300</td>\n      <td>223.0000</td>\n      <td>214.8100</td>\n      <td>217.81</td>\n      <td>27651582</td>\n    </tr>\n    <tr>\n      <th>2021-01-05 00:00:00-05:00</th>\n      <td>217.2600</td>\n      <td>218.5200</td>\n      <td>215.7000</td>\n      <td>218.01</td>\n      <td>18061458</td>\n    </tr>\n    <tr>\n      <th>2021-01-06 00:00:00-05:00</th>\n      <td>212.1700</td>\n      <td>216.4899</td>\n      <td>211.9400</td>\n      <td>212.22</td>\n      <td>29768110</td>\n    </tr>\n    <tr>\n      <th>2021-01-07 00:00:00-05:00</th>\n      <td>214.0400</td>\n      <td>219.3400</td>\n      <td>213.7100</td>\n      <td>218.29</td>\n      <td>20366208</td>\n    </tr>\n    <tr>\n      <th>2021-01-08 00:00:00-05:00</th>\n      <td>218.6800</td>\n      <td>220.5800</td>\n      <td>217.0261</td>\n      <td>219.55</td>\n      <td>18248721</td>\n    </tr>\n  </tbody>\n</table>\n<p>256 rows × 5 columns</p>\n</div>"
     },
     "metadata": {},
     "execution_count": 158
    }
   ],
   "source": [
    "df_msft = alpaca.get_barset(\n",
    "    tickers[5],\n",
    "    timeframe,\n",
    "    start=current_date\n",
    ").df\n",
    "\n",
    "df_msft"
   ]
  },
  {
   "cell_type": "code",
   "execution_count": 159,
   "metadata": {},
   "outputs": [],
   "source": [
    "df_msft = df_msft.T.reset_index(drop=True).T"
   ]
  },
  {
   "cell_type": "code",
   "execution_count": 160,
   "metadata": {},
   "outputs": [],
   "source": [
    "df_msft_cv = df_msft.rename(columns={3:\"msft_close\", 4:\"msft_volume\"})"
   ]
  },
  {
   "cell_type": "code",
   "execution_count": 161,
   "metadata": {},
   "outputs": [
    {
     "output_type": "execute_result",
     "data": {
      "text/plain": [
       "                           msft_close  msft_volume\n",
       "2020-01-06 00:00:00-05:00      159.02   15146928.0\n",
       "2020-01-07 00:00:00-05:00      157.60   17871760.0\n",
       "2020-01-08 00:00:00-05:00      160.14   22149039.0\n",
       "2020-01-09 00:00:00-05:00      162.09   16868379.0\n",
       "2020-01-10 00:00:00-05:00      161.32   17493193.0\n",
       "...                               ...          ...\n",
       "2021-01-04 00:00:00-05:00      217.81   27651582.0\n",
       "2021-01-05 00:00:00-05:00      218.01   18061458.0\n",
       "2021-01-06 00:00:00-05:00      212.22   29768110.0\n",
       "2021-01-07 00:00:00-05:00      218.29   20366208.0\n",
       "2021-01-08 00:00:00-05:00      219.55   18248721.0\n",
       "\n",
       "[256 rows x 2 columns]"
      ],
      "text/html": "<div>\n<style scoped>\n    .dataframe tbody tr th:only-of-type {\n        vertical-align: middle;\n    }\n\n    .dataframe tbody tr th {\n        vertical-align: top;\n    }\n\n    .dataframe thead th {\n        text-align: right;\n    }\n</style>\n<table border=\"1\" class=\"dataframe\">\n  <thead>\n    <tr style=\"text-align: right;\">\n      <th></th>\n      <th>msft_close</th>\n      <th>msft_volume</th>\n    </tr>\n  </thead>\n  <tbody>\n    <tr>\n      <th>2020-01-06 00:00:00-05:00</th>\n      <td>159.02</td>\n      <td>15146928.0</td>\n    </tr>\n    <tr>\n      <th>2020-01-07 00:00:00-05:00</th>\n      <td>157.60</td>\n      <td>17871760.0</td>\n    </tr>\n    <tr>\n      <th>2020-01-08 00:00:00-05:00</th>\n      <td>160.14</td>\n      <td>22149039.0</td>\n    </tr>\n    <tr>\n      <th>2020-01-09 00:00:00-05:00</th>\n      <td>162.09</td>\n      <td>16868379.0</td>\n    </tr>\n    <tr>\n      <th>2020-01-10 00:00:00-05:00</th>\n      <td>161.32</td>\n      <td>17493193.0</td>\n    </tr>\n    <tr>\n      <th>...</th>\n      <td>...</td>\n      <td>...</td>\n    </tr>\n    <tr>\n      <th>2021-01-04 00:00:00-05:00</th>\n      <td>217.81</td>\n      <td>27651582.0</td>\n    </tr>\n    <tr>\n      <th>2021-01-05 00:00:00-05:00</th>\n      <td>218.01</td>\n      <td>18061458.0</td>\n    </tr>\n    <tr>\n      <th>2021-01-06 00:00:00-05:00</th>\n      <td>212.22</td>\n      <td>29768110.0</td>\n    </tr>\n    <tr>\n      <th>2021-01-07 00:00:00-05:00</th>\n      <td>218.29</td>\n      <td>20366208.0</td>\n    </tr>\n    <tr>\n      <th>2021-01-08 00:00:00-05:00</th>\n      <td>219.55</td>\n      <td>18248721.0</td>\n    </tr>\n  </tbody>\n</table>\n<p>256 rows × 2 columns</p>\n</div>"
     },
     "metadata": {},
     "execution_count": 161
    }
   ],
   "source": [
    "msft_df = df_msft_cv.loc[:,['msft_close', 'msft_volume']]\n",
    "msft_df"
   ]
  },
  {
   "cell_type": "code",
   "execution_count": 162,
   "metadata": {},
   "outputs": [
    {
     "output_type": "execute_result",
     "data": {
      "text/plain": [
       "                             NIO                                      \n",
       "                            open     high      low    close     volume\n",
       "2020-01-06 00:00:00-05:00   4.19   4.2400   3.6600   3.6900   98224315\n",
       "2020-01-07 00:00:00-05:00   3.70   3.7300   3.2100   3.2500  100309137\n",
       "2020-01-08 00:00:00-05:00   3.14   3.4900   3.1300   3.3850   60130244\n",
       "2020-01-09 00:00:00-05:00   3.44   3.5800   3.3300   3.4700   51395446\n",
       "2020-01-10 00:00:00-05:00   3.49   3.5750   3.4000   3.5100   33027919\n",
       "...                          ...      ...      ...      ...        ...\n",
       "2021-01-04 00:00:00-05:00  51.20  54.4469  50.6701  53.4816  194732311\n",
       "2021-01-05 00:00:00-05:00  51.97  53.7500  50.4000  53.2000  139895202\n",
       "2021-01-06 00:00:00-05:00  54.02  55.2764  49.0800  50.5234  170401612\n",
       "2021-01-07 00:00:00-05:00  53.05  54.6100  52.3500  54.2500  112050972\n",
       "2021-01-08 00:00:00-05:00  57.76  59.3100  55.8800  58.9100  208053275\n",
       "\n",
       "[256 rows x 5 columns]"
      ],
      "text/html": "<div>\n<style scoped>\n    .dataframe tbody tr th:only-of-type {\n        vertical-align: middle;\n    }\n\n    .dataframe tbody tr th {\n        vertical-align: top;\n    }\n\n    .dataframe thead tr th {\n        text-align: left;\n    }\n</style>\n<table border=\"1\" class=\"dataframe\">\n  <thead>\n    <tr>\n      <th></th>\n      <th colspan=\"5\" halign=\"left\">NIO</th>\n    </tr>\n    <tr>\n      <th></th>\n      <th>open</th>\n      <th>high</th>\n      <th>low</th>\n      <th>close</th>\n      <th>volume</th>\n    </tr>\n  </thead>\n  <tbody>\n    <tr>\n      <th>2020-01-06 00:00:00-05:00</th>\n      <td>4.19</td>\n      <td>4.2400</td>\n      <td>3.6600</td>\n      <td>3.6900</td>\n      <td>98224315</td>\n    </tr>\n    <tr>\n      <th>2020-01-07 00:00:00-05:00</th>\n      <td>3.70</td>\n      <td>3.7300</td>\n      <td>3.2100</td>\n      <td>3.2500</td>\n      <td>100309137</td>\n    </tr>\n    <tr>\n      <th>2020-01-08 00:00:00-05:00</th>\n      <td>3.14</td>\n      <td>3.4900</td>\n      <td>3.1300</td>\n      <td>3.3850</td>\n      <td>60130244</td>\n    </tr>\n    <tr>\n      <th>2020-01-09 00:00:00-05:00</th>\n      <td>3.44</td>\n      <td>3.5800</td>\n      <td>3.3300</td>\n      <td>3.4700</td>\n      <td>51395446</td>\n    </tr>\n    <tr>\n      <th>2020-01-10 00:00:00-05:00</th>\n      <td>3.49</td>\n      <td>3.5750</td>\n      <td>3.4000</td>\n      <td>3.5100</td>\n      <td>33027919</td>\n    </tr>\n    <tr>\n      <th>...</th>\n      <td>...</td>\n      <td>...</td>\n      <td>...</td>\n      <td>...</td>\n      <td>...</td>\n    </tr>\n    <tr>\n      <th>2021-01-04 00:00:00-05:00</th>\n      <td>51.20</td>\n      <td>54.4469</td>\n      <td>50.6701</td>\n      <td>53.4816</td>\n      <td>194732311</td>\n    </tr>\n    <tr>\n      <th>2021-01-05 00:00:00-05:00</th>\n      <td>51.97</td>\n      <td>53.7500</td>\n      <td>50.4000</td>\n      <td>53.2000</td>\n      <td>139895202</td>\n    </tr>\n    <tr>\n      <th>2021-01-06 00:00:00-05:00</th>\n      <td>54.02</td>\n      <td>55.2764</td>\n      <td>49.0800</td>\n      <td>50.5234</td>\n      <td>170401612</td>\n    </tr>\n    <tr>\n      <th>2021-01-07 00:00:00-05:00</th>\n      <td>53.05</td>\n      <td>54.6100</td>\n      <td>52.3500</td>\n      <td>54.2500</td>\n      <td>112050972</td>\n    </tr>\n    <tr>\n      <th>2021-01-08 00:00:00-05:00</th>\n      <td>57.76</td>\n      <td>59.3100</td>\n      <td>55.8800</td>\n      <td>58.9100</td>\n      <td>208053275</td>\n    </tr>\n  </tbody>\n</table>\n<p>256 rows × 5 columns</p>\n</div>"
     },
     "metadata": {},
     "execution_count": 162
    }
   ],
   "source": [
    "df_nio = alpaca.get_barset(\n",
    "    tickers[6],\n",
    "    timeframe,\n",
    "    start=current_date\n",
    ").df\n",
    "\n",
    "df_nio"
   ]
  },
  {
   "cell_type": "code",
   "execution_count": 163,
   "metadata": {},
   "outputs": [],
   "source": [
    "df_nio = df_nio.T.reset_index(drop=True).T"
   ]
  },
  {
   "cell_type": "code",
   "execution_count": 164,
   "metadata": {},
   "outputs": [],
   "source": [
    "df_nio_cv = df_nio.rename(columns={3:\"nio_close\", 4:\"nio_volume\"})"
   ]
  },
  {
   "cell_type": "code",
   "execution_count": 165,
   "metadata": {},
   "outputs": [
    {
     "output_type": "execute_result",
     "data": {
      "text/plain": [
       "                           nio_close   nio_volume\n",
       "2020-01-06 00:00:00-05:00     3.6900   98224315.0\n",
       "2020-01-07 00:00:00-05:00     3.2500  100309137.0\n",
       "2020-01-08 00:00:00-05:00     3.3850   60130244.0\n",
       "2020-01-09 00:00:00-05:00     3.4700   51395446.0\n",
       "2020-01-10 00:00:00-05:00     3.5100   33027919.0\n",
       "...                              ...          ...\n",
       "2021-01-04 00:00:00-05:00    53.4816  194732311.0\n",
       "2021-01-05 00:00:00-05:00    53.2000  139895202.0\n",
       "2021-01-06 00:00:00-05:00    50.5234  170401612.0\n",
       "2021-01-07 00:00:00-05:00    54.2500  112050972.0\n",
       "2021-01-08 00:00:00-05:00    58.9100  208053275.0\n",
       "\n",
       "[256 rows x 2 columns]"
      ],
      "text/html": "<div>\n<style scoped>\n    .dataframe tbody tr th:only-of-type {\n        vertical-align: middle;\n    }\n\n    .dataframe tbody tr th {\n        vertical-align: top;\n    }\n\n    .dataframe thead th {\n        text-align: right;\n    }\n</style>\n<table border=\"1\" class=\"dataframe\">\n  <thead>\n    <tr style=\"text-align: right;\">\n      <th></th>\n      <th>nio_close</th>\n      <th>nio_volume</th>\n    </tr>\n  </thead>\n  <tbody>\n    <tr>\n      <th>2020-01-06 00:00:00-05:00</th>\n      <td>3.6900</td>\n      <td>98224315.0</td>\n    </tr>\n    <tr>\n      <th>2020-01-07 00:00:00-05:00</th>\n      <td>3.2500</td>\n      <td>100309137.0</td>\n    </tr>\n    <tr>\n      <th>2020-01-08 00:00:00-05:00</th>\n      <td>3.3850</td>\n      <td>60130244.0</td>\n    </tr>\n    <tr>\n      <th>2020-01-09 00:00:00-05:00</th>\n      <td>3.4700</td>\n      <td>51395446.0</td>\n    </tr>\n    <tr>\n      <th>2020-01-10 00:00:00-05:00</th>\n      <td>3.5100</td>\n      <td>33027919.0</td>\n    </tr>\n    <tr>\n      <th>...</th>\n      <td>...</td>\n      <td>...</td>\n    </tr>\n    <tr>\n      <th>2021-01-04 00:00:00-05:00</th>\n      <td>53.4816</td>\n      <td>194732311.0</td>\n    </tr>\n    <tr>\n      <th>2021-01-05 00:00:00-05:00</th>\n      <td>53.2000</td>\n      <td>139895202.0</td>\n    </tr>\n    <tr>\n      <th>2021-01-06 00:00:00-05:00</th>\n      <td>50.5234</td>\n      <td>170401612.0</td>\n    </tr>\n    <tr>\n      <th>2021-01-07 00:00:00-05:00</th>\n      <td>54.2500</td>\n      <td>112050972.0</td>\n    </tr>\n    <tr>\n      <th>2021-01-08 00:00:00-05:00</th>\n      <td>58.9100</td>\n      <td>208053275.0</td>\n    </tr>\n  </tbody>\n</table>\n<p>256 rows × 2 columns</p>\n</div>"
     },
     "metadata": {},
     "execution_count": 165
    }
   ],
   "source": [
    "nio_df = df_nio_cv.loc[:,['nio_close', 'nio_volume']]\n",
    "nio_df"
   ]
  },
  {
   "cell_type": "code",
   "execution_count": 166,
   "metadata": {},
   "outputs": [
    {
     "output_type": "execute_result",
     "data": {
      "text/plain": [
       "                             PFE                                \n",
       "                            open    high    low  close    volume\n",
       "2020-01-06 00:00:00-05:00  38.82  39.000  38.70  38.87  10206988\n",
       "2020-01-07 00:00:00-05:00  39.12  39.130  38.68  38.76  15412402\n",
       "2020-01-08 00:00:00-05:00  38.76  39.220  38.75  39.05  12490932\n",
       "2020-01-09 00:00:00-05:00  39.27  39.270  38.79  38.89  15008669\n",
       "2020-01-10 00:00:00-05:00  38.98  39.625  38.97  39.49  17128495\n",
       "...                          ...     ...    ...    ...       ...\n",
       "2021-01-04 00:00:00-05:00  36.87  36.940  36.27  36.82  28440292\n",
       "2021-01-05 00:00:00-05:00  36.72  37.370  36.60  37.19  24730234\n",
       "2021-01-06 00:00:00-05:00  36.83  37.480  36.77  36.88  29131691\n",
       "2021-01-07 00:00:00-05:00  37.04  37.150  36.67  37.05  23988415\n",
       "2021-01-08 00:00:00-05:00  37.16  37.525  36.90  37.12  29721152\n",
       "\n",
       "[256 rows x 5 columns]"
      ],
      "text/html": "<div>\n<style scoped>\n    .dataframe tbody tr th:only-of-type {\n        vertical-align: middle;\n    }\n\n    .dataframe tbody tr th {\n        vertical-align: top;\n    }\n\n    .dataframe thead tr th {\n        text-align: left;\n    }\n</style>\n<table border=\"1\" class=\"dataframe\">\n  <thead>\n    <tr>\n      <th></th>\n      <th colspan=\"5\" halign=\"left\">PFE</th>\n    </tr>\n    <tr>\n      <th></th>\n      <th>open</th>\n      <th>high</th>\n      <th>low</th>\n      <th>close</th>\n      <th>volume</th>\n    </tr>\n  </thead>\n  <tbody>\n    <tr>\n      <th>2020-01-06 00:00:00-05:00</th>\n      <td>38.82</td>\n      <td>39.000</td>\n      <td>38.70</td>\n      <td>38.87</td>\n      <td>10206988</td>\n    </tr>\n    <tr>\n      <th>2020-01-07 00:00:00-05:00</th>\n      <td>39.12</td>\n      <td>39.130</td>\n      <td>38.68</td>\n      <td>38.76</td>\n      <td>15412402</td>\n    </tr>\n    <tr>\n      <th>2020-01-08 00:00:00-05:00</th>\n      <td>38.76</td>\n      <td>39.220</td>\n      <td>38.75</td>\n      <td>39.05</td>\n      <td>12490932</td>\n    </tr>\n    <tr>\n      <th>2020-01-09 00:00:00-05:00</th>\n      <td>39.27</td>\n      <td>39.270</td>\n      <td>38.79</td>\n      <td>38.89</td>\n      <td>15008669</td>\n    </tr>\n    <tr>\n      <th>2020-01-10 00:00:00-05:00</th>\n      <td>38.98</td>\n      <td>39.625</td>\n      <td>38.97</td>\n      <td>39.49</td>\n      <td>17128495</td>\n    </tr>\n    <tr>\n      <th>...</th>\n      <td>...</td>\n      <td>...</td>\n      <td>...</td>\n      <td>...</td>\n      <td>...</td>\n    </tr>\n    <tr>\n      <th>2021-01-04 00:00:00-05:00</th>\n      <td>36.87</td>\n      <td>36.940</td>\n      <td>36.27</td>\n      <td>36.82</td>\n      <td>28440292</td>\n    </tr>\n    <tr>\n      <th>2021-01-05 00:00:00-05:00</th>\n      <td>36.72</td>\n      <td>37.370</td>\n      <td>36.60</td>\n      <td>37.19</td>\n      <td>24730234</td>\n    </tr>\n    <tr>\n      <th>2021-01-06 00:00:00-05:00</th>\n      <td>36.83</td>\n      <td>37.480</td>\n      <td>36.77</td>\n      <td>36.88</td>\n      <td>29131691</td>\n    </tr>\n    <tr>\n      <th>2021-01-07 00:00:00-05:00</th>\n      <td>37.04</td>\n      <td>37.150</td>\n      <td>36.67</td>\n      <td>37.05</td>\n      <td>23988415</td>\n    </tr>\n    <tr>\n      <th>2021-01-08 00:00:00-05:00</th>\n      <td>37.16</td>\n      <td>37.525</td>\n      <td>36.90</td>\n      <td>37.12</td>\n      <td>29721152</td>\n    </tr>\n  </tbody>\n</table>\n<p>256 rows × 5 columns</p>\n</div>"
     },
     "metadata": {},
     "execution_count": 166
    }
   ],
   "source": [
    "df_pfe = alpaca.get_barset(\n",
    "    tickers[7],\n",
    "    timeframe,\n",
    "    start=current_date\n",
    ").df\n",
    "\n",
    "df_pfe"
   ]
  },
  {
   "cell_type": "code",
   "execution_count": 168,
   "metadata": {},
   "outputs": [],
   "source": [
    "df_pfe = df_pfe.T.reset_index(drop=True).T"
   ]
  },
  {
   "cell_type": "code",
   "execution_count": 169,
   "metadata": {},
   "outputs": [],
   "source": [
    "df_pfe_cv = df_pfe.rename(columns={3:\"pfe_close\", 4:\"pfe_volume\"})"
   ]
  },
  {
   "cell_type": "code",
   "execution_count": 170,
   "metadata": {},
   "outputs": [
    {
     "output_type": "execute_result",
     "data": {
      "text/plain": [
       "                           pfe_close  pfe_volume\n",
       "2020-01-06 00:00:00-05:00      38.87  10206988.0\n",
       "2020-01-07 00:00:00-05:00      38.76  15412402.0\n",
       "2020-01-08 00:00:00-05:00      39.05  12490932.0\n",
       "2020-01-09 00:00:00-05:00      38.89  15008669.0\n",
       "2020-01-10 00:00:00-05:00      39.49  17128495.0\n",
       "...                              ...         ...\n",
       "2021-01-04 00:00:00-05:00      36.82  28440292.0\n",
       "2021-01-05 00:00:00-05:00      37.19  24730234.0\n",
       "2021-01-06 00:00:00-05:00      36.88  29131691.0\n",
       "2021-01-07 00:00:00-05:00      37.05  23988415.0\n",
       "2021-01-08 00:00:00-05:00      37.12  29721152.0\n",
       "\n",
       "[256 rows x 2 columns]"
      ],
      "text/html": "<div>\n<style scoped>\n    .dataframe tbody tr th:only-of-type {\n        vertical-align: middle;\n    }\n\n    .dataframe tbody tr th {\n        vertical-align: top;\n    }\n\n    .dataframe thead th {\n        text-align: right;\n    }\n</style>\n<table border=\"1\" class=\"dataframe\">\n  <thead>\n    <tr style=\"text-align: right;\">\n      <th></th>\n      <th>pfe_close</th>\n      <th>pfe_volume</th>\n    </tr>\n  </thead>\n  <tbody>\n    <tr>\n      <th>2020-01-06 00:00:00-05:00</th>\n      <td>38.87</td>\n      <td>10206988.0</td>\n    </tr>\n    <tr>\n      <th>2020-01-07 00:00:00-05:00</th>\n      <td>38.76</td>\n      <td>15412402.0</td>\n    </tr>\n    <tr>\n      <th>2020-01-08 00:00:00-05:00</th>\n      <td>39.05</td>\n      <td>12490932.0</td>\n    </tr>\n    <tr>\n      <th>2020-01-09 00:00:00-05:00</th>\n      <td>38.89</td>\n      <td>15008669.0</td>\n    </tr>\n    <tr>\n      <th>2020-01-10 00:00:00-05:00</th>\n      <td>39.49</td>\n      <td>17128495.0</td>\n    </tr>\n    <tr>\n      <th>...</th>\n      <td>...</td>\n      <td>...</td>\n    </tr>\n    <tr>\n      <th>2021-01-04 00:00:00-05:00</th>\n      <td>36.82</td>\n      <td>28440292.0</td>\n    </tr>\n    <tr>\n      <th>2021-01-05 00:00:00-05:00</th>\n      <td>37.19</td>\n      <td>24730234.0</td>\n    </tr>\n    <tr>\n      <th>2021-01-06 00:00:00-05:00</th>\n      <td>36.88</td>\n      <td>29131691.0</td>\n    </tr>\n    <tr>\n      <th>2021-01-07 00:00:00-05:00</th>\n      <td>37.05</td>\n      <td>23988415.0</td>\n    </tr>\n    <tr>\n      <th>2021-01-08 00:00:00-05:00</th>\n      <td>37.12</td>\n      <td>29721152.0</td>\n    </tr>\n  </tbody>\n</table>\n<p>256 rows × 2 columns</p>\n</div>"
     },
     "metadata": {},
     "execution_count": 170
    }
   ],
   "source": [
    "pfe_df = df_pfe_cv.loc[:,['pfe_close', 'pfe_volume']]\n",
    "pfe_df"
   ]
  },
  {
   "cell_type": "code",
   "execution_count": 171,
   "metadata": {},
   "outputs": [
    {
     "output_type": "execute_result",
     "data": {
      "text/plain": [
       "                              AMZN                                        \n",
       "                              open       high        low    close   volume\n",
       "2020-01-06 00:00:00-05:00  1860.00  1903.6900  1860.0000  1903.33  3598872\n",
       "2020-01-07 00:00:00-05:00  1904.50  1913.8900  1892.0433  1906.86  3569706\n",
       "2020-01-08 00:00:00-05:00  1898.68  1910.9999  1886.4448  1892.09  3100021\n",
       "2020-01-09 00:00:00-05:00  1909.89  1917.8200  1895.8038  1901.00  2913887\n",
       "2020-01-10 00:00:00-05:00  1905.37  1906.9400  1880.0000  1882.98  2652859\n",
       "...                            ...        ...        ...      ...      ...\n",
       "2021-01-04 00:00:00-05:00  3270.00  3272.0000  3144.0200  3186.65  3974073\n",
       "2021-01-05 00:00:00-05:00  3166.01  3223.3800  3165.0600  3218.51  2325459\n",
       "2021-01-06 00:00:00-05:00  3146.48  3197.5090  3131.1600  3138.01  3919285\n",
       "2021-01-07 00:00:00-05:00  3157.00  3208.5420  3155.0000  3161.41  2951339\n",
       "2021-01-08 00:00:00-05:00  3180.00  3190.6400  3142.2000  3182.70  3261271\n",
       "\n",
       "[256 rows x 5 columns]"
      ],
      "text/html": "<div>\n<style scoped>\n    .dataframe tbody tr th:only-of-type {\n        vertical-align: middle;\n    }\n\n    .dataframe tbody tr th {\n        vertical-align: top;\n    }\n\n    .dataframe thead tr th {\n        text-align: left;\n    }\n</style>\n<table border=\"1\" class=\"dataframe\">\n  <thead>\n    <tr>\n      <th></th>\n      <th colspan=\"5\" halign=\"left\">AMZN</th>\n    </tr>\n    <tr>\n      <th></th>\n      <th>open</th>\n      <th>high</th>\n      <th>low</th>\n      <th>close</th>\n      <th>volume</th>\n    </tr>\n  </thead>\n  <tbody>\n    <tr>\n      <th>2020-01-06 00:00:00-05:00</th>\n      <td>1860.00</td>\n      <td>1903.6900</td>\n      <td>1860.0000</td>\n      <td>1903.33</td>\n      <td>3598872</td>\n    </tr>\n    <tr>\n      <th>2020-01-07 00:00:00-05:00</th>\n      <td>1904.50</td>\n      <td>1913.8900</td>\n      <td>1892.0433</td>\n      <td>1906.86</td>\n      <td>3569706</td>\n    </tr>\n    <tr>\n      <th>2020-01-08 00:00:00-05:00</th>\n      <td>1898.68</td>\n      <td>1910.9999</td>\n      <td>1886.4448</td>\n      <td>1892.09</td>\n      <td>3100021</td>\n    </tr>\n    <tr>\n      <th>2020-01-09 00:00:00-05:00</th>\n      <td>1909.89</td>\n      <td>1917.8200</td>\n      <td>1895.8038</td>\n      <td>1901.00</td>\n      <td>2913887</td>\n    </tr>\n    <tr>\n      <th>2020-01-10 00:00:00-05:00</th>\n      <td>1905.37</td>\n      <td>1906.9400</td>\n      <td>1880.0000</td>\n      <td>1882.98</td>\n      <td>2652859</td>\n    </tr>\n    <tr>\n      <th>...</th>\n      <td>...</td>\n      <td>...</td>\n      <td>...</td>\n      <td>...</td>\n      <td>...</td>\n    </tr>\n    <tr>\n      <th>2021-01-04 00:00:00-05:00</th>\n      <td>3270.00</td>\n      <td>3272.0000</td>\n      <td>3144.0200</td>\n      <td>3186.65</td>\n      <td>3974073</td>\n    </tr>\n    <tr>\n      <th>2021-01-05 00:00:00-05:00</th>\n      <td>3166.01</td>\n      <td>3223.3800</td>\n      <td>3165.0600</td>\n      <td>3218.51</td>\n      <td>2325459</td>\n    </tr>\n    <tr>\n      <th>2021-01-06 00:00:00-05:00</th>\n      <td>3146.48</td>\n      <td>3197.5090</td>\n      <td>3131.1600</td>\n      <td>3138.01</td>\n      <td>3919285</td>\n    </tr>\n    <tr>\n      <th>2021-01-07 00:00:00-05:00</th>\n      <td>3157.00</td>\n      <td>3208.5420</td>\n      <td>3155.0000</td>\n      <td>3161.41</td>\n      <td>2951339</td>\n    </tr>\n    <tr>\n      <th>2021-01-08 00:00:00-05:00</th>\n      <td>3180.00</td>\n      <td>3190.6400</td>\n      <td>3142.2000</td>\n      <td>3182.70</td>\n      <td>3261271</td>\n    </tr>\n  </tbody>\n</table>\n<p>256 rows × 5 columns</p>\n</div>"
     },
     "metadata": {},
     "execution_count": 171
    }
   ],
   "source": [
    "df_amzn = alpaca.get_barset(\n",
    "    tickers[8],\n",
    "    timeframe,\n",
    "    start=current_date\n",
    ").df\n",
    "\n",
    "df_amzn"
   ]
  },
  {
   "cell_type": "code",
   "execution_count": 172,
   "metadata": {},
   "outputs": [],
   "source": [
    "df_amzn = df_amzn.T.reset_index(drop=True).T"
   ]
  },
  {
   "cell_type": "code",
   "execution_count": 173,
   "metadata": {},
   "outputs": [],
   "source": [
    "df_amzn_cv = df_amzn.rename(columns={3:\"amzn_close\", 4:\"amzn_volume\"})"
   ]
  },
  {
   "cell_type": "code",
   "execution_count": 174,
   "metadata": {},
   "outputs": [
    {
     "output_type": "execute_result",
     "data": {
      "text/plain": [
       "                           amzn_close  amzn_volume\n",
       "2020-01-06 00:00:00-05:00     1903.33    3598872.0\n",
       "2020-01-07 00:00:00-05:00     1906.86    3569706.0\n",
       "2020-01-08 00:00:00-05:00     1892.09    3100021.0\n",
       "2020-01-09 00:00:00-05:00     1901.00    2913887.0\n",
       "2020-01-10 00:00:00-05:00     1882.98    2652859.0\n",
       "...                               ...          ...\n",
       "2021-01-04 00:00:00-05:00     3186.65    3974073.0\n",
       "2021-01-05 00:00:00-05:00     3218.51    2325459.0\n",
       "2021-01-06 00:00:00-05:00     3138.01    3919285.0\n",
       "2021-01-07 00:00:00-05:00     3161.41    2951339.0\n",
       "2021-01-08 00:00:00-05:00     3182.70    3261271.0\n",
       "\n",
       "[256 rows x 2 columns]"
      ],
      "text/html": "<div>\n<style scoped>\n    .dataframe tbody tr th:only-of-type {\n        vertical-align: middle;\n    }\n\n    .dataframe tbody tr th {\n        vertical-align: top;\n    }\n\n    .dataframe thead th {\n        text-align: right;\n    }\n</style>\n<table border=\"1\" class=\"dataframe\">\n  <thead>\n    <tr style=\"text-align: right;\">\n      <th></th>\n      <th>amzn_close</th>\n      <th>amzn_volume</th>\n    </tr>\n  </thead>\n  <tbody>\n    <tr>\n      <th>2020-01-06 00:00:00-05:00</th>\n      <td>1903.33</td>\n      <td>3598872.0</td>\n    </tr>\n    <tr>\n      <th>2020-01-07 00:00:00-05:00</th>\n      <td>1906.86</td>\n      <td>3569706.0</td>\n    </tr>\n    <tr>\n      <th>2020-01-08 00:00:00-05:00</th>\n      <td>1892.09</td>\n      <td>3100021.0</td>\n    </tr>\n    <tr>\n      <th>2020-01-09 00:00:00-05:00</th>\n      <td>1901.00</td>\n      <td>2913887.0</td>\n    </tr>\n    <tr>\n      <th>2020-01-10 00:00:00-05:00</th>\n      <td>1882.98</td>\n      <td>2652859.0</td>\n    </tr>\n    <tr>\n      <th>...</th>\n      <td>...</td>\n      <td>...</td>\n    </tr>\n    <tr>\n      <th>2021-01-04 00:00:00-05:00</th>\n      <td>3186.65</td>\n      <td>3974073.0</td>\n    </tr>\n    <tr>\n      <th>2021-01-05 00:00:00-05:00</th>\n      <td>3218.51</td>\n      <td>2325459.0</td>\n    </tr>\n    <tr>\n      <th>2021-01-06 00:00:00-05:00</th>\n      <td>3138.01</td>\n      <td>3919285.0</td>\n    </tr>\n    <tr>\n      <th>2021-01-07 00:00:00-05:00</th>\n      <td>3161.41</td>\n      <td>2951339.0</td>\n    </tr>\n    <tr>\n      <th>2021-01-08 00:00:00-05:00</th>\n      <td>3182.70</td>\n      <td>3261271.0</td>\n    </tr>\n  </tbody>\n</table>\n<p>256 rows × 2 columns</p>\n</div>"
     },
     "metadata": {},
     "execution_count": 174
    }
   ],
   "source": [
    "amzn_df = df_amzn_cv.loc[:,['amzn_close', 'amzn_volume']]\n",
    "amzn_df"
   ]
  },
  {
   "cell_type": "code",
   "execution_count": 175,
   "metadata": {},
   "outputs": [
    {
     "output_type": "execute_result",
     "data": {
      "text/plain": [
       "                             AAL                                  \n",
       "                            open     high    low   close    volume\n",
       "2020-01-06 00:00:00-05:00  27.19  27.4901  27.08  27.320   5383583\n",
       "2020-01-07 00:00:00-05:00  27.56  27.6800  27.06  27.220   5570129\n",
       "2020-01-08 00:00:00-05:00  27.21  28.0900  27.10  27.840   9479470\n",
       "2020-01-09 00:00:00-05:00  28.09  28.2300  27.71  27.950   5923245\n",
       "2020-01-10 00:00:00-05:00  27.93  27.9900  27.25  27.320   7291102\n",
       "...                          ...      ...    ...     ...       ...\n",
       "2021-01-04 00:00:00-05:00  15.85  15.8800  15.03  15.120  68479594\n",
       "2021-01-05 00:00:00-05:00  14.92  15.6300  14.87  15.430  51109216\n",
       "2021-01-06 00:00:00-05:00  15.45  15.8000  15.17  15.520  61348418\n",
       "2021-01-07 00:00:00-05:00  15.67  15.8700  15.38  15.380  45503976\n",
       "2021-01-08 00:00:00-05:00  15.43  15.5300  15.00  15.115  54302647\n",
       "\n",
       "[256 rows x 5 columns]"
      ],
      "text/html": "<div>\n<style scoped>\n    .dataframe tbody tr th:only-of-type {\n        vertical-align: middle;\n    }\n\n    .dataframe tbody tr th {\n        vertical-align: top;\n    }\n\n    .dataframe thead tr th {\n        text-align: left;\n    }\n</style>\n<table border=\"1\" class=\"dataframe\">\n  <thead>\n    <tr>\n      <th></th>\n      <th colspan=\"5\" halign=\"left\">AAL</th>\n    </tr>\n    <tr>\n      <th></th>\n      <th>open</th>\n      <th>high</th>\n      <th>low</th>\n      <th>close</th>\n      <th>volume</th>\n    </tr>\n  </thead>\n  <tbody>\n    <tr>\n      <th>2020-01-06 00:00:00-05:00</th>\n      <td>27.19</td>\n      <td>27.4901</td>\n      <td>27.08</td>\n      <td>27.320</td>\n      <td>5383583</td>\n    </tr>\n    <tr>\n      <th>2020-01-07 00:00:00-05:00</th>\n      <td>27.56</td>\n      <td>27.6800</td>\n      <td>27.06</td>\n      <td>27.220</td>\n      <td>5570129</td>\n    </tr>\n    <tr>\n      <th>2020-01-08 00:00:00-05:00</th>\n      <td>27.21</td>\n      <td>28.0900</td>\n      <td>27.10</td>\n      <td>27.840</td>\n      <td>9479470</td>\n    </tr>\n    <tr>\n      <th>2020-01-09 00:00:00-05:00</th>\n      <td>28.09</td>\n      <td>28.2300</td>\n      <td>27.71</td>\n      <td>27.950</td>\n      <td>5923245</td>\n    </tr>\n    <tr>\n      <th>2020-01-10 00:00:00-05:00</th>\n      <td>27.93</td>\n      <td>27.9900</td>\n      <td>27.25</td>\n      <td>27.320</td>\n      <td>7291102</td>\n    </tr>\n    <tr>\n      <th>...</th>\n      <td>...</td>\n      <td>...</td>\n      <td>...</td>\n      <td>...</td>\n      <td>...</td>\n    </tr>\n    <tr>\n      <th>2021-01-04 00:00:00-05:00</th>\n      <td>15.85</td>\n      <td>15.8800</td>\n      <td>15.03</td>\n      <td>15.120</td>\n      <td>68479594</td>\n    </tr>\n    <tr>\n      <th>2021-01-05 00:00:00-05:00</th>\n      <td>14.92</td>\n      <td>15.6300</td>\n      <td>14.87</td>\n      <td>15.430</td>\n      <td>51109216</td>\n    </tr>\n    <tr>\n      <th>2021-01-06 00:00:00-05:00</th>\n      <td>15.45</td>\n      <td>15.8000</td>\n      <td>15.17</td>\n      <td>15.520</td>\n      <td>61348418</td>\n    </tr>\n    <tr>\n      <th>2021-01-07 00:00:00-05:00</th>\n      <td>15.67</td>\n      <td>15.8700</td>\n      <td>15.38</td>\n      <td>15.380</td>\n      <td>45503976</td>\n    </tr>\n    <tr>\n      <th>2021-01-08 00:00:00-05:00</th>\n      <td>15.43</td>\n      <td>15.5300</td>\n      <td>15.00</td>\n      <td>15.115</td>\n      <td>54302647</td>\n    </tr>\n  </tbody>\n</table>\n<p>256 rows × 5 columns</p>\n</div>"
     },
     "metadata": {},
     "execution_count": 175
    }
   ],
   "source": [
    "df_aal = alpaca.get_barset(\n",
    "    tickers[9],\n",
    "    timeframe,\n",
    "    start=current_date\n",
    ").df\n",
    "\n",
    "df_aal"
   ]
  },
  {
   "cell_type": "code",
   "execution_count": 176,
   "metadata": {},
   "outputs": [],
   "source": [
    "df_aal = df_aal.T.reset_index(drop=True).T"
   ]
  },
  {
   "cell_type": "code",
   "execution_count": 177,
   "metadata": {},
   "outputs": [],
   "source": [
    "df_aal_cv = df_aal.rename(columns={3:\"aal_close\", 4:\"aal_volume\"})"
   ]
  },
  {
   "cell_type": "code",
   "execution_count": 178,
   "metadata": {},
   "outputs": [
    {
     "output_type": "execute_result",
     "data": {
      "text/plain": [
       "                           aal_close  aal_volume\n",
       "2020-01-06 00:00:00-05:00     27.320   5383583.0\n",
       "2020-01-07 00:00:00-05:00     27.220   5570129.0\n",
       "2020-01-08 00:00:00-05:00     27.840   9479470.0\n",
       "2020-01-09 00:00:00-05:00     27.950   5923245.0\n",
       "2020-01-10 00:00:00-05:00     27.320   7291102.0\n",
       "...                              ...         ...\n",
       "2021-01-04 00:00:00-05:00     15.120  68479594.0\n",
       "2021-01-05 00:00:00-05:00     15.430  51109216.0\n",
       "2021-01-06 00:00:00-05:00     15.520  61348418.0\n",
       "2021-01-07 00:00:00-05:00     15.380  45503976.0\n",
       "2021-01-08 00:00:00-05:00     15.115  54302647.0\n",
       "\n",
       "[256 rows x 2 columns]"
      ],
      "text/html": "<div>\n<style scoped>\n    .dataframe tbody tr th:only-of-type {\n        vertical-align: middle;\n    }\n\n    .dataframe tbody tr th {\n        vertical-align: top;\n    }\n\n    .dataframe thead th {\n        text-align: right;\n    }\n</style>\n<table border=\"1\" class=\"dataframe\">\n  <thead>\n    <tr style=\"text-align: right;\">\n      <th></th>\n      <th>aal_close</th>\n      <th>aal_volume</th>\n    </tr>\n  </thead>\n  <tbody>\n    <tr>\n      <th>2020-01-06 00:00:00-05:00</th>\n      <td>27.320</td>\n      <td>5383583.0</td>\n    </tr>\n    <tr>\n      <th>2020-01-07 00:00:00-05:00</th>\n      <td>27.220</td>\n      <td>5570129.0</td>\n    </tr>\n    <tr>\n      <th>2020-01-08 00:00:00-05:00</th>\n      <td>27.840</td>\n      <td>9479470.0</td>\n    </tr>\n    <tr>\n      <th>2020-01-09 00:00:00-05:00</th>\n      <td>27.950</td>\n      <td>5923245.0</td>\n    </tr>\n    <tr>\n      <th>2020-01-10 00:00:00-05:00</th>\n      <td>27.320</td>\n      <td>7291102.0</td>\n    </tr>\n    <tr>\n      <th>...</th>\n      <td>...</td>\n      <td>...</td>\n    </tr>\n    <tr>\n      <th>2021-01-04 00:00:00-05:00</th>\n      <td>15.120</td>\n      <td>68479594.0</td>\n    </tr>\n    <tr>\n      <th>2021-01-05 00:00:00-05:00</th>\n      <td>15.430</td>\n      <td>51109216.0</td>\n    </tr>\n    <tr>\n      <th>2021-01-06 00:00:00-05:00</th>\n      <td>15.520</td>\n      <td>61348418.0</td>\n    </tr>\n    <tr>\n      <th>2021-01-07 00:00:00-05:00</th>\n      <td>15.380</td>\n      <td>45503976.0</td>\n    </tr>\n    <tr>\n      <th>2021-01-08 00:00:00-05:00</th>\n      <td>15.115</td>\n      <td>54302647.0</td>\n    </tr>\n  </tbody>\n</table>\n<p>256 rows × 2 columns</p>\n</div>"
     },
     "metadata": {},
     "execution_count": 178
    }
   ],
   "source": [
    "aal_df = df_aal_cv.loc[:,['aal_close', 'aal_volume']]\n",
    "aal_df"
   ]
  },
  {
   "cell_type": "code",
   "execution_count": 179,
   "metadata": {},
   "outputs": [
    {
     "output_type": "execute_result",
     "data": {
      "text/plain": [
       "                               DIS                                      \n",
       "                              open      high       low   close    volume\n",
       "2020-01-06 00:00:00-05:00  145.540  146.0300  144.3100  145.65   7363097\n",
       "2020-01-07 00:00:00-05:00  145.990  146.8699  145.4350  145.68   5646933\n",
       "2020-01-08 00:00:00-05:00  145.490  146.1300  144.8200  145.45   5771723\n",
       "2020-01-09 00:00:00-05:00  146.470  146.6250  144.6100  144.80   5331260\n",
       "2020-01-10 00:00:00-05:00  145.300  145.5000  144.2600  144.60   4192359\n",
       "...                            ...       ...       ...     ...       ...\n",
       "2021-01-04 00:00:00-05:00  182.255  182.5900  174.7300  177.55  11001381\n",
       "2021-01-05 00:00:00-05:00  176.200  180.3399  176.2000  178.45   5870876\n",
       "2021-01-06 00:00:00-05:00  178.320  181.6100  177.2836  179.12   6411222\n",
       "2021-01-07 00:00:00-05:00  179.500  179.9500  177.5750  178.58   6367836\n",
       "2021-01-08 00:00:00-05:00  178.810  180.0200  176.6000  178.68   5961422\n",
       "\n",
       "[256 rows x 5 columns]"
      ],
      "text/html": "<div>\n<style scoped>\n    .dataframe tbody tr th:only-of-type {\n        vertical-align: middle;\n    }\n\n    .dataframe tbody tr th {\n        vertical-align: top;\n    }\n\n    .dataframe thead tr th {\n        text-align: left;\n    }\n</style>\n<table border=\"1\" class=\"dataframe\">\n  <thead>\n    <tr>\n      <th></th>\n      <th colspan=\"5\" halign=\"left\">DIS</th>\n    </tr>\n    <tr>\n      <th></th>\n      <th>open</th>\n      <th>high</th>\n      <th>low</th>\n      <th>close</th>\n      <th>volume</th>\n    </tr>\n  </thead>\n  <tbody>\n    <tr>\n      <th>2020-01-06 00:00:00-05:00</th>\n      <td>145.540</td>\n      <td>146.0300</td>\n      <td>144.3100</td>\n      <td>145.65</td>\n      <td>7363097</td>\n    </tr>\n    <tr>\n      <th>2020-01-07 00:00:00-05:00</th>\n      <td>145.990</td>\n      <td>146.8699</td>\n      <td>145.4350</td>\n      <td>145.68</td>\n      <td>5646933</td>\n    </tr>\n    <tr>\n      <th>2020-01-08 00:00:00-05:00</th>\n      <td>145.490</td>\n      <td>146.1300</td>\n      <td>144.8200</td>\n      <td>145.45</td>\n      <td>5771723</td>\n    </tr>\n    <tr>\n      <th>2020-01-09 00:00:00-05:00</th>\n      <td>146.470</td>\n      <td>146.6250</td>\n      <td>144.6100</td>\n      <td>144.80</td>\n      <td>5331260</td>\n    </tr>\n    <tr>\n      <th>2020-01-10 00:00:00-05:00</th>\n      <td>145.300</td>\n      <td>145.5000</td>\n      <td>144.2600</td>\n      <td>144.60</td>\n      <td>4192359</td>\n    </tr>\n    <tr>\n      <th>...</th>\n      <td>...</td>\n      <td>...</td>\n      <td>...</td>\n      <td>...</td>\n      <td>...</td>\n    </tr>\n    <tr>\n      <th>2021-01-04 00:00:00-05:00</th>\n      <td>182.255</td>\n      <td>182.5900</td>\n      <td>174.7300</td>\n      <td>177.55</td>\n      <td>11001381</td>\n    </tr>\n    <tr>\n      <th>2021-01-05 00:00:00-05:00</th>\n      <td>176.200</td>\n      <td>180.3399</td>\n      <td>176.2000</td>\n      <td>178.45</td>\n      <td>5870876</td>\n    </tr>\n    <tr>\n      <th>2021-01-06 00:00:00-05:00</th>\n      <td>178.320</td>\n      <td>181.6100</td>\n      <td>177.2836</td>\n      <td>179.12</td>\n      <td>6411222</td>\n    </tr>\n    <tr>\n      <th>2021-01-07 00:00:00-05:00</th>\n      <td>179.500</td>\n      <td>179.9500</td>\n      <td>177.5750</td>\n      <td>178.58</td>\n      <td>6367836</td>\n    </tr>\n    <tr>\n      <th>2021-01-08 00:00:00-05:00</th>\n      <td>178.810</td>\n      <td>180.0200</td>\n      <td>176.6000</td>\n      <td>178.68</td>\n      <td>5961422</td>\n    </tr>\n  </tbody>\n</table>\n<p>256 rows × 5 columns</p>\n</div>"
     },
     "metadata": {},
     "execution_count": 179
    }
   ],
   "source": [
    "df_dis = alpaca.get_barset(\n",
    "    tickers[10],\n",
    "    timeframe,\n",
    "    start=current_date\n",
    ").df\n",
    "\n",
    "df_dis"
   ]
  },
  {
   "cell_type": "code",
   "execution_count": 180,
   "metadata": {},
   "outputs": [],
   "source": [
    "df_dis = df_dis.T.reset_index(drop=True).T"
   ]
  },
  {
   "cell_type": "code",
   "execution_count": 181,
   "metadata": {},
   "outputs": [],
   "source": [
    "df_dis_cv = df_dis.rename(columns={3:\"dis_close\", 4:\"dis_volume\"})"
   ]
  },
  {
   "cell_type": "code",
   "execution_count": 182,
   "metadata": {},
   "outputs": [
    {
     "output_type": "execute_result",
     "data": {
      "text/plain": [
       "                           dis_close  dis_volume\n",
       "2020-01-06 00:00:00-05:00     145.65   7363097.0\n",
       "2020-01-07 00:00:00-05:00     145.68   5646933.0\n",
       "2020-01-08 00:00:00-05:00     145.45   5771723.0\n",
       "2020-01-09 00:00:00-05:00     144.80   5331260.0\n",
       "2020-01-10 00:00:00-05:00     144.60   4192359.0\n",
       "...                              ...         ...\n",
       "2021-01-04 00:00:00-05:00     177.55  11001381.0\n",
       "2021-01-05 00:00:00-05:00     178.45   5870876.0\n",
       "2021-01-06 00:00:00-05:00     179.12   6411222.0\n",
       "2021-01-07 00:00:00-05:00     178.58   6367836.0\n",
       "2021-01-08 00:00:00-05:00     178.68   5961422.0\n",
       "\n",
       "[256 rows x 2 columns]"
      ],
      "text/html": "<div>\n<style scoped>\n    .dataframe tbody tr th:only-of-type {\n        vertical-align: middle;\n    }\n\n    .dataframe tbody tr th {\n        vertical-align: top;\n    }\n\n    .dataframe thead th {\n        text-align: right;\n    }\n</style>\n<table border=\"1\" class=\"dataframe\">\n  <thead>\n    <tr style=\"text-align: right;\">\n      <th></th>\n      <th>dis_close</th>\n      <th>dis_volume</th>\n    </tr>\n  </thead>\n  <tbody>\n    <tr>\n      <th>2020-01-06 00:00:00-05:00</th>\n      <td>145.65</td>\n      <td>7363097.0</td>\n    </tr>\n    <tr>\n      <th>2020-01-07 00:00:00-05:00</th>\n      <td>145.68</td>\n      <td>5646933.0</td>\n    </tr>\n    <tr>\n      <th>2020-01-08 00:00:00-05:00</th>\n      <td>145.45</td>\n      <td>5771723.0</td>\n    </tr>\n    <tr>\n      <th>2020-01-09 00:00:00-05:00</th>\n      <td>144.80</td>\n      <td>5331260.0</td>\n    </tr>\n    <tr>\n      <th>2020-01-10 00:00:00-05:00</th>\n      <td>144.60</td>\n      <td>4192359.0</td>\n    </tr>\n    <tr>\n      <th>...</th>\n      <td>...</td>\n      <td>...</td>\n    </tr>\n    <tr>\n      <th>2021-01-04 00:00:00-05:00</th>\n      <td>177.55</td>\n      <td>11001381.0</td>\n    </tr>\n    <tr>\n      <th>2021-01-05 00:00:00-05:00</th>\n      <td>178.45</td>\n      <td>5870876.0</td>\n    </tr>\n    <tr>\n      <th>2021-01-06 00:00:00-05:00</th>\n      <td>179.12</td>\n      <td>6411222.0</td>\n    </tr>\n    <tr>\n      <th>2021-01-07 00:00:00-05:00</th>\n      <td>178.58</td>\n      <td>6367836.0</td>\n    </tr>\n    <tr>\n      <th>2021-01-08 00:00:00-05:00</th>\n      <td>178.68</td>\n      <td>5961422.0</td>\n    </tr>\n  </tbody>\n</table>\n<p>256 rows × 2 columns</p>\n</div>"
     },
     "metadata": {},
     "execution_count": 182
    }
   ],
   "source": [
    "dis_df = df_dis_cv.loc[:,['dis_close', 'dis_volume']]\n",
    "dis_df"
   ]
  },
  {
   "cell_type": "code",
   "execution_count": 183,
   "metadata": {},
   "outputs": [
    {
     "output_type": "execute_result",
     "data": {
      "text/plain": [
       "                            PLUG                                  \n",
       "                            open   high     low    close    volume\n",
       "2020-01-06 00:00:00-05:00   3.43   3.87   3.360   3.8150  37186905\n",
       "2020-01-07 00:00:00-05:00   3.76   3.90   3.660   3.8050  21453070\n",
       "2020-01-08 00:00:00-05:00   3.75   4.20   3.750   4.0675  29991957\n",
       "2020-01-09 00:00:00-05:00   4.18   4.20   3.880   4.0450  16853768\n",
       "2020-01-10 00:00:00-05:00   4.08   4.17   4.020   4.1400  13613412\n",
       "...                          ...    ...     ...      ...       ...\n",
       "2021-01-04 00:00:00-05:00  34.64  34.92  31.066  32.1800  28702974\n",
       "2021-01-05 00:00:00-05:00  30.79  33.09  30.400  32.5500  17454490\n",
       "2021-01-06 00:00:00-05:00  34.37  36.86  33.720  35.0000  41482804\n",
       "2021-01-07 00:00:00-05:00  43.60  47.31  43.160  47.3000  89346497\n",
       "2021-01-08 00:00:00-05:00  51.98  55.98  49.200  53.7788  96514508\n",
       "\n",
       "[256 rows x 5 columns]"
      ],
      "text/html": "<div>\n<style scoped>\n    .dataframe tbody tr th:only-of-type {\n        vertical-align: middle;\n    }\n\n    .dataframe tbody tr th {\n        vertical-align: top;\n    }\n\n    .dataframe thead tr th {\n        text-align: left;\n    }\n</style>\n<table border=\"1\" class=\"dataframe\">\n  <thead>\n    <tr>\n      <th></th>\n      <th colspan=\"5\" halign=\"left\">PLUG</th>\n    </tr>\n    <tr>\n      <th></th>\n      <th>open</th>\n      <th>high</th>\n      <th>low</th>\n      <th>close</th>\n      <th>volume</th>\n    </tr>\n  </thead>\n  <tbody>\n    <tr>\n      <th>2020-01-06 00:00:00-05:00</th>\n      <td>3.43</td>\n      <td>3.87</td>\n      <td>3.360</td>\n      <td>3.8150</td>\n      <td>37186905</td>\n    </tr>\n    <tr>\n      <th>2020-01-07 00:00:00-05:00</th>\n      <td>3.76</td>\n      <td>3.90</td>\n      <td>3.660</td>\n      <td>3.8050</td>\n      <td>21453070</td>\n    </tr>\n    <tr>\n      <th>2020-01-08 00:00:00-05:00</th>\n      <td>3.75</td>\n      <td>4.20</td>\n      <td>3.750</td>\n      <td>4.0675</td>\n      <td>29991957</td>\n    </tr>\n    <tr>\n      <th>2020-01-09 00:00:00-05:00</th>\n      <td>4.18</td>\n      <td>4.20</td>\n      <td>3.880</td>\n      <td>4.0450</td>\n      <td>16853768</td>\n    </tr>\n    <tr>\n      <th>2020-01-10 00:00:00-05:00</th>\n      <td>4.08</td>\n      <td>4.17</td>\n      <td>4.020</td>\n      <td>4.1400</td>\n      <td>13613412</td>\n    </tr>\n    <tr>\n      <th>...</th>\n      <td>...</td>\n      <td>...</td>\n      <td>...</td>\n      <td>...</td>\n      <td>...</td>\n    </tr>\n    <tr>\n      <th>2021-01-04 00:00:00-05:00</th>\n      <td>34.64</td>\n      <td>34.92</td>\n      <td>31.066</td>\n      <td>32.1800</td>\n      <td>28702974</td>\n    </tr>\n    <tr>\n      <th>2021-01-05 00:00:00-05:00</th>\n      <td>30.79</td>\n      <td>33.09</td>\n      <td>30.400</td>\n      <td>32.5500</td>\n      <td>17454490</td>\n    </tr>\n    <tr>\n      <th>2021-01-06 00:00:00-05:00</th>\n      <td>34.37</td>\n      <td>36.86</td>\n      <td>33.720</td>\n      <td>35.0000</td>\n      <td>41482804</td>\n    </tr>\n    <tr>\n      <th>2021-01-07 00:00:00-05:00</th>\n      <td>43.60</td>\n      <td>47.31</td>\n      <td>43.160</td>\n      <td>47.3000</td>\n      <td>89346497</td>\n    </tr>\n    <tr>\n      <th>2021-01-08 00:00:00-05:00</th>\n      <td>51.98</td>\n      <td>55.98</td>\n      <td>49.200</td>\n      <td>53.7788</td>\n      <td>96514508</td>\n    </tr>\n  </tbody>\n</table>\n<p>256 rows × 5 columns</p>\n</div>"
     },
     "metadata": {},
     "execution_count": 183
    }
   ],
   "source": [
    "df_plug = alpaca.get_barset(\n",
    "    tickers[11],\n",
    "    timeframe,\n",
    "    start=current_date\n",
    ").df\n",
    "\n",
    "df_plug"
   ]
  },
  {
   "cell_type": "code",
   "execution_count": 184,
   "metadata": {},
   "outputs": [],
   "source": [
    "df_plug = df_plug.T.reset_index(drop=True).T"
   ]
  },
  {
   "cell_type": "code",
   "execution_count": 185,
   "metadata": {},
   "outputs": [],
   "source": [
    "df_plug_cv = df_plug.rename(columns={3:\"plug_close\", 4:\"plug_volume\"})"
   ]
  },
  {
   "cell_type": "code",
   "execution_count": 186,
   "metadata": {},
   "outputs": [
    {
     "output_type": "execute_result",
     "data": {
      "text/plain": [
       "                           plug_close  plug_volume\n",
       "2020-01-06 00:00:00-05:00      3.8150   37186905.0\n",
       "2020-01-07 00:00:00-05:00      3.8050   21453070.0\n",
       "2020-01-08 00:00:00-05:00      4.0675   29991957.0\n",
       "2020-01-09 00:00:00-05:00      4.0450   16853768.0\n",
       "2020-01-10 00:00:00-05:00      4.1400   13613412.0\n",
       "...                               ...          ...\n",
       "2021-01-04 00:00:00-05:00     32.1800   28702974.0\n",
       "2021-01-05 00:00:00-05:00     32.5500   17454490.0\n",
       "2021-01-06 00:00:00-05:00     35.0000   41482804.0\n",
       "2021-01-07 00:00:00-05:00     47.3000   89346497.0\n",
       "2021-01-08 00:00:00-05:00     53.7788   96514508.0\n",
       "\n",
       "[256 rows x 2 columns]"
      ],
      "text/html": "<div>\n<style scoped>\n    .dataframe tbody tr th:only-of-type {\n        vertical-align: middle;\n    }\n\n    .dataframe tbody tr th {\n        vertical-align: top;\n    }\n\n    .dataframe thead th {\n        text-align: right;\n    }\n</style>\n<table border=\"1\" class=\"dataframe\">\n  <thead>\n    <tr style=\"text-align: right;\">\n      <th></th>\n      <th>plug_close</th>\n      <th>plug_volume</th>\n    </tr>\n  </thead>\n  <tbody>\n    <tr>\n      <th>2020-01-06 00:00:00-05:00</th>\n      <td>3.8150</td>\n      <td>37186905.0</td>\n    </tr>\n    <tr>\n      <th>2020-01-07 00:00:00-05:00</th>\n      <td>3.8050</td>\n      <td>21453070.0</td>\n    </tr>\n    <tr>\n      <th>2020-01-08 00:00:00-05:00</th>\n      <td>4.0675</td>\n      <td>29991957.0</td>\n    </tr>\n    <tr>\n      <th>2020-01-09 00:00:00-05:00</th>\n      <td>4.0450</td>\n      <td>16853768.0</td>\n    </tr>\n    <tr>\n      <th>2020-01-10 00:00:00-05:00</th>\n      <td>4.1400</td>\n      <td>13613412.0</td>\n    </tr>\n    <tr>\n      <th>...</th>\n      <td>...</td>\n      <td>...</td>\n    </tr>\n    <tr>\n      <th>2021-01-04 00:00:00-05:00</th>\n      <td>32.1800</td>\n      <td>28702974.0</td>\n    </tr>\n    <tr>\n      <th>2021-01-05 00:00:00-05:00</th>\n      <td>32.5500</td>\n      <td>17454490.0</td>\n    </tr>\n    <tr>\n      <th>2021-01-06 00:00:00-05:00</th>\n      <td>35.0000</td>\n      <td>41482804.0</td>\n    </tr>\n    <tr>\n      <th>2021-01-07 00:00:00-05:00</th>\n      <td>47.3000</td>\n      <td>89346497.0</td>\n    </tr>\n    <tr>\n      <th>2021-01-08 00:00:00-05:00</th>\n      <td>53.7788</td>\n      <td>96514508.0</td>\n    </tr>\n  </tbody>\n</table>\n<p>256 rows × 2 columns</p>\n</div>"
     },
     "metadata": {},
     "execution_count": 186
    }
   ],
   "source": [
    "plug_df = df_plug_cv.loc[:,['plug_close', 'plug_volume']]\n",
    "plug_df"
   ]
  },
  {
   "cell_type": "code",
   "execution_count": null,
   "metadata": {},
   "outputs": [],
   "source": []
  }
 ]
}