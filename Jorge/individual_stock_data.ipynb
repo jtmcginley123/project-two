{
 "metadata": {
  "language_info": {
   "codemirror_mode": {
    "name": "ipython",
    "version": 3
   },
   "file_extension": ".py",
   "mimetype": "text/x-python",
   "name": "python",
   "nbconvert_exporter": "python",
   "pygments_lexer": "ipython3",
   "version": "3.8.3-final"
  },
  "orig_nbformat": 2,
  "kernelspec": {
   "name": "python3",
   "display_name": "Python 3",
   "language": "python"
  }
 },
 "nbformat": 4,
 "nbformat_minor": 2,
 "cells": [
  {
   "cell_type": "code",
   "execution_count": 102,
   "metadata": {},
   "outputs": [],
   "source": [
    "import requests\n",
    "from dotenv import load_dotenv\n",
    "import os \n",
    "import pandas as pd\n",
    "import numpy as np\n",
    "import alpaca_trade_api as tradeapi\n",
    "# from MCForecastTools import MCSimulation\n",
    "import json\n",
    "import matplotlib.pyplot as plt"
   ]
  },
  {
   "cell_type": "code",
   "execution_count": 103,
   "metadata": {},
   "outputs": [
    {
     "output_type": "execute_result",
     "data": {
      "text/plain": [
       "True"
      ]
     },
     "metadata": {},
     "execution_count": 103
    }
   ],
   "source": [
    "load_dotenv()"
   ]
  },
  {
   "cell_type": "code",
   "execution_count": 104,
   "metadata": {},
   "outputs": [],
   "source": [
    "# Set Alpaca API key and secret\n",
    "alpaca_api_key = os.getenv(\"ALPACA_API_KEY\")\n",
    "alpaca_secret_key = os.getenv(\"ALPACA_SECRET_KEY\")\n",
    "\n",
    "# Create the Alpaca API object\n",
    "# YOUR CODE HERE!\n",
    "alpaca = tradeapi.REST(\n",
    "    alpaca_api_key,\n",
    "    alpaca_secret_key,\n",
    "    api_version= \"v2\")"
   ]
  },
  {
   "cell_type": "code",
   "execution_count": 105,
   "metadata": {},
   "outputs": [],
   "source": [
    "current_date = pd.Timestamp(\"2020-01-05\", tz=\"America/New_York\").isoformat()\n",
    "\n",
    "tickers = [\"SPY\", \"AAPL\", \"TSLA\", \"GE\", \"F\", \"MSFT\",\"NIO\", \"PFE\", \"AMZN\",\"AAL\",\"DIS\",\"PLUG\"]\n",
    "\n",
    "\n",
    "timeframe = \"1D\""
   ]
  },
  {
   "cell_type": "code",
   "execution_count": 106,
   "metadata": {},
   "outputs": [
    {
     "output_type": "execute_result",
     "data": {
      "text/plain": [
       "                                SPY                                  \n",
       "                               open    high     low   close    volume\n",
       "2020-01-06 00:00:00-05:00  320.4900  323.73  320.36  323.67  43105385\n",
       "2020-01-07 00:00:00-05:00  323.0200  323.54  322.24  322.76  33909984\n",
       "2020-01-08 00:00:00-05:00  322.9400  325.78  322.67  324.42  56581814\n",
       "2020-01-09 00:00:00-05:00  326.1600  326.73  325.52  326.62  43365068\n",
       "2020-01-10 00:00:00-05:00  327.2899  327.46  325.20  325.70  44989039\n",
       "...                             ...     ...     ...     ...       ...\n",
       "2021-01-04 00:00:00-05:00  375.3100  375.45  364.82  368.85  92938087\n",
       "2021-01-05 00:00:00-05:00  368.1000  372.50  368.05  371.32  53668865\n",
       "2021-01-06 00:00:00-05:00  369.7100  376.98  369.12  373.53  91989131\n",
       "2021-01-07 00:00:00-05:00  376.1000  379.90  375.91  379.06  58862006\n",
       "2021-01-08 00:00:00-05:00  380.5900  381.49  377.10  381.24  60275466\n",
       "\n",
       "[256 rows x 5 columns]"
      ],
      "text/html": "<div>\n<style scoped>\n    .dataframe tbody tr th:only-of-type {\n        vertical-align: middle;\n    }\n\n    .dataframe tbody tr th {\n        vertical-align: top;\n    }\n\n    .dataframe thead tr th {\n        text-align: left;\n    }\n</style>\n<table border=\"1\" class=\"dataframe\">\n  <thead>\n    <tr>\n      <th></th>\n      <th colspan=\"5\" halign=\"left\">SPY</th>\n    </tr>\n    <tr>\n      <th></th>\n      <th>open</th>\n      <th>high</th>\n      <th>low</th>\n      <th>close</th>\n      <th>volume</th>\n    </tr>\n  </thead>\n  <tbody>\n    <tr>\n      <th>2020-01-06 00:00:00-05:00</th>\n      <td>320.4900</td>\n      <td>323.73</td>\n      <td>320.36</td>\n      <td>323.67</td>\n      <td>43105385</td>\n    </tr>\n    <tr>\n      <th>2020-01-07 00:00:00-05:00</th>\n      <td>323.0200</td>\n      <td>323.54</td>\n      <td>322.24</td>\n      <td>322.76</td>\n      <td>33909984</td>\n    </tr>\n    <tr>\n      <th>2020-01-08 00:00:00-05:00</th>\n      <td>322.9400</td>\n      <td>325.78</td>\n      <td>322.67</td>\n      <td>324.42</td>\n      <td>56581814</td>\n    </tr>\n    <tr>\n      <th>2020-01-09 00:00:00-05:00</th>\n      <td>326.1600</td>\n      <td>326.73</td>\n      <td>325.52</td>\n      <td>326.62</td>\n      <td>43365068</td>\n    </tr>\n    <tr>\n      <th>2020-01-10 00:00:00-05:00</th>\n      <td>327.2899</td>\n      <td>327.46</td>\n      <td>325.20</td>\n      <td>325.70</td>\n      <td>44989039</td>\n    </tr>\n    <tr>\n      <th>...</th>\n      <td>...</td>\n      <td>...</td>\n      <td>...</td>\n      <td>...</td>\n      <td>...</td>\n    </tr>\n    <tr>\n      <th>2021-01-04 00:00:00-05:00</th>\n      <td>375.3100</td>\n      <td>375.45</td>\n      <td>364.82</td>\n      <td>368.85</td>\n      <td>92938087</td>\n    </tr>\n    <tr>\n      <th>2021-01-05 00:00:00-05:00</th>\n      <td>368.1000</td>\n      <td>372.50</td>\n      <td>368.05</td>\n      <td>371.32</td>\n      <td>53668865</td>\n    </tr>\n    <tr>\n      <th>2021-01-06 00:00:00-05:00</th>\n      <td>369.7100</td>\n      <td>376.98</td>\n      <td>369.12</td>\n      <td>373.53</td>\n      <td>91989131</td>\n    </tr>\n    <tr>\n      <th>2021-01-07 00:00:00-05:00</th>\n      <td>376.1000</td>\n      <td>379.90</td>\n      <td>375.91</td>\n      <td>379.06</td>\n      <td>58862006</td>\n    </tr>\n    <tr>\n      <th>2021-01-08 00:00:00-05:00</th>\n      <td>380.5900</td>\n      <td>381.49</td>\n      <td>377.10</td>\n      <td>381.24</td>\n      <td>60275466</td>\n    </tr>\n  </tbody>\n</table>\n<p>256 rows × 5 columns</p>\n</div>"
     },
     "metadata": {},
     "execution_count": 106
    }
   ],
   "source": [
    "df_spy = alpaca.get_barset(\n",
    "    tickers[0],\n",
    "    timeframe,\n",
    "    start=current_date\n",
    ").df\n",
    "\n",
    "df_spy"
   ]
  },
  {
   "cell_type": "code",
   "execution_count": 107,
   "metadata": {
    "tags": []
   },
   "outputs": [],
   "source": [
    "df_spy = df_spy.T.reset_index(drop=True).T"
   ]
  },
  {
   "cell_type": "code",
   "execution_count": 108,
   "metadata": {},
   "outputs": [],
   "source": [
    "df_spy_cv = df_spy.rename(columns={3:\"close\", 4:\"volume\"})"
   ]
  },
  {
   "cell_type": "code",
   "execution_count": 118,
   "metadata": {},
   "outputs": [
    {
     "output_type": "execute_result",
     "data": {
      "text/plain": [
       "                            close      volume\n",
       "2020-01-06 00:00:00-05:00  323.67  43105385.0\n",
       "2020-01-07 00:00:00-05:00  322.76  33909984.0\n",
       "2020-01-08 00:00:00-05:00  324.42  56581814.0\n",
       "2020-01-09 00:00:00-05:00  326.62  43365068.0\n",
       "2020-01-10 00:00:00-05:00  325.70  44989039.0\n",
       "...                           ...         ...\n",
       "2021-01-04 00:00:00-05:00  368.85  92938087.0\n",
       "2021-01-05 00:00:00-05:00  371.32  53668865.0\n",
       "2021-01-06 00:00:00-05:00  373.53  91989131.0\n",
       "2021-01-07 00:00:00-05:00  379.06  58862006.0\n",
       "2021-01-08 00:00:00-05:00  381.24  60275466.0\n",
       "\n",
       "[256 rows x 2 columns]"
      ],
      "text/html": "<div>\n<style scoped>\n    .dataframe tbody tr th:only-of-type {\n        vertical-align: middle;\n    }\n\n    .dataframe tbody tr th {\n        vertical-align: top;\n    }\n\n    .dataframe thead th {\n        text-align: right;\n    }\n</style>\n<table border=\"1\" class=\"dataframe\">\n  <thead>\n    <tr style=\"text-align: right;\">\n      <th></th>\n      <th>close</th>\n      <th>volume</th>\n    </tr>\n  </thead>\n  <tbody>\n    <tr>\n      <th>2020-01-06 00:00:00-05:00</th>\n      <td>323.67</td>\n      <td>43105385.0</td>\n    </tr>\n    <tr>\n      <th>2020-01-07 00:00:00-05:00</th>\n      <td>322.76</td>\n      <td>33909984.0</td>\n    </tr>\n    <tr>\n      <th>2020-01-08 00:00:00-05:00</th>\n      <td>324.42</td>\n      <td>56581814.0</td>\n    </tr>\n    <tr>\n      <th>2020-01-09 00:00:00-05:00</th>\n      <td>326.62</td>\n      <td>43365068.0</td>\n    </tr>\n    <tr>\n      <th>2020-01-10 00:00:00-05:00</th>\n      <td>325.70</td>\n      <td>44989039.0</td>\n    </tr>\n    <tr>\n      <th>...</th>\n      <td>...</td>\n      <td>...</td>\n    </tr>\n    <tr>\n      <th>2021-01-04 00:00:00-05:00</th>\n      <td>368.85</td>\n      <td>92938087.0</td>\n    </tr>\n    <tr>\n      <th>2021-01-05 00:00:00-05:00</th>\n      <td>371.32</td>\n      <td>53668865.0</td>\n    </tr>\n    <tr>\n      <th>2021-01-06 00:00:00-05:00</th>\n      <td>373.53</td>\n      <td>91989131.0</td>\n    </tr>\n    <tr>\n      <th>2021-01-07 00:00:00-05:00</th>\n      <td>379.06</td>\n      <td>58862006.0</td>\n    </tr>\n    <tr>\n      <th>2021-01-08 00:00:00-05:00</th>\n      <td>381.24</td>\n      <td>60275466.0</td>\n    </tr>\n  </tbody>\n</table>\n<p>256 rows × 2 columns</p>\n</div>"
     },
     "metadata": {},
     "execution_count": 118
    }
   ],
   "source": [
    "# spy_cv = df_spy_cv[3,4]\n",
    "# print(df_spy_cv.columns)\n",
    "spy_df = df_spy_cv.loc[:,['close', 'volume']]\n",
    "spy_df"
   ]
  },
  {
   "cell_type": "code",
   "execution_count": 119,
   "metadata": {},
   "outputs": [
    {
     "output_type": "execute_result",
     "data": {
      "text/plain": [
       "                             AAPL                                      \n",
       "                             open      high      low   close     volume\n",
       "2020-01-06 00:00:00-05:00  293.79  299.9600  292.750  299.78   27487207\n",
       "2020-01-07 00:00:00-05:00  299.84  300.9000  297.480  298.27   24353387\n",
       "2020-01-08 00:00:00-05:00  297.16  304.4399  297.156  303.15   28984028\n",
       "2020-01-09 00:00:00-05:00  307.25  310.4300  306.200  309.71   38540792\n",
       "2020-01-10 00:00:00-05:00  310.60  312.6700  308.250  310.37   32304453\n",
       "...                           ...       ...      ...     ...        ...\n",
       "2021-01-04 00:00:00-05:00  133.52  133.6116  126.760  129.41  123353442\n",
       "2021-01-05 00:00:00-05:00  128.89  131.7400  128.430  130.95   85139362\n",
       "2021-01-06 00:00:00-05:00  127.72  131.0499  126.382  126.58  142064548\n",
       "2021-01-07 00:00:00-05:00  128.36  131.6300  127.860  130.85   95314687\n",
       "2021-01-08 00:00:00-05:00  132.43  132.6300  130.230  131.99   93211863\n",
       "\n",
       "[256 rows x 5 columns]"
      ],
      "text/html": "<div>\n<style scoped>\n    .dataframe tbody tr th:only-of-type {\n        vertical-align: middle;\n    }\n\n    .dataframe tbody tr th {\n        vertical-align: top;\n    }\n\n    .dataframe thead tr th {\n        text-align: left;\n    }\n</style>\n<table border=\"1\" class=\"dataframe\">\n  <thead>\n    <tr>\n      <th></th>\n      <th colspan=\"5\" halign=\"left\">AAPL</th>\n    </tr>\n    <tr>\n      <th></th>\n      <th>open</th>\n      <th>high</th>\n      <th>low</th>\n      <th>close</th>\n      <th>volume</th>\n    </tr>\n  </thead>\n  <tbody>\n    <tr>\n      <th>2020-01-06 00:00:00-05:00</th>\n      <td>293.79</td>\n      <td>299.9600</td>\n      <td>292.750</td>\n      <td>299.78</td>\n      <td>27487207</td>\n    </tr>\n    <tr>\n      <th>2020-01-07 00:00:00-05:00</th>\n      <td>299.84</td>\n      <td>300.9000</td>\n      <td>297.480</td>\n      <td>298.27</td>\n      <td>24353387</td>\n    </tr>\n    <tr>\n      <th>2020-01-08 00:00:00-05:00</th>\n      <td>297.16</td>\n      <td>304.4399</td>\n      <td>297.156</td>\n      <td>303.15</td>\n      <td>28984028</td>\n    </tr>\n    <tr>\n      <th>2020-01-09 00:00:00-05:00</th>\n      <td>307.25</td>\n      <td>310.4300</td>\n      <td>306.200</td>\n      <td>309.71</td>\n      <td>38540792</td>\n    </tr>\n    <tr>\n      <th>2020-01-10 00:00:00-05:00</th>\n      <td>310.60</td>\n      <td>312.6700</td>\n      <td>308.250</td>\n      <td>310.37</td>\n      <td>32304453</td>\n    </tr>\n    <tr>\n      <th>...</th>\n      <td>...</td>\n      <td>...</td>\n      <td>...</td>\n      <td>...</td>\n      <td>...</td>\n    </tr>\n    <tr>\n      <th>2021-01-04 00:00:00-05:00</th>\n      <td>133.52</td>\n      <td>133.6116</td>\n      <td>126.760</td>\n      <td>129.41</td>\n      <td>123353442</td>\n    </tr>\n    <tr>\n      <th>2021-01-05 00:00:00-05:00</th>\n      <td>128.89</td>\n      <td>131.7400</td>\n      <td>128.430</td>\n      <td>130.95</td>\n      <td>85139362</td>\n    </tr>\n    <tr>\n      <th>2021-01-06 00:00:00-05:00</th>\n      <td>127.72</td>\n      <td>131.0499</td>\n      <td>126.382</td>\n      <td>126.58</td>\n      <td>142064548</td>\n    </tr>\n    <tr>\n      <th>2021-01-07 00:00:00-05:00</th>\n      <td>128.36</td>\n      <td>131.6300</td>\n      <td>127.860</td>\n      <td>130.85</td>\n      <td>95314687</td>\n    </tr>\n    <tr>\n      <th>2021-01-08 00:00:00-05:00</th>\n      <td>132.43</td>\n      <td>132.6300</td>\n      <td>130.230</td>\n      <td>131.99</td>\n      <td>93211863</td>\n    </tr>\n  </tbody>\n</table>\n<p>256 rows × 5 columns</p>\n</div>"
     },
     "metadata": {},
     "execution_count": 119
    }
   ],
   "source": [
    "df_aapl = alpaca.get_barset(\n",
    "    tickers[1],\n",
    "    timeframe,\n",
    "    start=current_date\n",
    ").df\n",
    "\n",
    "df_aapl"
   ]
  },
  {
   "cell_type": "code",
   "execution_count": 121,
   "metadata": {},
   "outputs": [],
   "source": [
    "df_aapl = df_spy.T.reset_index(drop=True).T"
   ]
  },
  {
   "cell_type": "code",
   "execution_count": null,
   "metadata": {},
   "outputs": [],
   "source": [
    "df_spy_cv = df_spy.rename(columns={3:\"close\", 4:\"volume\"})"
   ]
  }
 ]
}