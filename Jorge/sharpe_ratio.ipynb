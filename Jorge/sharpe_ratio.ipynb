{
 "metadata": {
  "language_info": {
   "codemirror_mode": {
    "name": "ipython",
    "version": 3
   },
   "file_extension": ".py",
   "mimetype": "text/x-python",
   "name": "python",
   "nbconvert_exporter": "python",
   "pygments_lexer": "ipython3",
   "version": "3.7.7-final"
  },
  "orig_nbformat": 2,
  "kernelspec": {
   "name": "python3",
   "display_name": "Python 3.7.7 64-bit ('pyvizenv': conda)",
   "metadata": {
    "interpreter": {
     "hash": "5f3d5881c8e6b37916834d3d98d98ecf430206691cc41bd80ec0b3ea7eb1c5fb"
    }
   }
  }
 },
 "nbformat": 4,
 "nbformat_minor": 2,
 "cells": [
  {
   "cell_type": "code",
   "execution_count": 17,
   "metadata": {},
   "outputs": [],
   "source": [
    "import requests\n",
    "from dotenv import load_dotenv\n",
    "import os \n",
    "import pandas as pd\n",
    "import numpy as np\n",
    "import alpaca_trade_api as tradeapi\n",
    "# from MCForecastTools import MCSimulation\n",
    "import json\n",
    "import matplotlib.pyplot as plt"
   ]
  },
  {
   "cell_type": "code",
   "execution_count": 18,
   "metadata": {},
   "outputs": [
    {
     "output_type": "execute_result",
     "data": {
      "text/plain": [
       "True"
      ]
     },
     "metadata": {},
     "execution_count": 18
    }
   ],
   "source": [
    "load_dotenv()"
   ]
  },
  {
   "cell_type": "code",
   "execution_count": 19,
   "metadata": {},
   "outputs": [
    {
     "output_type": "error",
     "ename": "ValueError",
     "evalue": "('Key ID must be given to access Alpaca trade API', ' (env: APCA_API_KEY_ID)')",
     "traceback": [
      "\u001b[0;31m---------------------------------------------------------------------------\u001b[0m",
      "\u001b[0;31mValueError\u001b[0m                                Traceback (most recent call last)",
      "\u001b[0;32m<ipython-input-19-31a9ad0c5871>\u001b[0m in \u001b[0;36m<module>\u001b[0;34m\u001b[0m\n\u001b[1;32m      5\u001b[0m \u001b[0;31m# Create the Alpaca API object\u001b[0m\u001b[0;34m\u001b[0m\u001b[0;34m\u001b[0m\u001b[0;34m\u001b[0m\u001b[0m\n\u001b[1;32m      6\u001b[0m \u001b[0;31m# YOUR CODE HERE!\u001b[0m\u001b[0;34m\u001b[0m\u001b[0;34m\u001b[0m\u001b[0;34m\u001b[0m\u001b[0m\n\u001b[0;32m----> 7\u001b[0;31m alpaca = tradeapi.REST(\n\u001b[0m\u001b[1;32m      8\u001b[0m     \u001b[0malpaca_api_key\u001b[0m\u001b[0;34m,\u001b[0m\u001b[0;34m\u001b[0m\u001b[0;34m\u001b[0m\u001b[0m\n\u001b[1;32m      9\u001b[0m     \u001b[0malpaca_secret_key\u001b[0m\u001b[0;34m,\u001b[0m\u001b[0;34m\u001b[0m\u001b[0;34m\u001b[0m\u001b[0m\n",
      "\u001b[0;32m~/anaconda3/lib/python3.8/site-packages/alpaca_trade_api/rest.py\u001b[0m in \u001b[0;36m__init__\u001b[0;34m(self, key_id, secret_key, base_url, api_version, oauth)\u001b[0m\n\u001b[1;32m     71\u001b[0m                  \u001b[0moauth\u001b[0m\u001b[0;34m=\u001b[0m\u001b[0;32mNone\u001b[0m\u001b[0;34m\u001b[0m\u001b[0;34m\u001b[0m\u001b[0m\n\u001b[1;32m     72\u001b[0m                  ):\n\u001b[0;32m---> 73\u001b[0;31m         self._key_id, self._secret_key, self._oauth = get_credentials(\n\u001b[0m\u001b[1;32m     74\u001b[0m             key_id, secret_key, oauth)\n\u001b[1;32m     75\u001b[0m         \u001b[0mself\u001b[0m\u001b[0;34m.\u001b[0m\u001b[0m_base_url\u001b[0m\u001b[0;34m:\u001b[0m \u001b[0mURL\u001b[0m \u001b[0;34m=\u001b[0m \u001b[0mURL\u001b[0m\u001b[0;34m(\u001b[0m\u001b[0mbase_url\u001b[0m \u001b[0;32mor\u001b[0m \u001b[0mget_base_url\u001b[0m\u001b[0;34m(\u001b[0m\u001b[0;34m)\u001b[0m\u001b[0;34m)\u001b[0m\u001b[0;34m\u001b[0m\u001b[0;34m\u001b[0m\u001b[0m\n",
      "\u001b[0;32m~/anaconda3/lib/python3.8/site-packages/alpaca_trade_api/common.py\u001b[0m in \u001b[0;36mget_credentials\u001b[0;34m(key_id, secret_key, oauth)\u001b[0m\n\u001b[1;32m     73\u001b[0m     \u001b[0mkey_id\u001b[0m \u001b[0;34m=\u001b[0m \u001b[0mkey_id\u001b[0m \u001b[0;32mor\u001b[0m \u001b[0mos\u001b[0m\u001b[0;34m.\u001b[0m\u001b[0menviron\u001b[0m\u001b[0;34m.\u001b[0m\u001b[0mget\u001b[0m\u001b[0;34m(\u001b[0m\u001b[0;34m'APCA_API_KEY_ID'\u001b[0m\u001b[0;34m)\u001b[0m\u001b[0;34m\u001b[0m\u001b[0;34m\u001b[0m\u001b[0m\n\u001b[1;32m     74\u001b[0m     \u001b[0;32mif\u001b[0m \u001b[0mkey_id\u001b[0m \u001b[0;32mis\u001b[0m \u001b[0;32mNone\u001b[0m \u001b[0;32mand\u001b[0m \u001b[0moauth\u001b[0m \u001b[0;32mis\u001b[0m \u001b[0;32mNone\u001b[0m\u001b[0;34m:\u001b[0m\u001b[0;34m\u001b[0m\u001b[0;34m\u001b[0m\u001b[0m\n\u001b[0;32m---> 75\u001b[0;31m         raise ValueError('Key ID must be given to access Alpaca trade API',\n\u001b[0m\u001b[1;32m     76\u001b[0m                          ' (env: APCA_API_KEY_ID)')\n\u001b[1;32m     77\u001b[0m \u001b[0;34m\u001b[0m\u001b[0m\n",
      "\u001b[0;31mValueError\u001b[0m: ('Key ID must be given to access Alpaca trade API', ' (env: APCA_API_KEY_ID)')"
     ]
    }
   ],
   "source": [
    "# Set Alpaca API key and secret\n",
    "alpaca_api_key = os.getenv(\"ALPACA_API_KEY\")\n",
    "alpaca_secret_key = os.getenv(\"ALPACA_SECRET_KEY\")\n",
    "\n",
    "# Create the Alpaca API object\n",
    "# YOUR CODE HERE!\n",
    "alpaca = tradeapi.REST(\n",
    "    alpaca_api_key,\n",
    "    alpaca_secret_key,\n",
    "    api_version= \"v2\")"
   ]
  },
  {
   "cell_type": "code",
   "execution_count": 22,
   "metadata": {},
   "outputs": [
    {
     "output_type": "stream",
     "name": "stdout",
     "text": [
      "Alpaca Key type: <class 'str'>\nAlpca Secret Key type: <class 'str'>\n"
     ]
    }
   ],
   "source": [
    "print(f\"Alpaca Key type: {type(alpaca_api_key)}\")\n",
    "print(f\"Alpca Secret Key type: {type(alpaca_secret_key)}\")"
   ]
  },
  {
   "cell_type": "code",
   "execution_count": 23,
   "metadata": {},
   "outputs": [],
   "source": [
    "current_date = pd.Timestamp(\"2020-01-05\", tz=\"America/New_York\").isoformat()\n",
    "\n",
    "tickers = [\"SPY\", \"AAPL\", \"TSLA\", \"GE\", \"F\", \"MSFT\",\"NIO\", \"PFE\", \"AMZN\",\"AAL\",\"DIS\",\"PLUG\"]\n",
    "\n",
    "\n",
    "timeframe = \"1D\""
   ]
  },
  {
   "cell_type": "code",
   "execution_count": 24,
   "metadata": {},
   "outputs": [
    {
     "output_type": "execute_result",
     "data": {
      "text/plain": [
       "                             AAL                                      AAPL  \\\n",
       "                            open     high    low   close    volume    open   \n",
       "2020-01-06 00:00:00-05:00  27.19  27.4901  27.08  27.320   5383583  293.79   \n",
       "2020-01-07 00:00:00-05:00  27.56  27.6800  27.06  27.220   5472322  299.84   \n",
       "2020-01-08 00:00:00-05:00  27.10  28.0900  27.07  27.840   9704511  297.16   \n",
       "2020-01-09 00:00:00-05:00  28.09  28.2300  27.71  27.950   6198374  307.25   \n",
       "2020-01-10 00:00:00-05:00  27.93  27.9900  27.25  27.320   7356133  310.60   \n",
       "...                          ...      ...    ...     ...       ...     ...   \n",
       "2021-01-04 00:00:00-05:00  15.85  15.8800  15.03  15.120  68479594  133.52   \n",
       "2021-01-05 00:00:00-05:00  14.92  15.6300  14.87  15.430  51109216  128.89   \n",
       "2021-01-06 00:00:00-05:00  15.45  15.8000  15.17  15.520  61348418  127.72   \n",
       "2021-01-07 00:00:00-05:00  15.67  15.8700  15.38  15.380  45503976  128.36   \n",
       "2021-01-08 00:00:00-05:00  15.43  15.5300  15.00  15.115  54302647  132.43   \n",
       "\n",
       "                                                                 ...  \\\n",
       "                               high      low   close     volume  ...   \n",
       "2020-01-06 00:00:00-05:00  299.9600  292.750  299.78   27487207  ...   \n",
       "2020-01-07 00:00:00-05:00  300.9000  297.480  298.27   23877417  ...   \n",
       "2020-01-08 00:00:00-05:00  304.4399  297.156  303.15   29547763  ...   \n",
       "2020-01-09 00:00:00-05:00  310.4300  306.200  309.71   39240341  ...   \n",
       "2020-01-10 00:00:00-05:00  312.6700  308.250  310.37   32981826  ...   \n",
       "...                             ...      ...     ...        ...  ...   \n",
       "2021-01-04 00:00:00-05:00  133.6116  126.760  129.41  123353442  ...   \n",
       "2021-01-05 00:00:00-05:00  131.7400  128.430  130.95   85139362  ...   \n",
       "2021-01-06 00:00:00-05:00  131.0499  126.382  126.58  142064548  ...   \n",
       "2021-01-07 00:00:00-05:00  131.6300  127.860  130.85   95314687  ...   \n",
       "2021-01-08 00:00:00-05:00  132.6300  130.230  131.99   93211863  ...   \n",
       "\n",
       "                                SPY                                      TSLA  \\\n",
       "                               open    high     low   close    volume    open   \n",
       "2020-01-06 00:00:00-05:00  320.4900  323.73  320.36  323.67  43105385  440.47   \n",
       "2020-01-07 00:00:00-05:00  323.0200  323.54  322.24  322.76  33909984  461.40   \n",
       "2020-01-08 00:00:00-05:00  322.9400  325.78  322.67  324.42  56581814  473.70   \n",
       "2020-01-09 00:00:00-05:00  326.1600  326.73  325.52  326.62  43365068  497.10   \n",
       "2020-01-10 00:00:00-05:00  327.2899  327.46  325.20  325.70  44989039  481.79   \n",
       "...                             ...     ...     ...     ...       ...     ...   \n",
       "2021-01-04 00:00:00-05:00  375.3100  375.45  364.82  368.85  92938087  719.46   \n",
       "2021-01-05 00:00:00-05:00  368.1000  372.50  368.05  371.32  53668865  723.66   \n",
       "2021-01-06 00:00:00-05:00  369.7100  376.98  369.12  373.53  91989131  758.49   \n",
       "2021-01-07 00:00:00-05:00  376.1000  379.90  375.91  379.06  58862006  777.63   \n",
       "2021-01-08 00:00:00-05:00  380.5900  381.49  377.10  381.24  60275466  856.00   \n",
       "\n",
       "                                                                   \n",
       "                               high       low     close    volume  \n",
       "2020-01-06 00:00:00-05:00  451.5600  440.0000  451.4001   9807049  \n",
       "2020-01-07 00:00:00-05:00  471.6300  453.3550  469.1700  16859537  \n",
       "2020-01-08 00:00:00-05:00  498.4900  468.2300  492.0900  29804104  \n",
       "2020-01-09 00:00:00-05:00  498.8000  472.8700  481.4900  26901507  \n",
       "2020-01-10 00:00:00-05:00  484.9400  473.7000  477.9600  12365563  \n",
       "...                             ...       ...       ...       ...  \n",
       "2021-01-04 00:00:00-05:00  744.4899  717.1895  729.7500  45293360  \n",
       "2021-01-05 00:00:00-05:00  740.8400  719.2000  735.0550  28402584  \n",
       "2021-01-06 00:00:00-05:00  774.0000  749.1000  756.4600  41989335  \n",
       "2021-01-07 00:00:00-05:00  816.9900  775.2000  816.2400  48080256  \n",
       "2021-01-08 00:00:00-05:00  884.4900  838.3900  880.0300  71814487  \n",
       "\n",
       "[256 rows x 60 columns]"
      ],
      "text/html": "<div>\n<style scoped>\n    .dataframe tbody tr th:only-of-type {\n        vertical-align: middle;\n    }\n\n    .dataframe tbody tr th {\n        vertical-align: top;\n    }\n\n    .dataframe thead tr th {\n        text-align: left;\n    }\n</style>\n<table border=\"1\" class=\"dataframe\">\n  <thead>\n    <tr>\n      <th></th>\n      <th colspan=\"5\" halign=\"left\">AAL</th>\n      <th colspan=\"5\" halign=\"left\">AAPL</th>\n      <th>...</th>\n      <th colspan=\"5\" halign=\"left\">SPY</th>\n      <th colspan=\"5\" halign=\"left\">TSLA</th>\n    </tr>\n    <tr>\n      <th></th>\n      <th>open</th>\n      <th>high</th>\n      <th>low</th>\n      <th>close</th>\n      <th>volume</th>\n      <th>open</th>\n      <th>high</th>\n      <th>low</th>\n      <th>close</th>\n      <th>volume</th>\n      <th>...</th>\n      <th>open</th>\n      <th>high</th>\n      <th>low</th>\n      <th>close</th>\n      <th>volume</th>\n      <th>open</th>\n      <th>high</th>\n      <th>low</th>\n      <th>close</th>\n      <th>volume</th>\n    </tr>\n  </thead>\n  <tbody>\n    <tr>\n      <th>2020-01-06 00:00:00-05:00</th>\n      <td>27.19</td>\n      <td>27.4901</td>\n      <td>27.08</td>\n      <td>27.320</td>\n      <td>5383583</td>\n      <td>293.79</td>\n      <td>299.9600</td>\n      <td>292.750</td>\n      <td>299.78</td>\n      <td>27487207</td>\n      <td>...</td>\n      <td>320.4900</td>\n      <td>323.73</td>\n      <td>320.36</td>\n      <td>323.67</td>\n      <td>43105385</td>\n      <td>440.47</td>\n      <td>451.5600</td>\n      <td>440.0000</td>\n      <td>451.4001</td>\n      <td>9807049</td>\n    </tr>\n    <tr>\n      <th>2020-01-07 00:00:00-05:00</th>\n      <td>27.56</td>\n      <td>27.6800</td>\n      <td>27.06</td>\n      <td>27.220</td>\n      <td>5472322</td>\n      <td>299.84</td>\n      <td>300.9000</td>\n      <td>297.480</td>\n      <td>298.27</td>\n      <td>23877417</td>\n      <td>...</td>\n      <td>323.0200</td>\n      <td>323.54</td>\n      <td>322.24</td>\n      <td>322.76</td>\n      <td>33909984</td>\n      <td>461.40</td>\n      <td>471.6300</td>\n      <td>453.3550</td>\n      <td>469.1700</td>\n      <td>16859537</td>\n    </tr>\n    <tr>\n      <th>2020-01-08 00:00:00-05:00</th>\n      <td>27.10</td>\n      <td>28.0900</td>\n      <td>27.07</td>\n      <td>27.840</td>\n      <td>9704511</td>\n      <td>297.16</td>\n      <td>304.4399</td>\n      <td>297.156</td>\n      <td>303.15</td>\n      <td>29547763</td>\n      <td>...</td>\n      <td>322.9400</td>\n      <td>325.78</td>\n      <td>322.67</td>\n      <td>324.42</td>\n      <td>56581814</td>\n      <td>473.70</td>\n      <td>498.4900</td>\n      <td>468.2300</td>\n      <td>492.0900</td>\n      <td>29804104</td>\n    </tr>\n    <tr>\n      <th>2020-01-09 00:00:00-05:00</th>\n      <td>28.09</td>\n      <td>28.2300</td>\n      <td>27.71</td>\n      <td>27.950</td>\n      <td>6198374</td>\n      <td>307.25</td>\n      <td>310.4300</td>\n      <td>306.200</td>\n      <td>309.71</td>\n      <td>39240341</td>\n      <td>...</td>\n      <td>326.1600</td>\n      <td>326.73</td>\n      <td>325.52</td>\n      <td>326.62</td>\n      <td>43365068</td>\n      <td>497.10</td>\n      <td>498.8000</td>\n      <td>472.8700</td>\n      <td>481.4900</td>\n      <td>26901507</td>\n    </tr>\n    <tr>\n      <th>2020-01-10 00:00:00-05:00</th>\n      <td>27.93</td>\n      <td>27.9900</td>\n      <td>27.25</td>\n      <td>27.320</td>\n      <td>7356133</td>\n      <td>310.60</td>\n      <td>312.6700</td>\n      <td>308.250</td>\n      <td>310.37</td>\n      <td>32981826</td>\n      <td>...</td>\n      <td>327.2899</td>\n      <td>327.46</td>\n      <td>325.20</td>\n      <td>325.70</td>\n      <td>44989039</td>\n      <td>481.79</td>\n      <td>484.9400</td>\n      <td>473.7000</td>\n      <td>477.9600</td>\n      <td>12365563</td>\n    </tr>\n    <tr>\n      <th>...</th>\n      <td>...</td>\n      <td>...</td>\n      <td>...</td>\n      <td>...</td>\n      <td>...</td>\n      <td>...</td>\n      <td>...</td>\n      <td>...</td>\n      <td>...</td>\n      <td>...</td>\n      <td>...</td>\n      <td>...</td>\n      <td>...</td>\n      <td>...</td>\n      <td>...</td>\n      <td>...</td>\n      <td>...</td>\n      <td>...</td>\n      <td>...</td>\n      <td>...</td>\n      <td>...</td>\n    </tr>\n    <tr>\n      <th>2021-01-04 00:00:00-05:00</th>\n      <td>15.85</td>\n      <td>15.8800</td>\n      <td>15.03</td>\n      <td>15.120</td>\n      <td>68479594</td>\n      <td>133.52</td>\n      <td>133.6116</td>\n      <td>126.760</td>\n      <td>129.41</td>\n      <td>123353442</td>\n      <td>...</td>\n      <td>375.3100</td>\n      <td>375.45</td>\n      <td>364.82</td>\n      <td>368.85</td>\n      <td>92938087</td>\n      <td>719.46</td>\n      <td>744.4899</td>\n      <td>717.1895</td>\n      <td>729.7500</td>\n      <td>45293360</td>\n    </tr>\n    <tr>\n      <th>2021-01-05 00:00:00-05:00</th>\n      <td>14.92</td>\n      <td>15.6300</td>\n      <td>14.87</td>\n      <td>15.430</td>\n      <td>51109216</td>\n      <td>128.89</td>\n      <td>131.7400</td>\n      <td>128.430</td>\n      <td>130.95</td>\n      <td>85139362</td>\n      <td>...</td>\n      <td>368.1000</td>\n      <td>372.50</td>\n      <td>368.05</td>\n      <td>371.32</td>\n      <td>53668865</td>\n      <td>723.66</td>\n      <td>740.8400</td>\n      <td>719.2000</td>\n      <td>735.0550</td>\n      <td>28402584</td>\n    </tr>\n    <tr>\n      <th>2021-01-06 00:00:00-05:00</th>\n      <td>15.45</td>\n      <td>15.8000</td>\n      <td>15.17</td>\n      <td>15.520</td>\n      <td>61348418</td>\n      <td>127.72</td>\n      <td>131.0499</td>\n      <td>126.382</td>\n      <td>126.58</td>\n      <td>142064548</td>\n      <td>...</td>\n      <td>369.7100</td>\n      <td>376.98</td>\n      <td>369.12</td>\n      <td>373.53</td>\n      <td>91989131</td>\n      <td>758.49</td>\n      <td>774.0000</td>\n      <td>749.1000</td>\n      <td>756.4600</td>\n      <td>41989335</td>\n    </tr>\n    <tr>\n      <th>2021-01-07 00:00:00-05:00</th>\n      <td>15.67</td>\n      <td>15.8700</td>\n      <td>15.38</td>\n      <td>15.380</td>\n      <td>45503976</td>\n      <td>128.36</td>\n      <td>131.6300</td>\n      <td>127.860</td>\n      <td>130.85</td>\n      <td>95314687</td>\n      <td>...</td>\n      <td>376.1000</td>\n      <td>379.90</td>\n      <td>375.91</td>\n      <td>379.06</td>\n      <td>58862006</td>\n      <td>777.63</td>\n      <td>816.9900</td>\n      <td>775.2000</td>\n      <td>816.2400</td>\n      <td>48080256</td>\n    </tr>\n    <tr>\n      <th>2021-01-08 00:00:00-05:00</th>\n      <td>15.43</td>\n      <td>15.5300</td>\n      <td>15.00</td>\n      <td>15.115</td>\n      <td>54302647</td>\n      <td>132.43</td>\n      <td>132.6300</td>\n      <td>130.230</td>\n      <td>131.99</td>\n      <td>93211863</td>\n      <td>...</td>\n      <td>380.5900</td>\n      <td>381.49</td>\n      <td>377.10</td>\n      <td>381.24</td>\n      <td>60275466</td>\n      <td>856.00</td>\n      <td>884.4900</td>\n      <td>838.3900</td>\n      <td>880.0300</td>\n      <td>71814487</td>\n    </tr>\n  </tbody>\n</table>\n<p>256 rows × 60 columns</p>\n</div>"
     },
     "metadata": {},
     "execution_count": 24
    }
   ],
   "source": [
    "df_ticker = alpaca.get_barset(\n",
    "    tickers,\n",
    "    timeframe,\n",
    "    start=current_date\n",
    ").df\n",
    "\n",
    "df_ticker"
   ]
  },
  {
   "cell_type": "code",
   "execution_count": 29,
   "metadata": {},
   "outputs": [
    {
     "output_type": "execute_result",
     "data": {
      "text/plain": [
       "                              SPY    AAPL      TSLA      GE       F    MSFT  \\\n",
       "2020-01-06 00:00:00-05:00  323.67  299.78  451.4001  12.140  9.1500  159.02   \n",
       "2020-01-07 00:00:00-05:00  322.76  298.27  469.1700  12.055  9.2500  157.60   \n",
       "2020-01-08 00:00:00-05:00  324.42  303.15  492.0900  11.930  9.2500  160.14   \n",
       "2020-01-09 00:00:00-05:00  326.62  309.71  481.4900  11.900  9.2750  162.09   \n",
       "2020-01-10 00:00:00-05:00  325.70  310.37  477.9600  11.670  9.2500  161.32   \n",
       "...                           ...     ...       ...     ...     ...     ...   \n",
       "2021-01-04 00:00:00-05:00  368.85  129.41  729.7500  10.470  8.5200  217.81   \n",
       "2021-01-05 00:00:00-05:00  371.32  130.95  735.0550  10.765  8.6450  218.01   \n",
       "2021-01-06 00:00:00-05:00  373.53  126.58  756.4600  11.360  8.8422  212.22   \n",
       "2021-01-07 00:00:00-05:00  379.06  130.85  816.2400  11.280  9.0500  218.29   \n",
       "2021-01-08 00:00:00-05:00  381.24  131.99  880.0300  11.340  9.0000  219.55   \n",
       "\n",
       "                               NIO    PFE     AMZN     AAL     DIS     PLUG  \n",
       "2020-01-06 00:00:00-05:00   3.6900  38.87  1903.33  27.320  145.65   3.8150  \n",
       "2020-01-07 00:00:00-05:00   3.2500  38.76  1906.86  27.220  145.68   3.8050  \n",
       "2020-01-08 00:00:00-05:00   3.3850  39.05  1892.09  27.840  145.45   4.0675  \n",
       "2020-01-09 00:00:00-05:00   3.4700  38.89  1901.00  27.950  144.80   4.0450  \n",
       "2020-01-10 00:00:00-05:00   3.5100  39.49  1882.98  27.320  144.60   4.1400  \n",
       "...                            ...    ...      ...     ...     ...      ...  \n",
       "2021-01-04 00:00:00-05:00  53.4816  36.82  3186.65  15.120  177.55  32.1800  \n",
       "2021-01-05 00:00:00-05:00  53.2000  37.19  3218.51  15.430  178.45  32.5500  \n",
       "2021-01-06 00:00:00-05:00  50.5234  36.88  3138.01  15.520  179.12  35.0000  \n",
       "2021-01-07 00:00:00-05:00  54.2500  37.05  3161.41  15.380  178.58  47.3000  \n",
       "2021-01-08 00:00:00-05:00  58.9100  37.12  3182.70  15.115  178.68  53.7788  \n",
       "\n",
       "[256 rows x 12 columns]"
      ],
      "text/html": "<div>\n<style scoped>\n    .dataframe tbody tr th:only-of-type {\n        vertical-align: middle;\n    }\n\n    .dataframe tbody tr th {\n        vertical-align: top;\n    }\n\n    .dataframe thead th {\n        text-align: right;\n    }\n</style>\n<table border=\"1\" class=\"dataframe\">\n  <thead>\n    <tr style=\"text-align: right;\">\n      <th></th>\n      <th>SPY</th>\n      <th>AAPL</th>\n      <th>TSLA</th>\n      <th>GE</th>\n      <th>F</th>\n      <th>MSFT</th>\n      <th>NIO</th>\n      <th>PFE</th>\n      <th>AMZN</th>\n      <th>AAL</th>\n      <th>DIS</th>\n      <th>PLUG</th>\n    </tr>\n  </thead>\n  <tbody>\n    <tr>\n      <th>2020-01-06 00:00:00-05:00</th>\n      <td>323.67</td>\n      <td>299.78</td>\n      <td>451.4001</td>\n      <td>12.140</td>\n      <td>9.1500</td>\n      <td>159.02</td>\n      <td>3.6900</td>\n      <td>38.87</td>\n      <td>1903.33</td>\n      <td>27.320</td>\n      <td>145.65</td>\n      <td>3.8150</td>\n    </tr>\n    <tr>\n      <th>2020-01-07 00:00:00-05:00</th>\n      <td>322.76</td>\n      <td>298.27</td>\n      <td>469.1700</td>\n      <td>12.055</td>\n      <td>9.2500</td>\n      <td>157.60</td>\n      <td>3.2500</td>\n      <td>38.76</td>\n      <td>1906.86</td>\n      <td>27.220</td>\n      <td>145.68</td>\n      <td>3.8050</td>\n    </tr>\n    <tr>\n      <th>2020-01-08 00:00:00-05:00</th>\n      <td>324.42</td>\n      <td>303.15</td>\n      <td>492.0900</td>\n      <td>11.930</td>\n      <td>9.2500</td>\n      <td>160.14</td>\n      <td>3.3850</td>\n      <td>39.05</td>\n      <td>1892.09</td>\n      <td>27.840</td>\n      <td>145.45</td>\n      <td>4.0675</td>\n    </tr>\n    <tr>\n      <th>2020-01-09 00:00:00-05:00</th>\n      <td>326.62</td>\n      <td>309.71</td>\n      <td>481.4900</td>\n      <td>11.900</td>\n      <td>9.2750</td>\n      <td>162.09</td>\n      <td>3.4700</td>\n      <td>38.89</td>\n      <td>1901.00</td>\n      <td>27.950</td>\n      <td>144.80</td>\n      <td>4.0450</td>\n    </tr>\n    <tr>\n      <th>2020-01-10 00:00:00-05:00</th>\n      <td>325.70</td>\n      <td>310.37</td>\n      <td>477.9600</td>\n      <td>11.670</td>\n      <td>9.2500</td>\n      <td>161.32</td>\n      <td>3.5100</td>\n      <td>39.49</td>\n      <td>1882.98</td>\n      <td>27.320</td>\n      <td>144.60</td>\n      <td>4.1400</td>\n    </tr>\n    <tr>\n      <th>...</th>\n      <td>...</td>\n      <td>...</td>\n      <td>...</td>\n      <td>...</td>\n      <td>...</td>\n      <td>...</td>\n      <td>...</td>\n      <td>...</td>\n      <td>...</td>\n      <td>...</td>\n      <td>...</td>\n      <td>...</td>\n    </tr>\n    <tr>\n      <th>2021-01-04 00:00:00-05:00</th>\n      <td>368.85</td>\n      <td>129.41</td>\n      <td>729.7500</td>\n      <td>10.470</td>\n      <td>8.5200</td>\n      <td>217.81</td>\n      <td>53.4816</td>\n      <td>36.82</td>\n      <td>3186.65</td>\n      <td>15.120</td>\n      <td>177.55</td>\n      <td>32.1800</td>\n    </tr>\n    <tr>\n      <th>2021-01-05 00:00:00-05:00</th>\n      <td>371.32</td>\n      <td>130.95</td>\n      <td>735.0550</td>\n      <td>10.765</td>\n      <td>8.6450</td>\n      <td>218.01</td>\n      <td>53.2000</td>\n      <td>37.19</td>\n      <td>3218.51</td>\n      <td>15.430</td>\n      <td>178.45</td>\n      <td>32.5500</td>\n    </tr>\n    <tr>\n      <th>2021-01-06 00:00:00-05:00</th>\n      <td>373.53</td>\n      <td>126.58</td>\n      <td>756.4600</td>\n      <td>11.360</td>\n      <td>8.8422</td>\n      <td>212.22</td>\n      <td>50.5234</td>\n      <td>36.88</td>\n      <td>3138.01</td>\n      <td>15.520</td>\n      <td>179.12</td>\n      <td>35.0000</td>\n    </tr>\n    <tr>\n      <th>2021-01-07 00:00:00-05:00</th>\n      <td>379.06</td>\n      <td>130.85</td>\n      <td>816.2400</td>\n      <td>11.280</td>\n      <td>9.0500</td>\n      <td>218.29</td>\n      <td>54.2500</td>\n      <td>37.05</td>\n      <td>3161.41</td>\n      <td>15.380</td>\n      <td>178.58</td>\n      <td>47.3000</td>\n    </tr>\n    <tr>\n      <th>2021-01-08 00:00:00-05:00</th>\n      <td>381.24</td>\n      <td>131.99</td>\n      <td>880.0300</td>\n      <td>11.340</td>\n      <td>9.0000</td>\n      <td>219.55</td>\n      <td>58.9100</td>\n      <td>37.12</td>\n      <td>3182.70</td>\n      <td>15.115</td>\n      <td>178.68</td>\n      <td>53.7788</td>\n    </tr>\n  </tbody>\n</table>\n<p>256 rows × 12 columns</p>\n</div>"
     },
     "metadata": {},
     "execution_count": 29
    }
   ],
   "source": [
    "df_closing_vol = pd.DataFrame()\n",
    "\n",
    "for ticker in tickers:\n",
    "    df_closing_vol[ticker] = df_ticker[ticker]['close']\n",
    "# Preview DataFrame\n",
    "# YOUR CODE HERE!\n",
    "df_closing_vol"
   ]
  },
  {
   "cell_type": "code",
   "execution_count": 1,
   "metadata": {},
   "outputs": [
    {
     "output_type": "error",
     "ename": "NameError",
     "evalue": "name 'df_closing_prices' is not defined",
     "traceback": [
      "\u001b[0;31m---------------------------------------------------------------------------\u001b[0m",
      "\u001b[0;31mNameError\u001b[0m                                 Traceback (most recent call last)",
      "\u001b[0;32m<ipython-input-1-2cff0d5efbf6>\u001b[0m in \u001b[0;36m<module>\u001b[0;34m\u001b[0m\n\u001b[0;32m----> 1\u001b[0;31m \u001b[0mdf_closing_prices\u001b[0m\u001b[0;34m.\u001b[0m\u001b[0mindex\u001b[0m \u001b[0;34m=\u001b[0m \u001b[0mdf_closing_prices\u001b[0m\u001b[0;34m.\u001b[0m\u001b[0mindex\u001b[0m\u001b[0;34m.\u001b[0m\u001b[0mdate\u001b[0m\u001b[0;34m\u001b[0m\u001b[0;34m\u001b[0m\u001b[0m\n\u001b[0m",
      "\u001b[0;31mNameError\u001b[0m: name 'df_closing_prices' is not defined"
     ]
    }
   ],
   "source": [
    "df_closing_prices.index = df_closing_prices.index.date"
   ]
  },
  {
   "cell_type": "code",
   "execution_count": 3,
   "metadata": {},
   "outputs": [
    {
     "output_type": "error",
     "ename": "NameError",
     "evalue": "name 'df_closing_prices' is not defined",
     "traceback": [
      "\u001b[0;31m---------------------------------------------------------------------------\u001b[0m",
      "\u001b[0;31mNameError\u001b[0m                                 Traceback (most recent call last)",
      "\u001b[0;32m<ipython-input-3-8377540798a2>\u001b[0m in \u001b[0;36m<module>\u001b[0;34m\u001b[0m\n\u001b[0;32m----> 1\u001b[0;31m \u001b[0mdf_closing_prices\u001b[0m\u001b[0;34m\u001b[0m\u001b[0;34m\u001b[0m\u001b[0m\n\u001b[0m",
      "\u001b[0;31mNameError\u001b[0m: name 'df_closing_prices' is not defined"
     ]
    }
   ],
   "source": [
    "df_closing_prices"
   ]
  },
  {
   "cell_type": "code",
   "execution_count": 4,
   "metadata": {},
   "outputs": [
    {
     "output_type": "error",
     "ename": "NameError",
     "evalue": "name 'df_closing_prices' is not defined",
     "traceback": [
      "\u001b[0;31m---------------------------------------------------------------------------\u001b[0m",
      "\u001b[0;31mNameError\u001b[0m                                 Traceback (most recent call last)",
      "\u001b[0;32m<ipython-input-4-3377d21585e4>\u001b[0m in \u001b[0;36m<module>\u001b[0;34m\u001b[0m\n\u001b[0;32m----> 1\u001b[0;31m \u001b[0mdf_closing_prices\u001b[0m\u001b[0;34m.\u001b[0m\u001b[0mstd\u001b[0m\u001b[0;34m(\u001b[0m\u001b[0;34m)\u001b[0m\u001b[0;34m\u001b[0m\u001b[0;34m\u001b[0m\u001b[0m\n\u001b[0m",
      "\u001b[0;31mNameError\u001b[0m: name 'df_closing_prices' is not defined"
     ]
    }
   ],
   "source": [
    "df_closing_prices.std()"
   ]
  },
  {
   "cell_type": "code",
   "execution_count": 220,
   "metadata": {},
   "outputs": [
    {
     "output_type": "execute_result",
     "data": {
      "text/plain": [
       "               SPY    AAPL    TSLA     GE     F    MSFT    NIO    PFE  \\\n",
       "2021-01-07  379.06  130.85  816.24  11.28  9.05  218.29  54.25  37.05   \n",
       "\n",
       "               AMZN    AAL     DIS  PLUG  \n",
       "2021-01-07  3161.41  15.38  178.58  47.3  "
      ],
      "text/html": "<div>\n<style scoped>\n    .dataframe tbody tr th:only-of-type {\n        vertical-align: middle;\n    }\n\n    .dataframe tbody tr th {\n        vertical-align: top;\n    }\n\n    .dataframe thead th {\n        text-align: right;\n    }\n</style>\n<table border=\"1\" class=\"dataframe\">\n  <thead>\n    <tr style=\"text-align: right;\">\n      <th></th>\n      <th>SPY</th>\n      <th>AAPL</th>\n      <th>TSLA</th>\n      <th>GE</th>\n      <th>F</th>\n      <th>MSFT</th>\n      <th>NIO</th>\n      <th>PFE</th>\n      <th>AMZN</th>\n      <th>AAL</th>\n      <th>DIS</th>\n      <th>PLUG</th>\n    </tr>\n  </thead>\n  <tbody>\n    <tr>\n      <th>2021-01-07</th>\n      <td>379.06</td>\n      <td>130.85</td>\n      <td>816.24</td>\n      <td>11.28</td>\n      <td>9.05</td>\n      <td>218.29</td>\n      <td>54.25</td>\n      <td>37.05</td>\n      <td>3161.41</td>\n      <td>15.38</td>\n      <td>178.58</td>\n      <td>47.3</td>\n    </tr>\n  </tbody>\n</table>\n</div>"
     },
     "metadata": {},
     "execution_count": 220
    }
   ],
   "source": [
    "df_current_price = df_closing_prices.tail(1)\n",
    "df_current_price"
   ]
  },
  {
   "cell_type": "code",
   "execution_count": 246,
   "metadata": {},
   "outputs": [],
   "source": [
    "price_change_df = df_closing_prices.pct_change()\n",
    "daily_price_change = price_change_df.dropna()"
   ]
  },
  {
   "cell_type": "code",
   "execution_count": 247,
   "metadata": {},
   "outputs": [
    {
     "output_type": "execute_result",
     "data": {
      "text/plain": [
       "SPY     0.021548\n",
       "AAPL    0.055251\n",
       "TSLA    0.074302\n",
       "GE      0.039616\n",
       "F       0.035333\n",
       "MSFT    0.027843\n",
       "NIO     0.064593\n",
       "PFE     0.022658\n",
       "AMZN    0.024473\n",
       "AAL     0.065223\n",
       "DIS     0.030775\n",
       "PLUG    0.064665\n",
       "dtype: float64"
      ]
     },
     "metadata": {},
     "execution_count": 247
    }
   ],
   "source": [
    "daily_prices_std = daily_price_change.std()\n",
    "daily_prices_std"
   ]
  },
  {
   "cell_type": "code",
   "execution_count": 249,
   "metadata": {},
   "outputs": [
    {
     "output_type": "execute_result",
     "data": {
      "text/plain": [
       "SPY     0.342067\n",
       "AAPL    0.877084\n",
       "TSLA    1.179509\n",
       "GE      0.628887\n",
       "F       0.560900\n",
       "MSFT    0.441990\n",
       "NIO     1.025374\n",
       "PFE     0.359690\n",
       "AMZN    0.388489\n",
       "AAL     1.035390\n",
       "DIS     0.488538\n",
       "PLUG    1.026531\n",
       "dtype: float64"
      ]
     },
     "metadata": {},
     "execution_count": 249
    }
   ],
   "source": [
    "annual_std = daily_prices_std * np.sqrt(252)\n",
    "annual_std"
   ]
  },
  {
   "cell_type": "code",
   "execution_count": 250,
   "metadata": {},
   "outputs": [
    {
     "output_type": "execute_result",
     "data": {
      "text/plain": [
       "0.21560070376335067"
      ]
     },
     "metadata": {},
     "execution_count": 250
    }
   ],
   "source": [
    "SPY_df = daily_price_change[\"SPY\"]\n",
    "spy500_return = SPY_df.mean() * 252\n",
    "spy500_return"
   ]
  },
  {
   "cell_type": "code",
   "execution_count": 268,
   "metadata": {},
   "outputs": [
    {
     "output_type": "execute_result",
     "data": {
      "text/plain": [
       "      StandardDev\n",
       "SPY      0.342067\n",
       "AAPL     0.877084\n",
       "TSLA     1.179509\n",
       "GE       0.628887\n",
       "F        0.560900\n",
       "MSFT     0.441990\n",
       "NIO      1.025374\n",
       "PFE      0.359690\n",
       "AMZN     0.388489\n",
       "AAL      1.035390\n",
       "DIS      0.488538\n",
       "PLUG     1.026531"
      ],
      "text/html": "<div>\n<style scoped>\n    .dataframe tbody tr th:only-of-type {\n        vertical-align: middle;\n    }\n\n    .dataframe tbody tr th {\n        vertical-align: top;\n    }\n\n    .dataframe thead th {\n        text-align: right;\n    }\n</style>\n<table border=\"1\" class=\"dataframe\">\n  <thead>\n    <tr style=\"text-align: right;\">\n      <th></th>\n      <th>StandardDev</th>\n    </tr>\n  </thead>\n  <tbody>\n    <tr>\n      <th>SPY</th>\n      <td>0.342067</td>\n    </tr>\n    <tr>\n      <th>AAPL</th>\n      <td>0.877084</td>\n    </tr>\n    <tr>\n      <th>TSLA</th>\n      <td>1.179509</td>\n    </tr>\n    <tr>\n      <th>GE</th>\n      <td>0.628887</td>\n    </tr>\n    <tr>\n      <th>F</th>\n      <td>0.560900</td>\n    </tr>\n    <tr>\n      <th>MSFT</th>\n      <td>0.441990</td>\n    </tr>\n    <tr>\n      <th>NIO</th>\n      <td>1.025374</td>\n    </tr>\n    <tr>\n      <th>PFE</th>\n      <td>0.359690</td>\n    </tr>\n    <tr>\n      <th>AMZN</th>\n      <td>0.388489</td>\n    </tr>\n    <tr>\n      <th>AAL</th>\n      <td>1.035390</td>\n    </tr>\n    <tr>\n      <th>DIS</th>\n      <td>0.488538</td>\n    </tr>\n    <tr>\n      <th>PLUG</th>\n      <td>1.026531</td>\n    </tr>\n  </tbody>\n</table>\n</div>"
     },
     "metadata": {},
     "execution_count": 268
    }
   ],
   "source": [
    "standard_df = pd.DataFrame(annual_std, columns=[\"StandardDev\"])\n",
    "standard_df"
   ]
  },
  {
   "cell_type": "code",
   "execution_count": 269,
   "metadata": {},
   "outputs": [
    {
     "output_type": "execute_result",
     "data": {
      "text/plain": [
       "<AxesSubplot:>"
      ]
     },
     "metadata": {},
     "execution_count": 269
    },
    {
     "output_type": "display_data",
     "data": {
      "text/plain": "<Figure size 432x288 with 1 Axes>",
      "image/svg+xml": "<?xml version=\"1.0\" encoding=\"utf-8\" standalone=\"no\"?>\r\n<!DOCTYPE svg PUBLIC \"-//W3C//DTD SVG 1.1//EN\"\r\n  \"http://www.w3.org/Graphics/SVG/1.1/DTD/svg11.dtd\">\r\n<!-- Created with matplotlib (https://matplotlib.org/) -->\r\n<svg height=\"268.64pt\" version=\"1.1\" viewBox=\"0 0 380.482812 268.64\" width=\"380.482812pt\" xmlns=\"http://www.w3.org/2000/svg\" xmlns:xlink=\"http://www.w3.org/1999/xlink\">\r\n <metadata>\r\n  <rdf:RDF xmlns:cc=\"http://creativecommons.org/ns#\" xmlns:dc=\"http://purl.org/dc/elements/1.1/\" xmlns:rdf=\"http://www.w3.org/1999/02/22-rdf-syntax-ns#\">\r\n   <cc:Work>\r\n    <dc:type rdf:resource=\"http://purl.org/dc/dcmitype/StillImage\"/>\r\n    <dc:date>2021-01-07T20:37:37.639894</dc:date>\r\n    <dc:format>image/svg+xml</dc:format>\r\n    <dc:creator>\r\n     <cc:Agent>\r\n      <dc:title>Matplotlib v3.3.2, https://matplotlib.org/</dc:title>\r\n     </cc:Agent>\r\n    </dc:creator>\r\n   </cc:Work>\r\n  </rdf:RDF>\r\n </metadata>\r\n <defs>\r\n  <style type=\"text/css\">*{stroke-linecap:butt;stroke-linejoin:round;}</style>\r\n </defs>\r\n <g id=\"figure_1\">\r\n  <g id=\"patch_1\">\r\n   <path d=\"M -0 268.64 \r\nL 380.482812 268.64 \r\nL 380.482812 0 \r\nL -0 0 \r\nz\r\n\" style=\"fill:none;\"/>\r\n  </g>\r\n  <g id=\"axes_1\">\r\n   <g id=\"patch_2\">\r\n    <path d=\"M 38.482813 224.64 \r\nL 373.282813 224.64 \r\nL 373.282813 7.2 \r\nL 38.482813 7.2 \r\nz\r\n\" style=\"fill:#ffffff;\"/>\r\n   </g>\r\n   <g id=\"patch_3\">\r\n    <path clip-path=\"url(#p21c80c32d0)\" d=\"M 45.457812 183.11482 \r\nL 59.407812 183.11482 \r\nL 59.407812 183.11482 \r\nL 45.457812 183.11482 \r\nz\r\n\" style=\"fill:#1f77b4;\"/>\r\n   </g>\r\n   <g id=\"patch_4\">\r\n    <path clip-path=\"url(#p21c80c32d0)\" d=\"M 73.357812 183.11482 \r\nL 87.307812 183.11482 \r\nL 87.307812 204.066871 \r\nL 73.357812 204.066871 \r\nz\r\n\" style=\"fill:#1f77b4;\"/>\r\n   </g>\r\n   <g id=\"patch_5\">\r\n    <path clip-path=\"url(#p21c80c32d0)\" d=\"M 101.257812 183.11482 \r\nL 115.207813 183.11482 \r\nL 115.207813 111.164045 \r\nL 101.257812 111.164045 \r\nz\r\n\" style=\"fill:#1f77b4;\"/>\r\n   </g>\r\n   <g id=\"patch_6\">\r\n    <path clip-path=\"url(#p21c80c32d0)\" d=\"M 129.157812 183.11482 \r\nL 143.107812 183.11482 \r\nL 143.107812 191.427017 \r\nL 129.157812 191.427017 \r\nz\r\n\" style=\"fill:#1f77b4;\"/>\r\n   </g>\r\n   <g id=\"patch_7\">\r\n    <path clip-path=\"url(#p21c80c32d0)\" d=\"M 157.057813 183.11482 \r\nL 171.007812 183.11482 \r\nL 171.007812 190.502687 \r\nL 157.057813 190.502687 \r\nz\r\n\" style=\"fill:#1f77b4;\"/>\r\n   </g>\r\n   <g id=\"patch_8\">\r\n    <path clip-path=\"url(#p21c80c32d0)\" d=\"M 184.957812 183.11482 \r\nL 198.907812 183.11482 \r\nL 198.907812 157.665216 \r\nL 184.957812 157.665216 \r\nz\r\n\" style=\"fill:#1f77b4;\"/>\r\n   </g>\r\n   <g id=\"patch_9\">\r\n    <path clip-path=\"url(#p21c80c32d0)\" d=\"M 212.857812 183.11482 \r\nL 226.807812 183.11482 \r\nL 226.807812 17.083636 \r\nL 212.857812 17.083636 \r\nz\r\n\" style=\"fill:#1f77b4;\"/>\r\n   </g>\r\n   <g id=\"patch_10\">\r\n    <path clip-path=\"url(#p21c80c32d0)\" d=\"M 240.757812 183.11482 \r\nL 254.707812 183.11482 \r\nL 254.707812 214.756364 \r\nL 240.757812 214.756364 \r\nz\r\n\" style=\"fill:#1f77b4;\"/>\r\n   </g>\r\n   <g id=\"patch_11\">\r\n    <path clip-path=\"url(#p21c80c32d0)\" d=\"M 268.657812 183.11482 \r\nL 282.607812 183.11482 \r\nL 282.607812 129.550758 \r\nL 268.657812 129.550758 \r\nz\r\n\" style=\"fill:#1f77b4;\"/>\r\n   </g>\r\n   <g id=\"patch_12\">\r\n    <path clip-path=\"url(#p21c80c32d0)\" d=\"M 296.557813 183.11482 \r\nL 310.507812 183.11482 \r\nL 310.507812 198.292136 \r\nL 296.557813 198.292136 \r\nz\r\n\" style=\"fill:#1f77b4;\"/>\r\n   </g>\r\n   <g id=\"patch_13\">\r\n    <path clip-path=\"url(#p21c80c32d0)\" d=\"M 324.457812 183.11482 \r\nL 338.407812 183.11482 \r\nL 338.407812 170.871846 \r\nL 324.457812 170.871846 \r\nz\r\n\" style=\"fill:#1f77b4;\"/>\r\n   </g>\r\n   <g id=\"patch_14\">\r\n    <path clip-path=\"url(#p21c80c32d0)\" d=\"M 352.357813 183.11482 \r\nL 366.307813 183.11482 \r\nL 366.307813 26.845026 \r\nL 352.357813 26.845026 \r\nz\r\n\" style=\"fill:#1f77b4;\"/>\r\n   </g>\r\n   <g id=\"matplotlib.axis_1\">\r\n    <g id=\"xtick_1\">\r\n     <g id=\"line2d_1\">\r\n      <defs>\r\n       <path d=\"M 0 0 \r\nL 0 3.5 \r\n\" id=\"m29bdd57812\" style=\"stroke:#000000;stroke-width:0.8;\"/>\r\n      </defs>\r\n      <g>\r\n       <use style=\"stroke:#000000;stroke-width:0.8;\" x=\"52.432812\" xlink:href=\"#m29bdd57812\" y=\"224.64\"/>\r\n      </g>\r\n     </g>\r\n     <g id=\"text_1\">\r\n      <!-- SPY -->\r\n      <g transform=\"translate(55.192187 249.900937)rotate(-90)scale(0.1 -0.1)\">\r\n       <defs>\r\n        <path d=\"M 53.515625 70.515625 \r\nL 53.515625 60.890625 \r\nQ 47.90625 63.578125 42.921875 64.890625 \r\nQ 37.9375 66.21875 33.296875 66.21875 \r\nQ 25.25 66.21875 20.875 63.09375 \r\nQ 16.5 59.96875 16.5 54.203125 \r\nQ 16.5 49.359375 19.40625 46.890625 \r\nQ 22.3125 44.4375 30.421875 42.921875 \r\nL 36.375 41.703125 \r\nQ 47.40625 39.59375 52.65625 34.296875 \r\nQ 57.90625 29 57.90625 20.125 \r\nQ 57.90625 9.515625 50.796875 4.046875 \r\nQ 43.703125 -1.421875 29.984375 -1.421875 \r\nQ 24.8125 -1.421875 18.96875 -0.25 \r\nQ 13.140625 0.921875 6.890625 3.21875 \r\nL 6.890625 13.375 \r\nQ 12.890625 10.015625 18.65625 8.296875 \r\nQ 24.421875 6.59375 29.984375 6.59375 \r\nQ 38.421875 6.59375 43.015625 9.90625 \r\nQ 47.609375 13.234375 47.609375 19.390625 \r\nQ 47.609375 24.75 44.3125 27.78125 \r\nQ 41.015625 30.8125 33.5 32.328125 \r\nL 27.484375 33.5 \r\nQ 16.453125 35.6875 11.515625 40.375 \r\nQ 6.59375 45.0625 6.59375 53.421875 \r\nQ 6.59375 63.09375 13.40625 68.65625 \r\nQ 20.21875 74.21875 32.171875 74.21875 \r\nQ 37.3125 74.21875 42.625 73.28125 \r\nQ 47.953125 72.359375 53.515625 70.515625 \r\nz\r\n\" id=\"DejaVuSans-83\"/>\r\n        <path d=\"M 19.671875 64.796875 \r\nL 19.671875 37.40625 \r\nL 32.078125 37.40625 \r\nQ 38.96875 37.40625 42.71875 40.96875 \r\nQ 46.484375 44.53125 46.484375 51.125 \r\nQ 46.484375 57.671875 42.71875 61.234375 \r\nQ 38.96875 64.796875 32.078125 64.796875 \r\nz\r\nM 9.8125 72.90625 \r\nL 32.078125 72.90625 \r\nQ 44.34375 72.90625 50.609375 67.359375 \r\nQ 56.890625 61.8125 56.890625 51.125 \r\nQ 56.890625 40.328125 50.609375 34.8125 \r\nQ 44.34375 29.296875 32.078125 29.296875 \r\nL 19.671875 29.296875 \r\nL 19.671875 0 \r\nL 9.8125 0 \r\nz\r\n\" id=\"DejaVuSans-80\"/>\r\n        <path d=\"M -0.203125 72.90625 \r\nL 10.40625 72.90625 \r\nL 30.609375 42.921875 \r\nL 50.6875 72.90625 \r\nL 61.28125 72.90625 \r\nL 35.5 34.71875 \r\nL 35.5 0 \r\nL 25.59375 0 \r\nL 25.59375 34.71875 \r\nz\r\n\" id=\"DejaVuSans-89\"/>\r\n       </defs>\r\n       <use xlink:href=\"#DejaVuSans-83\"/>\r\n       <use x=\"63.476562\" xlink:href=\"#DejaVuSans-80\"/>\r\n       <use x=\"121.529297\" xlink:href=\"#DejaVuSans-89\"/>\r\n      </g>\r\n     </g>\r\n    </g>\r\n    <g id=\"xtick_2\">\r\n     <g id=\"line2d_2\">\r\n      <g>\r\n       <use style=\"stroke:#000000;stroke-width:0.8;\" x=\"80.332812\" xlink:href=\"#m29bdd57812\" y=\"224.64\"/>\r\n      </g>\r\n     </g>\r\n     <g id=\"text_2\">\r\n      <!-- AAPL -->\r\n      <g transform=\"translate(83.092187 257.197812)rotate(-90)scale(0.1 -0.1)\">\r\n       <defs>\r\n        <path d=\"M 34.1875 63.1875 \r\nL 20.796875 26.90625 \r\nL 47.609375 26.90625 \r\nz\r\nM 28.609375 72.90625 \r\nL 39.796875 72.90625 \r\nL 67.578125 0 \r\nL 57.328125 0 \r\nL 50.6875 18.703125 \r\nL 17.828125 18.703125 \r\nL 11.1875 0 \r\nL 0.78125 0 \r\nz\r\n\" id=\"DejaVuSans-65\"/>\r\n        <path d=\"M 9.8125 72.90625 \r\nL 19.671875 72.90625 \r\nL 19.671875 8.296875 \r\nL 55.171875 8.296875 \r\nL 55.171875 0 \r\nL 9.8125 0 \r\nz\r\n\" id=\"DejaVuSans-76\"/>\r\n       </defs>\r\n       <use xlink:href=\"#DejaVuSans-65\"/>\r\n       <use x=\"71.158203\" xlink:href=\"#DejaVuSans-65\"/>\r\n       <use x=\"139.566406\" xlink:href=\"#DejaVuSans-80\"/>\r\n       <use x=\"199.869141\" xlink:href=\"#DejaVuSans-76\"/>\r\n      </g>\r\n     </g>\r\n    </g>\r\n    <g id=\"xtick_3\">\r\n     <g id=\"line2d_3\">\r\n      <g>\r\n       <use style=\"stroke:#000000;stroke-width:0.8;\" x=\"108.232812\" xlink:href=\"#m29bdd57812\" y=\"224.64\"/>\r\n      </g>\r\n     </g>\r\n     <g id=\"text_3\">\r\n      <!-- TSLA -->\r\n      <g transform=\"translate(110.992188 256.73375)rotate(-90)scale(0.1 -0.1)\">\r\n       <defs>\r\n        <path d=\"M -0.296875 72.90625 \r\nL 61.375 72.90625 \r\nL 61.375 64.59375 \r\nL 35.5 64.59375 \r\nL 35.5 0 \r\nL 25.59375 0 \r\nL 25.59375 64.59375 \r\nL -0.296875 64.59375 \r\nz\r\n\" id=\"DejaVuSans-84\"/>\r\n       </defs>\r\n       <use xlink:href=\"#DejaVuSans-84\"/>\r\n       <use x=\"61.083984\" xlink:href=\"#DejaVuSans-83\"/>\r\n       <use x=\"124.560547\" xlink:href=\"#DejaVuSans-76\"/>\r\n       <use x=\"182.523438\" xlink:href=\"#DejaVuSans-65\"/>\r\n      </g>\r\n     </g>\r\n    </g>\r\n    <g id=\"xtick_4\">\r\n     <g id=\"line2d_4\">\r\n      <g>\r\n       <use style=\"stroke:#000000;stroke-width:0.8;\" x=\"136.132812\" xlink:href=\"#m29bdd57812\" y=\"224.64\"/>\r\n      </g>\r\n     </g>\r\n     <g id=\"text_4\">\r\n      <!-- GE -->\r\n      <g transform=\"translate(138.892188 245.707187)rotate(-90)scale(0.1 -0.1)\">\r\n       <defs>\r\n        <path d=\"M 59.515625 10.40625 \r\nL 59.515625 29.984375 \r\nL 43.40625 29.984375 \r\nL 43.40625 38.09375 \r\nL 69.28125 38.09375 \r\nL 69.28125 6.78125 \r\nQ 63.578125 2.734375 56.6875 0.65625 \r\nQ 49.8125 -1.421875 42 -1.421875 \r\nQ 24.90625 -1.421875 15.25 8.5625 \r\nQ 5.609375 18.5625 5.609375 36.375 \r\nQ 5.609375 54.25 15.25 64.234375 \r\nQ 24.90625 74.21875 42 74.21875 \r\nQ 49.125 74.21875 55.546875 72.453125 \r\nQ 61.96875 70.703125 67.390625 67.28125 \r\nL 67.390625 56.78125 \r\nQ 61.921875 61.421875 55.765625 63.765625 \r\nQ 49.609375 66.109375 42.828125 66.109375 \r\nQ 29.4375 66.109375 22.71875 58.640625 \r\nQ 16.015625 51.171875 16.015625 36.375 \r\nQ 16.015625 21.625 22.71875 14.15625 \r\nQ 29.4375 6.6875 42.828125 6.6875 \r\nQ 48.046875 6.6875 52.140625 7.59375 \r\nQ 56.25 8.5 59.515625 10.40625 \r\nz\r\n\" id=\"DejaVuSans-71\"/>\r\n        <path d=\"M 9.8125 72.90625 \r\nL 55.90625 72.90625 \r\nL 55.90625 64.59375 \r\nL 19.671875 64.59375 \r\nL 19.671875 43.015625 \r\nL 54.390625 43.015625 \r\nL 54.390625 34.71875 \r\nL 19.671875 34.71875 \r\nL 19.671875 8.296875 \r\nL 56.78125 8.296875 \r\nL 56.78125 0 \r\nL 9.8125 0 \r\nz\r\n\" id=\"DejaVuSans-69\"/>\r\n       </defs>\r\n       <use xlink:href=\"#DejaVuSans-71\"/>\r\n       <use x=\"77.490234\" xlink:href=\"#DejaVuSans-69\"/>\r\n      </g>\r\n     </g>\r\n    </g>\r\n    <g id=\"xtick_5\">\r\n     <g id=\"line2d_5\">\r\n      <g>\r\n       <use style=\"stroke:#000000;stroke-width:0.8;\" x=\"164.032812\" xlink:href=\"#m29bdd57812\" y=\"224.64\"/>\r\n      </g>\r\n     </g>\r\n     <g id=\"text_5\">\r\n      <!-- F -->\r\n      <g transform=\"translate(166.792187 237.391562)rotate(-90)scale(0.1 -0.1)\">\r\n       <defs>\r\n        <path d=\"M 9.8125 72.90625 \r\nL 51.703125 72.90625 \r\nL 51.703125 64.59375 \r\nL 19.671875 64.59375 \r\nL 19.671875 43.109375 \r\nL 48.578125 43.109375 \r\nL 48.578125 34.8125 \r\nL 19.671875 34.8125 \r\nL 19.671875 0 \r\nL 9.8125 0 \r\nz\r\n\" id=\"DejaVuSans-70\"/>\r\n       </defs>\r\n       <use xlink:href=\"#DejaVuSans-70\"/>\r\n      </g>\r\n     </g>\r\n    </g>\r\n    <g id=\"xtick_6\">\r\n     <g id=\"line2d_6\">\r\n      <g>\r\n       <use style=\"stroke:#000000;stroke-width:0.8;\" x=\"191.932813\" xlink:href=\"#m29bdd57812\" y=\"224.64\"/>\r\n      </g>\r\n     </g>\r\n     <g id=\"text_6\">\r\n      <!-- MSFT -->\r\n      <g transform=\"translate(194.692188 258.300937)rotate(-90)scale(0.1 -0.1)\">\r\n       <defs>\r\n        <path d=\"M 9.8125 72.90625 \r\nL 24.515625 72.90625 \r\nL 43.109375 23.296875 \r\nL 61.8125 72.90625 \r\nL 76.515625 72.90625 \r\nL 76.515625 0 \r\nL 66.890625 0 \r\nL 66.890625 64.015625 \r\nL 48.09375 14.015625 \r\nL 38.1875 14.015625 \r\nL 19.390625 64.015625 \r\nL 19.390625 0 \r\nL 9.8125 0 \r\nz\r\n\" id=\"DejaVuSans-77\"/>\r\n       </defs>\r\n       <use xlink:href=\"#DejaVuSans-77\"/>\r\n       <use x=\"86.279297\" xlink:href=\"#DejaVuSans-83\"/>\r\n       <use x=\"149.755859\" xlink:href=\"#DejaVuSans-70\"/>\r\n       <use x=\"205.525391\" xlink:href=\"#DejaVuSans-84\"/>\r\n      </g>\r\n     </g>\r\n    </g>\r\n    <g id=\"xtick_7\">\r\n     <g id=\"line2d_7\">\r\n      <g>\r\n       <use style=\"stroke:#000000;stroke-width:0.8;\" x=\"219.832812\" xlink:href=\"#m29bdd57812\" y=\"224.64\"/>\r\n      </g>\r\n     </g>\r\n     <g id=\"text_7\">\r\n      <!-- NIO -->\r\n      <g transform=\"translate(222.592187 249.943125)rotate(-90)scale(0.1 -0.1)\">\r\n       <defs>\r\n        <path d=\"M 9.8125 72.90625 \r\nL 23.09375 72.90625 \r\nL 55.421875 11.921875 \r\nL 55.421875 72.90625 \r\nL 64.984375 72.90625 \r\nL 64.984375 0 \r\nL 51.703125 0 \r\nL 19.390625 60.984375 \r\nL 19.390625 0 \r\nL 9.8125 0 \r\nz\r\n\" id=\"DejaVuSans-78\"/>\r\n        <path d=\"M 9.8125 72.90625 \r\nL 19.671875 72.90625 \r\nL 19.671875 0 \r\nL 9.8125 0 \r\nz\r\n\" id=\"DejaVuSans-73\"/>\r\n        <path d=\"M 39.40625 66.21875 \r\nQ 28.65625 66.21875 22.328125 58.203125 \r\nQ 16.015625 50.203125 16.015625 36.375 \r\nQ 16.015625 22.609375 22.328125 14.59375 \r\nQ 28.65625 6.59375 39.40625 6.59375 \r\nQ 50.140625 6.59375 56.421875 14.59375 \r\nQ 62.703125 22.609375 62.703125 36.375 \r\nQ 62.703125 50.203125 56.421875 58.203125 \r\nQ 50.140625 66.21875 39.40625 66.21875 \r\nz\r\nM 39.40625 74.21875 \r\nQ 54.734375 74.21875 63.90625 63.9375 \r\nQ 73.09375 53.65625 73.09375 36.375 \r\nQ 73.09375 19.140625 63.90625 8.859375 \r\nQ 54.734375 -1.421875 39.40625 -1.421875 \r\nQ 24.03125 -1.421875 14.8125 8.828125 \r\nQ 5.609375 19.09375 5.609375 36.375 \r\nQ 5.609375 53.65625 14.8125 63.9375 \r\nQ 24.03125 74.21875 39.40625 74.21875 \r\nz\r\n\" id=\"DejaVuSans-79\"/>\r\n       </defs>\r\n       <use xlink:href=\"#DejaVuSans-78\"/>\r\n       <use x=\"74.804688\" xlink:href=\"#DejaVuSans-73\"/>\r\n       <use x=\"104.296875\" xlink:href=\"#DejaVuSans-79\"/>\r\n      </g>\r\n     </g>\r\n    </g>\r\n    <g id=\"xtick_8\">\r\n     <g id=\"line2d_8\">\r\n      <g>\r\n       <use style=\"stroke:#000000;stroke-width:0.8;\" x=\"247.732812\" xlink:href=\"#m29bdd57812\" y=\"224.64\"/>\r\n      </g>\r\n     </g>\r\n     <g id=\"text_8\">\r\n      <!-- PFE -->\r\n      <g transform=\"translate(250.492187 249.74)rotate(-90)scale(0.1 -0.1)\">\r\n       <use xlink:href=\"#DejaVuSans-80\"/>\r\n       <use x=\"60.302734\" xlink:href=\"#DejaVuSans-70\"/>\r\n       <use x=\"117.822266\" xlink:href=\"#DejaVuSans-69\"/>\r\n      </g>\r\n     </g>\r\n    </g>\r\n    <g id=\"xtick_9\">\r\n     <g id=\"line2d_9\">\r\n      <g>\r\n       <use style=\"stroke:#000000;stroke-width:0.8;\" x=\"275.632812\" xlink:href=\"#m29bdd57812\" y=\"224.64\"/>\r\n      </g>\r\n     </g>\r\n     <g id=\"text_9\">\r\n      <!-- AMZN -->\r\n      <g transform=\"translate(278.392187 261.44)rotate(-90)scale(0.1 -0.1)\">\r\n       <defs>\r\n        <path d=\"M 5.609375 72.90625 \r\nL 62.890625 72.90625 \r\nL 62.890625 65.375 \r\nL 16.796875 8.296875 \r\nL 64.015625 8.296875 \r\nL 64.015625 0 \r\nL 4.5 0 \r\nL 4.5 7.515625 \r\nL 50.59375 64.59375 \r\nL 5.609375 64.59375 \r\nz\r\n\" id=\"DejaVuSans-90\"/>\r\n       </defs>\r\n       <use xlink:href=\"#DejaVuSans-65\"/>\r\n       <use x=\"68.408203\" xlink:href=\"#DejaVuSans-77\"/>\r\n       <use x=\"154.6875\" xlink:href=\"#DejaVuSans-90\"/>\r\n       <use x=\"223.193359\" xlink:href=\"#DejaVuSans-78\"/>\r\n      </g>\r\n     </g>\r\n    </g>\r\n    <g id=\"xtick_10\">\r\n     <g id=\"line2d_10\">\r\n      <g>\r\n       <use style=\"stroke:#000000;stroke-width:0.8;\" x=\"303.532812\" xlink:href=\"#m29bdd57812\" y=\"224.64\"/>\r\n      </g>\r\n     </g>\r\n     <g id=\"text_10\">\r\n      <!-- AAL -->\r\n      <g transform=\"translate(306.292187 251.168125)rotate(-90)scale(0.1 -0.1)\">\r\n       <use xlink:href=\"#DejaVuSans-65\"/>\r\n       <use x=\"71.158203\" xlink:href=\"#DejaVuSans-65\"/>\r\n       <use x=\"139.566406\" xlink:href=\"#DejaVuSans-76\"/>\r\n      </g>\r\n     </g>\r\n    </g>\r\n    <g id=\"xtick_11\">\r\n     <g id=\"line2d_11\">\r\n      <g>\r\n       <use style=\"stroke:#000000;stroke-width:0.8;\" x=\"331.432813\" xlink:href=\"#m29bdd57812\" y=\"224.64\"/>\r\n      </g>\r\n     </g>\r\n     <g id=\"text_11\">\r\n      <!-- DIS -->\r\n      <g transform=\"translate(334.192187 248.638437)rotate(-90)scale(0.1 -0.1)\">\r\n       <defs>\r\n        <path d=\"M 19.671875 64.796875 \r\nL 19.671875 8.109375 \r\nL 31.59375 8.109375 \r\nQ 46.6875 8.109375 53.6875 14.9375 \r\nQ 60.6875 21.78125 60.6875 36.53125 \r\nQ 60.6875 51.171875 53.6875 57.984375 \r\nQ 46.6875 64.796875 31.59375 64.796875 \r\nz\r\nM 9.8125 72.90625 \r\nL 30.078125 72.90625 \r\nQ 51.265625 72.90625 61.171875 64.09375 \r\nQ 71.09375 55.28125 71.09375 36.53125 \r\nQ 71.09375 17.671875 61.125 8.828125 \r\nQ 51.171875 0 30.078125 0 \r\nL 9.8125 0 \r\nz\r\n\" id=\"DejaVuSans-68\"/>\r\n       </defs>\r\n       <use xlink:href=\"#DejaVuSans-68\"/>\r\n       <use x=\"77.001953\" xlink:href=\"#DejaVuSans-73\"/>\r\n       <use x=\"106.494141\" xlink:href=\"#DejaVuSans-83\"/>\r\n      </g>\r\n     </g>\r\n    </g>\r\n    <g id=\"xtick_12\">\r\n     <g id=\"line2d_12\">\r\n      <g>\r\n       <use style=\"stroke:#000000;stroke-width:0.8;\" x=\"359.332812\" xlink:href=\"#m29bdd57812\" y=\"224.64\"/>\r\n      </g>\r\n     </g>\r\n     <g id=\"text_12\">\r\n      <!-- PLUG -->\r\n      <g transform=\"translate(362.092187 257.80875)rotate(-90)scale(0.1 -0.1)\">\r\n       <defs>\r\n        <path d=\"M 8.6875 72.90625 \r\nL 18.609375 72.90625 \r\nL 18.609375 28.609375 \r\nQ 18.609375 16.890625 22.84375 11.734375 \r\nQ 27.09375 6.59375 36.625 6.59375 \r\nQ 46.09375 6.59375 50.34375 11.734375 \r\nQ 54.59375 16.890625 54.59375 28.609375 \r\nL 54.59375 72.90625 \r\nL 64.5 72.90625 \r\nL 64.5 27.390625 \r\nQ 64.5 13.140625 57.4375 5.859375 \r\nQ 50.390625 -1.421875 36.625 -1.421875 \r\nQ 22.796875 -1.421875 15.734375 5.859375 \r\nQ 8.6875 13.140625 8.6875 27.390625 \r\nz\r\n\" id=\"DejaVuSans-85\"/>\r\n       </defs>\r\n       <use xlink:href=\"#DejaVuSans-80\"/>\r\n       <use x=\"60.302734\" xlink:href=\"#DejaVuSans-76\"/>\r\n       <use x=\"111.015625\" xlink:href=\"#DejaVuSans-85\"/>\r\n       <use x=\"184.208984\" xlink:href=\"#DejaVuSans-71\"/>\r\n      </g>\r\n     </g>\r\n    </g>\r\n   </g>\r\n   <g id=\"matplotlib.axis_2\">\r\n    <g id=\"ytick_1\">\r\n     <g id=\"line2d_13\">\r\n      <defs>\r\n       <path d=\"M 0 0 \r\nL -3.5 0 \r\n\" id=\"mc6a00d0243\" style=\"stroke:#000000;stroke-width:0.8;\"/>\r\n      </defs>\r\n      <g>\r\n       <use style=\"stroke:#000000;stroke-width:0.8;\" x=\"38.482813\" xlink:href=\"#mc6a00d0243\" y=\"211.75225\"/>\r\n      </g>\r\n     </g>\r\n     <g id=\"text_13\">\r\n      <!-- −0.5 -->\r\n      <g transform=\"translate(7.2 215.551469)scale(0.1 -0.1)\">\r\n       <defs>\r\n        <path d=\"M 10.59375 35.5 \r\nL 73.1875 35.5 \r\nL 73.1875 27.203125 \r\nL 10.59375 27.203125 \r\nz\r\n\" id=\"DejaVuSans-8722\"/>\r\n        <path d=\"M 31.78125 66.40625 \r\nQ 24.171875 66.40625 20.328125 58.90625 \r\nQ 16.5 51.421875 16.5 36.375 \r\nQ 16.5 21.390625 20.328125 13.890625 \r\nQ 24.171875 6.390625 31.78125 6.390625 \r\nQ 39.453125 6.390625 43.28125 13.890625 \r\nQ 47.125 21.390625 47.125 36.375 \r\nQ 47.125 51.421875 43.28125 58.90625 \r\nQ 39.453125 66.40625 31.78125 66.40625 \r\nz\r\nM 31.78125 74.21875 \r\nQ 44.046875 74.21875 50.515625 64.515625 \r\nQ 56.984375 54.828125 56.984375 36.375 \r\nQ 56.984375 17.96875 50.515625 8.265625 \r\nQ 44.046875 -1.421875 31.78125 -1.421875 \r\nQ 19.53125 -1.421875 13.0625 8.265625 \r\nQ 6.59375 17.96875 6.59375 36.375 \r\nQ 6.59375 54.828125 13.0625 64.515625 \r\nQ 19.53125 74.21875 31.78125 74.21875 \r\nz\r\n\" id=\"DejaVuSans-48\"/>\r\n        <path d=\"M 10.6875 12.40625 \r\nL 21 12.40625 \r\nL 21 0 \r\nL 10.6875 0 \r\nz\r\n\" id=\"DejaVuSans-46\"/>\r\n        <path d=\"M 10.796875 72.90625 \r\nL 49.515625 72.90625 \r\nL 49.515625 64.59375 \r\nL 19.828125 64.59375 \r\nL 19.828125 46.734375 \r\nQ 21.96875 47.46875 24.109375 47.828125 \r\nQ 26.265625 48.1875 28.421875 48.1875 \r\nQ 40.625 48.1875 47.75 41.5 \r\nQ 54.890625 34.8125 54.890625 23.390625 \r\nQ 54.890625 11.625 47.5625 5.09375 \r\nQ 40.234375 -1.421875 26.90625 -1.421875 \r\nQ 22.3125 -1.421875 17.546875 -0.640625 \r\nQ 12.796875 0.140625 7.71875 1.703125 \r\nL 7.71875 11.625 \r\nQ 12.109375 9.234375 16.796875 8.0625 \r\nQ 21.484375 6.890625 26.703125 6.890625 \r\nQ 35.15625 6.890625 40.078125 11.328125 \r\nQ 45.015625 15.765625 45.015625 23.390625 \r\nQ 45.015625 31 40.078125 35.4375 \r\nQ 35.15625 39.890625 26.703125 39.890625 \r\nQ 22.75 39.890625 18.8125 39.015625 \r\nQ 14.890625 38.140625 10.796875 36.28125 \r\nz\r\n\" id=\"DejaVuSans-53\"/>\r\n       </defs>\r\n       <use xlink:href=\"#DejaVuSans-8722\"/>\r\n       <use x=\"83.789062\" xlink:href=\"#DejaVuSans-48\"/>\r\n       <use x=\"147.412109\" xlink:href=\"#DejaVuSans-46\"/>\r\n       <use x=\"179.199219\" xlink:href=\"#DejaVuSans-53\"/>\r\n      </g>\r\n     </g>\r\n    </g>\r\n    <g id=\"ytick_2\">\r\n     <g id=\"line2d_14\">\r\n      <g>\r\n       <use style=\"stroke:#000000;stroke-width:0.8;\" x=\"38.482813\" xlink:href=\"#mc6a00d0243\" y=\"183.11482\"/>\r\n      </g>\r\n     </g>\r\n     <g id=\"text_14\">\r\n      <!-- 0.0 -->\r\n      <g transform=\"translate(15.579688 186.914038)scale(0.1 -0.1)\">\r\n       <use xlink:href=\"#DejaVuSans-48\"/>\r\n       <use x=\"63.623047\" xlink:href=\"#DejaVuSans-46\"/>\r\n       <use x=\"95.410156\" xlink:href=\"#DejaVuSans-48\"/>\r\n      </g>\r\n     </g>\r\n    </g>\r\n    <g id=\"ytick_3\">\r\n     <g id=\"line2d_15\">\r\n      <g>\r\n       <use style=\"stroke:#000000;stroke-width:0.8;\" x=\"38.482813\" xlink:href=\"#mc6a00d0243\" y=\"154.477389\"/>\r\n      </g>\r\n     </g>\r\n     <g id=\"text_15\">\r\n      <!-- 0.5 -->\r\n      <g transform=\"translate(15.579688 158.276608)scale(0.1 -0.1)\">\r\n       <use xlink:href=\"#DejaVuSans-48\"/>\r\n       <use x=\"63.623047\" xlink:href=\"#DejaVuSans-46\"/>\r\n       <use x=\"95.410156\" xlink:href=\"#DejaVuSans-53\"/>\r\n      </g>\r\n     </g>\r\n    </g>\r\n    <g id=\"ytick_4\">\r\n     <g id=\"line2d_16\">\r\n      <g>\r\n       <use style=\"stroke:#000000;stroke-width:0.8;\" x=\"38.482813\" xlink:href=\"#mc6a00d0243\" y=\"125.839958\"/>\r\n      </g>\r\n     </g>\r\n     <g id=\"text_16\">\r\n      <!-- 1.0 -->\r\n      <g transform=\"translate(15.579688 129.639177)scale(0.1 -0.1)\">\r\n       <defs>\r\n        <path d=\"M 12.40625 8.296875 \r\nL 28.515625 8.296875 \r\nL 28.515625 63.921875 \r\nL 10.984375 60.40625 \r\nL 10.984375 69.390625 \r\nL 28.421875 72.90625 \r\nL 38.28125 72.90625 \r\nL 38.28125 8.296875 \r\nL 54.390625 8.296875 \r\nL 54.390625 0 \r\nL 12.40625 0 \r\nz\r\n\" id=\"DejaVuSans-49\"/>\r\n       </defs>\r\n       <use xlink:href=\"#DejaVuSans-49\"/>\r\n       <use x=\"63.623047\" xlink:href=\"#DejaVuSans-46\"/>\r\n       <use x=\"95.410156\" xlink:href=\"#DejaVuSans-48\"/>\r\n      </g>\r\n     </g>\r\n    </g>\r\n    <g id=\"ytick_5\">\r\n     <g id=\"line2d_17\">\r\n      <g>\r\n       <use style=\"stroke:#000000;stroke-width:0.8;\" x=\"38.482813\" xlink:href=\"#mc6a00d0243\" y=\"97.202527\"/>\r\n      </g>\r\n     </g>\r\n     <g id=\"text_17\">\r\n      <!-- 1.5 -->\r\n      <g transform=\"translate(15.579688 101.001746)scale(0.1 -0.1)\">\r\n       <use xlink:href=\"#DejaVuSans-49\"/>\r\n       <use x=\"63.623047\" xlink:href=\"#DejaVuSans-46\"/>\r\n       <use x=\"95.410156\" xlink:href=\"#DejaVuSans-53\"/>\r\n      </g>\r\n     </g>\r\n    </g>\r\n    <g id=\"ytick_6\">\r\n     <g id=\"line2d_18\">\r\n      <g>\r\n       <use style=\"stroke:#000000;stroke-width:0.8;\" x=\"38.482813\" xlink:href=\"#mc6a00d0243\" y=\"68.565097\"/>\r\n      </g>\r\n     </g>\r\n     <g id=\"text_18\">\r\n      <!-- 2.0 -->\r\n      <g transform=\"translate(15.579688 72.364316)scale(0.1 -0.1)\">\r\n       <defs>\r\n        <path d=\"M 19.1875 8.296875 \r\nL 53.609375 8.296875 \r\nL 53.609375 0 \r\nL 7.328125 0 \r\nL 7.328125 8.296875 \r\nQ 12.9375 14.109375 22.625 23.890625 \r\nQ 32.328125 33.6875 34.8125 36.53125 \r\nQ 39.546875 41.84375 41.421875 45.53125 \r\nQ 43.3125 49.21875 43.3125 52.78125 \r\nQ 43.3125 58.59375 39.234375 62.25 \r\nQ 35.15625 65.921875 28.609375 65.921875 \r\nQ 23.96875 65.921875 18.8125 64.3125 \r\nQ 13.671875 62.703125 7.8125 59.421875 \r\nL 7.8125 69.390625 \r\nQ 13.765625 71.78125 18.9375 73 \r\nQ 24.125 74.21875 28.421875 74.21875 \r\nQ 39.75 74.21875 46.484375 68.546875 \r\nQ 53.21875 62.890625 53.21875 53.421875 \r\nQ 53.21875 48.921875 51.53125 44.890625 \r\nQ 49.859375 40.875 45.40625 35.40625 \r\nQ 44.1875 33.984375 37.640625 27.21875 \r\nQ 31.109375 20.453125 19.1875 8.296875 \r\nz\r\n\" id=\"DejaVuSans-50\"/>\r\n       </defs>\r\n       <use xlink:href=\"#DejaVuSans-50\"/>\r\n       <use x=\"63.623047\" xlink:href=\"#DejaVuSans-46\"/>\r\n       <use x=\"95.410156\" xlink:href=\"#DejaVuSans-48\"/>\r\n      </g>\r\n     </g>\r\n    </g>\r\n    <g id=\"ytick_7\">\r\n     <g id=\"line2d_19\">\r\n      <g>\r\n       <use style=\"stroke:#000000;stroke-width:0.8;\" x=\"38.482813\" xlink:href=\"#mc6a00d0243\" y=\"39.927666\"/>\r\n      </g>\r\n     </g>\r\n     <g id=\"text_19\">\r\n      <!-- 2.5 -->\r\n      <g transform=\"translate(15.579688 43.726885)scale(0.1 -0.1)\">\r\n       <use xlink:href=\"#DejaVuSans-50\"/>\r\n       <use x=\"63.623047\" xlink:href=\"#DejaVuSans-46\"/>\r\n       <use x=\"95.410156\" xlink:href=\"#DejaVuSans-53\"/>\r\n      </g>\r\n     </g>\r\n    </g>\r\n    <g id=\"ytick_8\">\r\n     <g id=\"line2d_20\">\r\n      <g>\r\n       <use style=\"stroke:#000000;stroke-width:0.8;\" x=\"38.482813\" xlink:href=\"#mc6a00d0243\" y=\"11.290235\"/>\r\n      </g>\r\n     </g>\r\n     <g id=\"text_20\">\r\n      <!-- 3.0 -->\r\n      <g transform=\"translate(15.579688 15.089454)scale(0.1 -0.1)\">\r\n       <defs>\r\n        <path d=\"M 40.578125 39.3125 \r\nQ 47.65625 37.796875 51.625 33 \r\nQ 55.609375 28.21875 55.609375 21.1875 \r\nQ 55.609375 10.40625 48.1875 4.484375 \r\nQ 40.765625 -1.421875 27.09375 -1.421875 \r\nQ 22.515625 -1.421875 17.65625 -0.515625 \r\nQ 12.796875 0.390625 7.625 2.203125 \r\nL 7.625 11.71875 \r\nQ 11.71875 9.328125 16.59375 8.109375 \r\nQ 21.484375 6.890625 26.8125 6.890625 \r\nQ 36.078125 6.890625 40.9375 10.546875 \r\nQ 45.796875 14.203125 45.796875 21.1875 \r\nQ 45.796875 27.640625 41.28125 31.265625 \r\nQ 36.765625 34.90625 28.71875 34.90625 \r\nL 20.21875 34.90625 \r\nL 20.21875 43.015625 \r\nL 29.109375 43.015625 \r\nQ 36.375 43.015625 40.234375 45.921875 \r\nQ 44.09375 48.828125 44.09375 54.296875 \r\nQ 44.09375 59.90625 40.109375 62.90625 \r\nQ 36.140625 65.921875 28.71875 65.921875 \r\nQ 24.65625 65.921875 20.015625 65.03125 \r\nQ 15.375 64.15625 9.8125 62.3125 \r\nL 9.8125 71.09375 \r\nQ 15.4375 72.65625 20.34375 73.4375 \r\nQ 25.25 74.21875 29.59375 74.21875 \r\nQ 40.828125 74.21875 47.359375 69.109375 \r\nQ 53.90625 64.015625 53.90625 55.328125 \r\nQ 53.90625 49.265625 50.4375 45.09375 \r\nQ 46.96875 40.921875 40.578125 39.3125 \r\nz\r\n\" id=\"DejaVuSans-51\"/>\r\n       </defs>\r\n       <use xlink:href=\"#DejaVuSans-51\"/>\r\n       <use x=\"63.623047\" xlink:href=\"#DejaVuSans-46\"/>\r\n       <use x=\"95.410156\" xlink:href=\"#DejaVuSans-48\"/>\r\n      </g>\r\n     </g>\r\n    </g>\r\n   </g>\r\n   <g id=\"patch_15\">\r\n    <path d=\"M 38.482813 224.64 \r\nL 38.482813 7.2 \r\n\" style=\"fill:none;stroke:#000000;stroke-linecap:square;stroke-linejoin:miter;stroke-width:0.8;\"/>\r\n   </g>\r\n   <g id=\"patch_16\">\r\n    <path d=\"M 373.282813 224.64 \r\nL 373.282813 7.2 \r\n\" style=\"fill:none;stroke:#000000;stroke-linecap:square;stroke-linejoin:miter;stroke-width:0.8;\"/>\r\n   </g>\r\n   <g id=\"patch_17\">\r\n    <path d=\"M 38.482812 224.64 \r\nL 373.282812 224.64 \r\n\" style=\"fill:none;stroke:#000000;stroke-linecap:square;stroke-linejoin:miter;stroke-width:0.8;\"/>\r\n   </g>\r\n   <g id=\"patch_18\">\r\n    <path d=\"M 38.482812 7.2 \r\nL 373.282812 7.2 \r\n\" style=\"fill:none;stroke:#000000;stroke-linecap:square;stroke-linejoin:miter;stroke-width:0.8;\"/>\r\n   </g>\r\n  </g>\r\n </g>\r\n <defs>\r\n  <clipPath id=\"p21c80c32d0\">\r\n   <rect height=\"217.44\" width=\"334.8\" x=\"38.482813\" y=\"7.2\"/>\r\n  </clipPath>\r\n </defs>\r\n</svg>\r\n",
      "image/png": "[encoded data removed]"
     },
     "metadata": {
      "needs_background": "light"
     }
    }
   ],
   "source": [
    "def sharpe_ratio(return_series, N, rf):\n",
    "    mean = return_series.mean() * N -rf\n",
    "    sigma = return_series.std() * np.sqrt(N)\n",
    "    return mean / sigma\n",
    "\n",
    "N = 252 #252 trading days in a year\n",
    "rf = spy500_return #1% risk free rate\n",
    "sharpe_ratio = daily_price_change.apply(sharpe_ratio, args=(N,rf,),axis=0)\n",
    "\n",
    "sharpe_ratio.plot.bar()"
   ]
  },
  {
   "source": [
    "Excess return is the return on the portfolio less risk-free rate.\n",
    "\n",
    "Therefore, excess return is negative when the (realized or expected) return on the portfolio (or fund, trading strategy, or investment) is lower than the risk-free interest rate (typically a money market rate or treasury yield).\n",
    "\n",
    "Sharpe ratio is negative when the investment return is lower than the risk-free rate."
   ],
   "cell_type": "markdown",
   "metadata": {}
  },
  {
   "cell_type": "code",
   "execution_count": 270,
   "metadata": {},
   "outputs": [
    {
     "output_type": "execute_result",
     "data": {
      "text/plain": [
       "      SharpeRatio\n",
       "SPY      0.000000\n",
       "AAPL    -0.365816\n",
       "TSLA     1.256237\n",
       "GE      -0.145128\n",
       "F       -0.128990\n",
       "MSFT     0.444342\n",
       "NIO      2.898849\n",
       "PFE     -0.552451\n",
       "AMZN     0.935211\n",
       "AAL     -0.264991\n",
       "DIS      0.213758\n",
       "PLUG     2.728419"
      ],
      "text/html": "<div>\n<style scoped>\n    .dataframe tbody tr th:only-of-type {\n        vertical-align: middle;\n    }\n\n    .dataframe tbody tr th {\n        vertical-align: top;\n    }\n\n    .dataframe thead th {\n        text-align: right;\n    }\n</style>\n<table border=\"1\" class=\"dataframe\">\n  <thead>\n    <tr style=\"text-align: right;\">\n      <th></th>\n      <th>SharpeRatio</th>\n    </tr>\n  </thead>\n  <tbody>\n    <tr>\n      <th>SPY</th>\n      <td>0.000000</td>\n    </tr>\n    <tr>\n      <th>AAPL</th>\n      <td>-0.365816</td>\n    </tr>\n    <tr>\n      <th>TSLA</th>\n      <td>1.256237</td>\n    </tr>\n    <tr>\n      <th>GE</th>\n      <td>-0.145128</td>\n    </tr>\n    <tr>\n      <th>F</th>\n      <td>-0.128990</td>\n    </tr>\n    <tr>\n      <th>MSFT</th>\n      <td>0.444342</td>\n    </tr>\n    <tr>\n      <th>NIO</th>\n      <td>2.898849</td>\n    </tr>\n    <tr>\n      <th>PFE</th>\n      <td>-0.552451</td>\n    </tr>\n    <tr>\n      <th>AMZN</th>\n      <td>0.935211</td>\n    </tr>\n    <tr>\n      <th>AAL</th>\n      <td>-0.264991</td>\n    </tr>\n    <tr>\n      <th>DIS</th>\n      <td>0.213758</td>\n    </tr>\n    <tr>\n      <th>PLUG</th>\n      <td>2.728419</td>\n    </tr>\n  </tbody>\n</table>\n</div>"
     },
     "metadata": {},
     "execution_count": 270
    }
   ],
   "source": [
    "sharpe_ratio_df = pd.DataFrame(sharpe_ratio, columns=[\"SharpeRatio\"])\n",
    "sharpe_ratio_df"
   ]
  },
  {
   "cell_type": "code",
   "execution_count": 271,
   "metadata": {},
   "outputs": [
    {
     "output_type": "execute_result",
     "data": {
      "text/plain": [
       "      StandardDev  SharpeRatio\n",
       "SPY      0.342067     0.000000\n",
       "AAPL     0.877084    -0.365816\n",
       "TSLA     1.179509     1.256237\n",
       "GE       0.628887    -0.145128\n",
       "F        0.560900    -0.128990\n",
       "MSFT     0.441990     0.444342\n",
       "NIO      1.025374     2.898849\n",
       "PFE      0.359690    -0.552451\n",
       "AMZN     0.388489     0.935211\n",
       "AAL      1.035390    -0.264991\n",
       "DIS      0.488538     0.213758\n",
       "PLUG     1.026531     2.728419"
      ],
      "text/html": "<div>\n<style scoped>\n    .dataframe tbody tr th:only-of-type {\n        vertical-align: middle;\n    }\n\n    .dataframe tbody tr th {\n        vertical-align: top;\n    }\n\n    .dataframe thead th {\n        text-align: right;\n    }\n</style>\n<table border=\"1\" class=\"dataframe\">\n  <thead>\n    <tr style=\"text-align: right;\">\n      <th></th>\n      <th>StandardDev</th>\n      <th>SharpeRatio</th>\n    </tr>\n  </thead>\n  <tbody>\n    <tr>\n      <th>SPY</th>\n      <td>0.342067</td>\n      <td>0.000000</td>\n    </tr>\n    <tr>\n      <th>AAPL</th>\n      <td>0.877084</td>\n      <td>-0.365816</td>\n    </tr>\n    <tr>\n      <th>TSLA</th>\n      <td>1.179509</td>\n      <td>1.256237</td>\n    </tr>\n    <tr>\n      <th>GE</th>\n      <td>0.628887</td>\n      <td>-0.145128</td>\n    </tr>\n    <tr>\n      <th>F</th>\n      <td>0.560900</td>\n      <td>-0.128990</td>\n    </tr>\n    <tr>\n      <th>MSFT</th>\n      <td>0.441990</td>\n      <td>0.444342</td>\n    </tr>\n    <tr>\n      <th>NIO</th>\n      <td>1.025374</td>\n      <td>2.898849</td>\n    </tr>\n    <tr>\n      <th>PFE</th>\n      <td>0.359690</td>\n      <td>-0.552451</td>\n    </tr>\n    <tr>\n      <th>AMZN</th>\n      <td>0.388489</td>\n      <td>0.935211</td>\n    </tr>\n    <tr>\n      <th>AAL</th>\n      <td>1.035390</td>\n      <td>-0.264991</td>\n    </tr>\n    <tr>\n      <th>DIS</th>\n      <td>0.488538</td>\n      <td>0.213758</td>\n    </tr>\n    <tr>\n      <th>PLUG</th>\n      <td>1.026531</td>\n      <td>2.728419</td>\n    </tr>\n  </tbody>\n</table>\n</div>"
     },
     "metadata": {},
     "execution_count": 271
    }
   ],
   "source": [
    "sharpe_and_std = pd.concat([standard_df, sharpe_ratio_df], axis=1) \n",
    "sharpe_and_std"
   ]
  },
  {
   "cell_type": "code",
   "execution_count": 275,
   "metadata": {},
   "outputs": [
    {
     "output_type": "execute_result",
     "data": {
      "text/plain": [
       "            SPY      AAPL      TSLA         GE           F       MSFT  \\\n",
       "SPY    1.000000 -0.099573  0.003065   5.828253   19.133938   1.153829   \n",
       "AAPL  -1.241772  1.000000  0.225626  -6.722905  -26.726636  -1.366942   \n",
       "TSLA   0.502856  2.968524  1.000000 -45.681496  -47.138478   4.392031   \n",
       "GE     0.027220 -0.002518 -0.001300   1.000000    1.155706  -0.013631   \n",
       "F      0.037450 -0.004195 -0.000562   0.484334    1.000000   0.026346   \n",
       "MSFT   0.575872 -0.054706  0.013360  -1.456720    6.718265   1.000000   \n",
       "NIO    0.374797 -0.090171 -0.007561   1.555402    6.838848   0.503272   \n",
       "PFE    0.046505 -0.000791  0.000600   0.335525    0.967100   0.041079   \n",
       "AMZN  11.731943 -1.444413  0.306999 -79.137332  107.816934  22.763113   \n",
       "AAL    0.038872  0.006311 -0.001729   2.145151    2.304674  -0.072027   \n",
       "DIS    0.539184 -0.060744 -0.004171   6.004891   12.348646   0.463280   \n",
       "PLUG   0.210612 -0.046349 -0.002883   0.881860    3.676176   0.282833   \n",
       "\n",
       "            NIO        PFE      AMZN        AAL        DIS       PLUG  \n",
       "SPY    1.568512   8.654789  0.041944   1.321813   1.409946   2.824815  \n",
       "AAPL  -4.706074  -1.835116 -0.064402   2.676429  -1.980940  -7.752607  \n",
       "TSLA  -5.191866  18.328712  0.180092  -9.648264  -1.789693  -6.343651  \n",
       "GE     0.030400   0.291627 -0.001321   0.340674   0.073336   0.055240  \n",
       "F      0.056017   0.352268  0.000754   0.153387   0.063202   0.096504  \n",
       "MSFT   1.051184   3.815553  0.040618  -1.222411   0.604636   1.893312  \n",
       "NIO    1.000000   2.127473  0.020809  -0.488015   0.553231   1.722361  \n",
       "PFE    0.047841   1.000000  0.001324   0.104089   0.067237   0.083946  \n",
       "AMZN  24.358072  68.916282  1.000000 -45.677073  10.722836  43.571147  \n",
       "AAL   -0.060061   0.569677 -0.004803   1.000000   0.124239  -0.094934  \n",
       "DIS    0.885386   4.785219  0.014660   1.615571   1.000000   1.700446  \n",
       "PLUG   0.537413   1.164793  0.011614  -0.240686   0.331529   1.000000  "
      ],
      "text/html": "<div>\n<style scoped>\n    .dataframe tbody tr th:only-of-type {\n        vertical-align: middle;\n    }\n\n    .dataframe tbody tr th {\n        vertical-align: top;\n    }\n\n    .dataframe thead th {\n        text-align: right;\n    }\n</style>\n<table border=\"1\" class=\"dataframe\">\n  <thead>\n    <tr style=\"text-align: right;\">\n      <th></th>\n      <th>SPY</th>\n      <th>AAPL</th>\n      <th>TSLA</th>\n      <th>GE</th>\n      <th>F</th>\n      <th>MSFT</th>\n      <th>NIO</th>\n      <th>PFE</th>\n      <th>AMZN</th>\n      <th>AAL</th>\n      <th>DIS</th>\n      <th>PLUG</th>\n    </tr>\n  </thead>\n  <tbody>\n    <tr>\n      <th>SPY</th>\n      <td>1.000000</td>\n      <td>-0.099573</td>\n      <td>0.003065</td>\n      <td>5.828253</td>\n      <td>19.133938</td>\n      <td>1.153829</td>\n      <td>1.568512</td>\n      <td>8.654789</td>\n      <td>0.041944</td>\n      <td>1.321813</td>\n      <td>1.409946</td>\n      <td>2.824815</td>\n    </tr>\n    <tr>\n      <th>AAPL</th>\n      <td>-1.241772</td>\n      <td>1.000000</td>\n      <td>0.225626</td>\n      <td>-6.722905</td>\n      <td>-26.726636</td>\n      <td>-1.366942</td>\n      <td>-4.706074</td>\n      <td>-1.835116</td>\n      <td>-0.064402</td>\n      <td>2.676429</td>\n      <td>-1.980940</td>\n      <td>-7.752607</td>\n    </tr>\n    <tr>\n      <th>TSLA</th>\n      <td>0.502856</td>\n      <td>2.968524</td>\n      <td>1.000000</td>\n      <td>-45.681496</td>\n      <td>-47.138478</td>\n      <td>4.392031</td>\n      <td>-5.191866</td>\n      <td>18.328712</td>\n      <td>0.180092</td>\n      <td>-9.648264</td>\n      <td>-1.789693</td>\n      <td>-6.343651</td>\n    </tr>\n    <tr>\n      <th>GE</th>\n      <td>0.027220</td>\n      <td>-0.002518</td>\n      <td>-0.001300</td>\n      <td>1.000000</td>\n      <td>1.155706</td>\n      <td>-0.013631</td>\n      <td>0.030400</td>\n      <td>0.291627</td>\n      <td>-0.001321</td>\n      <td>0.340674</td>\n      <td>0.073336</td>\n      <td>0.055240</td>\n    </tr>\n    <tr>\n      <th>F</th>\n      <td>0.037450</td>\n      <td>-0.004195</td>\n      <td>-0.000562</td>\n      <td>0.484334</td>\n      <td>1.000000</td>\n      <td>0.026346</td>\n      <td>0.056017</td>\n      <td>0.352268</td>\n      <td>0.000754</td>\n      <td>0.153387</td>\n      <td>0.063202</td>\n      <td>0.096504</td>\n    </tr>\n    <tr>\n      <th>MSFT</th>\n      <td>0.575872</td>\n      <td>-0.054706</td>\n      <td>0.013360</td>\n      <td>-1.456720</td>\n      <td>6.718265</td>\n      <td>1.000000</td>\n      <td>1.051184</td>\n      <td>3.815553</td>\n      <td>0.040618</td>\n      <td>-1.222411</td>\n      <td>0.604636</td>\n      <td>1.893312</td>\n    </tr>\n    <tr>\n      <th>NIO</th>\n      <td>0.374797</td>\n      <td>-0.090171</td>\n      <td>-0.007561</td>\n      <td>1.555402</td>\n      <td>6.838848</td>\n      <td>0.503272</td>\n      <td>1.000000</td>\n      <td>2.127473</td>\n      <td>0.020809</td>\n      <td>-0.488015</td>\n      <td>0.553231</td>\n      <td>1.722361</td>\n    </tr>\n    <tr>\n      <th>PFE</th>\n      <td>0.046505</td>\n      <td>-0.000791</td>\n      <td>0.000600</td>\n      <td>0.335525</td>\n      <td>0.967100</td>\n      <td>0.041079</td>\n      <td>0.047841</td>\n      <td>1.000000</td>\n      <td>0.001324</td>\n      <td>0.104089</td>\n      <td>0.067237</td>\n      <td>0.083946</td>\n    </tr>\n    <tr>\n      <th>AMZN</th>\n      <td>11.731943</td>\n      <td>-1.444413</td>\n      <td>0.306999</td>\n      <td>-79.137332</td>\n      <td>107.816934</td>\n      <td>22.763113</td>\n      <td>24.358072</td>\n      <td>68.916282</td>\n      <td>1.000000</td>\n      <td>-45.677073</td>\n      <td>10.722836</td>\n      <td>43.571147</td>\n    </tr>\n    <tr>\n      <th>AAL</th>\n      <td>0.038872</td>\n      <td>0.006311</td>\n      <td>-0.001729</td>\n      <td>2.145151</td>\n      <td>2.304674</td>\n      <td>-0.072027</td>\n      <td>-0.060061</td>\n      <td>0.569677</td>\n      <td>-0.004803</td>\n      <td>1.000000</td>\n      <td>0.124239</td>\n      <td>-0.094934</td>\n    </tr>\n    <tr>\n      <th>DIS</th>\n      <td>0.539184</td>\n      <td>-0.060744</td>\n      <td>-0.004171</td>\n      <td>6.004891</td>\n      <td>12.348646</td>\n      <td>0.463280</td>\n      <td>0.885386</td>\n      <td>4.785219</td>\n      <td>0.014660</td>\n      <td>1.615571</td>\n      <td>1.000000</td>\n      <td>1.700446</td>\n    </tr>\n    <tr>\n      <th>PLUG</th>\n      <td>0.210612</td>\n      <td>-0.046349</td>\n      <td>-0.002883</td>\n      <td>0.881860</td>\n      <td>3.676176</td>\n      <td>0.282833</td>\n      <td>0.537413</td>\n      <td>1.164793</td>\n      <td>0.011614</td>\n      <td>-0.240686</td>\n      <td>0.331529</td>\n      <td>1.000000</td>\n    </tr>\n  </tbody>\n</table>\n</div>"
     },
     "metadata": {},
     "execution_count": 275
    }
   ],
   "source": [
    "covariance = df_closing_prices.cov()\n",
    "variance = df_closing_prices.var()\n",
    "beta = covariance/variance\n",
    "mrkt_beta = beta[\"SPY\"]\n",
    "beta"
   ]
  },
  {
   "cell_type": "code",
   "execution_count": 276,
   "metadata": {},
   "outputs": [
    {
     "output_type": "execute_result",
     "data": {
      "text/plain": [
       "              SPY        AAPL        TSLA          GE           F  \\\n",
       "SPY      0.000000  283.197964  786.444700  -39.804047 -127.950299   \n",
       "AAPL   721.909632    0.000000  610.874479   63.667516  195.634912   \n",
       "TSLA   160.093442 -506.998837    0.000000  384.841556  339.657760   \n",
       "GE     313.260866  258.201192  789.888072   -0.000000   -1.098638   \n",
       "F      309.966566  258.633075  789.305915    4.251140    0.000000   \n",
       "MSFT   136.580263  271.642371  778.323373   20.253161  -40.347204   \n",
       "NIO    201.331834  280.776450  794.826917   -4.578723  -41.198024   \n",
       "PFE    307.050539  257.756399  788.388838    5.477924    0.232135   \n",
       "AMZN -3455.968166  629.565381  546.682292  660.650969 -753.683989   \n",
       "AAL    309.508587  255.927264  790.226490   -9.440608   -9.205579   \n",
       "DIS    148.395005  273.197554  792.152831  -41.260248  -80.074316   \n",
       "PLUG   254.203824  269.490014  791.136284    0.973941  -18.882690   \n",
       "\n",
       "             MSFT         NIO          PFE         AMZN         AAL  \\\n",
       "SPY    -29.790410   -9.301843  -279.999982  2581.378760   -4.883349   \n",
       "AAPL   458.379757   93.361228   103.704036  2867.917515  -25.438940   \n",
       "TSLA  -656.897550  101.309628  -633.856710  2209.154063  161.581863   \n",
       "GE     196.298901   15.864323    25.911151  2697.954025   10.004933   \n",
       "F      188.556925   15.445196    23.693019  2692.360868   12.846914   \n",
       "MSFT    -0.000000   -0.837466  -102.988465  2584.952123   33.723927   \n",
       "NIO     96.195980    0.000000   -41.241153  2638.325435   22.579855   \n",
       "PFE    185.703848   15.578970    -0.000000  2690.826456   13.594978   \n",
       "AMZN -4214.624491 -382.178403 -2484.269497    -0.000000  708.300256   \n",
       "AAL    207.607824   17.344423    15.740526  2707.333515   -0.000000   \n",
       "DIS    103.940757    1.875289  -138.457290  2654.892522   -9.340970   \n",
       "PLUG   138.885930    7.568715    -6.027865  2663.099951   18.826759   \n",
       "\n",
       "              DIS        PLUG  \n",
       "SPY    -52.080970  -20.329940  \n",
       "AAPL   378.709186   97.511223  \n",
       "TSLA   354.412465   81.814294  \n",
       "GE     117.726700   10.525402  \n",
       "F      119.014185   10.065682  \n",
       "MSFT    50.228490   -9.952228  \n",
       "NIO     56.759143   -8.047699  \n",
       "PFE    118.501493   10.205596  \n",
       "AMZN -1235.223539 -474.277488  \n",
       "AAL    111.259833   12.198465  \n",
       "DIS      0.000000   -7.803543  \n",
       "PLUG    84.924979   -0.000000  "
      ],
      "text/html": "<div>\n<style scoped>\n    .dataframe tbody tr th:only-of-type {\n        vertical-align: middle;\n    }\n\n    .dataframe tbody tr th {\n        vertical-align: top;\n    }\n\n    .dataframe thead th {\n        text-align: right;\n    }\n</style>\n<table border=\"1\" class=\"dataframe\">\n  <thead>\n    <tr style=\"text-align: right;\">\n      <th></th>\n      <th>SPY</th>\n      <th>AAPL</th>\n      <th>TSLA</th>\n      <th>GE</th>\n      <th>F</th>\n      <th>MSFT</th>\n      <th>NIO</th>\n      <th>PFE</th>\n      <th>AMZN</th>\n      <th>AAL</th>\n      <th>DIS</th>\n      <th>PLUG</th>\n    </tr>\n  </thead>\n  <tbody>\n    <tr>\n      <th>SPY</th>\n      <td>0.000000</td>\n      <td>283.197964</td>\n      <td>786.444700</td>\n      <td>-39.804047</td>\n      <td>-127.950299</td>\n      <td>-29.790410</td>\n      <td>-9.301843</td>\n      <td>-279.999982</td>\n      <td>2581.378760</td>\n      <td>-4.883349</td>\n      <td>-52.080970</td>\n      <td>-20.329940</td>\n    </tr>\n    <tr>\n      <th>AAPL</th>\n      <td>721.909632</td>\n      <td>0.000000</td>\n      <td>610.874479</td>\n      <td>63.667516</td>\n      <td>195.634912</td>\n      <td>458.379757</td>\n      <td>93.361228</td>\n      <td>103.704036</td>\n      <td>2867.917515</td>\n      <td>-25.438940</td>\n      <td>378.709186</td>\n      <td>97.511223</td>\n    </tr>\n    <tr>\n      <th>TSLA</th>\n      <td>160.093442</td>\n      <td>-506.998837</td>\n      <td>0.000000</td>\n      <td>384.841556</td>\n      <td>339.657760</td>\n      <td>-656.897550</td>\n      <td>101.309628</td>\n      <td>-633.856710</td>\n      <td>2209.154063</td>\n      <td>161.581863</td>\n      <td>354.412465</td>\n      <td>81.814294</td>\n    </tr>\n    <tr>\n      <th>GE</th>\n      <td>313.260866</td>\n      <td>258.201192</td>\n      <td>789.888072</td>\n      <td>-0.000000</td>\n      <td>-1.098638</td>\n      <td>196.298901</td>\n      <td>15.864323</td>\n      <td>25.911151</td>\n      <td>2697.954025</td>\n      <td>10.004933</td>\n      <td>117.726700</td>\n      <td>10.525402</td>\n    </tr>\n    <tr>\n      <th>F</th>\n      <td>309.966566</td>\n      <td>258.633075</td>\n      <td>789.305915</td>\n      <td>4.251140</td>\n      <td>0.000000</td>\n      <td>188.556925</td>\n      <td>15.445196</td>\n      <td>23.693019</td>\n      <td>2692.360868</td>\n      <td>12.846914</td>\n      <td>119.014185</td>\n      <td>10.065682</td>\n    </tr>\n    <tr>\n      <th>MSFT</th>\n      <td>136.580263</td>\n      <td>271.642371</td>\n      <td>778.323373</td>\n      <td>20.253161</td>\n      <td>-40.347204</td>\n      <td>-0.000000</td>\n      <td>-0.837466</td>\n      <td>-102.988465</td>\n      <td>2584.952123</td>\n      <td>33.723927</td>\n      <td>50.228490</td>\n      <td>-9.952228</td>\n    </tr>\n    <tr>\n      <th>NIO</th>\n      <td>201.331834</td>\n      <td>280.776450</td>\n      <td>794.826917</td>\n      <td>-4.578723</td>\n      <td>-41.198024</td>\n      <td>96.195980</td>\n      <td>0.000000</td>\n      <td>-41.241153</td>\n      <td>2638.325435</td>\n      <td>22.579855</td>\n      <td>56.759143</td>\n      <td>-8.047699</td>\n    </tr>\n    <tr>\n      <th>PFE</th>\n      <td>307.050539</td>\n      <td>257.756399</td>\n      <td>788.388838</td>\n      <td>5.477924</td>\n      <td>0.232135</td>\n      <td>185.703848</td>\n      <td>15.578970</td>\n      <td>-0.000000</td>\n      <td>2690.826456</td>\n      <td>13.594978</td>\n      <td>118.501493</td>\n      <td>10.205596</td>\n    </tr>\n    <tr>\n      <th>AMZN</th>\n      <td>-3455.968166</td>\n      <td>629.565381</td>\n      <td>546.682292</td>\n      <td>660.650969</td>\n      <td>-753.683989</td>\n      <td>-4214.624491</td>\n      <td>-382.178403</td>\n      <td>-2484.269497</td>\n      <td>-0.000000</td>\n      <td>708.300256</td>\n      <td>-1235.223539</td>\n      <td>-474.277488</td>\n    </tr>\n    <tr>\n      <th>AAL</th>\n      <td>309.508587</td>\n      <td>255.927264</td>\n      <td>790.226490</td>\n      <td>-9.440608</td>\n      <td>-9.205579</td>\n      <td>207.607824</td>\n      <td>17.344423</td>\n      <td>15.740526</td>\n      <td>2707.333515</td>\n      <td>-0.000000</td>\n      <td>111.259833</td>\n      <td>12.198465</td>\n    </tr>\n    <tr>\n      <th>DIS</th>\n      <td>148.395005</td>\n      <td>273.197554</td>\n      <td>792.152831</td>\n      <td>-41.260248</td>\n      <td>-80.074316</td>\n      <td>103.940757</td>\n      <td>1.875289</td>\n      <td>-138.457290</td>\n      <td>2654.892522</td>\n      <td>-9.340970</td>\n      <td>0.000000</td>\n      <td>-7.803543</td>\n    </tr>\n    <tr>\n      <th>PLUG</th>\n      <td>254.203824</td>\n      <td>269.490014</td>\n      <td>791.136284</td>\n      <td>0.973941</td>\n      <td>-18.882690</td>\n      <td>138.885930</td>\n      <td>7.568715</td>\n      <td>-6.027865</td>\n      <td>2663.099951</td>\n      <td>18.826759</td>\n      <td>84.924979</td>\n      <td>-0.000000</td>\n    </tr>\n  </tbody>\n</table>\n</div>"
     },
     "metadata": {},
     "execution_count": 276
    }
   ],
   "source": [
    "alpha= np.mean(df_closing_prices)-beta*np.mean(df_closing_prices)\n",
    "alpha.round(decimals=6)\n"
   ]
  },
  {
   "cell_type": "code",
   "execution_count": 277,
   "metadata": {},
   "outputs": [
    {
     "output_type": "execute_result",
     "data": {
      "text/plain": [
       "SPY       1049.692216\n",
       "AAPL     13090.728487\n",
       "TSLA    172232.557330\n",
       "GE           4.902386\n",
       "F            2.054496\n",
       "MSFT       523.897982\n",
       "NIO        250.824612\n",
       "PFE          5.640325\n",
       "AMZN    293600.771246\n",
       "AAL         30.869300\n",
       "DIS        401.417462\n",
       "PLUG        78.262622\n",
       "dtype: float64"
      ]
     },
     "metadata": {},
     "execution_count": 277
    }
   ],
   "source": [
    "variance"
   ]
  },
  {
   "cell_type": "code",
   "execution_count": 278,
   "metadata": {},
   "outputs": [],
   "source": [
    "dataframe_beta = pd.DataFrame(beta.loc[\"SPY\"])\n",
    "dataframe_beta.columns = [\"Beta\"]"
   ]
  },
  {
   "cell_type": "code",
   "execution_count": 279,
   "metadata": {},
   "outputs": [
    {
     "output_type": "execute_result",
     "data": {
      "text/plain": [
       "      StandardDev  SharpeRatio       Beta\n",
       "AAPL     0.877084    -0.365816  -0.099573\n",
       "TSLA     1.179509     1.256237   0.003065\n",
       "GE       0.628887    -0.145128   5.828253\n",
       "F        0.560900    -0.128990  19.133938\n",
       "MSFT     0.441990     0.444342   1.153829\n",
       "NIO      1.025374     2.898849   1.568512\n",
       "PFE      0.359690    -0.552451   8.654789\n",
       "AMZN     0.388489     0.935211   0.041944\n",
       "AAL      1.035390    -0.264991   1.321813\n",
       "DIS      0.488538     0.213758   1.409946\n",
       "PLUG     1.026531     2.728419   2.824815"
      ],
      "text/html": "<div>\n<style scoped>\n    .dataframe tbody tr th:only-of-type {\n        vertical-align: middle;\n    }\n\n    .dataframe tbody tr th {\n        vertical-align: top;\n    }\n\n    .dataframe thead th {\n        text-align: right;\n    }\n</style>\n<table border=\"1\" class=\"dataframe\">\n  <thead>\n    <tr style=\"text-align: right;\">\n      <th></th>\n      <th>StandardDev</th>\n      <th>SharpeRatio</th>\n      <th>Beta</th>\n    </tr>\n  </thead>\n  <tbody>\n    <tr>\n      <th>AAPL</th>\n      <td>0.877084</td>\n      <td>-0.365816</td>\n      <td>-0.099573</td>\n    </tr>\n    <tr>\n      <th>TSLA</th>\n      <td>1.179509</td>\n      <td>1.256237</td>\n      <td>0.003065</td>\n    </tr>\n    <tr>\n      <th>GE</th>\n      <td>0.628887</td>\n      <td>-0.145128</td>\n      <td>5.828253</td>\n    </tr>\n    <tr>\n      <th>F</th>\n      <td>0.560900</td>\n      <td>-0.128990</td>\n      <td>19.133938</td>\n    </tr>\n    <tr>\n      <th>MSFT</th>\n      <td>0.441990</td>\n      <td>0.444342</td>\n      <td>1.153829</td>\n    </tr>\n    <tr>\n      <th>NIO</th>\n      <td>1.025374</td>\n      <td>2.898849</td>\n      <td>1.568512</td>\n    </tr>\n    <tr>\n      <th>PFE</th>\n      <td>0.359690</td>\n      <td>-0.552451</td>\n      <td>8.654789</td>\n    </tr>\n    <tr>\n      <th>AMZN</th>\n      <td>0.388489</td>\n      <td>0.935211</td>\n      <td>0.041944</td>\n    </tr>\n    <tr>\n      <th>AAL</th>\n      <td>1.035390</td>\n      <td>-0.264991</td>\n      <td>1.321813</td>\n    </tr>\n    <tr>\n      <th>DIS</th>\n      <td>0.488538</td>\n      <td>0.213758</td>\n      <td>1.409946</td>\n    </tr>\n    <tr>\n      <th>PLUG</th>\n      <td>1.026531</td>\n      <td>2.728419</td>\n      <td>2.824815</td>\n    </tr>\n  </tbody>\n</table>\n</div>"
     },
     "metadata": {},
     "execution_count": 279
    }
   ],
   "source": [
    "sharpe_std_beta = pd.concat([sharpe_and_std, dataframe_beta], axis=1) \n",
    "sharpe_std_beta.drop([\"SPY\"])\n",
    "df_sharpe_std_beta = sharpe_std_beta.drop([\"SPY\"])\n",
    "df_sharpe_std_beta"
   ]
  },
  {
   "cell_type": "code",
   "execution_count": 280,
   "metadata": {},
   "outputs": [],
   "source": [
    "# from sklearn.linear_model import LinearRegression\n",
    "# import pandas as pd"
   ]
  },
  {
   "cell_type": "code",
   "execution_count": 281,
   "metadata": {},
   "outputs": [],
   "source": [
    "# data = df_sharpe_std_beta"
   ]
  },
  {
   "cell_type": "code",
   "execution_count": 284,
   "metadata": {},
   "outputs": [
    {
     "output_type": "execute_result",
     "data": {
      "text/plain": [
       "0.2764305803846191"
      ]
     },
     "metadata": {},
     "execution_count": 284
    }
   ],
   "source": [
    "# model = LinearRegression()\n",
    "# X, y = df_sharpe_std_beta[['StandardDev','Beta']], df_sharpe_std_beta.SharpeRatio\n",
    "# model.fit(X, y)\n",
    "# model.score(X, y)"
   ]
  },
  {
   "cell_type": "code",
   "execution_count": null,
   "metadata": {},
   "outputs": [],
   "source": [
    "# 1 - (1-model.score(X, y))*(len(y)-1)/(len(y)-X.shape[1]-1)"
   ]
  },
  {
   "cell_type": "code",
   "execution_count": null,
   "metadata": {},
   "outputs": [],
   "source": []
  },
  {
   "cell_type": "code",
   "execution_count": null,
   "metadata": {},
   "outputs": [],
   "source": []
  },
  {
   "cell_type": "code",
   "execution_count": 258,
   "metadata": {},
   "outputs": [],
   "source": [
    "# def calc_beta(df):\n",
    "#     np_array = df.values\n",
    "#     m = np_array[:,0] # market returns are column zero from numpy array\n",
    "#     s = np_array[:,1] # stock returns are column one from numpy array\n",
    "#     covariance = np.cov(s,m) # Calculate covariance between stock and market\n",
    "#     beta = covariance[0,1]/covariance[1,1]\n",
    "#     return beta"
   ]
  },
  {
   "cell_type": "code",
   "execution_count": 260,
   "metadata": {},
   "outputs": [
    {
     "output_type": "execute_result",
     "data": {
      "text/plain": [
       "-1.2417720164384742"
      ]
     },
     "metadata": {},
     "execution_count": 260
    }
   ],
   "source": [
    "# df = df_closing_prices\n",
    "# calc_beta(df)"
   ]
  },
  {
   "source": [
    "## R squared vs Beta\n",
    "\n",
    "R-squared measures how closely each change in the price of an asset is correlated to a benchmark. Beta measures how large those price changes are in relation to a benchmark. Used together, R-squared and beta give investors a thorough picture of the performance of asset managers."
   ],
   "cell_type": "markdown",
   "metadata": {}
  },
  {
   "cell_type": "code",
   "execution_count": 237,
   "metadata": {},
   "outputs": [],
   "source": [
    "# #Volatility\n",
    "# ann_sd = df_closing_prices.pct_change().apply(lambda x: np.log(1+x)).std().apply(lambda x: x*np.sqrt(252))\n",
    "# ann_sd"
   ]
  },
  {
   "cell_type": "code",
   "execution_count": 285,
   "metadata": {},
   "outputs": [
    {
     "output_type": "execute_result",
     "data": {
      "text/plain": [
       "      StandardDev  SharpeRatio       Beta\n",
       "AAPL     0.877084    -0.365816  -0.099573\n",
       "TSLA     1.179509     1.256237   0.003065\n",
       "GE       0.628887    -0.145128   5.828253\n",
       "F        0.560900    -0.128990  19.133938\n",
       "MSFT     0.441990     0.444342   1.153829\n",
       "NIO      1.025374     2.898849   1.568512\n",
       "PFE      0.359690    -0.552451   8.654789\n",
       "AMZN     0.388489     0.935211   0.041944\n",
       "AAL      1.035390    -0.264991   1.321813\n",
       "DIS      0.488538     0.213758   1.409946\n",
       "PLUG     1.026531     2.728419   2.824815"
      ],
      "text/html": "<div>\n<style scoped>\n    .dataframe tbody tr th:only-of-type {\n        vertical-align: middle;\n    }\n\n    .dataframe tbody tr th {\n        vertical-align: top;\n    }\n\n    .dataframe thead th {\n        text-align: right;\n    }\n</style>\n<table border=\"1\" class=\"dataframe\">\n  <thead>\n    <tr style=\"text-align: right;\">\n      <th></th>\n      <th>StandardDev</th>\n      <th>SharpeRatio</th>\n      <th>Beta</th>\n    </tr>\n  </thead>\n  <tbody>\n    <tr>\n      <th>AAPL</th>\n      <td>0.877084</td>\n      <td>-0.365816</td>\n      <td>-0.099573</td>\n    </tr>\n    <tr>\n      <th>TSLA</th>\n      <td>1.179509</td>\n      <td>1.256237</td>\n      <td>0.003065</td>\n    </tr>\n    <tr>\n      <th>GE</th>\n      <td>0.628887</td>\n      <td>-0.145128</td>\n      <td>5.828253</td>\n    </tr>\n    <tr>\n      <th>F</th>\n      <td>0.560900</td>\n      <td>-0.128990</td>\n      <td>19.133938</td>\n    </tr>\n    <tr>\n      <th>MSFT</th>\n      <td>0.441990</td>\n      <td>0.444342</td>\n      <td>1.153829</td>\n    </tr>\n    <tr>\n      <th>NIO</th>\n      <td>1.025374</td>\n      <td>2.898849</td>\n      <td>1.568512</td>\n    </tr>\n    <tr>\n      <th>PFE</th>\n      <td>0.359690</td>\n      <td>-0.552451</td>\n      <td>8.654789</td>\n    </tr>\n    <tr>\n      <th>AMZN</th>\n      <td>0.388489</td>\n      <td>0.935211</td>\n      <td>0.041944</td>\n    </tr>\n    <tr>\n      <th>AAL</th>\n      <td>1.035390</td>\n      <td>-0.264991</td>\n      <td>1.321813</td>\n    </tr>\n    <tr>\n      <th>DIS</th>\n      <td>0.488538</td>\n      <td>0.213758</td>\n      <td>1.409946</td>\n    </tr>\n    <tr>\n      <th>PLUG</th>\n      <td>1.026531</td>\n      <td>2.728419</td>\n      <td>2.824815</td>\n    </tr>\n  </tbody>\n</table>\n</div>"
     },
     "metadata": {},
     "execution_count": 285
    }
   ],
   "source": [
    "df_sharpe_std_beta"
   ]
  },
  {
   "cell_type": "code",
   "execution_count": 301,
   "metadata": {},
   "outputs": [],
   "source": [
    "# trial_Df = df_current_price.T\n",
    "# uno = pd.DataFrame(trial_Df)\n",
    "# todays_price = uno.rename(columns = {'2021-01-07':'CurrentPrice'})"
   ]
  },
  {
   "cell_type": "code",
   "execution_count": 302,
   "metadata": {},
   "outputs": [
    {
     "output_type": "execute_result",
     "data": {
      "text/plain": [
       "      StandardDev  SharpeRatio       Beta  2021-01-07\n",
       "SPY      0.342067     0.000000   1.000000      379.06\n",
       "AAPL     0.877084    -0.365816  -0.099573      130.85\n",
       "TSLA     1.179509     1.256237   0.003065      816.24\n",
       "GE       0.628887    -0.145128   5.828253       11.28\n",
       "F        0.560900    -0.128990  19.133938        9.05\n",
       "MSFT     0.441990     0.444342   1.153829      218.29\n",
       "NIO      1.025374     2.898849   1.568512       54.25\n",
       "PFE      0.359690    -0.552451   8.654789       37.05\n",
       "AMZN     0.388489     0.935211   0.041944     3161.41\n",
       "AAL      1.035390    -0.264991   1.321813       15.38\n",
       "DIS      0.488538     0.213758   1.409946      178.58\n",
       "PLUG     1.026531     2.728419   2.824815       47.30"
      ],
      "text/html": "<div>\n<style scoped>\n    .dataframe tbody tr th:only-of-type {\n        vertical-align: middle;\n    }\n\n    .dataframe tbody tr th {\n        vertical-align: top;\n    }\n\n    .dataframe thead th {\n        text-align: right;\n    }\n</style>\n<table border=\"1\" class=\"dataframe\">\n  <thead>\n    <tr style=\"text-align: right;\">\n      <th></th>\n      <th>StandardDev</th>\n      <th>SharpeRatio</th>\n      <th>Beta</th>\n      <th>2021-01-07</th>\n    </tr>\n  </thead>\n  <tbody>\n    <tr>\n      <th>SPY</th>\n      <td>0.342067</td>\n      <td>0.000000</td>\n      <td>1.000000</td>\n      <td>379.06</td>\n    </tr>\n    <tr>\n      <th>AAPL</th>\n      <td>0.877084</td>\n      <td>-0.365816</td>\n      <td>-0.099573</td>\n      <td>130.85</td>\n    </tr>\n    <tr>\n      <th>TSLA</th>\n      <td>1.179509</td>\n      <td>1.256237</td>\n      <td>0.003065</td>\n      <td>816.24</td>\n    </tr>\n    <tr>\n      <th>GE</th>\n      <td>0.628887</td>\n      <td>-0.145128</td>\n      <td>5.828253</td>\n      <td>11.28</td>\n    </tr>\n    <tr>\n      <th>F</th>\n      <td>0.560900</td>\n      <td>-0.128990</td>\n      <td>19.133938</td>\n      <td>9.05</td>\n    </tr>\n    <tr>\n      <th>MSFT</th>\n      <td>0.441990</td>\n      <td>0.444342</td>\n      <td>1.153829</td>\n      <td>218.29</td>\n    </tr>\n    <tr>\n      <th>NIO</th>\n      <td>1.025374</td>\n      <td>2.898849</td>\n      <td>1.568512</td>\n      <td>54.25</td>\n    </tr>\n    <tr>\n      <th>PFE</th>\n      <td>0.359690</td>\n      <td>-0.552451</td>\n      <td>8.654789</td>\n      <td>37.05</td>\n    </tr>\n    <tr>\n      <th>AMZN</th>\n      <td>0.388489</td>\n      <td>0.935211</td>\n      <td>0.041944</td>\n      <td>3161.41</td>\n    </tr>\n    <tr>\n      <th>AAL</th>\n      <td>1.035390</td>\n      <td>-0.264991</td>\n      <td>1.321813</td>\n      <td>15.38</td>\n    </tr>\n    <tr>\n      <th>DIS</th>\n      <td>0.488538</td>\n      <td>0.213758</td>\n      <td>1.409946</td>\n      <td>178.58</td>\n    </tr>\n    <tr>\n      <th>PLUG</th>\n      <td>1.026531</td>\n      <td>2.728419</td>\n      <td>2.824815</td>\n      <td>47.30</td>\n    </tr>\n  </tbody>\n</table>\n</div>"
     },
     "metadata": {},
     "execution_count": 302
    }
   ],
   "source": [
    "# hola = pd.concat([sharpe_std_beta, uno], axis=1)\n",
    "# hola"
   ]
  },
  {
   "cell_type": "code",
   "execution_count": null,
   "metadata": {},
   "outputs": [],
   "source": []
  }
 ]
}