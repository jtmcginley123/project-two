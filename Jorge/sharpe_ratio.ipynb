{
 "metadata": {
  "language_info": {
   "codemirror_mode": {
    "name": "ipython",
    "version": 3
   },
   "file_extension": ".py",
   "mimetype": "text/x-python",
   "name": "python",
   "nbconvert_exporter": "python",
   "pygments_lexer": "ipython3",
   "version": "3.7.9-final"
  },
  "orig_nbformat": 2,
  "kernelspec": {
   "name": "python3",
   "display_name": "Python 3.7.9 64-bit ('base2': conda)",
   "metadata": {
    "interpreter": {
     "hash": "73f1f524b0acba47992ffd8f83b72f373e11b5b8b725181591c7f0bda5344930"
    }
   }
  }
 },
 "nbformat": 4,
 "nbformat_minor": 2,
 "cells": [
  {
   "cell_type": "code",
   "execution_count": 1,
   "metadata": {},
   "outputs": [],
   "source": [
    "import requests\n",
    "from dotenv import load_dotenv\n",
    "import os \n",
    "import pandas as pd\n",
    "import numpy as np\n",
    "import alpaca_trade_api as tradeapi\n",
    "# from MCForecastTools import MCSimulation\n",
    "import json\n",
    "import matplotlib.pyplot as plt"
   ]
  },
  {
   "cell_type": "code",
   "execution_count": 2,
   "metadata": {},
   "outputs": [
    {
     "output_type": "execute_result",
     "data": {
      "text/plain": [
       "True"
      ]
     },
     "metadata": {},
     "execution_count": 2
    }
   ],
   "source": [
    "load_dotenv()"
   ]
  },
  {
   "cell_type": "code",
   "execution_count": 3,
   "metadata": {},
   "outputs": [],
   "source": [
    "alpaca_api_key = os.getenv(\"APCA_API_KEY\")\n",
    "alpaca_secret_key = os.getenv(\"APCA_API_SECRET\")\n",
    "# Create the Alpaca API object\n",
    "# YOUR CODE HERE!\n",
    "alpaca = tradeapi.REST(\n",
    "    alpaca_api_key,\n",
    "    alpaca_secret_key,\n",
    "    api_version= \"v2\")"
   ]
  },
  {
   "cell_type": "code",
   "execution_count": 4,
   "metadata": {},
   "outputs": [
    {
     "output_type": "stream",
     "name": "stdout",
     "text": [
      "Alpaca Key type: <class 'str'>\nAlpca Secret Key type: <class 'str'>\n"
     ]
    }
   ],
   "source": [
    "print(f\"Alpaca Key type: {type(alpaca_api_key)}\")\n",
    "print(f\"Alpca Secret Key type: {type(alpaca_secret_key)}\")"
   ]
  },
  {
   "cell_type": "code",
   "execution_count": 5,
   "metadata": {},
   "outputs": [],
   "source": [
    "current_date = pd.Timestamp(\"2020-01-05\", tz=\"America/New_York\").isoformat()\n",
    "\n",
    "tickers = [\"AAPL\", \"TSLA\", \"GE\", \"F\", \"MSFT\",\"NIO\", \"PFE\", \"AMZN\",\"AAL\",\"DIS\",\"PLUG\"]\n",
    "\n",
    "timeframe = \"1D\""
   ]
  },
  {
   "cell_type": "code",
   "execution_count": 6,
   "metadata": {},
   "outputs": [
    {
     "output_type": "execute_result",
     "data": {
      "text/plain": [
       "                             AAL                                       AAPL  \\\n",
       "                            open     high     low   close    volume    open   \n",
       "time                                                                          \n",
       "2020-01-06 00:00:00-05:00  27.19  27.4901  27.080  27.320   5383583  293.79   \n",
       "2020-01-07 00:00:00-05:00  27.56  27.6800  27.060  27.220   5472322  299.84   \n",
       "2020-01-08 00:00:00-05:00  27.10  28.0900  27.070  27.840   9704511  297.16   \n",
       "2020-01-09 00:00:00-05:00  28.09  28.2300  27.710  27.950   6198374  307.25   \n",
       "2020-01-10 00:00:00-05:00  27.93  27.9900  27.250  27.320   7356133  310.60   \n",
       "...                          ...      ...     ...     ...       ...     ...   \n",
       "2020-12-29 00:00:00-05:00  16.32  16.4100  15.750  15.850  49879732  138.05   \n",
       "2020-12-30 00:00:00-05:00  15.85  16.2000  15.720  16.145  48242234  135.58   \n",
       "2020-12-31 00:00:00-05:00  16.08  16.0900  15.625  15.755  57584478  134.08   \n",
       "2021-01-04 00:00:00-05:00  15.85  15.8800  15.030  15.120  68479594  133.52   \n",
       "2021-01-05 00:00:00-05:00  14.92  15.6300  14.870  15.430  51109216  128.89   \n",
       "\n",
       "                                                                  ...   PLUG  \\\n",
       "                               high       low   close     volume  ...   open   \n",
       "time                                                              ...          \n",
       "2020-01-06 00:00:00-05:00  299.9600  292.7500  299.78   27487207  ...   3.43   \n",
       "2020-01-07 00:00:00-05:00  300.9000  297.4800  298.27   23877417  ...   3.76   \n",
       "2020-01-08 00:00:00-05:00  304.4399  297.1560  303.15   29547763  ...   3.75   \n",
       "2020-01-09 00:00:00-05:00  310.4300  306.2000  309.71   39240341  ...   4.18   \n",
       "2020-01-10 00:00:00-05:00  312.6700  308.2500  310.37   32981826  ...   4.08   \n",
       "...                             ...       ...     ...        ...  ...    ...   \n",
       "2020-12-29 00:00:00-05:00  138.7890  134.3409  134.93  114407189  ...  33.33   \n",
       "2020-12-30 00:00:00-05:00  135.9900  133.4000  133.72   87788124  ...  33.14   \n",
       "2020-12-31 00:00:00-05:00  134.7400  131.7200  132.58   86901528  ...  34.10   \n",
       "2021-01-04 00:00:00-05:00  133.6116  126.7600  129.41  123353442  ...  34.64   \n",
       "2021-01-05 00:00:00-05:00  131.7400  128.4300  130.95   85139362  ...  30.79   \n",
       "\n",
       "                                                                TSLA  \\\n",
       "                             high     low    close    volume    open   \n",
       "time                                                                   \n",
       "2020-01-06 00:00:00-05:00   3.870   3.360   3.8150  37186905  440.47   \n",
       "2020-01-07 00:00:00-05:00   3.900   3.660   3.8050  21453070  461.40   \n",
       "2020-01-08 00:00:00-05:00   4.200   3.750   4.0675  29991957  473.70   \n",
       "2020-01-09 00:00:00-05:00   4.200   3.880   4.0450  16853768  497.10   \n",
       "2020-01-10 00:00:00-05:00   4.170   4.020   4.1400  13613412  481.79   \n",
       "...                           ...     ...      ...       ...     ...   \n",
       "2020-12-29 00:00:00-05:00  33.460  30.840  32.4500  31181833  661.00   \n",
       "2020-12-30 00:00:00-05:00  34.400  32.560  34.2100  22441605  672.00   \n",
       "2020-12-31 00:00:00-05:00  34.573  33.100  33.9200  14733228  699.99   \n",
       "2021-01-04 00:00:00-05:00  34.920  31.066  32.1800  28702974  719.46   \n",
       "2021-01-05 00:00:00-05:00  33.090  30.400  32.5500  17454490  723.66   \n",
       "\n",
       "                                                                   \n",
       "                               high       low     close    volume  \n",
       "time                                                               \n",
       "2020-01-06 00:00:00-05:00  451.5600  440.0000  451.4001   9807049  \n",
       "2020-01-07 00:00:00-05:00  471.6300  453.3550  469.1700  16859537  \n",
       "2020-01-08 00:00:00-05:00  498.4900  468.2300  492.0900  29804104  \n",
       "2020-01-09 00:00:00-05:00  498.8000  472.8700  481.4900  26901507  \n",
       "2020-01-10 00:00:00-05:00  484.9400  473.7000  477.9600  12365563  \n",
       "...                             ...       ...       ...       ...  \n",
       "2020-12-29 00:00:00-05:00  669.9000  655.0000  665.9800  21166506  \n",
       "2020-12-30 00:00:00-05:00  696.6000  668.3603  694.7100  41421498  \n",
       "2020-12-31 00:00:00-05:00  718.7200  691.1200  705.2100  48019909  \n",
       "2021-01-04 00:00:00-05:00  744.4899  717.1895  729.7500  45293360  \n",
       "2021-01-05 00:00:00-05:00  740.8400  719.2000  735.0550  28402584  \n",
       "\n",
       "[253 rows x 55 columns]"
      ],
      "text/html": "<div>\n<style scoped>\n    .dataframe tbody tr th:only-of-type {\n        vertical-align: middle;\n    }\n\n    .dataframe tbody tr th {\n        vertical-align: top;\n    }\n\n    .dataframe thead tr th {\n        text-align: left;\n    }\n\n    .dataframe thead tr:last-of-type th {\n        text-align: right;\n    }\n</style>\n<table border=\"1\" class=\"dataframe\">\n  <thead>\n    <tr>\n      <th></th>\n      <th colspan=\"5\" halign=\"left\">AAL</th>\n      <th colspan=\"5\" halign=\"left\">AAPL</th>\n      <th>...</th>\n      <th colspan=\"5\" halign=\"left\">PLUG</th>\n      <th colspan=\"5\" halign=\"left\">TSLA</th>\n    </tr>\n    <tr>\n      <th></th>\n      <th>open</th>\n      <th>high</th>\n      <th>low</th>\n      <th>close</th>\n      <th>volume</th>\n      <th>open</th>\n      <th>high</th>\n      <th>low</th>\n      <th>close</th>\n      <th>volume</th>\n      <th>...</th>\n      <th>open</th>\n      <th>high</th>\n      <th>low</th>\n      <th>close</th>\n      <th>volume</th>\n      <th>open</th>\n      <th>high</th>\n      <th>low</th>\n      <th>close</th>\n      <th>volume</th>\n    </tr>\n    <tr>\n      <th>time</th>\n      <th></th>\n      <th></th>\n      <th></th>\n      <th></th>\n      <th></th>\n      <th></th>\n      <th></th>\n      <th></th>\n      <th></th>\n      <th></th>\n      <th></th>\n      <th></th>\n      <th></th>\n      <th></th>\n      <th></th>\n      <th></th>\n      <th></th>\n      <th></th>\n      <th></th>\n      <th></th>\n      <th></th>\n    </tr>\n  </thead>\n  <tbody>\n    <tr>\n      <th>2020-01-06 00:00:00-05:00</th>\n      <td>27.19</td>\n      <td>27.4901</td>\n      <td>27.080</td>\n      <td>27.320</td>\n      <td>5383583</td>\n      <td>293.79</td>\n      <td>299.9600</td>\n      <td>292.7500</td>\n      <td>299.78</td>\n      <td>27487207</td>\n      <td>...</td>\n      <td>3.43</td>\n      <td>3.870</td>\n      <td>3.360</td>\n      <td>3.8150</td>\n      <td>37186905</td>\n      <td>440.47</td>\n      <td>451.5600</td>\n      <td>440.0000</td>\n      <td>451.4001</td>\n      <td>9807049</td>\n    </tr>\n    <tr>\n      <th>2020-01-07 00:00:00-05:00</th>\n      <td>27.56</td>\n      <td>27.6800</td>\n      <td>27.060</td>\n      <td>27.220</td>\n      <td>5472322</td>\n      <td>299.84</td>\n      <td>300.9000</td>\n      <td>297.4800</td>\n      <td>298.27</td>\n      <td>23877417</td>\n      <td>...</td>\n      <td>3.76</td>\n      <td>3.900</td>\n      <td>3.660</td>\n      <td>3.8050</td>\n      <td>21453070</td>\n      <td>461.40</td>\n      <td>471.6300</td>\n      <td>453.3550</td>\n      <td>469.1700</td>\n      <td>16859537</td>\n    </tr>\n    <tr>\n      <th>2020-01-08 00:00:00-05:00</th>\n      <td>27.10</td>\n      <td>28.0900</td>\n      <td>27.070</td>\n      <td>27.840</td>\n      <td>9704511</td>\n      <td>297.16</td>\n      <td>304.4399</td>\n      <td>297.1560</td>\n      <td>303.15</td>\n      <td>29547763</td>\n      <td>...</td>\n      <td>3.75</td>\n      <td>4.200</td>\n      <td>3.750</td>\n      <td>4.0675</td>\n      <td>29991957</td>\n      <td>473.70</td>\n      <td>498.4900</td>\n      <td>468.2300</td>\n      <td>492.0900</td>\n      <td>29804104</td>\n    </tr>\n    <tr>\n      <th>2020-01-09 00:00:00-05:00</th>\n      <td>28.09</td>\n      <td>28.2300</td>\n      <td>27.710</td>\n      <td>27.950</td>\n      <td>6198374</td>\n      <td>307.25</td>\n      <td>310.4300</td>\n      <td>306.2000</td>\n      <td>309.71</td>\n      <td>39240341</td>\n      <td>...</td>\n      <td>4.18</td>\n      <td>4.200</td>\n      <td>3.880</td>\n      <td>4.0450</td>\n      <td>16853768</td>\n      <td>497.10</td>\n      <td>498.8000</td>\n      <td>472.8700</td>\n      <td>481.4900</td>\n      <td>26901507</td>\n    </tr>\n    <tr>\n      <th>2020-01-10 00:00:00-05:00</th>\n      <td>27.93</td>\n      <td>27.9900</td>\n      <td>27.250</td>\n      <td>27.320</td>\n      <td>7356133</td>\n      <td>310.60</td>\n      <td>312.6700</td>\n      <td>308.2500</td>\n      <td>310.37</td>\n      <td>32981826</td>\n      <td>...</td>\n      <td>4.08</td>\n      <td>4.170</td>\n      <td>4.020</td>\n      <td>4.1400</td>\n      <td>13613412</td>\n      <td>481.79</td>\n      <td>484.9400</td>\n      <td>473.7000</td>\n      <td>477.9600</td>\n      <td>12365563</td>\n    </tr>\n    <tr>\n      <th>...</th>\n      <td>...</td>\n      <td>...</td>\n      <td>...</td>\n      <td>...</td>\n      <td>...</td>\n      <td>...</td>\n      <td>...</td>\n      <td>...</td>\n      <td>...</td>\n      <td>...</td>\n      <td>...</td>\n      <td>...</td>\n      <td>...</td>\n      <td>...</td>\n      <td>...</td>\n      <td>...</td>\n      <td>...</td>\n      <td>...</td>\n      <td>...</td>\n      <td>...</td>\n      <td>...</td>\n    </tr>\n    <tr>\n      <th>2020-12-29 00:00:00-05:00</th>\n      <td>16.32</td>\n      <td>16.4100</td>\n      <td>15.750</td>\n      <td>15.850</td>\n      <td>49879732</td>\n      <td>138.05</td>\n      <td>138.7890</td>\n      <td>134.3409</td>\n      <td>134.93</td>\n      <td>114407189</td>\n      <td>...</td>\n      <td>33.33</td>\n      <td>33.460</td>\n      <td>30.840</td>\n      <td>32.4500</td>\n      <td>31181833</td>\n      <td>661.00</td>\n      <td>669.9000</td>\n      <td>655.0000</td>\n      <td>665.9800</td>\n      <td>21166506</td>\n    </tr>\n    <tr>\n      <th>2020-12-30 00:00:00-05:00</th>\n      <td>15.85</td>\n      <td>16.2000</td>\n      <td>15.720</td>\n      <td>16.145</td>\n      <td>48242234</td>\n      <td>135.58</td>\n      <td>135.9900</td>\n      <td>133.4000</td>\n      <td>133.72</td>\n      <td>87788124</td>\n      <td>...</td>\n      <td>33.14</td>\n      <td>34.400</td>\n      <td>32.560</td>\n      <td>34.2100</td>\n      <td>22441605</td>\n      <td>672.00</td>\n      <td>696.6000</td>\n      <td>668.3603</td>\n      <td>694.7100</td>\n      <td>41421498</td>\n    </tr>\n    <tr>\n      <th>2020-12-31 00:00:00-05:00</th>\n      <td>16.08</td>\n      <td>16.0900</td>\n      <td>15.625</td>\n      <td>15.755</td>\n      <td>57584478</td>\n      <td>134.08</td>\n      <td>134.7400</td>\n      <td>131.7200</td>\n      <td>132.58</td>\n      <td>86901528</td>\n      <td>...</td>\n      <td>34.10</td>\n      <td>34.573</td>\n      <td>33.100</td>\n      <td>33.9200</td>\n      <td>14733228</td>\n      <td>699.99</td>\n      <td>718.7200</td>\n      <td>691.1200</td>\n      <td>705.2100</td>\n      <td>48019909</td>\n    </tr>\n    <tr>\n      <th>2021-01-04 00:00:00-05:00</th>\n      <td>15.85</td>\n      <td>15.8800</td>\n      <td>15.030</td>\n      <td>15.120</td>\n      <td>68479594</td>\n      <td>133.52</td>\n      <td>133.6116</td>\n      <td>126.7600</td>\n      <td>129.41</td>\n      <td>123353442</td>\n      <td>...</td>\n      <td>34.64</td>\n      <td>34.920</td>\n      <td>31.066</td>\n      <td>32.1800</td>\n      <td>28702974</td>\n      <td>719.46</td>\n      <td>744.4899</td>\n      <td>717.1895</td>\n      <td>729.7500</td>\n      <td>45293360</td>\n    </tr>\n    <tr>\n      <th>2021-01-05 00:00:00-05:00</th>\n      <td>14.92</td>\n      <td>15.6300</td>\n      <td>14.870</td>\n      <td>15.430</td>\n      <td>51109216</td>\n      <td>128.89</td>\n      <td>131.7400</td>\n      <td>128.4300</td>\n      <td>130.95</td>\n      <td>85139362</td>\n      <td>...</td>\n      <td>30.79</td>\n      <td>33.090</td>\n      <td>30.400</td>\n      <td>32.5500</td>\n      <td>17454490</td>\n      <td>723.66</td>\n      <td>740.8400</td>\n      <td>719.2000</td>\n      <td>735.0550</td>\n      <td>28402584</td>\n    </tr>\n  </tbody>\n</table>\n<p>253 rows × 55 columns</p>\n</div>"
     },
     "metadata": {},
     "execution_count": 6
    }
   ],
   "source": [
    "df_ticker = alpaca.get_barset(\n",
    "    tickers,\n",
    "    timeframe,\n",
    "    start=current_date\n",
    ").df\n",
    "\n",
    "df_ticker"
   ]
  },
  {
   "cell_type": "code",
   "execution_count": 7,
   "metadata": {},
   "outputs": [
    {
     "output_type": "execute_result",
     "data": {
      "text/plain": [
       "                             AAPL      TSLA      GE      F    MSFT      NIO  \\\n",
       "time                                                                          \n",
       "2020-01-06 00:00:00-05:00  299.78  451.4001  12.140  9.150  159.02   3.6900   \n",
       "2020-01-07 00:00:00-05:00  298.27  469.1700  12.055  9.250  157.60   3.2500   \n",
       "2020-01-08 00:00:00-05:00  303.15  492.0900  11.930  9.250  160.14   3.3850   \n",
       "2020-01-09 00:00:00-05:00  309.71  481.4900  11.900  9.275  162.09   3.4700   \n",
       "2020-01-10 00:00:00-05:00  310.37  477.9600  11.670  9.250  161.32   3.5100   \n",
       "...                           ...       ...     ...    ...     ...      ...   \n",
       "2020-12-29 00:00:00-05:00  134.93  665.9800  10.560  8.830  224.29  46.1100   \n",
       "2020-12-30 00:00:00-05:00  133.72  694.7100  10.715  8.860  221.68  48.3650   \n",
       "2020-12-31 00:00:00-05:00  132.58  705.2100  10.790  8.790  222.37  48.7400   \n",
       "2021-01-04 00:00:00-05:00  129.41  729.7500  10.470  8.520  217.81  53.4816   \n",
       "2021-01-05 00:00:00-05:00  130.95  735.0550  10.765  8.645  218.01  53.2000   \n",
       "\n",
       "                             PFE     AMZN     AAL     DIS     PLUG  \n",
       "time                                                                \n",
       "2020-01-06 00:00:00-05:00  38.87  1903.33  27.320  145.65   3.8150  \n",
       "2020-01-07 00:00:00-05:00  38.76  1906.86  27.220  145.68   3.8050  \n",
       "2020-01-08 00:00:00-05:00  39.05  1892.09  27.840  145.45   4.0675  \n",
       "2020-01-09 00:00:00-05:00  38.89  1901.00  27.950  144.80   4.0450  \n",
       "2020-01-10 00:00:00-05:00  39.49  1882.98  27.320  144.60   4.1400  \n",
       "...                          ...      ...     ...     ...      ...  \n",
       "2020-12-29 00:00:00-05:00  37.04  3320.71  15.850  177.43  32.4500  \n",
       "2020-12-30 00:00:00-05:00  36.75  3285.85  16.145  181.21  34.2100  \n",
       "2020-12-31 00:00:00-05:00  36.79  3256.41  15.755  181.10  33.9200  \n",
       "2021-01-04 00:00:00-05:00  36.82  3186.65  15.120  177.55  32.1800  \n",
       "2021-01-05 00:00:00-05:00  37.19  3218.51  15.430  178.45  32.5500  \n",
       "\n",
       "[253 rows x 11 columns]"
      ],
      "text/html": "<div>\n<style scoped>\n    .dataframe tbody tr th:only-of-type {\n        vertical-align: middle;\n    }\n\n    .dataframe tbody tr th {\n        vertical-align: top;\n    }\n\n    .dataframe thead th {\n        text-align: right;\n    }\n</style>\n<table border=\"1\" class=\"dataframe\">\n  <thead>\n    <tr style=\"text-align: right;\">\n      <th></th>\n      <th>AAPL</th>\n      <th>TSLA</th>\n      <th>GE</th>\n      <th>F</th>\n      <th>MSFT</th>\n      <th>NIO</th>\n      <th>PFE</th>\n      <th>AMZN</th>\n      <th>AAL</th>\n      <th>DIS</th>\n      <th>PLUG</th>\n    </tr>\n    <tr>\n      <th>time</th>\n      <th></th>\n      <th></th>\n      <th></th>\n      <th></th>\n      <th></th>\n      <th></th>\n      <th></th>\n      <th></th>\n      <th></th>\n      <th></th>\n      <th></th>\n    </tr>\n  </thead>\n  <tbody>\n    <tr>\n      <th>2020-01-06 00:00:00-05:00</th>\n      <td>299.78</td>\n      <td>451.4001</td>\n      <td>12.140</td>\n      <td>9.150</td>\n      <td>159.02</td>\n      <td>3.6900</td>\n      <td>38.87</td>\n      <td>1903.33</td>\n      <td>27.320</td>\n      <td>145.65</td>\n      <td>3.8150</td>\n    </tr>\n    <tr>\n      <th>2020-01-07 00:00:00-05:00</th>\n      <td>298.27</td>\n      <td>469.1700</td>\n      <td>12.055</td>\n      <td>9.250</td>\n      <td>157.60</td>\n      <td>3.2500</td>\n      <td>38.76</td>\n      <td>1906.86</td>\n      <td>27.220</td>\n      <td>145.68</td>\n      <td>3.8050</td>\n    </tr>\n    <tr>\n      <th>2020-01-08 00:00:00-05:00</th>\n      <td>303.15</td>\n      <td>492.0900</td>\n      <td>11.930</td>\n      <td>9.250</td>\n      <td>160.14</td>\n      <td>3.3850</td>\n      <td>39.05</td>\n      <td>1892.09</td>\n      <td>27.840</td>\n      <td>145.45</td>\n      <td>4.0675</td>\n    </tr>\n    <tr>\n      <th>2020-01-09 00:00:00-05:00</th>\n      <td>309.71</td>\n      <td>481.4900</td>\n      <td>11.900</td>\n      <td>9.275</td>\n      <td>162.09</td>\n      <td>3.4700</td>\n      <td>38.89</td>\n      <td>1901.00</td>\n      <td>27.950</td>\n      <td>144.80</td>\n      <td>4.0450</td>\n    </tr>\n    <tr>\n      <th>2020-01-10 00:00:00-05:00</th>\n      <td>310.37</td>\n      <td>477.9600</td>\n      <td>11.670</td>\n      <td>9.250</td>\n      <td>161.32</td>\n      <td>3.5100</td>\n      <td>39.49</td>\n      <td>1882.98</td>\n      <td>27.320</td>\n      <td>144.60</td>\n      <td>4.1400</td>\n    </tr>\n    <tr>\n      <th>...</th>\n      <td>...</td>\n      <td>...</td>\n      <td>...</td>\n      <td>...</td>\n      <td>...</td>\n      <td>...</td>\n      <td>...</td>\n      <td>...</td>\n      <td>...</td>\n      <td>...</td>\n      <td>...</td>\n    </tr>\n    <tr>\n      <th>2020-12-29 00:00:00-05:00</th>\n      <td>134.93</td>\n      <td>665.9800</td>\n      <td>10.560</td>\n      <td>8.830</td>\n      <td>224.29</td>\n      <td>46.1100</td>\n      <td>37.04</td>\n      <td>3320.71</td>\n      <td>15.850</td>\n      <td>177.43</td>\n      <td>32.4500</td>\n    </tr>\n    <tr>\n      <th>2020-12-30 00:00:00-05:00</th>\n      <td>133.72</td>\n      <td>694.7100</td>\n      <td>10.715</td>\n      <td>8.860</td>\n      <td>221.68</td>\n      <td>48.3650</td>\n      <td>36.75</td>\n      <td>3285.85</td>\n      <td>16.145</td>\n      <td>181.21</td>\n      <td>34.2100</td>\n    </tr>\n    <tr>\n      <th>2020-12-31 00:00:00-05:00</th>\n      <td>132.58</td>\n      <td>705.2100</td>\n      <td>10.790</td>\n      <td>8.790</td>\n      <td>222.37</td>\n      <td>48.7400</td>\n      <td>36.79</td>\n      <td>3256.41</td>\n      <td>15.755</td>\n      <td>181.10</td>\n      <td>33.9200</td>\n    </tr>\n    <tr>\n      <th>2021-01-04 00:00:00-05:00</th>\n      <td>129.41</td>\n      <td>729.7500</td>\n      <td>10.470</td>\n      <td>8.520</td>\n      <td>217.81</td>\n      <td>53.4816</td>\n      <td>36.82</td>\n      <td>3186.65</td>\n      <td>15.120</td>\n      <td>177.55</td>\n      <td>32.1800</td>\n    </tr>\n    <tr>\n      <th>2021-01-05 00:00:00-05:00</th>\n      <td>130.95</td>\n      <td>735.0550</td>\n      <td>10.765</td>\n      <td>8.645</td>\n      <td>218.01</td>\n      <td>53.2000</td>\n      <td>37.19</td>\n      <td>3218.51</td>\n      <td>15.430</td>\n      <td>178.45</td>\n      <td>32.5500</td>\n    </tr>\n  </tbody>\n</table>\n<p>253 rows × 11 columns</p>\n</div>"
     },
     "metadata": {},
     "execution_count": 7
    }
   ],
   "source": [
    "df_closing_prices = pd.DataFrame()\n",
    "\n",
    "for ticker in tickers:\n",
    "    df_closing_prices[ticker] = df_ticker[ticker][\"close\"]\n",
    "# Preview DataFrame\n",
    "# YOUR CODE HERE!\n",
    "df_closing_prices"
   ]
  },
  {
   "cell_type": "code",
   "execution_count": 8,
   "metadata": {},
   "outputs": [],
   "source": [
    "df_closing_prices.index = df_closing_prices.index.date"
   ]
  },
  {
   "cell_type": "code",
   "execution_count": 9,
   "metadata": {},
   "outputs": [
    {
     "output_type": "execute_result",
     "data": {
      "text/plain": [
       "              AAPL      TSLA      GE      F    MSFT      NIO    PFE     AMZN  \\\n",
       "2020-01-06  299.78  451.4001  12.140  9.150  159.02   3.6900  38.87  1903.33   \n",
       "2020-01-07  298.27  469.1700  12.055  9.250  157.60   3.2500  38.76  1906.86   \n",
       "2020-01-08  303.15  492.0900  11.930  9.250  160.14   3.3850  39.05  1892.09   \n",
       "2020-01-09  309.71  481.4900  11.900  9.275  162.09   3.4700  38.89  1901.00   \n",
       "2020-01-10  310.37  477.9600  11.670  9.250  161.32   3.5100  39.49  1882.98   \n",
       "...            ...       ...     ...    ...     ...      ...    ...      ...   \n",
       "2020-12-29  134.93  665.9800  10.560  8.830  224.29  46.1100  37.04  3320.71   \n",
       "2020-12-30  133.72  694.7100  10.715  8.860  221.68  48.3650  36.75  3285.85   \n",
       "2020-12-31  132.58  705.2100  10.790  8.790  222.37  48.7400  36.79  3256.41   \n",
       "2021-01-04  129.41  729.7500  10.470  8.520  217.81  53.4816  36.82  3186.65   \n",
       "2021-01-05  130.95  735.0550  10.765  8.645  218.01  53.2000  37.19  3218.51   \n",
       "\n",
       "               AAL     DIS     PLUG  \n",
       "2020-01-06  27.320  145.65   3.8150  \n",
       "2020-01-07  27.220  145.68   3.8050  \n",
       "2020-01-08  27.840  145.45   4.0675  \n",
       "2020-01-09  27.950  144.80   4.0450  \n",
       "2020-01-10  27.320  144.60   4.1400  \n",
       "...            ...     ...      ...  \n",
       "2020-12-29  15.850  177.43  32.4500  \n",
       "2020-12-30  16.145  181.21  34.2100  \n",
       "2020-12-31  15.755  181.10  33.9200  \n",
       "2021-01-04  15.120  177.55  32.1800  \n",
       "2021-01-05  15.430  178.45  32.5500  \n",
       "\n",
       "[253 rows x 11 columns]"
      ],
      "text/html": "<div>\n<style scoped>\n    .dataframe tbody tr th:only-of-type {\n        vertical-align: middle;\n    }\n\n    .dataframe tbody tr th {\n        vertical-align: top;\n    }\n\n    .dataframe thead th {\n        text-align: right;\n    }\n</style>\n<table border=\"1\" class=\"dataframe\">\n  <thead>\n    <tr style=\"text-align: right;\">\n      <th></th>\n      <th>AAPL</th>\n      <th>TSLA</th>\n      <th>GE</th>\n      <th>F</th>\n      <th>MSFT</th>\n      <th>NIO</th>\n      <th>PFE</th>\n      <th>AMZN</th>\n      <th>AAL</th>\n      <th>DIS</th>\n      <th>PLUG</th>\n    </tr>\n  </thead>\n  <tbody>\n    <tr>\n      <th>2020-01-06</th>\n      <td>299.78</td>\n      <td>451.4001</td>\n      <td>12.140</td>\n      <td>9.150</td>\n      <td>159.02</td>\n      <td>3.6900</td>\n      <td>38.87</td>\n      <td>1903.33</td>\n      <td>27.320</td>\n      <td>145.65</td>\n      <td>3.8150</td>\n    </tr>\n    <tr>\n      <th>2020-01-07</th>\n      <td>298.27</td>\n      <td>469.1700</td>\n      <td>12.055</td>\n      <td>9.250</td>\n      <td>157.60</td>\n      <td>3.2500</td>\n      <td>38.76</td>\n      <td>1906.86</td>\n      <td>27.220</td>\n      <td>145.68</td>\n      <td>3.8050</td>\n    </tr>\n    <tr>\n      <th>2020-01-08</th>\n      <td>303.15</td>\n      <td>492.0900</td>\n      <td>11.930</td>\n      <td>9.250</td>\n      <td>160.14</td>\n      <td>3.3850</td>\n      <td>39.05</td>\n      <td>1892.09</td>\n      <td>27.840</td>\n      <td>145.45</td>\n      <td>4.0675</td>\n    </tr>\n    <tr>\n      <th>2020-01-09</th>\n      <td>309.71</td>\n      <td>481.4900</td>\n      <td>11.900</td>\n      <td>9.275</td>\n      <td>162.09</td>\n      <td>3.4700</td>\n      <td>38.89</td>\n      <td>1901.00</td>\n      <td>27.950</td>\n      <td>144.80</td>\n      <td>4.0450</td>\n    </tr>\n    <tr>\n      <th>2020-01-10</th>\n      <td>310.37</td>\n      <td>477.9600</td>\n      <td>11.670</td>\n      <td>9.250</td>\n      <td>161.32</td>\n      <td>3.5100</td>\n      <td>39.49</td>\n      <td>1882.98</td>\n      <td>27.320</td>\n      <td>144.60</td>\n      <td>4.1400</td>\n    </tr>\n    <tr>\n      <th>...</th>\n      <td>...</td>\n      <td>...</td>\n      <td>...</td>\n      <td>...</td>\n      <td>...</td>\n      <td>...</td>\n      <td>...</td>\n      <td>...</td>\n      <td>...</td>\n      <td>...</td>\n      <td>...</td>\n    </tr>\n    <tr>\n      <th>2020-12-29</th>\n      <td>134.93</td>\n      <td>665.9800</td>\n      <td>10.560</td>\n      <td>8.830</td>\n      <td>224.29</td>\n      <td>46.1100</td>\n      <td>37.04</td>\n      <td>3320.71</td>\n      <td>15.850</td>\n      <td>177.43</td>\n      <td>32.4500</td>\n    </tr>\n    <tr>\n      <th>2020-12-30</th>\n      <td>133.72</td>\n      <td>694.7100</td>\n      <td>10.715</td>\n      <td>8.860</td>\n      <td>221.68</td>\n      <td>48.3650</td>\n      <td>36.75</td>\n      <td>3285.85</td>\n      <td>16.145</td>\n      <td>181.21</td>\n      <td>34.2100</td>\n    </tr>\n    <tr>\n      <th>2020-12-31</th>\n      <td>132.58</td>\n      <td>705.2100</td>\n      <td>10.790</td>\n      <td>8.790</td>\n      <td>222.37</td>\n      <td>48.7400</td>\n      <td>36.79</td>\n      <td>3256.41</td>\n      <td>15.755</td>\n      <td>181.10</td>\n      <td>33.9200</td>\n    </tr>\n    <tr>\n      <th>2021-01-04</th>\n      <td>129.41</td>\n      <td>729.7500</td>\n      <td>10.470</td>\n      <td>8.520</td>\n      <td>217.81</td>\n      <td>53.4816</td>\n      <td>36.82</td>\n      <td>3186.65</td>\n      <td>15.120</td>\n      <td>177.55</td>\n      <td>32.1800</td>\n    </tr>\n    <tr>\n      <th>2021-01-05</th>\n      <td>130.95</td>\n      <td>735.0550</td>\n      <td>10.765</td>\n      <td>8.645</td>\n      <td>218.01</td>\n      <td>53.2000</td>\n      <td>37.19</td>\n      <td>3218.51</td>\n      <td>15.430</td>\n      <td>178.45</td>\n      <td>32.5500</td>\n    </tr>\n  </tbody>\n</table>\n<p>253 rows × 11 columns</p>\n</div>"
     },
     "metadata": {},
     "execution_count": 9
    }
   ],
   "source": [
    "df_closing_prices"
   ]
  },
  {
   "cell_type": "code",
   "execution_count": 10,
   "metadata": {},
   "outputs": [
    {
     "output_type": "execute_result",
     "data": {
      "text/plain": [
       "              AAPL     TSLA      GE      F    MSFT   NIO    PFE     AMZN  \\\n",
       "2021-01-05  130.95  735.055  10.765  8.645  218.01  53.2  37.19  3218.51   \n",
       "\n",
       "              AAL     DIS   PLUG  \n",
       "2021-01-05  15.43  178.45  32.55  "
      ],
      "text/html": "<div>\n<style scoped>\n    .dataframe tbody tr th:only-of-type {\n        vertical-align: middle;\n    }\n\n    .dataframe tbody tr th {\n        vertical-align: top;\n    }\n\n    .dataframe thead th {\n        text-align: right;\n    }\n</style>\n<table border=\"1\" class=\"dataframe\">\n  <thead>\n    <tr style=\"text-align: right;\">\n      <th></th>\n      <th>AAPL</th>\n      <th>TSLA</th>\n      <th>GE</th>\n      <th>F</th>\n      <th>MSFT</th>\n      <th>NIO</th>\n      <th>PFE</th>\n      <th>AMZN</th>\n      <th>AAL</th>\n      <th>DIS</th>\n      <th>PLUG</th>\n    </tr>\n  </thead>\n  <tbody>\n    <tr>\n      <th>2021-01-05</th>\n      <td>130.95</td>\n      <td>735.055</td>\n      <td>10.765</td>\n      <td>8.645</td>\n      <td>218.01</td>\n      <td>53.2</td>\n      <td>37.19</td>\n      <td>3218.51</td>\n      <td>15.43</td>\n      <td>178.45</td>\n      <td>32.55</td>\n    </tr>\n  </tbody>\n</table>\n</div>"
     },
     "metadata": {},
     "execution_count": 10
    }
   ],
   "source": [
    "df_current_price = df_closing_prices.tail(1)\n",
    "df_current_price"
   ]
  },
  {
   "cell_type": "code",
   "execution_count": 11,
   "metadata": {},
   "outputs": [],
   "source": [
    "price_change_df = df_closing_prices.pct_change()"
   ]
  },
  {
   "cell_type": "code",
   "execution_count": 12,
   "metadata": {},
   "outputs": [
    {
     "output_type": "execute_result",
     "data": {
      "text/plain": [
       "AAPL    0.055390\n",
       "TSLA    0.074444\n",
       "GE      0.039620\n",
       "F       0.035416\n",
       "MSFT    0.027845\n",
       "NIO     0.064612\n",
       "PFE     0.022740\n",
       "AMZN    0.024507\n",
       "AAL     0.065479\n",
       "DIS     0.030896\n",
       "PLUG    0.061134\n",
       "dtype: float64"
      ]
     },
     "metadata": {},
     "execution_count": 12
    }
   ],
   "source": [
    "daily_std = price_change_df.std()\n",
    "daily_std"
   ]
  },
  {
   "cell_type": "code",
   "execution_count": 13,
   "metadata": {},
   "outputs": [
    {
     "output_type": "execute_result",
     "data": {
      "text/plain": [
       "AAPL    0.879287\n",
       "TSLA    1.181754\n",
       "GE      0.628945\n",
       "F       0.562213\n",
       "MSFT    0.442022\n",
       "NIO     1.025690\n",
       "PFE     0.360994\n",
       "AMZN    0.389036\n",
       "AAL     1.039451\n",
       "DIS     0.490456\n",
       "PLUG    0.970465\n",
       "dtype: float64"
      ]
     },
     "metadata": {},
     "execution_count": 13
    }
   ],
   "source": [
    "annual_std = daily_std * np.sqrt(252)\n",
    "annual_std"
   ]
  },
  {
   "cell_type": "code",
   "execution_count": 14,
   "metadata": {},
   "outputs": [
    {
     "output_type": "execute_result",
     "data": {
      "text/plain": [
       "      Standard Dev\n",
       "AAPL      0.879287\n",
       "TSLA      1.181754\n",
       "GE        0.628945\n",
       "F         0.562213\n",
       "MSFT      0.442022\n",
       "NIO       1.025690\n",
       "PFE       0.360994\n",
       "AMZN      0.389036\n",
       "AAL       1.039451\n",
       "DIS       0.490456\n",
       "PLUG      0.970465"
      ],
      "text/html": "<div>\n<style scoped>\n    .dataframe tbody tr th:only-of-type {\n        vertical-align: middle;\n    }\n\n    .dataframe tbody tr th {\n        vertical-align: top;\n    }\n\n    .dataframe thead th {\n        text-align: right;\n    }\n</style>\n<table border=\"1\" class=\"dataframe\">\n  <thead>\n    <tr style=\"text-align: right;\">\n      <th></th>\n      <th>Standard Dev</th>\n    </tr>\n  </thead>\n  <tbody>\n    <tr>\n      <th>AAPL</th>\n      <td>0.879287</td>\n    </tr>\n    <tr>\n      <th>TSLA</th>\n      <td>1.181754</td>\n    </tr>\n    <tr>\n      <th>GE</th>\n      <td>0.628945</td>\n    </tr>\n    <tr>\n      <th>F</th>\n      <td>0.562213</td>\n    </tr>\n    <tr>\n      <th>MSFT</th>\n      <td>0.442022</td>\n    </tr>\n    <tr>\n      <th>NIO</th>\n      <td>1.025690</td>\n    </tr>\n    <tr>\n      <th>PFE</th>\n      <td>0.360994</td>\n    </tr>\n    <tr>\n      <th>AMZN</th>\n      <td>0.389036</td>\n    </tr>\n    <tr>\n      <th>AAL</th>\n      <td>1.039451</td>\n    </tr>\n    <tr>\n      <th>DIS</th>\n      <td>0.490456</td>\n    </tr>\n    <tr>\n      <th>PLUG</th>\n      <td>0.970465</td>\n    </tr>\n  </tbody>\n</table>\n</div>"
     },
     "metadata": {},
     "execution_count": 14
    }
   ],
   "source": [
    "standard_df = pd.DataFrame(annual_std, columns=[\"Standard Dev\"])\n",
    "standard_df"
   ]
  },
  {
   "cell_type": "code",
   "execution_count": 15,
   "metadata": {},
   "outputs": [
    {
     "output_type": "execute_result",
     "data": {
      "text/plain": [
       "<AxesSubplot:>"
      ]
     },
     "metadata": {},
     "execution_count": 15
    },
    {
     "output_type": "display_data",
     "data": {
      "text/plain": "<Figure size 432x288 with 1 Axes>",
      "image/svg+xml": "<?xml version=\"1.0\" encoding=\"utf-8\" standalone=\"no\"?>\r\n<!DOCTYPE svg PUBLIC \"-//W3C//DTD SVG 1.1//EN\"\r\n  \"http://www.w3.org/Graphics/SVG/1.1/DTD/svg11.dtd\">\r\n<!-- Created with matplotlib (https://matplotlib.org/) -->\r\n<svg height=\"268.64pt\" version=\"1.1\" viewBox=\"0 0 372.103125 268.64\" width=\"372.103125pt\" xmlns=\"http://www.w3.org/2000/svg\" xmlns:xlink=\"http://www.w3.org/1999/xlink\">\r\n <metadata>\r\n  <rdf:RDF xmlns:cc=\"http://creativecommons.org/ns#\" xmlns:dc=\"http://purl.org/dc/elements/1.1/\" xmlns:rdf=\"http://www.w3.org/1999/02/22-rdf-syntax-ns#\">\r\n   <cc:Work>\r\n    <dc:type rdf:resource=\"http://purl.org/dc/dcmitype/StillImage\"/>\r\n    <dc:date>2021-01-05T21:35:01.142000</dc:date>\r\n    <dc:format>image/svg+xml</dc:format>\r\n    <dc:creator>\r\n     <cc:Agent>\r\n      <dc:title>Matplotlib v3.3.2, https://matplotlib.org/</dc:title>\r\n     </cc:Agent>\r\n    </dc:creator>\r\n   </cc:Work>\r\n  </rdf:RDF>\r\n </metadata>\r\n <defs>\r\n  <style type=\"text/css\">*{stroke-linecap:butt;stroke-linejoin:round;}</style>\r\n </defs>\r\n <g id=\"figure_1\">\r\n  <g id=\"patch_1\">\r\n   <path d=\"M 0 268.64 \r\nL 372.103125 268.64 \r\nL 372.103125 0 \r\nL 0 0 \r\nz\r\n\" style=\"fill:none;\"/>\r\n  </g>\r\n  <g id=\"axes_1\">\r\n   <g id=\"patch_2\">\r\n    <path d=\"M 30.103125 224.64 \r\nL 364.903125 224.64 \r\nL 364.903125 7.2 \r\nL 30.103125 7.2 \r\nz\r\n\" style=\"fill:#ffffff;\"/>\r\n   </g>\r\n   <g id=\"patch_3\">\r\n    <path clip-path=\"url(#p7f4b0a364d)\" d=\"M 37.712216 206.658139 \r\nL 52.930398 206.658139 \r\nL 52.930398 214.756364 \r\nL 37.712216 214.756364 \r\nz\r\n\" style=\"fill:#1f77b4;\"/>\r\n   </g>\r\n   <g id=\"patch_4\">\r\n    <path clip-path=\"url(#p7f4b0a364d)\" d=\"M 68.14858 206.658139 \r\nL 83.366761 206.658139 \r\nL 83.366761 124.246897 \r\nL 68.14858 124.246897 \r\nz\r\n\" style=\"fill:#1f77b4;\"/>\r\n   </g>\r\n   <g id=\"patch_5\">\r\n    <path clip-path=\"url(#p7f4b0a364d)\" d=\"M 98.584943 206.658139 \r\nL 113.803125 206.658139 \r\nL 113.803125 200.13546 \r\nL 98.584943 200.13546 \r\nz\r\n\" style=\"fill:#1f77b4;\"/>\r\n   </g>\r\n   <g id=\"patch_6\">\r\n    <path clip-path=\"url(#p7f4b0a364d)\" d=\"M 129.021307 206.658139 \r\nL 144.239489 206.658139 \r\nL 144.239489 197.078652 \r\nL 129.021307 197.078652 \r\nz\r\n\" style=\"fill:#1f77b4;\"/>\r\n   </g>\r\n   <g id=\"patch_7\">\r\n    <path clip-path=\"url(#p7f4b0a364d)\" d=\"M 159.45767 206.658139 \r\nL 174.675852 206.658139 \r\nL 174.675852 150.876994 \r\nL 159.45767 150.876994 \r\nz\r\n\" style=\"fill:#1f77b4;\"/>\r\n   </g>\r\n   <g id=\"patch_8\">\r\n    <path clip-path=\"url(#p7f4b0a364d)\" d=\"M 189.894034 206.658139 \r\nL 205.112216 206.658139 \r\nL 205.112216 17.083636 \r\nL 189.894034 17.083636 \r\nz\r\n\" style=\"fill:#1f77b4;\"/>\r\n   </g>\r\n   <g id=\"patch_9\">\r\n    <path clip-path=\"url(#p7f4b0a364d)\" d=\"M 220.330398 206.658139 \r\nL 235.54858 206.658139 \r\nL 235.54858 204.837263 \r\nL 220.330398 204.837263 \r\nz\r\n\" style=\"fill:#1f77b4;\"/>\r\n   </g>\r\n   <g id=\"patch_10\">\r\n    <path clip-path=\"url(#p7f4b0a364d)\" d=\"M 250.766761 206.658139 \r\nL 265.984943 206.658139 \r\nL 265.984943 113.75365 \r\nL 250.766761 113.75365 \r\nz\r\n\" style=\"fill:#1f77b4;\"/>\r\n   </g>\r\n   <g id=\"patch_11\">\r\n    <path clip-path=\"url(#p7f4b0a364d)\" d=\"M 281.203125 206.658139 \r\nL 296.421307 206.658139 \r\nL 296.421307 210.543534 \r\nL 281.203125 210.543534 \r\nz\r\n\" style=\"fill:#1f77b4;\"/>\r\n   </g>\r\n   <g id=\"patch_12\">\r\n    <path clip-path=\"url(#p7f4b0a364d)\" d=\"M 311.639489 206.658139 \r\nL 326.85767 206.658139 \r\nL 326.85767 167.779945 \r\nL 311.639489 167.779945 \r\nz\r\n\" style=\"fill:#1f77b4;\"/>\r\n   </g>\r\n   <g id=\"patch_13\">\r\n    <path clip-path=\"url(#p7f4b0a364d)\" d=\"M 342.075852 206.658139 \r\nL 357.294034 206.658139 \r\nL 357.294034 42.602611 \r\nL 342.075852 42.602611 \r\nz\r\n\" style=\"fill:#1f77b4;\"/>\r\n   </g>\r\n   <g id=\"matplotlib.axis_1\">\r\n    <g id=\"xtick_1\">\r\n     <g id=\"line2d_1\">\r\n      <defs>\r\n       <path d=\"M 0 0 \r\nL 0 3.5 \r\n\" id=\"mbae3658903\" style=\"stroke:#000000;stroke-width:0.8;\"/>\r\n      </defs>\r\n      <g>\r\n       <use style=\"stroke:#000000;stroke-width:0.8;\" x=\"45.321307\" xlink:href=\"#mbae3658903\" y=\"224.64\"/>\r\n      </g>\r\n     </g>\r\n     <g id=\"text_1\">\r\n      <!-- AAPL -->\r\n      <g transform=\"translate(48.080682 257.197812)rotate(-90)scale(0.1 -0.1)\">\r\n       <defs>\r\n        <path d=\"M 34.1875 63.1875 \r\nL 20.796875 26.90625 \r\nL 47.609375 26.90625 \r\nz\r\nM 28.609375 72.90625 \r\nL 39.796875 72.90625 \r\nL 67.578125 0 \r\nL 57.328125 0 \r\nL 50.6875 18.703125 \r\nL 17.828125 18.703125 \r\nL 11.1875 0 \r\nL 0.78125 0 \r\nz\r\n\" id=\"DejaVuSans-65\"/>\r\n        <path d=\"M 19.671875 64.796875 \r\nL 19.671875 37.40625 \r\nL 32.078125 37.40625 \r\nQ 38.96875 37.40625 42.71875 40.96875 \r\nQ 46.484375 44.53125 46.484375 51.125 \r\nQ 46.484375 57.671875 42.71875 61.234375 \r\nQ 38.96875 64.796875 32.078125 64.796875 \r\nz\r\nM 9.8125 72.90625 \r\nL 32.078125 72.90625 \r\nQ 44.34375 72.90625 50.609375 67.359375 \r\nQ 56.890625 61.8125 56.890625 51.125 \r\nQ 56.890625 40.328125 50.609375 34.8125 \r\nQ 44.34375 29.296875 32.078125 29.296875 \r\nL 19.671875 29.296875 \r\nL 19.671875 0 \r\nL 9.8125 0 \r\nz\r\n\" id=\"DejaVuSans-80\"/>\r\n        <path d=\"M 9.8125 72.90625 \r\nL 19.671875 72.90625 \r\nL 19.671875 8.296875 \r\nL 55.171875 8.296875 \r\nL 55.171875 0 \r\nL 9.8125 0 \r\nz\r\n\" id=\"DejaVuSans-76\"/>\r\n       </defs>\r\n       <use xlink:href=\"#DejaVuSans-65\"/>\r\n       <use x=\"71.158203\" xlink:href=\"#DejaVuSans-65\"/>\r\n       <use x=\"139.566406\" xlink:href=\"#DejaVuSans-80\"/>\r\n       <use x=\"199.869141\" xlink:href=\"#DejaVuSans-76\"/>\r\n      </g>\r\n     </g>\r\n    </g>\r\n    <g id=\"xtick_2\">\r\n     <g id=\"line2d_2\">\r\n      <g>\r\n       <use style=\"stroke:#000000;stroke-width:0.8;\" x=\"75.75767\" xlink:href=\"#mbae3658903\" y=\"224.64\"/>\r\n      </g>\r\n     </g>\r\n     <g id=\"text_2\">\r\n      <!-- TSLA -->\r\n      <g transform=\"translate(78.517045 256.73375)rotate(-90)scale(0.1 -0.1)\">\r\n       <defs>\r\n        <path d=\"M -0.296875 72.90625 \r\nL 61.375 72.90625 \r\nL 61.375 64.59375 \r\nL 35.5 64.59375 \r\nL 35.5 0 \r\nL 25.59375 0 \r\nL 25.59375 64.59375 \r\nL -0.296875 64.59375 \r\nz\r\n\" id=\"DejaVuSans-84\"/>\r\n        <path d=\"M 53.515625 70.515625 \r\nL 53.515625 60.890625 \r\nQ 47.90625 63.578125 42.921875 64.890625 \r\nQ 37.9375 66.21875 33.296875 66.21875 \r\nQ 25.25 66.21875 20.875 63.09375 \r\nQ 16.5 59.96875 16.5 54.203125 \r\nQ 16.5 49.359375 19.40625 46.890625 \r\nQ 22.3125 44.4375 30.421875 42.921875 \r\nL 36.375 41.703125 \r\nQ 47.40625 39.59375 52.65625 34.296875 \r\nQ 57.90625 29 57.90625 20.125 \r\nQ 57.90625 9.515625 50.796875 4.046875 \r\nQ 43.703125 -1.421875 29.984375 -1.421875 \r\nQ 24.8125 -1.421875 18.96875 -0.25 \r\nQ 13.140625 0.921875 6.890625 3.21875 \r\nL 6.890625 13.375 \r\nQ 12.890625 10.015625 18.65625 8.296875 \r\nQ 24.421875 6.59375 29.984375 6.59375 \r\nQ 38.421875 6.59375 43.015625 9.90625 \r\nQ 47.609375 13.234375 47.609375 19.390625 \r\nQ 47.609375 24.75 44.3125 27.78125 \r\nQ 41.015625 30.8125 33.5 32.328125 \r\nL 27.484375 33.5 \r\nQ 16.453125 35.6875 11.515625 40.375 \r\nQ 6.59375 45.0625 6.59375 53.421875 \r\nQ 6.59375 63.09375 13.40625 68.65625 \r\nQ 20.21875 74.21875 32.171875 74.21875 \r\nQ 37.3125 74.21875 42.625 73.28125 \r\nQ 47.953125 72.359375 53.515625 70.515625 \r\nz\r\n\" id=\"DejaVuSans-83\"/>\r\n       </defs>\r\n       <use xlink:href=\"#DejaVuSans-84\"/>\r\n       <use x=\"61.083984\" xlink:href=\"#DejaVuSans-83\"/>\r\n       <use x=\"124.560547\" xlink:href=\"#DejaVuSans-76\"/>\r\n       <use x=\"182.523438\" xlink:href=\"#DejaVuSans-65\"/>\r\n      </g>\r\n     </g>\r\n    </g>\r\n    <g id=\"xtick_3\">\r\n     <g id=\"line2d_3\">\r\n      <g>\r\n       <use style=\"stroke:#000000;stroke-width:0.8;\" x=\"106.194034\" xlink:href=\"#mbae3658903\" y=\"224.64\"/>\r\n      </g>\r\n     </g>\r\n     <g id=\"text_3\">\r\n      <!-- GE -->\r\n      <g transform=\"translate(108.953409 245.707187)rotate(-90)scale(0.1 -0.1)\">\r\n       <defs>\r\n        <path d=\"M 59.515625 10.40625 \r\nL 59.515625 29.984375 \r\nL 43.40625 29.984375 \r\nL 43.40625 38.09375 \r\nL 69.28125 38.09375 \r\nL 69.28125 6.78125 \r\nQ 63.578125 2.734375 56.6875 0.65625 \r\nQ 49.8125 -1.421875 42 -1.421875 \r\nQ 24.90625 -1.421875 15.25 8.5625 \r\nQ 5.609375 18.5625 5.609375 36.375 \r\nQ 5.609375 54.25 15.25 64.234375 \r\nQ 24.90625 74.21875 42 74.21875 \r\nQ 49.125 74.21875 55.546875 72.453125 \r\nQ 61.96875 70.703125 67.390625 67.28125 \r\nL 67.390625 56.78125 \r\nQ 61.921875 61.421875 55.765625 63.765625 \r\nQ 49.609375 66.109375 42.828125 66.109375 \r\nQ 29.4375 66.109375 22.71875 58.640625 \r\nQ 16.015625 51.171875 16.015625 36.375 \r\nQ 16.015625 21.625 22.71875 14.15625 \r\nQ 29.4375 6.6875 42.828125 6.6875 \r\nQ 48.046875 6.6875 52.140625 7.59375 \r\nQ 56.25 8.5 59.515625 10.40625 \r\nz\r\n\" id=\"DejaVuSans-71\"/>\r\n        <path d=\"M 9.8125 72.90625 \r\nL 55.90625 72.90625 \r\nL 55.90625 64.59375 \r\nL 19.671875 64.59375 \r\nL 19.671875 43.015625 \r\nL 54.390625 43.015625 \r\nL 54.390625 34.71875 \r\nL 19.671875 34.71875 \r\nL 19.671875 8.296875 \r\nL 56.78125 8.296875 \r\nL 56.78125 0 \r\nL 9.8125 0 \r\nz\r\n\" id=\"DejaVuSans-69\"/>\r\n       </defs>\r\n       <use xlink:href=\"#DejaVuSans-71\"/>\r\n       <use x=\"77.490234\" xlink:href=\"#DejaVuSans-69\"/>\r\n      </g>\r\n     </g>\r\n    </g>\r\n    <g id=\"xtick_4\">\r\n     <g id=\"line2d_4\">\r\n      <g>\r\n       <use style=\"stroke:#000000;stroke-width:0.8;\" x=\"136.630398\" xlink:href=\"#mbae3658903\" y=\"224.64\"/>\r\n      </g>\r\n     </g>\r\n     <g id=\"text_4\">\r\n      <!-- F -->\r\n      <g transform=\"translate(139.389773 237.391562)rotate(-90)scale(0.1 -0.1)\">\r\n       <defs>\r\n        <path d=\"M 9.8125 72.90625 \r\nL 51.703125 72.90625 \r\nL 51.703125 64.59375 \r\nL 19.671875 64.59375 \r\nL 19.671875 43.109375 \r\nL 48.578125 43.109375 \r\nL 48.578125 34.8125 \r\nL 19.671875 34.8125 \r\nL 19.671875 0 \r\nL 9.8125 0 \r\nz\r\n\" id=\"DejaVuSans-70\"/>\r\n       </defs>\r\n       <use xlink:href=\"#DejaVuSans-70\"/>\r\n      </g>\r\n     </g>\r\n    </g>\r\n    <g id=\"xtick_5\">\r\n     <g id=\"line2d_5\">\r\n      <g>\r\n       <use style=\"stroke:#000000;stroke-width:0.8;\" x=\"167.066761\" xlink:href=\"#mbae3658903\" y=\"224.64\"/>\r\n      </g>\r\n     </g>\r\n     <g id=\"text_5\">\r\n      <!-- MSFT -->\r\n      <g transform=\"translate(169.826136 258.300937)rotate(-90)scale(0.1 -0.1)\">\r\n       <defs>\r\n        <path d=\"M 9.8125 72.90625 \r\nL 24.515625 72.90625 \r\nL 43.109375 23.296875 \r\nL 61.8125 72.90625 \r\nL 76.515625 72.90625 \r\nL 76.515625 0 \r\nL 66.890625 0 \r\nL 66.890625 64.015625 \r\nL 48.09375 14.015625 \r\nL 38.1875 14.015625 \r\nL 19.390625 64.015625 \r\nL 19.390625 0 \r\nL 9.8125 0 \r\nz\r\n\" id=\"DejaVuSans-77\"/>\r\n       </defs>\r\n       <use xlink:href=\"#DejaVuSans-77\"/>\r\n       <use x=\"86.279297\" xlink:href=\"#DejaVuSans-83\"/>\r\n       <use x=\"149.755859\" xlink:href=\"#DejaVuSans-70\"/>\r\n       <use x=\"205.525391\" xlink:href=\"#DejaVuSans-84\"/>\r\n      </g>\r\n     </g>\r\n    </g>\r\n    <g id=\"xtick_6\">\r\n     <g id=\"line2d_6\">\r\n      <g>\r\n       <use style=\"stroke:#000000;stroke-width:0.8;\" x=\"197.503125\" xlink:href=\"#mbae3658903\" y=\"224.64\"/>\r\n      </g>\r\n     </g>\r\n     <g id=\"text_6\">\r\n      <!-- NIO -->\r\n      <g transform=\"translate(200.2625 249.943125)rotate(-90)scale(0.1 -0.1)\">\r\n       <defs>\r\n        <path d=\"M 9.8125 72.90625 \r\nL 23.09375 72.90625 \r\nL 55.421875 11.921875 \r\nL 55.421875 72.90625 \r\nL 64.984375 72.90625 \r\nL 64.984375 0 \r\nL 51.703125 0 \r\nL 19.390625 60.984375 \r\nL 19.390625 0 \r\nL 9.8125 0 \r\nz\r\n\" id=\"DejaVuSans-78\"/>\r\n        <path d=\"M 9.8125 72.90625 \r\nL 19.671875 72.90625 \r\nL 19.671875 0 \r\nL 9.8125 0 \r\nz\r\n\" id=\"DejaVuSans-73\"/>\r\n        <path d=\"M 39.40625 66.21875 \r\nQ 28.65625 66.21875 22.328125 58.203125 \r\nQ 16.015625 50.203125 16.015625 36.375 \r\nQ 16.015625 22.609375 22.328125 14.59375 \r\nQ 28.65625 6.59375 39.40625 6.59375 \r\nQ 50.140625 6.59375 56.421875 14.59375 \r\nQ 62.703125 22.609375 62.703125 36.375 \r\nQ 62.703125 50.203125 56.421875 58.203125 \r\nQ 50.140625 66.21875 39.40625 66.21875 \r\nz\r\nM 39.40625 74.21875 \r\nQ 54.734375 74.21875 63.90625 63.9375 \r\nQ 73.09375 53.65625 73.09375 36.375 \r\nQ 73.09375 19.140625 63.90625 8.859375 \r\nQ 54.734375 -1.421875 39.40625 -1.421875 \r\nQ 24.03125 -1.421875 14.8125 8.828125 \r\nQ 5.609375 19.09375 5.609375 36.375 \r\nQ 5.609375 53.65625 14.8125 63.9375 \r\nQ 24.03125 74.21875 39.40625 74.21875 \r\nz\r\n\" id=\"DejaVuSans-79\"/>\r\n       </defs>\r\n       <use xlink:href=\"#DejaVuSans-78\"/>\r\n       <use x=\"74.804688\" xlink:href=\"#DejaVuSans-73\"/>\r\n       <use x=\"104.296875\" xlink:href=\"#DejaVuSans-79\"/>\r\n      </g>\r\n     </g>\r\n    </g>\r\n    <g id=\"xtick_7\">\r\n     <g id=\"line2d_7\">\r\n      <g>\r\n       <use style=\"stroke:#000000;stroke-width:0.8;\" x=\"227.939489\" xlink:href=\"#mbae3658903\" y=\"224.64\"/>\r\n      </g>\r\n     </g>\r\n     <g id=\"text_7\">\r\n      <!-- PFE -->\r\n      <g transform=\"translate(230.698864 249.74)rotate(-90)scale(0.1 -0.1)\">\r\n       <use xlink:href=\"#DejaVuSans-80\"/>\r\n       <use x=\"60.302734\" xlink:href=\"#DejaVuSans-70\"/>\r\n       <use x=\"117.822266\" xlink:href=\"#DejaVuSans-69\"/>\r\n      </g>\r\n     </g>\r\n    </g>\r\n    <g id=\"xtick_8\">\r\n     <g id=\"line2d_8\">\r\n      <g>\r\n       <use style=\"stroke:#000000;stroke-width:0.8;\" x=\"258.375852\" xlink:href=\"#mbae3658903\" y=\"224.64\"/>\r\n      </g>\r\n     </g>\r\n     <g id=\"text_8\">\r\n      <!-- AMZN -->\r\n      <g transform=\"translate(261.135227 261.44)rotate(-90)scale(0.1 -0.1)\">\r\n       <defs>\r\n        <path d=\"M 5.609375 72.90625 \r\nL 62.890625 72.90625 \r\nL 62.890625 65.375 \r\nL 16.796875 8.296875 \r\nL 64.015625 8.296875 \r\nL 64.015625 0 \r\nL 4.5 0 \r\nL 4.5 7.515625 \r\nL 50.59375 64.59375 \r\nL 5.609375 64.59375 \r\nz\r\n\" id=\"DejaVuSans-90\"/>\r\n       </defs>\r\n       <use xlink:href=\"#DejaVuSans-65\"/>\r\n       <use x=\"68.408203\" xlink:href=\"#DejaVuSans-77\"/>\r\n       <use x=\"154.6875\" xlink:href=\"#DejaVuSans-90\"/>\r\n       <use x=\"223.193359\" xlink:href=\"#DejaVuSans-78\"/>\r\n      </g>\r\n     </g>\r\n    </g>\r\n    <g id=\"xtick_9\">\r\n     <g id=\"line2d_9\">\r\n      <g>\r\n       <use style=\"stroke:#000000;stroke-width:0.8;\" x=\"288.812216\" xlink:href=\"#mbae3658903\" y=\"224.64\"/>\r\n      </g>\r\n     </g>\r\n     <g id=\"text_9\">\r\n      <!-- AAL -->\r\n      <g transform=\"translate(291.571591 251.168125)rotate(-90)scale(0.1 -0.1)\">\r\n       <use xlink:href=\"#DejaVuSans-65\"/>\r\n       <use x=\"71.158203\" xlink:href=\"#DejaVuSans-65\"/>\r\n       <use x=\"139.566406\" xlink:href=\"#DejaVuSans-76\"/>\r\n      </g>\r\n     </g>\r\n    </g>\r\n    <g id=\"xtick_10\">\r\n     <g id=\"line2d_10\">\r\n      <g>\r\n       <use style=\"stroke:#000000;stroke-width:0.8;\" x=\"319.24858\" xlink:href=\"#mbae3658903\" y=\"224.64\"/>\r\n      </g>\r\n     </g>\r\n     <g id=\"text_10\">\r\n      <!-- DIS -->\r\n      <g transform=\"translate(322.007955 248.638437)rotate(-90)scale(0.1 -0.1)\">\r\n       <defs>\r\n        <path d=\"M 19.671875 64.796875 \r\nL 19.671875 8.109375 \r\nL 31.59375 8.109375 \r\nQ 46.6875 8.109375 53.6875 14.9375 \r\nQ 60.6875 21.78125 60.6875 36.53125 \r\nQ 60.6875 51.171875 53.6875 57.984375 \r\nQ 46.6875 64.796875 31.59375 64.796875 \r\nz\r\nM 9.8125 72.90625 \r\nL 30.078125 72.90625 \r\nQ 51.265625 72.90625 61.171875 64.09375 \r\nQ 71.09375 55.28125 71.09375 36.53125 \r\nQ 71.09375 17.671875 61.125 8.828125 \r\nQ 51.171875 0 30.078125 0 \r\nL 9.8125 0 \r\nz\r\n\" id=\"DejaVuSans-68\"/>\r\n       </defs>\r\n       <use xlink:href=\"#DejaVuSans-68\"/>\r\n       <use x=\"77.001953\" xlink:href=\"#DejaVuSans-73\"/>\r\n       <use x=\"106.494141\" xlink:href=\"#DejaVuSans-83\"/>\r\n      </g>\r\n     </g>\r\n    </g>\r\n    <g id=\"xtick_11\">\r\n     <g id=\"line2d_11\">\r\n      <g>\r\n       <use style=\"stroke:#000000;stroke-width:0.8;\" x=\"349.684943\" xlink:href=\"#mbae3658903\" y=\"224.64\"/>\r\n      </g>\r\n     </g>\r\n     <g id=\"text_11\">\r\n      <!-- PLUG -->\r\n      <g transform=\"translate(352.444318 257.80875)rotate(-90)scale(0.1 -0.1)\">\r\n       <defs>\r\n        <path d=\"M 8.6875 72.90625 \r\nL 18.609375 72.90625 \r\nL 18.609375 28.609375 \r\nQ 18.609375 16.890625 22.84375 11.734375 \r\nQ 27.09375 6.59375 36.625 6.59375 \r\nQ 46.09375 6.59375 50.34375 11.734375 \r\nQ 54.59375 16.890625 54.59375 28.609375 \r\nL 54.59375 72.90625 \r\nL 64.5 72.90625 \r\nL 64.5 27.390625 \r\nQ 64.5 13.140625 57.4375 5.859375 \r\nQ 50.390625 -1.421875 36.625 -1.421875 \r\nQ 22.796875 -1.421875 15.734375 5.859375 \r\nQ 8.6875 13.140625 8.6875 27.390625 \r\nz\r\n\" id=\"DejaVuSans-85\"/>\r\n       </defs>\r\n       <use xlink:href=\"#DejaVuSans-80\"/>\r\n       <use x=\"60.302734\" xlink:href=\"#DejaVuSans-76\"/>\r\n       <use x=\"111.015625\" xlink:href=\"#DejaVuSans-85\"/>\r\n       <use x=\"184.208984\" xlink:href=\"#DejaVuSans-71\"/>\r\n      </g>\r\n     </g>\r\n    </g>\r\n   </g>\r\n   <g id=\"matplotlib.axis_2\">\r\n    <g id=\"ytick_1\">\r\n     <g id=\"line2d_12\">\r\n      <defs>\r\n       <path d=\"M 0 0 \r\nL -3.5 0 \r\n\" id=\"m8c3ca80705\" style=\"stroke:#000000;stroke-width:0.8;\"/>\r\n      </defs>\r\n      <g>\r\n       <use style=\"stroke:#000000;stroke-width:0.8;\" x=\"30.103125\" xlink:href=\"#m8c3ca80705\" y=\"206.658139\"/>\r\n      </g>\r\n     </g>\r\n     <g id=\"text_12\">\r\n      <!-- 0.0 -->\r\n      <g transform=\"translate(7.2 210.457358)scale(0.1 -0.1)\">\r\n       <defs>\r\n        <path d=\"M 31.78125 66.40625 \r\nQ 24.171875 66.40625 20.328125 58.90625 \r\nQ 16.5 51.421875 16.5 36.375 \r\nQ 16.5 21.390625 20.328125 13.890625 \r\nQ 24.171875 6.390625 31.78125 6.390625 \r\nQ 39.453125 6.390625 43.28125 13.890625 \r\nQ 47.125 21.390625 47.125 36.375 \r\nQ 47.125 51.421875 43.28125 58.90625 \r\nQ 39.453125 66.40625 31.78125 66.40625 \r\nz\r\nM 31.78125 74.21875 \r\nQ 44.046875 74.21875 50.515625 64.515625 \r\nQ 56.984375 54.828125 56.984375 36.375 \r\nQ 56.984375 17.96875 50.515625 8.265625 \r\nQ 44.046875 -1.421875 31.78125 -1.421875 \r\nQ 19.53125 -1.421875 13.0625 8.265625 \r\nQ 6.59375 17.96875 6.59375 36.375 \r\nQ 6.59375 54.828125 13.0625 64.515625 \r\nQ 19.53125 74.21875 31.78125 74.21875 \r\nz\r\n\" id=\"DejaVuSans-48\"/>\r\n        <path d=\"M 10.6875 12.40625 \r\nL 21 12.40625 \r\nL 21 0 \r\nL 10.6875 0 \r\nz\r\n\" id=\"DejaVuSans-46\"/>\r\n       </defs>\r\n       <use xlink:href=\"#DejaVuSans-48\"/>\r\n       <use x=\"63.623047\" xlink:href=\"#DejaVuSans-46\"/>\r\n       <use x=\"95.410156\" xlink:href=\"#DejaVuSans-48\"/>\r\n      </g>\r\n     </g>\r\n    </g>\r\n    <g id=\"ytick_2\">\r\n     <g id=\"line2d_13\">\r\n      <g>\r\n       <use style=\"stroke:#000000;stroke-width:0.8;\" x=\"30.103125\" xlink:href=\"#m8c3ca80705\" y=\"176.08372\"/>\r\n      </g>\r\n     </g>\r\n     <g id=\"text_13\">\r\n      <!-- 0.5 -->\r\n      <g transform=\"translate(7.2 179.882938)scale(0.1 -0.1)\">\r\n       <defs>\r\n        <path d=\"M 10.796875 72.90625 \r\nL 49.515625 72.90625 \r\nL 49.515625 64.59375 \r\nL 19.828125 64.59375 \r\nL 19.828125 46.734375 \r\nQ 21.96875 47.46875 24.109375 47.828125 \r\nQ 26.265625 48.1875 28.421875 48.1875 \r\nQ 40.625 48.1875 47.75 41.5 \r\nQ 54.890625 34.8125 54.890625 23.390625 \r\nQ 54.890625 11.625 47.5625 5.09375 \r\nQ 40.234375 -1.421875 26.90625 -1.421875 \r\nQ 22.3125 -1.421875 17.546875 -0.640625 \r\nQ 12.796875 0.140625 7.71875 1.703125 \r\nL 7.71875 11.625 \r\nQ 12.109375 9.234375 16.796875 8.0625 \r\nQ 21.484375 6.890625 26.703125 6.890625 \r\nQ 35.15625 6.890625 40.078125 11.328125 \r\nQ 45.015625 15.765625 45.015625 23.390625 \r\nQ 45.015625 31 40.078125 35.4375 \r\nQ 35.15625 39.890625 26.703125 39.890625 \r\nQ 22.75 39.890625 18.8125 39.015625 \r\nQ 14.890625 38.140625 10.796875 36.28125 \r\nz\r\n\" id=\"DejaVuSans-53\"/>\r\n       </defs>\r\n       <use xlink:href=\"#DejaVuSans-48\"/>\r\n       <use x=\"63.623047\" xlink:href=\"#DejaVuSans-46\"/>\r\n       <use x=\"95.410156\" xlink:href=\"#DejaVuSans-53\"/>\r\n      </g>\r\n     </g>\r\n    </g>\r\n    <g id=\"ytick_3\">\r\n     <g id=\"line2d_14\">\r\n      <g>\r\n       <use style=\"stroke:#000000;stroke-width:0.8;\" x=\"30.103125\" xlink:href=\"#m8c3ca80705\" y=\"145.5093\"/>\r\n      </g>\r\n     </g>\r\n     <g id=\"text_14\">\r\n      <!-- 1.0 -->\r\n      <g transform=\"translate(7.2 149.308519)scale(0.1 -0.1)\">\r\n       <defs>\r\n        <path d=\"M 12.40625 8.296875 \r\nL 28.515625 8.296875 \r\nL 28.515625 63.921875 \r\nL 10.984375 60.40625 \r\nL 10.984375 69.390625 \r\nL 28.421875 72.90625 \r\nL 38.28125 72.90625 \r\nL 38.28125 8.296875 \r\nL 54.390625 8.296875 \r\nL 54.390625 0 \r\nL 12.40625 0 \r\nz\r\n\" id=\"DejaVuSans-49\"/>\r\n       </defs>\r\n       <use xlink:href=\"#DejaVuSans-49\"/>\r\n       <use x=\"63.623047\" xlink:href=\"#DejaVuSans-46\"/>\r\n       <use x=\"95.410156\" xlink:href=\"#DejaVuSans-48\"/>\r\n      </g>\r\n     </g>\r\n    </g>\r\n    <g id=\"ytick_4\">\r\n     <g id=\"line2d_15\">\r\n      <g>\r\n       <use style=\"stroke:#000000;stroke-width:0.8;\" x=\"30.103125\" xlink:href=\"#m8c3ca80705\" y=\"114.93488\"/>\r\n      </g>\r\n     </g>\r\n     <g id=\"text_15\">\r\n      <!-- 1.5 -->\r\n      <g transform=\"translate(7.2 118.734099)scale(0.1 -0.1)\">\r\n       <use xlink:href=\"#DejaVuSans-49\"/>\r\n       <use x=\"63.623047\" xlink:href=\"#DejaVuSans-46\"/>\r\n       <use x=\"95.410156\" xlink:href=\"#DejaVuSans-53\"/>\r\n      </g>\r\n     </g>\r\n    </g>\r\n    <g id=\"ytick_5\">\r\n     <g id=\"line2d_16\">\r\n      <g>\r\n       <use style=\"stroke:#000000;stroke-width:0.8;\" x=\"30.103125\" xlink:href=\"#m8c3ca80705\" y=\"84.36046\"/>\r\n      </g>\r\n     </g>\r\n     <g id=\"text_16\">\r\n      <!-- 2.0 -->\r\n      <g transform=\"translate(7.2 88.159679)scale(0.1 -0.1)\">\r\n       <defs>\r\n        <path d=\"M 19.1875 8.296875 \r\nL 53.609375 8.296875 \r\nL 53.609375 0 \r\nL 7.328125 0 \r\nL 7.328125 8.296875 \r\nQ 12.9375 14.109375 22.625 23.890625 \r\nQ 32.328125 33.6875 34.8125 36.53125 \r\nQ 39.546875 41.84375 41.421875 45.53125 \r\nQ 43.3125 49.21875 43.3125 52.78125 \r\nQ 43.3125 58.59375 39.234375 62.25 \r\nQ 35.15625 65.921875 28.609375 65.921875 \r\nQ 23.96875 65.921875 18.8125 64.3125 \r\nQ 13.671875 62.703125 7.8125 59.421875 \r\nL 7.8125 69.390625 \r\nQ 13.765625 71.78125 18.9375 73 \r\nQ 24.125 74.21875 28.421875 74.21875 \r\nQ 39.75 74.21875 46.484375 68.546875 \r\nQ 53.21875 62.890625 53.21875 53.421875 \r\nQ 53.21875 48.921875 51.53125 44.890625 \r\nQ 49.859375 40.875 45.40625 35.40625 \r\nQ 44.1875 33.984375 37.640625 27.21875 \r\nQ 31.109375 20.453125 19.1875 8.296875 \r\nz\r\n\" id=\"DejaVuSans-50\"/>\r\n       </defs>\r\n       <use xlink:href=\"#DejaVuSans-50\"/>\r\n       <use x=\"63.623047\" xlink:href=\"#DejaVuSans-46\"/>\r\n       <use x=\"95.410156\" xlink:href=\"#DejaVuSans-48\"/>\r\n      </g>\r\n     </g>\r\n    </g>\r\n    <g id=\"ytick_6\">\r\n     <g id=\"line2d_17\">\r\n      <g>\r\n       <use style=\"stroke:#000000;stroke-width:0.8;\" x=\"30.103125\" xlink:href=\"#m8c3ca80705\" y=\"53.786041\"/>\r\n      </g>\r\n     </g>\r\n     <g id=\"text_17\">\r\n      <!-- 2.5 -->\r\n      <g transform=\"translate(7.2 57.585259)scale(0.1 -0.1)\">\r\n       <use xlink:href=\"#DejaVuSans-50\"/>\r\n       <use x=\"63.623047\" xlink:href=\"#DejaVuSans-46\"/>\r\n       <use x=\"95.410156\" xlink:href=\"#DejaVuSans-53\"/>\r\n      </g>\r\n     </g>\r\n    </g>\r\n    <g id=\"ytick_7\">\r\n     <g id=\"line2d_18\">\r\n      <g>\r\n       <use style=\"stroke:#000000;stroke-width:0.8;\" x=\"30.103125\" xlink:href=\"#m8c3ca80705\" y=\"23.211621\"/>\r\n      </g>\r\n     </g>\r\n     <g id=\"text_18\">\r\n      <!-- 3.0 -->\r\n      <g transform=\"translate(7.2 27.01084)scale(0.1 -0.1)\">\r\n       <defs>\r\n        <path d=\"M 40.578125 39.3125 \r\nQ 47.65625 37.796875 51.625 33 \r\nQ 55.609375 28.21875 55.609375 21.1875 \r\nQ 55.609375 10.40625 48.1875 4.484375 \r\nQ 40.765625 -1.421875 27.09375 -1.421875 \r\nQ 22.515625 -1.421875 17.65625 -0.515625 \r\nQ 12.796875 0.390625 7.625 2.203125 \r\nL 7.625 11.71875 \r\nQ 11.71875 9.328125 16.59375 8.109375 \r\nQ 21.484375 6.890625 26.8125 6.890625 \r\nQ 36.078125 6.890625 40.9375 10.546875 \r\nQ 45.796875 14.203125 45.796875 21.1875 \r\nQ 45.796875 27.640625 41.28125 31.265625 \r\nQ 36.765625 34.90625 28.71875 34.90625 \r\nL 20.21875 34.90625 \r\nL 20.21875 43.015625 \r\nL 29.109375 43.015625 \r\nQ 36.375 43.015625 40.234375 45.921875 \r\nQ 44.09375 48.828125 44.09375 54.296875 \r\nQ 44.09375 59.90625 40.109375 62.90625 \r\nQ 36.140625 65.921875 28.71875 65.921875 \r\nQ 24.65625 65.921875 20.015625 65.03125 \r\nQ 15.375 64.15625 9.8125 62.3125 \r\nL 9.8125 71.09375 \r\nQ 15.4375 72.65625 20.34375 73.4375 \r\nQ 25.25 74.21875 29.59375 74.21875 \r\nQ 40.828125 74.21875 47.359375 69.109375 \r\nQ 53.90625 64.015625 53.90625 55.328125 \r\nQ 53.90625 49.265625 50.4375 45.09375 \r\nQ 46.96875 40.921875 40.578125 39.3125 \r\nz\r\n\" id=\"DejaVuSans-51\"/>\r\n       </defs>\r\n       <use xlink:href=\"#DejaVuSans-51\"/>\r\n       <use x=\"63.623047\" xlink:href=\"#DejaVuSans-46\"/>\r\n       <use x=\"95.410156\" xlink:href=\"#DejaVuSans-48\"/>\r\n      </g>\r\n     </g>\r\n    </g>\r\n   </g>\r\n   <g id=\"patch_14\">\r\n    <path d=\"M 30.103125 224.64 \r\nL 30.103125 7.2 \r\n\" style=\"fill:none;stroke:#000000;stroke-linecap:square;stroke-linejoin:miter;stroke-width:0.8;\"/>\r\n   </g>\r\n   <g id=\"patch_15\">\r\n    <path d=\"M 364.903125 224.64 \r\nL 364.903125 7.2 \r\n\" style=\"fill:none;stroke:#000000;stroke-linecap:square;stroke-linejoin:miter;stroke-width:0.8;\"/>\r\n   </g>\r\n   <g id=\"patch_16\">\r\n    <path d=\"M 30.103125 224.64 \r\nL 364.903125 224.64 \r\n\" style=\"fill:none;stroke:#000000;stroke-linecap:square;stroke-linejoin:miter;stroke-width:0.8;\"/>\r\n   </g>\r\n   <g id=\"patch_17\">\r\n    <path d=\"M 30.103125 7.2 \r\nL 364.903125 7.2 \r\n\" style=\"fill:none;stroke:#000000;stroke-linecap:square;stroke-linejoin:miter;stroke-width:0.8;\"/>\r\n   </g>\r\n  </g>\r\n </g>\r\n <defs>\r\n  <clipPath id=\"p7f4b0a364d\">\r\n   <rect height=\"217.44\" width=\"334.8\" x=\"30.103125\" y=\"7.2\"/>\r\n  </clipPath>\r\n </defs>\r\n</svg>\r\n",
      "image/png": "[encoded data removed]"
     },
     "metadata": {
      "needs_background": "light"
     }
    }
   ],
   "source": [
    "def sharpe_ratio(return_series, N, rf):\n",
    "    mean = return_series.mean() * N -rf\n",
    "    sigma = return_series.std() * np.sqrt(N)\n",
    "    return mean / sigma\n",
    "\n",
    "N = 252 #255 trading days in a year\n",
    "rf =0.01 #1% risk free rate\n",
    "sharpe_ratio = price_change_df.apply(sharpe_ratio, args=(N,rf,),axis=0)\n",
    "\n",
    "sharpe_ratio.plot.bar()"
   ]
  },
  {
   "cell_type": "code",
   "execution_count": 16,
   "metadata": {},
   "outputs": [
    {
     "output_type": "execute_result",
     "data": {
      "text/plain": [
       "      Sharpe Ratio\n",
       "AAPL     -0.132435\n",
       "TSLA      1.347716\n",
       "GE        0.106669\n",
       "F         0.156659\n",
       "MSFT      0.912219\n",
       "NIO       3.100214\n",
       "PFE       0.029778\n",
       "AMZN      1.519317\n",
       "AAL      -0.063540\n",
       "DIS       0.635796\n",
       "PLUG      2.682889"
      ],
      "text/html": "<div>\n<style scoped>\n    .dataframe tbody tr th:only-of-type {\n        vertical-align: middle;\n    }\n\n    .dataframe tbody tr th {\n        vertical-align: top;\n    }\n\n    .dataframe thead th {\n        text-align: right;\n    }\n</style>\n<table border=\"1\" class=\"dataframe\">\n  <thead>\n    <tr style=\"text-align: right;\">\n      <th></th>\n      <th>Sharpe Ratio</th>\n    </tr>\n  </thead>\n  <tbody>\n    <tr>\n      <th>AAPL</th>\n      <td>-0.132435</td>\n    </tr>\n    <tr>\n      <th>TSLA</th>\n      <td>1.347716</td>\n    </tr>\n    <tr>\n      <th>GE</th>\n      <td>0.106669</td>\n    </tr>\n    <tr>\n      <th>F</th>\n      <td>0.156659</td>\n    </tr>\n    <tr>\n      <th>MSFT</th>\n      <td>0.912219</td>\n    </tr>\n    <tr>\n      <th>NIO</th>\n      <td>3.100214</td>\n    </tr>\n    <tr>\n      <th>PFE</th>\n      <td>0.029778</td>\n    </tr>\n    <tr>\n      <th>AMZN</th>\n      <td>1.519317</td>\n    </tr>\n    <tr>\n      <th>AAL</th>\n      <td>-0.063540</td>\n    </tr>\n    <tr>\n      <th>DIS</th>\n      <td>0.635796</td>\n    </tr>\n    <tr>\n      <th>PLUG</th>\n      <td>2.682889</td>\n    </tr>\n  </tbody>\n</table>\n</div>"
     },
     "metadata": {},
     "execution_count": 16
    }
   ],
   "source": [
    "sharpe_ratio_df = pd.DataFrame(sharpe_ratio, columns=[\"Sharpe Ratio\"])\n",
    "sharpe_ratio_df"
   ]
  },
  {
   "cell_type": "code",
   "execution_count": 17,
   "metadata": {},
   "outputs": [
    {
     "output_type": "execute_result",
     "data": {
      "text/plain": [
       "      Standard Dev  Sharpe Ratio\n",
       "AAPL      0.879287     -0.132435\n",
       "TSLA      1.181754      1.347716\n",
       "GE        0.628945      0.106669\n",
       "F         0.562213      0.156659\n",
       "MSFT      0.442022      0.912219\n",
       "NIO       1.025690      3.100214\n",
       "PFE       0.360994      0.029778\n",
       "AMZN      0.389036      1.519317\n",
       "AAL       1.039451     -0.063540\n",
       "DIS       0.490456      0.635796\n",
       "PLUG      0.970465      2.682889"
      ],
      "text/html": "<div>\n<style scoped>\n    .dataframe tbody tr th:only-of-type {\n        vertical-align: middle;\n    }\n\n    .dataframe tbody tr th {\n        vertical-align: top;\n    }\n\n    .dataframe thead th {\n        text-align: right;\n    }\n</style>\n<table border=\"1\" class=\"dataframe\">\n  <thead>\n    <tr style=\"text-align: right;\">\n      <th></th>\n      <th>Standard Dev</th>\n      <th>Sharpe Ratio</th>\n    </tr>\n  </thead>\n  <tbody>\n    <tr>\n      <th>AAPL</th>\n      <td>0.879287</td>\n      <td>-0.132435</td>\n    </tr>\n    <tr>\n      <th>TSLA</th>\n      <td>1.181754</td>\n      <td>1.347716</td>\n    </tr>\n    <tr>\n      <th>GE</th>\n      <td>0.628945</td>\n      <td>0.106669</td>\n    </tr>\n    <tr>\n      <th>F</th>\n      <td>0.562213</td>\n      <td>0.156659</td>\n    </tr>\n    <tr>\n      <th>MSFT</th>\n      <td>0.442022</td>\n      <td>0.912219</td>\n    </tr>\n    <tr>\n      <th>NIO</th>\n      <td>1.025690</td>\n      <td>3.100214</td>\n    </tr>\n    <tr>\n      <th>PFE</th>\n      <td>0.360994</td>\n      <td>0.029778</td>\n    </tr>\n    <tr>\n      <th>AMZN</th>\n      <td>0.389036</td>\n      <td>1.519317</td>\n    </tr>\n    <tr>\n      <th>AAL</th>\n      <td>1.039451</td>\n      <td>-0.063540</td>\n    </tr>\n    <tr>\n      <th>DIS</th>\n      <td>0.490456</td>\n      <td>0.635796</td>\n    </tr>\n    <tr>\n      <th>PLUG</th>\n      <td>0.970465</td>\n      <td>2.682889</td>\n    </tr>\n  </tbody>\n</table>\n</div>"
     },
     "metadata": {},
     "execution_count": 17
    }
   ],
   "source": [
    "sharpe_and_std = pd.concat([standard_df, sharpe_ratio_df], axis=1) \n",
    "sharpe_and_std"
   ]
  },
  {
   "cell_type": "code",
   "execution_count": 18,
   "metadata": {},
   "outputs": [
    {
     "output_type": "error",
     "ename": "NameError",
     "evalue": "name 'sharpes' is not defined",
     "traceback": [
      "\u001b[1;31m---------------------------------------------------------------------------\u001b[0m",
      "\u001b[1;31mNameError\u001b[0m                                 Traceback (most recent call last)",
      "\u001b[1;32m<ipython-input-18-5ceae8a796dc>\u001b[0m in \u001b[0;36m<module>\u001b[1;34m\u001b[0m\n\u001b[1;32m----> 1\u001b[1;33m \u001b[0mrisky\u001b[0m \u001b[1;33m=\u001b[0m \u001b[0msharpes\u001b[0m \u001b[1;33m>\u001b[0m \u001b[1;36m1\u001b[0m\u001b[1;33m\u001b[0m\u001b[1;33m\u001b[0m\u001b[0m\n\u001b[0m\u001b[0;32m      2\u001b[0m \u001b[0mprint\u001b[0m\u001b[1;33m(\u001b[0m\u001b[0mrisky\u001b[0m\u001b[1;33m)\u001b[0m\u001b[1;33m\u001b[0m\u001b[1;33m\u001b[0m\u001b[0m\n",
      "\u001b[1;31mNameError\u001b[0m: name 'sharpes' is not defined"
     ]
    }
   ],
   "source": [
    "risky = sharpes > 1\n",
    "print(risky)"
   ]
  },
  {
   "cell_type": "code",
   "execution_count": 125,
   "metadata": {},
   "outputs": [
    {
     "output_type": "execute_result",
     "data": {
      "text/plain": [
       "SPCE     0.863942\n",
       "CPRX     0.578971\n",
       "BABA     0.438715\n",
       "AMZN     0.362346\n",
       "SNE      0.253663\n",
       "APHA     0.739849\n",
       "GOOGL    0.277827\n",
       "MSFT     0.303580\n",
       "NRZ      0.447058\n",
       "PLUG     0.872127\n",
       "PTON     0.730583\n",
       "dtype: float64"
      ]
     },
     "metadata": {},
     "execution_count": 125
    }
   ],
   "source": [
    "#Volatility\n",
    "ann_sd = df_closing_prices.pct_change().apply(lambda x: np.log(1+x)).std().apply(lambda x: x*np.sqrt(252))\n",
    "ann_sd"
   ]
  }
 ]
}